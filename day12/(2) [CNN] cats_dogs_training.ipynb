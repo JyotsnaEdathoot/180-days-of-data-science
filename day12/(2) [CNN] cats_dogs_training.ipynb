{
 "metadata": {
  "language_info": {
   "codemirror_mode": {
    "name": "ipython",
    "version": 3
   },
   "file_extension": ".py",
   "mimetype": "text/x-python",
   "name": "python",
   "nbconvert_exporter": "python",
   "pygments_lexer": "ipython3",
   "version": "3.9.0"
  },
  "orig_nbformat": 2,
  "kernelspec": {
   "name": "python390jvsc74a57bd006cb67651ce969e244f20f184e33f4ddb1106793adfe07cf7ddc131c95c4012f",
   "display_name": "Python 3.9.0 64-bit"
  }
 },
 "nbformat": 4,
 "nbformat_minor": 2,
 "cells": [
  {
   "source": [
    "## Training\n",
    "\n",
    "Actually you can skip into the step 3, because it same with the step 3\n",
    "\n",
    "The purpose is to build the model which we run in step 4\n",
    "\n",
    "If you don't see the model, perhaps my configuration of *.gitignore* is success"
   ],
   "cell_type": "markdown",
   "metadata": {}
  },
  {
   "cell_type": "code",
   "execution_count": 1,
   "metadata": {},
   "outputs": [],
   "source": [
    "import pickle"
   ]
  },
  {
   "cell_type": "code",
   "execution_count": 2,
   "metadata": {},
   "outputs": [],
   "source": [
    "X = pickle.load(open('X.pkl', 'rb'))\n",
    "y = pickle.load(open('y.pkl', 'rb'))"
   ]
  },
  {
   "cell_type": "code",
   "execution_count": 3,
   "metadata": {},
   "outputs": [
    {
     "output_type": "execute_result",
     "data": {
      "text/plain": [
       "array([[[ 32,  35,  55, ...,  79,  86, 153],\n",
       "        [ 32,  36,  55, ...,  26,  54,  67],\n",
       "        [ 30,  35,  55, ...,   6,  17,  16],\n",
       "        ...,\n",
       "        [143, 146, 145, ..., 125, 118, 107],\n",
       "        [144, 144, 144, ..., 128, 126, 115],\n",
       "        [142, 140, 144, ..., 126, 126, 114]],\n",
       "\n",
       "       [[ 81,  81,  81, ...,  30,  29,  30],\n",
       "        [ 86,  88,  84, ...,  31,  31,  31],\n",
       "        [ 91,  91,  91, ...,  34,  32,  32],\n",
       "        ...,\n",
       "        [ 16,  16,  16, ...,  17,  13,   8],\n",
       "        [ 13,  13,  13, ..., 178, 124,  97],\n",
       "        [ 12,  12,  12, ..., 226, 170, 125]],\n",
       "\n",
       "       [[ 48,  48,  25, ...,   6,  55,  16],\n",
       "        [  6,  21,  45, ...,  26,  77,  36],\n",
       "        [ 28,  63,   8, ...,  38,  34,   9],\n",
       "        ...,\n",
       "        [ 31,  23,  29, ...,  91,  86,  81],\n",
       "        [ 24,  13,  26, ...,  86,  76,  68],\n",
       "        [ 22,  18,  20, ...,  77,  73,  63]],\n",
       "\n",
       "       ...,\n",
       "\n",
       "       [[  6,  20,  24, ...,  77,  90,  90],\n",
       "        [ 15,   7,  19, ..., 103,  60,  77],\n",
       "        [ 16,  19,  20, ...,  61,  92,  96],\n",
       "        ...,\n",
       "        [ 13,   7,  11, ...,  60,  56,  61],\n",
       "        [ 16,  11,  10, ...,  80,  86,  65],\n",
       "        [ 21,   3, 106, ...,  65,  42,  71]],\n",
       "\n",
       "       [[ 77, 113,  82, ..., 100,  76, 104],\n",
       "        [ 64,  73,  67, ...,  92,  93,  79],\n",
       "        [ 74,  90, 120, ...,  78, 120,  94],\n",
       "        ...,\n",
       "        [ 78,  93,  75, ...,  72,  89,  70],\n",
       "        [ 79,  79,  71, ...,  81,  54,  81],\n",
       "        [ 83,  81, 104, ...,  64,  46,  85]],\n",
       "\n",
       "       [[135, 136, 125, ..., 106,  85,  84],\n",
       "        [141, 140, 152, ...,  99,  97,  94],\n",
       "        [136, 129, 142, ..., 117,  98, 122],\n",
       "        ...,\n",
       "        [ 84,  70,  57, ...,  82,  96,  86],\n",
       "        [ 81,  94,  73, ..., 117, 123, 108],\n",
       "        [ 98,  77,  61, ...,  95,  97, 100]]], dtype=uint8)"
      ]
     },
     "metadata": {},
     "execution_count": 3
    }
   ],
   "source": [
    "X"
   ]
  },
  {
   "cell_type": "code",
   "execution_count": 4,
   "metadata": {},
   "outputs": [
    {
     "output_type": "execute_result",
     "data": {
      "text/plain": [
       "array([0, 0, 0, ..., 1, 1, 1])"
      ]
     },
     "metadata": {},
     "execution_count": 4
    }
   ],
   "source": [
    "y"
   ]
  },
  {
   "cell_type": "code",
   "execution_count": 5,
   "metadata": {},
   "outputs": [],
   "source": [
    "X = X/255"
   ]
  },
  {
   "cell_type": "code",
   "execution_count": 6,
   "metadata": {},
   "outputs": [
    {
     "output_type": "execute_result",
     "data": {
      "text/plain": [
       "array([[[0.1254902 , 0.1372549 , 0.21568627, ..., 0.30980392,\n",
       "         0.3372549 , 0.6       ],\n",
       "        [0.1254902 , 0.14117647, 0.21568627, ..., 0.10196078,\n",
       "         0.21176471, 0.2627451 ],\n",
       "        [0.11764706, 0.1372549 , 0.21568627, ..., 0.02352941,\n",
       "         0.06666667, 0.0627451 ],\n",
       "        ...,\n",
       "        [0.56078431, 0.57254902, 0.56862745, ..., 0.49019608,\n",
       "         0.4627451 , 0.41960784],\n",
       "        [0.56470588, 0.56470588, 0.56470588, ..., 0.50196078,\n",
       "         0.49411765, 0.45098039],\n",
       "        [0.55686275, 0.54901961, 0.56470588, ..., 0.49411765,\n",
       "         0.49411765, 0.44705882]],\n",
       "\n",
       "       [[0.31764706, 0.31764706, 0.31764706, ..., 0.11764706,\n",
       "         0.11372549, 0.11764706],\n",
       "        [0.3372549 , 0.34509804, 0.32941176, ..., 0.12156863,\n",
       "         0.12156863, 0.12156863],\n",
       "        [0.35686275, 0.35686275, 0.35686275, ..., 0.13333333,\n",
       "         0.1254902 , 0.1254902 ],\n",
       "        ...,\n",
       "        [0.0627451 , 0.0627451 , 0.0627451 , ..., 0.06666667,\n",
       "         0.05098039, 0.03137255],\n",
       "        [0.05098039, 0.05098039, 0.05098039, ..., 0.69803922,\n",
       "         0.48627451, 0.38039216],\n",
       "        [0.04705882, 0.04705882, 0.04705882, ..., 0.88627451,\n",
       "         0.66666667, 0.49019608]],\n",
       "\n",
       "       [[0.18823529, 0.18823529, 0.09803922, ..., 0.02352941,\n",
       "         0.21568627, 0.0627451 ],\n",
       "        [0.02352941, 0.08235294, 0.17647059, ..., 0.10196078,\n",
       "         0.30196078, 0.14117647],\n",
       "        [0.10980392, 0.24705882, 0.03137255, ..., 0.14901961,\n",
       "         0.13333333, 0.03529412],\n",
       "        ...,\n",
       "        [0.12156863, 0.09019608, 0.11372549, ..., 0.35686275,\n",
       "         0.3372549 , 0.31764706],\n",
       "        [0.09411765, 0.05098039, 0.10196078, ..., 0.3372549 ,\n",
       "         0.29803922, 0.26666667],\n",
       "        [0.08627451, 0.07058824, 0.07843137, ..., 0.30196078,\n",
       "         0.28627451, 0.24705882]],\n",
       "\n",
       "       ...,\n",
       "\n",
       "       [[0.02352941, 0.07843137, 0.09411765, ..., 0.30196078,\n",
       "         0.35294118, 0.35294118],\n",
       "        [0.05882353, 0.02745098, 0.0745098 , ..., 0.40392157,\n",
       "         0.23529412, 0.30196078],\n",
       "        [0.0627451 , 0.0745098 , 0.07843137, ..., 0.23921569,\n",
       "         0.36078431, 0.37647059],\n",
       "        ...,\n",
       "        [0.05098039, 0.02745098, 0.04313725, ..., 0.23529412,\n",
       "         0.21960784, 0.23921569],\n",
       "        [0.0627451 , 0.04313725, 0.03921569, ..., 0.31372549,\n",
       "         0.3372549 , 0.25490196],\n",
       "        [0.08235294, 0.01176471, 0.41568627, ..., 0.25490196,\n",
       "         0.16470588, 0.27843137]],\n",
       "\n",
       "       [[0.30196078, 0.44313725, 0.32156863, ..., 0.39215686,\n",
       "         0.29803922, 0.40784314],\n",
       "        [0.25098039, 0.28627451, 0.2627451 , ..., 0.36078431,\n",
       "         0.36470588, 0.30980392],\n",
       "        [0.29019608, 0.35294118, 0.47058824, ..., 0.30588235,\n",
       "         0.47058824, 0.36862745],\n",
       "        ...,\n",
       "        [0.30588235, 0.36470588, 0.29411765, ..., 0.28235294,\n",
       "         0.34901961, 0.2745098 ],\n",
       "        [0.30980392, 0.30980392, 0.27843137, ..., 0.31764706,\n",
       "         0.21176471, 0.31764706],\n",
       "        [0.3254902 , 0.31764706, 0.40784314, ..., 0.25098039,\n",
       "         0.18039216, 0.33333333]],\n",
       "\n",
       "       [[0.52941176, 0.53333333, 0.49019608, ..., 0.41568627,\n",
       "         0.33333333, 0.32941176],\n",
       "        [0.55294118, 0.54901961, 0.59607843, ..., 0.38823529,\n",
       "         0.38039216, 0.36862745],\n",
       "        [0.53333333, 0.50588235, 0.55686275, ..., 0.45882353,\n",
       "         0.38431373, 0.47843137],\n",
       "        ...,\n",
       "        [0.32941176, 0.2745098 , 0.22352941, ..., 0.32156863,\n",
       "         0.37647059, 0.3372549 ],\n",
       "        [0.31764706, 0.36862745, 0.28627451, ..., 0.45882353,\n",
       "         0.48235294, 0.42352941],\n",
       "        [0.38431373, 0.30196078, 0.23921569, ..., 0.37254902,\n",
       "         0.38039216, 0.39215686]]])"
      ]
     },
     "metadata": {},
     "execution_count": 6
    }
   ],
   "source": [
    "X"
   ]
  },
  {
   "cell_type": "code",
   "execution_count": 7,
   "metadata": {},
   "outputs": [
    {
     "output_type": "execute_result",
     "data": {
      "text/plain": [
       "(25000, 60, 60)"
      ]
     },
     "metadata": {},
     "execution_count": 7
    }
   ],
   "source": [
    "X.shape"
   ]
  },
  {
   "cell_type": "code",
   "execution_count": 8,
   "metadata": {},
   "outputs": [
    {
     "output_type": "execute_result",
     "data": {
      "text/plain": [
       "(25000,)"
      ]
     },
     "metadata": {},
     "execution_count": 8
    }
   ],
   "source": [
    "y.shape"
   ]
  },
  {
   "cell_type": "code",
   "execution_count": 10,
   "metadata": {},
   "outputs": [],
   "source": [
    "X = X.reshape(-1, 60, 60, 1)"
   ]
  },
  {
   "cell_type": "code",
   "execution_count": 12,
   "metadata": {},
   "outputs": [
    {
     "output_type": "execute_result",
     "data": {
      "text/plain": [
       "(25000, 60, 60, 1)"
      ]
     },
     "metadata": {},
     "execution_count": 12
    }
   ],
   "source": [
    "X.shape"
   ]
  },
  {
   "cell_type": "code",
   "execution_count": 13,
   "metadata": {},
   "outputs": [],
   "source": [
    "from keras.layers import Conv2D, MaxPooling2D, Dense, Flatten\n",
    "from keras.models import Sequential"
   ]
  },
  {
   "cell_type": "code",
   "execution_count": 14,
   "metadata": {},
   "outputs": [],
   "source": [
    "model = Sequential()\n",
    "\n",
    "model.add(Conv2D(64, (3,3), activation='relu'))\n",
    "model.add(MaxPooling2D((2,2)))\n",
    "\n",
    "model.add(Conv2D(64, (3,3), activation='relu'))\n",
    "model.add(MaxPooling2D((2,2)))\n",
    "\n",
    "model.add(Flatten())\n",
    "\n",
    "model.add(Dense(128, input_shape=X.shape[1:],activation='relu'))\n",
    "\n",
    "model.add(Dense(2, activation='softmax'))"
   ]
  },
  {
   "cell_type": "code",
   "execution_count": 15,
   "metadata": {},
   "outputs": [],
   "source": [
    "model.compile(optimizer='adam',\n",
    "                loss='sparse_categorical_crossentropy',\n",
    "                metrics=['accuracy'])"
   ]
  },
  {
   "cell_type": "code",
   "execution_count": 16,
   "metadata": {},
   "outputs": [
    {
     "output_type": "stream",
     "name": "stdout",
     "text": [
      "Epoch 1/5\n",
      "WARNING:tensorflow:AutoGraph could not transform <bound method Dense.call of <keras.layers.core.Dense object at 0x000002281802BB50>> and will run it as-is.\n",
      "Please report this to the TensorFlow team. When filing the bug, set the verbosity to 10 (on Linux, `export AUTOGRAPH_VERBOSITY=10`) and attach the full output.\n",
      "Cause: invalid syntax (tmpqrw8lh_6.py, line 48)\n",
      "To silence this warning, decorate the function with @tf.autograph.experimental.do_not_convert\n",
      "WARNING: AutoGraph could not transform <bound method Dense.call of <keras.layers.core.Dense object at 0x000002281802BB50>> and will run it as-is.\n",
      "Please report this to the TensorFlow team. When filing the bug, set the verbosity to 10 (on Linux, `export AUTOGRAPH_VERBOSITY=10`) and attach the full output.\n",
      "Cause: invalid syntax (tmpqrw8lh_6.py, line 48)\n",
      "To silence this warning, decorate the function with @tf.autograph.experimental.do_not_convert\n",
      "704/704 [==============================] - 96s 109ms/step - loss: 0.6584 - accuracy: 0.5966 - val_loss: 0.5411 - val_accuracy: 0.7268\n",
      "Epoch 2/5\n",
      "704/704 [==============================] - 77s 109ms/step - loss: 0.5062 - accuracy: 0.7554 - val_loss: 0.5139 - val_accuracy: 0.7528\n",
      "Epoch 3/5\n",
      "704/704 [==============================] - 84s 119ms/step - loss: 0.4504 - accuracy: 0.7893 - val_loss: 0.4782 - val_accuracy: 0.7680\n",
      "Epoch 4/5\n",
      "704/704 [==============================] - 90s 128ms/step - loss: 0.3974 - accuracy: 0.8202 - val_loss: 0.4450 - val_accuracy: 0.7912\n",
      "Epoch 5/5\n",
      "704/704 [==============================] - 88s 125ms/step - loss: 0.3402 - accuracy: 0.8516 - val_loss: 0.4480 - val_accuracy: 0.7956\n"
     ]
    },
    {
     "output_type": "execute_result",
     "data": {
      "text/plain": [
       "<keras.callbacks.History at 0x22817af0100>"
      ]
     },
     "metadata": {},
     "execution_count": 16
    }
   ],
   "source": [
    "model.fit(X, y, epochs=5, validation_split=0.1)"
   ]
  },
  {
   "cell_type": "code",
   "execution_count": 17,
   "metadata": {},
   "outputs": [
    {
     "output_type": "execute_result",
     "data": {
      "text/plain": [
       "(25000, 60, 60, 1)"
      ]
     },
     "metadata": {},
     "execution_count": 17
    }
   ],
   "source": [
    "X.shape"
   ]
  }
 ]
}