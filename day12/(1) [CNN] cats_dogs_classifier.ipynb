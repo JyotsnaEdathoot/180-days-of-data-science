{
 "metadata": {
  "language_info": {
   "codemirror_mode": {
    "name": "ipython",
    "version": 3
   },
   "file_extension": ".py",
   "mimetype": "text/x-python",
   "name": "python",
   "nbconvert_exporter": "python",
   "pygments_lexer": "ipython3",
   "version": "3.9.0"
  },
  "orig_nbformat": 2,
  "kernelspec": {
   "name": "python390jvsc74a57bd006cb67651ce969e244f20f184e33f4ddb1106793adfe07cf7ddc131c95c4012f",
   "display_name": "Python 3.9.0 64-bit"
  }
 },
 "nbformat": 4,
 "nbformat_minor": 2,
 "cells": [
  {
   "source": [
    "# Dog & Cat Classification\n",
    "\n",
    "The purpose for this notebook is to save the dataset into pickle so it can be reusable\n",
    "\n",
    "Original Youtube Tutorial: [link](https://www.youtube.com/watch?v=FLf5qmSOkwU)"
   ],
   "cell_type": "markdown",
   "metadata": {}
  },
  {
   "source": [
    "## Importing Modules and Dataset"
   ],
   "cell_type": "markdown",
   "metadata": {}
  },
  {
   "cell_type": "code",
   "execution_count": 1,
   "metadata": {},
   "outputs": [],
   "source": [
    "import matplotlib.pyplot as plt\n",
    "import numpy as np\n",
    "import cv2\n",
    "import os"
   ]
  },
  {
   "cell_type": "code",
   "execution_count": 2,
   "metadata": {},
   "outputs": [],
   "source": [
    "directory = 'dataset'\n",
    "categories = ['cats', 'dogs']\n"
   ]
  },
  {
   "cell_type": "code",
   "execution_count": 4,
   "metadata": {},
   "outputs": [],
   "source": [
    "data = []\n",
    "\n",
    "for category in categories:\n",
    "    path = os.path.join(directory, category)\n",
    "    for img in os.listdir(path):\n",
    "        img_path = os.path.join(path, img)\n",
    "        label = categories.index(category)\n",
    "        arr = cv2.imread(img_path, cv2.IMREAD_GRAYSCALE)\n",
    "        # plt.imshow(arr)\n",
    "        # break\n",
    "        new_arr = cv2.resize(arr, (60, 60))\n",
    "        data.append([new_arr, label])\n"
   ]
  },
  {
   "cell_type": "code",
   "execution_count": 5,
   "metadata": {},
   "outputs": [
    {
     "output_type": "execute_result",
     "data": {
      "text/plain": [
       "0"
      ]
     },
     "metadata": {},
     "execution_count": 5
    }
   ],
   "source": [
    "data[0][1]"
   ]
  },
  {
   "source": [
    "## Randomize the Data"
   ],
   "cell_type": "markdown",
   "metadata": {}
  },
  {
   "cell_type": "code",
   "execution_count": 8,
   "metadata": {},
   "outputs": [],
   "source": [
    "import random\n",
    "\n",
    "random.shuffle(data)"
   ]
  },
  {
   "cell_type": "code",
   "execution_count": 9,
   "metadata": {},
   "outputs": [],
   "source": [
    "X = []\n",
    "y = []"
   ]
  },
  {
   "cell_type": "code",
   "execution_count": 10,
   "metadata": {},
   "outputs": [],
   "source": [
    "for features, label in data:\n",
    "    X.append(features)\n",
    "    y.append(label)"
   ]
  },
  {
   "cell_type": "code",
   "execution_count": 11,
   "metadata": {},
   "outputs": [],
   "source": [
    "X = np.array(X)\n",
    "y = np.array(y)"
   ]
  },
  {
   "cell_type": "code",
   "execution_count": 12,
   "metadata": {},
   "outputs": [
    {
     "output_type": "execute_result",
     "data": {
      "text/plain": [
       "array([[[ 32,  35,  55, ...,  79,  86, 153],\n",
       "        [ 32,  36,  55, ...,  26,  54,  67],\n",
       "        [ 30,  35,  55, ...,   6,  17,  16],\n",
       "        ...,\n",
       "        [143, 146, 145, ..., 125, 118, 107],\n",
       "        [144, 144, 144, ..., 128, 126, 115],\n",
       "        [142, 140, 144, ..., 126, 126, 114]],\n",
       "\n",
       "       [[ 81,  81,  81, ...,  30,  29,  30],\n",
       "        [ 86,  88,  84, ...,  31,  31,  31],\n",
       "        [ 91,  91,  91, ...,  34,  32,  32],\n",
       "        ...,\n",
       "        [ 16,  16,  16, ...,  17,  13,   8],\n",
       "        [ 13,  13,  13, ..., 178, 124,  97],\n",
       "        [ 12,  12,  12, ..., 226, 170, 125]],\n",
       "\n",
       "       [[ 48,  48,  25, ...,   6,  55,  16],\n",
       "        [  6,  21,  45, ...,  26,  77,  36],\n",
       "        [ 28,  63,   8, ...,  38,  34,   9],\n",
       "        ...,\n",
       "        [ 31,  23,  29, ...,  91,  86,  81],\n",
       "        [ 24,  13,  26, ...,  86,  76,  68],\n",
       "        [ 22,  18,  20, ...,  77,  73,  63]],\n",
       "\n",
       "       ...,\n",
       "\n",
       "       [[  6,  20,  24, ...,  77,  90,  90],\n",
       "        [ 15,   7,  19, ..., 103,  60,  77],\n",
       "        [ 16,  19,  20, ...,  61,  92,  96],\n",
       "        ...,\n",
       "        [ 13,   7,  11, ...,  60,  56,  61],\n",
       "        [ 16,  11,  10, ...,  80,  86,  65],\n",
       "        [ 21,   3, 106, ...,  65,  42,  71]],\n",
       "\n",
       "       [[ 77, 113,  82, ..., 100,  76, 104],\n",
       "        [ 64,  73,  67, ...,  92,  93,  79],\n",
       "        [ 74,  90, 120, ...,  78, 120,  94],\n",
       "        ...,\n",
       "        [ 78,  93,  75, ...,  72,  89,  70],\n",
       "        [ 79,  79,  71, ...,  81,  54,  81],\n",
       "        [ 83,  81, 104, ...,  64,  46,  85]],\n",
       "\n",
       "       [[135, 136, 125, ..., 106,  85,  84],\n",
       "        [141, 140, 152, ...,  99,  97,  94],\n",
       "        [136, 129, 142, ..., 117,  98, 122],\n",
       "        ...,\n",
       "        [ 84,  70,  57, ...,  82,  96,  86],\n",
       "        [ 81,  94,  73, ..., 117, 123, 108],\n",
       "        [ 98,  77,  61, ...,  95,  97, 100]]], dtype=uint8)"
      ]
     },
     "metadata": {},
     "execution_count": 12
    }
   ],
   "source": [
    "X"
   ]
  },
  {
   "cell_type": "code",
   "execution_count": 13,
   "metadata": {},
   "outputs": [
    {
     "output_type": "execute_result",
     "data": {
      "text/plain": [
       "array([0, 0, 0, ..., 1, 1, 1])"
      ]
     },
     "metadata": {},
     "execution_count": 13
    }
   ],
   "source": [
    "y"
   ]
  },
  {
   "source": [
    "## Saving the Model"
   ],
   "cell_type": "markdown",
   "metadata": {}
  },
  {
   "cell_type": "code",
   "execution_count": 14,
   "metadata": {},
   "outputs": [],
   "source": [
    "import pickle"
   ]
  },
  {
   "cell_type": "code",
   "execution_count": 15,
   "metadata": {},
   "outputs": [],
   "source": [
    "pickle.dump(X, open('X.pkl', 'wb'))\n",
    "pickle.dump(y, open('y.pkl', 'wb'))"
   ]
  }
 ]
}