{
  "nbformat": 4,
  "nbformat_minor": 0,
  "metadata": {
    "orig_nbformat": 4,
    "language_info": {
      "name": "python",
      "version": "3.8.11",
      "mimetype": "text/x-python",
      "codemirror_mode": {
        "name": "ipython",
        "version": 3
      },
      "pygments_lexer": "ipython3",
      "nbconvert_exporter": "python",
      "file_extension": ".py"
    },
    "kernelspec": {
      "name": "python3",
      "display_name": "Python 3.8.11 64-bit ('time_series': conda)"
    },
    "interpreter": {
      "hash": "d99eb7039b842cfd4d40a35954a24b84068896082343f834d49dc09e8ec2b48d"
    },
    "colab": {
      "name": "Copy of predict_indonesian_pop.ipynb",
      "provenance": []
    }
  },
  "cells": [
    {
      "cell_type": "markdown",
      "metadata": {
        "id": "fvUBYcqzl_Jh"
      },
      "source": [
        "# Predicting Indonesian Population"
      ]
    },
    {
      "cell_type": "markdown",
      "metadata": {
        "id": "SUtNqxHRl_Jm"
      },
      "source": [
        "## Import modules"
      ]
    },
    {
      "cell_type": "code",
      "metadata": {
        "id": "DGMK9_iRl_Jp",
        "colab": {
          "base_uri": "https://localhost:8080/"
        },
        "outputId": "7652c2bf-73bc-40d7-aa8a-22f6f4f4d7a2"
      },
      "source": [
        "# Base Modules\n",
        "import matplotlib.pyplot as plt\n",
        "import seaborn as sns\n",
        "import pandas as pd\n",
        "import numpy as np\n",
        "\n",
        "# ARIMA\n",
        "from statsmodels.tsa.arima_model import ARIMA\n",
        "\n",
        "# Errir rate\n",
        "from sklearn.metrics import mean_squared_error\n",
        "\n",
        "# Additions\n",
        "from datetime import datetime\n",
        "import warnings\n",
        "\n",
        "warnings.filterwarnings(\"ignore\")"
      ],
      "execution_count": null,
      "outputs": [
        {
          "output_type": "stream",
          "name": "stderr",
          "text": [
            "/usr/local/lib/python3.7/dist-packages/statsmodels/tools/_testing.py:19: FutureWarning: pandas.util.testing is deprecated. Use the functions in the public API at pandas.testing instead.\n",
            "  import pandas.util.testing as tm\n"
          ]
        }
      ]
    },
    {
      "cell_type": "markdown",
      "metadata": {
        "id": "e6oEK5DIl_Jt"
      },
      "source": [
        "## Problem\n",
        "\n",
        "Forecast Indonesian Population"
      ]
    },
    {
      "cell_type": "code",
      "metadata": {
        "id": "AFiLfBw9l_Ju"
      },
      "source": [
        "data = pd.read_csv('penduduk.csv')"
      ],
      "execution_count": null,
      "outputs": []
    },
    {
      "cell_type": "code",
      "metadata": {
        "id": "5sz0bZZil_Jw",
        "colab": {
          "base_uri": "https://localhost:8080/",
          "height": 202
        },
        "outputId": "9a875a59-e7d3-4139-fecd-6b92eff12960"
      },
      "source": [
        "data.head()"
      ],
      "execution_count": null,
      "outputs": [
        {
          "output_type": "execute_result",
          "data": {
            "text/html": [
              "<div>\n",
              "<style scoped>\n",
              "    .dataframe tbody tr th:only-of-type {\n",
              "        vertical-align: middle;\n",
              "    }\n",
              "\n",
              "    .dataframe tbody tr th {\n",
              "        vertical-align: top;\n",
              "    }\n",
              "\n",
              "    .dataframe thead th {\n",
              "        text-align: right;\n",
              "    }\n",
              "</style>\n",
              "<table border=\"1\" class=\"dataframe\">\n",
              "  <thead>\n",
              "    <tr style=\"text-align: right;\">\n",
              "      <th></th>\n",
              "      <th>Tahun</th>\n",
              "      <th>Tanggal</th>\n",
              "      <th>Pertumbuhan</th>\n",
              "    </tr>\n",
              "  </thead>\n",
              "  <tbody>\n",
              "    <tr>\n",
              "      <th>0</th>\n",
              "      <td>1960</td>\n",
              "      <td>1960-12-31</td>\n",
              "      <td>87751066</td>\n",
              "    </tr>\n",
              "    <tr>\n",
              "      <th>1</th>\n",
              "      <td>1961</td>\n",
              "      <td>1961-12-31</td>\n",
              "      <td>90098396</td>\n",
              "    </tr>\n",
              "    <tr>\n",
              "      <th>2</th>\n",
              "      <td>1962</td>\n",
              "      <td>1962-12-31</td>\n",
              "      <td>92518373</td>\n",
              "    </tr>\n",
              "    <tr>\n",
              "      <th>3</th>\n",
              "      <td>1963</td>\n",
              "      <td>1963-12-31</td>\n",
              "      <td>95015295</td>\n",
              "    </tr>\n",
              "    <tr>\n",
              "      <th>4</th>\n",
              "      <td>1964</td>\n",
              "      <td>1964-12-31</td>\n",
              "      <td>97596728</td>\n",
              "    </tr>\n",
              "  </tbody>\n",
              "</table>\n",
              "</div>"
            ],
            "text/plain": [
              "   Tahun     Tanggal  Pertumbuhan\n",
              "0   1960  1960-12-31     87751066\n",
              "1   1961  1961-12-31     90098396\n",
              "2   1962  1962-12-31     92518373\n",
              "3   1963  1963-12-31     95015295\n",
              "4   1964  1964-12-31     97596728"
            ]
          },
          "metadata": {},
          "execution_count": 3
        }
      ]
    },
    {
      "cell_type": "markdown",
      "metadata": {
        "id": "lT6p2NlWl_Jz"
      },
      "source": [
        "## Use Specific Columns Only"
      ]
    },
    {
      "cell_type": "code",
      "metadata": {
        "id": "EIq-h7hkl_J0"
      },
      "source": [
        "df = data[['Tahun', 'Pertumbuhan']]"
      ],
      "execution_count": null,
      "outputs": []
    },
    {
      "cell_type": "code",
      "metadata": {
        "id": "wG45Eizkl_J1",
        "colab": {
          "base_uri": "https://localhost:8080/",
          "height": 202
        },
        "outputId": "5a468013-6ee0-48fd-86a0-b817747714bd"
      },
      "source": [
        "df.head()"
      ],
      "execution_count": null,
      "outputs": [
        {
          "output_type": "execute_result",
          "data": {
            "text/html": [
              "<div>\n",
              "<style scoped>\n",
              "    .dataframe tbody tr th:only-of-type {\n",
              "        vertical-align: middle;\n",
              "    }\n",
              "\n",
              "    .dataframe tbody tr th {\n",
              "        vertical-align: top;\n",
              "    }\n",
              "\n",
              "    .dataframe thead th {\n",
              "        text-align: right;\n",
              "    }\n",
              "</style>\n",
              "<table border=\"1\" class=\"dataframe\">\n",
              "  <thead>\n",
              "    <tr style=\"text-align: right;\">\n",
              "      <th></th>\n",
              "      <th>Tahun</th>\n",
              "      <th>Pertumbuhan</th>\n",
              "    </tr>\n",
              "  </thead>\n",
              "  <tbody>\n",
              "    <tr>\n",
              "      <th>0</th>\n",
              "      <td>1960</td>\n",
              "      <td>87751066</td>\n",
              "    </tr>\n",
              "    <tr>\n",
              "      <th>1</th>\n",
              "      <td>1961</td>\n",
              "      <td>90098396</td>\n",
              "    </tr>\n",
              "    <tr>\n",
              "      <th>2</th>\n",
              "      <td>1962</td>\n",
              "      <td>92518373</td>\n",
              "    </tr>\n",
              "    <tr>\n",
              "      <th>3</th>\n",
              "      <td>1963</td>\n",
              "      <td>95015295</td>\n",
              "    </tr>\n",
              "    <tr>\n",
              "      <th>4</th>\n",
              "      <td>1964</td>\n",
              "      <td>97596728</td>\n",
              "    </tr>\n",
              "  </tbody>\n",
              "</table>\n",
              "</div>"
            ],
            "text/plain": [
              "   Tahun  Pertumbuhan\n",
              "0   1960     87751066\n",
              "1   1961     90098396\n",
              "2   1962     92518373\n",
              "3   1963     95015295\n",
              "4   1964     97596728"
            ]
          },
          "metadata": {},
          "execution_count": 5
        }
      ]
    },
    {
      "cell_type": "markdown",
      "metadata": {
        "id": "lT4uyBOnl_J2"
      },
      "source": [
        "## Convert Year so It Can be Used"
      ]
    },
    {
      "cell_type": "code",
      "metadata": {
        "id": "Qwps8mlRl_J3"
      },
      "source": [
        "df['Tahun'] = df['Tahun'].astype(str) + '-01-01'\n",
        "df['Tahun'] = pd.to_datetime(df['Tahun'])"
      ],
      "execution_count": null,
      "outputs": []
    },
    {
      "cell_type": "code",
      "metadata": {
        "id": "yFd1tNxhl_J4",
        "colab": {
          "base_uri": "https://localhost:8080/"
        },
        "outputId": "c73d0ced-0900-4195-a434-ad923d9c2a32"
      },
      "source": [
        "df.info()"
      ],
      "execution_count": null,
      "outputs": [
        {
          "output_type": "stream",
          "name": "stdout",
          "text": [
            "<class 'pandas.core.frame.DataFrame'>\n",
            "RangeIndex: 61 entries, 0 to 60\n",
            "Data columns (total 2 columns):\n",
            " #   Column       Non-Null Count  Dtype         \n",
            "---  ------       --------------  -----         \n",
            " 0   Tahun        61 non-null     datetime64[ns]\n",
            " 1   Pertumbuhan  61 non-null     int64         \n",
            "dtypes: datetime64[ns](1), int64(1)\n",
            "memory usage: 1.1 KB\n"
          ]
        }
      ]
    },
    {
      "cell_type": "code",
      "metadata": {
        "id": "3FEzM_Eal_J5",
        "colab": {
          "base_uri": "https://localhost:8080/",
          "height": 202
        },
        "outputId": "85ef05d2-b313-472e-d3d1-76dfababdcca"
      },
      "source": [
        "df.head()"
      ],
      "execution_count": null,
      "outputs": [
        {
          "output_type": "execute_result",
          "data": {
            "text/html": [
              "<div>\n",
              "<style scoped>\n",
              "    .dataframe tbody tr th:only-of-type {\n",
              "        vertical-align: middle;\n",
              "    }\n",
              "\n",
              "    .dataframe tbody tr th {\n",
              "        vertical-align: top;\n",
              "    }\n",
              "\n",
              "    .dataframe thead th {\n",
              "        text-align: right;\n",
              "    }\n",
              "</style>\n",
              "<table border=\"1\" class=\"dataframe\">\n",
              "  <thead>\n",
              "    <tr style=\"text-align: right;\">\n",
              "      <th></th>\n",
              "      <th>Tahun</th>\n",
              "      <th>Pertumbuhan</th>\n",
              "    </tr>\n",
              "  </thead>\n",
              "  <tbody>\n",
              "    <tr>\n",
              "      <th>0</th>\n",
              "      <td>1960-01-01</td>\n",
              "      <td>87751066</td>\n",
              "    </tr>\n",
              "    <tr>\n",
              "      <th>1</th>\n",
              "      <td>1961-01-01</td>\n",
              "      <td>90098396</td>\n",
              "    </tr>\n",
              "    <tr>\n",
              "      <th>2</th>\n",
              "      <td>1962-01-01</td>\n",
              "      <td>92518373</td>\n",
              "    </tr>\n",
              "    <tr>\n",
              "      <th>3</th>\n",
              "      <td>1963-01-01</td>\n",
              "      <td>95015295</td>\n",
              "    </tr>\n",
              "    <tr>\n",
              "      <th>4</th>\n",
              "      <td>1964-01-01</td>\n",
              "      <td>97596728</td>\n",
              "    </tr>\n",
              "  </tbody>\n",
              "</table>\n",
              "</div>"
            ],
            "text/plain": [
              "       Tahun  Pertumbuhan\n",
              "0 1960-01-01     87751066\n",
              "1 1961-01-01     90098396\n",
              "2 1962-01-01     92518373\n",
              "3 1963-01-01     95015295\n",
              "4 1964-01-01     97596728"
            ]
          },
          "metadata": {},
          "execution_count": 8
        }
      ]
    },
    {
      "cell_type": "code",
      "metadata": {
        "id": "naYMVAIfl_J6",
        "colab": {
          "base_uri": "https://localhost:8080/",
          "height": 290
        },
        "outputId": "172d0cee-e125-459d-b4ce-6c4afc6a9a04"
      },
      "source": [
        "df.plot(x='Tahun', y='Pertumbuhan')\n",
        "plt.show()"
      ],
      "execution_count": null,
      "outputs": [
        {
          "output_type": "display_data",
          "data": {
            "image/png": "[encoded data removed]",
            "text/plain": [
              "<Figure size 432x288 with 1 Axes>"
            ]
          },
          "metadata": {
            "needs_background": "light"
          }
        }
      ]
    },
    {
      "cell_type": "markdown",
      "metadata": {
        "id": "89H5Opefl_J7"
      },
      "source": [
        "## Split data"
      ]
    },
    {
      "cell_type": "code",
      "metadata": {
        "id": "gZWT_CTXl_KA",
        "colab": {
          "base_uri": "https://localhost:8080/"
        },
        "outputId": "a1ab993f-e3d5-4c81-ec4f-90510edb6c93"
      },
      "source": [
        "X_train = df[df['Tahun'] < '2016-01-01']\n",
        "X_valid = df[df['Tahun'] >= '2008-01-01']\n",
        "\n",
        "print(\"X_train Shape\", X_train.shape)\n",
        "print(\"X_valid Shape\", X_valid.shape)"
      ],
      "execution_count": null,
      "outputs": [
        {
          "output_type": "stream",
          "name": "stdout",
          "text": [
            "X_train Shape (56, 2)\n",
            "X_valid Shape (13, 2)\n"
          ]
        }
      ]
    },
    {
      "cell_type": "code",
      "metadata": {
        "id": "6SF2I7_jl_KC"
      },
      "source": [
        "tahun = X_train[['Tahun', 'Pertumbuhan']]\n",
        "tahun_v = X_valid[['Tahun', 'Pertumbuhan']]"
      ],
      "execution_count": null,
      "outputs": []
    },
    {
      "cell_type": "code",
      "metadata": {
        "id": "pn_5a44Zl_KD"
      },
      "source": [
        "tahun.set_index('Tahun', inplace=True)\n",
        "tahun_v.set_index('Tahun', inplace=True)"
      ],
      "execution_count": null,
      "outputs": []
    },
    {
      "cell_type": "code",
      "metadata": {
        "id": "D8PV_DKgl_KF"
      },
      "source": [
        "index_50_years = pd.date_range(tahun_v.index[-1], freq='AS', periods=50)"
      ],
      "execution_count": null,
      "outputs": []
    },
    {
      "cell_type": "code",
      "metadata": {
        "id": "VcKru0Fml_KG",
        "colab": {
          "base_uri": "https://localhost:8080/"
        },
        "outputId": "7f4eb20e-9855-45dd-83ea-09b8ba3c09b1"
      },
      "source": [
        "index_50_years"
      ],
      "execution_count": null,
      "outputs": [
        {
          "output_type": "execute_result",
          "data": {
            "text/plain": [
              "DatetimeIndex(['2020-01-01', '2021-01-01', '2022-01-01', '2023-01-01',\n",
              "               '2024-01-01', '2025-01-01', '2026-01-01', '2027-01-01',\n",
              "               '2028-01-01', '2029-01-01', '2030-01-01', '2031-01-01',\n",
              "               '2032-01-01', '2033-01-01', '2034-01-01', '2035-01-01',\n",
              "               '2036-01-01', '2037-01-01', '2038-01-01', '2039-01-01',\n",
              "               '2040-01-01', '2041-01-01', '2042-01-01', '2043-01-01',\n",
              "               '2044-01-01', '2045-01-01', '2046-01-01', '2047-01-01',\n",
              "               '2048-01-01', '2049-01-01', '2050-01-01', '2051-01-01',\n",
              "               '2052-01-01', '2053-01-01', '2054-01-01', '2055-01-01',\n",
              "               '2056-01-01', '2057-01-01', '2058-01-01', '2059-01-01',\n",
              "               '2060-01-01', '2061-01-01', '2062-01-01', '2063-01-01',\n",
              "               '2064-01-01', '2065-01-01', '2066-01-01', '2067-01-01',\n",
              "               '2068-01-01', '2069-01-01'],\n",
              "              dtype='datetime64[ns]', freq='AS-JAN')"
            ]
          },
          "metadata": {},
          "execution_count": 16
        }
      ]
    },
    {
      "cell_type": "code",
      "metadata": {
        "id": "23XwLgn5l_KH",
        "colab": {
          "base_uri": "https://localhost:8080/",
          "height": 574
        },
        "outputId": "aef7a0ff-7852-46a3-99a4-67edbf618b3c"
      },
      "source": [
        "model_arima = ARIMA(tahun_v, order=(2,0,0))\n",
        "model_arima_fit = model_arima.fit(disp=-1)\n",
        "\n",
        "forecast = model_arima_fit.forecast(50)[0]\n",
        "\n",
        "# Passing the same index for the forecasting\n",
        "forecast = pd.Series(forecast, index=index_50_years)\n",
        "forecast = forecast.rename(\"ARIMA\")\n",
        "\n",
        "# Plotting\n",
        "fig, ax = plt.subplots(figsize=(25,10))\n",
        "chart = sns.lineplot(x='Tahun', y='Pertumbuhan', data=tahun)\n",
        "forecast.plot(ax=ax, color='red', marker='o', legend=True)\n",
        "tahun_v.plot(ax=ax, color='blue', marker='o', legend=True)\n",
        "plt.show()"
      ],
      "execution_count": null,
      "outputs": [
        {
          "output_type": "display_data",
          "data": {
            "image/png": "[encoded data removed]",
            "text/plain": [
              "<Figure size 1800x720 with 1 Axes>"
            ]
          },
          "metadata": {
            "needs_background": "light"
          }
        }
      ]
    },
    {
      "cell_type": "markdown",
      "metadata": {
        "id": "qIGQ6THtl_KM"
      },
      "source": [
        "## Concat the Result"
      ]
    },
    {
      "cell_type": "code",
      "metadata": {
        "id": "Lc-cVxqPl_KM",
        "colab": {
          "base_uri": "https://localhost:8080/"
        },
        "outputId": "f6b7d477-ea94-4489-e347-7aa353b904cd"
      },
      "source": [
        "df.shape"
      ],
      "execution_count": null,
      "outputs": [
        {
          "output_type": "execute_result",
          "data": {
            "text/plain": [
              "(61, 2)"
            ]
          },
          "metadata": {},
          "execution_count": 19
        }
      ]
    },
    {
      "cell_type": "code",
      "metadata": {
        "id": "imU8jMcDl_KN"
      },
      "source": [
        "df_fcast = forecast.to_frame()"
      ],
      "execution_count": null,
      "outputs": []
    },
    {
      "cell_type": "code",
      "metadata": {
        "id": "3hfNFwswl_KO",
        "colab": {
          "base_uri": "https://localhost:8080/"
        },
        "outputId": "deafa99c-0dec-4f7e-bf5e-08631c7449f0"
      },
      "source": [
        "df_fcast.shape"
      ],
      "execution_count": null,
      "outputs": [
        {
          "output_type": "execute_result",
          "data": {
            "text/plain": [
              "(50, 1)"
            ]
          },
          "metadata": {},
          "execution_count": 21
        }
      ]
    },
    {
      "cell_type": "code",
      "metadata": {
        "id": "9Dsb2fkil_KO",
        "colab": {
          "base_uri": "https://localhost:8080/",
          "height": 202
        },
        "outputId": "0fef0c91-710c-4829-821f-cb231ecede7e"
      },
      "source": [
        "df.head()"
      ],
      "execution_count": null,
      "outputs": [
        {
          "output_type": "execute_result",
          "data": {
            "text/html": [
              "<div>\n",
              "<style scoped>\n",
              "    .dataframe tbody tr th:only-of-type {\n",
              "        vertical-align: middle;\n",
              "    }\n",
              "\n",
              "    .dataframe tbody tr th {\n",
              "        vertical-align: top;\n",
              "    }\n",
              "\n",
              "    .dataframe thead th {\n",
              "        text-align: right;\n",
              "    }\n",
              "</style>\n",
              "<table border=\"1\" class=\"dataframe\">\n",
              "  <thead>\n",
              "    <tr style=\"text-align: right;\">\n",
              "      <th></th>\n",
              "      <th>Tahun</th>\n",
              "      <th>Pertumbuhan</th>\n",
              "    </tr>\n",
              "  </thead>\n",
              "  <tbody>\n",
              "    <tr>\n",
              "      <th>0</th>\n",
              "      <td>1960-01-01</td>\n",
              "      <td>87751066</td>\n",
              "    </tr>\n",
              "    <tr>\n",
              "      <th>1</th>\n",
              "      <td>1961-01-01</td>\n",
              "      <td>90098396</td>\n",
              "    </tr>\n",
              "    <tr>\n",
              "      <th>2</th>\n",
              "      <td>1962-01-01</td>\n",
              "      <td>92518373</td>\n",
              "    </tr>\n",
              "    <tr>\n",
              "      <th>3</th>\n",
              "      <td>1963-01-01</td>\n",
              "      <td>95015295</td>\n",
              "    </tr>\n",
              "    <tr>\n",
              "      <th>4</th>\n",
              "      <td>1964-01-01</td>\n",
              "      <td>97596728</td>\n",
              "    </tr>\n",
              "  </tbody>\n",
              "</table>\n",
              "</div>"
            ],
            "text/plain": [
              "       Tahun  Pertumbuhan\n",
              "0 1960-01-01     87751066\n",
              "1 1961-01-01     90098396\n",
              "2 1962-01-01     92518373\n",
              "3 1963-01-01     95015295\n",
              "4 1964-01-01     97596728"
            ]
          },
          "metadata": {},
          "execution_count": 22
        }
      ]
    },
    {
      "cell_type": "code",
      "metadata": {
        "id": "Xdm4aEVCl_KP"
      },
      "source": [
        "df.set_index(\"Tahun\", inplace=True)"
      ],
      "execution_count": null,
      "outputs": []
    },
    {
      "cell_type": "code",
      "metadata": {
        "id": "lqXtsnCLl_KQ",
        "colab": {
          "base_uri": "https://localhost:8080/",
          "height": 202
        },
        "outputId": "16ff663d-2155-49b0-8745-8ef33b3467a7"
      },
      "source": [
        "df_fcast.head()"
      ],
      "execution_count": null,
      "outputs": [
        {
          "output_type": "execute_result",
          "data": {
            "text/html": [
              "<div>\n",
              "<style scoped>\n",
              "    .dataframe tbody tr th:only-of-type {\n",
              "        vertical-align: middle;\n",
              "    }\n",
              "\n",
              "    .dataframe tbody tr th {\n",
              "        vertical-align: top;\n",
              "    }\n",
              "\n",
              "    .dataframe thead th {\n",
              "        text-align: right;\n",
              "    }\n",
              "</style>\n",
              "<table border=\"1\" class=\"dataframe\">\n",
              "  <thead>\n",
              "    <tr style=\"text-align: right;\">\n",
              "      <th></th>\n",
              "      <th>ARIMA</th>\n",
              "    </tr>\n",
              "  </thead>\n",
              "  <tbody>\n",
              "    <tr>\n",
              "      <th>2020-01-01</th>\n",
              "      <td>2.764014e+08</td>\n",
              "    </tr>\n",
              "    <tr>\n",
              "      <th>2021-01-01</th>\n",
              "      <td>2.792591e+08</td>\n",
              "    </tr>\n",
              "    <tr>\n",
              "      <th>2022-01-01</th>\n",
              "      <td>2.820969e+08</td>\n",
              "    </tr>\n",
              "    <tr>\n",
              "      <th>2023-01-01</th>\n",
              "      <td>2.849148e+08</td>\n",
              "    </tr>\n",
              "    <tr>\n",
              "      <th>2024-01-01</th>\n",
              "      <td>2.877130e+08</td>\n",
              "    </tr>\n",
              "  </tbody>\n",
              "</table>\n",
              "</div>"
            ],
            "text/plain": [
              "                   ARIMA\n",
              "2020-01-01  2.764014e+08\n",
              "2021-01-01  2.792591e+08\n",
              "2022-01-01  2.820969e+08\n",
              "2023-01-01  2.849148e+08\n",
              "2024-01-01  2.877130e+08"
            ]
          },
          "metadata": {},
          "execution_count": 24
        }
      ]
    },
    {
      "cell_type": "code",
      "metadata": {
        "id": "D8r8bYqzl_KR"
      },
      "source": [
        "df_fcast.rename(columns=({\"ARIMA\":\"Pertumbuhan\"}), inplace=True)"
      ],
      "execution_count": null,
      "outputs": []
    },
    {
      "cell_type": "code",
      "metadata": {
        "id": "gSGxl-kfl_KS"
      },
      "source": [
        "output_df = pd.DataFrame()"
      ],
      "execution_count": null,
      "outputs": []
    },
    {
      "cell_type": "code",
      "metadata": {
        "id": "PzsYzgWtl_KT"
      },
      "source": [
        "output_df = pd.concat([df, df_fcast], axis=0)"
      ],
      "execution_count": null,
      "outputs": []
    },
    {
      "cell_type": "code",
      "metadata": {
        "id": "j-MLMEu_l_KT",
        "colab": {
          "base_uri": "https://localhost:8080/",
          "height": 202
        },
        "outputId": "b61f5b1d-7dcb-4534-e3f6-73442aedf374"
      },
      "source": [
        "output_df.head()"
      ],
      "execution_count": null,
      "outputs": [
        {
          "output_type": "execute_result",
          "data": {
            "text/html": [
              "<div>\n",
              "<style scoped>\n",
              "    .dataframe tbody tr th:only-of-type {\n",
              "        vertical-align: middle;\n",
              "    }\n",
              "\n",
              "    .dataframe tbody tr th {\n",
              "        vertical-align: top;\n",
              "    }\n",
              "\n",
              "    .dataframe thead th {\n",
              "        text-align: right;\n",
              "    }\n",
              "</style>\n",
              "<table border=\"1\" class=\"dataframe\">\n",
              "  <thead>\n",
              "    <tr style=\"text-align: right;\">\n",
              "      <th></th>\n",
              "      <th>Pertumbuhan</th>\n",
              "    </tr>\n",
              "  </thead>\n",
              "  <tbody>\n",
              "    <tr>\n",
              "      <th>1960-01-01</th>\n",
              "      <td>87751066.0</td>\n",
              "    </tr>\n",
              "    <tr>\n",
              "      <th>1961-01-01</th>\n",
              "      <td>90098396.0</td>\n",
              "    </tr>\n",
              "    <tr>\n",
              "      <th>1962-01-01</th>\n",
              "      <td>92518373.0</td>\n",
              "    </tr>\n",
              "    <tr>\n",
              "      <th>1963-01-01</th>\n",
              "      <td>95015295.0</td>\n",
              "    </tr>\n",
              "    <tr>\n",
              "      <th>1964-01-01</th>\n",
              "      <td>97596728.0</td>\n",
              "    </tr>\n",
              "  </tbody>\n",
              "</table>\n",
              "</div>"
            ],
            "text/plain": [
              "            Pertumbuhan\n",
              "1960-01-01   87751066.0\n",
              "1961-01-01   90098396.0\n",
              "1962-01-01   92518373.0\n",
              "1963-01-01   95015295.0\n",
              "1964-01-01   97596728.0"
            ]
          },
          "metadata": {},
          "execution_count": 28
        }
      ]
    },
    {
      "cell_type": "code",
      "metadata": {
        "id": "JhivjXJhl_KU"
      },
      "source": [
        "output_df.rename_axis(\"Tahun\", inplace=True)"
      ],
      "execution_count": null,
      "outputs": []
    },
    {
      "cell_type": "code",
      "metadata": {
        "id": "RdRWbtZTl_KV",
        "colab": {
          "base_uri": "https://localhost:8080/",
          "height": 232
        },
        "outputId": "a99ef947-d694-4ae2-8575-f44a463cab2c"
      },
      "source": [
        "output_df.tail()"
      ],
      "execution_count": null,
      "outputs": [
        {
          "output_type": "execute_result",
          "data": {
            "text/html": [
              "<div>\n",
              "<style scoped>\n",
              "    .dataframe tbody tr th:only-of-type {\n",
              "        vertical-align: middle;\n",
              "    }\n",
              "\n",
              "    .dataframe tbody tr th {\n",
              "        vertical-align: top;\n",
              "    }\n",
              "\n",
              "    .dataframe thead th {\n",
              "        text-align: right;\n",
              "    }\n",
              "</style>\n",
              "<table border=\"1\" class=\"dataframe\">\n",
              "  <thead>\n",
              "    <tr style=\"text-align: right;\">\n",
              "      <th></th>\n",
              "      <th>Pertumbuhan</th>\n",
              "    </tr>\n",
              "    <tr>\n",
              "      <th>Tahun</th>\n",
              "      <th></th>\n",
              "    </tr>\n",
              "  </thead>\n",
              "  <tbody>\n",
              "    <tr>\n",
              "      <th>2065-01-01</th>\n",
              "      <td>3.870762e+08</td>\n",
              "    </tr>\n",
              "    <tr>\n",
              "      <th>2066-01-01</th>\n",
              "      <td>3.891607e+08</td>\n",
              "    </tr>\n",
              "    <tr>\n",
              "      <th>2067-01-01</th>\n",
              "      <td>3.912307e+08</td>\n",
              "    </tr>\n",
              "    <tr>\n",
              "      <th>2068-01-01</th>\n",
              "      <td>3.932862e+08</td>\n",
              "    </tr>\n",
              "    <tr>\n",
              "      <th>2069-01-01</th>\n",
              "      <td>3.953273e+08</td>\n",
              "    </tr>\n",
              "  </tbody>\n",
              "</table>\n",
              "</div>"
            ],
            "text/plain": [
              "             Pertumbuhan\n",
              "Tahun                   \n",
              "2065-01-01  3.870762e+08\n",
              "2066-01-01  3.891607e+08\n",
              "2067-01-01  3.912307e+08\n",
              "2068-01-01  3.932862e+08\n",
              "2069-01-01  3.953273e+08"
            ]
          },
          "metadata": {},
          "execution_count": 30
        }
      ]
    },
    {
      "cell_type": "code",
      "metadata": {
        "id": "hpKxx0bbl_KV",
        "colab": {
          "base_uri": "https://localhost:8080/"
        },
        "outputId": "6b45c549-338a-49ea-eeae-20d967797e71"
      },
      "source": [
        "output_df.info()"
      ],
      "execution_count": null,
      "outputs": [
        {
          "output_type": "stream",
          "name": "stdout",
          "text": [
            "<class 'pandas.core.frame.DataFrame'>\n",
            "DatetimeIndex: 111 entries, 1960-01-01 to 2069-01-01\n",
            "Data columns (total 1 columns):\n",
            " #   Column       Non-Null Count  Dtype  \n",
            "---  ------       --------------  -----  \n",
            " 0   Pertumbuhan  111 non-null    float64\n",
            "dtypes: float64(1)\n",
            "memory usage: 1.7 KB\n"
          ]
        }
      ]
    },
    {
      "cell_type": "code",
      "metadata": {
        "id": "-lrvTxxFl_KW",
        "colab": {
          "base_uri": "https://localhost:8080/",
          "height": 445
        },
        "outputId": "7a6d1259-774d-420b-f518-7d8f84a1a435"
      },
      "source": [
        "output_df"
      ],
      "execution_count": null,
      "outputs": [
        {
          "output_type": "execute_result",
          "data": {
            "text/html": [
              "<div>\n",
              "<style scoped>\n",
              "    .dataframe tbody tr th:only-of-type {\n",
              "        vertical-align: middle;\n",
              "    }\n",
              "\n",
              "    .dataframe tbody tr th {\n",
              "        vertical-align: top;\n",
              "    }\n",
              "\n",
              "    .dataframe thead th {\n",
              "        text-align: right;\n",
              "    }\n",
              "</style>\n",
              "<table border=\"1\" class=\"dataframe\">\n",
              "  <thead>\n",
              "    <tr style=\"text-align: right;\">\n",
              "      <th></th>\n",
              "      <th>Pertumbuhan</th>\n",
              "    </tr>\n",
              "    <tr>\n",
              "      <th>Tahun</th>\n",
              "      <th></th>\n",
              "    </tr>\n",
              "  </thead>\n",
              "  <tbody>\n",
              "    <tr>\n",
              "      <th>1960-01-01</th>\n",
              "      <td>8.775107e+07</td>\n",
              "    </tr>\n",
              "    <tr>\n",
              "      <th>1961-01-01</th>\n",
              "      <td>9.009840e+07</td>\n",
              "    </tr>\n",
              "    <tr>\n",
              "      <th>1962-01-01</th>\n",
              "      <td>9.251837e+07</td>\n",
              "    </tr>\n",
              "    <tr>\n",
              "      <th>1963-01-01</th>\n",
              "      <td>9.501530e+07</td>\n",
              "    </tr>\n",
              "    <tr>\n",
              "      <th>1964-01-01</th>\n",
              "      <td>9.759673e+07</td>\n",
              "    </tr>\n",
              "    <tr>\n",
              "      <th>...</th>\n",
              "      <td>...</td>\n",
              "    </tr>\n",
              "    <tr>\n",
              "      <th>2065-01-01</th>\n",
              "      <td>3.870762e+08</td>\n",
              "    </tr>\n",
              "    <tr>\n",
              "      <th>2066-01-01</th>\n",
              "      <td>3.891607e+08</td>\n",
              "    </tr>\n",
              "    <tr>\n",
              "      <th>2067-01-01</th>\n",
              "      <td>3.912307e+08</td>\n",
              "    </tr>\n",
              "    <tr>\n",
              "      <th>2068-01-01</th>\n",
              "      <td>3.932862e+08</td>\n",
              "    </tr>\n",
              "    <tr>\n",
              "      <th>2069-01-01</th>\n",
              "      <td>3.953273e+08</td>\n",
              "    </tr>\n",
              "  </tbody>\n",
              "</table>\n",
              "<p>111 rows × 1 columns</p>\n",
              "</div>"
            ],
            "text/plain": [
              "             Pertumbuhan\n",
              "Tahun                   \n",
              "1960-01-01  8.775107e+07\n",
              "1961-01-01  9.009840e+07\n",
              "1962-01-01  9.251837e+07\n",
              "1963-01-01  9.501530e+07\n",
              "1964-01-01  9.759673e+07\n",
              "...                  ...\n",
              "2065-01-01  3.870762e+08\n",
              "2066-01-01  3.891607e+08\n",
              "2067-01-01  3.912307e+08\n",
              "2068-01-01  3.932862e+08\n",
              "2069-01-01  3.953273e+08\n",
              "\n",
              "[111 rows x 1 columns]"
            ]
          },
          "metadata": {},
          "execution_count": 32
        }
      ]
    },
    {
      "cell_type": "code",
      "metadata": {
        "id": "nGWSNxlol_KX"
      },
      "source": [
        "output_df.reset_index(inplace=True)"
      ],
      "execution_count": null,
      "outputs": []
    },
    {
      "cell_type": "code",
      "metadata": {
        "id": "A357_bPIl_KX",
        "colab": {
          "base_uri": "https://localhost:8080/",
          "height": 202
        },
        "outputId": "c9276317-8082-4596-8dc7-23684e05362f"
      },
      "source": [
        "output_df.head()"
      ],
      "execution_count": null,
      "outputs": [
        {
          "output_type": "execute_result",
          "data": {
            "text/html": [
              "<div>\n",
              "<style scoped>\n",
              "    .dataframe tbody tr th:only-of-type {\n",
              "        vertical-align: middle;\n",
              "    }\n",
              "\n",
              "    .dataframe tbody tr th {\n",
              "        vertical-align: top;\n",
              "    }\n",
              "\n",
              "    .dataframe thead th {\n",
              "        text-align: right;\n",
              "    }\n",
              "</style>\n",
              "<table border=\"1\" class=\"dataframe\">\n",
              "  <thead>\n",
              "    <tr style=\"text-align: right;\">\n",
              "      <th></th>\n",
              "      <th>Tahun</th>\n",
              "      <th>Pertumbuhan</th>\n",
              "    </tr>\n",
              "  </thead>\n",
              "  <tbody>\n",
              "    <tr>\n",
              "      <th>0</th>\n",
              "      <td>1960-01-01</td>\n",
              "      <td>87751066.0</td>\n",
              "    </tr>\n",
              "    <tr>\n",
              "      <th>1</th>\n",
              "      <td>1961-01-01</td>\n",
              "      <td>90098396.0</td>\n",
              "    </tr>\n",
              "    <tr>\n",
              "      <th>2</th>\n",
              "      <td>1962-01-01</td>\n",
              "      <td>92518373.0</td>\n",
              "    </tr>\n",
              "    <tr>\n",
              "      <th>3</th>\n",
              "      <td>1963-01-01</td>\n",
              "      <td>95015295.0</td>\n",
              "    </tr>\n",
              "    <tr>\n",
              "      <th>4</th>\n",
              "      <td>1964-01-01</td>\n",
              "      <td>97596728.0</td>\n",
              "    </tr>\n",
              "  </tbody>\n",
              "</table>\n",
              "</div>"
            ],
            "text/plain": [
              "       Tahun  Pertumbuhan\n",
              "0 1960-01-01   87751066.0\n",
              "1 1961-01-01   90098396.0\n",
              "2 1962-01-01   92518373.0\n",
              "3 1963-01-01   95015295.0\n",
              "4 1964-01-01   97596728.0"
            ]
          },
          "metadata": {},
          "execution_count": 34
        }
      ]
    },
    {
      "cell_type": "code",
      "metadata": {
        "id": "q0Ylia_Jl_KY"
      },
      "source": [
        "output_df['Tahun'] = output_df['Tahun'].dt.strftime(\"%Y\")"
      ],
      "execution_count": null,
      "outputs": []
    },
    {
      "cell_type": "code",
      "metadata": {
        "id": "kEyHiUFml_KY"
      },
      "source": [
        "output_df.set_index(\"Tahun\", inplace=True)"
      ],
      "execution_count": null,
      "outputs": []
    },
    {
      "cell_type": "code",
      "metadata": {
        "id": "lWA3apnal_KZ"
      },
      "source": [
        "output_df.to_csv(\"Pertumbuhan_50_Tahun.csv\")"
      ],
      "execution_count": null,
      "outputs": []
    }
  ]
}