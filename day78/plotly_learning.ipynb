{
 "cells": [
  {
   "cell_type": "markdown",
   "id": "tender-petroleum",
   "metadata": {},
   "source": [
    "# Learning Plotly in One Video\n",
    "\n",
    "Tutorial: [Darek Banas](https://www.youtube.com/watch?v=GGL6U0k8WYA&t=215s&ab_channel=DerekBanas)"
   ]
  },
  {
   "cell_type": "markdown",
   "id": "nominated-correspondence",
   "metadata": {},
   "source": [
    "## Import modules"
   ]
  },
  {
   "cell_type": "code",
   "execution_count": null,
   "id": "grand-display",
   "metadata": {},
   "outputs": [],
   "source": [
    "# For making offline\n",
    "from plotly.offline import download_plotlyjs, init_notebook_mode, plot, iplot\n",
    "init_notebook_mode(connected=True)\n",
    "import cufflinks as cf\n",
    "cf.go_offline()\n",
    "\n",
    "import chart_studio.plotly as py\n",
    "import plotly.express as px\n",
    "import seaborn as sns\n",
    "%matplotlib inline\n",
    "\n",
    "import pandas as pd\n",
    "import numpy as np"
   ]
  },
  {
   "cell_type": "markdown",
   "id": "jewish-juice",
   "metadata": {},
   "source": [
    "## Basic"
   ]
  },
  {
   "cell_type": "code",
   "execution_count": null,
   "id": "australian-blackberry",
   "metadata": {},
   "outputs": [],
   "source": [
    "arr_1 = np.random.rand(50,4)\n",
    "df_1 = pd.DataFrame(arr_1, columns=['A', 'B', 'C', 'D'])\n",
    "df_1.head()\n",
    "df_1.iplot()"
   ]
  },
  {
   "cell_type": "markdown",
   "id": "resistant-witch",
   "metadata": {},
   "source": [
    "Plotly has many features, like zoom in or zoom out, auto scaling, and etc"
   ]
  },
  {
   "cell_type": "markdown",
   "id": "thorough-classics",
   "metadata": {},
   "source": [
    "## Line Plots"
   ]
  },
  {
   "cell_type": "code",
   "execution_count": null,
   "id": "endangered-climate",
   "metadata": {},
   "outputs": [],
   "source": [
    "import plotly.graph_objects as go\n",
    "df_stocks = px.data.stocks()\n",
    "px.line(df_stocks, x='date', y='GOOG', labels={'x': 'Date', 'y': 'Price'})\n",
    "\n",
    "px.line(df_stocks, x='date', y=['GOOG', 'AAPL'],\n",
    "        labels={'x': 'Date', 'y': 'Price'},\n",
    "        title='Apple vs Google')\n",
    "\n",
    "fig = go.Figure()\n",
    "fig.add_trace(go.Scatter(x=df_stocks.date, y=df_stocks.AAPL,\n",
    "                         mode='lines', name='Apple'))\n",
    "fig.add_trace(go.Scatter(x=df_stocks.date, y=df_stocks.AMZN,\n",
    "                         mode='lines+markers', name='Amazon'))\n",
    "fig.add_trace(go.Scatter(x=df_stocks.date, y=df_stocks.GOOG,\n",
    "                         mode='lines+markers', name='Google',\n",
    "                         line=dict(color='firebrick', width=2,\n",
    "                                   dash='dashdot')))\n",
    "\n",
    "# fig.update_layout(title='Stock Price Data 2018 - 2020',\n",
    "#                   xaxis_title='Price', yaxis_title='Date')\n",
    "\n",
    "fig.update_layout(\n",
    "xaxis=dict(\n",
    "showline=True, showgrid=False, showticklabels=True,\n",
    "linecolor='rgb(204, 204, 204)',\n",
    "linewidth=2, ticks='outside', tickfont=dict(\n",
    "family='Arial', size=12, color='rgb(82, 82, 82)',\n",
    "),\n",
    "),\n",
    "yaxis=dict(showgrid=False, zeroline=False, showline=False,\n",
    "           showticklabels=False),\n",
    "autosize=False,\n",
    "margin=dict(\n",
    "autoexpand=False, l=100, r=20, t=110, ),\n",
    "showlegend=False, plot_bgcolor='white')"
   ]
  },
  {
   "cell_type": "code",
   "execution_count": null,
   "id": "established-wayne",
   "metadata": {},
   "outputs": [],
   "source": [
    "df_stocks.head()"
   ]
  },
  {
   "cell_type": "markdown",
   "id": "bottom-amber",
   "metadata": {},
   "source": [
    "## Bar Charts"
   ]
  },
  {
   "cell_type": "code",
   "execution_count": null,
   "id": "verbal-houston",
   "metadata": {},
   "outputs": [],
   "source": [
    "df_us = px.data.gapminder().query(\"country == 'United States'\")\n",
    "px.bar(df_us, x='year', y='pop')\n",
    "\n",
    "df_tips = px.data.tips()\n",
    "px.bar(df_tips, x='day', y='tip', color='sex',\n",
    "       title='Tips by Sex on Each Day',\n",
    "       labels={'tip':'Tip Amount', 'day':'Day of the Week'})\n",
    "\n",
    "px.bar(df_tips, x='sex', y='total_bill', color='smoker',\n",
    "       barmode='group')\n",
    "\n",
    "df_europe = px.data.gapminder().query(\"continent == 'Europe' and year == 2007 and pop > 2.e6\") # 2 millions\n",
    "fig = px.bar(df_europe, y='pop', x='country', text='pop', color='country')\n",
    "fig.update_traces(texttemplate='%{text:.2s}', textposition='outside')\n",
    "fig.update_layout(uniformtext_minsize=8)\n",
    "fig.update_layout(xaxis_tickangle=-45)\n",
    "fig"
   ]
  },
  {
   "cell_type": "code",
   "execution_count": null,
   "id": "executed-compatibility",
   "metadata": {},
   "outputs": [],
   "source": [
    "df_us.head()"
   ]
  },
  {
   "cell_type": "code",
   "execution_count": null,
   "id": "sweet-suspension",
   "metadata": {},
   "outputs": [],
   "source": [
    "df_europe.head()"
   ]
  },
  {
   "cell_type": "markdown",
   "id": "mature-parallel",
   "metadata": {},
   "source": [
    "## Scatter Polots"
   ]
  },
  {
   "cell_type": "code",
   "execution_count": null,
   "id": "australian-plasma",
   "metadata": {},
   "outputs": [],
   "source": [
    "df_iris = px.data.iris()\n",
    "px.scatter(df_iris, x='sepal_width', y='sepal_length',\n",
    "           color='species', size='petal_length',\n",
    "           hover_data=['petal_width'])\n",
    "\n",
    "fig = go.Figure()\n",
    "fig.add_trace(go.Scatter(\n",
    "              x=df_iris.sepal_width,\n",
    "              y=df_iris.sepal_length,\n",
    "              mode='markers',\n",
    "              marker_color=df_iris.sepal_width,\n",
    "              text=df_iris.species,\n",
    "              marker=dict(showscale=True)))\n",
    "\n",
    "fig.update_traces(marker_line_width=2, marker_size=10)"
   ]
  },
  {
   "cell_type": "code",
   "execution_count": null,
   "id": "worth-excellence",
   "metadata": {},
   "outputs": [],
   "source": [
    "fig = go.Figure(data=go.Scattergl(\n",
    "                x=np.random.randn(100000),\n",
    "                y=np.random.randn(100000),\n",
    "                mode='markers',\n",
    "                marker=dict(color=np.random.randn(100000),\n",
    "                            colorscale='Viridis',\n",
    "                            line_width=1)))\n",
    "fig"
   ]
  },
  {
   "cell_type": "markdown",
   "id": "strategic-world",
   "metadata": {},
   "source": [
    "## Pie Charts"
   ]
  },
  {
   "cell_type": "code",
   "execution_count": null,
   "id": "mineral-lease",
   "metadata": {},
   "outputs": [],
   "source": [
    "df_asia = px.data.gapminder().query('year == 2007').query(\"continent == 'Asia'\")\n",
    "px.pie(df_asia[:10], values='pop', names='country',\n",
    "       title='Big 10 Population of Asian Continent',\n",
    "       color_discrete_sequence=px.colors.sequential.RdBu)"
   ]
  },
  {
   "cell_type": "code",
   "execution_count": null,
   "id": "established-brunei",
   "metadata": {},
   "outputs": [],
   "source": [
    "colors = ['blue', 'green', 'black', 'purple', 'red', 'brown']\n",
    "fig = go.Figure(data=[go.Pie(labels=['Water', 'Grass', 'Normal',\n",
    "                                     'Phsysics', 'Fire', 'Ground'],\n",
    "                             values = [110, 90, 80, 80, 70, 60])])\n",
    "fig.update_traces(hoverinfo='label+percent', textfont_size=20,\n",
    "                  textinfo='label+percent', pull=[0.1, 0, 0.2, 0, 0, 0],\n",
    "                  marker=dict(colors=colors,\n",
    "                              line=dict(color='#fff',\n",
    "                                        width=2)))"
   ]
  },
  {
   "cell_type": "markdown",
   "id": "favorite-script",
   "metadata": {},
   "source": [
    "## Histogram"
   ]
  },
  {
   "cell_type": "code",
   "execution_count": null,
   "id": "adopted-travel",
   "metadata": {},
   "outputs": [],
   "source": [
    "dice_1 = np.random.randint(1, 7, 5000)\n",
    "dice_2 = np.random.randint(1, 7, 5000)\n",
    "dice_sum = dice_1 + dice_2\n",
    "\n",
    "fig = px.histogram(dice_sum, nbins=11, \n",
    "                   labels={'value':'Dice Roll'},\n",
    "                   title='5000 Dice Roll Histogram',\n",
    "                   marginal='violin',\n",
    "                   color_discrete_sequence=['green'])\n",
    "\n",
    "fig.update_layout(xaxis_title_text='Dice Roll',\n",
    "                  yaxis_title_text='Dice Sum',\n",
    "                  bargap=0.2, showlegend=False)\n",
    "\n",
    "fig"
   ]
  },
  {
   "cell_type": "code",
   "execution_count": null,
   "id": "broad-genesis",
   "metadata": {},
   "outputs": [],
   "source": [
    "df_tips = px.data.tips()\n",
    "px.histogram(df_tips, x='total_bill', color='sex')"
   ]
  },
  {
   "cell_type": "markdown",
   "id": "included-calibration",
   "metadata": {},
   "source": [
    "## Box Plots"
   ]
  },
  {
   "cell_type": "code",
   "execution_count": null,
   "id": "reported-throw",
   "metadata": {},
   "outputs": [],
   "source": [
    "df_tips = px.data.tips()\n",
    "px.box(df_tips, x='sex', y='tip', points='all')\n",
    "\n",
    "px.box(df_tips, x='day', y='tip', color='sex')\n",
    "\n",
    "fig = go.Figure()\n",
    "fig.add_trace(go.Box(x=df_tips.sex, y=df_tips.tip,\n",
    "                     marker_color='blue',\n",
    "                     boxmean='sd'))\n",
    "\n",
    "df_stocks = px.data.stocks()\n",
    "\n",
    "fig = go.Figure()\n",
    "fig.add_trace(go.Box(y=df_stocks.GOOG, boxpoints='all',\n",
    "                     fillcolor='blue', jitter=0.5,\n",
    "                     whiskerwidth=0.2))\n",
    "fig.add_trace(go.Box(y=df_stocks.AAPL, boxpoints='all',\n",
    "                     fillcolor='red', jitter=0.5,\n",
    "                     whiskerwidth=0.2))\n",
    "\n",
    "fig.update_layout(title='Google vs Apple',\n",
    "                  yaxis=dict(gridcolor='rgb(255, 255, 255)',\n",
    "                             gridwidth=3),\n",
    "                  paper_bgcolor='rgb(243, 243, 243)',\n",
    "                 plot_bgcolor='rgb(243, 243, 243)')"
   ]
  },
  {
   "cell_type": "markdown",
   "id": "comparable-maintenance",
   "metadata": {},
   "source": [
    "## Violin Plots"
   ]
  },
  {
   "cell_type": "code",
   "execution_count": null,
   "id": "framed-character",
   "metadata": {},
   "outputs": [],
   "source": [
    "df_tips = px.data.tips()\n",
    "px.violin(df_tips, y='total_bill', box=True, points='all')\n",
    "\n",
    "px.violin(df_tips, y='tip', x='smoker', color='sex', box=True,\n",
    "          points='all', hover_data=df_tips.columns)\n",
    "          \n",
    "fig = go.Figure()\n",
    "fig.add_trace(go.Violin(x=df_tips['day'][df_tips['smoker'] == 'Yes'],\n",
    "                        y=df_tips['total_bill'][df_tips['smoker'] == 'Yes'],\n",
    "                        legendgroup='Yes', scalegroup='Yes', name='Yes',\n",
    "                        side='negative', line_color='blue'))\n",
    "fig.add_trace(go.Violin(x=df_tips['day'][df_tips['smoker'] == 'No'],\n",
    "                        y=df_tips['total_bill'][df_tips['smoker'] == 'No'],\n",
    "                        legendgroup='Yes', scalegroup='Yes', name='Yes',\n",
    "                        side='positive', line_color='red'))"
   ]
  },
  {
   "cell_type": "markdown",
   "id": "bizarre-frost",
   "metadata": {},
   "source": [
    "## Density Heatmaps"
   ]
  },
  {
   "cell_type": "code",
   "execution_count": null,
   "id": "steady-pontiac",
   "metadata": {},
   "outputs": [],
   "source": [
    "flights = sns.load_dataset('flights')\n",
    "flights\n",
    "\n",
    "fig = px.density_heatmap(flights, x='year', y='month',\n",
    "                         z='passengers', color_continuous_scale='Viridis')\n",
    "\n",
    "fig"
   ]
  },
  {
   "cell_type": "code",
   "execution_count": null,
   "id": "perceived-coupon",
   "metadata": {},
   "outputs": [],
   "source": [
    "flights = sns.load_dataset('flights')\n",
    "flights\n",
    "\n",
    "fig = px.density_heatmap(flights, x='year', y='month',\n",
    "                         z='passengers',\n",
    "                         marginal_x='histogram',\n",
    "                         marginal_y='histogram')\n",
    "\n",
    "fig"
   ]
  },
  {
   "cell_type": "markdown",
   "id": "incomplete-sector",
   "metadata": {},
   "source": [
    "## 3D Scatter Plots"
   ]
  },
  {
   "cell_type": "code",
   "execution_count": null,
   "id": "invisible-poultry",
   "metadata": {},
   "outputs": [],
   "source": [
    "fig = px.scatter_3d(flights, x='year', y='month', z='passengers',\n",
    "                    color='year', opacity=0.7)\n",
    "\n",
    "fig"
   ]
  },
  {
   "cell_type": "markdown",
   "id": "intensive-taiwan",
   "metadata": {},
   "source": [
    "## 3D Line Plots"
   ]
  },
  {
   "cell_type": "code",
   "execution_count": null,
   "id": "affiliated-accused",
   "metadata": {},
   "outputs": [],
   "source": [
    "fig = px.line_3d(flights, x='year', y='month', z='passengers',\n",
    "                 color='year')\n",
    "\n",
    "fig"
   ]
  },
  {
   "cell_type": "markdown",
   "id": "dietary-offset",
   "metadata": {},
   "source": [
    "## Scatter Matrix"
   ]
  },
  {
   "cell_type": "code",
   "execution_count": null,
   "id": "parliamentary-twins",
   "metadata": {},
   "outputs": [],
   "source": [
    "fig = px.scatter_matrix(flights, color='month')\n",
    "fig"
   ]
  },
  {
   "cell_type": "markdown",
   "id": "prescription-drunk",
   "metadata": {},
   "source": [
    "## Map Scatter Plots"
   ]
  },
  {
   "cell_type": "code",
   "execution_count": null,
   "id": "harmful-jacket",
   "metadata": {},
   "outputs": [],
   "source": [
    "df = px.data.gapminder().query(\"year == 2007\")\n",
    "fig = px.scatter_geo(df, locations='iso_alpha',\n",
    "                   color='continent',\n",
    "                   hover_name='country',\n",
    "                   size='pop',\n",
    "                   projection='orthographic')\n",
    "fig"
   ]
  },
  {
   "cell_type": "markdown",
   "id": "secure-abuse",
   "metadata": {},
   "source": [
    "## Choropleth Map"
   ]
  },
  {
   "cell_type": "code",
   "execution_count": null,
   "id": "focused-stephen",
   "metadata": {},
   "outputs": [],
   "source": [
    "from urllib.request import urlopen\n",
    "import json\n",
    "with urlopen('https://raw.githubusercontent.com/plotly/datasets/master/geojson-counties-fips.json') as response:\n",
    "    countries = json.load(response)\n",
    "    \n",
    "df = pd.read_csv('https://raw.githubusercontent.com/plotly/datasets/master/fips-unemp-16.csv',\n",
    "                 dtype={'fips':str})\n",
    "\n",
    "fig = px.choropleth(df, geojson=countries, locations='fips', color='unemp',\n",
    "                    color_continuous_scale='Viridis', range_color=(0, 12),\n",
    "                    scope='usa', labels={'unemp':'unemployment rate'})\n",
    "\n",
    "fig"
   ]
  },
  {
   "cell_type": "markdown",
   "id": "neutral-colorado",
   "metadata": {},
   "source": [
    "## Polar Charts"
   ]
  },
  {
   "cell_type": "code",
   "execution_count": null,
   "id": "boxed-vitamin",
   "metadata": {},
   "outputs": [],
   "source": [
    "df_wind = px.data.wind()\n",
    "px.scatter_polar(df_wind, r='frequency', theta='direction',\n",
    "                 color='strength', size='frequency', symbol='strength')"
   ]
  },
  {
   "cell_type": "code",
   "execution_count": null,
   "id": "departmental-official",
   "metadata": {},
   "outputs": [],
   "source": [
    "df_wind = px.data.wind()\n",
    "px.line_polar(df_wind, r='frequency', theta='direction',\n",
    "                 color='strength', line_close=True,\n",
    "                 template='plotly_dark')"
   ]
  },
  {
   "cell_type": "markdown",
   "id": "animated-corrections",
   "metadata": {},
   "source": [
    "## Ternary Plots"
   ]
  },
  {
   "cell_type": "code",
   "execution_count": null,
   "id": "polar-samba",
   "metadata": {},
   "outputs": [],
   "source": [
    "df_exp = px.data.experiment()\n",
    "px.scatter_ternary(df_exp, a='experiment_1', b='experiment_2', \n",
    "                   c='experiment_3', hover_name='group', \n",
    "                   color='gender')"
   ]
  },
  {
   "cell_type": "markdown",
   "id": "fiscal-enemy",
   "metadata": {},
   "source": [
    "## Facet Plots"
   ]
  },
  {
   "cell_type": "code",
   "execution_count": null,
   "id": "remarkable-resort",
   "metadata": {},
   "outputs": [],
   "source": [
    "df_tips = px.data.tips()\n",
    "px.scatter(df_tips, x='total_bill', y='tip', \n",
    "           color='smoker', facet_col='sex')"
   ]
  },
  {
   "cell_type": "code",
   "execution_count": null,
   "id": "pharmaceutical-collar",
   "metadata": {},
   "outputs": [],
   "source": [
    "df_tips = px.data.tips()\n",
    "px.histogram(df_tips, x='total_bill', y='tip', color='smoker', \n",
    "             facet_row='time', facet_col='day',\n",
    "             category_orders={\"day\": [\"Thur\", \"Fri\", \"Sat\", \"Sun\"],\n",
    "                              \"time\": [\"Lunch\", \"Dimmer\"]})"
   ]
  },
  {
   "cell_type": "code",
   "execution_count": null,
   "id": "consolidated-democrat",
   "metadata": {},
   "outputs": [],
   "source": [
    "att_df = sns.load_dataset(\"attention\")\n",
    "fig = px.line(att_df, x='solutions', y='score',\n",
    "              facet_col='subject', facet_col_wrap=5,\n",
    "              title='Scores Based on Attention')\n",
    "fig"
   ]
  },
  {
   "cell_type": "markdown",
   "id": "amateur-fruit",
   "metadata": {},
   "source": [
    "## Animated Plots"
   ]
  },
  {
   "cell_type": "code",
   "execution_count": null,
   "id": "worthy-identifier",
   "metadata": {},
   "outputs": [],
   "source": [
    "df_cnt = px.data.gapminder()\n",
    "px.scatter(df_cnt, x='gdpPercap', y='lifeExp',\n",
    "           animation_frame='year', animation_group='country',\n",
    "           size='pop', color='continent', hover_name='country',\n",
    "           log_x=True, size_max=55, range_x=[100, 100000],\n",
    "           range_y=[25, 90])"
   ]
  },
  {
   "cell_type": "code",
   "execution_count": null,
   "id": "least-giving",
   "metadata": {},
   "outputs": [],
   "source": [
    "px.bar(df_cnt, x='continent', y='pop', color='continent',\n",
    "       animation_frame='year', animation_group='country',\n",
    "       range_y=[0, 4000000000])"
   ]
  }
 ],
 "metadata": {
  "kernelspec": {
   "display_name": "Python 3",
   "language": "python",
   "name": "python3"
  },
  "language_info": {
   "codemirror_mode": {
    "name": "ipython",
    "version": 3
   },
   "file_extension": ".py",
   "mimetype": "text/x-python",
   "name": "python",
   "nbconvert_exporter": "python",
   "pygments_lexer": "ipython3",
   "version": "3.9.0"
  }
 },
 "nbformat": 4,
 "nbformat_minor": 5
}
