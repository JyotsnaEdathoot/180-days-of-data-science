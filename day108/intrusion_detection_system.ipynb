{
 "cells": [
  {
   "cell_type": "markdown",
   "id": "acting-brother",
   "metadata": {},
   "source": [
    "# Intrusion Detection System\n",
    "\n",
    "[mudgalabhay](github.com/mudgalabhay/intrusion-detection-system/blob/master/main.ipynb)"
   ]
  },
  {
   "cell_type": "markdown",
   "id": "packed-monthly",
   "metadata": {},
   "source": [
    "## Import modules"
   ]
  },
  {
   "cell_type": "code",
   "execution_count": 1,
   "id": "conscious-contrast",
   "metadata": {},
   "outputs": [],
   "source": [
    "import matplotlib.pyplot as plt\n",
    "import seaborn as sns\n",
    "import pandas as pd\n",
    "import numpy as np\n",
    "import time\n",
    "import os"
   ]
  },
  {
   "cell_type": "code",
   "execution_count": 2,
   "id": "juvenile-hampton",
   "metadata": {},
   "outputs": [
    {
     "name": "stdout",
     "output_type": "stream",
     "text": [
      "['.ipynb_checkpoints', 'dataset', 'intrusion_detection_system.ipynb', 'kddcup.data_10_percent.gz']\n"
     ]
    }
   ],
   "source": [
    "print(os.listdir())"
   ]
  },
  {
   "cell_type": "code",
   "execution_count": 3,
   "id": "stone-tolerance",
   "metadata": {},
   "outputs": [
    {
     "name": "stdout",
     "output_type": "stream",
     "text": [
      "back,buffer_overflow,ftp_write,guess_passwd,imap,ipsweep,land,loadmodule,multihop,neptune,nmap,normal,perl,phf,pod,portsweep,rootkit,satan,smurf,spy,teardrop,warezclient,warezmaster.\n",
      "duration: continuous.\n",
      "protocol_type: symbolic.\n",
      "service: symbolic.\n",
      "flag: symbolic.\n",
      "src_bytes: continuous.\n",
      "dst_bytes: continuous.\n",
      "land: symbolic.\n",
      "wrong_fragment: continuous.\n",
      "urgent: continuous.\n",
      "hot: continuous.\n",
      "num_failed_logins: continuous.\n",
      "logged_in: symbolic.\n",
      "num_compromised: continuous.\n",
      "root_shell: continuous.\n",
      "su_attempted: continuous.\n",
      "num_root: continuous.\n",
      "num_file_creations: continuous.\n",
      "num_shells: continuous.\n",
      "num_access_files: continuous.\n",
      "num_outbound_cmds: continuous.\n",
      "is_host_login: symbolic.\n",
      "is_guest_login: symbolic.\n",
      "count: continuous.\n",
      "srv_count: continuous.\n",
      "serror_rate: continuous.\n",
      "srv_serror_rate: continuous.\n",
      "rerror_rate: continuous.\n",
      "srv_rerror_rate: continuous.\n",
      "same_srv_rate: continuous.\n",
      "diff_srv_rate: continuous.\n",
      "srv_diff_host_rate: continuous.\n",
      "dst_host_count: continuous.\n",
      "dst_host_srv_count: continuous.\n",
      "dst_host_same_srv_rate: continuous.\n",
      "dst_host_diff_srv_rate: continuous.\n",
      "dst_host_same_src_port_rate: continuous.\n",
      "dst_host_srv_diff_host_rate: continuous.\n",
      "dst_host_serror_rate: continuous.\n",
      "dst_host_srv_serror_rate: continuous.\n",
      "dst_host_rerror_rate: continuous.\n",
      "dst_host_srv_rerror_rate: continuous.\n",
      "\n"
     ]
    }
   ],
   "source": [
    "with open(\"dataset\\kddcup.names\", 'r') as f:\n",
    "    print(f.read())"
   ]
  },
  {
   "cell_type": "code",
   "execution_count": 4,
   "id": "limited-winter",
   "metadata": {},
   "outputs": [
    {
     "name": "stdout",
     "output_type": "stream",
     "text": [
      "42\n"
     ]
    }
   ],
   "source": [
    "cols=\"\"\"duration,\n",
    "protocol_type,\n",
    "service,\n",
    "flag,\n",
    "src_bytes,\n",
    "dst_bytes,\n",
    "land,\n",
    "wrong_fragment,\n",
    "urgent,\n",
    "hot,\n",
    "num_failed_logins,\n",
    "logged_in,\n",
    "num_compromised,\n",
    "root_shell,\n",
    "su_attempted,\n",
    "num_root,\n",
    "num_file_creations,\n",
    "num_shells,\n",
    "num_access_files,\n",
    "num_outbound_cmds,\n",
    "is_host_login,\n",
    "is_guest_login,\n",
    "count,\n",
    "srv_count,\n",
    "serror_rate,\n",
    "srv_serror_rate,\n",
    "rerror_rate,\n",
    "srv_rerror_rate,\n",
    "same_srv_rate,\n",
    "diff_srv_rate,\n",
    "srv_diff_host_rate,\n",
    "dst_host_count,\n",
    "dst_host_srv_count,\n",
    "dst_host_same_srv_rate,\n",
    "dst_host_diff_srv_rate,\n",
    "dst_host_same_src_port_rate,\n",
    "dst_host_srv_diff_host_rate,\n",
    "dst_host_serror_rate,\n",
    "dst_host_srv_serror_rate,\n",
    "dst_host_rerror_rate,\n",
    "dst_host_srv_rerror_rate\"\"\"\n",
    "\n",
    "columns = []\n",
    "for c in cols.split(','):\n",
    "    if (c.strip()):\n",
    "        columns.append(c.strip())\n",
    "        \n",
    "columns.append('target')\n",
    "# print(columns)\n",
    "print(len(columns))"
   ]
  },
  {
   "cell_type": "code",
   "execution_count": 5,
   "id": "quick-pillow",
   "metadata": {},
   "outputs": [
    {
     "name": "stdout",
     "output_type": "stream",
     "text": [
      "back dos\n",
      "buffer_overflow u2r\n",
      "ftp_write r2l\n",
      "guess_passwd r2l\n",
      "imap r2l\n",
      "ipsweep probe\n",
      "land dos\n",
      "loadmodule u2r\n",
      "multihop r2l\n",
      "neptune dos\n",
      "nmap probe\n",
      "perl u2r\n",
      "phf r2l\n",
      "pod dos\n",
      "portsweep probe\n",
      "rootkit u2r\n",
      "satan probe\n",
      "smurf dos\n",
      "spy r2l\n",
      "teardrop dos\n",
      "warezclient r2l\n",
      "warezmaster r2l\n",
      "\n",
      "\n"
     ]
    }
   ],
   "source": [
    "with open('dataset/training_attack_types', 'r') as f:\n",
    "    print(f.read())"
   ]
  },
  {
   "cell_type": "code",
   "execution_count": 6,
   "id": "humanitarian-impact",
   "metadata": {},
   "outputs": [],
   "source": [
    "attack_types = {\n",
    "    \"normal\" : \"normal\",\n",
    "    \"back\" : \"dos\",\n",
    "    \"buffer_overflow\" : \"u2r\",\n",
    "    \"ftp_write\" : \"r2l\",\n",
    "    \"guess_passwd\" : \"r2l\",\n",
    "    \"imap\" : \"r2l\",\n",
    "    \"ipsweep\" : \"probe\",\n",
    "    \"land\" : \"dos\",\n",
    "    \"loadmodule\" : \"u2r\",\n",
    "    \"multihop\" : \"r2l\",\n",
    "    \"neptune\" : \"dos\",\n",
    "    \"nmap\" : \"probe\",\n",
    "    \"perl\" : \"u2r\",\n",
    "    \"phf\" : \"r2l\",\n",
    "    \"pod\" : \"dos\",\n",
    "    \"portsweep\" : \"probe\",\n",
    "    \"rootkit\" : \"u2r\",\n",
    "    \"satan\" : \"probe\",\n",
    "    \"smurf\" : \"dos\",\n",
    "    \"spy\" : \"r2l\",\n",
    "    \"teardrop\" : \"dos\",\n",
    "    \"warezclient\" : \"r2l\",\n",
    "    \"warezmaster\" : \"r2l\"   \n",
    "}"
   ]
  },
  {
   "cell_type": "markdown",
   "id": "ethical-offer",
   "metadata": {},
   "source": [
    "## Reading dataset"
   ]
  },
  {
   "cell_type": "code",
   "execution_count": 8,
   "id": "sensitive-links",
   "metadata": {},
   "outputs": [
    {
     "data": {
      "text/html": [
       "<div>\n",
       "<style scoped>\n",
       "    .dataframe tbody tr th:only-of-type {\n",
       "        vertical-align: middle;\n",
       "    }\n",
       "\n",
       "    .dataframe tbody tr th {\n",
       "        vertical-align: top;\n",
       "    }\n",
       "\n",
       "    .dataframe thead th {\n",
       "        text-align: right;\n",
       "    }\n",
       "</style>\n",
       "<table border=\"1\" class=\"dataframe\">\n",
       "  <thead>\n",
       "    <tr style=\"text-align: right;\">\n",
       "      <th></th>\n",
       "      <th>duration</th>\n",
       "      <th>protocol_type</th>\n",
       "      <th>service</th>\n",
       "      <th>flag</th>\n",
       "      <th>src_bytes</th>\n",
       "      <th>dst_bytes</th>\n",
       "      <th>land</th>\n",
       "      <th>wrong_fragment</th>\n",
       "      <th>urgent</th>\n",
       "      <th>hot</th>\n",
       "      <th>...</th>\n",
       "      <th>dst_host_same_srv_rate</th>\n",
       "      <th>dst_host_diff_srv_rate</th>\n",
       "      <th>dst_host_same_src_port_rate</th>\n",
       "      <th>dst_host_srv_diff_host_rate</th>\n",
       "      <th>dst_host_serror_rate</th>\n",
       "      <th>dst_host_srv_serror_rate</th>\n",
       "      <th>dst_host_rerror_rate</th>\n",
       "      <th>dst_host_srv_rerror_rate</th>\n",
       "      <th>target</th>\n",
       "      <th>Attack Type</th>\n",
       "    </tr>\n",
       "  </thead>\n",
       "  <tbody>\n",
       "    <tr>\n",
       "      <th>0</th>\n",
       "      <td>0</td>\n",
       "      <td>tcp</td>\n",
       "      <td>http</td>\n",
       "      <td>SF</td>\n",
       "      <td>181</td>\n",
       "      <td>5450</td>\n",
       "      <td>0</td>\n",
       "      <td>0</td>\n",
       "      <td>0</td>\n",
       "      <td>0</td>\n",
       "      <td>...</td>\n",
       "      <td>1.0</td>\n",
       "      <td>0.0</td>\n",
       "      <td>0.11</td>\n",
       "      <td>0.0</td>\n",
       "      <td>0.0</td>\n",
       "      <td>0.0</td>\n",
       "      <td>0.0</td>\n",
       "      <td>0.0</td>\n",
       "      <td>normal.</td>\n",
       "      <td>normal</td>\n",
       "    </tr>\n",
       "    <tr>\n",
       "      <th>1</th>\n",
       "      <td>0</td>\n",
       "      <td>tcp</td>\n",
       "      <td>http</td>\n",
       "      <td>SF</td>\n",
       "      <td>239</td>\n",
       "      <td>486</td>\n",
       "      <td>0</td>\n",
       "      <td>0</td>\n",
       "      <td>0</td>\n",
       "      <td>0</td>\n",
       "      <td>...</td>\n",
       "      <td>1.0</td>\n",
       "      <td>0.0</td>\n",
       "      <td>0.05</td>\n",
       "      <td>0.0</td>\n",
       "      <td>0.0</td>\n",
       "      <td>0.0</td>\n",
       "      <td>0.0</td>\n",
       "      <td>0.0</td>\n",
       "      <td>normal.</td>\n",
       "      <td>normal</td>\n",
       "    </tr>\n",
       "    <tr>\n",
       "      <th>2</th>\n",
       "      <td>0</td>\n",
       "      <td>tcp</td>\n",
       "      <td>http</td>\n",
       "      <td>SF</td>\n",
       "      <td>235</td>\n",
       "      <td>1337</td>\n",
       "      <td>0</td>\n",
       "      <td>0</td>\n",
       "      <td>0</td>\n",
       "      <td>0</td>\n",
       "      <td>...</td>\n",
       "      <td>1.0</td>\n",
       "      <td>0.0</td>\n",
       "      <td>0.03</td>\n",
       "      <td>0.0</td>\n",
       "      <td>0.0</td>\n",
       "      <td>0.0</td>\n",
       "      <td>0.0</td>\n",
       "      <td>0.0</td>\n",
       "      <td>normal.</td>\n",
       "      <td>normal</td>\n",
       "    </tr>\n",
       "    <tr>\n",
       "      <th>3</th>\n",
       "      <td>0</td>\n",
       "      <td>tcp</td>\n",
       "      <td>http</td>\n",
       "      <td>SF</td>\n",
       "      <td>219</td>\n",
       "      <td>1337</td>\n",
       "      <td>0</td>\n",
       "      <td>0</td>\n",
       "      <td>0</td>\n",
       "      <td>0</td>\n",
       "      <td>...</td>\n",
       "      <td>1.0</td>\n",
       "      <td>0.0</td>\n",
       "      <td>0.03</td>\n",
       "      <td>0.0</td>\n",
       "      <td>0.0</td>\n",
       "      <td>0.0</td>\n",
       "      <td>0.0</td>\n",
       "      <td>0.0</td>\n",
       "      <td>normal.</td>\n",
       "      <td>normal</td>\n",
       "    </tr>\n",
       "    <tr>\n",
       "      <th>4</th>\n",
       "      <td>0</td>\n",
       "      <td>tcp</td>\n",
       "      <td>http</td>\n",
       "      <td>SF</td>\n",
       "      <td>217</td>\n",
       "      <td>2032</td>\n",
       "      <td>0</td>\n",
       "      <td>0</td>\n",
       "      <td>0</td>\n",
       "      <td>0</td>\n",
       "      <td>...</td>\n",
       "      <td>1.0</td>\n",
       "      <td>0.0</td>\n",
       "      <td>0.02</td>\n",
       "      <td>0.0</td>\n",
       "      <td>0.0</td>\n",
       "      <td>0.0</td>\n",
       "      <td>0.0</td>\n",
       "      <td>0.0</td>\n",
       "      <td>normal.</td>\n",
       "      <td>normal</td>\n",
       "    </tr>\n",
       "  </tbody>\n",
       "</table>\n",
       "<p>5 rows × 43 columns</p>\n",
       "</div>"
      ],
      "text/plain": [
       "   duration protocol_type service flag  src_bytes  dst_bytes  land  \\\n",
       "0         0           tcp    http   SF        181       5450     0   \n",
       "1         0           tcp    http   SF        239        486     0   \n",
       "2         0           tcp    http   SF        235       1337     0   \n",
       "3         0           tcp    http   SF        219       1337     0   \n",
       "4         0           tcp    http   SF        217       2032     0   \n",
       "\n",
       "   wrong_fragment  urgent  hot  ...  dst_host_same_srv_rate  \\\n",
       "0               0       0    0  ...                     1.0   \n",
       "1               0       0    0  ...                     1.0   \n",
       "2               0       0    0  ...                     1.0   \n",
       "3               0       0    0  ...                     1.0   \n",
       "4               0       0    0  ...                     1.0   \n",
       "\n",
       "   dst_host_diff_srv_rate  dst_host_same_src_port_rate  \\\n",
       "0                     0.0                         0.11   \n",
       "1                     0.0                         0.05   \n",
       "2                     0.0                         0.03   \n",
       "3                     0.0                         0.03   \n",
       "4                     0.0                         0.02   \n",
       "\n",
       "   dst_host_srv_diff_host_rate  dst_host_serror_rate  \\\n",
       "0                          0.0                   0.0   \n",
       "1                          0.0                   0.0   \n",
       "2                          0.0                   0.0   \n",
       "3                          0.0                   0.0   \n",
       "4                          0.0                   0.0   \n",
       "\n",
       "   dst_host_srv_serror_rate  dst_host_rerror_rate  dst_host_srv_rerror_rate  \\\n",
       "0                       0.0                   0.0                       0.0   \n",
       "1                       0.0                   0.0                       0.0   \n",
       "2                       0.0                   0.0                       0.0   \n",
       "3                       0.0                   0.0                       0.0   \n",
       "4                       0.0                   0.0                       0.0   \n",
       "\n",
       "    target  Attack Type  \n",
       "0  normal.       normal  \n",
       "1  normal.       normal  \n",
       "2  normal.       normal  \n",
       "3  normal.       normal  \n",
       "4  normal.       normal  \n",
       "\n",
       "[5 rows x 43 columns]"
      ]
     },
     "execution_count": 8,
     "metadata": {},
     "output_type": "execute_result"
    }
   ],
   "source": [
    "path = 'dataset/kddcup.data_10_percent.gz'\n",
    "df = pd.read_csv(path, names=columns)\n",
    "\n",
    "# Adding attack type columns\n",
    "df['Attack Type'] = df.target.apply(lambda r:attack_types[r[:-1]])\n",
    "\n",
    "df.head()"
   ]
  },
  {
   "cell_type": "code",
   "execution_count": 9,
   "id": "animated-newcastle",
   "metadata": {},
   "outputs": [
    {
     "data": {
      "text/plain": [
       "(494021, 43)"
      ]
     },
     "execution_count": 9,
     "metadata": {},
     "output_type": "execute_result"
    }
   ],
   "source": [
    "df.shape"
   ]
  },
  {
   "cell_type": "code",
   "execution_count": 10,
   "id": "sorted-respondent",
   "metadata": {},
   "outputs": [
    {
     "data": {
      "text/plain": [
       "smurf.              280790\n",
       "neptune.            107201\n",
       "normal.              97278\n",
       "back.                 2203\n",
       "satan.                1589\n",
       "ipsweep.              1247\n",
       "portsweep.            1040\n",
       "warezclient.          1020\n",
       "teardrop.              979\n",
       "pod.                   264\n",
       "nmap.                  231\n",
       "guess_passwd.           53\n",
       "buffer_overflow.        30\n",
       "land.                   21\n",
       "warezmaster.            20\n",
       "imap.                   12\n",
       "rootkit.                10\n",
       "loadmodule.              9\n",
       "ftp_write.               8\n",
       "multihop.                7\n",
       "phf.                     4\n",
       "perl.                    3\n",
       "spy.                     2\n",
       "Name: target, dtype: int64"
      ]
     },
     "execution_count": 10,
     "metadata": {},
     "output_type": "execute_result"
    }
   ],
   "source": [
    "df['target'].value_counts()"
   ]
  },
  {
   "cell_type": "code",
   "execution_count": 11,
   "id": "running-pointer",
   "metadata": {},
   "outputs": [
    {
     "data": {
      "text/plain": [
       "dos       391458\n",
       "normal     97278\n",
       "probe       4107\n",
       "r2l         1126\n",
       "u2r           52\n",
       "Name: Attack Type, dtype: int64"
      ]
     },
     "execution_count": 11,
     "metadata": {},
     "output_type": "execute_result"
    }
   ],
   "source": [
    "df['Attack Type'].value_counts()"
   ]
  },
  {
   "cell_type": "code",
   "execution_count": 12,
   "id": "diverse-relevance",
   "metadata": {},
   "outputs": [
    {
     "data": {
      "text/plain": [
       "duration                         int64\n",
       "protocol_type                   object\n",
       "service                         object\n",
       "flag                            object\n",
       "src_bytes                        int64\n",
       "dst_bytes                        int64\n",
       "land                             int64\n",
       "wrong_fragment                   int64\n",
       "urgent                           int64\n",
       "hot                              int64\n",
       "num_failed_logins                int64\n",
       "logged_in                        int64\n",
       "num_compromised                  int64\n",
       "root_shell                       int64\n",
       "su_attempted                     int64\n",
       "num_root                         int64\n",
       "num_file_creations               int64\n",
       "num_shells                       int64\n",
       "num_access_files                 int64\n",
       "num_outbound_cmds                int64\n",
       "is_host_login                    int64\n",
       "is_guest_login                   int64\n",
       "count                            int64\n",
       "srv_count                        int64\n",
       "serror_rate                    float64\n",
       "srv_serror_rate                float64\n",
       "rerror_rate                    float64\n",
       "srv_rerror_rate                float64\n",
       "same_srv_rate                  float64\n",
       "diff_srv_rate                  float64\n",
       "srv_diff_host_rate             float64\n",
       "dst_host_count                   int64\n",
       "dst_host_srv_count               int64\n",
       "dst_host_same_srv_rate         float64\n",
       "dst_host_diff_srv_rate         float64\n",
       "dst_host_same_src_port_rate    float64\n",
       "dst_host_srv_diff_host_rate    float64\n",
       "dst_host_serror_rate           float64\n",
       "dst_host_srv_serror_rate       float64\n",
       "dst_host_rerror_rate           float64\n",
       "dst_host_srv_rerror_rate       float64\n",
       "target                          object\n",
       "Attack Type                     object\n",
       "dtype: object"
      ]
     },
     "execution_count": 12,
     "metadata": {},
     "output_type": "execute_result"
    }
   ],
   "source": [
    "df.dtypes"
   ]
  },
  {
   "cell_type": "markdown",
   "id": "beneficial-enterprise",
   "metadata": {},
   "source": [
    "## Data Preprocessing"
   ]
  },
  {
   "cell_type": "code",
   "execution_count": 13,
   "id": "cleared-humanity",
   "metadata": {},
   "outputs": [
    {
     "data": {
      "text/plain": [
       "duration                       0\n",
       "protocol_type                  0\n",
       "service                        0\n",
       "flag                           0\n",
       "src_bytes                      0\n",
       "dst_bytes                      0\n",
       "land                           0\n",
       "wrong_fragment                 0\n",
       "urgent                         0\n",
       "hot                            0\n",
       "num_failed_logins              0\n",
       "logged_in                      0\n",
       "num_compromised                0\n",
       "root_shell                     0\n",
       "su_attempted                   0\n",
       "num_root                       0\n",
       "num_file_creations             0\n",
       "num_shells                     0\n",
       "num_access_files               0\n",
       "num_outbound_cmds              0\n",
       "is_host_login                  0\n",
       "is_guest_login                 0\n",
       "count                          0\n",
       "srv_count                      0\n",
       "serror_rate                    0\n",
       "srv_serror_rate                0\n",
       "rerror_rate                    0\n",
       "srv_rerror_rate                0\n",
       "same_srv_rate                  0\n",
       "diff_srv_rate                  0\n",
       "srv_diff_host_rate             0\n",
       "dst_host_count                 0\n",
       "dst_host_srv_count             0\n",
       "dst_host_same_srv_rate         0\n",
       "dst_host_diff_srv_rate         0\n",
       "dst_host_same_src_port_rate    0\n",
       "dst_host_srv_diff_host_rate    0\n",
       "dst_host_serror_rate           0\n",
       "dst_host_srv_serror_rate       0\n",
       "dst_host_rerror_rate           0\n",
       "dst_host_srv_rerror_rate       0\n",
       "target                         0\n",
       "Attack Type                    0\n",
       "dtype: int64"
      ]
     },
     "execution_count": 13,
     "metadata": {},
     "output_type": "execute_result"
    }
   ],
   "source": [
    "df.isnull().sum()"
   ]
  },
  {
   "cell_type": "code",
   "execution_count": 14,
   "id": "measured-calibration",
   "metadata": {},
   "outputs": [
    {
     "data": {
      "text/plain": [
       "['flag', 'protocol_type', 'service']"
      ]
     },
     "execution_count": 14,
     "metadata": {},
     "output_type": "execute_result"
    }
   ],
   "source": [
    "# Find categorical features\n",
    "num_cols = df._get_numeric_data().columns\n",
    "\n",
    "categorical_cols = list(set(df.columns) - set(num_cols))\n",
    "categorical_cols.remove('target')\n",
    "categorical_cols.remove('Attack Type')\n",
    "\n",
    "categorical_cols"
   ]
  },
  {
   "cell_type": "markdown",
   "id": "needed-meaning",
   "metadata": {},
   "source": [
    "## Categorical Features Distribution"
   ]
  },
  {
   "cell_type": "code",
   "execution_count": 24,
   "id": "devoted-scanner",
   "metadata": {},
   "outputs": [],
   "source": [
    "## Visualization\n",
    "def bar_graph(feature, figsize=(8,6)):\n",
    "    df[feature].value_counts().plot(kind='bar', figsize=figsize)"
   ]
  },
  {
   "cell_type": "code",
   "execution_count": 25,
   "id": "missing-samba",
   "metadata": {},
   "outputs": [
    {
     "data": {
      "image/png": "[encoded data removed]",
      "text/plain": [
       "<Figure size 576x432 with 1 Axes>"
      ]
     },
     "metadata": {
      "needs_background": "light"
     },
     "output_type": "display_data"
    }
   ],
   "source": [
    "plt.figure(figsize=(8,6))\n",
    "bar_graph('protocol_type')"
   ]
  },
  {
   "cell_type": "markdown",
   "id": "decent-nomination",
   "metadata": {},
   "source": [
    "Packet occurrence icmp > tcp > udp"
   ]
  },
  {
   "cell_type": "code",
   "execution_count": 27,
   "id": "orange-hartford",
   "metadata": {},
   "outputs": [
    {
     "data": {
      "image/png": "[encoded data removed]",
      "text/plain": [
       "<Figure size 1080x720 with 1 Axes>"
      ]
     },
     "metadata": {
      "needs_background": "light"
     },
     "output_type": "display_data"
    }
   ],
   "source": [
    "bar_graph('service', figsize=(15,10))"
   ]
  },
  {
   "cell_type": "code",
   "execution_count": 28,
   "id": "alleged-saturday",
   "metadata": {},
   "outputs": [
    {
     "data": {
      "image/png": "[encoded data removed]",
      "text/plain": [
       "<Figure size 576x432 with 1 Axes>"
      ]
     },
     "metadata": {
      "needs_background": "light"
     },
     "output_type": "display_data"
    }
   ],
   "source": [
    "bar_graph('flag')"
   ]
  },
  {
   "cell_type": "code",
   "execution_count": 30,
   "id": "acting-puzzle",
   "metadata": {},
   "outputs": [
    {
     "data": {
      "image/png": "[encoded data removed]",
      "text/plain": [
       "<Figure size 576x432 with 1 Axes>"
      ]
     },
     "metadata": {
      "needs_background": "light"
     },
     "output_type": "display_data"
    }
   ],
   "source": [
    "bar_graph(\"logged_in\")"
   ]
  },
  {
   "cell_type": "markdown",
   "id": "turned-grenada",
   "metadata": {},
   "source": [
    "1 : Successfully logged in\n",
    "0 : Failed logged in\n",
    "\n",
    "About 70k packet successfully logged in"
   ]
  },
  {
   "cell_type": "markdown",
   "id": "square-atmosphere",
   "metadata": {},
   "source": [
    "## Target Feature Distributions"
   ]
  },
  {
   "cell_type": "code",
   "execution_count": 32,
   "id": "structured-nomination",
   "metadata": {},
   "outputs": [
    {
     "data": {
      "image/png": "[encoded data removed]",
      "text/plain": [
       "<Figure size 864x432 with 1 Axes>"
      ]
     },
     "metadata": {
      "needs_background": "light"
     },
     "output_type": "display_data"
    }
   ],
   "source": [
    "bar_graph('target', (12,6))"
   ]
  },
  {
   "cell_type": "markdown",
   "id": "polyphonic-watts",
   "metadata": {},
   "source": [
    "## Attack Type"
   ]
  },
  {
   "cell_type": "code",
   "execution_count": 33,
   "id": "prescribed-cruise",
   "metadata": {},
   "outputs": [
    {
     "data": {
      "image/png": "[encoded data removed]",
      "text/plain": [
       "<Figure size 576x432 with 1 Axes>"
      ]
     },
     "metadata": {
      "needs_background": "light"
     },
     "output_type": "display_data"
    }
   ],
   "source": [
    "bar_graph('Attack Type')"
   ]
  },
  {
   "cell_type": "code",
   "execution_count": 35,
   "id": "loving-defeat",
   "metadata": {},
   "outputs": [
    {
     "data": {
      "text/plain": [
       "Index(['duration', 'protocol_type', 'service', 'flag', 'src_bytes',\n",
       "       'dst_bytes', 'land', 'wrong_fragment', 'urgent', 'hot',\n",
       "       'num_failed_logins', 'logged_in', 'num_compromised', 'root_shell',\n",
       "       'su_attempted', 'num_root', 'num_file_creations', 'num_shells',\n",
       "       'num_access_files', 'num_outbound_cmds', 'is_host_login',\n",
       "       'is_guest_login', 'count', 'srv_count', 'serror_rate',\n",
       "       'srv_serror_rate', 'rerror_rate', 'srv_rerror_rate', 'same_srv_rate',\n",
       "       'diff_srv_rate', 'srv_diff_host_rate', 'dst_host_count',\n",
       "       'dst_host_srv_count', 'dst_host_same_srv_rate',\n",
       "       'dst_host_diff_srv_rate', 'dst_host_same_src_port_rate',\n",
       "       'dst_host_srv_diff_host_rate', 'dst_host_serror_rate',\n",
       "       'dst_host_srv_serror_rate', 'dst_host_rerror_rate',\n",
       "       'dst_host_srv_rerror_rate', 'target', 'Attack Type'],\n",
       "      dtype='object')"
      ]
     },
     "execution_count": 35,
     "metadata": {},
     "output_type": "execute_result"
    }
   ],
   "source": [
    "df.columns"
   ]
  },
  {
   "cell_type": "markdown",
   "id": "excess-nursery",
   "metadata": {},
   "source": [
    "## Data Correlation"
   ]
  },
  {
   "cell_type": "code",
   "execution_count": 38,
   "id": "center-girlfriend",
   "metadata": {},
   "outputs": [
    {
     "data": {
      "image/png": "[encoded data removed]",
      "text/plain": [
       "<Figure size 1080x864 with 2 Axes>"
      ]
     },
     "metadata": {
      "needs_background": "light"
     },
     "output_type": "display_data"
    }
   ],
   "source": [
    "df = df.dropna()\n",
    "\n",
    "df = df[[col for col in df if df[col].nunique() > 1]] # Keep columns with more than 1 unique values\n",
    "\n",
    "corr = df.corr()\n",
    "\n",
    "plt.figure(figsize=(15,12))\n",
    "sns.heatmap(corr)\n",
    "\n",
    "plt.show()"
   ]
  },
  {
   "cell_type": "code",
   "execution_count": 39,
   "id": "sustained-aging",
   "metadata": {},
   "outputs": [
    {
     "data": {
      "text/plain": [
       "0.9938277978737942"
      ]
     },
     "execution_count": 39,
     "metadata": {},
     "output_type": "execute_result"
    }
   ],
   "source": [
    "df['num_root'].corr(df['num_compromised'])"
   ]
  },
  {
   "cell_type": "code",
   "execution_count": 40,
   "id": "marine-jurisdiction",
   "metadata": {},
   "outputs": [
    {
     "data": {
      "text/plain": [
       "0.998361507272552"
      ]
     },
     "execution_count": 40,
     "metadata": {},
     "output_type": "execute_result"
    }
   ],
   "source": [
    "df['srv_serror_rate'].corr(df['serror_rate'])"
   ]
  },
  {
   "cell_type": "code",
   "execution_count": 41,
   "id": "adequate-flush",
   "metadata": {},
   "outputs": [
    {
     "data": {
      "text/plain": [
       "0.9436670688882602"
      ]
     },
     "execution_count": 41,
     "metadata": {},
     "output_type": "execute_result"
    }
   ],
   "source": [
    "df['srv_count'].corr(df['count'])"
   ]
  },
  {
   "cell_type": "code",
   "execution_count": 42,
   "id": "graduate-hollow",
   "metadata": {},
   "outputs": [
    {
     "data": {
      "text/plain": [
       "0.9947309539818258"
      ]
     },
     "execution_count": 42,
     "metadata": {},
     "output_type": "execute_result"
    }
   ],
   "source": [
    "df['srv_rerror_rate'].corr(df['rerror_rate'])"
   ]
  },
  {
   "cell_type": "code",
   "execution_count": 43,
   "id": "treated-tooth",
   "metadata": {},
   "outputs": [
    {
     "data": {
      "text/plain": [
       "0.9736854572954081"
      ]
     },
     "execution_count": 43,
     "metadata": {},
     "output_type": "execute_result"
    }
   ],
   "source": [
    "df['dst_host_same_srv_rate'].corr(df['dst_host_srv_count'])"
   ]
  },
  {
   "cell_type": "code",
   "execution_count": 44,
   "id": "studied-daisy",
   "metadata": {},
   "outputs": [
    {
     "data": {
      "text/plain": [
       "0.9981559173372515"
      ]
     },
     "execution_count": 44,
     "metadata": {},
     "output_type": "execute_result"
    }
   ],
   "source": [
    "df['dst_host_srv_serror_rate'].corr(df['dst_host_serror_rate'])"
   ]
  },
  {
   "cell_type": "code",
   "execution_count": 45,
   "id": "numeric-fancy",
   "metadata": {},
   "outputs": [
    {
     "data": {
      "text/plain": [
       "0.9848038371110593"
      ]
     },
     "execution_count": 45,
     "metadata": {},
     "output_type": "execute_result"
    }
   ],
   "source": [
    "df['dst_host_srv_rerror_rate'].corr(df['dst_host_rerror_rate'])"
   ]
  },
  {
   "cell_type": "code",
   "execution_count": 47,
   "id": "static-senegal",
   "metadata": {},
   "outputs": [
    {
     "data": {
      "text/plain": [
       "0.927808034269101"
      ]
     },
     "execution_count": 47,
     "metadata": {},
     "output_type": "execute_result"
    }
   ],
   "source": [
    "df['dst_host_same_srv_rate'].corr(df['same_srv_rate'])"
   ]
  },
  {
   "cell_type": "code",
   "execution_count": 48,
   "id": "challenging-timothy",
   "metadata": {},
   "outputs": [
    {
     "data": {
      "text/plain": [
       "0.8989546630324231"
      ]
     },
     "execution_count": 48,
     "metadata": {},
     "output_type": "execute_result"
    }
   ],
   "source": [
    "df['dst_host_srv_count'].corr(df['same_srv_rate'])"
   ]
  },
  {
   "cell_type": "code",
   "execution_count": 49,
   "id": "african-resistance",
   "metadata": {},
   "outputs": [
    {
     "data": {
      "text/plain": [
       "0.9449263676783239"
      ]
     },
     "execution_count": 49,
     "metadata": {},
     "output_type": "execute_result"
    }
   ],
   "source": [
    "df['dst_host_same_src_port_rate'].corr(df['srv_count'])"
   ]
  },
  {
   "cell_type": "code",
   "execution_count": 50,
   "id": "recorded-lloyd",
   "metadata": {},
   "outputs": [
    {
     "data": {
      "text/plain": [
       "0.998672968010501"
      ]
     },
     "execution_count": 50,
     "metadata": {},
     "output_type": "execute_result"
    }
   ],
   "source": [
    "df['dst_host_serror_rate'].corr(df['serror_rate'])"
   ]
  },
  {
   "cell_type": "code",
   "execution_count": 51,
   "id": "related-stake",
   "metadata": {},
   "outputs": [
    {
     "data": {
      "text/plain": [
       "0.997835300373953"
      ]
     },
     "execution_count": 51,
     "metadata": {},
     "output_type": "execute_result"
    }
   ],
   "source": [
    "df['dst_host_serror_rate'].corr(df['srv_serror_rate'])"
   ]
  },
  {
   "cell_type": "code",
   "execution_count": 52,
   "id": "surgical-mount",
   "metadata": {},
   "outputs": [
    {
     "data": {
      "text/plain": [
       "0.9978492485679238"
      ]
     },
     "execution_count": 52,
     "metadata": {},
     "output_type": "execute_result"
    }
   ],
   "source": [
    "df['dst_host_srv_serror_rate'].corr(df['serror_rate'])"
   ]
  },
  {
   "cell_type": "code",
   "execution_count": 53,
   "id": "burning-exclusion",
   "metadata": {},
   "outputs": [
    {
     "data": {
      "text/plain": [
       "0.9993041091850208"
      ]
     },
     "execution_count": 53,
     "metadata": {},
     "output_type": "execute_result"
    }
   ],
   "source": [
    "df['dst_host_srv_serror_rate'].corr(df['srv_serror_rate'])"
   ]
  },
  {
   "cell_type": "code",
   "execution_count": 56,
   "id": "august-concentrate",
   "metadata": {},
   "outputs": [
    {
     "data": {
      "text/plain": [
       "0.9821663427308904"
      ]
     },
     "execution_count": 56,
     "metadata": {},
     "output_type": "execute_result"
    }
   ],
   "source": [
    "df['dst_host_rerror_rate'].corr(df['srv_rerror_rate'])"
   ]
  },
  {
   "cell_type": "code",
   "execution_count": 57,
   "id": "described-venue",
   "metadata": {},
   "outputs": [
    {
     "data": {
      "text/plain": [
       "0.9851995540751091"
      ]
     },
     "execution_count": 57,
     "metadata": {},
     "output_type": "execute_result"
    }
   ],
   "source": [
    "df['dst_host_srv_rerror_rate'].corr(df['rerror_rate'])"
   ]
  },
  {
   "cell_type": "code",
   "execution_count": 58,
   "id": "south-revolution",
   "metadata": {},
   "outputs": [
    {
     "data": {
      "text/plain": [
       "0.9865705438845588"
      ]
     },
     "execution_count": 58,
     "metadata": {},
     "output_type": "execute_result"
    }
   ],
   "source": [
    "df['dst_host_srv_rerror_rate'].corr(df['srv_rerror_rate'])"
   ]
  },
  {
   "cell_type": "code",
   "execution_count": 59,
   "id": "extraordinary-mustang",
   "metadata": {},
   "outputs": [],
   "source": [
    "## This variable below is highly correlated each other and should be ignored for analysis\n",
    "df.drop('num_root', axis=1, inplace=True)\n",
    "df.drop('srv_serror_rate', axis=1, inplace=True)\n",
    "df.drop('srv_rerror_rate', axis=1, inplace=True)\n",
    "df.drop('dst_host_srv_serror_rate', axis=1, inplace=True)\n",
    "df.drop('dst_host_serror_rate', axis=1, inplace=True)\n",
    "df.drop('dst_host_rerror_rate', axis=1, inplace=True)\n",
    "df.drop('dst_host_srv_rerror_rate', axis=1, inplace=True)\n",
    "df.drop('dst_host_same_srv_rate', axis=1, inplace=True)"
   ]
  },
  {
   "cell_type": "code",
   "execution_count": 60,
   "id": "destroyed-florist",
   "metadata": {},
   "outputs": [
    {
     "data": {
      "text/html": [
       "<div>\n",
       "<style scoped>\n",
       "    .dataframe tbody tr th:only-of-type {\n",
       "        vertical-align: middle;\n",
       "    }\n",
       "\n",
       "    .dataframe tbody tr th {\n",
       "        vertical-align: top;\n",
       "    }\n",
       "\n",
       "    .dataframe thead th {\n",
       "        text-align: right;\n",
       "    }\n",
       "</style>\n",
       "<table border=\"1\" class=\"dataframe\">\n",
       "  <thead>\n",
       "    <tr style=\"text-align: right;\">\n",
       "      <th></th>\n",
       "      <th>duration</th>\n",
       "      <th>protocol_type</th>\n",
       "      <th>service</th>\n",
       "      <th>flag</th>\n",
       "      <th>src_bytes</th>\n",
       "      <th>dst_bytes</th>\n",
       "      <th>land</th>\n",
       "      <th>wrong_fragment</th>\n",
       "      <th>urgent</th>\n",
       "      <th>hot</th>\n",
       "      <th>...</th>\n",
       "      <th>same_srv_rate</th>\n",
       "      <th>diff_srv_rate</th>\n",
       "      <th>srv_diff_host_rate</th>\n",
       "      <th>dst_host_count</th>\n",
       "      <th>dst_host_srv_count</th>\n",
       "      <th>dst_host_diff_srv_rate</th>\n",
       "      <th>dst_host_same_src_port_rate</th>\n",
       "      <th>dst_host_srv_diff_host_rate</th>\n",
       "      <th>target</th>\n",
       "      <th>Attack Type</th>\n",
       "    </tr>\n",
       "  </thead>\n",
       "  <tbody>\n",
       "    <tr>\n",
       "      <th>0</th>\n",
       "      <td>0</td>\n",
       "      <td>tcp</td>\n",
       "      <td>http</td>\n",
       "      <td>SF</td>\n",
       "      <td>181</td>\n",
       "      <td>5450</td>\n",
       "      <td>0</td>\n",
       "      <td>0</td>\n",
       "      <td>0</td>\n",
       "      <td>0</td>\n",
       "      <td>...</td>\n",
       "      <td>1.0</td>\n",
       "      <td>0.0</td>\n",
       "      <td>0.0</td>\n",
       "      <td>9</td>\n",
       "      <td>9</td>\n",
       "      <td>0.0</td>\n",
       "      <td>0.11</td>\n",
       "      <td>0.0</td>\n",
       "      <td>normal.</td>\n",
       "      <td>normal</td>\n",
       "    </tr>\n",
       "    <tr>\n",
       "      <th>1</th>\n",
       "      <td>0</td>\n",
       "      <td>tcp</td>\n",
       "      <td>http</td>\n",
       "      <td>SF</td>\n",
       "      <td>239</td>\n",
       "      <td>486</td>\n",
       "      <td>0</td>\n",
       "      <td>0</td>\n",
       "      <td>0</td>\n",
       "      <td>0</td>\n",
       "      <td>...</td>\n",
       "      <td>1.0</td>\n",
       "      <td>0.0</td>\n",
       "      <td>0.0</td>\n",
       "      <td>19</td>\n",
       "      <td>19</td>\n",
       "      <td>0.0</td>\n",
       "      <td>0.05</td>\n",
       "      <td>0.0</td>\n",
       "      <td>normal.</td>\n",
       "      <td>normal</td>\n",
       "    </tr>\n",
       "    <tr>\n",
       "      <th>2</th>\n",
       "      <td>0</td>\n",
       "      <td>tcp</td>\n",
       "      <td>http</td>\n",
       "      <td>SF</td>\n",
       "      <td>235</td>\n",
       "      <td>1337</td>\n",
       "      <td>0</td>\n",
       "      <td>0</td>\n",
       "      <td>0</td>\n",
       "      <td>0</td>\n",
       "      <td>...</td>\n",
       "      <td>1.0</td>\n",
       "      <td>0.0</td>\n",
       "      <td>0.0</td>\n",
       "      <td>29</td>\n",
       "      <td>29</td>\n",
       "      <td>0.0</td>\n",
       "      <td>0.03</td>\n",
       "      <td>0.0</td>\n",
       "      <td>normal.</td>\n",
       "      <td>normal</td>\n",
       "    </tr>\n",
       "    <tr>\n",
       "      <th>3</th>\n",
       "      <td>0</td>\n",
       "      <td>tcp</td>\n",
       "      <td>http</td>\n",
       "      <td>SF</td>\n",
       "      <td>219</td>\n",
       "      <td>1337</td>\n",
       "      <td>0</td>\n",
       "      <td>0</td>\n",
       "      <td>0</td>\n",
       "      <td>0</td>\n",
       "      <td>...</td>\n",
       "      <td>1.0</td>\n",
       "      <td>0.0</td>\n",
       "      <td>0.0</td>\n",
       "      <td>39</td>\n",
       "      <td>39</td>\n",
       "      <td>0.0</td>\n",
       "      <td>0.03</td>\n",
       "      <td>0.0</td>\n",
       "      <td>normal.</td>\n",
       "      <td>normal</td>\n",
       "    </tr>\n",
       "    <tr>\n",
       "      <th>4</th>\n",
       "      <td>0</td>\n",
       "      <td>tcp</td>\n",
       "      <td>http</td>\n",
       "      <td>SF</td>\n",
       "      <td>217</td>\n",
       "      <td>2032</td>\n",
       "      <td>0</td>\n",
       "      <td>0</td>\n",
       "      <td>0</td>\n",
       "      <td>0</td>\n",
       "      <td>...</td>\n",
       "      <td>1.0</td>\n",
       "      <td>0.0</td>\n",
       "      <td>0.0</td>\n",
       "      <td>49</td>\n",
       "      <td>49</td>\n",
       "      <td>0.0</td>\n",
       "      <td>0.02</td>\n",
       "      <td>0.0</td>\n",
       "      <td>normal.</td>\n",
       "      <td>normal</td>\n",
       "    </tr>\n",
       "  </tbody>\n",
       "</table>\n",
       "<p>5 rows × 33 columns</p>\n",
       "</div>"
      ],
      "text/plain": [
       "   duration protocol_type service flag  src_bytes  dst_bytes  land  \\\n",
       "0         0           tcp    http   SF        181       5450     0   \n",
       "1         0           tcp    http   SF        239        486     0   \n",
       "2         0           tcp    http   SF        235       1337     0   \n",
       "3         0           tcp    http   SF        219       1337     0   \n",
       "4         0           tcp    http   SF        217       2032     0   \n",
       "\n",
       "   wrong_fragment  urgent  hot  ...  same_srv_rate  diff_srv_rate  \\\n",
       "0               0       0    0  ...            1.0            0.0   \n",
       "1               0       0    0  ...            1.0            0.0   \n",
       "2               0       0    0  ...            1.0            0.0   \n",
       "3               0       0    0  ...            1.0            0.0   \n",
       "4               0       0    0  ...            1.0            0.0   \n",
       "\n",
       "   srv_diff_host_rate  dst_host_count  dst_host_srv_count  \\\n",
       "0                 0.0               9                   9   \n",
       "1                 0.0              19                  19   \n",
       "2                 0.0              29                  29   \n",
       "3                 0.0              39                  39   \n",
       "4                 0.0              49                  49   \n",
       "\n",
       "   dst_host_diff_srv_rate  dst_host_same_src_port_rate  \\\n",
       "0                     0.0                         0.11   \n",
       "1                     0.0                         0.05   \n",
       "2                     0.0                         0.03   \n",
       "3                     0.0                         0.03   \n",
       "4                     0.0                         0.02   \n",
       "\n",
       "   dst_host_srv_diff_host_rate   target  Attack Type  \n",
       "0                          0.0  normal.       normal  \n",
       "1                          0.0  normal.       normal  \n",
       "2                          0.0  normal.       normal  \n",
       "3                          0.0  normal.       normal  \n",
       "4                          0.0  normal.       normal  \n",
       "\n",
       "[5 rows x 33 columns]"
      ]
     },
     "execution_count": 60,
     "metadata": {},
     "output_type": "execute_result"
    }
   ],
   "source": [
    "df.head()"
   ]
  },
  {
   "cell_type": "code",
   "execution_count": 61,
   "id": "homeless-lithuania",
   "metadata": {},
   "outputs": [
    {
     "data": {
      "text/plain": [
       "(494021, 33)"
      ]
     },
     "execution_count": 61,
     "metadata": {},
     "output_type": "execute_result"
    }
   ],
   "source": [
    "df.shape"
   ]
  },
  {
   "cell_type": "code",
   "execution_count": 62,
   "id": "single-nightlife",
   "metadata": {},
   "outputs": [
    {
     "data": {
      "text/plain": [
       "Index(['duration', 'protocol_type', 'service', 'flag', 'src_bytes',\n",
       "       'dst_bytes', 'land', 'wrong_fragment', 'urgent', 'hot',\n",
       "       'num_failed_logins', 'logged_in', 'num_compromised', 'root_shell',\n",
       "       'su_attempted', 'num_file_creations', 'num_shells', 'num_access_files',\n",
       "       'is_guest_login', 'count', 'srv_count', 'serror_rate', 'rerror_rate',\n",
       "       'same_srv_rate', 'diff_srv_rate', 'srv_diff_host_rate',\n",
       "       'dst_host_count', 'dst_host_srv_count', 'dst_host_diff_srv_rate',\n",
       "       'dst_host_same_src_port_rate', 'dst_host_srv_diff_host_rate', 'target',\n",
       "       'Attack Type'],\n",
       "      dtype='object')"
      ]
     },
     "execution_count": 62,
     "metadata": {},
     "output_type": "execute_result"
    }
   ],
   "source": [
    "df.columns"
   ]
  },
  {
   "cell_type": "code",
   "execution_count": 63,
   "id": "transsexual-shock",
   "metadata": {},
   "outputs": [
    {
     "name": "stderr",
     "output_type": "stream",
     "text": [
      "<ipython-input-63-31cbdde0e293>:1: FutureWarning: Dropping of nuisance columns in DataFrame reductions (with 'numeric_only=None') is deprecated; in a future version this will raise TypeError.  Select only valid columns before calling the reduction.\n",
      "  df_std = df.std()\n"
     ]
    },
    {
     "data": {
      "text/plain": [
       "urgent                              0.005510\n",
       "land                                0.006673\n",
       "su_attempted                        0.007793\n",
       "root_shell                          0.010551\n",
       "num_shells                          0.011020\n",
       "num_failed_logins                   0.015520\n",
       "num_access_files                    0.036482\n",
       "is_guest_login                      0.037211\n",
       "dst_host_srv_diff_host_rate         0.042133\n",
       "diff_srv_rate                       0.082205\n",
       "num_file_creations                  0.096416\n",
       "dst_host_diff_srv_rate              0.109259\n",
       "wrong_fragment                      0.134805\n",
       "srv_diff_host_rate                  0.142397\n",
       "rerror_rate                         0.231623\n",
       "logged_in                           0.355345\n",
       "serror_rate                         0.380717\n",
       "same_srv_rate                       0.388189\n",
       "dst_host_same_src_port_rate         0.481309\n",
       "hot                                 0.782103\n",
       "num_compromised                     1.798326\n",
       "dst_host_count                     64.745380\n",
       "dst_host_srv_count                106.040437\n",
       "count                             213.147412\n",
       "srv_count                         246.322817\n",
       "duration                          707.746472\n",
       "dst_bytes                       33040.001252\n",
       "src_bytes                      988218.101050\n",
       "dtype: float64"
      ]
     },
     "execution_count": 63,
     "metadata": {},
     "output_type": "execute_result"
    }
   ],
   "source": [
    "df_std = df.std()\n",
    "df_std = df_std.sort_values(ascending=True)\n",
    "df_std"
   ]
  },
  {
   "cell_type": "markdown",
   "id": "chubby-planet",
   "metadata": {},
   "source": [
    "## Feature Mapping"
   ]
  },
  {
   "cell_type": "code",
   "execution_count": 64,
   "id": "sensitive-fisher",
   "metadata": {},
   "outputs": [
    {
     "data": {
      "text/plain": [
       "icmp    283602\n",
       "tcp     190065\n",
       "udp      20354\n",
       "Name: protocol_type, dtype: int64"
      ]
     },
     "execution_count": 64,
     "metadata": {},
     "output_type": "execute_result"
    }
   ],
   "source": [
    "df['protocol_type'].value_counts()"
   ]
  },
  {
   "cell_type": "code",
   "execution_count": 65,
   "id": "bright-healthcare",
   "metadata": {},
   "outputs": [],
   "source": [
    "# Protocol_type feature mapping\n",
    "pmap = {'icmp': 0, 'tcp': 1, 'udp': 2}\n",
    "df['protocol_type'] = df['protocol_type'].map(pmap)"
   ]
  },
  {
   "cell_type": "code",
   "execution_count": 66,
   "id": "homeless-marathon",
   "metadata": {},
   "outputs": [
    {
     "data": {
      "text/plain": [
       "SF        378440\n",
       "S0         87007\n",
       "REJ        26875\n",
       "RSTR         903\n",
       "RSTO         579\n",
       "SH           107\n",
       "S1            57\n",
       "S2            24\n",
       "RSTOS0        11\n",
       "S3            10\n",
       "OTH            8\n",
       "Name: flag, dtype: int64"
      ]
     },
     "execution_count": 66,
     "metadata": {},
     "output_type": "execute_result"
    }
   ],
   "source": [
    "df['flag'].value_counts()"
   ]
  },
  {
   "cell_type": "code",
   "execution_count": 67,
   "id": "engaged-syndicate",
   "metadata": {},
   "outputs": [],
   "source": [
    "# Flag feature mapping\n",
    "fmap = {'SF': 0, 'S0': 1,\n",
    "        'REJ': 2, 'RSTR': 2,\n",
    "        'RSTO': 4, 'SH': 5,\n",
    "        'S1': 6, 'S2': 7,\n",
    "        \"RST0S0\": 8, 'S3': 9,\n",
    "        \"OTH\": 10\n",
    "       }\n",
    "\n",
    "df['flag'] = df['flag'].map(fmap)"
   ]
  },
  {
   "cell_type": "code",
   "execution_count": 68,
   "id": "bulgarian-enough",
   "metadata": {},
   "outputs": [
    {
     "data": {
      "text/html": [
       "<div>\n",
       "<style scoped>\n",
       "    .dataframe tbody tr th:only-of-type {\n",
       "        vertical-align: middle;\n",
       "    }\n",
       "\n",
       "    .dataframe tbody tr th {\n",
       "        vertical-align: top;\n",
       "    }\n",
       "\n",
       "    .dataframe thead th {\n",
       "        text-align: right;\n",
       "    }\n",
       "</style>\n",
       "<table border=\"1\" class=\"dataframe\">\n",
       "  <thead>\n",
       "    <tr style=\"text-align: right;\">\n",
       "      <th></th>\n",
       "      <th>duration</th>\n",
       "      <th>protocol_type</th>\n",
       "      <th>service</th>\n",
       "      <th>flag</th>\n",
       "      <th>src_bytes</th>\n",
       "      <th>dst_bytes</th>\n",
       "      <th>land</th>\n",
       "      <th>wrong_fragment</th>\n",
       "      <th>urgent</th>\n",
       "      <th>hot</th>\n",
       "      <th>...</th>\n",
       "      <th>same_srv_rate</th>\n",
       "      <th>diff_srv_rate</th>\n",
       "      <th>srv_diff_host_rate</th>\n",
       "      <th>dst_host_count</th>\n",
       "      <th>dst_host_srv_count</th>\n",
       "      <th>dst_host_diff_srv_rate</th>\n",
       "      <th>dst_host_same_src_port_rate</th>\n",
       "      <th>dst_host_srv_diff_host_rate</th>\n",
       "      <th>target</th>\n",
       "      <th>Attack Type</th>\n",
       "    </tr>\n",
       "  </thead>\n",
       "  <tbody>\n",
       "    <tr>\n",
       "      <th>0</th>\n",
       "      <td>0</td>\n",
       "      <td>1</td>\n",
       "      <td>http</td>\n",
       "      <td>0.0</td>\n",
       "      <td>181</td>\n",
       "      <td>5450</td>\n",
       "      <td>0</td>\n",
       "      <td>0</td>\n",
       "      <td>0</td>\n",
       "      <td>0</td>\n",
       "      <td>...</td>\n",
       "      <td>1.0</td>\n",
       "      <td>0.0</td>\n",
       "      <td>0.0</td>\n",
       "      <td>9</td>\n",
       "      <td>9</td>\n",
       "      <td>0.0</td>\n",
       "      <td>0.11</td>\n",
       "      <td>0.0</td>\n",
       "      <td>normal.</td>\n",
       "      <td>normal</td>\n",
       "    </tr>\n",
       "    <tr>\n",
       "      <th>1</th>\n",
       "      <td>0</td>\n",
       "      <td>1</td>\n",
       "      <td>http</td>\n",
       "      <td>0.0</td>\n",
       "      <td>239</td>\n",
       "      <td>486</td>\n",
       "      <td>0</td>\n",
       "      <td>0</td>\n",
       "      <td>0</td>\n",
       "      <td>0</td>\n",
       "      <td>...</td>\n",
       "      <td>1.0</td>\n",
       "      <td>0.0</td>\n",
       "      <td>0.0</td>\n",
       "      <td>19</td>\n",
       "      <td>19</td>\n",
       "      <td>0.0</td>\n",
       "      <td>0.05</td>\n",
       "      <td>0.0</td>\n",
       "      <td>normal.</td>\n",
       "      <td>normal</td>\n",
       "    </tr>\n",
       "    <tr>\n",
       "      <th>2</th>\n",
       "      <td>0</td>\n",
       "      <td>1</td>\n",
       "      <td>http</td>\n",
       "      <td>0.0</td>\n",
       "      <td>235</td>\n",
       "      <td>1337</td>\n",
       "      <td>0</td>\n",
       "      <td>0</td>\n",
       "      <td>0</td>\n",
       "      <td>0</td>\n",
       "      <td>...</td>\n",
       "      <td>1.0</td>\n",
       "      <td>0.0</td>\n",
       "      <td>0.0</td>\n",
       "      <td>29</td>\n",
       "      <td>29</td>\n",
       "      <td>0.0</td>\n",
       "      <td>0.03</td>\n",
       "      <td>0.0</td>\n",
       "      <td>normal.</td>\n",
       "      <td>normal</td>\n",
       "    </tr>\n",
       "    <tr>\n",
       "      <th>3</th>\n",
       "      <td>0</td>\n",
       "      <td>1</td>\n",
       "      <td>http</td>\n",
       "      <td>0.0</td>\n",
       "      <td>219</td>\n",
       "      <td>1337</td>\n",
       "      <td>0</td>\n",
       "      <td>0</td>\n",
       "      <td>0</td>\n",
       "      <td>0</td>\n",
       "      <td>...</td>\n",
       "      <td>1.0</td>\n",
       "      <td>0.0</td>\n",
       "      <td>0.0</td>\n",
       "      <td>39</td>\n",
       "      <td>39</td>\n",
       "      <td>0.0</td>\n",
       "      <td>0.03</td>\n",
       "      <td>0.0</td>\n",
       "      <td>normal.</td>\n",
       "      <td>normal</td>\n",
       "    </tr>\n",
       "    <tr>\n",
       "      <th>4</th>\n",
       "      <td>0</td>\n",
       "      <td>1</td>\n",
       "      <td>http</td>\n",
       "      <td>0.0</td>\n",
       "      <td>217</td>\n",
       "      <td>2032</td>\n",
       "      <td>0</td>\n",
       "      <td>0</td>\n",
       "      <td>0</td>\n",
       "      <td>0</td>\n",
       "      <td>...</td>\n",
       "      <td>1.0</td>\n",
       "      <td>0.0</td>\n",
       "      <td>0.0</td>\n",
       "      <td>49</td>\n",
       "      <td>49</td>\n",
       "      <td>0.0</td>\n",
       "      <td>0.02</td>\n",
       "      <td>0.0</td>\n",
       "      <td>normal.</td>\n",
       "      <td>normal</td>\n",
       "    </tr>\n",
       "  </tbody>\n",
       "</table>\n",
       "<p>5 rows × 33 columns</p>\n",
       "</div>"
      ],
      "text/plain": [
       "   duration  protocol_type service  flag  src_bytes  dst_bytes  land  \\\n",
       "0         0              1    http   0.0        181       5450     0   \n",
       "1         0              1    http   0.0        239        486     0   \n",
       "2         0              1    http   0.0        235       1337     0   \n",
       "3         0              1    http   0.0        219       1337     0   \n",
       "4         0              1    http   0.0        217       2032     0   \n",
       "\n",
       "   wrong_fragment  urgent  hot  ...  same_srv_rate  diff_srv_rate  \\\n",
       "0               0       0    0  ...            1.0            0.0   \n",
       "1               0       0    0  ...            1.0            0.0   \n",
       "2               0       0    0  ...            1.0            0.0   \n",
       "3               0       0    0  ...            1.0            0.0   \n",
       "4               0       0    0  ...            1.0            0.0   \n",
       "\n",
       "   srv_diff_host_rate  dst_host_count  dst_host_srv_count  \\\n",
       "0                 0.0               9                   9   \n",
       "1                 0.0              19                  19   \n",
       "2                 0.0              29                  29   \n",
       "3                 0.0              39                  39   \n",
       "4                 0.0              49                  49   \n",
       "\n",
       "   dst_host_diff_srv_rate  dst_host_same_src_port_rate  \\\n",
       "0                     0.0                         0.11   \n",
       "1                     0.0                         0.05   \n",
       "2                     0.0                         0.03   \n",
       "3                     0.0                         0.03   \n",
       "4                     0.0                         0.02   \n",
       "\n",
       "   dst_host_srv_diff_host_rate   target  Attack Type  \n",
       "0                          0.0  normal.       normal  \n",
       "1                          0.0  normal.       normal  \n",
       "2                          0.0  normal.       normal  \n",
       "3                          0.0  normal.       normal  \n",
       "4                          0.0  normal.       normal  \n",
       "\n",
       "[5 rows x 33 columns]"
      ]
     },
     "execution_count": 68,
     "metadata": {},
     "output_type": "execute_result"
    }
   ],
   "source": [
    "df.head()"
   ]
  },
  {
   "cell_type": "code",
   "execution_count": 71,
   "id": "informal-myanmar",
   "metadata": {},
   "outputs": [
    {
     "data": {
      "text/plain": [
       "0.0     378440\n",
       "1.0      87007\n",
       "2.0      27778\n",
       "4.0        579\n",
       "5.0        107\n",
       "6.0         57\n",
       "7.0         24\n",
       "9.0         10\n",
       "10.0         8\n",
       "Name: flag, dtype: int64"
      ]
     },
     "execution_count": 71,
     "metadata": {},
     "output_type": "execute_result"
    }
   ],
   "source": [
    "df.flag.value_counts()"
   ]
  },
  {
   "cell_type": "code",
   "execution_count": 72,
   "id": "executed-declaration",
   "metadata": {},
   "outputs": [],
   "source": [
    "df.drop('service', axis=1, inplace=True)"
   ]
  },
  {
   "cell_type": "code",
   "execution_count": 73,
   "id": "vertical-browse",
   "metadata": {},
   "outputs": [
    {
     "data": {
      "text/plain": [
       "(494021, 32)"
      ]
     },
     "execution_count": 73,
     "metadata": {},
     "output_type": "execute_result"
    }
   ],
   "source": [
    "df.shape"
   ]
  },
  {
   "cell_type": "code",
   "execution_count": 74,
   "id": "aquatic-terrace",
   "metadata": {},
   "outputs": [
    {
     "data": {
      "text/html": [
       "<div>\n",
       "<style scoped>\n",
       "    .dataframe tbody tr th:only-of-type {\n",
       "        vertical-align: middle;\n",
       "    }\n",
       "\n",
       "    .dataframe tbody tr th {\n",
       "        vertical-align: top;\n",
       "    }\n",
       "\n",
       "    .dataframe thead th {\n",
       "        text-align: right;\n",
       "    }\n",
       "</style>\n",
       "<table border=\"1\" class=\"dataframe\">\n",
       "  <thead>\n",
       "    <tr style=\"text-align: right;\">\n",
       "      <th></th>\n",
       "      <th>duration</th>\n",
       "      <th>protocol_type</th>\n",
       "      <th>flag</th>\n",
       "      <th>src_bytes</th>\n",
       "      <th>dst_bytes</th>\n",
       "      <th>land</th>\n",
       "      <th>wrong_fragment</th>\n",
       "      <th>urgent</th>\n",
       "      <th>hot</th>\n",
       "      <th>num_failed_logins</th>\n",
       "      <th>...</th>\n",
       "      <th>same_srv_rate</th>\n",
       "      <th>diff_srv_rate</th>\n",
       "      <th>srv_diff_host_rate</th>\n",
       "      <th>dst_host_count</th>\n",
       "      <th>dst_host_srv_count</th>\n",
       "      <th>dst_host_diff_srv_rate</th>\n",
       "      <th>dst_host_same_src_port_rate</th>\n",
       "      <th>dst_host_srv_diff_host_rate</th>\n",
       "      <th>target</th>\n",
       "      <th>Attack Type</th>\n",
       "    </tr>\n",
       "  </thead>\n",
       "  <tbody>\n",
       "    <tr>\n",
       "      <th>0</th>\n",
       "      <td>0</td>\n",
       "      <td>1</td>\n",
       "      <td>0.0</td>\n",
       "      <td>181</td>\n",
       "      <td>5450</td>\n",
       "      <td>0</td>\n",
       "      <td>0</td>\n",
       "      <td>0</td>\n",
       "      <td>0</td>\n",
       "      <td>0</td>\n",
       "      <td>...</td>\n",
       "      <td>1.0</td>\n",
       "      <td>0.0</td>\n",
       "      <td>0.0</td>\n",
       "      <td>9</td>\n",
       "      <td>9</td>\n",
       "      <td>0.0</td>\n",
       "      <td>0.11</td>\n",
       "      <td>0.0</td>\n",
       "      <td>normal.</td>\n",
       "      <td>normal</td>\n",
       "    </tr>\n",
       "    <tr>\n",
       "      <th>1</th>\n",
       "      <td>0</td>\n",
       "      <td>1</td>\n",
       "      <td>0.0</td>\n",
       "      <td>239</td>\n",
       "      <td>486</td>\n",
       "      <td>0</td>\n",
       "      <td>0</td>\n",
       "      <td>0</td>\n",
       "      <td>0</td>\n",
       "      <td>0</td>\n",
       "      <td>...</td>\n",
       "      <td>1.0</td>\n",
       "      <td>0.0</td>\n",
       "      <td>0.0</td>\n",
       "      <td>19</td>\n",
       "      <td>19</td>\n",
       "      <td>0.0</td>\n",
       "      <td>0.05</td>\n",
       "      <td>0.0</td>\n",
       "      <td>normal.</td>\n",
       "      <td>normal</td>\n",
       "    </tr>\n",
       "    <tr>\n",
       "      <th>2</th>\n",
       "      <td>0</td>\n",
       "      <td>1</td>\n",
       "      <td>0.0</td>\n",
       "      <td>235</td>\n",
       "      <td>1337</td>\n",
       "      <td>0</td>\n",
       "      <td>0</td>\n",
       "      <td>0</td>\n",
       "      <td>0</td>\n",
       "      <td>0</td>\n",
       "      <td>...</td>\n",
       "      <td>1.0</td>\n",
       "      <td>0.0</td>\n",
       "      <td>0.0</td>\n",
       "      <td>29</td>\n",
       "      <td>29</td>\n",
       "      <td>0.0</td>\n",
       "      <td>0.03</td>\n",
       "      <td>0.0</td>\n",
       "      <td>normal.</td>\n",
       "      <td>normal</td>\n",
       "    </tr>\n",
       "    <tr>\n",
       "      <th>3</th>\n",
       "      <td>0</td>\n",
       "      <td>1</td>\n",
       "      <td>0.0</td>\n",
       "      <td>219</td>\n",
       "      <td>1337</td>\n",
       "      <td>0</td>\n",
       "      <td>0</td>\n",
       "      <td>0</td>\n",
       "      <td>0</td>\n",
       "      <td>0</td>\n",
       "      <td>...</td>\n",
       "      <td>1.0</td>\n",
       "      <td>0.0</td>\n",
       "      <td>0.0</td>\n",
       "      <td>39</td>\n",
       "      <td>39</td>\n",
       "      <td>0.0</td>\n",
       "      <td>0.03</td>\n",
       "      <td>0.0</td>\n",
       "      <td>normal.</td>\n",
       "      <td>normal</td>\n",
       "    </tr>\n",
       "    <tr>\n",
       "      <th>4</th>\n",
       "      <td>0</td>\n",
       "      <td>1</td>\n",
       "      <td>0.0</td>\n",
       "      <td>217</td>\n",
       "      <td>2032</td>\n",
       "      <td>0</td>\n",
       "      <td>0</td>\n",
       "      <td>0</td>\n",
       "      <td>0</td>\n",
       "      <td>0</td>\n",
       "      <td>...</td>\n",
       "      <td>1.0</td>\n",
       "      <td>0.0</td>\n",
       "      <td>0.0</td>\n",
       "      <td>49</td>\n",
       "      <td>49</td>\n",
       "      <td>0.0</td>\n",
       "      <td>0.02</td>\n",
       "      <td>0.0</td>\n",
       "      <td>normal.</td>\n",
       "      <td>normal</td>\n",
       "    </tr>\n",
       "  </tbody>\n",
       "</table>\n",
       "<p>5 rows × 32 columns</p>\n",
       "</div>"
      ],
      "text/plain": [
       "   duration  protocol_type  flag  src_bytes  dst_bytes  land  wrong_fragment  \\\n",
       "0         0              1   0.0        181       5450     0               0   \n",
       "1         0              1   0.0        239        486     0               0   \n",
       "2         0              1   0.0        235       1337     0               0   \n",
       "3         0              1   0.0        219       1337     0               0   \n",
       "4         0              1   0.0        217       2032     0               0   \n",
       "\n",
       "   urgent  hot  num_failed_logins  ...  same_srv_rate  diff_srv_rate  \\\n",
       "0       0    0                  0  ...            1.0            0.0   \n",
       "1       0    0                  0  ...            1.0            0.0   \n",
       "2       0    0                  0  ...            1.0            0.0   \n",
       "3       0    0                  0  ...            1.0            0.0   \n",
       "4       0    0                  0  ...            1.0            0.0   \n",
       "\n",
       "   srv_diff_host_rate  dst_host_count  dst_host_srv_count  \\\n",
       "0                 0.0               9                   9   \n",
       "1                 0.0              19                  19   \n",
       "2                 0.0              29                  29   \n",
       "3                 0.0              39                  39   \n",
       "4                 0.0              49                  49   \n",
       "\n",
       "   dst_host_diff_srv_rate  dst_host_same_src_port_rate  \\\n",
       "0                     0.0                         0.11   \n",
       "1                     0.0                         0.05   \n",
       "2                     0.0                         0.03   \n",
       "3                     0.0                         0.03   \n",
       "4                     0.0                         0.02   \n",
       "\n",
       "   dst_host_srv_diff_host_rate   target  Attack Type  \n",
       "0                          0.0  normal.       normal  \n",
       "1                          0.0  normal.       normal  \n",
       "2                          0.0  normal.       normal  \n",
       "3                          0.0  normal.       normal  \n",
       "4                          0.0  normal.       normal  \n",
       "\n",
       "[5 rows x 32 columns]"
      ]
     },
     "execution_count": 74,
     "metadata": {},
     "output_type": "execute_result"
    }
   ],
   "source": [
    "df.head()"
   ]
  },
  {
   "cell_type": "code",
   "execution_count": 75,
   "id": "closed-spectrum",
   "metadata": {},
   "outputs": [
    {
     "data": {
      "text/plain": [
       "duration                         int64\n",
       "protocol_type                    int64\n",
       "flag                           float64\n",
       "src_bytes                        int64\n",
       "dst_bytes                        int64\n",
       "land                             int64\n",
       "wrong_fragment                   int64\n",
       "urgent                           int64\n",
       "hot                              int64\n",
       "num_failed_logins                int64\n",
       "logged_in                        int64\n",
       "num_compromised                  int64\n",
       "root_shell                       int64\n",
       "su_attempted                     int64\n",
       "num_file_creations               int64\n",
       "num_shells                       int64\n",
       "num_access_files                 int64\n",
       "is_guest_login                   int64\n",
       "count                            int64\n",
       "srv_count                        int64\n",
       "serror_rate                    float64\n",
       "rerror_rate                    float64\n",
       "same_srv_rate                  float64\n",
       "diff_srv_rate                  float64\n",
       "srv_diff_host_rate             float64\n",
       "dst_host_count                   int64\n",
       "dst_host_srv_count               int64\n",
       "dst_host_diff_srv_rate         float64\n",
       "dst_host_same_src_port_rate    float64\n",
       "dst_host_srv_diff_host_rate    float64\n",
       "target                          object\n",
       "Attack Type                     object\n",
       "dtype: object"
      ]
     },
     "execution_count": 75,
     "metadata": {},
     "output_type": "execute_result"
    }
   ],
   "source": [
    "df.dtypes"
   ]
  },
  {
   "cell_type": "markdown",
   "id": "nuclear-legislation",
   "metadata": {},
   "source": [
    "## Modeling"
   ]
  },
  {
   "cell_type": "code",
   "execution_count": 77,
   "id": "precise-halifax",
   "metadata": {},
   "outputs": [],
   "source": [
    "from sklearn.model_selection import train_test_split\n",
    "from sklearn.preprocessing import MinMaxScaler\n",
    "from sklearn.metrics import accuracy_score"
   ]
  },
  {
   "cell_type": "code",
   "execution_count": 91,
   "id": "veterinary-isaac",
   "metadata": {},
   "outputs": [
    {
     "data": {
      "text/plain": [
       "duration                        0\n",
       "protocol_type                   0\n",
       "flag                           11\n",
       "src_bytes                       0\n",
       "dst_bytes                       0\n",
       "land                            0\n",
       "wrong_fragment                  0\n",
       "urgent                          0\n",
       "hot                             0\n",
       "num_failed_logins               0\n",
       "logged_in                       0\n",
       "num_compromised                 0\n",
       "root_shell                      0\n",
       "su_attempted                    0\n",
       "num_file_creations              0\n",
       "num_shells                      0\n",
       "num_access_files                0\n",
       "is_guest_login                  0\n",
       "count                           0\n",
       "srv_count                       0\n",
       "serror_rate                     0\n",
       "rerror_rate                     0\n",
       "same_srv_rate                   0\n",
       "diff_srv_rate                   0\n",
       "srv_diff_host_rate              0\n",
       "dst_host_count                  0\n",
       "dst_host_srv_count              0\n",
       "dst_host_diff_srv_rate          0\n",
       "dst_host_same_src_port_rate     0\n",
       "dst_host_srv_diff_host_rate     0\n",
       "Attack Type                     0\n",
       "dtype: int64"
      ]
     },
     "execution_count": 91,
     "metadata": {},
     "output_type": "execute_result"
    }
   ],
   "source": [
    "df.isna().sum()"
   ]
  },
  {
   "cell_type": "code",
   "execution_count": 94,
   "id": "imposed-clear",
   "metadata": {},
   "outputs": [],
   "source": [
    "df.dropna(inplace=True)"
   ]
  },
  {
   "cell_type": "code",
   "execution_count": 95,
   "id": "assumed-lyric",
   "metadata": {},
   "outputs": [
    {
     "data": {
      "text/plain": [
       "duration                       0\n",
       "protocol_type                  0\n",
       "flag                           0\n",
       "src_bytes                      0\n",
       "dst_bytes                      0\n",
       "land                           0\n",
       "wrong_fragment                 0\n",
       "urgent                         0\n",
       "hot                            0\n",
       "num_failed_logins              0\n",
       "logged_in                      0\n",
       "num_compromised                0\n",
       "root_shell                     0\n",
       "su_attempted                   0\n",
       "num_file_creations             0\n",
       "num_shells                     0\n",
       "num_access_files               0\n",
       "is_guest_login                 0\n",
       "count                          0\n",
       "srv_count                      0\n",
       "serror_rate                    0\n",
       "rerror_rate                    0\n",
       "same_srv_rate                  0\n",
       "diff_srv_rate                  0\n",
       "srv_diff_host_rate             0\n",
       "dst_host_count                 0\n",
       "dst_host_srv_count             0\n",
       "dst_host_diff_srv_rate         0\n",
       "dst_host_same_src_port_rate    0\n",
       "dst_host_srv_diff_host_rate    0\n",
       "Attack Type                    0\n",
       "dtype: int64"
      ]
     },
     "execution_count": 95,
     "metadata": {},
     "output_type": "execute_result"
    }
   ],
   "source": [
    "df.isna().sum()"
   ]
  },
  {
   "cell_type": "code",
   "execution_count": 97,
   "id": "mineral-imagination",
   "metadata": {},
   "outputs": [
    {
     "name": "stdout",
     "output_type": "stream",
     "text": [
      "(395208, 30) (98802, 30)\n",
      "(395208, 1) (98802, 1)\n"
     ]
    }
   ],
   "source": [
    "df = df.drop(['target'], axis=1)\n",
    "print(df.shape)\n",
    "\n",
    "# Target variable and training set\n",
    "y = df[['Attack Type']]\n",
    "X = df.drop(['Attack Type'], axis=1)\n",
    "\n",
    "sc = MinMaxScaler()\n",
    "X = sc.fit_transform(X)\n",
    "\n",
    "# Split\n",
    "X_train, X_test, y_train, y_test = train_test_split(X, y, test_size=0.2, random_state=42)\n",
    "print(X_train.shape, X_test.shape)\n",
    "print(y_train.shape, y_test.shape)"
   ]
  },
  {
   "cell_type": "markdown",
   "id": "negative-arrest",
   "metadata": {},
   "source": [
    "### Gaussian Naive Bayes"
   ]
  },
  {
   "cell_type": "code",
   "execution_count": 98,
   "id": "automated-channel",
   "metadata": {},
   "outputs": [],
   "source": [
    "from sklearn.naive_bayes import GaussianNB"
   ]
  },
  {
   "cell_type": "code",
   "execution_count": 99,
   "id": "brutal-request",
   "metadata": {},
   "outputs": [],
   "source": [
    "model_1 = GaussianNB()"
   ]
  },
  {
   "cell_type": "code",
   "execution_count": 100,
   "id": "automated-particle",
   "metadata": {},
   "outputs": [],
   "source": [
    "start_time = time.time()\n",
    "model_1.fit(X_train, y_train.values.ravel())\n",
    "end_time = time.time()"
   ]
  },
  {
   "cell_type": "code",
   "execution_count": 101,
   "id": "worth-lying",
   "metadata": {},
   "outputs": [
    {
     "name": "stdout",
     "output_type": "stream",
     "text": [
      "Training time: 1.715665578842163\n"
     ]
    }
   ],
   "source": [
    "print(\"Training time:\", end_time - start_time)"
   ]
  },
  {
   "cell_type": "code",
   "execution_count": 102,
   "id": "numerical-bristol",
   "metadata": {},
   "outputs": [],
   "source": [
    "start_time = time.time()\n",
    "y_test_pred_1 = model_1.predict(X_test)\n",
    "end_time = time.time()"
   ]
  },
  {
   "cell_type": "code",
   "execution_count": 103,
   "id": "velvet-character",
   "metadata": {},
   "outputs": [
    {
     "name": "stdout",
     "output_type": "stream",
     "text": [
      "testing time 0.3343496322631836\n"
     ]
    }
   ],
   "source": [
    "print(\"testing time\", end_time - start_time)"
   ]
  },
  {
   "cell_type": "code",
   "execution_count": 104,
   "id": "fancy-spare",
   "metadata": {},
   "outputs": [
    {
     "name": "stdout",
     "output_type": "stream",
     "text": [
      "Train score: 0.8813384344446469\n",
      "Test score: 0.8816015870124086\n"
     ]
    }
   ],
   "source": [
    "print(\"Train score:\", model_1.score(X_train, y_train))\n",
    "print(\"Test score:\", model_1.score(X_test, y_test))"
   ]
  },
  {
   "cell_type": "markdown",
   "id": "nominated-aquatic",
   "metadata": {},
   "source": [
    "### Decision Tree"
   ]
  },
  {
   "cell_type": "code",
   "execution_count": 105,
   "id": "restricted-director",
   "metadata": {},
   "outputs": [],
   "source": [
    "from sklearn.tree import DecisionTreeClassifier"
   ]
  },
  {
   "cell_type": "code",
   "execution_count": 106,
   "id": "worldwide-header",
   "metadata": {},
   "outputs": [],
   "source": [
    "model_2 = DecisionTreeClassifier(criterion='entropy', max_depth=4)"
   ]
  },
  {
   "cell_type": "code",
   "execution_count": 107,
   "id": "floating-posting",
   "metadata": {},
   "outputs": [],
   "source": [
    "start_time = time.time()\n",
    "model_2.fit(X_train, y_train.values.ravel())\n",
    "end_time = time.time()"
   ]
  },
  {
   "cell_type": "code",
   "execution_count": 108,
   "id": "important-defense",
   "metadata": {},
   "outputs": [
    {
     "name": "stdout",
     "output_type": "stream",
     "text": [
      "Training time: 2.8640618324279785\n"
     ]
    }
   ],
   "source": [
    "print(\"Training time:\", end_time - start_time)"
   ]
  },
  {
   "cell_type": "code",
   "execution_count": 109,
   "id": "frank-trouble",
   "metadata": {},
   "outputs": [],
   "source": [
    "start_time = time.time()\n",
    "y_test_pred_2 = model_2.predict(X_test)\n",
    "end_time = time.time()"
   ]
  },
  {
   "cell_type": "code",
   "execution_count": 110,
   "id": "executed-certificate",
   "metadata": {},
   "outputs": [
    {
     "name": "stdout",
     "output_type": "stream",
     "text": [
      "testing time 0.03789877891540527\n"
     ]
    }
   ],
   "source": [
    "print(\"testing time\", end_time - start_time)"
   ]
  },
  {
   "cell_type": "code",
   "execution_count": 111,
   "id": "timely-design",
   "metadata": {},
   "outputs": [
    {
     "name": "stdout",
     "output_type": "stream",
     "text": [
      "Train score: 0.9905695228841521\n",
      "Test score: 0.9906277200866379\n"
     ]
    }
   ],
   "source": [
    "print(\"Train score:\", model_2.score(X_train, y_train))\n",
    "print(\"Test score:\", model_2.score(X_test, y_test))"
   ]
  },
  {
   "cell_type": "markdown",
   "id": "thrown-topic",
   "metadata": {},
   "source": [
    "## Model Functions"
   ]
  },
  {
   "cell_type": "code",
   "execution_count": 121,
   "id": "agricultural-equation",
   "metadata": {},
   "outputs": [],
   "source": [
    "def train_model(model):\n",
    "    start_time = time.time()\n",
    "    model.fit(X_train, y_train.values.ravel())\n",
    "    end_time = time.time()\n",
    "    print(\"Training time:\", end_time - start_time)\n",
    "    return model\n",
    "    \n",
    "def test_model(model):\n",
    "    start_time = time.time()\n",
    "    y_test_pred = model.predict(X_test)\n",
    "    end_time = time.time()\n",
    "    print(\"testing time\", end_time - start_time)\n",
    "    return y_test_pred\n",
    "    \n",
    "def score_model(model):\n",
    "    print(\"Train score:\", model.score(X_train, y_train))\n",
    "    print(\"Test score:\", model.score(X_test, y_test))"
   ]
  },
  {
   "cell_type": "markdown",
   "id": "peripheral-miller",
   "metadata": {},
   "source": [
    "### Random Forest"
   ]
  },
  {
   "cell_type": "code",
   "execution_count": 114,
   "id": "handmade-stress",
   "metadata": {},
   "outputs": [],
   "source": [
    "from sklearn.ensemble import RandomForestClassifier"
   ]
  },
  {
   "cell_type": "code",
   "execution_count": 115,
   "id": "celtic-stake",
   "metadata": {},
   "outputs": [],
   "source": [
    "model_3 = RandomForestClassifier(n_estimators=30)"
   ]
  },
  {
   "cell_type": "code",
   "execution_count": 124,
   "id": "dirty-screw",
   "metadata": {},
   "outputs": [
    {
     "name": "stdout",
     "output_type": "stream",
     "text": [
      "Training time: 21.10207462310791\n"
     ]
    }
   ],
   "source": [
    "model_3 = train_model(model_3)"
   ]
  },
  {
   "cell_type": "code",
   "execution_count": 125,
   "id": "czech-kernel",
   "metadata": {},
   "outputs": [
    {
     "name": "stdout",
     "output_type": "stream",
     "text": [
      "testing time 0.6094017028808594\n"
     ]
    }
   ],
   "source": [
    "y_test_pred_3 = test_model(model_3)"
   ]
  },
  {
   "cell_type": "code",
   "execution_count": 126,
   "id": "nominated-genius",
   "metadata": {},
   "outputs": [
    {
     "name": "stdout",
     "output_type": "stream",
     "text": [
      "Train score: 0.9999721665553329\n",
      "Test score: 0.9996255136535698\n"
     ]
    }
   ],
   "source": [
    "score_model(model_3)"
   ]
  },
  {
   "cell_type": "markdown",
   "id": "statutory-strip",
   "metadata": {},
   "source": [
    "### Support Vector Machine"
   ]
  },
  {
   "cell_type": "code",
   "execution_count": 129,
   "id": "auburn-tower",
   "metadata": {},
   "outputs": [],
   "source": [
    "from sklearn.svm import SVC"
   ]
  },
  {
   "cell_type": "code",
   "execution_count": 130,
   "id": "abstract-dream",
   "metadata": {},
   "outputs": [],
   "source": [
    "model_4 = SVC(gamma='scale')"
   ]
  },
  {
   "cell_type": "code",
   "execution_count": 131,
   "id": "young-elder",
   "metadata": {},
   "outputs": [
    {
     "name": "stdout",
     "output_type": "stream",
     "text": [
      "Training time: 362.63587379455566\n"
     ]
    }
   ],
   "source": [
    "model_4 = train_model(model_4)"
   ]
  },
  {
   "cell_type": "code",
   "execution_count": 132,
   "id": "beautiful-public",
   "metadata": {},
   "outputs": [
    {
     "name": "stdout",
     "output_type": "stream",
     "text": [
      "testing time 48.01533794403076\n"
     ]
    }
   ],
   "source": [
    "y_test_pred_4 = test_model(model_4)"
   ]
  },
  {
   "cell_type": "code",
   "execution_count": 133,
   "id": "accepting-uniform",
   "metadata": {},
   "outputs": [
    {
     "name": "stdout",
     "output_type": "stream",
     "text": [
      "Train score: 0.9987905103135564\n",
      "Test score: 0.9987449646768284\n"
     ]
    }
   ],
   "source": [
    "score_model(model_4)"
   ]
  },
  {
   "cell_type": "markdown",
   "id": "alone-sauce",
   "metadata": {},
   "source": [
    "### Logistic Regression"
   ]
  },
  {
   "cell_type": "code",
   "execution_count": 134,
   "id": "biological-earth",
   "metadata": {},
   "outputs": [],
   "source": [
    "from sklearn.linear_model import LogisticRegression"
   ]
  },
  {
   "cell_type": "code",
   "execution_count": 135,
   "id": "structured-error",
   "metadata": {},
   "outputs": [],
   "source": [
    "model_5 = LogisticRegression(max_iter=1200000)"
   ]
  },
  {
   "cell_type": "code",
   "execution_count": 136,
   "id": "individual-toilet",
   "metadata": {},
   "outputs": [
    {
     "name": "stdout",
     "output_type": "stream",
     "text": [
      "Training time: 103.98110795021057\n"
     ]
    }
   ],
   "source": [
    "model_5 = train_model(model_5)"
   ]
  },
  {
   "cell_type": "code",
   "execution_count": 137,
   "id": "major-passage",
   "metadata": {},
   "outputs": [
    {
     "name": "stdout",
     "output_type": "stream",
     "text": [
      "testing time 0.03403615951538086\n"
     ]
    }
   ],
   "source": [
    "y_test_pred_5 = test_model(model_5)"
   ]
  },
  {
   "cell_type": "code",
   "execution_count": 138,
   "id": "vulnerable-reservoir",
   "metadata": {},
   "outputs": [
    {
     "name": "stdout",
     "output_type": "stream",
     "text": [
      "Train score: 0.9941018400437238\n",
      "Test score: 0.994089188477966\n"
     ]
    }
   ],
   "source": [
    "score_model(model_5)"
   ]
  },
  {
   "cell_type": "markdown",
   "id": "indonesian-terrain",
   "metadata": {},
   "source": [
    "### Gradient Boosting Classifier"
   ]
  },
  {
   "cell_type": "code",
   "execution_count": 139,
   "id": "roman-coalition",
   "metadata": {},
   "outputs": [],
   "source": [
    "from sklearn.ensemble import GradientBoostingClassifier"
   ]
  },
  {
   "cell_type": "code",
   "execution_count": 140,
   "id": "convinced-release",
   "metadata": {},
   "outputs": [],
   "source": [
    "model_6 = GradientBoostingClassifierdientBoostingClassifier(random_state=42)"
   ]
  },
  {
   "cell_type": "code",
   "execution_count": 141,
   "id": "heavy-newsletter",
   "metadata": {},
   "outputs": [
    {
     "name": "stdout",
     "output_type": "stream",
     "text": [
      "Training time: 485.1884548664093\n"
     ]
    }
   ],
   "source": [
    "model_6 = train_model(model_6)"
   ]
  },
  {
   "cell_type": "code",
   "execution_count": 142,
   "id": "powerful-strategy",
   "metadata": {},
   "outputs": [
    {
     "name": "stdout",
     "output_type": "stream",
     "text": [
      "testing time 0.6561410427093506\n"
     ]
    }
   ],
   "source": [
    "y_test_pred_6 = test_model(model_6)"
   ]
  },
  {
   "cell_type": "code",
   "execution_count": 143,
   "id": "religious-opera",
   "metadata": {},
   "outputs": [
    {
     "name": "stdout",
     "output_type": "stream",
     "text": [
      "Train score: 0.998684237161191\n",
      "Test score: 0.9984818121090666\n"
     ]
    }
   ],
   "source": [
    "score_model(model_6)"
   ]
  },
  {
   "cell_type": "markdown",
   "id": "amateur-disability",
   "metadata": {},
   "source": [
    "### Artificial Neural Network"
   ]
  },
  {
   "cell_type": "code",
   "execution_count": 144,
   "id": "binding-scholar",
   "metadata": {},
   "outputs": [],
   "source": [
    "from keras.wrappers.scikit_learn import KerasClassifier\n",
    "from keras.models import Sequential\n",
    "from keras.layers import Dense"
   ]
  },
  {
   "cell_type": "code",
   "execution_count": 145,
   "id": "marked-auditor",
   "metadata": {},
   "outputs": [],
   "source": [
    "def ann_model():\n",
    "    model = Sequential()\n",
    "    \n",
    "    # 30 output dimension\n",
    "    model.add(Dense(30, input_dim=30, activation='relu', kernel_initializer='random_uniform'))\n",
    "    \n",
    "    # Next layer we don't specify the input dimensions as the model is sequential \n",
    "    # Output of previous layer become input to the next layer\n",
    "    model.add(Dense(1, activation='sigmoid', kernel_initializer='random_uniform'))\n",
    "    \n",
    "    # 5 Classess - normal, dos, probe, r2l, u2r\n",
    "    model.add(Dense(5, activation='softmax'))\n",
    "    \n",
    "    # Loss is a categorical crossentropy which specifies that we have multiple classes\n",
    "    model.compile(loss='categorical_crossentropy', optimizer='adam', metrics=['accuracy'])\n",
    "    \n",
    "    return model"
   ]
  },
  {
   "cell_type": "code",
   "execution_count": 146,
   "id": "applied-bridges",
   "metadata": {},
   "outputs": [],
   "source": [
    "model_7 = KerasClassifier(build_fn=ann_model, epochs=100, batch_size=64)"
   ]
  },
  {
   "cell_type": "code",
   "execution_count": 147,
   "id": "affecting-target",
   "metadata": {},
   "outputs": [
    {
     "name": "stdout",
     "output_type": "stream",
     "text": [
      "Epoch 1/100\n",
      "6176/6176 [==============================] - 18s 1ms/step - loss: 0.5103 - accuracy: 0.8521\n",
      "Epoch 2/100\n",
      "6176/6176 [==============================] - 7s 1ms/step - loss: 0.0790 - accuracy: 0.9843\n",
      "Epoch 3/100\n",
      "6176/6176 [==============================] - 7s 1ms/step - loss: 0.0655 - accuracy: 0.9846\n",
      "Epoch 4/100\n",
      "6176/6176 [==============================] - 7s 1ms/step - loss: 0.0607 - accuracy: 0.9849\n",
      "Epoch 5/100\n",
      "6176/6176 [==============================] - 7s 1ms/step - loss: 0.0594 - accuracy: 0.9846\n",
      "Epoch 6/100\n",
      "6176/6176 [==============================] - 7s 1ms/step - loss: 0.0572 - accuracy: 0.9849\n",
      "Epoch 7/100\n",
      "6176/6176 [==============================] - 7s 1ms/step - loss: 0.0566 - accuracy: 0.9846\n",
      "Epoch 8/100\n",
      "6176/6176 [==============================] - 7s 1ms/step - loss: 0.0545 - accuracy: 0.9849\n",
      "Epoch 9/100\n",
      "6176/6176 [==============================] - 7s 1ms/step - loss: 0.0536 - accuracy: 0.9848\n",
      "Epoch 10/100\n",
      "6176/6176 [==============================] - 7s 1ms/step - loss: 0.0483 - accuracy: 0.9850\n",
      "Epoch 11/100\n",
      "6176/6176 [==============================] - 7s 1ms/step - loss: 0.0255 - accuracy: 0.9918\n",
      "Epoch 12/100\n",
      "6176/6176 [==============================] - 7s 1ms/step - loss: 0.0204 - accuracy: 0.9958\n",
      "Epoch 13/100\n",
      "6176/6176 [==============================] - 7s 1ms/step - loss: 0.0178 - accuracy: 0.9961\n",
      "Epoch 14/100\n",
      "6176/6176 [==============================] - 7s 1ms/step - loss: 0.0167 - accuracy: 0.9962\n",
      "Epoch 15/100\n",
      "6176/6176 [==============================] - 7s 1ms/step - loss: 0.0164 - accuracy: 0.9961\n",
      "Epoch 16/100\n",
      "6176/6176 [==============================] - 7s 1ms/step - loss: 0.0151 - accuracy: 0.9964\n",
      "Epoch 17/100\n",
      "6176/6176 [==============================] - 7s 1ms/step - loss: 0.0146 - accuracy: 0.9964\n",
      "Epoch 18/100\n",
      "6176/6176 [==============================] - 7s 1ms/step - loss: 0.0152 - accuracy: 0.9964\n",
      "Epoch 19/100\n",
      "6176/6176 [==============================] - 7s 1ms/step - loss: 0.0145 - accuracy: 0.9964\n",
      "Epoch 20/100\n",
      "6176/6176 [==============================] - 7s 1ms/step - loss: 0.0147 - accuracy: 0.9963\n",
      "Epoch 21/100\n",
      "6176/6176 [==============================] - 10s 2ms/step - loss: 0.0139 - accuracy: 0.9965\n",
      "Epoch 22/100\n",
      "6176/6176 [==============================] - 8s 1ms/step - loss: 0.0142 - accuracy: 0.9966\n",
      "Epoch 23/100\n",
      "6176/6176 [==============================] - 7s 1ms/step - loss: 0.0137 - accuracy: 0.9965\n",
      "Epoch 24/100\n",
      "6176/6176 [==============================] - 8s 1ms/step - loss: 0.0135 - accuracy: 0.9966\n",
      "Epoch 25/100\n",
      "6176/6176 [==============================] - 8s 1ms/step - loss: 0.0133 - accuracy: 0.9967\n",
      "Epoch 26/100\n",
      "6176/6176 [==============================] - 11s 2ms/step - loss: 0.0138 - accuracy: 0.9965\n",
      "Epoch 27/100\n",
      "6176/6176 [==============================] - 9s 1ms/step - loss: 0.0136 - accuracy: 0.9966\n",
      "Epoch 28/100\n",
      "6176/6176 [==============================] - 7s 1ms/step - loss: 0.0125 - accuracy: 0.9968: 0s - loss: 0.0125 - accura\n",
      "Epoch 29/100\n",
      "6176/6176 [==============================] - 7s 1ms/step - loss: 0.0127 - accuracy: 0.9968\n",
      "Epoch 30/100\n",
      "6176/6176 [==============================] - 8s 1ms/step - loss: 0.0121 - accuracy: 0.9969\n",
      "Epoch 31/100\n",
      "6176/6176 [==============================] - 8s 1ms/step - loss: 0.0126 - accuracy: 0.9966\n",
      "Epoch 32/100\n",
      "6176/6176 [==============================] - 8s 1ms/step - loss: 0.0128 - accuracy: 0.9966\n",
      "Epoch 33/100\n",
      "6176/6176 [==============================] - 7s 1ms/step - loss: 0.0124 - accuracy: 0.9967\n",
      "Epoch 34/100\n",
      "6176/6176 [==============================] - 7s 1ms/step - loss: 0.0126 - accuracy: 0.9968\n",
      "Epoch 35/100\n",
      "6176/6176 [==============================] - 7s 1ms/step - loss: 0.0128 - accuracy: 0.9966\n",
      "Epoch 36/100\n",
      "6176/6176 [==============================] - 7s 1ms/step - loss: 0.0117 - accuracy: 0.9968\n",
      "Epoch 37/100\n",
      "6176/6176 [==============================] - 7s 1ms/step - loss: 0.0125 - accuracy: 0.9967\n",
      "Epoch 38/100\n",
      "6176/6176 [==============================] - 8s 1ms/step - loss: 0.0121 - accuracy: 0.9968\n",
      "Epoch 39/100\n",
      "6176/6176 [==============================] - 7s 1ms/step - loss: 0.0119 - accuracy: 0.9968\n",
      "Epoch 40/100\n",
      "6176/6176 [==============================] - 8s 1ms/step - loss: 0.0114 - accuracy: 0.9970\n",
      "Epoch 41/100\n",
      "6176/6176 [==============================] - 7s 1ms/step - loss: 0.0115 - accuracy: 0.9969\n",
      "Epoch 42/100\n",
      "6176/6176 [==============================] - 7s 1ms/step - loss: 0.0117 - accuracy: 0.9969\n",
      "Epoch 43/100\n",
      "6176/6176 [==============================] - 7s 1ms/step - loss: 0.0120 - accuracy: 0.9967\n",
      "Epoch 44/100\n",
      "6176/6176 [==============================] - 7s 1ms/step - loss: 0.0118 - accuracy: 0.9968\n",
      "Epoch 45/100\n",
      "6176/6176 [==============================] - 7s 1ms/step - loss: 0.0114 - accuracy: 0.9969\n",
      "Epoch 46/100\n",
      "6176/6176 [==============================] - 7s 1ms/step - loss: 0.0098 - accuracy: 0.9969\n",
      "Epoch 47/100\n",
      "6176/6176 [==============================] - 7s 1ms/step - loss: 0.0096 - accuracy: 0.9970\n",
      "Epoch 48/100\n",
      "6176/6176 [==============================] - 7s 1ms/step - loss: 0.0086 - accuracy: 0.9971\n",
      "Epoch 49/100\n",
      "6176/6176 [==============================] - 7s 1ms/step - loss: 0.0087 - accuracy: 0.9973\n",
      "Epoch 50/100\n",
      "6176/6176 [==============================] - 7s 1ms/step - loss: 0.0086 - accuracy: 0.9972\n",
      "Epoch 51/100\n",
      "6176/6176 [==============================] - 7s 1ms/step - loss: 0.0093 - accuracy: 0.9974\n",
      "Epoch 52/100\n",
      "6176/6176 [==============================] - 8s 1ms/step - loss: 0.0090 - accuracy: 0.9975\n",
      "Epoch 53/100\n",
      "6176/6176 [==============================] - 12s 2ms/step - loss: 0.0085 - accuracy: 0.9977\n",
      "Epoch 54/100\n",
      "6176/6176 [==============================] - 8s 1ms/step - loss: 0.0084 - accuracy: 0.9978\n",
      "Epoch 55/100\n",
      "6176/6176 [==============================] - 7s 1ms/step - loss: 0.0084 - accuracy: 0.9980\n",
      "Epoch 56/100\n",
      "6176/6176 [==============================] - 8s 1ms/step - loss: 0.0086 - accuracy: 0.9982\n",
      "Epoch 57/100\n",
      "6176/6176 [==============================] - 7s 1ms/step - loss: 0.0088 - accuracy: 0.9981\n",
      "Epoch 58/100\n",
      "6176/6176 [==============================] - 7s 1ms/step - loss: 0.0088 - accuracy: 0.9983\n",
      "Epoch 59/100\n",
      "6176/6176 [==============================] - 7s 1ms/step - loss: 0.0081 - accuracy: 0.9984\n",
      "Epoch 60/100\n",
      "6176/6176 [==============================] - 7s 1ms/step - loss: 0.0076 - accuracy: 0.9985\n",
      "Epoch 61/100\n",
      "6176/6176 [==============================] - 7s 1ms/step - loss: 0.0082 - accuracy: 0.9986\n",
      "Epoch 62/100\n",
      "6176/6176 [==============================] - 7s 1ms/step - loss: 0.0078 - accuracy: 0.9987\n",
      "Epoch 63/100\n",
      "6176/6176 [==============================] - 8s 1ms/step - loss: 0.0078 - accuracy: 0.9987\n",
      "Epoch 64/100\n",
      "6176/6176 [==============================] - 7s 1ms/step - loss: 0.0080 - accuracy: 0.9988\n",
      "Epoch 65/100\n",
      "6176/6176 [==============================] - 7s 1ms/step - loss: 0.0081 - accuracy: 0.9986\n",
      "Epoch 66/100\n",
      "6176/6176 [==============================] - 8s 1ms/step - loss: 0.0077 - accuracy: 0.9988\n",
      "Epoch 67/100\n",
      "6176/6176 [==============================] - 7s 1ms/step - loss: 0.0074 - accuracy: 0.9989\n",
      "Epoch 68/100\n",
      "6176/6176 [==============================] - 8s 1ms/step - loss: 0.0079 - accuracy: 0.9987\n",
      "Epoch 69/100\n",
      "6176/6176 [==============================] - 8s 1ms/step - loss: 0.0081 - accuracy: 0.9986\n",
      "Epoch 70/100\n",
      "6176/6176 [==============================] - 7s 1ms/step - loss: 0.0079 - accuracy: 0.9987\n",
      "Epoch 71/100\n",
      "6176/6176 [==============================] - 7s 1ms/step - loss: 0.0077 - accuracy: 0.9988\n",
      "Epoch 72/100\n",
      "6176/6176 [==============================] - 7s 1ms/step - loss: 0.0068 - accuracy: 0.9989\n",
      "Epoch 73/100\n",
      "6176/6176 [==============================] - 8s 1ms/step - loss: 0.0076 - accuracy: 0.9989\n",
      "Epoch 74/100\n",
      "6176/6176 [==============================] - 8s 1ms/step - loss: 0.0081 - accuracy: 0.9987\n",
      "Epoch 75/100\n",
      "6176/6176 [==============================] - 8s 1ms/step - loss: 0.0072 - accuracy: 0.9989\n",
      "Epoch 76/100\n",
      "6176/6176 [==============================] - 7s 1ms/step - loss: 0.0078 - accuracy: 0.9988\n",
      "Epoch 77/100\n",
      "6176/6176 [==============================] - 8s 1ms/step - loss: 0.0073 - accuracy: 0.9988\n",
      "Epoch 78/100\n",
      "6176/6176 [==============================] - 9s 1ms/step - loss: 0.0071 - accuracy: 0.9989\n",
      "Epoch 79/100\n",
      "6176/6176 [==============================] - 7s 1ms/step - loss: 0.0073 - accuracy: 0.9989\n",
      "Epoch 80/100\n",
      "6176/6176 [==============================] - 8s 1ms/step - loss: 0.0080 - accuracy: 0.9988\n",
      "Epoch 81/100\n",
      "6176/6176 [==============================] - 7s 1ms/step - loss: 0.0079 - accuracy: 0.9988\n",
      "Epoch 82/100\n",
      "6176/6176 [==============================] - 7s 1ms/step - loss: 0.0077 - accuracy: 0.9988\n",
      "Epoch 83/100\n",
      "6176/6176 [==============================] - 8s 1ms/step - loss: 0.0075 - accuracy: 0.9988: 0s - loss: 0.007\n",
      "Epoch 84/100\n",
      "6176/6176 [==============================] - 7s 1ms/step - loss: 0.0066 - accuracy: 0.9989\n",
      "Epoch 85/100\n",
      "6176/6176 [==============================] - 7s 1ms/step - loss: 0.0076 - accuracy: 0.9989\n",
      "Epoch 86/100\n",
      "6176/6176 [==============================] - 8s 1ms/step - loss: 0.0080 - accuracy: 0.9989\n",
      "Epoch 87/100\n",
      "6176/6176 [==============================] - 8s 1ms/step - loss: 0.0076 - accuracy: 0.9988\n",
      "Epoch 88/100\n",
      "6176/6176 [==============================] - 7s 1ms/step - loss: 0.0073 - accuracy: 0.9989\n",
      "Epoch 89/100\n",
      "6176/6176 [==============================] - 8s 1ms/step - loss: 0.0062 - accuracy: 0.9990\n",
      "Epoch 90/100\n",
      "6176/6176 [==============================] - 8s 1ms/step - loss: 0.0069 - accuracy: 0.9989\n",
      "Epoch 91/100\n",
      "6176/6176 [==============================] - 8s 1ms/step - loss: 0.0064 - accuracy: 0.9990\n",
      "Epoch 92/100\n",
      "6176/6176 [==============================] - 7s 1ms/step - loss: 0.0067 - accuracy: 0.9989\n",
      "Epoch 93/100\n",
      "6176/6176 [==============================] - 7s 1ms/step - loss: 0.0068 - accuracy: 0.9990\n",
      "Epoch 94/100\n",
      "6176/6176 [==============================] - 8s 1ms/step - loss: 0.0069 - accuracy: 0.9989\n",
      "Epoch 95/100\n",
      "6176/6176 [==============================] - 8s 1ms/step - loss: 0.0070 - accuracy: 0.9989\n",
      "Epoch 96/100\n",
      "6176/6176 [==============================] - 8s 1ms/step - loss: 0.0067 - accuracy: 0.9990\n",
      "Epoch 97/100\n",
      "6176/6176 [==============================] - 7s 1ms/step - loss: 0.0069 - accuracy: 0.9989\n",
      "Epoch 98/100\n",
      "6176/6176 [==============================] - 8s 1ms/step - loss: 0.0066 - accuracy: 0.9989\n",
      "Epoch 99/100\n",
      "6176/6176 [==============================] - 8s 1ms/step - loss: 0.0067 - accuracy: 0.9989\n",
      "Epoch 100/100\n",
      "6176/6176 [==============================] - 8s 1ms/step - loss: 0.0070 - accuracy: 0.9989\n",
      "Training time: 769.412360906601\n"
     ]
    },
    {
     "data": {
      "text/plain": [
       "<keras.wrappers.scikit_learn.KerasClassifier at 0x1b38002c400>"
      ]
     },
     "execution_count": 147,
     "metadata": {},
     "output_type": "execute_result"
    }
   ],
   "source": [
    "train_model(model_7)"
   ]
  },
  {
   "cell_type": "code",
   "execution_count": 148,
   "id": "dying-satin",
   "metadata": {},
   "outputs": [
    {
     "name": "stderr",
     "output_type": "stream",
     "text": [
      "c:\\users\\asus\\appdata\\local\\programs\\python\\python39\\lib\\site-packages\\keras\\engine\\sequential.py:450: UserWarning: `model.predict_classes()` is deprecated and will be removed after 2021-01-01. Please use instead:* `np.argmax(model.predict(x), axis=-1)`,   if your model does multi-class classification   (e.g. if it uses a `softmax` last-layer activation).* `(model.predict(x) > 0.5).astype(\"int32\")`,   if your model does binary classification   (e.g. if it uses a `sigmoid` last-layer activation).\n",
      "  warnings.warn('`model.predict_classes()` is deprecated and '\n"
     ]
    },
    {
     "name": "stdout",
     "output_type": "stream",
     "text": [
      "testing time 1.5052862167358398\n"
     ]
    },
    {
     "data": {
      "text/plain": [
       "array(['probe', 'dos', 'dos', ..., 'dos', 'dos', 'dos'], dtype=object)"
      ]
     },
     "execution_count": 148,
     "metadata": {},
     "output_type": "execute_result"
    }
   ],
   "source": [
    "test_model(model_7)"
   ]
  },
  {
   "cell_type": "code",
   "execution_count": 149,
   "id": "precise-colon",
   "metadata": {},
   "outputs": [
    {
     "name": "stdout",
     "output_type": "stream",
     "text": [
      "testing time 1.0122199058532715\n"
     ]
    }
   ],
   "source": [
    "y_test_pred_7 = test_model(model_7)"
   ]
  },
  {
   "cell_type": "code",
   "execution_count": 151,
   "id": "computational-surveillance",
   "metadata": {},
   "outputs": [
    {
     "data": {
      "text/plain": [
       "0.9981174470152426"
      ]
     },
     "execution_count": 151,
     "metadata": {},
     "output_type": "execute_result"
    }
   ],
   "source": [
    "accuracy_score(y_test, y_test_pred_7)"
   ]
  },
  {
   "cell_type": "code",
   "execution_count": 155,
   "id": "studied-panic",
   "metadata": {},
   "outputs": [
    {
     "name": "stdout",
     "output_type": "stream",
     "text": [
      "testing time 4.068504571914673\n"
     ]
    }
   ],
   "source": [
    "start_time = time.time()\n",
    "y_train_pred_7 = model_7.predict(X_train)\n",
    "end_time = time.time()\n",
    "print(\"testing time\", end_time - start_time)"
   ]
  },
  {
   "cell_type": "code",
   "execution_count": 156,
   "id": "improved-democracy",
   "metadata": {},
   "outputs": [
    {
     "data": {
      "text/plain": [
       "0.9982389020465173"
      ]
     },
     "execution_count": 156,
     "metadata": {},
     "output_type": "execute_result"
    }
   ],
   "source": [
    "accuracy_score(y_train, y_train_pred_7)"
   ]
  },
  {
   "cell_type": "markdown",
   "id": "selective-serial",
   "metadata": {},
   "source": [
    "## Training Accuracy"
   ]
  },
  {
   "cell_type": "code",
   "execution_count": 157,
   "id": "higher-earthquake",
   "metadata": {},
   "outputs": [
    {
     "data": {
      "text/plain": [
       "<BarContainer object of 7 artists>"
      ]
     },
     "execution_count": 157,
     "metadata": {},
     "output_type": "execute_result"
    },
    {
     "data": {
      "image/png": "[encoded data removed]",
      "text/plain": [
       "<Figure size 1080x432 with 1 Axes>"
      ]
     },
     "metadata": {
      "needs_background": "light"
     },
     "output_type": "display_data"
    }
   ],
   "source": [
    "names = ['NB', 'DT', 'RF', 'SVM', 'LR', 'GB', 'ANN']\n",
    "values = [88.13, 99.05, 99.99, 99.87, 99.41, 99.87, 99.82]\n",
    "f = plt.figure(figsize=(15, 6), num=10)\n",
    "plt.ylim(80, 102)\n",
    "plt.bar(names, values)"
   ]
  },
  {
   "cell_type": "code",
   "execution_count": 158,
   "id": "mathematical-diversity",
   "metadata": {},
   "outputs": [],
   "source": [
    "f.savefig('training_accuracy_figure.png', bbox_inches='tight')"
   ]
  },
  {
   "cell_type": "markdown",
   "id": "twelve-problem",
   "metadata": {},
   "source": [
    "## Testing Accuracy"
   ]
  },
  {
   "cell_type": "code",
   "execution_count": 159,
   "id": "handled-architect",
   "metadata": {},
   "outputs": [
    {
     "data": {
      "text/plain": [
       "<BarContainer object of 7 artists>"
      ]
     },
     "execution_count": 159,
     "metadata": {},
     "output_type": "execute_result"
    },
    {
     "data": {
      "image/png": "[encoded data removed]",
      "text/plain": [
       "<Figure size 1080x432 with 1 Axes>"
      ]
     },
     "metadata": {
      "needs_background": "light"
     },
     "output_type": "display_data"
    }
   ],
   "source": [
    "names = ['NB', 'DT', 'RF', 'SVM', 'LR', 'GB', 'ANN']\n",
    "values = [88.16, 99.06, 99.96, 99.87, 99.40, 99.85, 99.81]\n",
    "f = plt.figure(figsize=(15, 6), num=10)\n",
    "plt.ylim(80, 102)\n",
    "plt.bar(names, values)"
   ]
  },
  {
   "cell_type": "code",
   "execution_count": 160,
   "id": "scheduled-european",
   "metadata": {},
   "outputs": [],
   "source": [
    "f.savefig('test_accuracy_figure.png', bbox_inches='tight')"
   ]
  },
  {
   "cell_type": "markdown",
   "id": "comparative-protein",
   "metadata": {},
   "source": [
    "## Training Times"
   ]
  },
  {
   "cell_type": "code",
   "execution_count": 164,
   "id": "driving-mills",
   "metadata": {},
   "outputs": [
    {
     "data": {
      "text/plain": [
       "<BarContainer object of 7 artists>"
      ]
     },
     "execution_count": 164,
     "metadata": {},
     "output_type": "execute_result"
    },
    {
     "data": {
      "image/png": "[encoded data removed]",
      "text/plain": [
       "<Figure size 1080x432 with 1 Axes>"
      ]
     },
     "metadata": {
      "needs_background": "light"
     },
     "output_type": "display_data"
    }
   ],
   "source": [
    "names = ['NB', 'DT', 'RF', 'SVM', 'LR', 'GB', 'ANN']\n",
    "values = [1.715, 2.864, 21.102, 362.636, 103.981, 485.188, 769.412]\n",
    "f = plt.figure(figsize=(15, 6), num=10)\n",
    "plt.bar(names, values)"
   ]
  },
  {
   "cell_type": "code",
   "execution_count": 162,
   "id": "pointed-consistency",
   "metadata": {},
   "outputs": [],
   "source": [
    "f.savefig(\"training_time_figure.png\", bbox_inches='tight')"
   ]
  },
  {
   "cell_type": "markdown",
   "id": "challenging-andorra",
   "metadata": {},
   "source": [
    "## Testing Times"
   ]
  },
  {
   "cell_type": "code",
   "execution_count": 165,
   "id": "coordinated-demographic",
   "metadata": {},
   "outputs": [
    {
     "data": {
      "text/plain": [
       "<BarContainer object of 7 artists>"
      ]
     },
     "execution_count": 165,
     "metadata": {},
     "output_type": "execute_result"
    },
    {
     "data": {
      "image/png": "[encoded data removed]",
      "text/plain": [
       "<Figure size 1080x432 with 1 Axes>"
      ]
     },
     "metadata": {
      "needs_background": "light"
     },
     "output_type": "display_data"
    }
   ],
   "source": [
    "names = ['NB', 'DT', 'RF', 'SVM', 'LR', 'GB', 'ANN']\n",
    "values = [0.334, 0.037, 0.609, 48.015, 0.0340, 0.656, 1.0122]\n",
    "f = plt.figure(figsize=(15, 6), num=10)\n",
    "plt.bar(names, values)"
   ]
  },
  {
   "cell_type": "code",
   "execution_count": 166,
   "id": "conscious-belle",
   "metadata": {},
   "outputs": [],
   "source": [
    "f.savefig(\"testing_time_figure.png\", bbox_inches='tight')"
   ]
  }
 ],
 "metadata": {
  "kernelspec": {
   "display_name": "Python 3",
   "language": "python",
   "name": "python3"
  },
  "language_info": {
   "codemirror_mode": {
    "name": "ipython",
    "version": 3
   },
   "file_extension": ".py",
   "mimetype": "text/x-python",
   "name": "python",
   "nbconvert_exporter": "python",
   "pygments_lexer": "ipython3",
   "version": "3.9.6"
  }
 },
 "nbformat": 4,
 "nbformat_minor": 5
}
