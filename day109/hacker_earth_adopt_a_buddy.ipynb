{
 "cells": [
  {
   "cell_type": "markdown",
   "id": "deluxe-jenny",
   "metadata": {},
   "source": [
    "# Hacker Earth - Adopt a Buddy\n",
    "\n",
    "[mudgalabhay](https://github.com/mudgalabhay)"
   ]
  },
  {
   "cell_type": "markdown",
   "id": "manual-jersey",
   "metadata": {},
   "source": [
    "## Import modules"
   ]
  },
  {
   "cell_type": "code",
   "execution_count": 1,
   "id": "increased-steering",
   "metadata": {},
   "outputs": [],
   "source": [
    "import matplotlib.pyplot as plt\n",
    "import seaborn as sns\n",
    "import pandas as pd\n",
    "import numpy as np"
   ]
  },
  {
   "cell_type": "markdown",
   "id": "vulnerable-rebecca",
   "metadata": {},
   "source": [
    "## Datasets"
   ]
  },
  {
   "cell_type": "code",
   "execution_count": 4,
   "id": "certain-psychology",
   "metadata": {},
   "outputs": [
    {
     "data": {
      "text/html": [
       "<div>\n",
       "<style scoped>\n",
       "    .dataframe tbody tr th:only-of-type {\n",
       "        vertical-align: middle;\n",
       "    }\n",
       "\n",
       "    .dataframe tbody tr th {\n",
       "        vertical-align: top;\n",
       "    }\n",
       "\n",
       "    .dataframe thead th {\n",
       "        text-align: right;\n",
       "    }\n",
       "</style>\n",
       "<table border=\"1\" class=\"dataframe\">\n",
       "  <thead>\n",
       "    <tr style=\"text-align: right;\">\n",
       "      <th></th>\n",
       "      <th>pet_id</th>\n",
       "      <th>issue_date</th>\n",
       "      <th>listing_date</th>\n",
       "      <th>condition</th>\n",
       "      <th>color_type</th>\n",
       "      <th>length(m)</th>\n",
       "      <th>height(cm)</th>\n",
       "      <th>X1</th>\n",
       "      <th>X2</th>\n",
       "      <th>breed_category</th>\n",
       "      <th>pet_category</th>\n",
       "    </tr>\n",
       "  </thead>\n",
       "  <tbody>\n",
       "    <tr>\n",
       "      <th>0</th>\n",
       "      <td>ANSL_69903</td>\n",
       "      <td>2016-07-10 00:00:00</td>\n",
       "      <td>2016-09-21 16:25:00</td>\n",
       "      <td>2.0</td>\n",
       "      <td>Brown Tabby</td>\n",
       "      <td>0.80</td>\n",
       "      <td>7.78</td>\n",
       "      <td>13</td>\n",
       "      <td>9</td>\n",
       "      <td>0.0</td>\n",
       "      <td>1</td>\n",
       "    </tr>\n",
       "    <tr>\n",
       "      <th>1</th>\n",
       "      <td>ANSL_66892</td>\n",
       "      <td>2013-11-21 00:00:00</td>\n",
       "      <td>2018-12-27 17:47:00</td>\n",
       "      <td>1.0</td>\n",
       "      <td>White</td>\n",
       "      <td>0.72</td>\n",
       "      <td>14.19</td>\n",
       "      <td>13</td>\n",
       "      <td>9</td>\n",
       "      <td>0.0</td>\n",
       "      <td>2</td>\n",
       "    </tr>\n",
       "    <tr>\n",
       "      <th>2</th>\n",
       "      <td>ANSL_69750</td>\n",
       "      <td>2014-09-28 00:00:00</td>\n",
       "      <td>2016-10-19 08:24:00</td>\n",
       "      <td>NaN</td>\n",
       "      <td>Brown</td>\n",
       "      <td>0.15</td>\n",
       "      <td>40.90</td>\n",
       "      <td>15</td>\n",
       "      <td>4</td>\n",
       "      <td>2.0</td>\n",
       "      <td>4</td>\n",
       "    </tr>\n",
       "    <tr>\n",
       "      <th>3</th>\n",
       "      <td>ANSL_71623</td>\n",
       "      <td>2016-12-31 00:00:00</td>\n",
       "      <td>2019-01-25 18:30:00</td>\n",
       "      <td>1.0</td>\n",
       "      <td>White</td>\n",
       "      <td>0.62</td>\n",
       "      <td>17.82</td>\n",
       "      <td>0</td>\n",
       "      <td>1</td>\n",
       "      <td>0.0</td>\n",
       "      <td>2</td>\n",
       "    </tr>\n",
       "    <tr>\n",
       "      <th>4</th>\n",
       "      <td>ANSL_57969</td>\n",
       "      <td>2017-09-28 00:00:00</td>\n",
       "      <td>2017-11-19 09:38:00</td>\n",
       "      <td>2.0</td>\n",
       "      <td>Black</td>\n",
       "      <td>0.50</td>\n",
       "      <td>11.06</td>\n",
       "      <td>18</td>\n",
       "      <td>4</td>\n",
       "      <td>0.0</td>\n",
       "      <td>1</td>\n",
       "    </tr>\n",
       "  </tbody>\n",
       "</table>\n",
       "</div>"
      ],
      "text/plain": [
       "       pet_id           issue_date         listing_date  condition  \\\n",
       "0  ANSL_69903  2016-07-10 00:00:00  2016-09-21 16:25:00        2.0   \n",
       "1  ANSL_66892  2013-11-21 00:00:00  2018-12-27 17:47:00        1.0   \n",
       "2  ANSL_69750  2014-09-28 00:00:00  2016-10-19 08:24:00        NaN   \n",
       "3  ANSL_71623  2016-12-31 00:00:00  2019-01-25 18:30:00        1.0   \n",
       "4  ANSL_57969  2017-09-28 00:00:00  2017-11-19 09:38:00        2.0   \n",
       "\n",
       "    color_type  length(m)  height(cm)  X1  X2  breed_category  pet_category  \n",
       "0  Brown Tabby       0.80        7.78  13   9             0.0             1  \n",
       "1        White       0.72       14.19  13   9             0.0             2  \n",
       "2        Brown       0.15       40.90  15   4             2.0             4  \n",
       "3        White       0.62       17.82   0   1             0.0             2  \n",
       "4        Black       0.50       11.06  18   4             0.0             1  "
      ]
     },
     "execution_count": 4,
     "metadata": {},
     "output_type": "execute_result"
    }
   ],
   "source": [
    "url_train = \"https://raw.githubusercontent.com/mudgalabhay/HackerEarth-Machine-Learning-challenge-Adopt-a-buddy/master/Dataset/train.csv\"\n",
    "url_test = \"https://raw.githubusercontent.com/mudgalabhay/HackerEarth-Machine-Learning-challenge-Adopt-a-buddy/master/Dataset/test.csv\"\n",
    "\n",
    "df_train = pd.read_csv(url_train)\n",
    "df_train.head()"
   ]
  },
  {
   "cell_type": "code",
   "execution_count": 6,
   "id": "legislative-consolidation",
   "metadata": {},
   "outputs": [
    {
     "data": {
      "text/plain": [
       "(18834, 11)"
      ]
     },
     "execution_count": 6,
     "metadata": {},
     "output_type": "execute_result"
    }
   ],
   "source": [
    "df_train.shape"
   ]
  },
  {
   "cell_type": "code",
   "execution_count": 7,
   "id": "artistic-stake",
   "metadata": {},
   "outputs": [
    {
     "data": {
      "text/plain": [
       "pet_id               0\n",
       "issue_date           0\n",
       "listing_date         0\n",
       "condition         1477\n",
       "color_type           0\n",
       "length(m)            0\n",
       "height(cm)           0\n",
       "X1                   0\n",
       "X2                   0\n",
       "breed_category       0\n",
       "pet_category         0\n",
       "dtype: int64"
      ]
     },
     "execution_count": 7,
     "metadata": {},
     "output_type": "execute_result"
    }
   ],
   "source": [
    "# Checking null values\n",
    "df_train.isnull().sum()"
   ]
  },
  {
   "cell_type": "code",
   "execution_count": 8,
   "id": "electoral-queen",
   "metadata": {},
   "outputs": [
    {
     "name": "stdout",
     "output_type": "stream",
     "text": [
      "<class 'pandas.core.frame.DataFrame'>\n",
      "RangeIndex: 18834 entries, 0 to 18833\n",
      "Data columns (total 11 columns):\n",
      " #   Column          Non-Null Count  Dtype  \n",
      "---  ------          --------------  -----  \n",
      " 0   pet_id          18834 non-null  object \n",
      " 1   issue_date      18834 non-null  object \n",
      " 2   listing_date    18834 non-null  object \n",
      " 3   condition       17357 non-null  float64\n",
      " 4   color_type      18834 non-null  object \n",
      " 5   length(m)       18834 non-null  float64\n",
      " 6   height(cm)      18834 non-null  float64\n",
      " 7   X1              18834 non-null  int64  \n",
      " 8   X2              18834 non-null  int64  \n",
      " 9   breed_category  18834 non-null  float64\n",
      " 10  pet_category    18834 non-null  int64  \n",
      "dtypes: float64(4), int64(3), object(4)\n",
      "memory usage: 1.6+ MB\n"
     ]
    }
   ],
   "source": [
    "df_train.info()"
   ]
  },
  {
   "cell_type": "code",
   "execution_count": 9,
   "id": "accessible-director",
   "metadata": {},
   "outputs": [
    {
     "data": {
      "text/html": [
       "<div>\n",
       "<style scoped>\n",
       "    .dataframe tbody tr th:only-of-type {\n",
       "        vertical-align: middle;\n",
       "    }\n",
       "\n",
       "    .dataframe tbody tr th {\n",
       "        vertical-align: top;\n",
       "    }\n",
       "\n",
       "    .dataframe thead th {\n",
       "        text-align: right;\n",
       "    }\n",
       "</style>\n",
       "<table border=\"1\" class=\"dataframe\">\n",
       "  <thead>\n",
       "    <tr style=\"text-align: right;\">\n",
       "      <th></th>\n",
       "      <th>pet_id</th>\n",
       "      <th>issue_date</th>\n",
       "      <th>listing_date</th>\n",
       "      <th>condition</th>\n",
       "      <th>color_type</th>\n",
       "      <th>length(m)</th>\n",
       "      <th>height(cm)</th>\n",
       "      <th>X1</th>\n",
       "      <th>X2</th>\n",
       "    </tr>\n",
       "  </thead>\n",
       "  <tbody>\n",
       "    <tr>\n",
       "      <th>0</th>\n",
       "      <td>ANSL_75005</td>\n",
       "      <td>2005-08-17 00:00:00</td>\n",
       "      <td>2017-09-07 15:35:00</td>\n",
       "      <td>0.0</td>\n",
       "      <td>Black</td>\n",
       "      <td>0.87</td>\n",
       "      <td>42.73</td>\n",
       "      <td>0</td>\n",
       "      <td>7</td>\n",
       "    </tr>\n",
       "    <tr>\n",
       "      <th>1</th>\n",
       "      <td>ANSL_76663</td>\n",
       "      <td>2018-11-15 00:00:00</td>\n",
       "      <td>2019-05-08 17:24:00</td>\n",
       "      <td>1.0</td>\n",
       "      <td>Orange Tabby</td>\n",
       "      <td>0.06</td>\n",
       "      <td>6.71</td>\n",
       "      <td>0</td>\n",
       "      <td>1</td>\n",
       "    </tr>\n",
       "    <tr>\n",
       "      <th>2</th>\n",
       "      <td>ANSL_58259</td>\n",
       "      <td>2012-10-11 00:00:00</td>\n",
       "      <td>2018-04-02 16:51:00</td>\n",
       "      <td>1.0</td>\n",
       "      <td>Black</td>\n",
       "      <td>0.24</td>\n",
       "      <td>41.21</td>\n",
       "      <td>0</td>\n",
       "      <td>7</td>\n",
       "    </tr>\n",
       "    <tr>\n",
       "      <th>3</th>\n",
       "      <td>ANSL_67171</td>\n",
       "      <td>2015-02-13 00:00:00</td>\n",
       "      <td>2018-04-06 07:25:00</td>\n",
       "      <td>1.0</td>\n",
       "      <td>Black</td>\n",
       "      <td>0.29</td>\n",
       "      <td>8.46</td>\n",
       "      <td>7</td>\n",
       "      <td>1</td>\n",
       "    </tr>\n",
       "    <tr>\n",
       "      <th>4</th>\n",
       "      <td>ANSL_72871</td>\n",
       "      <td>2017-01-18 00:00:00</td>\n",
       "      <td>2018-04-26 13:42:00</td>\n",
       "      <td>1.0</td>\n",
       "      <td>Brown</td>\n",
       "      <td>0.71</td>\n",
       "      <td>30.92</td>\n",
       "      <td>0</td>\n",
       "      <td>7</td>\n",
       "    </tr>\n",
       "  </tbody>\n",
       "</table>\n",
       "</div>"
      ],
      "text/plain": [
       "       pet_id           issue_date         listing_date  condition  \\\n",
       "0  ANSL_75005  2005-08-17 00:00:00  2017-09-07 15:35:00        0.0   \n",
       "1  ANSL_76663  2018-11-15 00:00:00  2019-05-08 17:24:00        1.0   \n",
       "2  ANSL_58259  2012-10-11 00:00:00  2018-04-02 16:51:00        1.0   \n",
       "3  ANSL_67171  2015-02-13 00:00:00  2018-04-06 07:25:00        1.0   \n",
       "4  ANSL_72871  2017-01-18 00:00:00  2018-04-26 13:42:00        1.0   \n",
       "\n",
       "     color_type  length(m)  height(cm)  X1  X2  \n",
       "0         Black       0.87       42.73   0   7  \n",
       "1  Orange Tabby       0.06        6.71   0   1  \n",
       "2         Black       0.24       41.21   0   7  \n",
       "3         Black       0.29        8.46   7   1  \n",
       "4         Brown       0.71       30.92   0   7  "
      ]
     },
     "execution_count": 9,
     "metadata": {},
     "output_type": "execute_result"
    }
   ],
   "source": [
    "df_test = pd.read_csv(url_test)\n",
    "df_test.head()"
   ]
  },
  {
   "cell_type": "code",
   "execution_count": 10,
   "id": "independent-moral",
   "metadata": {},
   "outputs": [
    {
     "data": {
      "text/plain": [
       "(8072, 9)"
      ]
     },
     "execution_count": 10,
     "metadata": {},
     "output_type": "execute_result"
    }
   ],
   "source": [
    "df_test.shape"
   ]
  },
  {
   "cell_type": "code",
   "execution_count": 11,
   "id": "imperial-scout",
   "metadata": {},
   "outputs": [
    {
     "data": {
      "text/plain": [
       "Index(['pet_id', 'issue_date', 'listing_date', 'condition', 'color_type',\n",
       "       'length(m)', 'height(cm)', 'X1', 'X2'],\n",
       "      dtype='object')"
      ]
     },
     "execution_count": 11,
     "metadata": {},
     "output_type": "execute_result"
    }
   ],
   "source": [
    "df_test.columns"
   ]
  },
  {
   "cell_type": "code",
   "execution_count": 12,
   "id": "drawn-responsibility",
   "metadata": {},
   "outputs": [
    {
     "data": {
      "text/plain": [
       "pet_id            0\n",
       "issue_date        0\n",
       "listing_date      0\n",
       "condition       619\n",
       "color_type        0\n",
       "length(m)         0\n",
       "height(cm)        0\n",
       "X1                0\n",
       "X2                0\n",
       "dtype: int64"
      ]
     },
     "execution_count": 12,
     "metadata": {},
     "output_type": "execute_result"
    }
   ],
   "source": [
    "df_test.isnull().sum()"
   ]
  },
  {
   "cell_type": "code",
   "execution_count": 13,
   "id": "human-austria",
   "metadata": {},
   "outputs": [
    {
     "name": "stdout",
     "output_type": "stream",
     "text": [
      "<class 'pandas.core.frame.DataFrame'>\n",
      "RangeIndex: 8072 entries, 0 to 8071\n",
      "Data columns (total 9 columns):\n",
      " #   Column        Non-Null Count  Dtype  \n",
      "---  ------        --------------  -----  \n",
      " 0   pet_id        8072 non-null   object \n",
      " 1   issue_date    8072 non-null   object \n",
      " 2   listing_date  8072 non-null   object \n",
      " 3   condition     7453 non-null   float64\n",
      " 4   color_type    8072 non-null   object \n",
      " 5   length(m)     8072 non-null   float64\n",
      " 6   height(cm)    8072 non-null   float64\n",
      " 7   X1            8072 non-null   int64  \n",
      " 8   X2            8072 non-null   int64  \n",
      "dtypes: float64(3), int64(2), object(4)\n",
      "memory usage: 567.7+ KB\n"
     ]
    }
   ],
   "source": [
    "df_test.info()"
   ]
  },
  {
   "cell_type": "code",
   "execution_count": 15,
   "id": "stuck-worcester",
   "metadata": {},
   "outputs": [
    {
     "name": "stdout",
     "output_type": "stream",
     "text": [
      "Train data\n",
      "pet_id               0\n",
      "issue_date           0\n",
      "listing_date         0\n",
      "condition         1477\n",
      "color_type           0\n",
      "length(m)            0\n",
      "height(cm)           0\n",
      "X1                   0\n",
      "X2                   0\n",
      "breed_category       0\n",
      "pet_category         0\n",
      "dtype: int64\n",
      "\n",
      "\n",
      "Test data\n",
      "pet_id            0\n",
      "issue_date        0\n",
      "listing_date      0\n",
      "condition       619\n",
      "color_type        0\n",
      "length(m)         0\n",
      "height(cm)        0\n",
      "X1                0\n",
      "X2                0\n",
      "dtype: int64\n"
     ]
    }
   ],
   "source": [
    "print(\"Train data\")\n",
    "print(df_train.isnull().sum())\n",
    "print('\\n')\n",
    "print(\"Test data\")\n",
    "print(df_test.isnull().sum())"
   ]
  },
  {
   "cell_type": "markdown",
   "id": "consistent-gender",
   "metadata": {},
   "source": [
    "We could see that the train data has 1477 values missing and test data 619 so it can be filled or removed. In this case it would be filled with mean"
   ]
  },
  {
   "cell_type": "code",
   "execution_count": 16,
   "id": "political-world",
   "metadata": {},
   "outputs": [
    {
     "name": "stdout",
     "output_type": "stream",
     "text": [
      "Mean of condition feature in train 0.8833899867488622\n",
      "Mean of condition feature in test 0.8866228364417014\n"
     ]
    }
   ],
   "source": [
    "mean_train_condition = df_train['condition'].mean()\n",
    "\n",
    "print(\"Mean of condition feature in train\", mean_train_condition)\n",
    "\n",
    "mean_test_condition = df_test['condition'].mean()\n",
    "\n",
    "print(\"Mean of condition feature in test\", mean_test_condition)\n",
    "\n",
    "# replace null values with mean value\n",
    "df_train['condition'].replace(np.nan, mean_train_condition, inplace=True)\n",
    "df_test['condition'].replace(np.nan, mean_test_condition, inplace=True)"
   ]
  },
  {
   "cell_type": "code",
   "execution_count": 17,
   "id": "tough-trinity",
   "metadata": {},
   "outputs": [
    {
     "data": {
      "text/plain": [
       "Index(['pet_id', 'issue_date', 'listing_date', 'condition', 'color_type',\n",
       "       'length(m)', 'height(cm)', 'X1', 'X2', 'breed_category',\n",
       "       'pet_category'],\n",
       "      dtype='object')"
      ]
     },
     "execution_count": 17,
     "metadata": {},
     "output_type": "execute_result"
    }
   ],
   "source": [
    "df_train.columns"
   ]
  },
  {
   "cell_type": "code",
   "execution_count": 18,
   "id": "agreed-coating",
   "metadata": {},
   "outputs": [
    {
     "name": "stdout",
     "output_type": "stream",
     "text": [
      "Train data\n",
      "pet_id            0\n",
      "issue_date        0\n",
      "listing_date      0\n",
      "condition         0\n",
      "color_type        0\n",
      "length(m)         0\n",
      "height(cm)        0\n",
      "X1                0\n",
      "X2                0\n",
      "breed_category    0\n",
      "pet_category      0\n",
      "dtype: int64\n",
      "\n",
      "\n",
      "Test data\n",
      "pet_id          0\n",
      "issue_date      0\n",
      "listing_date    0\n",
      "condition       0\n",
      "color_type      0\n",
      "length(m)       0\n",
      "height(cm)      0\n",
      "X1              0\n",
      "X2              0\n",
      "dtype: int64\n"
     ]
    }
   ],
   "source": [
    "print(\"Train data\")\n",
    "print(df_train.isnull().sum())\n",
    "print('\\n')\n",
    "print(\"Test data\")\n",
    "print(df_test.isnull().sum())"
   ]
  },
  {
   "cell_type": "markdown",
   "id": "reverse-louisiana",
   "metadata": {},
   "source": [
    "There is no more missing value right now"
   ]
  },
  {
   "cell_type": "markdown",
   "id": "everyday-executive",
   "metadata": {},
   "source": [
    "## Correlation Matrix"
   ]
  },
  {
   "cell_type": "code",
   "execution_count": 19,
   "id": "concerned-banana",
   "metadata": {},
   "outputs": [
    {
     "data": {
      "image/png": "[encoded data removed]",
      "text/plain": [
       "<Figure size 432x288 with 2 Axes>"
      ]
     },
     "metadata": {
      "needs_background": "light"
     },
     "output_type": "display_data"
    }
   ],
   "source": [
    "# Keeping columns that has more than 1 unique value\n",
    "\n",
    "df_train = df_train[[col for col in df_train if df_train[col].nunique() > 1]]\n",
    "\n",
    "df_corr = df_train.corr()\n",
    "\n",
    "# Visualizng the correlation matrix\n",
    "sns.heatmap(df_corr)\n",
    "\n",
    "plt.show()"
   ]
  },
  {
   "cell_type": "code",
   "execution_count": 20,
   "id": "dangerous-brook",
   "metadata": {},
   "outputs": [
    {
     "data": {
      "text/plain": [
       "['color_type', 'listing_date', 'pet_id', 'issue_date']"
      ]
     },
     "execution_count": 20,
     "metadata": {},
     "output_type": "execute_result"
    }
   ],
   "source": [
    "# Finding categorical features\n",
    "num_cols = df_train._get_numeric_data().columns\n",
    "\n",
    "categorical_cols = list(set(df_train.columns) - set(num_cols))\n",
    "\n",
    "categorical_cols"
   ]
  },
  {
   "cell_type": "markdown",
   "id": "shared-transmission",
   "metadata": {},
   "source": [
    "# Feature Mapping - Color Type"
   ]
  },
  {
   "cell_type": "code",
   "execution_count": 21,
   "id": "neural-signature",
   "metadata": {},
   "outputs": [
    {
     "data": {
      "text/plain": [
       "Black                4620\n",
       "White                2453\n",
       "Brown                1791\n",
       "Brown Tabby          1687\n",
       "Tan                  1349\n",
       "Blue                  852\n",
       "Orange Tabby          791\n",
       "Red                   526\n",
       "Brown Brindle         496\n",
       "Tricolor              469\n",
       "Blue Tabby            386\n",
       "Tortie                366\n",
       "Calico                343\n",
       "Gray                  307\n",
       "Chocolate             259\n",
       "Torbie                242\n",
       "Cream Tabby           191\n",
       "Sable                 167\n",
       "Cream                 162\n",
       "Fawn                  159\n",
       "Yellow                143\n",
       "Buff                  125\n",
       "Lynx Point            117\n",
       "Blue Merle            104\n",
       "Seal Point             78\n",
       "Black Brindle          66\n",
       "Gray Tabby             65\n",
       "Black Tabby            55\n",
       "Flame Point            52\n",
       "Orange                 39\n",
       "Brown Merle            39\n",
       "Black Smoke            32\n",
       "Gold                   31\n",
       "Tortie Point           26\n",
       "Silver                 24\n",
       "Red Tick               23\n",
       "Blue Tick              21\n",
       "Blue Point             20\n",
       "Lilac Point            19\n",
       "Silver Tabby           18\n",
       "Yellow Brindle         15\n",
       "Red Merle              13\n",
       "Apricot                13\n",
       "Calico Point           12\n",
       "Blue Cream             10\n",
       "Blue Tiger             10\n",
       "Chocolate Point         9\n",
       "Green                   8\n",
       "Pink                    8\n",
       "Blue Smoke              6\n",
       "Brown Tiger             4\n",
       "Agouti                  4\n",
       "Silver Lynx Point       4\n",
       "Liver                   3\n",
       "Liver Tick              1\n",
       "Black Tiger             1\n",
       "Name: color_type, dtype: int64"
      ]
     },
     "execution_count": 21,
     "metadata": {},
     "output_type": "execute_result"
    }
   ],
   "source": [
    "df_train['color_type'].value_counts()"
   ]
  },
  {
   "cell_type": "code",
   "execution_count": 23,
   "id": "permanent-smith",
   "metadata": {},
   "outputs": [],
   "source": [
    "animals = {\n",
    "    \"Black\" : 1,\n",
    "    \"White\" : 2,\n",
    "    \"Brown\" : 3,\n",
    "    \"Brown Tabby\" : 4,\n",
    "    \"Tan\" : 5,\n",
    "    \"Blue\" : 6,\n",
    "    \"Orange Tabby\" : 7,\n",
    "    \"Red\" : 8,\n",
    "    \"Brown Brindle\" : 9,\n",
    "    \"Tricolor\" : 10,\n",
    "    \"Blue Tabby\" : 11,\n",
    "    \"Tortie\" : 12,\n",
    "    \"Calico\" : 13,\n",
    "    \"Gray\" : 14,\n",
    "    \"Chocolate\" : 15,\n",
    "    \"Torbie\" : 16,\n",
    "    \"Cream Tabby\" : 17,\n",
    "    \"Sable\" : 18,\n",
    "    \"Cream\" : 19,\n",
    "    \"Fawn\" : 20,\n",
    "    \"Yellow\" : 21,\n",
    "    \"Buff\" : 22,\n",
    "    \"Lynx Point\" : 23,\n",
    "    \"Blue Merle\" : 24,\n",
    "    \"Seal Point\" : 25,\n",
    "    \"Black Brindle\" : 26,\n",
    "    \"Gray Tabby\" : 27,\n",
    "    \"Black Tabby\" : 28,\n",
    "    \"Flame Point\" : 29,\n",
    "    \"Orange\" : 30,\n",
    "    \"Brown Merle\" : 31,\n",
    "    \"Black Smoke\" : 32,\n",
    "    \"Gold\" : 33,\n",
    "    \"Tortie Point\" : 34,\n",
    "    \"Silver\" : 35,\n",
    "    \"Red Tick\" : 36,\n",
    "    \"Blue Tick\" : 37,\n",
    "    \"Blue Point\" : 38,\n",
    "    \"Lilac Point\" : 39,\n",
    "    \"Silver Tabby\" : 40,\n",
    "    \"Yellow Brindle\" : 41,\n",
    "    \"Red Merle\" : 42,\n",
    "    \"Apricot\" : 43,\n",
    "    \"Calico Point\" : 44,\n",
    "    \"Blue Cream\" : 45,\n",
    "    \"Blue Tiger\" : 46,\n",
    "    \"Chocolate Point\" : 47,\n",
    "    \"Green\" : 48,\n",
    "    \"Pink\" : 49,\n",
    "    \"Blue Smoke\" : 50,\n",
    "    \"Brown Tiger\" : 51,\n",
    "    \"Agouti\" : 52,\n",
    "    \"Silver Lynx Point\" : 53,\n",
    "    \"Liver\" : 54,\n",
    "    \"Liver Tick\" : 55,\n",
    "    \"Black Tiger\" : 56\n",
    "}\n",
    "\n",
    "df_train['color_type'] = df_train['color_type'].map(animals)\n",
    "df_test['color_type'] = df_test['color_type'].map(animals)"
   ]
  },
  {
   "cell_type": "code",
   "execution_count": 24,
   "id": "designing-potter",
   "metadata": {},
   "outputs": [
    {
     "data": {
      "text/html": [
       "<div>\n",
       "<style scoped>\n",
       "    .dataframe tbody tr th:only-of-type {\n",
       "        vertical-align: middle;\n",
       "    }\n",
       "\n",
       "    .dataframe tbody tr th {\n",
       "        vertical-align: top;\n",
       "    }\n",
       "\n",
       "    .dataframe thead th {\n",
       "        text-align: right;\n",
       "    }\n",
       "</style>\n",
       "<table border=\"1\" class=\"dataframe\">\n",
       "  <thead>\n",
       "    <tr style=\"text-align: right;\">\n",
       "      <th></th>\n",
       "      <th>pet_id</th>\n",
       "      <th>issue_date</th>\n",
       "      <th>listing_date</th>\n",
       "      <th>condition</th>\n",
       "      <th>color_type</th>\n",
       "      <th>length(m)</th>\n",
       "      <th>height(cm)</th>\n",
       "      <th>X1</th>\n",
       "      <th>X2</th>\n",
       "      <th>breed_category</th>\n",
       "      <th>pet_category</th>\n",
       "    </tr>\n",
       "  </thead>\n",
       "  <tbody>\n",
       "    <tr>\n",
       "      <th>0</th>\n",
       "      <td>ANSL_69903</td>\n",
       "      <td>2016-07-10 00:00:00</td>\n",
       "      <td>2016-09-21 16:25:00</td>\n",
       "      <td>2.00000</td>\n",
       "      <td>4</td>\n",
       "      <td>0.80</td>\n",
       "      <td>7.78</td>\n",
       "      <td>13</td>\n",
       "      <td>9</td>\n",
       "      <td>0.0</td>\n",
       "      <td>1</td>\n",
       "    </tr>\n",
       "    <tr>\n",
       "      <th>1</th>\n",
       "      <td>ANSL_66892</td>\n",
       "      <td>2013-11-21 00:00:00</td>\n",
       "      <td>2018-12-27 17:47:00</td>\n",
       "      <td>1.00000</td>\n",
       "      <td>2</td>\n",
       "      <td>0.72</td>\n",
       "      <td>14.19</td>\n",
       "      <td>13</td>\n",
       "      <td>9</td>\n",
       "      <td>0.0</td>\n",
       "      <td>2</td>\n",
       "    </tr>\n",
       "    <tr>\n",
       "      <th>2</th>\n",
       "      <td>ANSL_69750</td>\n",
       "      <td>2014-09-28 00:00:00</td>\n",
       "      <td>2016-10-19 08:24:00</td>\n",
       "      <td>0.88339</td>\n",
       "      <td>3</td>\n",
       "      <td>0.15</td>\n",
       "      <td>40.90</td>\n",
       "      <td>15</td>\n",
       "      <td>4</td>\n",
       "      <td>2.0</td>\n",
       "      <td>4</td>\n",
       "    </tr>\n",
       "    <tr>\n",
       "      <th>3</th>\n",
       "      <td>ANSL_71623</td>\n",
       "      <td>2016-12-31 00:00:00</td>\n",
       "      <td>2019-01-25 18:30:00</td>\n",
       "      <td>1.00000</td>\n",
       "      <td>2</td>\n",
       "      <td>0.62</td>\n",
       "      <td>17.82</td>\n",
       "      <td>0</td>\n",
       "      <td>1</td>\n",
       "      <td>0.0</td>\n",
       "      <td>2</td>\n",
       "    </tr>\n",
       "    <tr>\n",
       "      <th>4</th>\n",
       "      <td>ANSL_57969</td>\n",
       "      <td>2017-09-28 00:00:00</td>\n",
       "      <td>2017-11-19 09:38:00</td>\n",
       "      <td>2.00000</td>\n",
       "      <td>1</td>\n",
       "      <td>0.50</td>\n",
       "      <td>11.06</td>\n",
       "      <td>18</td>\n",
       "      <td>4</td>\n",
       "      <td>0.0</td>\n",
       "      <td>1</td>\n",
       "    </tr>\n",
       "  </tbody>\n",
       "</table>\n",
       "</div>"
      ],
      "text/plain": [
       "       pet_id           issue_date         listing_date  condition  \\\n",
       "0  ANSL_69903  2016-07-10 00:00:00  2016-09-21 16:25:00    2.00000   \n",
       "1  ANSL_66892  2013-11-21 00:00:00  2018-12-27 17:47:00    1.00000   \n",
       "2  ANSL_69750  2014-09-28 00:00:00  2016-10-19 08:24:00    0.88339   \n",
       "3  ANSL_71623  2016-12-31 00:00:00  2019-01-25 18:30:00    1.00000   \n",
       "4  ANSL_57969  2017-09-28 00:00:00  2017-11-19 09:38:00    2.00000   \n",
       "\n",
       "   color_type  length(m)  height(cm)  X1  X2  breed_category  pet_category  \n",
       "0           4       0.80        7.78  13   9             0.0             1  \n",
       "1           2       0.72       14.19  13   9             0.0             2  \n",
       "2           3       0.15       40.90  15   4             2.0             4  \n",
       "3           2       0.62       17.82   0   1             0.0             2  \n",
       "4           1       0.50       11.06  18   4             0.0             1  "
      ]
     },
     "execution_count": 24,
     "metadata": {},
     "output_type": "execute_result"
    }
   ],
   "source": [
    "df_train.head()"
   ]
  },
  {
   "cell_type": "code",
   "execution_count": 25,
   "id": "aboriginal-liverpool",
   "metadata": {},
   "outputs": [
    {
     "data": {
      "text/html": [
       "<div>\n",
       "<style scoped>\n",
       "    .dataframe tbody tr th:only-of-type {\n",
       "        vertical-align: middle;\n",
       "    }\n",
       "\n",
       "    .dataframe tbody tr th {\n",
       "        vertical-align: top;\n",
       "    }\n",
       "\n",
       "    .dataframe thead th {\n",
       "        text-align: right;\n",
       "    }\n",
       "</style>\n",
       "<table border=\"1\" class=\"dataframe\">\n",
       "  <thead>\n",
       "    <tr style=\"text-align: right;\">\n",
       "      <th></th>\n",
       "      <th>pet_id</th>\n",
       "      <th>issue_date</th>\n",
       "      <th>listing_date</th>\n",
       "      <th>condition</th>\n",
       "      <th>color_type</th>\n",
       "      <th>length(m)</th>\n",
       "      <th>height(cm)</th>\n",
       "      <th>X1</th>\n",
       "      <th>X2</th>\n",
       "    </tr>\n",
       "  </thead>\n",
       "  <tbody>\n",
       "    <tr>\n",
       "      <th>0</th>\n",
       "      <td>ANSL_75005</td>\n",
       "      <td>2005-08-17 00:00:00</td>\n",
       "      <td>2017-09-07 15:35:00</td>\n",
       "      <td>0.0</td>\n",
       "      <td>1</td>\n",
       "      <td>0.87</td>\n",
       "      <td>42.73</td>\n",
       "      <td>0</td>\n",
       "      <td>7</td>\n",
       "    </tr>\n",
       "    <tr>\n",
       "      <th>1</th>\n",
       "      <td>ANSL_76663</td>\n",
       "      <td>2018-11-15 00:00:00</td>\n",
       "      <td>2019-05-08 17:24:00</td>\n",
       "      <td>1.0</td>\n",
       "      <td>7</td>\n",
       "      <td>0.06</td>\n",
       "      <td>6.71</td>\n",
       "      <td>0</td>\n",
       "      <td>1</td>\n",
       "    </tr>\n",
       "    <tr>\n",
       "      <th>2</th>\n",
       "      <td>ANSL_58259</td>\n",
       "      <td>2012-10-11 00:00:00</td>\n",
       "      <td>2018-04-02 16:51:00</td>\n",
       "      <td>1.0</td>\n",
       "      <td>1</td>\n",
       "      <td>0.24</td>\n",
       "      <td>41.21</td>\n",
       "      <td>0</td>\n",
       "      <td>7</td>\n",
       "    </tr>\n",
       "    <tr>\n",
       "      <th>3</th>\n",
       "      <td>ANSL_67171</td>\n",
       "      <td>2015-02-13 00:00:00</td>\n",
       "      <td>2018-04-06 07:25:00</td>\n",
       "      <td>1.0</td>\n",
       "      <td>1</td>\n",
       "      <td>0.29</td>\n",
       "      <td>8.46</td>\n",
       "      <td>7</td>\n",
       "      <td>1</td>\n",
       "    </tr>\n",
       "    <tr>\n",
       "      <th>4</th>\n",
       "      <td>ANSL_72871</td>\n",
       "      <td>2017-01-18 00:00:00</td>\n",
       "      <td>2018-04-26 13:42:00</td>\n",
       "      <td>1.0</td>\n",
       "      <td>3</td>\n",
       "      <td>0.71</td>\n",
       "      <td>30.92</td>\n",
       "      <td>0</td>\n",
       "      <td>7</td>\n",
       "    </tr>\n",
       "  </tbody>\n",
       "</table>\n",
       "</div>"
      ],
      "text/plain": [
       "       pet_id           issue_date         listing_date  condition  \\\n",
       "0  ANSL_75005  2005-08-17 00:00:00  2017-09-07 15:35:00        0.0   \n",
       "1  ANSL_76663  2018-11-15 00:00:00  2019-05-08 17:24:00        1.0   \n",
       "2  ANSL_58259  2012-10-11 00:00:00  2018-04-02 16:51:00        1.0   \n",
       "3  ANSL_67171  2015-02-13 00:00:00  2018-04-06 07:25:00        1.0   \n",
       "4  ANSL_72871  2017-01-18 00:00:00  2018-04-26 13:42:00        1.0   \n",
       "\n",
       "   color_type  length(m)  height(cm)  X1  X2  \n",
       "0           1       0.87       42.73   0   7  \n",
       "1           7       0.06        6.71   0   1  \n",
       "2           1       0.24       41.21   0   7  \n",
       "3           1       0.29        8.46   7   1  \n",
       "4           3       0.71       30.92   0   7  "
      ]
     },
     "execution_count": 25,
     "metadata": {},
     "output_type": "execute_result"
    }
   ],
   "source": [
    "df_test.head()"
   ]
  },
  {
   "cell_type": "code",
   "execution_count": 33,
   "id": "inside-musical",
   "metadata": {},
   "outputs": [],
   "source": [
    "df_train['listing_date'] = df_train['listing_date'].astype('datetime64[ns]')\n",
    "df_train['issue_date'] = df_train['issue_date'].astype('datetime64[ns]')\n",
    "df_test['listing_date'] = df_test['listing_date'].astype('datetime64[ns]')\n",
    "df_test['issue_date'] = df_test['issue_date'].astype('datetime64[ns]')"
   ]
  },
  {
   "cell_type": "code",
   "execution_count": 34,
   "id": "available-galaxy",
   "metadata": {},
   "outputs": [
    {
     "data": {
      "text/plain": [
       "pet_id                    object\n",
       "issue_date        datetime64[ns]\n",
       "listing_date      datetime64[ns]\n",
       "condition                float64\n",
       "color_type                 int64\n",
       "length(m)                float64\n",
       "height(cm)               float64\n",
       "X1                         int64\n",
       "X2                         int64\n",
       "breed_category           float64\n",
       "pet_category               int64\n",
       "dtype: object"
      ]
     },
     "execution_count": 34,
     "metadata": {},
     "output_type": "execute_result"
    }
   ],
   "source": [
    "df_train.dtypes"
   ]
  },
  {
   "cell_type": "code",
   "execution_count": 35,
   "id": "formal-robin",
   "metadata": {},
   "outputs": [
    {
     "data": {
      "text/plain": [
       "pet_id                  object\n",
       "issue_date      datetime64[ns]\n",
       "listing_date    datetime64[ns]\n",
       "condition              float64\n",
       "color_type               int64\n",
       "length(m)              float64\n",
       "height(cm)             float64\n",
       "X1                       int64\n",
       "X2                       int64\n",
       "dtype: object"
      ]
     },
     "execution_count": 35,
     "metadata": {},
     "output_type": "execute_result"
    }
   ],
   "source": [
    "df_test.dtypes"
   ]
  },
  {
   "cell_type": "code",
   "execution_count": 36,
   "id": "practical-government",
   "metadata": {},
   "outputs": [],
   "source": [
    "df_train['noofdays'] = (df_train['listing_date'] - df_train['issue_date']).astype('timedelta64[h]')\n",
    "df_test['noofdays'] = (df_test['listing_date'] - df_test['issue_date']).astype('timedelta64[h]')"
   ]
  },
  {
   "cell_type": "code",
   "execution_count": 37,
   "id": "imposed-appeal",
   "metadata": {},
   "outputs": [],
   "source": [
    "df_train['area'] = df_train['length(m)'] * (df_train['height(cm)']*100)\n",
    "df_test['area'] = df_test['length(m)'] * (df_test['height(cm)']*100)"
   ]
  },
  {
   "cell_type": "code",
   "execution_count": 38,
   "id": "institutional-behalf",
   "metadata": {},
   "outputs": [
    {
     "data": {
      "text/html": [
       "<div>\n",
       "<style scoped>\n",
       "    .dataframe tbody tr th:only-of-type {\n",
       "        vertical-align: middle;\n",
       "    }\n",
       "\n",
       "    .dataframe tbody tr th {\n",
       "        vertical-align: top;\n",
       "    }\n",
       "\n",
       "    .dataframe thead th {\n",
       "        text-align: right;\n",
       "    }\n",
       "</style>\n",
       "<table border=\"1\" class=\"dataframe\">\n",
       "  <thead>\n",
       "    <tr style=\"text-align: right;\">\n",
       "      <th></th>\n",
       "      <th>pet_id</th>\n",
       "      <th>issue_date</th>\n",
       "      <th>listing_date</th>\n",
       "      <th>condition</th>\n",
       "      <th>color_type</th>\n",
       "      <th>length(m)</th>\n",
       "      <th>height(cm)</th>\n",
       "      <th>X1</th>\n",
       "      <th>X2</th>\n",
       "      <th>breed_category</th>\n",
       "      <th>pet_category</th>\n",
       "      <th>noofdays</th>\n",
       "      <th>area</th>\n",
       "    </tr>\n",
       "  </thead>\n",
       "  <tbody>\n",
       "    <tr>\n",
       "      <th>0</th>\n",
       "      <td>ANSL_69903</td>\n",
       "      <td>2016-07-10</td>\n",
       "      <td>2016-09-21 16:25:00</td>\n",
       "      <td>2.00000</td>\n",
       "      <td>4</td>\n",
       "      <td>0.80</td>\n",
       "      <td>7.78</td>\n",
       "      <td>13</td>\n",
       "      <td>9</td>\n",
       "      <td>0.0</td>\n",
       "      <td>1</td>\n",
       "      <td>1768.0</td>\n",
       "      <td>622.40</td>\n",
       "    </tr>\n",
       "    <tr>\n",
       "      <th>1</th>\n",
       "      <td>ANSL_66892</td>\n",
       "      <td>2013-11-21</td>\n",
       "      <td>2018-12-27 17:47:00</td>\n",
       "      <td>1.00000</td>\n",
       "      <td>2</td>\n",
       "      <td>0.72</td>\n",
       "      <td>14.19</td>\n",
       "      <td>13</td>\n",
       "      <td>9</td>\n",
       "      <td>0.0</td>\n",
       "      <td>2</td>\n",
       "      <td>44705.0</td>\n",
       "      <td>1021.68</td>\n",
       "    </tr>\n",
       "    <tr>\n",
       "      <th>2</th>\n",
       "      <td>ANSL_69750</td>\n",
       "      <td>2014-09-28</td>\n",
       "      <td>2016-10-19 08:24:00</td>\n",
       "      <td>0.88339</td>\n",
       "      <td>3</td>\n",
       "      <td>0.15</td>\n",
       "      <td>40.90</td>\n",
       "      <td>15</td>\n",
       "      <td>4</td>\n",
       "      <td>2.0</td>\n",
       "      <td>4</td>\n",
       "      <td>18056.0</td>\n",
       "      <td>613.50</td>\n",
       "    </tr>\n",
       "    <tr>\n",
       "      <th>3</th>\n",
       "      <td>ANSL_71623</td>\n",
       "      <td>2016-12-31</td>\n",
       "      <td>2019-01-25 18:30:00</td>\n",
       "      <td>1.00000</td>\n",
       "      <td>2</td>\n",
       "      <td>0.62</td>\n",
       "      <td>17.82</td>\n",
       "      <td>0</td>\n",
       "      <td>1</td>\n",
       "      <td>0.0</td>\n",
       "      <td>2</td>\n",
       "      <td>18138.0</td>\n",
       "      <td>1104.84</td>\n",
       "    </tr>\n",
       "    <tr>\n",
       "      <th>4</th>\n",
       "      <td>ANSL_57969</td>\n",
       "      <td>2017-09-28</td>\n",
       "      <td>2017-11-19 09:38:00</td>\n",
       "      <td>2.00000</td>\n",
       "      <td>1</td>\n",
       "      <td>0.50</td>\n",
       "      <td>11.06</td>\n",
       "      <td>18</td>\n",
       "      <td>4</td>\n",
       "      <td>0.0</td>\n",
       "      <td>1</td>\n",
       "      <td>1257.0</td>\n",
       "      <td>553.00</td>\n",
       "    </tr>\n",
       "  </tbody>\n",
       "</table>\n",
       "</div>"
      ],
      "text/plain": [
       "       pet_id issue_date        listing_date  condition  color_type  \\\n",
       "0  ANSL_69903 2016-07-10 2016-09-21 16:25:00    2.00000           4   \n",
       "1  ANSL_66892 2013-11-21 2018-12-27 17:47:00    1.00000           2   \n",
       "2  ANSL_69750 2014-09-28 2016-10-19 08:24:00    0.88339           3   \n",
       "3  ANSL_71623 2016-12-31 2019-01-25 18:30:00    1.00000           2   \n",
       "4  ANSL_57969 2017-09-28 2017-11-19 09:38:00    2.00000           1   \n",
       "\n",
       "   length(m)  height(cm)  X1  X2  breed_category  pet_category  noofdays  \\\n",
       "0       0.80        7.78  13   9             0.0             1    1768.0   \n",
       "1       0.72       14.19  13   9             0.0             2   44705.0   \n",
       "2       0.15       40.90  15   4             2.0             4   18056.0   \n",
       "3       0.62       17.82   0   1             0.0             2   18138.0   \n",
       "4       0.50       11.06  18   4             0.0             1    1257.0   \n",
       "\n",
       "      area  \n",
       "0   622.40  \n",
       "1  1021.68  \n",
       "2   613.50  \n",
       "3  1104.84  \n",
       "4   553.00  "
      ]
     },
     "execution_count": 38,
     "metadata": {},
     "output_type": "execute_result"
    }
   ],
   "source": [
    "df_train.head()"
   ]
  },
  {
   "cell_type": "code",
   "execution_count": 39,
   "id": "burning-meter",
   "metadata": {},
   "outputs": [
    {
     "data": {
      "text/html": [
       "<div>\n",
       "<style scoped>\n",
       "    .dataframe tbody tr th:only-of-type {\n",
       "        vertical-align: middle;\n",
       "    }\n",
       "\n",
       "    .dataframe tbody tr th {\n",
       "        vertical-align: top;\n",
       "    }\n",
       "\n",
       "    .dataframe thead th {\n",
       "        text-align: right;\n",
       "    }\n",
       "</style>\n",
       "<table border=\"1\" class=\"dataframe\">\n",
       "  <thead>\n",
       "    <tr style=\"text-align: right;\">\n",
       "      <th></th>\n",
       "      <th>pet_id</th>\n",
       "      <th>issue_date</th>\n",
       "      <th>listing_date</th>\n",
       "      <th>condition</th>\n",
       "      <th>color_type</th>\n",
       "      <th>length(m)</th>\n",
       "      <th>height(cm)</th>\n",
       "      <th>X1</th>\n",
       "      <th>X2</th>\n",
       "      <th>noofdays</th>\n",
       "      <th>area</th>\n",
       "    </tr>\n",
       "  </thead>\n",
       "  <tbody>\n",
       "    <tr>\n",
       "      <th>0</th>\n",
       "      <td>ANSL_75005</td>\n",
       "      <td>2005-08-17</td>\n",
       "      <td>2017-09-07 15:35:00</td>\n",
       "      <td>0.0</td>\n",
       "      <td>1</td>\n",
       "      <td>0.87</td>\n",
       "      <td>42.73</td>\n",
       "      <td>0</td>\n",
       "      <td>7</td>\n",
       "      <td>105711.0</td>\n",
       "      <td>3717.51</td>\n",
       "    </tr>\n",
       "    <tr>\n",
       "      <th>1</th>\n",
       "      <td>ANSL_76663</td>\n",
       "      <td>2018-11-15</td>\n",
       "      <td>2019-05-08 17:24:00</td>\n",
       "      <td>1.0</td>\n",
       "      <td>7</td>\n",
       "      <td>0.06</td>\n",
       "      <td>6.71</td>\n",
       "      <td>0</td>\n",
       "      <td>1</td>\n",
       "      <td>4193.0</td>\n",
       "      <td>40.26</td>\n",
       "    </tr>\n",
       "    <tr>\n",
       "      <th>2</th>\n",
       "      <td>ANSL_58259</td>\n",
       "      <td>2012-10-11</td>\n",
       "      <td>2018-04-02 16:51:00</td>\n",
       "      <td>1.0</td>\n",
       "      <td>1</td>\n",
       "      <td>0.24</td>\n",
       "      <td>41.21</td>\n",
       "      <td>0</td>\n",
       "      <td>7</td>\n",
       "      <td>47992.0</td>\n",
       "      <td>989.04</td>\n",
       "    </tr>\n",
       "    <tr>\n",
       "      <th>3</th>\n",
       "      <td>ANSL_67171</td>\n",
       "      <td>2015-02-13</td>\n",
       "      <td>2018-04-06 07:25:00</td>\n",
       "      <td>1.0</td>\n",
       "      <td>1</td>\n",
       "      <td>0.29</td>\n",
       "      <td>8.46</td>\n",
       "      <td>7</td>\n",
       "      <td>1</td>\n",
       "      <td>27559.0</td>\n",
       "      <td>245.34</td>\n",
       "    </tr>\n",
       "    <tr>\n",
       "      <th>4</th>\n",
       "      <td>ANSL_72871</td>\n",
       "      <td>2017-01-18</td>\n",
       "      <td>2018-04-26 13:42:00</td>\n",
       "      <td>1.0</td>\n",
       "      <td>3</td>\n",
       "      <td>0.71</td>\n",
       "      <td>30.92</td>\n",
       "      <td>0</td>\n",
       "      <td>7</td>\n",
       "      <td>11125.0</td>\n",
       "      <td>2195.32</td>\n",
       "    </tr>\n",
       "  </tbody>\n",
       "</table>\n",
       "</div>"
      ],
      "text/plain": [
       "       pet_id issue_date        listing_date  condition  color_type  \\\n",
       "0  ANSL_75005 2005-08-17 2017-09-07 15:35:00        0.0           1   \n",
       "1  ANSL_76663 2018-11-15 2019-05-08 17:24:00        1.0           7   \n",
       "2  ANSL_58259 2012-10-11 2018-04-02 16:51:00        1.0           1   \n",
       "3  ANSL_67171 2015-02-13 2018-04-06 07:25:00        1.0           1   \n",
       "4  ANSL_72871 2017-01-18 2018-04-26 13:42:00        1.0           3   \n",
       "\n",
       "   length(m)  height(cm)  X1  X2  noofdays     area  \n",
       "0       0.87       42.73   0   7  105711.0  3717.51  \n",
       "1       0.06        6.71   0   1    4193.0    40.26  \n",
       "2       0.24       41.21   0   7   47992.0   989.04  \n",
       "3       0.29        8.46   7   1   27559.0   245.34  \n",
       "4       0.71       30.92   0   7   11125.0  2195.32  "
      ]
     },
     "execution_count": 39,
     "metadata": {},
     "output_type": "execute_result"
    }
   ],
   "source": [
    "df_test.head()"
   ]
  },
  {
   "cell_type": "markdown",
   "id": "sought-inside",
   "metadata": {},
   "source": [
    "## Modeling"
   ]
  },
  {
   "cell_type": "code",
   "execution_count": 40,
   "id": "waiting-population",
   "metadata": {},
   "outputs": [],
   "source": [
    "from sklearn.preprocessing import MinMaxScaler"
   ]
  },
  {
   "cell_type": "code",
   "execution_count": 41,
   "id": "metric-blind",
   "metadata": {},
   "outputs": [],
   "source": [
    "cols_to_norm = ['noofdays', 'area', 'height(cm)']\n",
    "\n",
    "df_train[cols_to_norm] = MinMaxScaler().fit_transform(df_train[cols_to_norm])"
   ]
  },
  {
   "cell_type": "code",
   "execution_count": 42,
   "id": "unlike-refrigerator",
   "metadata": {},
   "outputs": [
    {
     "data": {
      "text/html": [
       "<div>\n",
       "<style scoped>\n",
       "    .dataframe tbody tr th:only-of-type {\n",
       "        vertical-align: middle;\n",
       "    }\n",
       "\n",
       "    .dataframe tbody tr th {\n",
       "        vertical-align: top;\n",
       "    }\n",
       "\n",
       "    .dataframe thead th {\n",
       "        text-align: right;\n",
       "    }\n",
       "</style>\n",
       "<table border=\"1\" class=\"dataframe\">\n",
       "  <thead>\n",
       "    <tr style=\"text-align: right;\">\n",
       "      <th></th>\n",
       "      <th>pet_id</th>\n",
       "      <th>issue_date</th>\n",
       "      <th>listing_date</th>\n",
       "      <th>condition</th>\n",
       "      <th>color_type</th>\n",
       "      <th>length(m)</th>\n",
       "      <th>height(cm)</th>\n",
       "      <th>X1</th>\n",
       "      <th>X2</th>\n",
       "      <th>breed_category</th>\n",
       "      <th>pet_category</th>\n",
       "      <th>noofdays</th>\n",
       "      <th>area</th>\n",
       "    </tr>\n",
       "  </thead>\n",
       "  <tbody>\n",
       "    <tr>\n",
       "      <th>0</th>\n",
       "      <td>ANSL_69903</td>\n",
       "      <td>2016-07-10</td>\n",
       "      <td>2016-09-21 16:25:00</td>\n",
       "      <td>2.00000</td>\n",
       "      <td>4</td>\n",
       "      <td>0.80</td>\n",
       "      <td>0.061778</td>\n",
       "      <td>13</td>\n",
       "      <td>9</td>\n",
       "      <td>0.0</td>\n",
       "      <td>1</td>\n",
       "      <td>0.018318</td>\n",
       "      <td>0.125030</td>\n",
       "    </tr>\n",
       "    <tr>\n",
       "      <th>1</th>\n",
       "      <td>ANSL_66892</td>\n",
       "      <td>2013-11-21</td>\n",
       "      <td>2018-12-27 17:47:00</td>\n",
       "      <td>1.00000</td>\n",
       "      <td>2</td>\n",
       "      <td>0.72</td>\n",
       "      <td>0.204222</td>\n",
       "      <td>13</td>\n",
       "      <td>9</td>\n",
       "      <td>0.0</td>\n",
       "      <td>2</td>\n",
       "      <td>0.238320</td>\n",
       "      <td>0.205239</td>\n",
       "    </tr>\n",
       "    <tr>\n",
       "      <th>2</th>\n",
       "      <td>ANSL_69750</td>\n",
       "      <td>2014-09-28</td>\n",
       "      <td>2016-10-19 08:24:00</td>\n",
       "      <td>0.88339</td>\n",
       "      <td>3</td>\n",
       "      <td>0.15</td>\n",
       "      <td>0.797778</td>\n",
       "      <td>15</td>\n",
       "      <td>4</td>\n",
       "      <td>2.0</td>\n",
       "      <td>4</td>\n",
       "      <td>0.101775</td>\n",
       "      <td>0.123242</td>\n",
       "    </tr>\n",
       "    <tr>\n",
       "      <th>3</th>\n",
       "      <td>ANSL_71623</td>\n",
       "      <td>2016-12-31</td>\n",
       "      <td>2019-01-25 18:30:00</td>\n",
       "      <td>1.00000</td>\n",
       "      <td>2</td>\n",
       "      <td>0.62</td>\n",
       "      <td>0.284889</td>\n",
       "      <td>0</td>\n",
       "      <td>1</td>\n",
       "      <td>0.0</td>\n",
       "      <td>2</td>\n",
       "      <td>0.102195</td>\n",
       "      <td>0.221945</td>\n",
       "    </tr>\n",
       "    <tr>\n",
       "      <th>4</th>\n",
       "      <td>ANSL_57969</td>\n",
       "      <td>2017-09-28</td>\n",
       "      <td>2017-11-19 09:38:00</td>\n",
       "      <td>2.00000</td>\n",
       "      <td>1</td>\n",
       "      <td>0.50</td>\n",
       "      <td>0.134667</td>\n",
       "      <td>18</td>\n",
       "      <td>4</td>\n",
       "      <td>0.0</td>\n",
       "      <td>1</td>\n",
       "      <td>0.015699</td>\n",
       "      <td>0.111089</td>\n",
       "    </tr>\n",
       "  </tbody>\n",
       "</table>\n",
       "</div>"
      ],
      "text/plain": [
       "       pet_id issue_date        listing_date  condition  color_type  \\\n",
       "0  ANSL_69903 2016-07-10 2016-09-21 16:25:00    2.00000           4   \n",
       "1  ANSL_66892 2013-11-21 2018-12-27 17:47:00    1.00000           2   \n",
       "2  ANSL_69750 2014-09-28 2016-10-19 08:24:00    0.88339           3   \n",
       "3  ANSL_71623 2016-12-31 2019-01-25 18:30:00    1.00000           2   \n",
       "4  ANSL_57969 2017-09-28 2017-11-19 09:38:00    2.00000           1   \n",
       "\n",
       "   length(m)  height(cm)  X1  X2  breed_category  pet_category  noofdays  \\\n",
       "0       0.80    0.061778  13   9             0.0             1  0.018318   \n",
       "1       0.72    0.204222  13   9             0.0             2  0.238320   \n",
       "2       0.15    0.797778  15   4             2.0             4  0.101775   \n",
       "3       0.62    0.284889   0   1             0.0             2  0.102195   \n",
       "4       0.50    0.134667  18   4             0.0             1  0.015699   \n",
       "\n",
       "       area  \n",
       "0  0.125030  \n",
       "1  0.205239  \n",
       "2  0.123242  \n",
       "3  0.221945  \n",
       "4  0.111089  "
      ]
     },
     "execution_count": 42,
     "metadata": {},
     "output_type": "execute_result"
    }
   ],
   "source": [
    "df_train.head()"
   ]
  },
  {
   "cell_type": "code",
   "execution_count": 43,
   "id": "nervous-judge",
   "metadata": {},
   "outputs": [],
   "source": [
    "df_test[cols_to_norm] = MinMaxScaler().fit_transform(df_test[cols_to_norm])"
   ]
  },
  {
   "cell_type": "code",
   "execution_count": 44,
   "id": "marked-permission",
   "metadata": {},
   "outputs": [
    {
     "data": {
      "text/plain": [
       "Index(['pet_id', 'issue_date', 'listing_date', 'condition', 'color_type',\n",
       "       'length(m)', 'height(cm)', 'X1', 'X2', 'breed_category', 'pet_category',\n",
       "       'noofdays', 'area'],\n",
       "      dtype='object')"
      ]
     },
     "execution_count": 44,
     "metadata": {},
     "output_type": "execute_result"
    }
   ],
   "source": [
    "df_train.columns"
   ]
  },
  {
   "cell_type": "code",
   "execution_count": 45,
   "id": "disabled-occupation",
   "metadata": {},
   "outputs": [],
   "source": [
    "X_train = df_train[['condition', 'color_type', 'length(m)', 'height(cm)', \n",
    "                    'X1', 'X2', 'noofdays', 'area']]\n",
    "\n",
    "y_train = df_train['pet_category']"
   ]
  },
  {
   "cell_type": "code",
   "execution_count": 46,
   "id": "cooperative-breakdown",
   "metadata": {},
   "outputs": [],
   "source": [
    "X_test = df_test[['condition', 'color_type', 'length(m)', 'height(cm)', \n",
    "                    'X1', 'X2', 'noofdays', 'area']]"
   ]
  },
  {
   "cell_type": "code",
   "execution_count": 47,
   "id": "indie-paintball",
   "metadata": {},
   "outputs": [
    {
     "data": {
      "text/html": [
       "<div>\n",
       "<style scoped>\n",
       "    .dataframe tbody tr th:only-of-type {\n",
       "        vertical-align: middle;\n",
       "    }\n",
       "\n",
       "    .dataframe tbody tr th {\n",
       "        vertical-align: top;\n",
       "    }\n",
       "\n",
       "    .dataframe thead th {\n",
       "        text-align: right;\n",
       "    }\n",
       "</style>\n",
       "<table border=\"1\" class=\"dataframe\">\n",
       "  <thead>\n",
       "    <tr style=\"text-align: right;\">\n",
       "      <th></th>\n",
       "      <th>condition</th>\n",
       "      <th>color_type</th>\n",
       "      <th>length(m)</th>\n",
       "      <th>height(cm)</th>\n",
       "      <th>X1</th>\n",
       "      <th>X2</th>\n",
       "      <th>noofdays</th>\n",
       "      <th>area</th>\n",
       "    </tr>\n",
       "  </thead>\n",
       "  <tbody>\n",
       "    <tr>\n",
       "      <th>0</th>\n",
       "      <td>0.0</td>\n",
       "      <td>1</td>\n",
       "      <td>0.87</td>\n",
       "      <td>0.838595</td>\n",
       "      <td>0</td>\n",
       "      <td>7</td>\n",
       "      <td>0.480012</td>\n",
       "      <td>0.746938</td>\n",
       "    </tr>\n",
       "    <tr>\n",
       "      <th>1</th>\n",
       "      <td>1.0</td>\n",
       "      <td>7</td>\n",
       "      <td>0.06</td>\n",
       "      <td>0.037795</td>\n",
       "      <td>0</td>\n",
       "      <td>1</td>\n",
       "      <td>0.016897</td>\n",
       "      <td>0.008089</td>\n",
       "    </tr>\n",
       "    <tr>\n",
       "      <th>2</th>\n",
       "      <td>1.0</td>\n",
       "      <td>1</td>\n",
       "      <td>0.24</td>\n",
       "      <td>0.804802</td>\n",
       "      <td>0</td>\n",
       "      <td>7</td>\n",
       "      <td>0.216704</td>\n",
       "      <td>0.198722</td>\n",
       "    </tr>\n",
       "    <tr>\n",
       "      <th>3</th>\n",
       "      <td>1.0</td>\n",
       "      <td>1</td>\n",
       "      <td>0.29</td>\n",
       "      <td>0.076701</td>\n",
       "      <td>7</td>\n",
       "      <td>1</td>\n",
       "      <td>0.123491</td>\n",
       "      <td>0.049295</td>\n",
       "    </tr>\n",
       "    <tr>\n",
       "      <th>4</th>\n",
       "      <td>1.0</td>\n",
       "      <td>3</td>\n",
       "      <td>0.71</td>\n",
       "      <td>0.576034</td>\n",
       "      <td>0</td>\n",
       "      <td>7</td>\n",
       "      <td>0.048520</td>\n",
       "      <td>0.441093</td>\n",
       "    </tr>\n",
       "  </tbody>\n",
       "</table>\n",
       "</div>"
      ],
      "text/plain": [
       "   condition  color_type  length(m)  height(cm)  X1  X2  noofdays      area\n",
       "0        0.0           1       0.87    0.838595   0   7  0.480012  0.746938\n",
       "1        1.0           7       0.06    0.037795   0   1  0.016897  0.008089\n",
       "2        1.0           1       0.24    0.804802   0   7  0.216704  0.198722\n",
       "3        1.0           1       0.29    0.076701   7   1  0.123491  0.049295\n",
       "4        1.0           3       0.71    0.576034   0   7  0.048520  0.441093"
      ]
     },
     "execution_count": 47,
     "metadata": {},
     "output_type": "execute_result"
    }
   ],
   "source": [
    "X_test.head()"
   ]
  },
  {
   "cell_type": "markdown",
   "id": "sudden-berry",
   "metadata": {},
   "source": [
    "## Build Model"
   ]
  },
  {
   "cell_type": "code",
   "execution_count": 48,
   "id": "nuclear-compact",
   "metadata": {},
   "outputs": [],
   "source": [
    "from sklearn.metrics import accuracy_score"
   ]
  },
  {
   "cell_type": "markdown",
   "id": "alike-joyce",
   "metadata": {},
   "source": [
    "### Model 1 : Decision Tree"
   ]
  },
  {
   "cell_type": "code",
   "execution_count": 49,
   "id": "random-interference",
   "metadata": {},
   "outputs": [],
   "source": [
    "from sklearn.tree import DecisionTreeClassifier"
   ]
  },
  {
   "cell_type": "code",
   "execution_count": 50,
   "id": "under-excess",
   "metadata": {},
   "outputs": [],
   "source": [
    "model1 = DecisionTreeClassifier(criterion='entropy', max_depth=4)"
   ]
  },
  {
   "cell_type": "code",
   "execution_count": 51,
   "id": "photographic-robin",
   "metadata": {},
   "outputs": [
    {
     "data": {
      "text/plain": [
       "DecisionTreeClassifier(ccp_alpha=0.0, class_weight=None, criterion='entropy',\n",
       "                       max_depth=4, max_features=None, max_leaf_nodes=None,\n",
       "                       min_impurity_decrease=0.0, min_impurity_split=None,\n",
       "                       min_samples_leaf=1, min_samples_split=2,\n",
       "                       min_weight_fraction_leaf=0.0, presort='deprecated',\n",
       "                       random_state=None, splitter='best')"
      ]
     },
     "execution_count": 51,
     "metadata": {},
     "output_type": "execute_result"
    }
   ],
   "source": [
    "model1.fit(X_train, y_train)"
   ]
  },
  {
   "cell_type": "code",
   "execution_count": 52,
   "id": "sticky-brand",
   "metadata": {},
   "outputs": [
    {
     "name": "stdout",
     "output_type": "stream",
     "text": [
      "Train score: 0.8072634597005416\n"
     ]
    }
   ],
   "source": [
    "print(\"Train score:\", model1.score(X_train, y_train))"
   ]
  },
  {
   "cell_type": "code",
   "execution_count": 53,
   "id": "anticipated-airplane",
   "metadata": {},
   "outputs": [],
   "source": [
    "m1_predict = model1.predict(X_test)"
   ]
  },
  {
   "cell_type": "code",
   "execution_count": 54,
   "id": "proud-pride",
   "metadata": {},
   "outputs": [
    {
     "name": "stdout",
     "output_type": "stream",
     "text": [
      "Test score: 1.0\n"
     ]
    }
   ],
   "source": [
    "print(\"Test score:\", model1.score(X_test, m1_predict))"
   ]
  },
  {
   "cell_type": "code",
   "execution_count": 55,
   "id": "expanded-lounge",
   "metadata": {},
   "outputs": [],
   "source": [
    "y_train_b = df_train['breed_category']"
   ]
  },
  {
   "cell_type": "code",
   "execution_count": 56,
   "id": "powerful-synthesis",
   "metadata": {},
   "outputs": [
    {
     "data": {
      "text/plain": [
       "DecisionTreeClassifier(ccp_alpha=0.0, class_weight=None, criterion='entropy',\n",
       "                       max_depth=4, max_features=None, max_leaf_nodes=None,\n",
       "                       min_impurity_decrease=0.0, min_impurity_split=None,\n",
       "                       min_samples_leaf=1, min_samples_split=2,\n",
       "                       min_weight_fraction_leaf=0.0, presort='deprecated',\n",
       "                       random_state=None, splitter='best')"
      ]
     },
     "execution_count": 56,
     "metadata": {},
     "output_type": "execute_result"
    }
   ],
   "source": [
    "model1.fit(X_train, y_train_b)"
   ]
  },
  {
   "cell_type": "code",
   "execution_count": 57,
   "id": "roman-coalition",
   "metadata": {},
   "outputs": [
    {
     "name": "stdout",
     "output_type": "stream",
     "text": [
      "Train score: 0.9013486248274397\n"
     ]
    }
   ],
   "source": [
    "print(\"Train score:\", model1.score(X_train, y_train_b))"
   ]
  },
  {
   "cell_type": "code",
   "execution_count": 58,
   "id": "capable-laugh",
   "metadata": {},
   "outputs": [],
   "source": [
    "m1_predict_breed = model1.predict(X_test)"
   ]
  },
  {
   "cell_type": "code",
   "execution_count": 59,
   "id": "upset-commander",
   "metadata": {},
   "outputs": [
    {
     "name": "stdout",
     "output_type": "stream",
     "text": [
      "Test score: 1.0\n"
     ]
    }
   ],
   "source": [
    "print(\"Test score:\", model1.score(X_test, m1_predict_breed))"
   ]
  },
  {
   "cell_type": "markdown",
   "id": "right-lemon",
   "metadata": {},
   "source": [
    "## Model function"
   ]
  },
  {
   "cell_type": "code",
   "execution_count": 93,
   "id": "underlying-checklist",
   "metadata": {},
   "outputs": [],
   "source": [
    "def cat_predict(model):\n",
    "    print(\"Prediction for color\")\n",
    "    model.fit(X_train, y_train)\n",
    "    print(\"Train score:\", model.score(X_train, y_train))\n",
    "    \n",
    "    model_predict = model.predict(X_test)\n",
    "    print(\"Test score:\", model.score(X_test, model_predict))\n",
    "    return model_predict\n",
    "    \n",
    "def breed_predict(model):\n",
    "    print(\"Prediction for breed\")\n",
    "    model.fit(X_train, y_train_b)\n",
    "    print(\"Train score:\", model.score(X_train, y_train_b))\n",
    "    \n",
    "    model_predict = model.predict(X_test)\n",
    "    print(\"Test score:\", model.score(X_test, model_predict))\n",
    "    return model_predict"
   ]
  },
  {
   "cell_type": "markdown",
   "id": "liked-helen",
   "metadata": {},
   "source": [
    "### Model 2 : Random Forest"
   ]
  },
  {
   "cell_type": "code",
   "execution_count": 66,
   "id": "acting-steps",
   "metadata": {},
   "outputs": [],
   "source": [
    "from sklearn.ensemble import RandomForestClassifier"
   ]
  },
  {
   "cell_type": "code",
   "execution_count": 67,
   "id": "historic-nevada",
   "metadata": {},
   "outputs": [],
   "source": [
    "model2 = RandomForestClassifier(n_estimators=100, criterion='gini')"
   ]
  },
  {
   "cell_type": "code",
   "execution_count": 68,
   "id": "junior-wheel",
   "metadata": {},
   "outputs": [
    {
     "name": "stdout",
     "output_type": "stream",
     "text": [
      "Prediction for color\n",
      "Train score: 0.9999469045343528\n",
      "Test score: 1.0\n"
     ]
    }
   ],
   "source": [
    "cat_predict(model2)"
   ]
  },
  {
   "cell_type": "code",
   "execution_count": 69,
   "id": "raised-while",
   "metadata": {},
   "outputs": [
    {
     "name": "stdout",
     "output_type": "stream",
     "text": [
      "Prediction for breed\n",
      "Train score: 1.0\n",
      "Test score: 1.0\n"
     ]
    }
   ],
   "source": [
    "breed_predict(model2)"
   ]
  },
  {
   "cell_type": "markdown",
   "id": "talented-portable",
   "metadata": {},
   "source": [
    "### Model 3 : Gradient Boosting"
   ]
  },
  {
   "cell_type": "code",
   "execution_count": 70,
   "id": "tender-model",
   "metadata": {},
   "outputs": [],
   "source": [
    "from sklearn.ensemble import GradientBoostingClassifier"
   ]
  },
  {
   "cell_type": "code",
   "execution_count": 71,
   "id": "knowing-activation",
   "metadata": {},
   "outputs": [],
   "source": [
    "model3 = GradientBoostingClassifier(random_state=42)"
   ]
  },
  {
   "cell_type": "code",
   "execution_count": 72,
   "id": "cleared-saudi",
   "metadata": {},
   "outputs": [
    {
     "name": "stdout",
     "output_type": "stream",
     "text": [
      "Prediction for color\n",
      "Train score: 0.9064988849952214\n",
      "Test score: 1.0\n"
     ]
    }
   ],
   "source": [
    "cat_predict(model3)"
   ]
  },
  {
   "cell_type": "code",
   "execution_count": 73,
   "id": "dietary-hello",
   "metadata": {},
   "outputs": [
    {
     "name": "stdout",
     "output_type": "stream",
     "text": [
      "Prediction for breed\n",
      "Train score: 0.9186577466284379\n",
      "Test score: 1.0\n"
     ]
    }
   ],
   "source": [
    "breed_predict(model3)"
   ]
  },
  {
   "cell_type": "markdown",
   "id": "removed-chaos",
   "metadata": {},
   "source": [
    "### Model 4 : Voting Classifier"
   ]
  },
  {
   "cell_type": "code",
   "execution_count": 74,
   "id": "political-soviet",
   "metadata": {},
   "outputs": [],
   "source": [
    "from sklearn.ensemble import VotingClassifier"
   ]
  },
  {
   "cell_type": "code",
   "execution_count": 75,
   "id": "consolidated-proof",
   "metadata": {},
   "outputs": [],
   "source": [
    "model4 = VotingClassifier(estimators=[('rf', model2), ('gb', model3)], voting='hard')"
   ]
  },
  {
   "cell_type": "code",
   "execution_count": 76,
   "id": "careful-blame",
   "metadata": {},
   "outputs": [
    {
     "name": "stdout",
     "output_type": "stream",
     "text": [
      "Prediction for color\n",
      "Train score: 0.9629393649782308\n",
      "Test score: 1.0\n"
     ]
    }
   ],
   "source": [
    "cat_predict(model4)"
   ]
  },
  {
   "cell_type": "code",
   "execution_count": 77,
   "id": "distant-december",
   "metadata": {},
   "outputs": [
    {
     "name": "stdout",
     "output_type": "stream",
     "text": [
      "Prediction for breed\n",
      "Train score: 0.9415949877880428\n",
      "Test score: 1.0\n"
     ]
    }
   ],
   "source": [
    "breed_predict(model4)"
   ]
  },
  {
   "cell_type": "markdown",
   "id": "starting-champagne",
   "metadata": {},
   "source": [
    "### Model 5 : Hist Gradient Boosting Classifier"
   ]
  },
  {
   "cell_type": "code",
   "execution_count": 78,
   "id": "growing-recommendation",
   "metadata": {},
   "outputs": [],
   "source": [
    "from sklearn.experimental import enable_hist_gradient_boosting\n",
    "from sklearn.ensemble import HistGradientBoostingClassifier"
   ]
  },
  {
   "cell_type": "code",
   "execution_count": 79,
   "id": "prompt-equality",
   "metadata": {},
   "outputs": [],
   "source": [
    "model5 = HistGradientBoostingClassifier(max_iter=100, learning_rate=0.241, max_leaf_nodes=55,\n",
    "                                        l2_regularization=1.222, validation_fraction=0.1)"
   ]
  },
  {
   "cell_type": "code",
   "execution_count": 80,
   "id": "cardiovascular-arcade",
   "metadata": {},
   "outputs": [
    {
     "name": "stdout",
     "output_type": "stream",
     "text": [
      "Prediction for color\n",
      "Train score: 0.9936285441223319\n",
      "Test score: 1.0\n"
     ]
    }
   ],
   "source": [
    "cat_predict(model5)"
   ]
  },
  {
   "cell_type": "code",
   "execution_count": 81,
   "id": "ambient-privacy",
   "metadata": {},
   "outputs": [
    {
     "name": "stdout",
     "output_type": "stream",
     "text": [
      "Prediction for breed\n",
      "Train score: 0.9998407136030583\n",
      "Test score: 1.0\n"
     ]
    }
   ],
   "source": [
    "breed_predict(model5)"
   ]
  },
  {
   "cell_type": "markdown",
   "id": "saving-future",
   "metadata": {},
   "source": [
    "### Model 6 : Voting Classifier (Hist + RF)"
   ]
  },
  {
   "cell_type": "code",
   "execution_count": 82,
   "id": "engaging-rugby",
   "metadata": {},
   "outputs": [],
   "source": [
    "model6 = VotingClassifier(estimators=[('hgb', model5), ('rf', model2)], voting='hard')"
   ]
  },
  {
   "cell_type": "code",
   "execution_count": 83,
   "id": "decimal-indian",
   "metadata": {},
   "outputs": [
    {
     "name": "stdout",
     "output_type": "stream",
     "text": [
      "Prediction for color\n",
      "Train score: 0.9991504725496443\n",
      "Test score: 1.0\n"
     ]
    }
   ],
   "source": [
    "cat_predict(model6)"
   ]
  },
  {
   "cell_type": "code",
   "execution_count": 84,
   "id": "smaller-dynamics",
   "metadata": {},
   "outputs": [
    {
     "name": "stdout",
     "output_type": "stream",
     "text": [
      "Prediction for breed\n",
      "Train score: 0.9998407136030583\n",
      "Test score: 1.0\n"
     ]
    }
   ],
   "source": [
    "breed_predict(model6)"
   ]
  },
  {
   "cell_type": "markdown",
   "id": "equipped-sight",
   "metadata": {},
   "source": [
    "### Model 7 : Extra Tree Classifier"
   ]
  },
  {
   "cell_type": "code",
   "execution_count": 85,
   "id": "terminal-activity",
   "metadata": {},
   "outputs": [],
   "source": [
    "from sklearn.ensemble import ExtraTreesClassifier"
   ]
  },
  {
   "cell_type": "code",
   "execution_count": 86,
   "id": "addressed-drive",
   "metadata": {},
   "outputs": [],
   "source": [
    "model7 = ExtraTreesClassifier(n_estimators=100)"
   ]
  },
  {
   "cell_type": "code",
   "execution_count": 87,
   "id": "golden-glossary",
   "metadata": {},
   "outputs": [
    {
     "name": "stdout",
     "output_type": "stream",
     "text": [
      "Prediction for color\n",
      "Train score: 1.0\n",
      "Test score: 1.0\n"
     ]
    }
   ],
   "source": [
    "cat_predict(model7)"
   ]
  },
  {
   "cell_type": "code",
   "execution_count": 88,
   "id": "suspended-belize",
   "metadata": {},
   "outputs": [
    {
     "name": "stdout",
     "output_type": "stream",
     "text": [
      "Prediction for breed\n",
      "Train score: 1.0\n",
      "Test score: 1.0\n"
     ]
    }
   ],
   "source": [
    "breed_predict(model7)"
   ]
  },
  {
   "cell_type": "markdown",
   "id": "medieval-bubble",
   "metadata": {},
   "source": [
    "### Model 8 : Voting Classifier (Hist + Extra + RF)"
   ]
  },
  {
   "cell_type": "code",
   "execution_count": 90,
   "id": "unlikely-aviation",
   "metadata": {},
   "outputs": [],
   "source": [
    "model8 = VotingClassifier(estimators=[('hgb', model5), ('et', model7), ('rf', model2)], voting='soft')"
   ]
  },
  {
   "cell_type": "code",
   "execution_count": 94,
   "id": "cathedral-technique",
   "metadata": {},
   "outputs": [
    {
     "name": "stdout",
     "output_type": "stream",
     "text": [
      "Prediction for color\n",
      "Train score: 1.0\n",
      "Test score: 1.0\n"
     ]
    }
   ],
   "source": [
    "m8_predictions_category = cat_predict(model8)"
   ]
  },
  {
   "cell_type": "code",
   "execution_count": 95,
   "id": "afraid-potter",
   "metadata": {},
   "outputs": [
    {
     "name": "stdout",
     "output_type": "stream",
     "text": [
      "Prediction for breed\n",
      "Train score: 1.0\n",
      "Test score: 1.0\n"
     ]
    }
   ],
   "source": [
    "m8_predictions_breed = breed_predict(model8)"
   ]
  },
  {
   "cell_type": "markdown",
   "id": "sitting-ceremony",
   "metadata": {},
   "source": [
    "## Submissions"
   ]
  },
  {
   "cell_type": "code",
   "execution_count": 96,
   "id": "enclosed-samuel",
   "metadata": {},
   "outputs": [],
   "source": [
    "submission = pd.DataFrame({\"pet_id\":df_test['pet_id'], \"breed_category\": m8_predictions_breed, \"pet_category\": m8_predictions_category})"
   ]
  },
  {
   "cell_type": "code",
   "execution_count": 97,
   "id": "bridal-cookie",
   "metadata": {},
   "outputs": [
    {
     "data": {
      "text/html": [
       "<div>\n",
       "<style scoped>\n",
       "    .dataframe tbody tr th:only-of-type {\n",
       "        vertical-align: middle;\n",
       "    }\n",
       "\n",
       "    .dataframe tbody tr th {\n",
       "        vertical-align: top;\n",
       "    }\n",
       "\n",
       "    .dataframe thead th {\n",
       "        text-align: right;\n",
       "    }\n",
       "</style>\n",
       "<table border=\"1\" class=\"dataframe\">\n",
       "  <thead>\n",
       "    <tr style=\"text-align: right;\">\n",
       "      <th></th>\n",
       "      <th>pet_id</th>\n",
       "      <th>breed_category</th>\n",
       "      <th>pet_category</th>\n",
       "    </tr>\n",
       "  </thead>\n",
       "  <tbody>\n",
       "    <tr>\n",
       "      <th>0</th>\n",
       "      <td>ANSL_75005</td>\n",
       "      <td>1.0</td>\n",
       "      <td>2</td>\n",
       "    </tr>\n",
       "    <tr>\n",
       "      <th>1</th>\n",
       "      <td>ANSL_76663</td>\n",
       "      <td>0.0</td>\n",
       "      <td>1</td>\n",
       "    </tr>\n",
       "    <tr>\n",
       "      <th>2</th>\n",
       "      <td>ANSL_58259</td>\n",
       "      <td>0.0</td>\n",
       "      <td>2</td>\n",
       "    </tr>\n",
       "    <tr>\n",
       "      <th>3</th>\n",
       "      <td>ANSL_67171</td>\n",
       "      <td>0.0</td>\n",
       "      <td>2</td>\n",
       "    </tr>\n",
       "    <tr>\n",
       "      <th>4</th>\n",
       "      <td>ANSL_72871</td>\n",
       "      <td>0.0</td>\n",
       "      <td>2</td>\n",
       "    </tr>\n",
       "    <tr>\n",
       "      <th>...</th>\n",
       "      <td>...</td>\n",
       "      <td>...</td>\n",
       "      <td>...</td>\n",
       "    </tr>\n",
       "    <tr>\n",
       "      <th>8067</th>\n",
       "      <td>ANSL_66809</td>\n",
       "      <td>1.0</td>\n",
       "      <td>2</td>\n",
       "    </tr>\n",
       "    <tr>\n",
       "      <th>8068</th>\n",
       "      <td>ANSL_59041</td>\n",
       "      <td>1.0</td>\n",
       "      <td>2</td>\n",
       "    </tr>\n",
       "    <tr>\n",
       "      <th>8069</th>\n",
       "      <td>ANSL_60034</td>\n",
       "      <td>1.0</td>\n",
       "      <td>2</td>\n",
       "    </tr>\n",
       "    <tr>\n",
       "      <th>8070</th>\n",
       "      <td>ANSL_58066</td>\n",
       "      <td>2.0</td>\n",
       "      <td>4</td>\n",
       "    </tr>\n",
       "    <tr>\n",
       "      <th>8071</th>\n",
       "      <td>ANSL_69436</td>\n",
       "      <td>1.0</td>\n",
       "      <td>2</td>\n",
       "    </tr>\n",
       "  </tbody>\n",
       "</table>\n",
       "<p>8072 rows × 3 columns</p>\n",
       "</div>"
      ],
      "text/plain": [
       "          pet_id  breed_category  pet_category\n",
       "0     ANSL_75005             1.0             2\n",
       "1     ANSL_76663             0.0             1\n",
       "2     ANSL_58259             0.0             2\n",
       "3     ANSL_67171             0.0             2\n",
       "4     ANSL_72871             0.0             2\n",
       "...          ...             ...           ...\n",
       "8067  ANSL_66809             1.0             2\n",
       "8068  ANSL_59041             1.0             2\n",
       "8069  ANSL_60034             1.0             2\n",
       "8070  ANSL_58066             2.0             4\n",
       "8071  ANSL_69436             1.0             2\n",
       "\n",
       "[8072 rows x 3 columns]"
      ]
     },
     "execution_count": 97,
     "metadata": {},
     "output_type": "execute_result"
    }
   ],
   "source": [
    "submission"
   ]
  },
  {
   "cell_type": "code",
   "execution_count": 98,
   "id": "cutting-backing",
   "metadata": {},
   "outputs": [],
   "source": [
    "submission.to_csv(\"submission.csv\", index=False)"
   ]
  },
  {
   "cell_type": "code",
   "execution_count": 99,
   "id": "enhanced-fluid",
   "metadata": {},
   "outputs": [],
   "source": [
    "s  = pd.read_csv(\"submission.csv\")"
   ]
  },
  {
   "cell_type": "code",
   "execution_count": 100,
   "id": "popular-density",
   "metadata": {},
   "outputs": [
    {
     "data": {
      "text/html": [
       "<div>\n",
       "<style scoped>\n",
       "    .dataframe tbody tr th:only-of-type {\n",
       "        vertical-align: middle;\n",
       "    }\n",
       "\n",
       "    .dataframe tbody tr th {\n",
       "        vertical-align: top;\n",
       "    }\n",
       "\n",
       "    .dataframe thead th {\n",
       "        text-align: right;\n",
       "    }\n",
       "</style>\n",
       "<table border=\"1\" class=\"dataframe\">\n",
       "  <thead>\n",
       "    <tr style=\"text-align: right;\">\n",
       "      <th></th>\n",
       "      <th>pet_id</th>\n",
       "      <th>breed_category</th>\n",
       "      <th>pet_category</th>\n",
       "    </tr>\n",
       "  </thead>\n",
       "  <tbody>\n",
       "    <tr>\n",
       "      <th>0</th>\n",
       "      <td>ANSL_75005</td>\n",
       "      <td>1.0</td>\n",
       "      <td>2</td>\n",
       "    </tr>\n",
       "    <tr>\n",
       "      <th>1</th>\n",
       "      <td>ANSL_76663</td>\n",
       "      <td>0.0</td>\n",
       "      <td>1</td>\n",
       "    </tr>\n",
       "    <tr>\n",
       "      <th>2</th>\n",
       "      <td>ANSL_58259</td>\n",
       "      <td>0.0</td>\n",
       "      <td>2</td>\n",
       "    </tr>\n",
       "    <tr>\n",
       "      <th>3</th>\n",
       "      <td>ANSL_67171</td>\n",
       "      <td>0.0</td>\n",
       "      <td>2</td>\n",
       "    </tr>\n",
       "    <tr>\n",
       "      <th>4</th>\n",
       "      <td>ANSL_72871</td>\n",
       "      <td>0.0</td>\n",
       "      <td>2</td>\n",
       "    </tr>\n",
       "  </tbody>\n",
       "</table>\n",
       "</div>"
      ],
      "text/plain": [
       "       pet_id  breed_category  pet_category\n",
       "0  ANSL_75005             1.0             2\n",
       "1  ANSL_76663             0.0             1\n",
       "2  ANSL_58259             0.0             2\n",
       "3  ANSL_67171             0.0             2\n",
       "4  ANSL_72871             0.0             2"
      ]
     },
     "execution_count": 100,
     "metadata": {},
     "output_type": "execute_result"
    }
   ],
   "source": [
    "s.head()"
   ]
  }
 ],
 "metadata": {
  "kernelspec": {
   "display_name": "Python 3",
   "language": "python",
   "name": "python3"
  },
  "language_info": {
   "codemirror_mode": {
    "name": "ipython",
    "version": 3
   },
   "file_extension": ".py",
   "mimetype": "text/x-python",
   "name": "python",
   "nbconvert_exporter": "python",
   "pygments_lexer": "ipython3",
   "version": "3.9.6"
  }
 },
 "nbformat": 4,
 "nbformat_minor": 5
}
