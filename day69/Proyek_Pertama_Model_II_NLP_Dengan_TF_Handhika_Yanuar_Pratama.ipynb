{
  "nbformat": 4,
  "nbformat_minor": 0,
  "metadata": {
    "colab": {
      "name": "Proyek_Pertama_Model_II_NLP_Dengan_TF_Handhika_Yanuar_Pratama.ipynb",
      "provenance": [],
      "collapsed_sections": []
    },
    "kernelspec": {
      "display_name": "Python 3",
      "name": "python3"
    },
    "language_info": {
      "name": "python"
    },
    "accelerator": "GPU"
  },
  "cells": [
    {
      "cell_type": "markdown",
      "metadata": {
        "id": "10knkE7MJGBI"
      },
      "source": [
        "# Proyek Pertama: Membuat Model NLP dengan Tensorflow\n",
        "*Nama: Handhika Yanuar Pratama*\n",
        "\n",
        "---\n",
        "\n",
        "Proyek ini dikerjakan untuk memenuhi pembelajaran akademi dicoding 'Belajar Pengembangan Machine Learning'. Tujuan akhir dari proyek ini yaitu menerapkan pengetahuan dari bab Natural Language Processing (NLP) dengan tensorflow"
      ]
    },
    {
      "cell_type": "markdown",
      "metadata": {
        "id": "ZJAIMjnBBBke"
      },
      "source": [
        "## 0. Import module utama"
      ]
    },
    {
      "cell_type": "code",
      "metadata": {
        "id": "Y5RzI-HNA440"
      },
      "source": [
        "# Module utama dalam pemrosesan NLP\n",
        "import tensorflow as tf\n",
        "\n",
        "# Module untuk pemrosesan dan visualisasi data\n",
        "import matplotlib.pyplot as plt\n",
        "import pandas as pd\n",
        "import numpy as np\n",
        "\n",
        "# Module untuk membantu proses penyatuan file\n",
        "import glob\n",
        "import os"
      ],
      "execution_count": null,
      "outputs": []
    },
    {
      "cell_type": "markdown",
      "metadata": {
        "id": "CV4d3DXZXY-V"
      },
      "source": [
        "## 1. Tujuan\n",
        "\n",
        "Tujuan proyek ini yaitu menentukan tema dari berita yang diterbitkan pada website resmi Pemprov DKI Jakarta pada tahun 2020. Dataset ini sepenuhnya diperoleh dari [Jakarta Open Data](https://data.jakarta.go.id/dataset/data-judul-berita-yang-di-publish-pada-website-berita-resmi-pemprov-dki-jakarta-tahun-2020) yang kemudian disatukan\n"
      ]
    },
    {
      "cell_type": "markdown",
      "metadata": {
        "id": "DIkFPDQGOLIn"
      },
      "source": [
        "## 2. Hipotesis\n",
        "\n",
        "Hipotesis yang saya gunakan adalah: Judul memiliki pengaruh pada kategori berita\n",
        "\n"
      ]
    },
    {
      "cell_type": "markdown",
      "metadata": {
        "id": "CKslWHL67XeU"
      },
      "source": [
        "*Catatan*: Notebook ini merupakan notebook kedua untuk pengerjaan model ini. Pada model sebelumnya, nilai val_accuracy maksimal hanya berada pada rentang 55-57%\n",
        "\n",
        "![picture](https://drive.google.com/uc?id=12-uArtSRp5bvHgcrhU7YH2kNDHXyyEzs)\n",
        "\n",
        "Pada model tersebut jelas terjadi overfitting yang besar, karena saya mencoba mengkategorikan 14 kategori dari dataset dengan jumlah bersih 4669. Untuk itu pada model ini saya mencoba menyatukan kelas yang memiliki kemiripan untuk mengecilkan ukuran kategori dan mengajukan hipotesis kedua sebagai berikut\n",
        "\n",
        "---\n",
        "Hipotesis II: Judul memiliki pengaruh pada kategori berita, dengan syarat kategori data harus lebih spesifik apabila data yang digunakan kecil"
      ]
    },
    {
      "cell_type": "markdown",
      "metadata": {
        "id": "BNyEnjmsOPGj"
      },
      "source": [
        "## 3. Pengumpulan Data"
      ]
    },
    {
      "cell_type": "markdown",
      "metadata": {
        "id": "QiJHdclxAs3L"
      },
      "source": [
        "### A. Pengumpulan data\n",
        "\n",
        "Pada tahap ini dilakukan pengumpulan data, disini saya mengunduh semua data dari sumbernya yang terdiri dari 12 file"
      ]
    },
    {
      "cell_type": "code",
      "metadata": {
        "colab": {
          "base_uri": "https://localhost:8080/"
        },
        "id": "QBkGTA8jBIto",
        "outputId": "8e6d538b-8c41-48db-93b3-1ab520ddf71a"
      },
      "source": [
        "!unzip berita_2020.zip"
      ],
      "execution_count": null,
      "outputs": [
        {
          "output_type": "stream",
          "text": [
            "Archive:  berita_2020.zip\n",
            "   creating: berita/\n",
            "  inflating: berita/Data-Judul-Berita-Bulan-Agustus-Tahun-2020.csv  \n",
            "  inflating: berita/Data-Judul-Berita-Bulan-April-Tahun-2020.csv  \n",
            "  inflating: berita/Data-Judul-Berita-Bulan-Desember-Tahun-2020.csv  \n",
            "  inflating: berita/Data-Judul-Berita-Bulan-Februari-Tahun-2020.csv  \n",
            "  inflating: berita/Data-Judul-Berita-Bulan-Januari-Tahun-2020.csv  \n",
            "  inflating: berita/Data-Judul-Berita-Bulan-Juli-Tahun-2020.csv  \n",
            "  inflating: berita/Data-Judul-Berita-Bulan-Juni-Tahun-2020.csv  \n",
            "  inflating: berita/Data-Judul-Berita-Bulan-Maret-Tahun-2020.csv  \n",
            "  inflating: berita/Data-Judul-Berita-Bulan-Mei-Tahun-2020.csv  \n",
            "  inflating: berita/Data-Judul-Berita-Bulan-November-Tahun-2020.csv  \n",
            "  inflating: berita/Data-Judul-Berita-Bulan-Oktober-Tahun-2020.csv  \n",
            "  inflating: berita/Data-Judul-Berita-Bulan-September-Tahun-2020.csv  \n"
          ],
          "name": "stdout"
        }
      ]
    },
    {
      "cell_type": "code",
      "metadata": {
        "colab": {
          "base_uri": "https://localhost:8080/"
        },
        "id": "ZHvQVdpzBjWX",
        "outputId": "ac3ed111-2739-469d-a348-57f9a0cacf09"
      },
      "source": [
        "!ls"
      ],
      "execution_count": null,
      "outputs": [
        {
          "output_type": "stream",
          "text": [
            "berita\tberita_2020.zip  sample_data\n"
          ],
          "name": "stdout"
        }
      ]
    },
    {
      "cell_type": "markdown",
      "metadata": {
        "id": "mGJis1BbCAgo"
      },
      "source": [
        "### B. Penyatuan Data\n",
        "\n",
        "Dataset terdiri dari 12 file yang dipisahkan bulan untuk itu perlu dilakukan penyatuan dari setiap file, disini langsung saya satukan menjadi sebuah dataframe"
      ]
    },
    {
      "cell_type": "code",
      "metadata": {
        "id": "J0UKiUm0BxjY"
      },
      "source": [
        "path ='berita'\n",
        "all_files = glob.glob(os.path.join(path, \"*.csv\")) # Memilih semua file csv"
      ],
      "execution_count": null,
      "outputs": []
    },
    {
      "cell_type": "code",
      "metadata": {
        "id": "7fx715pSDPcv"
      },
      "source": [
        "df_each_file = (pd.read_csv(f) for f in all_files)\n",
        "df_all = pd.concat(df_each_file, ignore_index=True)"
      ],
      "execution_count": null,
      "outputs": []
    },
    {
      "cell_type": "code",
      "metadata": {
        "colab": {
          "base_uri": "https://localhost:8080/",
          "height": 424
        },
        "id": "jFjYID5eDd7_",
        "outputId": "721e819f-afe8-4a93-b675-ac03f0edcabd"
      },
      "source": [
        "df_all"
      ],
      "execution_count": null,
      "outputs": [
        {
          "output_type": "execute_result",
          "data": {
            "text/html": [
              "<div>\n",
              "<style scoped>\n",
              "    .dataframe tbody tr th:only-of-type {\n",
              "        vertical-align: middle;\n",
              "    }\n",
              "\n",
              "    .dataframe tbody tr th {\n",
              "        vertical-align: top;\n",
              "    }\n",
              "\n",
              "    .dataframe thead th {\n",
              "        text-align: right;\n",
              "    }\n",
              "</style>\n",
              "<table border=\"1\" class=\"dataframe\">\n",
              "  <thead>\n",
              "    <tr style=\"text-align: right;\">\n",
              "      <th></th>\n",
              "      <th>judul_berita</th>\n",
              "      <th>tanggal_publikasi</th>\n",
              "      <th>jam_publikasi</th>\n",
              "      <th>kategori</th>\n",
              "    </tr>\n",
              "  </thead>\n",
              "  <tbody>\n",
              "    <tr>\n",
              "      <th>0</th>\n",
              "      <td>Kolaborasi dengan Ojek Online dan Pedagang Pas...</td>\n",
              "      <td>2020-03-31</td>\n",
              "      <td>20:40</td>\n",
              "      <td>Ekonomi</td>\n",
              "    </tr>\n",
              "    <tr>\n",
              "      <th>1</th>\n",
              "      <td>Sejumlah Ruas Jalan di Jakpus Disemprot Disinf...</td>\n",
              "      <td>2020-03-31</td>\n",
              "      <td>18:26</td>\n",
              "      <td>Kesehatan</td>\n",
              "    </tr>\n",
              "    <tr>\n",
              "      <th>2</th>\n",
              "      <td>Sudin Pertamanan dan Hutan Kota Jakbar Terima ...</td>\n",
              "      <td>2020-03-31</td>\n",
              "      <td>17:45</td>\n",
              "      <td>Kesehatan</td>\n",
              "    </tr>\n",
              "    <tr>\n",
              "      <th>3</th>\n",
              "      <td>Ruas Jalan di Tanah Sereal Disemprot Disinfektan</td>\n",
              "      <td>2020-03-31</td>\n",
              "      <td>17:24</td>\n",
              "      <td>Jakarta Hari Ini</td>\n",
              "    </tr>\n",
              "    <tr>\n",
              "      <th>4</th>\n",
              "      <td>Jakgrosir Pasar Kedoya Mulai Beroperasi</td>\n",
              "      <td>2020-03-31</td>\n",
              "      <td>17:00</td>\n",
              "      <td>BUMD</td>\n",
              "    </tr>\n",
              "    <tr>\n",
              "      <th>...</th>\n",
              "      <td>...</td>\n",
              "      <td>...</td>\n",
              "      <td>...</td>\n",
              "      <td>...</td>\n",
              "    </tr>\n",
              "    <tr>\n",
              "      <th>9002</th>\n",
              "      <td>Satgas SDA Bangun Saluran Air di Kelurahan Gedong</td>\n",
              "      <td>2020-11-01</td>\n",
              "      <td>12:03</td>\n",
              "      <td>Jakarta Hari Ini</td>\n",
              "    </tr>\n",
              "    <tr>\n",
              "      <th>9003</th>\n",
              "      <td>Kebakaran Rumah di Angke Berhasil Dipadamkan</td>\n",
              "      <td>2020-11-01</td>\n",
              "      <td>11:51</td>\n",
              "      <td>Jakarta Hari Ini</td>\n",
              "    </tr>\n",
              "    <tr>\n",
              "      <th>9004</th>\n",
              "      <td>Jakarta Raih STA 2021, Transjakarta Terus Kemb...</td>\n",
              "      <td>2020-11-01</td>\n",
              "      <td>11:14</td>\n",
              "      <td>BUMD</td>\n",
              "    </tr>\n",
              "    <tr>\n",
              "      <th>9005</th>\n",
              "      <td>17 Unit Mobil Pemadam Atasi Kebakaran di Pekayon</td>\n",
              "      <td>2020-11-01</td>\n",
              "      <td>08:27</td>\n",
              "      <td>Jakarta Hari Ini</td>\n",
              "    </tr>\n",
              "    <tr>\n",
              "      <th>9006</th>\n",
              "      <td>Jakarta akan Diguyur Hujan Hari Ini</td>\n",
              "      <td>2020-11-01</td>\n",
              "      <td>07:50</td>\n",
              "      <td>Jakarta Hari Ini</td>\n",
              "    </tr>\n",
              "  </tbody>\n",
              "</table>\n",
              "<p>9007 rows × 4 columns</p>\n",
              "</div>"
            ],
            "text/plain": [
              "                                           judul_berita  ...          kategori\n",
              "0     Kolaborasi dengan Ojek Online dan Pedagang Pas...  ...           Ekonomi\n",
              "1     Sejumlah Ruas Jalan di Jakpus Disemprot Disinf...  ...         Kesehatan\n",
              "2     Sudin Pertamanan dan Hutan Kota Jakbar Terima ...  ...         Kesehatan\n",
              "3      Ruas Jalan di Tanah Sereal Disemprot Disinfektan  ...  Jakarta Hari Ini\n",
              "4               Jakgrosir Pasar Kedoya Mulai Beroperasi  ...              BUMD\n",
              "...                                                 ...  ...               ...\n",
              "9002  Satgas SDA Bangun Saluran Air di Kelurahan Gedong  ...  Jakarta Hari Ini\n",
              "9003      Kebakaran Rumah di Angke Berhasil Dipadamkan   ...  Jakarta Hari Ini\n",
              "9004  Jakarta Raih STA 2021, Transjakarta Terus Kemb...  ...              BUMD\n",
              "9005   17 Unit Mobil Pemadam Atasi Kebakaran di Pekayon  ...  Jakarta Hari Ini\n",
              "9006                Jakarta akan Diguyur Hujan Hari Ini  ...  Jakarta Hari Ini\n",
              "\n",
              "[9007 rows x 4 columns]"
            ]
          },
          "metadata": {
            "tags": []
          },
          "execution_count": 8
        }
      ]
    },
    {
      "cell_type": "markdown",
      "metadata": {
        "id": "aGDMSDHRDmy3"
      },
      "source": [
        "### C. Memahami Data\n",
        "Pada tahap ini dicari karakteristik dari data, tujuannya untuk lebih mengenali data"
      ]
    },
    {
      "cell_type": "code",
      "metadata": {
        "colab": {
          "base_uri": "https://localhost:8080/"
        },
        "id": "lZL-sW5oDeyX",
        "outputId": "399b1d94-a37d-421c-c41b-1f1ddde26f36"
      },
      "source": [
        "df_all.info()"
      ],
      "execution_count": null,
      "outputs": [
        {
          "output_type": "stream",
          "text": [
            "<class 'pandas.core.frame.DataFrame'>\n",
            "RangeIndex: 9007 entries, 0 to 9006\n",
            "Data columns (total 4 columns):\n",
            " #   Column             Non-Null Count  Dtype \n",
            "---  ------             --------------  ----- \n",
            " 0   judul_berita       9007 non-null   object\n",
            " 1   tanggal_publikasi  9007 non-null   object\n",
            " 2   jam_publikasi      9007 non-null   object\n",
            " 3   kategori           9007 non-null   object\n",
            "dtypes: object(4)\n",
            "memory usage: 281.6+ KB\n"
          ],
          "name": "stdout"
        }
      ]
    },
    {
      "cell_type": "markdown",
      "metadata": {
        "id": "9bUyzsqUDvTe"
      },
      "source": [
        "Dari output diatas diketahui data terdiri dari 9007 baris dan 4 buah kolom, setiap kolom bertipe object, dimana tidak ada nilai null dari data tersebut"
      ]
    },
    {
      "cell_type": "markdown",
      "metadata": {
        "id": "Js689xmbEDYO"
      },
      "source": [
        "### D. Menyeleksi Data\n",
        "\n",
        "Penseleksian data bertujuan untuk meringkas dataframe sehingga lebih fokus pada tujuan. Tujuan saya untuk mengetahui kategori berita berdasarkan judul berita"
      ]
    },
    {
      "cell_type": "code",
      "metadata": {
        "id": "GhR9__pFDh8-"
      },
      "source": [
        "df = df_all.drop(['tanggal_publikasi', 'jam_publikasi'], axis=1)"
      ],
      "execution_count": null,
      "outputs": []
    },
    {
      "cell_type": "code",
      "metadata": {
        "colab": {
          "base_uri": "https://localhost:8080/",
          "height": 206
        },
        "id": "q091vbYpEZuW",
        "outputId": "dcc775aa-98b8-4c19-e3fe-3ade1628ab38"
      },
      "source": [
        "df.head()"
      ],
      "execution_count": null,
      "outputs": [
        {
          "output_type": "execute_result",
          "data": {
            "text/html": [
              "<div>\n",
              "<style scoped>\n",
              "    .dataframe tbody tr th:only-of-type {\n",
              "        vertical-align: middle;\n",
              "    }\n",
              "\n",
              "    .dataframe tbody tr th {\n",
              "        vertical-align: top;\n",
              "    }\n",
              "\n",
              "    .dataframe thead th {\n",
              "        text-align: right;\n",
              "    }\n",
              "</style>\n",
              "<table border=\"1\" class=\"dataframe\">\n",
              "  <thead>\n",
              "    <tr style=\"text-align: right;\">\n",
              "      <th></th>\n",
              "      <th>judul_berita</th>\n",
              "      <th>kategori</th>\n",
              "    </tr>\n",
              "  </thead>\n",
              "  <tbody>\n",
              "    <tr>\n",
              "      <th>0</th>\n",
              "      <td>Kolaborasi dengan Ojek Online dan Pedagang Pas...</td>\n",
              "      <td>Ekonomi</td>\n",
              "    </tr>\n",
              "    <tr>\n",
              "      <th>1</th>\n",
              "      <td>Sejumlah Ruas Jalan di Jakpus Disemprot Disinf...</td>\n",
              "      <td>Kesehatan</td>\n",
              "    </tr>\n",
              "    <tr>\n",
              "      <th>2</th>\n",
              "      <td>Sudin Pertamanan dan Hutan Kota Jakbar Terima ...</td>\n",
              "      <td>Kesehatan</td>\n",
              "    </tr>\n",
              "    <tr>\n",
              "      <th>3</th>\n",
              "      <td>Ruas Jalan di Tanah Sereal Disemprot Disinfektan</td>\n",
              "      <td>Jakarta Hari Ini</td>\n",
              "    </tr>\n",
              "    <tr>\n",
              "      <th>4</th>\n",
              "      <td>Jakgrosir Pasar Kedoya Mulai Beroperasi</td>\n",
              "      <td>BUMD</td>\n",
              "    </tr>\n",
              "  </tbody>\n",
              "</table>\n",
              "</div>"
            ],
            "text/plain": [
              "                                        judul_berita          kategori\n",
              "0  Kolaborasi dengan Ojek Online dan Pedagang Pas...           Ekonomi\n",
              "1  Sejumlah Ruas Jalan di Jakpus Disemprot Disinf...         Kesehatan\n",
              "2  Sudin Pertamanan dan Hutan Kota Jakbar Terima ...         Kesehatan\n",
              "3   Ruas Jalan di Tanah Sereal Disemprot Disinfektan  Jakarta Hari Ini\n",
              "4            Jakgrosir Pasar Kedoya Mulai Beroperasi              BUMD"
            ]
          },
          "metadata": {
            "tags": []
          },
          "execution_count": 11
        }
      ]
    },
    {
      "cell_type": "markdown",
      "metadata": {
        "id": "0aHFyc9hEoN9"
      },
      "source": [
        "### Pengolahan Data\n",
        "\n",
        "Tidak semua data penting, dan terkadang terdapat data yang membuat model machine learning berkurang kemampuan pendeteksiannya. Untuk itu sebelum pembuatan model perlu dilakukan pengolahan data"
      ]
    },
    {
      "cell_type": "code",
      "metadata": {
        "colab": {
          "base_uri": "https://localhost:8080/"
        },
        "id": "pd6vZ5U3Ea6u",
        "outputId": "23c7b5ce-03ef-4fbf-fa71-169288cc266c"
      },
      "source": [
        "df.kategori.value_counts()"
      ],
      "execution_count": null,
      "outputs": [
        {
          "output_type": "execute_result",
          "data": {
            "text/plain": [
              "Jakarta Hari Ini          2630\n",
              "Lintas Kota               1459\n",
              "Kesra                      940\n",
              "Kesehatan                  816\n",
              "BUMD                       628\n",
              "Pembangunan                343\n",
              "Pemerintahan               338\n",
              "Ekonomi                    329\n",
              "Legislatif                 303\n",
              "Banjir                     302\n",
              "Fokus                      225\n",
              "Transportasi               166\n",
              "Pendidikan                 132\n",
              "Wisata & Kuliner           121\n",
              "Seni & Budaya              107\n",
              "Pemberdayaan Perempuan      77\n",
              "Olahraga                    67\n",
              "LENGGANG JAKARTA            15\n",
              "Warga  Bicara                3\n",
              "Jakarta in Spotlight         2\n",
              "LINTAS KOTA                  2\n",
              "HUT DKI ke 476               1\n",
              "Info Humas                   1\n",
              "Name: kategori, dtype: int64"
            ]
          },
          "metadata": {
            "tags": []
          },
          "execution_count": 12
        }
      ]
    },
    {
      "cell_type": "code",
      "metadata": {
        "colab": {
          "base_uri": "https://localhost:8080/",
          "height": 408
        },
        "id": "CY-nswG-E9s6",
        "outputId": "c341d958-5d1d-4465-c7f6-83e341fb7fec"
      },
      "source": [
        "df.kategori.value_counts().plot(kind='bar')"
      ],
      "execution_count": null,
      "outputs": [
        {
          "output_type": "execute_result",
          "data": {
            "text/plain": [
              "<matplotlib.axes._subplots.AxesSubplot at 0x7f13a43a5810>"
            ]
          },
          "metadata": {
            "tags": []
          },
          "execution_count": 13
        },
        {
          "output_type": "display_data",
          "data": {
            "image/png": "[encoded data removed]",
            "text/plain": [
              "<Figure size 432x288 with 1 Axes>"
            ]
          },
          "metadata": {
            "tags": [],
            "needs_background": "light"
          }
        }
      ]
    },
    {
      "cell_type": "markdown",
      "metadata": {
        "id": "p_rJbxS1E6Y6"
      },
      "source": [
        "Melihat dari jenis kategori terdapat ketidakseimbangan data, selain itu juga terdapat tema yang tidak umum (khusus masyarakat Jakarta saja). Untuk itu, dilakukan penghilangan data yang tidak membantu dalam proses pengkategorian model nantinya"
      ]
    },
    {
      "cell_type": "code",
      "metadata": {
        "colab": {
          "base_uri": "https://localhost:8080/"
        },
        "id": "ZPFb4TBQGJ6f",
        "outputId": "3bfd0676-1fe1-4e9f-f8bf-684e58f8f464"
      },
      "source": [
        "df.columns"
      ],
      "execution_count": null,
      "outputs": [
        {
          "output_type": "execute_result",
          "data": {
            "text/plain": [
              "Index(['judul_berita', 'kategori'], dtype='object')"
            ]
          },
          "metadata": {
            "tags": []
          },
          "execution_count": 14
        }
      ]
    },
    {
      "cell_type": "markdown",
      "metadata": {
        "id": "SwtecSeHGsqf"
      },
      "source": [
        "Perlu dicatat bahwa data yang dihilangkan terletak pada row dan bukan columns, jadi karena masih dengan keterbatasan ilmu, saya melakukan pengdropan data secara manual"
      ]
    },
    {
      "cell_type": "code",
      "metadata": {
        "id": "y5KcO9-bIGhj"
      },
      "source": [
        "# Melakukan pengkelasan kategori yang hendak dihilangkan\n",
        "index_names1 = df[(df['kategori'] == 'Jakarta in Spotlight')].index\n",
        "index_names2 = df[(df['kategori'] == 'Jakarta Hari Ini')].index\n",
        "index_names3 = df[(df['kategori'] == 'LENGGANG JAKARTA')].index\n",
        "index_names4 = df[(df['kategori'] == 'HUT DKI ke 476')].index\n",
        "index_names5 = df[(df['kategori'] == 'Warga  Bicara')].index\n",
        "index_names6 = df[(df['kategori'] == 'LINTAS KOTA')].index\n",
        "index_names7 = df[(df['kategori'] == 'Lintas Kota')].index\n",
        "index_names8 = df[(df['kategori'] == 'Info Humas')].index\n",
        "index_names9 = df[(df['kategori'] == 'Fokus')].index"
      ],
      "execution_count": null,
      "outputs": []
    },
    {
      "cell_type": "code",
      "metadata": {
        "id": "L66X7_FeLQv3"
      },
      "source": [
        "# dz = df.copy()\n",
        "# df = dz.copy() # backup df"
      ],
      "execution_count": null,
      "outputs": []
    },
    {
      "cell_type": "code",
      "metadata": {
        "id": "lxJmNX9eEd_Q"
      },
      "source": [
        "# Menghapus kategori yang tidak digunakan\n",
        "df = df.drop(index_names1)\n",
        "df = df.drop(index_names2)\n",
        "df = df.drop(index_names3)\n",
        "df = df.drop(index_names4)\n",
        "df = df.drop(index_names5)\n",
        "df = df.drop(index_names6)\n",
        "df = df.drop(index_names7)\n",
        "df = df.drop(index_names8)\n",
        "df = df.drop(index_names9)"
      ],
      "execution_count": null,
      "outputs": []
    },
    {
      "cell_type": "markdown",
      "metadata": {
        "id": "zKw7oa9zHaCP"
      },
      "source": [
        "Berikut hasil kategori setelah didrop"
      ]
    },
    {
      "cell_type": "code",
      "metadata": {
        "colab": {
          "base_uri": "https://localhost:8080/"
        },
        "id": "IehEq5dWKMhK",
        "outputId": "4ff63f7f-31b1-4f0a-ad2a-c53b47641a96"
      },
      "source": [
        "df.kategori.value_counts()"
      ],
      "execution_count": null,
      "outputs": [
        {
          "output_type": "execute_result",
          "data": {
            "text/plain": [
              "Kesra                     940\n",
              "Kesehatan                 816\n",
              "BUMD                      628\n",
              "Pembangunan               343\n",
              "Pemerintahan              338\n",
              "Ekonomi                   329\n",
              "Legislatif                303\n",
              "Banjir                    302\n",
              "Transportasi              166\n",
              "Pendidikan                132\n",
              "Wisata & Kuliner          121\n",
              "Seni & Budaya             107\n",
              "Pemberdayaan Perempuan     77\n",
              "Olahraga                   67\n",
              "Name: kategori, dtype: int64"
            ]
          },
          "metadata": {
            "tags": []
          },
          "execution_count": 17
        }
      ]
    },
    {
      "cell_type": "markdown",
      "metadata": {
        "id": "L2lgTkhbLRiF"
      },
      "source": [
        "Pada percobaan sebelumnya saya mengalami kegagalan terutama pada bagian val_akurasi yang stagnan pada rentang 0.55-0.57 untuk itu pada bagian ini dilakukan penyempitan data supaya lebih kecil cakupannya\n",
        "\n",
        "Untuk itu berikut klasifikasi yang dilakukan\n",
        "\n",
        "* Kesejahteraan: \n",
        "    - Kesra\n",
        "    - Pemberdayaan Perempuan\n",
        "    - Pendidikan  \n",
        "    - Ekonomi\n",
        "    - Kesehatan\n",
        "    - Transportasi\n",
        "\n",
        "* Pemerintah & Pembangunan:\n",
        "    - BUMD \n",
        "    - Pemerintah\n",
        "    - Legislatif\n",
        "    - Pembangunan\n",
        "\n",
        "* Lainnya:\n",
        "    - Banjir\n",
        "    - Wisata & Kuliner \n",
        "    - Seni & Budaya\n",
        "    - Olahraga\n",
        "\n",
        "Dasar Pengelompokan di atas saya mengacu pada paper [BERITA UTAMA  DI SURAT KABAR ](http://eprints.upnjatim.ac.id/2794/3/3._Berita_UtamaJawa_Pos_Herlina.pdf) tetapi karena pada paper tersebut belum terlalu spesifik dan adanya keterbatasan data, maka saya menambahkan pendekatan berdasarkan kemiripan (Pribadi). Tujuanya untuk membuat klasifikasi tiga kategori. "
      ]
    },
    {
      "cell_type": "code",
      "metadata": {
        "id": "fqoipAPFQoVh"
      },
      "source": [
        "# dfy = df.copy()\n",
        "# df = dfy.copy() # backup df"
      ],
      "execution_count": null,
      "outputs": []
    },
    {
      "cell_type": "code",
      "metadata": {
        "id": "z_2J2efiLQv8"
      },
      "source": [
        "# Kesejahteraan\n",
        "df.replace(\"Kesra\", \"Kesejahteraan\", inplace=True)\n",
        "df.replace(\"Pemberdayaan Perempuan\", \"Kesejahteraan\", inplace=True)\n",
        "df.replace(\"Kesehatan\", \"Kesejahteraan\", inplace=True)\n",
        "df.replace(\"Pendidikan\", \"Kesejahteraan\", inplace=True)\n",
        "df.replace(\"Ekonomi\", \"Kesejahteraan\", inplace=True)\n",
        "df.replace(\"Transportasi\", \"Kesejahteraan\", inplace=True)\n",
        "\n",
        "# Pemerintah & Pembangunan\n",
        "df.replace(\"BUMD\", \"Pemerintahan & Pembangunan\", inplace=True)\n",
        "df.replace(\"Pemerintahan\", \"Pemerintahan & Pembangunan\", inplace=True)\n",
        "df.replace(\"Legislatif\", \"Pemerintahan & Pembangunan\", inplace=True)\n",
        "df.replace(\"Pembangunan\", \"Pemerintahan & Pembangunan\", inplace=True)\n",
        "\n",
        "# Masyarakat\n",
        "df.replace(\"Banjir\", \"Masyarakat\", inplace=True)\n",
        "df.replace(\"Wisata & Kuliner\", \"Masyarakat\", inplace=True)\n",
        "df.replace(\"Seni & Budaya\", \"Masyarakat\", inplace=True)\n",
        "df.replace(\"Olahraga\", \"Masyarakat\", inplace=True)"
      ],
      "execution_count": null,
      "outputs": []
    },
    {
      "cell_type": "code",
      "metadata": {
        "colab": {
          "base_uri": "https://localhost:8080/",
          "height": 424
        },
        "id": "swurX5axRn50",
        "outputId": "39b84534-33d4-4068-e1f8-469271ba3a43"
      },
      "source": [
        "df"
      ],
      "execution_count": null,
      "outputs": [
        {
          "output_type": "execute_result",
          "data": {
            "text/html": [
              "<div>\n",
              "<style scoped>\n",
              "    .dataframe tbody tr th:only-of-type {\n",
              "        vertical-align: middle;\n",
              "    }\n",
              "\n",
              "    .dataframe tbody tr th {\n",
              "        vertical-align: top;\n",
              "    }\n",
              "\n",
              "    .dataframe thead th {\n",
              "        text-align: right;\n",
              "    }\n",
              "</style>\n",
              "<table border=\"1\" class=\"dataframe\">\n",
              "  <thead>\n",
              "    <tr style=\"text-align: right;\">\n",
              "      <th></th>\n",
              "      <th>judul_berita</th>\n",
              "      <th>kategori</th>\n",
              "    </tr>\n",
              "  </thead>\n",
              "  <tbody>\n",
              "    <tr>\n",
              "      <th>0</th>\n",
              "      <td>Kolaborasi dengan Ojek Online dan Pedagang Pas...</td>\n",
              "      <td>Kesejahteraan</td>\n",
              "    </tr>\n",
              "    <tr>\n",
              "      <th>1</th>\n",
              "      <td>Sejumlah Ruas Jalan di Jakpus Disemprot Disinf...</td>\n",
              "      <td>Kesejahteraan</td>\n",
              "    </tr>\n",
              "    <tr>\n",
              "      <th>2</th>\n",
              "      <td>Sudin Pertamanan dan Hutan Kota Jakbar Terima ...</td>\n",
              "      <td>Kesejahteraan</td>\n",
              "    </tr>\n",
              "    <tr>\n",
              "      <th>4</th>\n",
              "      <td>Jakgrosir Pasar Kedoya Mulai Beroperasi</td>\n",
              "      <td>Pemerintahan &amp; Pembangunan</td>\n",
              "    </tr>\n",
              "    <tr>\n",
              "      <th>5</th>\n",
              "      <td>Dinas PPAPP Sosialisasikan Perlindungan Peremp...</td>\n",
              "      <td>Kesejahteraan</td>\n",
              "    </tr>\n",
              "    <tr>\n",
              "      <th>...</th>\n",
              "      <td>...</td>\n",
              "      <td>...</td>\n",
              "    </tr>\n",
              "    <tr>\n",
              "      <th>8988</th>\n",
              "      <td>Pengalihan Rute Transjakarta Diperluas</td>\n",
              "      <td>Pemerintahan &amp; Pembangunan</td>\n",
              "    </tr>\n",
              "    <tr>\n",
              "      <th>8989</th>\n",
              "      <td>Transjakarta Rute Blok M - Kota Dialihkan</td>\n",
              "      <td>Pemerintahan &amp; Pembangunan</td>\n",
              "    </tr>\n",
              "    <tr>\n",
              "      <th>8994</th>\n",
              "      <td>STA 2021 Jadi Pemacu MRT untuk Lebih Baik</td>\n",
              "      <td>Pemerintahan &amp; Pembangunan</td>\n",
              "    </tr>\n",
              "    <tr>\n",
              "      <th>9000</th>\n",
              "      <td>Listrik Padam, Operasional MRT Tetap Normal</td>\n",
              "      <td>Pemerintahan &amp; Pembangunan</td>\n",
              "    </tr>\n",
              "    <tr>\n",
              "      <th>9004</th>\n",
              "      <td>Jakarta Raih STA 2021, Transjakarta Terus Kemb...</td>\n",
              "      <td>Pemerintahan &amp; Pembangunan</td>\n",
              "    </tr>\n",
              "  </tbody>\n",
              "</table>\n",
              "<p>4669 rows × 2 columns</p>\n",
              "</div>"
            ],
            "text/plain": [
              "                                           judul_berita                    kategori\n",
              "0     Kolaborasi dengan Ojek Online dan Pedagang Pas...               Kesejahteraan\n",
              "1     Sejumlah Ruas Jalan di Jakpus Disemprot Disinf...               Kesejahteraan\n",
              "2     Sudin Pertamanan dan Hutan Kota Jakbar Terima ...               Kesejahteraan\n",
              "4               Jakgrosir Pasar Kedoya Mulai Beroperasi  Pemerintahan & Pembangunan\n",
              "5     Dinas PPAPP Sosialisasikan Perlindungan Peremp...               Kesejahteraan\n",
              "...                                                 ...                         ...\n",
              "8988             Pengalihan Rute Transjakarta Diperluas  Pemerintahan & Pembangunan\n",
              "8989          Transjakarta Rute Blok M - Kota Dialihkan  Pemerintahan & Pembangunan\n",
              "8994          STA 2021 Jadi Pemacu MRT untuk Lebih Baik  Pemerintahan & Pembangunan\n",
              "9000        Listrik Padam, Operasional MRT Tetap Normal  Pemerintahan & Pembangunan\n",
              "9004  Jakarta Raih STA 2021, Transjakarta Terus Kemb...  Pemerintahan & Pembangunan\n",
              "\n",
              "[4669 rows x 2 columns]"
            ]
          },
          "metadata": {
            "tags": []
          },
          "execution_count": 21
        }
      ]
    },
    {
      "cell_type": "markdown",
      "metadata": {
        "id": "gr7Yy4LwLctJ"
      },
      "source": [
        "Terlihat bahwa, data yang terlalu spesifik sudah hilang, mari kita lihat distribusi"
      ]
    },
    {
      "cell_type": "code",
      "metadata": {
        "colab": {
          "base_uri": "https://localhost:8080/",
          "height": 429
        },
        "id": "ORtdCTGnHz72",
        "outputId": "6b99add2-be28-43bf-ba31-ef866d08e13c"
      },
      "source": [
        "df.kategori.value_counts().plot(kind='bar')"
      ],
      "execution_count": null,
      "outputs": [
        {
          "output_type": "execute_result",
          "data": {
            "text/plain": [
              "<matplotlib.axes._subplots.AxesSubplot at 0x7f13a3d073d0>"
            ]
          },
          "metadata": {
            "tags": []
          },
          "execution_count": 22
        },
        {
          "output_type": "display_data",
          "data": {
            "image/png": "[encoded data removed]",
            "text/plain": [
              "<Figure size 432x288 with 1 Axes>"
            ]
          },
          "metadata": {
            "tags": [],
            "needs_background": "light"
          }
        }
      ]
    },
    {
      "cell_type": "markdown",
      "metadata": {
        "id": "tjMZ2JJ9NdAp"
      },
      "source": [
        "Distribusi data cukup baik, namun seperti yang diketahui kemungkinan model tidak dapat digunakan untuk dijadikan acuan penelitian, melainkan hanya untuk pengetahuan klasifikasi tiga kategori saja"
      ]
    },
    {
      "cell_type": "code",
      "metadata": {
        "colab": {
          "base_uri": "https://localhost:8080/",
          "height": 206
        },
        "id": "Alb3Pvy4M6-_",
        "outputId": "2d645eef-cfb7-48da-ac75-1afa4e02e2b8"
      },
      "source": [
        "df.head()"
      ],
      "execution_count": null,
      "outputs": [
        {
          "output_type": "execute_result",
          "data": {
            "text/html": [
              "<div>\n",
              "<style scoped>\n",
              "    .dataframe tbody tr th:only-of-type {\n",
              "        vertical-align: middle;\n",
              "    }\n",
              "\n",
              "    .dataframe tbody tr th {\n",
              "        vertical-align: top;\n",
              "    }\n",
              "\n",
              "    .dataframe thead th {\n",
              "        text-align: right;\n",
              "    }\n",
              "</style>\n",
              "<table border=\"1\" class=\"dataframe\">\n",
              "  <thead>\n",
              "    <tr style=\"text-align: right;\">\n",
              "      <th></th>\n",
              "      <th>judul_berita</th>\n",
              "      <th>kategori</th>\n",
              "    </tr>\n",
              "  </thead>\n",
              "  <tbody>\n",
              "    <tr>\n",
              "      <th>0</th>\n",
              "      <td>Kolaborasi dengan Ojek Online dan Pedagang Pas...</td>\n",
              "      <td>Kesejahteraan</td>\n",
              "    </tr>\n",
              "    <tr>\n",
              "      <th>1</th>\n",
              "      <td>Sejumlah Ruas Jalan di Jakpus Disemprot Disinf...</td>\n",
              "      <td>Kesejahteraan</td>\n",
              "    </tr>\n",
              "    <tr>\n",
              "      <th>2</th>\n",
              "      <td>Sudin Pertamanan dan Hutan Kota Jakbar Terima ...</td>\n",
              "      <td>Kesejahteraan</td>\n",
              "    </tr>\n",
              "    <tr>\n",
              "      <th>4</th>\n",
              "      <td>Jakgrosir Pasar Kedoya Mulai Beroperasi</td>\n",
              "      <td>Pemerintahan &amp; Pembangunan</td>\n",
              "    </tr>\n",
              "    <tr>\n",
              "      <th>5</th>\n",
              "      <td>Dinas PPAPP Sosialisasikan Perlindungan Peremp...</td>\n",
              "      <td>Kesejahteraan</td>\n",
              "    </tr>\n",
              "  </tbody>\n",
              "</table>\n",
              "</div>"
            ],
            "text/plain": [
              "                                        judul_berita                    kategori\n",
              "0  Kolaborasi dengan Ojek Online dan Pedagang Pas...               Kesejahteraan\n",
              "1  Sejumlah Ruas Jalan di Jakpus Disemprot Disinf...               Kesejahteraan\n",
              "2  Sudin Pertamanan dan Hutan Kota Jakbar Terima ...               Kesejahteraan\n",
              "4            Jakgrosir Pasar Kedoya Mulai Beroperasi  Pemerintahan & Pembangunan\n",
              "5  Dinas PPAPP Sosialisasikan Perlindungan Peremp...               Kesejahteraan"
            ]
          },
          "metadata": {
            "tags": []
          },
          "execution_count": 23
        }
      ]
    },
    {
      "cell_type": "markdown",
      "metadata": {
        "id": "r7-G-eenQZBf"
      },
      "source": [
        "Data tersebut berhasil di olah tetapi index data tidak beraturan untuk itu perlu diperbaiki dengan fungsi reset_index"
      ]
    },
    {
      "cell_type": "code",
      "metadata": {
        "colab": {
          "base_uri": "https://localhost:8080/",
          "height": 206
        },
        "id": "hGSRSU0QQh3i",
        "outputId": "792f1050-bef3-4133-b11a-3cd05aa73e21"
      },
      "source": [
        "df.reset_index(drop=True, inplace=True)\n",
        "df.head()"
      ],
      "execution_count": null,
      "outputs": [
        {
          "output_type": "execute_result",
          "data": {
            "text/html": [
              "<div>\n",
              "<style scoped>\n",
              "    .dataframe tbody tr th:only-of-type {\n",
              "        vertical-align: middle;\n",
              "    }\n",
              "\n",
              "    .dataframe tbody tr th {\n",
              "        vertical-align: top;\n",
              "    }\n",
              "\n",
              "    .dataframe thead th {\n",
              "        text-align: right;\n",
              "    }\n",
              "</style>\n",
              "<table border=\"1\" class=\"dataframe\">\n",
              "  <thead>\n",
              "    <tr style=\"text-align: right;\">\n",
              "      <th></th>\n",
              "      <th>judul_berita</th>\n",
              "      <th>kategori</th>\n",
              "    </tr>\n",
              "  </thead>\n",
              "  <tbody>\n",
              "    <tr>\n",
              "      <th>0</th>\n",
              "      <td>Kolaborasi dengan Ojek Online dan Pedagang Pas...</td>\n",
              "      <td>Kesejahteraan</td>\n",
              "    </tr>\n",
              "    <tr>\n",
              "      <th>1</th>\n",
              "      <td>Sejumlah Ruas Jalan di Jakpus Disemprot Disinf...</td>\n",
              "      <td>Kesejahteraan</td>\n",
              "    </tr>\n",
              "    <tr>\n",
              "      <th>2</th>\n",
              "      <td>Sudin Pertamanan dan Hutan Kota Jakbar Terima ...</td>\n",
              "      <td>Kesejahteraan</td>\n",
              "    </tr>\n",
              "    <tr>\n",
              "      <th>3</th>\n",
              "      <td>Jakgrosir Pasar Kedoya Mulai Beroperasi</td>\n",
              "      <td>Pemerintahan &amp; Pembangunan</td>\n",
              "    </tr>\n",
              "    <tr>\n",
              "      <th>4</th>\n",
              "      <td>Dinas PPAPP Sosialisasikan Perlindungan Peremp...</td>\n",
              "      <td>Kesejahteraan</td>\n",
              "    </tr>\n",
              "  </tbody>\n",
              "</table>\n",
              "</div>"
            ],
            "text/plain": [
              "                                        judul_berita                    kategori\n",
              "0  Kolaborasi dengan Ojek Online dan Pedagang Pas...               Kesejahteraan\n",
              "1  Sejumlah Ruas Jalan di Jakpus Disemprot Disinf...               Kesejahteraan\n",
              "2  Sudin Pertamanan dan Hutan Kota Jakbar Terima ...               Kesejahteraan\n",
              "3            Jakgrosir Pasar Kedoya Mulai Beroperasi  Pemerintahan & Pembangunan\n",
              "4  Dinas PPAPP Sosialisasikan Perlindungan Peremp...               Kesejahteraan"
            ]
          },
          "metadata": {
            "tags": []
          },
          "execution_count": 24
        }
      ]
    },
    {
      "cell_type": "markdown",
      "metadata": {
        "id": "IdxtVkLTNxXu"
      },
      "source": [
        "Pada tahap ini data telah berhasil diolah, maka sudah siap menuju tahap berikutnya, tetapi saya melakukan backup terlebih dahulu dengan menyimpan dataframe menjadi csv, tujuannya sebagai backup"
      ]
    },
    {
      "cell_type": "code",
      "metadata": {
        "id": "-pgvj2YDQ9-i"
      },
      "source": [
        "df.to_csv('berita_clean_2.csv', index=False)"
      ],
      "execution_count": null,
      "outputs": []
    },
    {
      "cell_type": "markdown",
      "metadata": {
        "id": "XfzJR0NaN77X"
      },
      "source": [
        "## 4. Pembuatan Model\n",
        "\n",
        "* Tujuan    : V\n",
        "* Hipotesis : V\n",
        "* Tema      : V\n",
        "\n",
        "Pada tahapan ini dilakukan pembuatan model NLP untuk memprediksi kategori berdasarkan judul berita"
      ]
    },
    {
      "cell_type": "code",
      "metadata": {
        "colab": {
          "base_uri": "https://localhost:8080/",
          "height": 424
        },
        "id": "Nx9w187p2t8n",
        "outputId": "7765ca2e-ab09-4e05-9353-738427f3b47a"
      },
      "source": [
        "df"
      ],
      "execution_count": null,
      "outputs": [
        {
          "output_type": "execute_result",
          "data": {
            "text/html": [
              "<div>\n",
              "<style scoped>\n",
              "    .dataframe tbody tr th:only-of-type {\n",
              "        vertical-align: middle;\n",
              "    }\n",
              "\n",
              "    .dataframe tbody tr th {\n",
              "        vertical-align: top;\n",
              "    }\n",
              "\n",
              "    .dataframe thead th {\n",
              "        text-align: right;\n",
              "    }\n",
              "</style>\n",
              "<table border=\"1\" class=\"dataframe\">\n",
              "  <thead>\n",
              "    <tr style=\"text-align: right;\">\n",
              "      <th></th>\n",
              "      <th>judul_berita</th>\n",
              "      <th>kategori</th>\n",
              "    </tr>\n",
              "  </thead>\n",
              "  <tbody>\n",
              "    <tr>\n",
              "      <th>0</th>\n",
              "      <td>Kolaborasi dengan Ojek Online dan Pedagang Pas...</td>\n",
              "      <td>Kesejahteraan</td>\n",
              "    </tr>\n",
              "    <tr>\n",
              "      <th>1</th>\n",
              "      <td>Sejumlah Ruas Jalan di Jakpus Disemprot Disinf...</td>\n",
              "      <td>Kesejahteraan</td>\n",
              "    </tr>\n",
              "    <tr>\n",
              "      <th>2</th>\n",
              "      <td>Sudin Pertamanan dan Hutan Kota Jakbar Terima ...</td>\n",
              "      <td>Kesejahteraan</td>\n",
              "    </tr>\n",
              "    <tr>\n",
              "      <th>3</th>\n",
              "      <td>Jakgrosir Pasar Kedoya Mulai Beroperasi</td>\n",
              "      <td>Pemerintahan &amp; Pembangunan</td>\n",
              "    </tr>\n",
              "    <tr>\n",
              "      <th>4</th>\n",
              "      <td>Dinas PPAPP Sosialisasikan Perlindungan Peremp...</td>\n",
              "      <td>Kesejahteraan</td>\n",
              "    </tr>\n",
              "    <tr>\n",
              "      <th>...</th>\n",
              "      <td>...</td>\n",
              "      <td>...</td>\n",
              "    </tr>\n",
              "    <tr>\n",
              "      <th>4664</th>\n",
              "      <td>Pengalihan Rute Transjakarta Diperluas</td>\n",
              "      <td>Pemerintahan &amp; Pembangunan</td>\n",
              "    </tr>\n",
              "    <tr>\n",
              "      <th>4665</th>\n",
              "      <td>Transjakarta Rute Blok M - Kota Dialihkan</td>\n",
              "      <td>Pemerintahan &amp; Pembangunan</td>\n",
              "    </tr>\n",
              "    <tr>\n",
              "      <th>4666</th>\n",
              "      <td>STA 2021 Jadi Pemacu MRT untuk Lebih Baik</td>\n",
              "      <td>Pemerintahan &amp; Pembangunan</td>\n",
              "    </tr>\n",
              "    <tr>\n",
              "      <th>4667</th>\n",
              "      <td>Listrik Padam, Operasional MRT Tetap Normal</td>\n",
              "      <td>Pemerintahan &amp; Pembangunan</td>\n",
              "    </tr>\n",
              "    <tr>\n",
              "      <th>4668</th>\n",
              "      <td>Jakarta Raih STA 2021, Transjakarta Terus Kemb...</td>\n",
              "      <td>Pemerintahan &amp; Pembangunan</td>\n",
              "    </tr>\n",
              "  </tbody>\n",
              "</table>\n",
              "<p>4669 rows × 2 columns</p>\n",
              "</div>"
            ],
            "text/plain": [
              "                                           judul_berita                    kategori\n",
              "0     Kolaborasi dengan Ojek Online dan Pedagang Pas...               Kesejahteraan\n",
              "1     Sejumlah Ruas Jalan di Jakpus Disemprot Disinf...               Kesejahteraan\n",
              "2     Sudin Pertamanan dan Hutan Kota Jakbar Terima ...               Kesejahteraan\n",
              "3               Jakgrosir Pasar Kedoya Mulai Beroperasi  Pemerintahan & Pembangunan\n",
              "4     Dinas PPAPP Sosialisasikan Perlindungan Peremp...               Kesejahteraan\n",
              "...                                                 ...                         ...\n",
              "4664             Pengalihan Rute Transjakarta Diperluas  Pemerintahan & Pembangunan\n",
              "4665          Transjakarta Rute Blok M - Kota Dialihkan  Pemerintahan & Pembangunan\n",
              "4666          STA 2021 Jadi Pemacu MRT untuk Lebih Baik  Pemerintahan & Pembangunan\n",
              "4667        Listrik Padam, Operasional MRT Tetap Normal  Pemerintahan & Pembangunan\n",
              "4668  Jakarta Raih STA 2021, Transjakarta Terus Kemb...  Pemerintahan & Pembangunan\n",
              "\n",
              "[4669 rows x 2 columns]"
            ]
          },
          "metadata": {
            "tags": []
          },
          "execution_count": 27
        }
      ]
    },
    {
      "cell_type": "code",
      "metadata": {
        "colab": {
          "base_uri": "https://localhost:8080/"
        },
        "id": "wEdxYybeOEz2",
        "outputId": "14426839-dd08-406e-8b36-ce6c7b5b7b9a"
      },
      "source": [
        "df.info()"
      ],
      "execution_count": null,
      "outputs": [
        {
          "output_type": "stream",
          "text": [
            "<class 'pandas.core.frame.DataFrame'>\n",
            "RangeIndex: 4669 entries, 0 to 4668\n",
            "Data columns (total 2 columns):\n",
            " #   Column        Non-Null Count  Dtype \n",
            "---  ------        --------------  ----- \n",
            " 0   judul_berita  4669 non-null   object\n",
            " 1   kategori      4669 non-null   object\n",
            "dtypes: object(2)\n",
            "memory usage: 73.1+ KB\n"
          ],
          "name": "stdout"
        }
      ]
    },
    {
      "cell_type": "code",
      "metadata": {
        "colab": {
          "base_uri": "https://localhost:8080/"
        },
        "id": "FZduVSWyPDLA",
        "outputId": "eb8b67fc-8a99-40a2-8cd6-aaad22f0c0a6"
      },
      "source": [
        "df.kategori.value_counts()"
      ],
      "execution_count": null,
      "outputs": [
        {
          "output_type": "execute_result",
          "data": {
            "text/plain": [
              "Kesejahteraan                 2460\n",
              "Pemerintahan & Pembangunan    1612\n",
              "Masyarakat                     597\n",
              "Name: kategori, dtype: int64"
            ]
          },
          "metadata": {
            "tags": []
          },
          "execution_count": 29
        }
      ]
    },
    {
      "cell_type": "markdown",
      "metadata": {
        "id": "5UmqWQgyP0U7"
      },
      "source": [
        "### A. One Hot Encoding\n",
        "\n",
        "Tipe data yang hendak saya olah berupa kategorikal, untuk itu dilakukan proses one-hot-encoding supaya model dapat memproses data"
      ]
    },
    {
      "cell_type": "code",
      "metadata": {
        "colab": {
          "base_uri": "https://localhost:8080/",
          "height": 206
        },
        "id": "hBmQryIxPJuP",
        "outputId": "a05f83f5-20b7-4dc9-8019-4d2c89654db9"
      },
      "source": [
        "category = pd.get_dummies(df.kategori)\n",
        "df_new = pd.concat([df, category], axis=1)\n",
        "df_new = df_new.drop(columns='kategori')\n",
        "df_new.head()"
      ],
      "execution_count": null,
      "outputs": [
        {
          "output_type": "execute_result",
          "data": {
            "text/html": [
              "<div>\n",
              "<style scoped>\n",
              "    .dataframe tbody tr th:only-of-type {\n",
              "        vertical-align: middle;\n",
              "    }\n",
              "\n",
              "    .dataframe tbody tr th {\n",
              "        vertical-align: top;\n",
              "    }\n",
              "\n",
              "    .dataframe thead th {\n",
              "        text-align: right;\n",
              "    }\n",
              "</style>\n",
              "<table border=\"1\" class=\"dataframe\">\n",
              "  <thead>\n",
              "    <tr style=\"text-align: right;\">\n",
              "      <th></th>\n",
              "      <th>judul_berita</th>\n",
              "      <th>Kesejahteraan</th>\n",
              "      <th>Masyarakat</th>\n",
              "      <th>Pemerintahan &amp; Pembangunan</th>\n",
              "    </tr>\n",
              "  </thead>\n",
              "  <tbody>\n",
              "    <tr>\n",
              "      <th>0</th>\n",
              "      <td>Kolaborasi dengan Ojek Online dan Pedagang Pas...</td>\n",
              "      <td>1</td>\n",
              "      <td>0</td>\n",
              "      <td>0</td>\n",
              "    </tr>\n",
              "    <tr>\n",
              "      <th>1</th>\n",
              "      <td>Sejumlah Ruas Jalan di Jakpus Disemprot Disinf...</td>\n",
              "      <td>1</td>\n",
              "      <td>0</td>\n",
              "      <td>0</td>\n",
              "    </tr>\n",
              "    <tr>\n",
              "      <th>2</th>\n",
              "      <td>Sudin Pertamanan dan Hutan Kota Jakbar Terima ...</td>\n",
              "      <td>1</td>\n",
              "      <td>0</td>\n",
              "      <td>0</td>\n",
              "    </tr>\n",
              "    <tr>\n",
              "      <th>3</th>\n",
              "      <td>Jakgrosir Pasar Kedoya Mulai Beroperasi</td>\n",
              "      <td>0</td>\n",
              "      <td>0</td>\n",
              "      <td>1</td>\n",
              "    </tr>\n",
              "    <tr>\n",
              "      <th>4</th>\n",
              "      <td>Dinas PPAPP Sosialisasikan Perlindungan Peremp...</td>\n",
              "      <td>1</td>\n",
              "      <td>0</td>\n",
              "      <td>0</td>\n",
              "    </tr>\n",
              "  </tbody>\n",
              "</table>\n",
              "</div>"
            ],
            "text/plain": [
              "                                        judul_berita  ...  Pemerintahan & Pembangunan\n",
              "0  Kolaborasi dengan Ojek Online dan Pedagang Pas...  ...                           0\n",
              "1  Sejumlah Ruas Jalan di Jakpus Disemprot Disinf...  ...                           0\n",
              "2  Sudin Pertamanan dan Hutan Kota Jakbar Terima ...  ...                           0\n",
              "3            Jakgrosir Pasar Kedoya Mulai Beroperasi  ...                           1\n",
              "4  Dinas PPAPP Sosialisasikan Perlindungan Peremp...  ...                           0\n",
              "\n",
              "[5 rows x 4 columns]"
            ]
          },
          "metadata": {
            "tags": []
          },
          "execution_count": 30
        }
      ]
    },
    {
      "cell_type": "markdown",
      "metadata": {
        "id": "D1GTwy0jU1ne"
      },
      "source": [
        "### B. Pemisahan Features\n",
        "\n",
        "Setelah dilakukan one hot encoding, langkah selanjutnya adalah mengubah nilai dari dataframe ke dalam tipe data numpy array menggunakan attribut values"
      ]
    },
    {
      "cell_type": "code",
      "metadata": {
        "id": "wevoFgj_QMdH"
      },
      "source": [
        "judul = df_new['judul_berita'].values\n",
        "target = df_new.iloc[:, 1:4].values"
      ],
      "execution_count": null,
      "outputs": []
    },
    {
      "cell_type": "markdown",
      "metadata": {
        "id": "-1pihxyEYQ4d"
      },
      "source": [
        "### C. Split Data\n",
        "\n",
        "Pada bagian ini dilakukan pemisahan untuk data training dan data testing"
      ]
    },
    {
      "cell_type": "code",
      "metadata": {
        "id": "LnxVao9lVyhu"
      },
      "source": [
        "from sklearn.model_selection import train_test_split"
      ],
      "execution_count": null,
      "outputs": []
    },
    {
      "cell_type": "code",
      "metadata": {
        "id": "9XqTG99OYZew"
      },
      "source": [
        "X_train, X_test, y_train, y_test = train_test_split(judul, target, test_size=0.2)"
      ],
      "execution_count": null,
      "outputs": []
    },
    {
      "cell_type": "markdown",
      "metadata": {
        "id": "GVzZry3GZudk"
      },
      "source": [
        "### D. Tokenisasi Data\n",
        "\n",
        "Pada bagian ini dilakukan tokenisasi, supaya model dapat mengolah setiap data teks menjadi numerik"
      ]
    },
    {
      "cell_type": "code",
      "metadata": {
        "id": "RoVRs3XcZsmo"
      },
      "source": [
        "from tensorflow.keras.preprocessing.text import Tokenizer\n",
        "\n",
        "tokenizer = Tokenizer(num_words=15000, oov_token='x')\n",
        "tokenizer.fit_on_texts(X_train)\n",
        "tokenizer.fit_on_texts(X_test)\n",
        "\n",
        "X_train_sequence = tokenizer.texts_to_sequences(X_train)\n",
        "X_test_sequence = tokenizer.texts_to_sequences(X_test)"
      ],
      "execution_count": null,
      "outputs": []
    },
    {
      "cell_type": "markdown",
      "metadata": {
        "id": "MB62Ckn5amJm"
      },
      "source": [
        "### E. Padding Data\n",
        "\n",
        "Tokenisasi telah dilakukan padadata, tetapi panjang dari data tidak seimbang, untuk menyeimbangkan dilakukkan padding"
      ]
    },
    {
      "cell_type": "code",
      "metadata": {
        "id": "XKXhNxFlaFk7"
      },
      "source": [
        "from tensorflow.keras.preprocessing.sequence import pad_sequences\n",
        "\n",
        "X_train_padded = pad_sequences(X_train_sequence)\n",
        "X_test_padded = pad_sequences(X_test_sequence)"
      ],
      "execution_count": null,
      "outputs": []
    },
    {
      "cell_type": "code",
      "metadata": {
        "colab": {
          "base_uri": "https://localhost:8080/"
        },
        "id": "ZfrftAlFahLk",
        "outputId": "5f3572a4-348c-4d70-ccff-c737ee6f916c"
      },
      "source": [
        "len(X_train_padded[1])"
      ],
      "execution_count": null,
      "outputs": [
        {
          "output_type": "execute_result",
          "data": {
            "text/plain": [
              "20"
            ]
          },
          "metadata": {
            "tags": []
          },
          "execution_count": 36
        }
      ]
    },
    {
      "cell_type": "markdown",
      "metadata": {
        "id": "He4-vAfGdnqe"
      },
      "source": [
        "### F. Embedding + LSTM\n",
        "\n",
        "Pada tahap ini dilakukan penyusunan arsitektur menggunakan layer Embedding ditambah dengan LSTM"
      ]
    },
    {
      "cell_type": "code",
      "metadata": {
        "id": "RudlPUWud--i"
      },
      "source": [
        "import tensorflow as tf\n",
        "\n",
        "model = tf.keras.Sequential([\n",
        "          tf.keras.layers.Embedding(input_dim=15000, output_dim=20),\n",
        "          # tf.keras.layers.Flatten(),\n",
        "          tf.keras.layers.LSTM(100, dropout=0.5),\n",
        "          tf.keras.layers.Dense(64, activation='relu'),\n",
        "          tf.keras.layers.Dropout(0.2),\n",
        "          # tf.keras.layers.Dense(64, activation='relu'),\n",
        "          tf.keras.layers.Dense(3, activation='softmax')\n",
        "        ])\n",
        "\n",
        "model.compile(optimizer=tf.keras.optimizers.Adam(learning_rate=0.001),\n",
        "              loss='categorical_crossentropy',\n",
        "              metrics=['accuracy'])"
      ],
      "execution_count": null,
      "outputs": []
    },
    {
      "cell_type": "code",
      "metadata": {
        "colab": {
          "base_uri": "https://localhost:8080/"
        },
        "id": "lJIyMyoab0i_",
        "outputId": "7c3e1066-d6f3-4e35-a6ee-3a3fd00a3adf"
      },
      "source": [
        "model.summary()"
      ],
      "execution_count": null,
      "outputs": [
        {
          "output_type": "stream",
          "text": [
            "Model: \"sequential_2\"\n",
            "_________________________________________________________________\n",
            "Layer (type)                 Output Shape              Param #   \n",
            "=================================================================\n",
            "embedding_2 (Embedding)      (None, None, 20)          300000    \n",
            "_________________________________________________________________\n",
            "lstm_2 (LSTM)                (None, 100)               48400     \n",
            "_________________________________________________________________\n",
            "dense_4 (Dense)              (None, 64)                6464      \n",
            "_________________________________________________________________\n",
            "dropout_2 (Dropout)          (None, 64)                0         \n",
            "_________________________________________________________________\n",
            "dense_5 (Dense)              (None, 3)                 195       \n",
            "=================================================================\n",
            "Total params: 355,059\n",
            "Trainable params: 355,059\n",
            "Non-trainable params: 0\n",
            "_________________________________________________________________\n"
          ],
          "name": "stdout"
        }
      ]
    },
    {
      "cell_type": "markdown",
      "metadata": {
        "id": "WQasSfL3kYy-"
      },
      "source": [
        "### G. Callbacks\n",
        "\n",
        "Callbacks berguna untuk menghemat waktu training, ketika model telah mencapai target yang ingin dicapai"
      ]
    },
    {
      "cell_type": "code",
      "metadata": {
        "id": "taxRaL56cXbC"
      },
      "source": [
        "class myCallback(tf.keras.callbacks.Callback):\n",
        "  def on_epoch_end(self, epoch, logs={}):\n",
        "    if(logs.get('val_accuracy') > 0.85):\n",
        "      print(\"\\nValidasi Akurasi telah mencapai > 85%\")\n",
        "      self.model.stop_training = True\n",
        "\n",
        "callbacks= myCallback()"
      ],
      "execution_count": null,
      "outputs": []
    },
    {
      "cell_type": "markdown",
      "metadata": {
        "id": "E9moMUyek_9e"
      },
      "source": [
        "### H. Training\n",
        "\n",
        "Saatnya eksekusi"
      ]
    },
    {
      "cell_type": "code",
      "metadata": {
        "colab": {
          "base_uri": "https://localhost:8080/"
        },
        "id": "_WAkhwbDjEtx",
        "outputId": "c97b18cc-302e-41af-dddd-c5501ed24193"
      },
      "source": [
        "epoch=50\n",
        "history = model.fit(X_train_padded, y_train, epochs=epoch,\n",
        "                    validation_data=(X_test_padded, y_test),\n",
        "                    batch_size=16, callbacks=[callbacks],\n",
        "                    verbose=2)"
      ],
      "execution_count": null,
      "outputs": [
        {
          "output_type": "stream",
          "text": [
            "Epoch 1/50\n",
            "234/234 - 7s - loss: 0.9163 - accuracy: 0.5724 - val_loss: 0.6405 - val_accuracy: 0.7281\n",
            "Epoch 2/50\n",
            "234/234 - 4s - loss: 0.5153 - accuracy: 0.8029 - val_loss: 0.4613 - val_accuracy: 0.8276\n",
            "Epoch 3/50\n",
            "234/234 - 4s - loss: 0.3182 - accuracy: 0.8932 - val_loss: 0.4245 - val_accuracy: 0.8480\n",
            "Epoch 4/50\n",
            "234/234 - 4s - loss: 0.2324 - accuracy: 0.9226 - val_loss: 0.4199 - val_accuracy: 0.8512\n",
            "\n",
            "Validasi Akurasi telah mencapai > 85%\n"
          ],
          "name": "stdout"
        }
      ]
    },
    {
      "cell_type": "markdown",
      "metadata": {
        "id": "OzM_LsnOurSD"
      },
      "source": [
        "## 5. Analisa Hasil + Kesimpulan\n",
        "Pada tahap ini saya melakukan plotting pada variable history yang berisikan proses belajar dari model menggunakan arsitektur dari Embedding dan LSTM"
      ]
    },
    {
      "cell_type": "code",
      "metadata": {
        "colab": {
          "base_uri": "https://localhost:8080/",
          "height": 508
        },
        "id": "gZN54jg1jKY4",
        "outputId": "1f671bfb-c199-4a87-93c2-d5c477f04d75"
      },
      "source": [
        "plt.style.use('seaborn-whitegrid')\n",
        "plt.figure(figsize=(12,8))\n",
        "plt.plot(history.history['accuracy'])\n",
        "plt.plot(history.history['val_accuracy'])\n",
        "plt.plot(history.history['loss'])\n",
        "plt.plot(history.history['val_loss'])\n",
        "plt.title('Grafik Akurasi & Loss Model')\n",
        "plt.ylabel('accuracy')\n",
        "plt.xlabel('epoch')\n",
        "plt.legend(['accuracy', 'val_accuracy', 'loss', 'val_loss'], loc='right')\n",
        "plt.show()"
      ],
      "execution_count": null,
      "outputs": [
        {
          "output_type": "display_data",
          "data": {
            "image/png": "[encoded data removed]",
            "text/plain": [
              "<Figure size 864x576 with 1 Axes>"
            ]
          },
          "metadata": {
            "tags": []
          }
        }
      ]
    },
    {
      "cell_type": "markdown",
      "metadata": {
        "id": "sTHqrmfazk6M"
      },
      "source": [
        "Berdasarkan grafik yang ditampilkan di atas dapat terlihat bahwa\n",
        "1. Nilai akurasi model mencapai angka > 90% \n",
        "2. Nilai val_accuracy model mencapai angka > 85%\n",
        "3. Nilai loss model mencapai angka < 30%(tepatnya 23%) \n",
        "4. Nilai val_loss model mencapai angka < 50% (tepatnya 42%)\n",
        "\n",
        "**Kesimpulan** \n",
        "\n",
        "Setelah kategori berita disatukan menjadi hanya 3 kelas dari 14 kelas, hasil nilai akurasi dan validasi akurasi cukup berdekatan, artinya overfitting dapat teratasi (meskipun belum sempurna). Hal yang paling terlihat yaitu, terjadi peningkatan validasi akurasi sebanyak 30%. **Terakhir, dapat disimpulkan bahwa  judul berita memiliki pengaruh pada kategori berita.**"
      ]
    },
    {
      "cell_type": "markdown",
      "metadata": {
        "id": "FKJ7TFCU4pmX"
      },
      "source": [
        "## Keterangan\n",
        "\n",
        "\n",
        "\n",
        "---\n",
        "\n",
        "\n",
        "Alasan, kenapa model ini belum dapat mencapai nilai 90%, masih belum terpecahkan oleh saya pribadi, tetapi berikut asumsi saya:\n",
        "1. Data yang digunakan masih terlalu sedikit\n",
        "2. Masih diperlukan peningkatan pengetahuan dalam penggunaan hyperparameter\n",
        "\n",
        "Sekian, notebook yang saya kerjakan\n",
        "\n",
        "Terima kasih\n"
      ]
    }
  ]
}