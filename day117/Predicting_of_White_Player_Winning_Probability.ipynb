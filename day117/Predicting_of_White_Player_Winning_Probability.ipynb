{
  "nbformat": 4,
  "nbformat_minor": 0,
  "metadata": {
    "colab": {
      "name": "Predicting of White Player Winning Probability.ipynb",
      "provenance": [],
      "collapsed_sections": []
    },
    "kernelspec": {
      "name": "python3",
      "display_name": "Python 3"
    },
    "language_info": {
      "name": "python"
    }
  },
  "cells": [
    {
      "cell_type": "markdown",
      "metadata": {
        "id": "s8exQV9erZZG"
      },
      "source": [
        "# White Player Win Predictions\n",
        "\n",
        "[vinamrata-git](https://github.com/vinamrata-git)"
      ]
    },
    {
      "cell_type": "code",
      "metadata": {
        "colab": {
          "base_uri": "https://localhost:8080/"
        },
        "id": "AF3uO5PFsm55",
        "outputId": "12d1a134-644e-4fa2-da88-5ef2f5e07ca8"
      },
      "source": [
        "!pip install catboost"
      ],
      "execution_count": 2,
      "outputs": [
        {
          "output_type": "stream",
          "name": "stdout",
          "text": [
            "Collecting catboost\n",
            "  Downloading catboost-0.26.1-cp37-none-manylinux1_x86_64.whl (67.4 MB)\n",
            "\u001b[K     |████████████████████████████████| 67.4 MB 28 kB/s \n",
            "\u001b[?25hRequirement already satisfied: graphviz in /usr/local/lib/python3.7/dist-packages (from catboost) (0.10.1)\n",
            "Requirement already satisfied: scipy in /usr/local/lib/python3.7/dist-packages (from catboost) (1.4.1)\n",
            "Requirement already satisfied: plotly in /usr/local/lib/python3.7/dist-packages (from catboost) (4.4.1)\n",
            "Requirement already satisfied: pandas>=0.24.0 in /usr/local/lib/python3.7/dist-packages (from catboost) (1.1.5)\n",
            "Requirement already satisfied: matplotlib in /usr/local/lib/python3.7/dist-packages (from catboost) (3.2.2)\n",
            "Requirement already satisfied: numpy>=1.16.0 in /usr/local/lib/python3.7/dist-packages (from catboost) (1.19.5)\n",
            "Requirement already satisfied: six in /usr/local/lib/python3.7/dist-packages (from catboost) (1.15.0)\n",
            "Requirement already satisfied: pytz>=2017.2 in /usr/local/lib/python3.7/dist-packages (from pandas>=0.24.0->catboost) (2018.9)\n",
            "Requirement already satisfied: python-dateutil>=2.7.3 in /usr/local/lib/python3.7/dist-packages (from pandas>=0.24.0->catboost) (2.8.2)\n",
            "Requirement already satisfied: pyparsing!=2.0.4,!=2.1.2,!=2.1.6,>=2.0.1 in /usr/local/lib/python3.7/dist-packages (from matplotlib->catboost) (2.4.7)\n",
            "Requirement already satisfied: kiwisolver>=1.0.1 in /usr/local/lib/python3.7/dist-packages (from matplotlib->catboost) (1.3.2)\n",
            "Requirement already satisfied: cycler>=0.10 in /usr/local/lib/python3.7/dist-packages (from matplotlib->catboost) (0.10.0)\n",
            "Requirement already satisfied: retrying>=1.3.3 in /usr/local/lib/python3.7/dist-packages (from plotly->catboost) (1.3.3)\n",
            "Installing collected packages: catboost\n",
            "Successfully installed catboost-0.26.1\n"
          ]
        }
      ]
    },
    {
      "cell_type": "code",
      "metadata": {
        "id": "4fnzYlx8rOoK"
      },
      "source": [
        "from sklearn.metrics import accuracy_score, precision_score, recall_score, f1_score, confusion_matrix\n",
        "from sklearn.metrics import classification_report\n",
        "from sklearn.model_selection import GridSearchCV\n",
        "\n",
        "from sklearn.linear_model import LogisticRegression\n",
        "from sklearn.ensemble import RandomForestClassifier\n",
        "from sklearn.neighbors import KNeighborsClassifier\n",
        "from sklearn.tree import DecisionTreeClassifier\n",
        "from sklearn.ensemble import AdaBoostClassifier\n",
        "from sklearn.naive_bayes import GaussianNB\n",
        "from catboost import CatBoostClassifier\n",
        "from lightgbm import LGBMClassifier\n",
        "from xgboost import XGBClassifier\n",
        "from sklearn.svm import SVC\n",
        "\n",
        "import matplotlib.pyplot as plt\n",
        "import seaborn as sns\n",
        "import pandas as pd\n",
        "import numpy as np\n",
        "\n",
        "plt.rcParams.update({'figure.figsize':(12,8), 'figure.dpi':100})"
      ],
      "execution_count": 3,
      "outputs": []
    },
    {
      "cell_type": "code",
      "metadata": {
        "id": "sfc8ZOlKseZ5"
      },
      "source": [
        "url = \"https://raw.githubusercontent.com/vinamrata-git/Chess-winner-prediction/main/games.csv\"\n",
        "df = pd.read_csv(url)"
      ],
      "execution_count": 4,
      "outputs": []
    },
    {
      "cell_type": "code",
      "metadata": {
        "colab": {
          "base_uri": "https://localhost:8080/",
          "height": 1000
        },
        "id": "WK9TfWT3s6FQ",
        "outputId": "f2f17fd8-c5b5-4dd2-9583-da6e9b3afeba"
      },
      "source": [
        "df.head()"
      ],
      "execution_count": 5,
      "outputs": [
        {
          "output_type": "execute_result",
          "data": {
            "text/html": [
              "<div>\n",
              "<style scoped>\n",
              "    .dataframe tbody tr th:only-of-type {\n",
              "        vertical-align: middle;\n",
              "    }\n",
              "\n",
              "    .dataframe tbody tr th {\n",
              "        vertical-align: top;\n",
              "    }\n",
              "\n",
              "    .dataframe thead th {\n",
              "        text-align: right;\n",
              "    }\n",
              "</style>\n",
              "<table border=\"1\" class=\"dataframe\">\n",
              "  <thead>\n",
              "    <tr style=\"text-align: right;\">\n",
              "      <th></th>\n",
              "      <th>id</th>\n",
              "      <th>rated</th>\n",
              "      <th>created_at</th>\n",
              "      <th>last_move_at</th>\n",
              "      <th>turns</th>\n",
              "      <th>victory_status</th>\n",
              "      <th>winner</th>\n",
              "      <th>increment_code</th>\n",
              "      <th>white_id</th>\n",
              "      <th>white_rating</th>\n",
              "      <th>black_id</th>\n",
              "      <th>black_rating</th>\n",
              "      <th>moves</th>\n",
              "      <th>opening_eco</th>\n",
              "      <th>opening_name</th>\n",
              "      <th>opening_ply</th>\n",
              "    </tr>\n",
              "  </thead>\n",
              "  <tbody>\n",
              "    <tr>\n",
              "      <th>0</th>\n",
              "      <td>TZJHLljE</td>\n",
              "      <td>False</td>\n",
              "      <td>1.504210e+12</td>\n",
              "      <td>1.504210e+12</td>\n",
              "      <td>13</td>\n",
              "      <td>outoftime</td>\n",
              "      <td>white</td>\n",
              "      <td>15+2</td>\n",
              "      <td>bourgris</td>\n",
              "      <td>1500</td>\n",
              "      <td>a-00</td>\n",
              "      <td>1191</td>\n",
              "      <td>d4 d5 c4 c6 cxd5 e6 dxe6 fxe6 Nf3 Bb4+ Nc3 Ba5...</td>\n",
              "      <td>D10</td>\n",
              "      <td>Slav Defense: Exchange Variation</td>\n",
              "      <td>5</td>\n",
              "    </tr>\n",
              "    <tr>\n",
              "      <th>1</th>\n",
              "      <td>l1NXvwaE</td>\n",
              "      <td>True</td>\n",
              "      <td>1.504130e+12</td>\n",
              "      <td>1.504130e+12</td>\n",
              "      <td>16</td>\n",
              "      <td>resign</td>\n",
              "      <td>black</td>\n",
              "      <td>5+10</td>\n",
              "      <td>a-00</td>\n",
              "      <td>1322</td>\n",
              "      <td>skinnerua</td>\n",
              "      <td>1261</td>\n",
              "      <td>d4 Nc6 e4 e5 f4 f6 dxe5 fxe5 fxe5 Nxe5 Qd4 Nc6...</td>\n",
              "      <td>B00</td>\n",
              "      <td>Nimzowitsch Defense: Kennedy Variation</td>\n",
              "      <td>4</td>\n",
              "    </tr>\n",
              "    <tr>\n",
              "      <th>2</th>\n",
              "      <td>mIICvQHh</td>\n",
              "      <td>True</td>\n",
              "      <td>1.504130e+12</td>\n",
              "      <td>1.504130e+12</td>\n",
              "      <td>61</td>\n",
              "      <td>mate</td>\n",
              "      <td>white</td>\n",
              "      <td>5+10</td>\n",
              "      <td>ischia</td>\n",
              "      <td>1496</td>\n",
              "      <td>a-00</td>\n",
              "      <td>1500</td>\n",
              "      <td>e4 e5 d3 d6 Be3 c6 Be2 b5 Nd2 a5 a4 c5 axb5 Nc...</td>\n",
              "      <td>C20</td>\n",
              "      <td>King's Pawn Game: Leonardis Variation</td>\n",
              "      <td>3</td>\n",
              "    </tr>\n",
              "    <tr>\n",
              "      <th>3</th>\n",
              "      <td>kWKvrqYL</td>\n",
              "      <td>True</td>\n",
              "      <td>1.504110e+12</td>\n",
              "      <td>1.504110e+12</td>\n",
              "      <td>61</td>\n",
              "      <td>mate</td>\n",
              "      <td>white</td>\n",
              "      <td>20+0</td>\n",
              "      <td>daniamurashov</td>\n",
              "      <td>1439</td>\n",
              "      <td>adivanov2009</td>\n",
              "      <td>1454</td>\n",
              "      <td>d4 d5 Nf3 Bf5 Nc3 Nf6 Bf4 Ng4 e3 Nc6 Be2 Qd7 O...</td>\n",
              "      <td>D02</td>\n",
              "      <td>Queen's Pawn Game: Zukertort Variation</td>\n",
              "      <td>3</td>\n",
              "    </tr>\n",
              "    <tr>\n",
              "      <th>4</th>\n",
              "      <td>9tXo1AUZ</td>\n",
              "      <td>True</td>\n",
              "      <td>1.504030e+12</td>\n",
              "      <td>1.504030e+12</td>\n",
              "      <td>95</td>\n",
              "      <td>mate</td>\n",
              "      <td>white</td>\n",
              "      <td>30+3</td>\n",
              "      <td>nik221107</td>\n",
              "      <td>1523</td>\n",
              "      <td>adivanov2009</td>\n",
              "      <td>1469</td>\n",
              "      <td>e4 e5 Nf3 d6 d4 Nc6 d5 Nb4 a3 Na6 Nc3 Be7 b4 N...</td>\n",
              "      <td>C41</td>\n",
              "      <td>Philidor Defense</td>\n",
              "      <td>5</td>\n",
              "    </tr>\n",
              "  </tbody>\n",
              "</table>\n",
              "</div>"
            ],
            "text/plain": [
              "         id  rated  ...                            opening_name  opening_ply\n",
              "0  TZJHLljE  False  ...        Slav Defense: Exchange Variation            5\n",
              "1  l1NXvwaE   True  ...  Nimzowitsch Defense: Kennedy Variation            4\n",
              "2  mIICvQHh   True  ...   King's Pawn Game: Leonardis Variation            3\n",
              "3  kWKvrqYL   True  ...  Queen's Pawn Game: Zukertort Variation            3\n",
              "4  9tXo1AUZ   True  ...                        Philidor Defense            5\n",
              "\n",
              "[5 rows x 16 columns]"
            ]
          },
          "metadata": {},
          "execution_count": 5
        }
      ]
    },
    {
      "cell_type": "code",
      "metadata": {
        "colab": {
          "base_uri": "https://localhost:8080/"
        },
        "id": "Vtxn3hXDtJd1",
        "outputId": "381aa1cc-c362-4f28-8af6-4c36b8bc8283"
      },
      "source": [
        "df.shape"
      ],
      "execution_count": 6,
      "outputs": [
        {
          "output_type": "execute_result",
          "data": {
            "text/plain": [
              "(20058, 16)"
            ]
          },
          "metadata": {},
          "execution_count": 6
        }
      ]
    },
    {
      "cell_type": "code",
      "metadata": {
        "colab": {
          "base_uri": "https://localhost:8080/"
        },
        "id": "BYppKlQPs6Rk",
        "outputId": "b0b93d2b-54eb-4601-cb5d-0cd75d774ab2"
      },
      "source": [
        "df.columns"
      ],
      "execution_count": 7,
      "outputs": [
        {
          "output_type": "execute_result",
          "data": {
            "text/plain": [
              "Index(['id', 'rated', 'created_at', 'last_move_at', 'turns', 'victory_status',\n",
              "       'winner', 'increment_code', 'white_id', 'white_rating', 'black_id',\n",
              "       'black_rating', 'moves', 'opening_eco', 'opening_name', 'opening_ply'],\n",
              "      dtype='object')"
            ]
          },
          "metadata": {},
          "execution_count": 7
        }
      ]
    },
    {
      "cell_type": "code",
      "metadata": {
        "colab": {
          "base_uri": "https://localhost:8080/"
        },
        "id": "6SYFDdxCs6bt",
        "outputId": "49c0bfcf-6b56-4e62-d120-5aff61748ebf"
      },
      "source": [
        "df.dtypes"
      ],
      "execution_count": 8,
      "outputs": [
        {
          "output_type": "execute_result",
          "data": {
            "text/plain": [
              "id                 object\n",
              "rated                bool\n",
              "created_at        float64\n",
              "last_move_at      float64\n",
              "turns               int64\n",
              "victory_status     object\n",
              "winner             object\n",
              "increment_code     object\n",
              "white_id           object\n",
              "white_rating        int64\n",
              "black_id           object\n",
              "black_rating        int64\n",
              "moves              object\n",
              "opening_eco        object\n",
              "opening_name       object\n",
              "opening_ply         int64\n",
              "dtype: object"
            ]
          },
          "metadata": {},
          "execution_count": 8
        }
      ]
    },
    {
      "cell_type": "code",
      "metadata": {
        "colab": {
          "base_uri": "https://localhost:8080/"
        },
        "id": "VVQCkrHvs6hi",
        "outputId": "19a8243b-f3b6-4d0e-b5df-c312151a9131"
      },
      "source": [
        "df.info()"
      ],
      "execution_count": 9,
      "outputs": [
        {
          "output_type": "stream",
          "name": "stdout",
          "text": [
            "<class 'pandas.core.frame.DataFrame'>\n",
            "RangeIndex: 20058 entries, 0 to 20057\n",
            "Data columns (total 16 columns):\n",
            " #   Column          Non-Null Count  Dtype  \n",
            "---  ------          --------------  -----  \n",
            " 0   id              20058 non-null  object \n",
            " 1   rated           20058 non-null  bool   \n",
            " 2   created_at      20058 non-null  float64\n",
            " 3   last_move_at    20058 non-null  float64\n",
            " 4   turns           20058 non-null  int64  \n",
            " 5   victory_status  20058 non-null  object \n",
            " 6   winner          20058 non-null  object \n",
            " 7   increment_code  20058 non-null  object \n",
            " 8   white_id        20058 non-null  object \n",
            " 9   white_rating    20058 non-null  int64  \n",
            " 10  black_id        20058 non-null  object \n",
            " 11  black_rating    20058 non-null  int64  \n",
            " 12  moves           20058 non-null  object \n",
            " 13  opening_eco     20058 non-null  object \n",
            " 14  opening_name    20058 non-null  object \n",
            " 15  opening_ply     20058 non-null  int64  \n",
            "dtypes: bool(1), float64(2), int64(4), object(9)\n",
            "memory usage: 2.3+ MB\n"
          ]
        }
      ]
    },
    {
      "cell_type": "code",
      "metadata": {
        "colab": {
          "base_uri": "https://localhost:8080/"
        },
        "id": "ScriixROtPKX",
        "outputId": "b10494f4-7dfa-4dc0-e727-9ec2f49efa76"
      },
      "source": [
        "df.isnull().sum()"
      ],
      "execution_count": 10,
      "outputs": [
        {
          "output_type": "execute_result",
          "data": {
            "text/plain": [
              "id                0\n",
              "rated             0\n",
              "created_at        0\n",
              "last_move_at      0\n",
              "turns             0\n",
              "victory_status    0\n",
              "winner            0\n",
              "increment_code    0\n",
              "white_id          0\n",
              "white_rating      0\n",
              "black_id          0\n",
              "black_rating      0\n",
              "moves             0\n",
              "opening_eco       0\n",
              "opening_name      0\n",
              "opening_ply       0\n",
              "dtype: int64"
            ]
          },
          "metadata": {},
          "execution_count": 10
        }
      ]
    },
    {
      "cell_type": "code",
      "metadata": {
        "colab": {
          "base_uri": "https://localhost:8080/",
          "height": 592
        },
        "id": "r6qQ21SdtYGq",
        "outputId": "3028bc83-96ed-4fb4-cbd5-1a92ee20a3ca"
      },
      "source": [
        "df.describe(include='all').T"
      ],
      "execution_count": 11,
      "outputs": [
        {
          "output_type": "execute_result",
          "data": {
            "text/html": [
              "<div>\n",
              "<style scoped>\n",
              "    .dataframe tbody tr th:only-of-type {\n",
              "        vertical-align: middle;\n",
              "    }\n",
              "\n",
              "    .dataframe tbody tr th {\n",
              "        vertical-align: top;\n",
              "    }\n",
              "\n",
              "    .dataframe thead th {\n",
              "        text-align: right;\n",
              "    }\n",
              "</style>\n",
              "<table border=\"1\" class=\"dataframe\">\n",
              "  <thead>\n",
              "    <tr style=\"text-align: right;\">\n",
              "      <th></th>\n",
              "      <th>count</th>\n",
              "      <th>unique</th>\n",
              "      <th>top</th>\n",
              "      <th>freq</th>\n",
              "      <th>mean</th>\n",
              "      <th>std</th>\n",
              "      <th>min</th>\n",
              "      <th>25%</th>\n",
              "      <th>50%</th>\n",
              "      <th>75%</th>\n",
              "      <th>max</th>\n",
              "    </tr>\n",
              "  </thead>\n",
              "  <tbody>\n",
              "    <tr>\n",
              "      <th>id</th>\n",
              "      <td>20058</td>\n",
              "      <td>19113</td>\n",
              "      <td>XRuQPSzH</td>\n",
              "      <td>5</td>\n",
              "      <td>NaN</td>\n",
              "      <td>NaN</td>\n",
              "      <td>NaN</td>\n",
              "      <td>NaN</td>\n",
              "      <td>NaN</td>\n",
              "      <td>NaN</td>\n",
              "      <td>NaN</td>\n",
              "    </tr>\n",
              "    <tr>\n",
              "      <th>rated</th>\n",
              "      <td>20058</td>\n",
              "      <td>2</td>\n",
              "      <td>True</td>\n",
              "      <td>16155</td>\n",
              "      <td>NaN</td>\n",
              "      <td>NaN</td>\n",
              "      <td>NaN</td>\n",
              "      <td>NaN</td>\n",
              "      <td>NaN</td>\n",
              "      <td>NaN</td>\n",
              "      <td>NaN</td>\n",
              "    </tr>\n",
              "    <tr>\n",
              "      <th>created_at</th>\n",
              "      <td>20058</td>\n",
              "      <td>NaN</td>\n",
              "      <td>NaN</td>\n",
              "      <td>NaN</td>\n",
              "      <td>1.48362e+12</td>\n",
              "      <td>2.85015e+10</td>\n",
              "      <td>1.37677e+12</td>\n",
              "      <td>1.47755e+12</td>\n",
              "      <td>1.49601e+12</td>\n",
              "      <td>1.50317e+12</td>\n",
              "      <td>1.50449e+12</td>\n",
              "    </tr>\n",
              "    <tr>\n",
              "      <th>last_move_at</th>\n",
              "      <td>20058</td>\n",
              "      <td>NaN</td>\n",
              "      <td>NaN</td>\n",
              "      <td>NaN</td>\n",
              "      <td>1.48362e+12</td>\n",
              "      <td>2.85014e+10</td>\n",
              "      <td>1.37677e+12</td>\n",
              "      <td>1.47755e+12</td>\n",
              "      <td>1.49601e+12</td>\n",
              "      <td>1.50317e+12</td>\n",
              "      <td>1.50449e+12</td>\n",
              "    </tr>\n",
              "    <tr>\n",
              "      <th>turns</th>\n",
              "      <td>20058</td>\n",
              "      <td>NaN</td>\n",
              "      <td>NaN</td>\n",
              "      <td>NaN</td>\n",
              "      <td>60.466</td>\n",
              "      <td>33.5706</td>\n",
              "      <td>1</td>\n",
              "      <td>37</td>\n",
              "      <td>55</td>\n",
              "      <td>79</td>\n",
              "      <td>349</td>\n",
              "    </tr>\n",
              "    <tr>\n",
              "      <th>victory_status</th>\n",
              "      <td>20058</td>\n",
              "      <td>4</td>\n",
              "      <td>resign</td>\n",
              "      <td>11147</td>\n",
              "      <td>NaN</td>\n",
              "      <td>NaN</td>\n",
              "      <td>NaN</td>\n",
              "      <td>NaN</td>\n",
              "      <td>NaN</td>\n",
              "      <td>NaN</td>\n",
              "      <td>NaN</td>\n",
              "    </tr>\n",
              "    <tr>\n",
              "      <th>winner</th>\n",
              "      <td>20058</td>\n",
              "      <td>3</td>\n",
              "      <td>white</td>\n",
              "      <td>10001</td>\n",
              "      <td>NaN</td>\n",
              "      <td>NaN</td>\n",
              "      <td>NaN</td>\n",
              "      <td>NaN</td>\n",
              "      <td>NaN</td>\n",
              "      <td>NaN</td>\n",
              "      <td>NaN</td>\n",
              "    </tr>\n",
              "    <tr>\n",
              "      <th>increment_code</th>\n",
              "      <td>20058</td>\n",
              "      <td>400</td>\n",
              "      <td>10+0</td>\n",
              "      <td>7721</td>\n",
              "      <td>NaN</td>\n",
              "      <td>NaN</td>\n",
              "      <td>NaN</td>\n",
              "      <td>NaN</td>\n",
              "      <td>NaN</td>\n",
              "      <td>NaN</td>\n",
              "      <td>NaN</td>\n",
              "    </tr>\n",
              "    <tr>\n",
              "      <th>white_id</th>\n",
              "      <td>20058</td>\n",
              "      <td>9438</td>\n",
              "      <td>taranga</td>\n",
              "      <td>72</td>\n",
              "      <td>NaN</td>\n",
              "      <td>NaN</td>\n",
              "      <td>NaN</td>\n",
              "      <td>NaN</td>\n",
              "      <td>NaN</td>\n",
              "      <td>NaN</td>\n",
              "      <td>NaN</td>\n",
              "    </tr>\n",
              "    <tr>\n",
              "      <th>white_rating</th>\n",
              "      <td>20058</td>\n",
              "      <td>NaN</td>\n",
              "      <td>NaN</td>\n",
              "      <td>NaN</td>\n",
              "      <td>1596.63</td>\n",
              "      <td>291.253</td>\n",
              "      <td>784</td>\n",
              "      <td>1398</td>\n",
              "      <td>1567</td>\n",
              "      <td>1793</td>\n",
              "      <td>2700</td>\n",
              "    </tr>\n",
              "    <tr>\n",
              "      <th>black_id</th>\n",
              "      <td>20058</td>\n",
              "      <td>9331</td>\n",
              "      <td>taranga</td>\n",
              "      <td>82</td>\n",
              "      <td>NaN</td>\n",
              "      <td>NaN</td>\n",
              "      <td>NaN</td>\n",
              "      <td>NaN</td>\n",
              "      <td>NaN</td>\n",
              "      <td>NaN</td>\n",
              "      <td>NaN</td>\n",
              "    </tr>\n",
              "    <tr>\n",
              "      <th>black_rating</th>\n",
              "      <td>20058</td>\n",
              "      <td>NaN</td>\n",
              "      <td>NaN</td>\n",
              "      <td>NaN</td>\n",
              "      <td>1588.83</td>\n",
              "      <td>291.036</td>\n",
              "      <td>789</td>\n",
              "      <td>1391</td>\n",
              "      <td>1562</td>\n",
              "      <td>1784</td>\n",
              "      <td>2723</td>\n",
              "    </tr>\n",
              "    <tr>\n",
              "      <th>moves</th>\n",
              "      <td>20058</td>\n",
              "      <td>18920</td>\n",
              "      <td>e4 e5</td>\n",
              "      <td>27</td>\n",
              "      <td>NaN</td>\n",
              "      <td>NaN</td>\n",
              "      <td>NaN</td>\n",
              "      <td>NaN</td>\n",
              "      <td>NaN</td>\n",
              "      <td>NaN</td>\n",
              "      <td>NaN</td>\n",
              "    </tr>\n",
              "    <tr>\n",
              "      <th>opening_eco</th>\n",
              "      <td>20058</td>\n",
              "      <td>365</td>\n",
              "      <td>A00</td>\n",
              "      <td>1007</td>\n",
              "      <td>NaN</td>\n",
              "      <td>NaN</td>\n",
              "      <td>NaN</td>\n",
              "      <td>NaN</td>\n",
              "      <td>NaN</td>\n",
              "      <td>NaN</td>\n",
              "      <td>NaN</td>\n",
              "    </tr>\n",
              "    <tr>\n",
              "      <th>opening_name</th>\n",
              "      <td>20058</td>\n",
              "      <td>1477</td>\n",
              "      <td>Van't Kruijs Opening</td>\n",
              "      <td>368</td>\n",
              "      <td>NaN</td>\n",
              "      <td>NaN</td>\n",
              "      <td>NaN</td>\n",
              "      <td>NaN</td>\n",
              "      <td>NaN</td>\n",
              "      <td>NaN</td>\n",
              "      <td>NaN</td>\n",
              "    </tr>\n",
              "    <tr>\n",
              "      <th>opening_ply</th>\n",
              "      <td>20058</td>\n",
              "      <td>NaN</td>\n",
              "      <td>NaN</td>\n",
              "      <td>NaN</td>\n",
              "      <td>4.81698</td>\n",
              "      <td>2.79715</td>\n",
              "      <td>1</td>\n",
              "      <td>3</td>\n",
              "      <td>4</td>\n",
              "      <td>6</td>\n",
              "      <td>28</td>\n",
              "    </tr>\n",
              "  </tbody>\n",
              "</table>\n",
              "</div>"
            ],
            "text/plain": [
              "                count unique  ...          75%          max\n",
              "id              20058  19113  ...          NaN          NaN\n",
              "rated           20058      2  ...          NaN          NaN\n",
              "created_at      20058    NaN  ...  1.50317e+12  1.50449e+12\n",
              "last_move_at    20058    NaN  ...  1.50317e+12  1.50449e+12\n",
              "turns           20058    NaN  ...           79          349\n",
              "victory_status  20058      4  ...          NaN          NaN\n",
              "winner          20058      3  ...          NaN          NaN\n",
              "increment_code  20058    400  ...          NaN          NaN\n",
              "white_id        20058   9438  ...          NaN          NaN\n",
              "white_rating    20058    NaN  ...         1793         2700\n",
              "black_id        20058   9331  ...          NaN          NaN\n",
              "black_rating    20058    NaN  ...         1784         2723\n",
              "moves           20058  18920  ...          NaN          NaN\n",
              "opening_eco     20058    365  ...          NaN          NaN\n",
              "opening_name    20058   1477  ...          NaN          NaN\n",
              "opening_ply     20058    NaN  ...            6           28\n",
              "\n",
              "[16 rows x 11 columns]"
            ]
          },
          "metadata": {},
          "execution_count": 11
        }
      ]
    },
    {
      "cell_type": "markdown",
      "metadata": {
        "id": "aICZuAc7tgZC"
      },
      "source": [
        "## Cleaning"
      ]
    },
    {
      "cell_type": "code",
      "metadata": {
        "colab": {
          "base_uri": "https://localhost:8080/"
        },
        "id": "GNtjnGH_taaS",
        "outputId": "6830c826-9a0c-482b-cad1-9839f2b11ebc"
      },
      "source": [
        "df['difference'] = df['created_at'] - df['last_move_at']\n",
        "df['difference']"
      ],
      "execution_count": 12,
      "outputs": [
        {
          "output_type": "execute_result",
          "data": {
            "text/plain": [
              "0             0.0\n",
              "1             0.0\n",
              "2             0.0\n",
              "3             0.0\n",
              "4             0.0\n",
              "           ...   \n",
              "20053   -321734.0\n",
              "20054   -744219.0\n",
              "20055   -172834.0\n",
              "20056   -946699.0\n",
              "20057   -736699.0\n",
              "Name: difference, Length: 20058, dtype: float64"
            ]
          },
          "metadata": {},
          "execution_count": 12
        }
      ]
    },
    {
      "cell_type": "code",
      "metadata": {
        "id": "u1MLQv1Btqpv"
      },
      "source": [
        "df = df.drop(['created_at', 'last_move_at'], axis=1)"
      ],
      "execution_count": 13,
      "outputs": []
    },
    {
      "cell_type": "code",
      "metadata": {
        "id": "dDoYKmLztzMs"
      },
      "source": [
        "df = df.drop(['increment_code', 'white_id', 'black_id', 'difference'], axis=1)"
      ],
      "execution_count": 14,
      "outputs": []
    },
    {
      "cell_type": "code",
      "metadata": {
        "colab": {
          "base_uri": "https://localhost:8080/",
          "height": 785
        },
        "id": "GCgSjBKnt73_",
        "outputId": "e15a70c9-9645-4abd-c750-caa4dcdab57a"
      },
      "source": [
        "df.head()"
      ],
      "execution_count": 15,
      "outputs": [
        {
          "output_type": "execute_result",
          "data": {
            "text/html": [
              "<div>\n",
              "<style scoped>\n",
              "    .dataframe tbody tr th:only-of-type {\n",
              "        vertical-align: middle;\n",
              "    }\n",
              "\n",
              "    .dataframe tbody tr th {\n",
              "        vertical-align: top;\n",
              "    }\n",
              "\n",
              "    .dataframe thead th {\n",
              "        text-align: right;\n",
              "    }\n",
              "</style>\n",
              "<table border=\"1\" class=\"dataframe\">\n",
              "  <thead>\n",
              "    <tr style=\"text-align: right;\">\n",
              "      <th></th>\n",
              "      <th>id</th>\n",
              "      <th>rated</th>\n",
              "      <th>turns</th>\n",
              "      <th>victory_status</th>\n",
              "      <th>winner</th>\n",
              "      <th>white_rating</th>\n",
              "      <th>black_rating</th>\n",
              "      <th>moves</th>\n",
              "      <th>opening_eco</th>\n",
              "      <th>opening_name</th>\n",
              "      <th>opening_ply</th>\n",
              "    </tr>\n",
              "  </thead>\n",
              "  <tbody>\n",
              "    <tr>\n",
              "      <th>0</th>\n",
              "      <td>TZJHLljE</td>\n",
              "      <td>False</td>\n",
              "      <td>13</td>\n",
              "      <td>outoftime</td>\n",
              "      <td>white</td>\n",
              "      <td>1500</td>\n",
              "      <td>1191</td>\n",
              "      <td>d4 d5 c4 c6 cxd5 e6 dxe6 fxe6 Nf3 Bb4+ Nc3 Ba5...</td>\n",
              "      <td>D10</td>\n",
              "      <td>Slav Defense: Exchange Variation</td>\n",
              "      <td>5</td>\n",
              "    </tr>\n",
              "    <tr>\n",
              "      <th>1</th>\n",
              "      <td>l1NXvwaE</td>\n",
              "      <td>True</td>\n",
              "      <td>16</td>\n",
              "      <td>resign</td>\n",
              "      <td>black</td>\n",
              "      <td>1322</td>\n",
              "      <td>1261</td>\n",
              "      <td>d4 Nc6 e4 e5 f4 f6 dxe5 fxe5 fxe5 Nxe5 Qd4 Nc6...</td>\n",
              "      <td>B00</td>\n",
              "      <td>Nimzowitsch Defense: Kennedy Variation</td>\n",
              "      <td>4</td>\n",
              "    </tr>\n",
              "    <tr>\n",
              "      <th>2</th>\n",
              "      <td>mIICvQHh</td>\n",
              "      <td>True</td>\n",
              "      <td>61</td>\n",
              "      <td>mate</td>\n",
              "      <td>white</td>\n",
              "      <td>1496</td>\n",
              "      <td>1500</td>\n",
              "      <td>e4 e5 d3 d6 Be3 c6 Be2 b5 Nd2 a5 a4 c5 axb5 Nc...</td>\n",
              "      <td>C20</td>\n",
              "      <td>King's Pawn Game: Leonardis Variation</td>\n",
              "      <td>3</td>\n",
              "    </tr>\n",
              "    <tr>\n",
              "      <th>3</th>\n",
              "      <td>kWKvrqYL</td>\n",
              "      <td>True</td>\n",
              "      <td>61</td>\n",
              "      <td>mate</td>\n",
              "      <td>white</td>\n",
              "      <td>1439</td>\n",
              "      <td>1454</td>\n",
              "      <td>d4 d5 Nf3 Bf5 Nc3 Nf6 Bf4 Ng4 e3 Nc6 Be2 Qd7 O...</td>\n",
              "      <td>D02</td>\n",
              "      <td>Queen's Pawn Game: Zukertort Variation</td>\n",
              "      <td>3</td>\n",
              "    </tr>\n",
              "    <tr>\n",
              "      <th>4</th>\n",
              "      <td>9tXo1AUZ</td>\n",
              "      <td>True</td>\n",
              "      <td>95</td>\n",
              "      <td>mate</td>\n",
              "      <td>white</td>\n",
              "      <td>1523</td>\n",
              "      <td>1469</td>\n",
              "      <td>e4 e5 Nf3 d6 d4 Nc6 d5 Nb4 a3 Na6 Nc3 Be7 b4 N...</td>\n",
              "      <td>C41</td>\n",
              "      <td>Philidor Defense</td>\n",
              "      <td>5</td>\n",
              "    </tr>\n",
              "  </tbody>\n",
              "</table>\n",
              "</div>"
            ],
            "text/plain": [
              "         id  rated  ...                            opening_name opening_ply\n",
              "0  TZJHLljE  False  ...        Slav Defense: Exchange Variation           5\n",
              "1  l1NXvwaE   True  ...  Nimzowitsch Defense: Kennedy Variation           4\n",
              "2  mIICvQHh   True  ...   King's Pawn Game: Leonardis Variation           3\n",
              "3  kWKvrqYL   True  ...  Queen's Pawn Game: Zukertort Variation           3\n",
              "4  9tXo1AUZ   True  ...                        Philidor Defense           5\n",
              "\n",
              "[5 rows x 11 columns]"
            ]
          },
          "metadata": {},
          "execution_count": 15
        }
      ]
    },
    {
      "cell_type": "markdown",
      "metadata": {
        "id": "G8hLSdX3uAvR"
      },
      "source": [
        "## Moves"
      ]
    },
    {
      "cell_type": "code",
      "metadata": {
        "colab": {
          "base_uri": "https://localhost:8080/",
          "height": 414
        },
        "id": "KpBon7xJt-M7",
        "outputId": "c80f04e6-6f5e-4950-cafa-271bb24de2b4"
      },
      "source": [
        "moves = df.moves.str.split(n=2, expand=True)\n",
        "moves"
      ],
      "execution_count": 16,
      "outputs": [
        {
          "output_type": "execute_result",
          "data": {
            "text/html": [
              "<div>\n",
              "<style scoped>\n",
              "    .dataframe tbody tr th:only-of-type {\n",
              "        vertical-align: middle;\n",
              "    }\n",
              "\n",
              "    .dataframe tbody tr th {\n",
              "        vertical-align: top;\n",
              "    }\n",
              "\n",
              "    .dataframe thead th {\n",
              "        text-align: right;\n",
              "    }\n",
              "</style>\n",
              "<table border=\"1\" class=\"dataframe\">\n",
              "  <thead>\n",
              "    <tr style=\"text-align: right;\">\n",
              "      <th></th>\n",
              "      <th>0</th>\n",
              "      <th>1</th>\n",
              "      <th>2</th>\n",
              "    </tr>\n",
              "  </thead>\n",
              "  <tbody>\n",
              "    <tr>\n",
              "      <th>0</th>\n",
              "      <td>d4</td>\n",
              "      <td>d5</td>\n",
              "      <td>c4 c6 cxd5 e6 dxe6 fxe6 Nf3 Bb4+ Nc3 Ba5 Bf4</td>\n",
              "    </tr>\n",
              "    <tr>\n",
              "      <th>1</th>\n",
              "      <td>d4</td>\n",
              "      <td>Nc6</td>\n",
              "      <td>e4 e5 f4 f6 dxe5 fxe5 fxe5 Nxe5 Qd4 Nc6 Qe5+ N...</td>\n",
              "    </tr>\n",
              "    <tr>\n",
              "      <th>2</th>\n",
              "      <td>e4</td>\n",
              "      <td>e5</td>\n",
              "      <td>d3 d6 Be3 c6 Be2 b5 Nd2 a5 a4 c5 axb5 Nc6 bxc6...</td>\n",
              "    </tr>\n",
              "    <tr>\n",
              "      <th>3</th>\n",
              "      <td>d4</td>\n",
              "      <td>d5</td>\n",
              "      <td>Nf3 Bf5 Nc3 Nf6 Bf4 Ng4 e3 Nc6 Be2 Qd7 O-O O-O...</td>\n",
              "    </tr>\n",
              "    <tr>\n",
              "      <th>4</th>\n",
              "      <td>e4</td>\n",
              "      <td>e5</td>\n",
              "      <td>Nf3 d6 d4 Nc6 d5 Nb4 a3 Na6 Nc3 Be7 b4 Nf6 Bg5...</td>\n",
              "    </tr>\n",
              "    <tr>\n",
              "      <th>...</th>\n",
              "      <td>...</td>\n",
              "      <td>...</td>\n",
              "      <td>...</td>\n",
              "    </tr>\n",
              "    <tr>\n",
              "      <th>20053</th>\n",
              "      <td>d4</td>\n",
              "      <td>f5</td>\n",
              "      <td>e3 e6 Nf3 Nf6 Nc3 b6 Be2 Bb7 O-O Be7 Ne5 d6 Bh...</td>\n",
              "    </tr>\n",
              "    <tr>\n",
              "      <th>20054</th>\n",
              "      <td>d4</td>\n",
              "      <td>d6</td>\n",
              "      <td>Bf4 e5 Bg3 Nf6 e3 exd4 exd4 d5 c3 Bd6 Bd3 O-O ...</td>\n",
              "    </tr>\n",
              "    <tr>\n",
              "      <th>20055</th>\n",
              "      <td>d4</td>\n",
              "      <td>d5</td>\n",
              "      <td>Bf4 Nc6 e3 Nf6 c3 e6 Nf3 Be7 Bd3 O-O Nbd2 b6 N...</td>\n",
              "    </tr>\n",
              "    <tr>\n",
              "      <th>20056</th>\n",
              "      <td>e4</td>\n",
              "      <td>d6</td>\n",
              "      <td>d4 Nf6 e5 dxe5 dxe5 Qxd1+ Kxd1 Nd5 c4 Nb6 c5 N...</td>\n",
              "    </tr>\n",
              "    <tr>\n",
              "      <th>20057</th>\n",
              "      <td>d4</td>\n",
              "      <td>d5</td>\n",
              "      <td>Bf4 Na6 e3 e6 c3 Nf6 Nf3 Bd7 Nbd2 b5 Bd3 Qc8 e...</td>\n",
              "    </tr>\n",
              "  </tbody>\n",
              "</table>\n",
              "<p>20058 rows × 3 columns</p>\n",
              "</div>"
            ],
            "text/plain": [
              "        0    1                                                  2\n",
              "0      d4   d5       c4 c6 cxd5 e6 dxe6 fxe6 Nf3 Bb4+ Nc3 Ba5 Bf4\n",
              "1      d4  Nc6  e4 e5 f4 f6 dxe5 fxe5 fxe5 Nxe5 Qd4 Nc6 Qe5+ N...\n",
              "2      e4   e5  d3 d6 Be3 c6 Be2 b5 Nd2 a5 a4 c5 axb5 Nc6 bxc6...\n",
              "3      d4   d5  Nf3 Bf5 Nc3 Nf6 Bf4 Ng4 e3 Nc6 Be2 Qd7 O-O O-O...\n",
              "4      e4   e5  Nf3 d6 d4 Nc6 d5 Nb4 a3 Na6 Nc3 Be7 b4 Nf6 Bg5...\n",
              "...    ..  ...                                                ...\n",
              "20053  d4   f5  e3 e6 Nf3 Nf6 Nc3 b6 Be2 Bb7 O-O Be7 Ne5 d6 Bh...\n",
              "20054  d4   d6  Bf4 e5 Bg3 Nf6 e3 exd4 exd4 d5 c3 Bd6 Bd3 O-O ...\n",
              "20055  d4   d5  Bf4 Nc6 e3 Nf6 c3 e6 Nf3 Be7 Bd3 O-O Nbd2 b6 N...\n",
              "20056  e4   d6  d4 Nf6 e5 dxe5 dxe5 Qxd1+ Kxd1 Nd5 c4 Nb6 c5 N...\n",
              "20057  d4   d5  Bf4 Na6 e3 e6 c3 Nf6 Nf3 Bd7 Nbd2 b5 Bd3 Qc8 e...\n",
              "\n",
              "[20058 rows x 3 columns]"
            ]
          },
          "metadata": {},
          "execution_count": 16
        }
      ]
    },
    {
      "cell_type": "code",
      "metadata": {
        "id": "5YsGd42xuFF0"
      },
      "source": [
        "df['white_1move'] = moves[0]\n",
        "df['black_1move'] = moves[1]"
      ],
      "execution_count": 17,
      "outputs": []
    },
    {
      "cell_type": "code",
      "metadata": {
        "colab": {
          "base_uri": "https://localhost:8080/",
          "height": 232
        },
        "id": "yeP8Y00muPEe",
        "outputId": "ff796972-98d0-4641-e0f9-a0bb9828e239"
      },
      "source": [
        "df_wm = pd.crosstab(df.white_1move, columns=df.winner, normalize='index')\n",
        "df_wm.head()"
      ],
      "execution_count": 18,
      "outputs": [
        {
          "output_type": "execute_result",
          "data": {
            "text/html": [
              "<div>\n",
              "<style scoped>\n",
              "    .dataframe tbody tr th:only-of-type {\n",
              "        vertical-align: middle;\n",
              "    }\n",
              "\n",
              "    .dataframe tbody tr th {\n",
              "        vertical-align: top;\n",
              "    }\n",
              "\n",
              "    .dataframe thead th {\n",
              "        text-align: right;\n",
              "    }\n",
              "</style>\n",
              "<table border=\"1\" class=\"dataframe\">\n",
              "  <thead>\n",
              "    <tr style=\"text-align: right;\">\n",
              "      <th>winner</th>\n",
              "      <th>black</th>\n",
              "      <th>draw</th>\n",
              "      <th>white</th>\n",
              "    </tr>\n",
              "    <tr>\n",
              "      <th>white_1move</th>\n",
              "      <th></th>\n",
              "      <th></th>\n",
              "      <th></th>\n",
              "    </tr>\n",
              "  </thead>\n",
              "  <tbody>\n",
              "    <tr>\n",
              "      <th>Na3</th>\n",
              "      <td>0.750000</td>\n",
              "      <td>0.000000</td>\n",
              "      <td>0.250000</td>\n",
              "    </tr>\n",
              "    <tr>\n",
              "      <th>Nc3</th>\n",
              "      <td>0.555556</td>\n",
              "      <td>0.020202</td>\n",
              "      <td>0.424242</td>\n",
              "    </tr>\n",
              "    <tr>\n",
              "      <th>Nf3</th>\n",
              "      <td>0.402759</td>\n",
              "      <td>0.082759</td>\n",
              "      <td>0.514483</td>\n",
              "    </tr>\n",
              "    <tr>\n",
              "      <th>Nh3</th>\n",
              "      <td>0.400000</td>\n",
              "      <td>0.000000</td>\n",
              "      <td>0.600000</td>\n",
              "    </tr>\n",
              "    <tr>\n",
              "      <th>a3</th>\n",
              "      <td>0.333333</td>\n",
              "      <td>0.037037</td>\n",
              "      <td>0.629630</td>\n",
              "    </tr>\n",
              "  </tbody>\n",
              "</table>\n",
              "</div>"
            ],
            "text/plain": [
              "winner          black      draw     white\n",
              "white_1move                              \n",
              "Na3          0.750000  0.000000  0.250000\n",
              "Nc3          0.555556  0.020202  0.424242\n",
              "Nf3          0.402759  0.082759  0.514483\n",
              "Nh3          0.400000  0.000000  0.600000\n",
              "a3           0.333333  0.037037  0.629630"
            ]
          },
          "metadata": {},
          "execution_count": 18
        }
      ]
    },
    {
      "cell_type": "code",
      "metadata": {
        "id": "6EsRjbfruU94"
      },
      "source": [
        "dict(df_wm['white'])\n",
        "df['white_1move'] = df['white_1move'].map(dict(df_wm['white']))"
      ],
      "execution_count": 19,
      "outputs": []
    },
    {
      "cell_type": "code",
      "metadata": {
        "colab": {
          "base_uri": "https://localhost:8080/",
          "height": 232
        },
        "id": "qy5ZGKt6uf6K",
        "outputId": "c9b04fb3-846c-4348-b011-df87e27b942e"
      },
      "source": [
        "df_bm = pd.crosstab(df.black_1move, columns=df.winner, normalize='index')\n",
        "df_bm.head()"
      ],
      "execution_count": 20,
      "outputs": [
        {
          "output_type": "execute_result",
          "data": {
            "text/html": [
              "<div>\n",
              "<style scoped>\n",
              "    .dataframe tbody tr th:only-of-type {\n",
              "        vertical-align: middle;\n",
              "    }\n",
              "\n",
              "    .dataframe tbody tr th {\n",
              "        vertical-align: top;\n",
              "    }\n",
              "\n",
              "    .dataframe thead th {\n",
              "        text-align: right;\n",
              "    }\n",
              "</style>\n",
              "<table border=\"1\" class=\"dataframe\">\n",
              "  <thead>\n",
              "    <tr style=\"text-align: right;\">\n",
              "      <th>winner</th>\n",
              "      <th>black</th>\n",
              "      <th>draw</th>\n",
              "      <th>white</th>\n",
              "    </tr>\n",
              "    <tr>\n",
              "      <th>black_1move</th>\n",
              "      <th></th>\n",
              "      <th></th>\n",
              "      <th></th>\n",
              "    </tr>\n",
              "  </thead>\n",
              "  <tbody>\n",
              "    <tr>\n",
              "      <th>Na6</th>\n",
              "      <td>0.000000</td>\n",
              "      <td>0.000000</td>\n",
              "      <td>1.000000</td>\n",
              "    </tr>\n",
              "    <tr>\n",
              "      <th>Nc6</th>\n",
              "      <td>0.382653</td>\n",
              "      <td>0.053571</td>\n",
              "      <td>0.563776</td>\n",
              "    </tr>\n",
              "    <tr>\n",
              "      <th>Nf6</th>\n",
              "      <td>0.486119</td>\n",
              "      <td>0.062611</td>\n",
              "      <td>0.451270</td>\n",
              "    </tr>\n",
              "    <tr>\n",
              "      <th>Nh6</th>\n",
              "      <td>0.166667</td>\n",
              "      <td>0.000000</td>\n",
              "      <td>0.833333</td>\n",
              "    </tr>\n",
              "    <tr>\n",
              "      <th>a5</th>\n",
              "      <td>0.260870</td>\n",
              "      <td>0.130435</td>\n",
              "      <td>0.608696</td>\n",
              "    </tr>\n",
              "  </tbody>\n",
              "</table>\n",
              "</div>"
            ],
            "text/plain": [
              "winner          black      draw     white\n",
              "black_1move                              \n",
              "Na6          0.000000  0.000000  1.000000\n",
              "Nc6          0.382653  0.053571  0.563776\n",
              "Nf6          0.486119  0.062611  0.451270\n",
              "Nh6          0.166667  0.000000  0.833333\n",
              "a5           0.260870  0.130435  0.608696"
            ]
          },
          "metadata": {},
          "execution_count": 20
        }
      ]
    },
    {
      "cell_type": "code",
      "metadata": {
        "id": "_iVzuCf2umY-"
      },
      "source": [
        "dict(df_bm['white'])\n",
        "df['black_1move'] = df['black_1move'].map(dict(df_bm['white']))"
      ],
      "execution_count": 21,
      "outputs": []
    },
    {
      "cell_type": "code",
      "metadata": {
        "colab": {
          "base_uri": "https://localhost:8080/",
          "height": 445
        },
        "id": "2JCUrEcrum_O",
        "outputId": "0e5cdf1c-568f-4a46-9f1d-bfc33e75e3dd"
      },
      "source": [
        "df_ = pd.crosstab(df.opening_eco, columns = df.winner, normalize='index')\n",
        "df_"
      ],
      "execution_count": 22,
      "outputs": [
        {
          "output_type": "execute_result",
          "data": {
            "text/html": [
              "<div>\n",
              "<style scoped>\n",
              "    .dataframe tbody tr th:only-of-type {\n",
              "        vertical-align: middle;\n",
              "    }\n",
              "\n",
              "    .dataframe tbody tr th {\n",
              "        vertical-align: top;\n",
              "    }\n",
              "\n",
              "    .dataframe thead th {\n",
              "        text-align: right;\n",
              "    }\n",
              "</style>\n",
              "<table border=\"1\" class=\"dataframe\">\n",
              "  <thead>\n",
              "    <tr style=\"text-align: right;\">\n",
              "      <th>winner</th>\n",
              "      <th>black</th>\n",
              "      <th>draw</th>\n",
              "      <th>white</th>\n",
              "    </tr>\n",
              "    <tr>\n",
              "      <th>opening_eco</th>\n",
              "      <th></th>\n",
              "      <th></th>\n",
              "      <th></th>\n",
              "    </tr>\n",
              "  </thead>\n",
              "  <tbody>\n",
              "    <tr>\n",
              "      <th>A00</th>\n",
              "      <td>0.566038</td>\n",
              "      <td>0.038729</td>\n",
              "      <td>0.395233</td>\n",
              "    </tr>\n",
              "    <tr>\n",
              "      <th>A01</th>\n",
              "      <td>0.487805</td>\n",
              "      <td>0.048780</td>\n",
              "      <td>0.463415</td>\n",
              "    </tr>\n",
              "    <tr>\n",
              "      <th>A02</th>\n",
              "      <td>0.548780</td>\n",
              "      <td>0.060976</td>\n",
              "      <td>0.390244</td>\n",
              "    </tr>\n",
              "    <tr>\n",
              "      <th>A03</th>\n",
              "      <td>0.487179</td>\n",
              "      <td>0.128205</td>\n",
              "      <td>0.384615</td>\n",
              "    </tr>\n",
              "    <tr>\n",
              "      <th>A04</th>\n",
              "      <td>0.354386</td>\n",
              "      <td>0.098246</td>\n",
              "      <td>0.547368</td>\n",
              "    </tr>\n",
              "    <tr>\n",
              "      <th>...</th>\n",
              "      <td>...</td>\n",
              "      <td>...</td>\n",
              "      <td>...</td>\n",
              "    </tr>\n",
              "    <tr>\n",
              "      <th>E92</th>\n",
              "      <td>0.200000</td>\n",
              "      <td>0.600000</td>\n",
              "      <td>0.200000</td>\n",
              "    </tr>\n",
              "    <tr>\n",
              "      <th>E94</th>\n",
              "      <td>0.500000</td>\n",
              "      <td>0.000000</td>\n",
              "      <td>0.500000</td>\n",
              "    </tr>\n",
              "    <tr>\n",
              "      <th>E95</th>\n",
              "      <td>0.000000</td>\n",
              "      <td>0.000000</td>\n",
              "      <td>1.000000</td>\n",
              "    </tr>\n",
              "    <tr>\n",
              "      <th>E97</th>\n",
              "      <td>0.333333</td>\n",
              "      <td>0.333333</td>\n",
              "      <td>0.333333</td>\n",
              "    </tr>\n",
              "    <tr>\n",
              "      <th>E98</th>\n",
              "      <td>0.000000</td>\n",
              "      <td>0.000000</td>\n",
              "      <td>1.000000</td>\n",
              "    </tr>\n",
              "  </tbody>\n",
              "</table>\n",
              "<p>365 rows × 3 columns</p>\n",
              "</div>"
            ],
            "text/plain": [
              "winner          black      draw     white\n",
              "opening_eco                              \n",
              "A00          0.566038  0.038729  0.395233\n",
              "A01          0.487805  0.048780  0.463415\n",
              "A02          0.548780  0.060976  0.390244\n",
              "A03          0.487179  0.128205  0.384615\n",
              "A04          0.354386  0.098246  0.547368\n",
              "...               ...       ...       ...\n",
              "E92          0.200000  0.600000  0.200000\n",
              "E94          0.500000  0.000000  0.500000\n",
              "E95          0.000000  0.000000  1.000000\n",
              "E97          0.333333  0.333333  0.333333\n",
              "E98          0.000000  0.000000  1.000000\n",
              "\n",
              "[365 rows x 3 columns]"
            ]
          },
          "metadata": {},
          "execution_count": 22
        }
      ]
    },
    {
      "cell_type": "code",
      "metadata": {
        "colab": {
          "base_uri": "https://localhost:8080/"
        },
        "id": "MwYAPNi_u8YI",
        "outputId": "139fe2f9-9aed-4493-f45f-e017fde6f89c"
      },
      "source": [
        "dict(df_['white'])"
      ],
      "execution_count": 23,
      "outputs": [
        {
          "output_type": "execute_result",
          "data": {
            "text/plain": [
              "{'A00': 0.3952333664349553,\n",
              " 'A01': 0.4634146341463415,\n",
              " 'A02': 0.3902439024390244,\n",
              " 'A03': 0.38461538461538464,\n",
              " 'A04': 0.5473684210526316,\n",
              " 'A05': 0.5625,\n",
              " 'A06': 0.472,\n",
              " 'A07': 0.5151515151515151,\n",
              " 'A08': 0.46153846153846156,\n",
              " 'A09': 0.5294117647058824,\n",
              " 'A10': 0.5354330708661418,\n",
              " 'A11': 0.5,\n",
              " 'A12': 0.0,\n",
              " 'A13': 0.7346938775510204,\n",
              " 'A14': 0.0,\n",
              " 'A15': 0.5333333333333333,\n",
              " 'A16': 0.48,\n",
              " 'A17': 0.5,\n",
              " 'A18': 0.6666666666666666,\n",
              " 'A20': 0.54,\n",
              " 'A21': 0.5396825396825397,\n",
              " 'A22': 0.4642857142857143,\n",
              " 'A23': 1.0,\n",
              " 'A24': 0.0,\n",
              " 'A25': 0.7272727272727273,\n",
              " 'A27': 0.5454545454545454,\n",
              " 'A28': 0.5,\n",
              " 'A29': 0.75,\n",
              " 'A30': 0.5833333333333334,\n",
              " 'A31': 0.0,\n",
              " 'A33': 0.0,\n",
              " 'A34': 0.5909090909090909,\n",
              " 'A35': 0.6923076923076923,\n",
              " 'A36': 0.75,\n",
              " 'A38': 0.5714285714285714,\n",
              " 'A39': 0.6666666666666666,\n",
              " 'A40': 0.5469255663430421,\n",
              " 'A41': 0.6,\n",
              " 'A42': 0.47619047619047616,\n",
              " 'A43': 0.47435897435897434,\n",
              " 'A44': 0.7142857142857143,\n",
              " 'A45': 0.40476190476190477,\n",
              " 'A46': 0.34177215189873417,\n",
              " 'A47': 0.25,\n",
              " 'A48': 0.375,\n",
              " 'A49': 0.5,\n",
              " 'A50': 0.5,\n",
              " 'A51': 0.3,\n",
              " 'A52': 0.20833333333333334,\n",
              " 'A53': 0.6111111111111112,\n",
              " 'A54': 0.6,\n",
              " 'A56': 0.25,\n",
              " 'A57': 0.4666666666666667,\n",
              " 'A58': 0.5,\n",
              " 'A59': 0.0,\n",
              " 'A60': 0.75,\n",
              " 'A65': 0.0,\n",
              " 'A67': 1.0,\n",
              " 'A70': 0.5714285714285714,\n",
              " 'A71': 0.0,\n",
              " 'A73': 0.0,\n",
              " 'A80': 0.5272727272727272,\n",
              " 'A81': 0.25,\n",
              " 'A82': 0.3333333333333333,\n",
              " 'A83': 0.5,\n",
              " 'A84': 0.4642857142857143,\n",
              " 'A85': 0.4827586206896552,\n",
              " 'A89': 0.0,\n",
              " 'A91': 0.5,\n",
              " 'A97': 1.0,\n",
              " 'A99': 1.0,\n",
              " 'B00': 0.5973813420621932,\n",
              " 'B01': 0.5,\n",
              " 'B02': 0.525,\n",
              " 'B03': 0.6086956521739131,\n",
              " 'B04': 0.5,\n",
              " 'B05': 0.6,\n",
              " 'B06': 0.4602272727272727,\n",
              " 'B07': 0.555921052631579,\n",
              " 'B08': 0.38636363636363635,\n",
              " 'B09': 0.5263157894736842,\n",
              " 'B10': 0.48186528497409326,\n",
              " 'B11': 0.5161290322580645,\n",
              " 'B12': 0.47904191616766467,\n",
              " 'B13': 0.4588235294117647,\n",
              " 'B14': 0.4,\n",
              " 'B15': 0.7419354838709677,\n",
              " 'B17': 1.0,\n",
              " 'B18': 0.40625,\n",
              " 'B19': 0.4444444444444444,\n",
              " 'B20': 0.3932980599647266,\n",
              " 'B21': 0.5063291139240507,\n",
              " 'B22': 0.44680851063829785,\n",
              " 'B23': 0.4336283185840708,\n",
              " 'B24': 0.9,\n",
              " 'B25': 0.4528301886792453,\n",
              " 'B27': 0.5230769230769231,\n",
              " 'B28': 0.3333333333333333,\n",
              " 'B29': 0.7368421052631579,\n",
              " 'B30': 0.42731277533039647,\n",
              " 'B31': 0.7857142857142857,\n",
              " 'B32': 0.5564516129032258,\n",
              " 'B33': 0.4791666666666667,\n",
              " 'B34': 0.5151515151515151,\n",
              " 'B35': 0.16666666666666666,\n",
              " 'B36': 0.3333333333333333,\n",
              " 'B38': 0.42857142857142855,\n",
              " 'B39': 0.0,\n",
              " 'B40': 0.3953488372093023,\n",
              " 'B41': 0.3076923076923077,\n",
              " 'B42': 0.625,\n",
              " 'B43': 0.3448275862068966,\n",
              " 'B44': 0.3888888888888889,\n",
              " 'B45': 0.631578947368421,\n",
              " 'B46': 0.21428571428571427,\n",
              " 'B47': 0.6666666666666666,\n",
              " 'B48': 0.2,\n",
              " 'B50': 0.43805309734513276,\n",
              " 'B51': 0.5714285714285714,\n",
              " 'B52': 0.45454545454545453,\n",
              " 'B53': 0.6666666666666666,\n",
              " 'B54': 0.5316455696202531,\n",
              " 'B56': 0.4375,\n",
              " 'B57': 0.35135135135135137,\n",
              " 'B58': 1.0,\n",
              " 'B60': 1.0,\n",
              " 'B62': 0.0,\n",
              " 'B70': 0.5,\n",
              " 'B71': 0.5,\n",
              " 'B72': 0.6,\n",
              " 'B73': 0.5,\n",
              " 'B74': 1.0,\n",
              " 'B75': 1.0,\n",
              " 'B76': 0.5,\n",
              " 'B77': 0.6666666666666666,\n",
              " 'B78': 0.42857142857142855,\n",
              " 'B80': 0.4666666666666667,\n",
              " 'B81': 1.0,\n",
              " 'B82': 0.5,\n",
              " 'B83': 1.0,\n",
              " 'B84': 0.5,\n",
              " 'B86': 0.2857142857142857,\n",
              " 'B87': 1.0,\n",
              " 'B88': 0.0,\n",
              " 'B90': 0.5346534653465347,\n",
              " 'B91': 0.5,\n",
              " 'B92': 0.5833333333333334,\n",
              " 'B93': 0.5,\n",
              " 'B94': 0.5789473684210527,\n",
              " 'B95': 0.4,\n",
              " 'B96': 0.4,\n",
              " 'B98': 0.5,\n",
              " 'C00': 0.4940758293838863,\n",
              " 'C01': 0.5253164556962026,\n",
              " 'C02': 0.47653429602888087,\n",
              " 'C03': 0.5,\n",
              " 'C04': 0.0,\n",
              " 'C05': 0.3076923076923077,\n",
              " 'C06': 0.8333333333333334,\n",
              " 'C07': 0.375,\n",
              " 'C08': 0.6666666666666666,\n",
              " 'C09': 1.0,\n",
              " 'C10': 0.543859649122807,\n",
              " 'C11': 0.4473684210526316,\n",
              " 'C12': 0.0,\n",
              " 'C13': 0.4,\n",
              " 'C14': 0.5,\n",
              " 'C15': 0.5882352941176471,\n",
              " 'C16': 0.4,\n",
              " 'C17': 0.5,\n",
              " 'C18': 0.6666666666666666,\n",
              " 'C20': 0.44296296296296295,\n",
              " 'C21': 0.5755813953488372,\n",
              " 'C22': 0.38372093023255816,\n",
              " 'C23': 0.5419354838709678,\n",
              " 'C24': 0.6160714285714286,\n",
              " 'C25': 0.4482758620689655,\n",
              " 'C26': 0.5294117647058824,\n",
              " 'C27': 0.5555555555555556,\n",
              " 'C28': 0.5263157894736842,\n",
              " 'C29': 0.5,\n",
              " 'C30': 0.532608695652174,\n",
              " 'C31': 0.4166666666666667,\n",
              " 'C32': 0.0,\n",
              " 'C33': 0.6153846153846154,\n",
              " 'C34': 0.6533333333333333,\n",
              " 'C35': 0.5,\n",
              " 'C36': 0.6,\n",
              " 'C37': 0.6363636363636364,\n",
              " 'C38': 0.6666666666666666,\n",
              " 'C39': 0.6666666666666666,\n",
              " 'C40': 0.5964125560538116,\n",
              " 'C41': 0.573082489146165,\n",
              " 'C42': 0.5474006116207951,\n",
              " 'C43': 0.2631578947368421,\n",
              " 'C44': 0.52,\n",
              " 'C45': 0.5035211267605634,\n",
              " 'C46': 0.5580524344569289,\n",
              " 'C47': 0.46296296296296297,\n",
              " 'C48': 0.5679012345679012,\n",
              " 'C49': 0.375,\n",
              " 'C50': 0.44609665427509293,\n",
              " 'C51': 0.5,\n",
              " 'C52': 0.5714285714285714,\n",
              " 'C53': 0.4880952380952381,\n",
              " 'C54': 0.2926829268292683,\n",
              " 'C55': 0.5288461538461539,\n",
              " 'C56': 0.3333333333333333,\n",
              " 'C57': 0.5537190082644629,\n",
              " 'C58': 0.4444444444444444,\n",
              " 'C59': 0.6666666666666666,\n",
              " 'C60': 0.5625,\n",
              " 'C61': 0.4444444444444444,\n",
              " 'C62': 0.49635036496350365,\n",
              " 'C63': 0.6,\n",
              " 'C64': 0.5614035087719298,\n",
              " 'C65': 0.5142857142857142,\n",
              " 'C66': 0.6666666666666666,\n",
              " 'C67': 0.5172413793103449,\n",
              " 'C68': 0.5588235294117647,\n",
              " 'C69': 0.5652173913043478,\n",
              " 'C70': 0.6666666666666666,\n",
              " 'C71': 0.5,\n",
              " 'C72': 0.5,\n",
              " 'C74': 0.0,\n",
              " 'C75': 0.0,\n",
              " 'C77': 0.3829787234042553,\n",
              " 'C78': 0.5757575757575758,\n",
              " 'C79': 1.0,\n",
              " 'C80': 0.7142857142857143,\n",
              " 'C81': 0.0,\n",
              " 'C83': 1.0,\n",
              " 'C84': 0.6,\n",
              " 'C88': 0.23529411764705882,\n",
              " 'C89': 0.14285714285714285,\n",
              " 'C90': 0.0,\n",
              " 'C91': 0.16666666666666666,\n",
              " 'C92': 0.0,\n",
              " 'C94': 0.0,\n",
              " 'D00': 0.4614343707713126,\n",
              " 'D01': 0.3146067415730337,\n",
              " 'D02': 0.511520737327189,\n",
              " 'D03': 0.4,\n",
              " 'D04': 0.3333333333333333,\n",
              " 'D05': 0.42857142857142855,\n",
              " 'D06': 0.6369047619047619,\n",
              " 'D07': 0.5306122448979592,\n",
              " 'D08': 0.6206896551724138,\n",
              " 'D10': 0.4,\n",
              " 'D11': 0.5121951219512195,\n",
              " 'D12': 0.4444444444444444,\n",
              " 'D13': 1.0,\n",
              " 'D14': 0.25,\n",
              " 'D15': 0.5531914893617021,\n",
              " 'D16': 1.0,\n",
              " 'D17': 0.5,\n",
              " 'D18': 0.5,\n",
              " 'D19': 1.0,\n",
              " 'D20': 0.5260663507109005,\n",
              " 'D21': 0.75,\n",
              " 'D22': 0.0,\n",
              " 'D24': 0.5,\n",
              " 'D25': 0.5,\n",
              " 'D26': 0.8,\n",
              " 'D30': 0.5862068965517241,\n",
              " 'D31': 0.5641025641025641,\n",
              " 'D32': 0.5833333333333334,\n",
              " 'D34': 0.25,\n",
              " 'D35': 0.4444444444444444,\n",
              " 'D36': 0.0,\n",
              " 'D37': 0.5,\n",
              " 'D38': 1.0,\n",
              " 'D40': 0.4,\n",
              " 'D41': 0.42857142857142855,\n",
              " 'D43': 0.36363636363636365,\n",
              " 'D44': 0.6666666666666666,\n",
              " 'D45': 0.48148148148148145,\n",
              " 'D46': 0.6,\n",
              " 'D47': 1.0,\n",
              " 'D48': 0.0,\n",
              " 'D50': 0.4,\n",
              " 'D51': 0.14285714285714285,\n",
              " 'D52': 0.5714285714285714,\n",
              " 'D53': 0.6875,\n",
              " 'D55': 0.5555555555555556,\n",
              " 'D56': 0.0,\n",
              " 'D57': 0.6666666666666666,\n",
              " 'D58': 0.0,\n",
              " 'D59': 0.0,\n",
              " 'D60': 0.5,\n",
              " 'D70': 0.5,\n",
              " 'D74': 1.0,\n",
              " 'D76': 1.0,\n",
              " 'D77': 0.0,\n",
              " 'D78': 0.6666666666666666,\n",
              " 'D80': 0.5555555555555556,\n",
              " 'D81': 1.0,\n",
              " 'D82': 1.0,\n",
              " 'D85': 0.6666666666666666,\n",
              " 'D86': 1.0,\n",
              " 'D87': 1.0,\n",
              " 'D90': 0.75,\n",
              " 'D91': 0.25,\n",
              " 'D92': 0.0,\n",
              " 'D93': 0.3333333333333333,\n",
              " 'D94': 0.375,\n",
              " 'D95': 1.0,\n",
              " 'E00': 0.48936170212765956,\n",
              " 'E01': 1.0,\n",
              " 'E03': 0.0,\n",
              " 'E06': 1.0,\n",
              " 'E10': 0.55,\n",
              " 'E11': 0.4,\n",
              " 'E12': 0.7333333333333333,\n",
              " 'E14': 0.2857142857142857,\n",
              " 'E15': 0.5714285714285714,\n",
              " 'E16': 0.3333333333333333,\n",
              " 'E17': 0.16666666666666666,\n",
              " 'E18': 1.0,\n",
              " 'E20': 0.45454545454545453,\n",
              " 'E21': 0.8571428571428571,\n",
              " 'E24': 0.4444444444444444,\n",
              " 'E27': 0.0,\n",
              " 'E30': 0.5,\n",
              " 'E32': 0.2,\n",
              " 'E33': 1.0,\n",
              " 'E34': 0.5,\n",
              " 'E35': 0.0,\n",
              " 'E38': 0.4,\n",
              " 'E40': 1.0,\n",
              " 'E42': 1.0,\n",
              " 'E44': 1.0,\n",
              " 'E46': 0.0,\n",
              " 'E47': 0.0,\n",
              " 'E48': 0.0,\n",
              " 'E50': 0.75,\n",
              " 'E51': 0.8,\n",
              " 'E52': 1.0,\n",
              " 'E53': 0.5,\n",
              " 'E54': 0.6666666666666666,\n",
              " 'E56': 0.0,\n",
              " 'E59': 0.3333333333333333,\n",
              " 'E60': 0.36363636363636365,\n",
              " 'E61': 0.423728813559322,\n",
              " 'E63': 1.0,\n",
              " 'E64': 0.5,\n",
              " 'E67': 0.4,\n",
              " 'E68': 0.5,\n",
              " 'E70': 0.6363636363636364,\n",
              " 'E71': 0.7142857142857143,\n",
              " 'E72': 0.0,\n",
              " 'E73': 0.4,\n",
              " 'E76': 0.3888888888888889,\n",
              " 'E77': 0.4,\n",
              " 'E80': 0.3333333333333333,\n",
              " 'E81': 0.5714285714285714,\n",
              " 'E87': 0.3333333333333333,\n",
              " 'E88': 1.0,\n",
              " 'E90': 0.4827586206896552,\n",
              " 'E91': 0.7142857142857143,\n",
              " 'E92': 0.2,\n",
              " 'E94': 0.5,\n",
              " 'E95': 1.0,\n",
              " 'E97': 0.3333333333333333,\n",
              " 'E98': 1.0}"
            ]
          },
          "metadata": {},
          "execution_count": 23
        }
      ]
    },
    {
      "cell_type": "code",
      "metadata": {
        "id": "UqUOdlzHu8VZ"
      },
      "source": [
        "df['opening_eco'] = df['opening_eco'].map(dict(df_['white']))"
      ],
      "execution_count": 24,
      "outputs": []
    },
    {
      "cell_type": "code",
      "metadata": {
        "colab": {
          "base_uri": "https://localhost:8080/",
          "height": 1000
        },
        "id": "d5-kZUCyu8Sg",
        "outputId": "ba9e8cad-7a37-4d24-e63e-35f0ac42804e"
      },
      "source": [
        "df.head()"
      ],
      "execution_count": 25,
      "outputs": [
        {
          "output_type": "execute_result",
          "data": {
            "text/html": [
              "<div>\n",
              "<style scoped>\n",
              "    .dataframe tbody tr th:only-of-type {\n",
              "        vertical-align: middle;\n",
              "    }\n",
              "\n",
              "    .dataframe tbody tr th {\n",
              "        vertical-align: top;\n",
              "    }\n",
              "\n",
              "    .dataframe thead th {\n",
              "        text-align: right;\n",
              "    }\n",
              "</style>\n",
              "<table border=\"1\" class=\"dataframe\">\n",
              "  <thead>\n",
              "    <tr style=\"text-align: right;\">\n",
              "      <th></th>\n",
              "      <th>id</th>\n",
              "      <th>rated</th>\n",
              "      <th>turns</th>\n",
              "      <th>victory_status</th>\n",
              "      <th>winner</th>\n",
              "      <th>white_rating</th>\n",
              "      <th>black_rating</th>\n",
              "      <th>moves</th>\n",
              "      <th>opening_eco</th>\n",
              "      <th>opening_name</th>\n",
              "      <th>opening_ply</th>\n",
              "      <th>white_1move</th>\n",
              "      <th>black_1move</th>\n",
              "    </tr>\n",
              "  </thead>\n",
              "  <tbody>\n",
              "    <tr>\n",
              "      <th>0</th>\n",
              "      <td>TZJHLljE</td>\n",
              "      <td>False</td>\n",
              "      <td>13</td>\n",
              "      <td>outoftime</td>\n",
              "      <td>white</td>\n",
              "      <td>1500</td>\n",
              "      <td>1191</td>\n",
              "      <td>d4 d5 c4 c6 cxd5 e6 dxe6 fxe6 Nf3 Bb4+ Nc3 Ba5...</td>\n",
              "      <td>0.400000</td>\n",
              "      <td>Slav Defense: Exchange Variation</td>\n",
              "      <td>5</td>\n",
              "      <td>0.499337</td>\n",
              "      <td>0.493591</td>\n",
              "    </tr>\n",
              "    <tr>\n",
              "      <th>1</th>\n",
              "      <td>l1NXvwaE</td>\n",
              "      <td>True</td>\n",
              "      <td>16</td>\n",
              "      <td>resign</td>\n",
              "      <td>black</td>\n",
              "      <td>1322</td>\n",
              "      <td>1261</td>\n",
              "      <td>d4 Nc6 e4 e5 f4 f6 dxe5 fxe5 fxe5 Nxe5 Qd4 Nc6...</td>\n",
              "      <td>0.597381</td>\n",
              "      <td>Nimzowitsch Defense: Kennedy Variation</td>\n",
              "      <td>4</td>\n",
              "      <td>0.499337</td>\n",
              "      <td>0.563776</td>\n",
              "    </tr>\n",
              "    <tr>\n",
              "      <th>2</th>\n",
              "      <td>mIICvQHh</td>\n",
              "      <td>True</td>\n",
              "      <td>61</td>\n",
              "      <td>mate</td>\n",
              "      <td>white</td>\n",
              "      <td>1496</td>\n",
              "      <td>1500</td>\n",
              "      <td>e4 e5 d3 d6 Be3 c6 Be2 b5 Nd2 a5 a4 c5 axb5 Nc...</td>\n",
              "      <td>0.442963</td>\n",
              "      <td>King's Pawn Game: Leonardis Variation</td>\n",
              "      <td>3</td>\n",
              "      <td>0.505715</td>\n",
              "      <td>0.515312</td>\n",
              "    </tr>\n",
              "    <tr>\n",
              "      <th>3</th>\n",
              "      <td>kWKvrqYL</td>\n",
              "      <td>True</td>\n",
              "      <td>61</td>\n",
              "      <td>mate</td>\n",
              "      <td>white</td>\n",
              "      <td>1439</td>\n",
              "      <td>1454</td>\n",
              "      <td>d4 d5 Nf3 Bf5 Nc3 Nf6 Bf4 Ng4 e3 Nc6 Be2 Qd7 O...</td>\n",
              "      <td>0.511521</td>\n",
              "      <td>Queen's Pawn Game: Zukertort Variation</td>\n",
              "      <td>3</td>\n",
              "      <td>0.499337</td>\n",
              "      <td>0.493591</td>\n",
              "    </tr>\n",
              "    <tr>\n",
              "      <th>4</th>\n",
              "      <td>9tXo1AUZ</td>\n",
              "      <td>True</td>\n",
              "      <td>95</td>\n",
              "      <td>mate</td>\n",
              "      <td>white</td>\n",
              "      <td>1523</td>\n",
              "      <td>1469</td>\n",
              "      <td>e4 e5 Nf3 d6 d4 Nc6 d5 Nb4 a3 Na6 Nc3 Be7 b4 N...</td>\n",
              "      <td>0.573082</td>\n",
              "      <td>Philidor Defense</td>\n",
              "      <td>5</td>\n",
              "      <td>0.505715</td>\n",
              "      <td>0.515312</td>\n",
              "    </tr>\n",
              "  </tbody>\n",
              "</table>\n",
              "</div>"
            ],
            "text/plain": [
              "         id  rated  turns  ... opening_ply white_1move  black_1move\n",
              "0  TZJHLljE  False     13  ...           5    0.499337     0.493591\n",
              "1  l1NXvwaE   True     16  ...           4    0.499337     0.563776\n",
              "2  mIICvQHh   True     61  ...           3    0.505715     0.515312\n",
              "3  kWKvrqYL   True     61  ...           3    0.499337     0.493591\n",
              "4  9tXo1AUZ   True     95  ...           5    0.505715     0.515312\n",
              "\n",
              "[5 rows x 13 columns]"
            ]
          },
          "metadata": {},
          "execution_count": 25
        }
      ]
    },
    {
      "cell_type": "code",
      "metadata": {
        "colab": {
          "base_uri": "https://localhost:8080/"
        },
        "id": "gMJvyrV0u8Pb",
        "outputId": "da5ddc69-6e8e-475a-a68b-0284cf1cc329"
      },
      "source": [
        "df.white_1move.nunique()"
      ],
      "execution_count": 26,
      "outputs": [
        {
          "output_type": "execute_result",
          "data": {
            "text/plain": [
              "20"
            ]
          },
          "metadata": {},
          "execution_count": 26
        }
      ]
    },
    {
      "cell_type": "code",
      "metadata": {
        "colab": {
          "base_uri": "https://localhost:8080/"
        },
        "id": "6TSYNuvzu8Mw",
        "outputId": "510e58a2-62d5-4cdc-ff16-61788e68b383"
      },
      "source": [
        "df.black_1move.nunique()"
      ],
      "execution_count": 27,
      "outputs": [
        {
          "output_type": "execute_result",
          "data": {
            "text/plain": [
              "20"
            ]
          },
          "metadata": {},
          "execution_count": 27
        }
      ]
    },
    {
      "cell_type": "code",
      "metadata": {
        "colab": {
          "base_uri": "https://localhost:8080/"
        },
        "id": "fKsLVlbgu8Ku",
        "outputId": "867c616d-efca-4346-d833-3b6ac4e33392"
      },
      "source": [
        "df.isnull().sum()"
      ],
      "execution_count": 28,
      "outputs": [
        {
          "output_type": "execute_result",
          "data": {
            "text/plain": [
              "id                 0\n",
              "rated              0\n",
              "turns              0\n",
              "victory_status     0\n",
              "winner             0\n",
              "white_rating       0\n",
              "black_rating       0\n",
              "moves              0\n",
              "opening_eco        0\n",
              "opening_name       0\n",
              "opening_ply        0\n",
              "white_1move        0\n",
              "black_1move       18\n",
              "dtype: int64"
            ]
          },
          "metadata": {},
          "execution_count": 28
        }
      ]
    },
    {
      "cell_type": "code",
      "metadata": {
        "colab": {
          "base_uri": "https://localhost:8080/",
          "height": 1000
        },
        "id": "LYL3rN5uu8H8",
        "outputId": "7141b4a7-13ce-4899-fed4-4f4561b8a5cf"
      },
      "source": [
        "df.dropna().head()"
      ],
      "execution_count": 29,
      "outputs": [
        {
          "output_type": "execute_result",
          "data": {
            "text/html": [
              "<div>\n",
              "<style scoped>\n",
              "    .dataframe tbody tr th:only-of-type {\n",
              "        vertical-align: middle;\n",
              "    }\n",
              "\n",
              "    .dataframe tbody tr th {\n",
              "        vertical-align: top;\n",
              "    }\n",
              "\n",
              "    .dataframe thead th {\n",
              "        text-align: right;\n",
              "    }\n",
              "</style>\n",
              "<table border=\"1\" class=\"dataframe\">\n",
              "  <thead>\n",
              "    <tr style=\"text-align: right;\">\n",
              "      <th></th>\n",
              "      <th>id</th>\n",
              "      <th>rated</th>\n",
              "      <th>turns</th>\n",
              "      <th>victory_status</th>\n",
              "      <th>winner</th>\n",
              "      <th>white_rating</th>\n",
              "      <th>black_rating</th>\n",
              "      <th>moves</th>\n",
              "      <th>opening_eco</th>\n",
              "      <th>opening_name</th>\n",
              "      <th>opening_ply</th>\n",
              "      <th>white_1move</th>\n",
              "      <th>black_1move</th>\n",
              "    </tr>\n",
              "  </thead>\n",
              "  <tbody>\n",
              "    <tr>\n",
              "      <th>0</th>\n",
              "      <td>TZJHLljE</td>\n",
              "      <td>False</td>\n",
              "      <td>13</td>\n",
              "      <td>outoftime</td>\n",
              "      <td>white</td>\n",
              "      <td>1500</td>\n",
              "      <td>1191</td>\n",
              "      <td>d4 d5 c4 c6 cxd5 e6 dxe6 fxe6 Nf3 Bb4+ Nc3 Ba5...</td>\n",
              "      <td>0.400000</td>\n",
              "      <td>Slav Defense: Exchange Variation</td>\n",
              "      <td>5</td>\n",
              "      <td>0.499337</td>\n",
              "      <td>0.493591</td>\n",
              "    </tr>\n",
              "    <tr>\n",
              "      <th>1</th>\n",
              "      <td>l1NXvwaE</td>\n",
              "      <td>True</td>\n",
              "      <td>16</td>\n",
              "      <td>resign</td>\n",
              "      <td>black</td>\n",
              "      <td>1322</td>\n",
              "      <td>1261</td>\n",
              "      <td>d4 Nc6 e4 e5 f4 f6 dxe5 fxe5 fxe5 Nxe5 Qd4 Nc6...</td>\n",
              "      <td>0.597381</td>\n",
              "      <td>Nimzowitsch Defense: Kennedy Variation</td>\n",
              "      <td>4</td>\n",
              "      <td>0.499337</td>\n",
              "      <td>0.563776</td>\n",
              "    </tr>\n",
              "    <tr>\n",
              "      <th>2</th>\n",
              "      <td>mIICvQHh</td>\n",
              "      <td>True</td>\n",
              "      <td>61</td>\n",
              "      <td>mate</td>\n",
              "      <td>white</td>\n",
              "      <td>1496</td>\n",
              "      <td>1500</td>\n",
              "      <td>e4 e5 d3 d6 Be3 c6 Be2 b5 Nd2 a5 a4 c5 axb5 Nc...</td>\n",
              "      <td>0.442963</td>\n",
              "      <td>King's Pawn Game: Leonardis Variation</td>\n",
              "      <td>3</td>\n",
              "      <td>0.505715</td>\n",
              "      <td>0.515312</td>\n",
              "    </tr>\n",
              "    <tr>\n",
              "      <th>3</th>\n",
              "      <td>kWKvrqYL</td>\n",
              "      <td>True</td>\n",
              "      <td>61</td>\n",
              "      <td>mate</td>\n",
              "      <td>white</td>\n",
              "      <td>1439</td>\n",
              "      <td>1454</td>\n",
              "      <td>d4 d5 Nf3 Bf5 Nc3 Nf6 Bf4 Ng4 e3 Nc6 Be2 Qd7 O...</td>\n",
              "      <td>0.511521</td>\n",
              "      <td>Queen's Pawn Game: Zukertort Variation</td>\n",
              "      <td>3</td>\n",
              "      <td>0.499337</td>\n",
              "      <td>0.493591</td>\n",
              "    </tr>\n",
              "    <tr>\n",
              "      <th>4</th>\n",
              "      <td>9tXo1AUZ</td>\n",
              "      <td>True</td>\n",
              "      <td>95</td>\n",
              "      <td>mate</td>\n",
              "      <td>white</td>\n",
              "      <td>1523</td>\n",
              "      <td>1469</td>\n",
              "      <td>e4 e5 Nf3 d6 d4 Nc6 d5 Nb4 a3 Na6 Nc3 Be7 b4 N...</td>\n",
              "      <td>0.573082</td>\n",
              "      <td>Philidor Defense</td>\n",
              "      <td>5</td>\n",
              "      <td>0.505715</td>\n",
              "      <td>0.515312</td>\n",
              "    </tr>\n",
              "  </tbody>\n",
              "</table>\n",
              "</div>"
            ],
            "text/plain": [
              "         id  rated  turns  ... opening_ply white_1move  black_1move\n",
              "0  TZJHLljE  False     13  ...           5    0.499337     0.493591\n",
              "1  l1NXvwaE   True     16  ...           4    0.499337     0.563776\n",
              "2  mIICvQHh   True     61  ...           3    0.505715     0.515312\n",
              "3  kWKvrqYL   True     61  ...           3    0.499337     0.493591\n",
              "4  9tXo1AUZ   True     95  ...           5    0.505715     0.515312\n",
              "\n",
              "[5 rows x 13 columns]"
            ]
          },
          "metadata": {},
          "execution_count": 29
        }
      ]
    },
    {
      "cell_type": "code",
      "metadata": {
        "colab": {
          "base_uri": "https://localhost:8080/"
        },
        "id": "fbY5DLHtu8Fe",
        "outputId": "2e05472a-a7a1-4284-ee73-5da328ab2339"
      },
      "source": [
        "df.moves.unique()"
      ],
      "execution_count": 30,
      "outputs": [
        {
          "output_type": "execute_result",
          "data": {
            "text/plain": [
              "array(['d4 d5 c4 c6 cxd5 e6 dxe6 fxe6 Nf3 Bb4+ Nc3 Ba5 Bf4',\n",
              "       'd4 Nc6 e4 e5 f4 f6 dxe5 fxe5 fxe5 Nxe5 Qd4 Nc6 Qe5+ Nxe5 c4 Bb4+',\n",
              "       'e4 e5 d3 d6 Be3 c6 Be2 b5 Nd2 a5 a4 c5 axb5 Nc6 bxc6 Ra6 Nc4 a4 c3 a3 Nxa3 Rxa3 Rxa3 c4 dxc4 d5 cxd5 Qxd5 exd5 Be6 Ra8+ Ke7 Bc5+ Kf6 Bxf8 Kg6 Bxg7 Kxg7 dxe6 Kh6 exf7 Nf6 Rxh8 Nh5 Bxh5 Kg5 Rxh7 Kf5 Qf3+ Ke6 Bg4+ Kd6 Rh6+ Kc5 Qe3+ Kb5 c4+ Kb4 Qc3+ Ka4 Bd1#',\n",
              "       ...,\n",
              "       'd4 d5 Bf4 Nc6 e3 Nf6 c3 e6 Nf3 Be7 Bd3 O-O Nbd2 b6 Ne5 Nxe5 Bxe5 Nd7 Bxh7+ Kxh7 Qh5+ Kg8 Nf3 f6 Bf4 g5 Qg6+ Kh8 Nh4 Qe8 Qh6+ Kg8 Ng6 Kf7 Qh7#',\n",
              "       'e4 d6 d4 Nf6 e5 dxe5 dxe5 Qxd1+ Kxd1 Nd5 c4 Nb6 c5 Nd5 Bc4 e6 Bxd5 exd5 Nc3 d4 Ne4 Bf5 f3 Nd7 b4 Nxe5 Bf4 f6 g4 Bxe4 fxe4 c6 Bxe5 fxe5 Nf3 Be7 Nxe5 Bf6 Nc4 O-O-O h4 h6 e5 b5 cxb6 Be7 bxa7 Kc7 a3 Rhf8 Kd2 Rf4 Rag1 d3 h5 Rf2+ Ke3 Re2+ Kf4 Rf8+ Kg3 Re3+ Nxe3 d2 Rd1 Bg5 Nf5 Kb7 Rhf1 Kxa7 Nd6 Rxf1 Rxf1 Kb6 e6 Kc7 Nf5 Kc8 e7 Kd7 a4 Bxe7 Nxe7 Kxe7 a5 Kd7 Rd1 Kc7 Rxd2 Kb7 Ra2 Ka6 Kf4 Kb5 a6 Kb6 a7 Kb5 a8=Q Kxb4 Qxc6 g5+ hxg6 Kb3 Rc2 Kb4 Qb7+ Ka3 Rc8',\n",
              "       'd4 d5 Bf4 Na6 e3 e6 c3 Nf6 Nf3 Bd7 Nbd2 b5 Bd3 Qc8 e4 b4 e5 Ne4 Nxe4 dxe4 Bxe4 bxc3 Bxa8 Qxa8 bxc3 Ba3 Rb1 c5 Qd3 O-O Qxa6 Bc6 Qxa3 Bxf3 gxf3 Qxf3 Qxa7 Qxh1+ Ke2 Qxb1 Qxc5 Qc2+ Ke3 Qxa2 Qb4 h6 c4 g5 Bg3 Qa8 c5 Rb8 Qc3 f5 f4 Qe4+ Kd2 Qg2+ Kd3 gxf4 Bxf4 Qf3+ Kc4 Qxf4 c6 Qf1+ Kc5 Rb1 Qg3+ Kf7 c7 Rc1+ Kd6 Qa6+ Kd7 Qb5+ Kd8 Qe8#'],\n",
              "      dtype=object)"
            ]
          },
          "metadata": {},
          "execution_count": 30
        }
      ]
    },
    {
      "cell_type": "code",
      "metadata": {
        "colab": {
          "base_uri": "https://localhost:8080/"
        },
        "id": "zJ8xOlNEu8DB",
        "outputId": "b9d6bc6b-0f74-42a6-8ce8-5d54662a4d20"
      },
      "source": [
        "df.opening_ply.nunique()"
      ],
      "execution_count": 31,
      "outputs": [
        {
          "output_type": "execute_result",
          "data": {
            "text/plain": [
              "23"
            ]
          },
          "metadata": {},
          "execution_count": 31
        }
      ]
    },
    {
      "cell_type": "code",
      "metadata": {
        "colab": {
          "base_uri": "https://localhost:8080/"
        },
        "id": "RzkxVNqcu8Aj",
        "outputId": "5c94d3f2-6674-4271-8723-dc03fd034110"
      },
      "source": [
        "df.opening_name.nunique()"
      ],
      "execution_count": 32,
      "outputs": [
        {
          "output_type": "execute_result",
          "data": {
            "text/plain": [
              "1477"
            ]
          },
          "metadata": {},
          "execution_count": 32
        }
      ]
    },
    {
      "cell_type": "markdown",
      "metadata": {
        "id": "vIJNA4wovekY"
      },
      "source": [
        "## Categorical variables"
      ]
    },
    {
      "cell_type": "code",
      "metadata": {
        "colab": {
          "base_uri": "https://localhost:8080/"
        },
        "id": "mKBboEeXvhQD",
        "outputId": "0b2d2ed9-7b63-43f8-d581-6cc3c7dc23ac"
      },
      "source": [
        "df['rated'].unique()"
      ],
      "execution_count": 33,
      "outputs": [
        {
          "output_type": "execute_result",
          "data": {
            "text/plain": [
              "array([False,  True])"
            ]
          },
          "metadata": {},
          "execution_count": 33
        }
      ]
    },
    {
      "cell_type": "code",
      "metadata": {
        "colab": {
          "base_uri": "https://localhost:8080/"
        },
        "id": "zEOJm-fXvhMn",
        "outputId": "30caac5a-9e3c-4ea0-d7bc-d461a294b868"
      },
      "source": [
        "df.victory_status.unique()"
      ],
      "execution_count": 34,
      "outputs": [
        {
          "output_type": "execute_result",
          "data": {
            "text/plain": [
              "array(['outoftime', 'resign', 'mate', 'draw'], dtype=object)"
            ]
          },
          "metadata": {},
          "execution_count": 34
        }
      ]
    },
    {
      "cell_type": "code",
      "metadata": {
        "id": "emChMwuyvhKU"
      },
      "source": [
        "df.drop(columns = ['opening_name', 'id', 'victory_status', 'turns', 'moves'], axis=1, inplace=True)"
      ],
      "execution_count": 35,
      "outputs": []
    },
    {
      "cell_type": "code",
      "metadata": {
        "colab": {
          "base_uri": "https://localhost:8080/",
          "height": 202
        },
        "id": "YKQC6q1MvhIb",
        "outputId": "4c7fe2c4-b351-43f2-c939-7a914bed7620"
      },
      "source": [
        "df.head()"
      ],
      "execution_count": 36,
      "outputs": [
        {
          "output_type": "execute_result",
          "data": {
            "text/html": [
              "<div>\n",
              "<style scoped>\n",
              "    .dataframe tbody tr th:only-of-type {\n",
              "        vertical-align: middle;\n",
              "    }\n",
              "\n",
              "    .dataframe tbody tr th {\n",
              "        vertical-align: top;\n",
              "    }\n",
              "\n",
              "    .dataframe thead th {\n",
              "        text-align: right;\n",
              "    }\n",
              "</style>\n",
              "<table border=\"1\" class=\"dataframe\">\n",
              "  <thead>\n",
              "    <tr style=\"text-align: right;\">\n",
              "      <th></th>\n",
              "      <th>rated</th>\n",
              "      <th>winner</th>\n",
              "      <th>white_rating</th>\n",
              "      <th>black_rating</th>\n",
              "      <th>opening_eco</th>\n",
              "      <th>opening_ply</th>\n",
              "      <th>white_1move</th>\n",
              "      <th>black_1move</th>\n",
              "    </tr>\n",
              "  </thead>\n",
              "  <tbody>\n",
              "    <tr>\n",
              "      <th>0</th>\n",
              "      <td>False</td>\n",
              "      <td>white</td>\n",
              "      <td>1500</td>\n",
              "      <td>1191</td>\n",
              "      <td>0.400000</td>\n",
              "      <td>5</td>\n",
              "      <td>0.499337</td>\n",
              "      <td>0.493591</td>\n",
              "    </tr>\n",
              "    <tr>\n",
              "      <th>1</th>\n",
              "      <td>True</td>\n",
              "      <td>black</td>\n",
              "      <td>1322</td>\n",
              "      <td>1261</td>\n",
              "      <td>0.597381</td>\n",
              "      <td>4</td>\n",
              "      <td>0.499337</td>\n",
              "      <td>0.563776</td>\n",
              "    </tr>\n",
              "    <tr>\n",
              "      <th>2</th>\n",
              "      <td>True</td>\n",
              "      <td>white</td>\n",
              "      <td>1496</td>\n",
              "      <td>1500</td>\n",
              "      <td>0.442963</td>\n",
              "      <td>3</td>\n",
              "      <td>0.505715</td>\n",
              "      <td>0.515312</td>\n",
              "    </tr>\n",
              "    <tr>\n",
              "      <th>3</th>\n",
              "      <td>True</td>\n",
              "      <td>white</td>\n",
              "      <td>1439</td>\n",
              "      <td>1454</td>\n",
              "      <td>0.511521</td>\n",
              "      <td>3</td>\n",
              "      <td>0.499337</td>\n",
              "      <td>0.493591</td>\n",
              "    </tr>\n",
              "    <tr>\n",
              "      <th>4</th>\n",
              "      <td>True</td>\n",
              "      <td>white</td>\n",
              "      <td>1523</td>\n",
              "      <td>1469</td>\n",
              "      <td>0.573082</td>\n",
              "      <td>5</td>\n",
              "      <td>0.505715</td>\n",
              "      <td>0.515312</td>\n",
              "    </tr>\n",
              "  </tbody>\n",
              "</table>\n",
              "</div>"
            ],
            "text/plain": [
              "   rated winner  white_rating  ...  opening_ply  white_1move  black_1move\n",
              "0  False  white          1500  ...            5     0.499337     0.493591\n",
              "1   True  black          1322  ...            4     0.499337     0.563776\n",
              "2   True  white          1496  ...            3     0.505715     0.515312\n",
              "3   True  white          1439  ...            3     0.499337     0.493591\n",
              "4   True  white          1523  ...            5     0.505715     0.515312\n",
              "\n",
              "[5 rows x 8 columns]"
            ]
          },
          "metadata": {},
          "execution_count": 36
        }
      ]
    },
    {
      "cell_type": "code",
      "metadata": {
        "id": "IMttKMSIvhG8"
      },
      "source": [
        "df.replace({False: 0, True: 1}, inplace=True)"
      ],
      "execution_count": 37,
      "outputs": []
    },
    {
      "cell_type": "code",
      "metadata": {
        "colab": {
          "base_uri": "https://localhost:8080/",
          "height": 202
        },
        "id": "3dtlyGBYvhFE",
        "outputId": "157edc94-c941-4e70-d9dd-8cd11d094eb7"
      },
      "source": [
        "df.head()"
      ],
      "execution_count": 38,
      "outputs": [
        {
          "output_type": "execute_result",
          "data": {
            "text/html": [
              "<div>\n",
              "<style scoped>\n",
              "    .dataframe tbody tr th:only-of-type {\n",
              "        vertical-align: middle;\n",
              "    }\n",
              "\n",
              "    .dataframe tbody tr th {\n",
              "        vertical-align: top;\n",
              "    }\n",
              "\n",
              "    .dataframe thead th {\n",
              "        text-align: right;\n",
              "    }\n",
              "</style>\n",
              "<table border=\"1\" class=\"dataframe\">\n",
              "  <thead>\n",
              "    <tr style=\"text-align: right;\">\n",
              "      <th></th>\n",
              "      <th>rated</th>\n",
              "      <th>winner</th>\n",
              "      <th>white_rating</th>\n",
              "      <th>black_rating</th>\n",
              "      <th>opening_eco</th>\n",
              "      <th>opening_ply</th>\n",
              "      <th>white_1move</th>\n",
              "      <th>black_1move</th>\n",
              "    </tr>\n",
              "  </thead>\n",
              "  <tbody>\n",
              "    <tr>\n",
              "      <th>0</th>\n",
              "      <td>0</td>\n",
              "      <td>white</td>\n",
              "      <td>1500</td>\n",
              "      <td>1191</td>\n",
              "      <td>0.400000</td>\n",
              "      <td>5</td>\n",
              "      <td>0.499337</td>\n",
              "      <td>0.493591</td>\n",
              "    </tr>\n",
              "    <tr>\n",
              "      <th>1</th>\n",
              "      <td>1</td>\n",
              "      <td>black</td>\n",
              "      <td>1322</td>\n",
              "      <td>1261</td>\n",
              "      <td>0.597381</td>\n",
              "      <td>4</td>\n",
              "      <td>0.499337</td>\n",
              "      <td>0.563776</td>\n",
              "    </tr>\n",
              "    <tr>\n",
              "      <th>2</th>\n",
              "      <td>1</td>\n",
              "      <td>white</td>\n",
              "      <td>1496</td>\n",
              "      <td>1500</td>\n",
              "      <td>0.442963</td>\n",
              "      <td>3</td>\n",
              "      <td>0.505715</td>\n",
              "      <td>0.515312</td>\n",
              "    </tr>\n",
              "    <tr>\n",
              "      <th>3</th>\n",
              "      <td>1</td>\n",
              "      <td>white</td>\n",
              "      <td>1439</td>\n",
              "      <td>1454</td>\n",
              "      <td>0.511521</td>\n",
              "      <td>3</td>\n",
              "      <td>0.499337</td>\n",
              "      <td>0.493591</td>\n",
              "    </tr>\n",
              "    <tr>\n",
              "      <th>4</th>\n",
              "      <td>1</td>\n",
              "      <td>white</td>\n",
              "      <td>1523</td>\n",
              "      <td>1469</td>\n",
              "      <td>0.573082</td>\n",
              "      <td>5</td>\n",
              "      <td>0.505715</td>\n",
              "      <td>0.515312</td>\n",
              "    </tr>\n",
              "  </tbody>\n",
              "</table>\n",
              "</div>"
            ],
            "text/plain": [
              "   rated winner  white_rating  ...  opening_ply  white_1move  black_1move\n",
              "0      0  white          1500  ...            5     0.499337     0.493591\n",
              "1      1  black          1322  ...            4     0.499337     0.563776\n",
              "2      1  white          1496  ...            3     0.505715     0.515312\n",
              "3      1  white          1439  ...            3     0.499337     0.493591\n",
              "4      1  white          1523  ...            5     0.505715     0.515312\n",
              "\n",
              "[5 rows x 8 columns]"
            ]
          },
          "metadata": {},
          "execution_count": 38
        }
      ]
    },
    {
      "cell_type": "code",
      "metadata": {
        "colab": {
          "base_uri": "https://localhost:8080/",
          "height": 687
        },
        "id": "jrywcO68vhBR",
        "outputId": "9d4adeb6-b238-454b-ec5d-e65aa14d8fa0"
      },
      "source": [
        "df.winner.value_counts().plot(kind='bar')"
      ],
      "execution_count": 39,
      "outputs": [
        {
          "output_type": "execute_result",
          "data": {
            "text/plain": [
              "<matplotlib.axes._subplots.AxesSubplot at 0x7fe3c4108950>"
            ]
          },
          "metadata": {},
          "execution_count": 39
        },
        {
          "output_type": "display_data",
          "data": {
            "image/png": "[encoded data removed]",
            "text/plain": [
              "<Figure size 1200x800 with 1 Axes>"
            ]
          },
          "metadata": {
            "needs_background": "light"
          }
        }
      ]
    },
    {
      "cell_type": "code",
      "metadata": {
        "colab": {
          "base_uri": "https://localhost:8080/",
          "height": 740
        },
        "id": "kzhFj6uavg-j",
        "outputId": "0f8b61f9-5620-4380-ddaa-2289f2fb2519"
      },
      "source": [
        "df.groupby('winner').rated.value_counts().plot(kind='bar')"
      ],
      "execution_count": 40,
      "outputs": [
        {
          "output_type": "execute_result",
          "data": {
            "text/plain": [
              "<matplotlib.axes._subplots.AxesSubplot at 0x7fe3c3e52790>"
            ]
          },
          "metadata": {},
          "execution_count": 40
        },
        {
          "output_type": "display_data",
          "data": {
            "image/png": "[encoded data removed]",
            "text/plain": [
              "<Figure size 1200x800 with 1 Axes>"
            ]
          },
          "metadata": {
            "needs_background": "light"
          }
        }
      ]
    },
    {
      "cell_type": "code",
      "metadata": {
        "id": "QsU6TUsrvgp6"
      },
      "source": [
        "df = df.dropna().copy()"
      ],
      "execution_count": 41,
      "outputs": []
    },
    {
      "cell_type": "code",
      "metadata": {
        "id": "StauBjhGu79-"
      },
      "source": [
        "df.to_csv(\"data_cleaned\")"
      ],
      "execution_count": 42,
      "outputs": []
    },
    {
      "cell_type": "markdown",
      "metadata": {
        "id": "mTfBG45ewQs3"
      },
      "source": [
        "## Features and Target"
      ]
    },
    {
      "cell_type": "code",
      "metadata": {
        "colab": {
          "base_uri": "https://localhost:8080/",
          "height": 414
        },
        "id": "tGag97n2u77s",
        "outputId": "f754acf2-c03e-44b7-8d02-941d66d2c4a4"
      },
      "source": [
        "X = df.drop('winner', axis=1)\n",
        "X"
      ],
      "execution_count": 43,
      "outputs": [
        {
          "output_type": "execute_result",
          "data": {
            "text/html": [
              "<div>\n",
              "<style scoped>\n",
              "    .dataframe tbody tr th:only-of-type {\n",
              "        vertical-align: middle;\n",
              "    }\n",
              "\n",
              "    .dataframe tbody tr th {\n",
              "        vertical-align: top;\n",
              "    }\n",
              "\n",
              "    .dataframe thead th {\n",
              "        text-align: right;\n",
              "    }\n",
              "</style>\n",
              "<table border=\"1\" class=\"dataframe\">\n",
              "  <thead>\n",
              "    <tr style=\"text-align: right;\">\n",
              "      <th></th>\n",
              "      <th>rated</th>\n",
              "      <th>white_rating</th>\n",
              "      <th>black_rating</th>\n",
              "      <th>opening_eco</th>\n",
              "      <th>opening_ply</th>\n",
              "      <th>white_1move</th>\n",
              "      <th>black_1move</th>\n",
              "    </tr>\n",
              "  </thead>\n",
              "  <tbody>\n",
              "    <tr>\n",
              "      <th>0</th>\n",
              "      <td>0</td>\n",
              "      <td>1500</td>\n",
              "      <td>1191</td>\n",
              "      <td>0.400000</td>\n",
              "      <td>5</td>\n",
              "      <td>0.499337</td>\n",
              "      <td>0.493591</td>\n",
              "    </tr>\n",
              "    <tr>\n",
              "      <th>1</th>\n",
              "      <td>1</td>\n",
              "      <td>1322</td>\n",
              "      <td>1261</td>\n",
              "      <td>0.597381</td>\n",
              "      <td>4</td>\n",
              "      <td>0.499337</td>\n",
              "      <td>0.563776</td>\n",
              "    </tr>\n",
              "    <tr>\n",
              "      <th>2</th>\n",
              "      <td>1</td>\n",
              "      <td>1496</td>\n",
              "      <td>1500</td>\n",
              "      <td>0.442963</td>\n",
              "      <td>3</td>\n",
              "      <td>0.505715</td>\n",
              "      <td>0.515312</td>\n",
              "    </tr>\n",
              "    <tr>\n",
              "      <th>3</th>\n",
              "      <td>1</td>\n",
              "      <td>1439</td>\n",
              "      <td>1454</td>\n",
              "      <td>0.511521</td>\n",
              "      <td>3</td>\n",
              "      <td>0.499337</td>\n",
              "      <td>0.493591</td>\n",
              "    </tr>\n",
              "    <tr>\n",
              "      <th>4</th>\n",
              "      <td>1</td>\n",
              "      <td>1523</td>\n",
              "      <td>1469</td>\n",
              "      <td>0.573082</td>\n",
              "      <td>5</td>\n",
              "      <td>0.505715</td>\n",
              "      <td>0.515312</td>\n",
              "    </tr>\n",
              "    <tr>\n",
              "      <th>...</th>\n",
              "      <td>...</td>\n",
              "      <td>...</td>\n",
              "      <td>...</td>\n",
              "      <td>...</td>\n",
              "      <td>...</td>\n",
              "      <td>...</td>\n",
              "      <td>...</td>\n",
              "    </tr>\n",
              "    <tr>\n",
              "      <th>20053</th>\n",
              "      <td>1</td>\n",
              "      <td>1691</td>\n",
              "      <td>1220</td>\n",
              "      <td>0.527273</td>\n",
              "      <td>2</td>\n",
              "      <td>0.499337</td>\n",
              "      <td>0.506024</td>\n",
              "    </tr>\n",
              "    <tr>\n",
              "      <th>20054</th>\n",
              "      <td>1</td>\n",
              "      <td>1233</td>\n",
              "      <td>1196</td>\n",
              "      <td>0.600000</td>\n",
              "      <td>2</td>\n",
              "      <td>0.499337</td>\n",
              "      <td>0.561694</td>\n",
              "    </tr>\n",
              "    <tr>\n",
              "      <th>20055</th>\n",
              "      <td>1</td>\n",
              "      <td>1219</td>\n",
              "      <td>1286</td>\n",
              "      <td>0.461434</td>\n",
              "      <td>3</td>\n",
              "      <td>0.499337</td>\n",
              "      <td>0.493591</td>\n",
              "    </tr>\n",
              "    <tr>\n",
              "      <th>20056</th>\n",
              "      <td>1</td>\n",
              "      <td>1360</td>\n",
              "      <td>1227</td>\n",
              "      <td>0.555921</td>\n",
              "      <td>4</td>\n",
              "      <td>0.505715</td>\n",
              "      <td>0.561694</td>\n",
              "    </tr>\n",
              "    <tr>\n",
              "      <th>20057</th>\n",
              "      <td>1</td>\n",
              "      <td>1235</td>\n",
              "      <td>1339</td>\n",
              "      <td>0.461434</td>\n",
              "      <td>3</td>\n",
              "      <td>0.499337</td>\n",
              "      <td>0.493591</td>\n",
              "    </tr>\n",
              "  </tbody>\n",
              "</table>\n",
              "<p>20040 rows × 7 columns</p>\n",
              "</div>"
            ],
            "text/plain": [
              "       rated  white_rating  black_rating  ...  opening_ply  white_1move  black_1move\n",
              "0          0          1500          1191  ...            5     0.499337     0.493591\n",
              "1          1          1322          1261  ...            4     0.499337     0.563776\n",
              "2          1          1496          1500  ...            3     0.505715     0.515312\n",
              "3          1          1439          1454  ...            3     0.499337     0.493591\n",
              "4          1          1523          1469  ...            5     0.505715     0.515312\n",
              "...      ...           ...           ...  ...          ...          ...          ...\n",
              "20053      1          1691          1220  ...            2     0.499337     0.506024\n",
              "20054      1          1233          1196  ...            2     0.499337     0.561694\n",
              "20055      1          1219          1286  ...            3     0.499337     0.493591\n",
              "20056      1          1360          1227  ...            4     0.505715     0.561694\n",
              "20057      1          1235          1339  ...            3     0.499337     0.493591\n",
              "\n",
              "[20040 rows x 7 columns]"
            ]
          },
          "metadata": {},
          "execution_count": 43
        }
      ]
    },
    {
      "cell_type": "code",
      "metadata": {
        "id": "2JP034PCunCz"
      },
      "source": [
        "y = df.winner"
      ],
      "execution_count": 44,
      "outputs": []
    },
    {
      "cell_type": "code",
      "metadata": {
        "colab": {
          "base_uri": "https://localhost:8080/"
        },
        "id": "fdd6ibi7unGJ",
        "outputId": "5ba85cf3-af60-468c-c260-ce826765517c"
      },
      "source": [
        "y"
      ],
      "execution_count": 45,
      "outputs": [
        {
          "output_type": "execute_result",
          "data": {
            "text/plain": [
              "0        white\n",
              "1        black\n",
              "2        white\n",
              "3        white\n",
              "4        white\n",
              "         ...  \n",
              "20053    white\n",
              "20054    black\n",
              "20055    white\n",
              "20056    white\n",
              "20057    black\n",
              "Name: winner, Length: 20040, dtype: object"
            ]
          },
          "metadata": {},
          "execution_count": 45
        }
      ]
    },
    {
      "cell_type": "markdown",
      "metadata": {
        "id": "4TRax_rtwi0v"
      },
      "source": [
        "## Train Test Split"
      ]
    },
    {
      "cell_type": "code",
      "metadata": {
        "id": "DsQ0geN4wb7C"
      },
      "source": [
        "from sklearn.model_selection import train_test_split"
      ],
      "execution_count": 46,
      "outputs": []
    },
    {
      "cell_type": "code",
      "metadata": {
        "id": "N-rUgv1bwnYh"
      },
      "source": [
        "X_train, X_test, y_train, y_test = train_test_split(X, y, test_size=0.2, random_state=0, stratify = y)"
      ],
      "execution_count": 47,
      "outputs": []
    },
    {
      "cell_type": "markdown",
      "metadata": {
        "id": "JeEcQPrPwygC"
      },
      "source": [
        "## Feature Scaling"
      ]
    },
    {
      "cell_type": "code",
      "metadata": {
        "id": "iTFmr1k8w05P"
      },
      "source": [
        "from sklearn.preprocessing import StandardScaler"
      ],
      "execution_count": 48,
      "outputs": []
    },
    {
      "cell_type": "code",
      "metadata": {
        "colab": {
          "base_uri": "https://localhost:8080/"
        },
        "id": "y3q-jhvrw01u",
        "outputId": "f73e0031-3a13-4a60-889d-6eeababd4dfa"
      },
      "source": [
        "scaler = StandardScaler()\n",
        "scaler.fit(X_train)"
      ],
      "execution_count": 49,
      "outputs": [
        {
          "output_type": "execute_result",
          "data": {
            "text/plain": [
              "StandardScaler(copy=True, with_mean=True, with_std=True)"
            ]
          },
          "metadata": {},
          "execution_count": 49
        }
      ]
    },
    {
      "cell_type": "code",
      "metadata": {
        "id": "wma21Z8zw00D"
      },
      "source": [
        "X_train_scaled = scaler.transform(X_train)\n",
        "X_test_scaled = scaler.transform(X_test)"
      ],
      "execution_count": 50,
      "outputs": []
    },
    {
      "cell_type": "markdown",
      "metadata": {
        "id": "e6Fc1sPdxWIs"
      },
      "source": [
        "## Model Building"
      ]
    },
    {
      "cell_type": "markdown",
      "metadata": {
        "id": "e38ONZ2DmeA0"
      },
      "source": [
        "### Model 1: Logistic Regression"
      ]
    },
    {
      "cell_type": "code",
      "metadata": {
        "colab": {
          "base_uri": "https://localhost:8080/"
        },
        "id": "M8uoTeJow0xL",
        "outputId": "7b1ea871-2023-4db1-c47c-c5ee4bffefa9"
      },
      "source": [
        "model1 = LogisticRegression(class_weight = 'balanced', max_iter = 1e5)\n",
        "model1.fit(X_train_scaled, y_train)"
      ],
      "execution_count": 51,
      "outputs": [
        {
          "output_type": "execute_result",
          "data": {
            "text/plain": [
              "LogisticRegression(C=1.0, class_weight='balanced', dual=False,\n",
              "                   fit_intercept=True, intercept_scaling=1, l1_ratio=None,\n",
              "                   max_iter=100000.0, multi_class='auto', n_jobs=None,\n",
              "                   penalty='l2', random_state=None, solver='lbfgs', tol=0.0001,\n",
              "                   verbose=0, warm_start=False)"
            ]
          },
          "metadata": {},
          "execution_count": 51
        }
      ]
    },
    {
      "cell_type": "code",
      "metadata": {
        "id": "tUpcaFO-w0uT"
      },
      "source": [
        "y_pred1 = model1.predict(X_test_scaled)"
      ],
      "execution_count": 52,
      "outputs": []
    },
    {
      "cell_type": "code",
      "metadata": {
        "colab": {
          "base_uri": "https://localhost:8080/"
        },
        "id": "1XG7eDoWw0sC",
        "outputId": "7125440b-81f9-4de2-e084-cdeb8e4027fa"
      },
      "source": [
        "print(accuracy_score(y_test, y_pred1))\n",
        "print(precision_score(y_test, y_pred1, average='weighted'))\n",
        "print(recall_score(y_test, y_pred1, average='weighted'))\n",
        "prob_1 = model1.predict_proba(X_test_scaled)"
      ],
      "execution_count": 74,
      "outputs": [
        {
          "output_type": "stream",
          "name": "stdout",
          "text": [
            "0.532435129740519\n",
            "0.6352413679181765\n",
            "0.532435129740519\n"
          ]
        }
      ]
    },
    {
      "cell_type": "code",
      "metadata": {
        "colab": {
          "base_uri": "https://localhost:8080/"
        },
        "id": "RgZPhdUjw0p_",
        "outputId": "34d4351c-01f3-45e5-a4a2-c64239091468"
      },
      "source": [
        "print(classification_report(y_test, y_pred1))"
      ],
      "execution_count": 63,
      "outputs": [
        {
          "output_type": "stream",
          "name": "stdout",
          "text": [
            "              precision    recall  f1-score   support\n",
            "\n",
            "       black       0.66      0.51      0.58      1821\n",
            "        draw       0.08      0.35      0.12       190\n",
            "       white       0.67      0.57      0.61      1997\n",
            "\n",
            "    accuracy                           0.53      4008\n",
            "   macro avg       0.47      0.48      0.44      4008\n",
            "weighted avg       0.64      0.53      0.57      4008\n",
            "\n"
          ]
        }
      ]
    },
    {
      "cell_type": "markdown",
      "metadata": {
        "id": "3av4CnTlrTq0"
      },
      "source": [
        "### Model 2: KNN"
      ]
    },
    {
      "cell_type": "code",
      "metadata": {
        "id": "6po2KLJjw0lv"
      },
      "source": [
        "def classification_model(models):\n",
        "  model = models\n",
        "  model.fit(X_train_scaled, y_train)\n",
        "  y_pred = model.predict(X_test_scaled)\n",
        "  \n",
        "  print(accuracy_score(y_test, y_pred))\n",
        "  print(precision_score(y_test, y_pred, average='weighted'))\n",
        "  print(recall_score(y_test, y_pred, average='weighted'))\n",
        "  prob = model.predict_proba(X_test_scaled)\n",
        "\n",
        "  print(classification_report(y_test, y_pred))\n",
        "  return model, y_pred, prob"
      ],
      "execution_count": 113,
      "outputs": []
    },
    {
      "cell_type": "code",
      "metadata": {
        "colab": {
          "base_uri": "https://localhost:8080/"
        },
        "id": "g8jFtSqRw0ix",
        "outputId": "039b70c2-9555-4095-ce20-106dd1e8d5fe"
      },
      "source": [
        "model2, y_pred2, prob_2 = classification_model(KNeighborsClassifier(2))"
      ],
      "execution_count": 114,
      "outputs": [
        {
          "output_type": "stream",
          "name": "stdout",
          "text": [
            "0.5421656686626747\n",
            "0.5700859908432121\n",
            "0.5421656686626747\n",
            "              precision    recall  f1-score   support\n",
            "\n",
            "       black       0.52      0.76      0.62      1821\n",
            "        draw       0.12      0.12      0.12       190\n",
            "       white       0.66      0.38      0.48      1997\n",
            "\n",
            "    accuracy                           0.54      4008\n",
            "   macro avg       0.43      0.42      0.41      4008\n",
            "weighted avg       0.57      0.54      0.53      4008\n",
            "\n"
          ]
        }
      ]
    },
    {
      "cell_type": "markdown",
      "metadata": {
        "id": "gwTkLT-AtJJr"
      },
      "source": [
        "### Model 3: Gaussian"
      ]
    },
    {
      "cell_type": "code",
      "metadata": {
        "colab": {
          "base_uri": "https://localhost:8080/"
        },
        "id": "GmYooYSsw0L5",
        "outputId": "ab53522d-dba1-4d26-8976-f5fb6b0b643b"
      },
      "source": [
        "model3, y_pred3, prob_3 = classification_model(GaussianNB())"
      ],
      "execution_count": 115,
      "outputs": [
        {
          "output_type": "stream",
          "name": "stdout",
          "text": [
            "0.5865768463073853\n",
            "0.5863736293222751\n",
            "0.5865768463073853\n",
            "              precision    recall  f1-score   support\n",
            "\n",
            "       black       0.65      0.37      0.47      1821\n",
            "        draw       0.11      0.03      0.05       190\n",
            "       white       0.57      0.84      0.68      1997\n",
            "\n",
            "    accuracy                           0.59      4008\n",
            "   macro avg       0.44      0.41      0.40      4008\n",
            "weighted avg       0.59      0.59      0.56      4008\n",
            "\n"
          ]
        }
      ]
    },
    {
      "cell_type": "markdown",
      "metadata": {
        "id": "aq_Fg0TytmsJ"
      },
      "source": [
        "### Model 4: Support Vector Machine"
      ]
    },
    {
      "cell_type": "code",
      "metadata": {
        "colab": {
          "base_uri": "https://localhost:8080/"
        },
        "id": "mbrWwFcdwxWN",
        "outputId": "d4de8c78-d546-41d5-937d-2ddcc580b386"
      },
      "source": [
        "model4, y_pred4, prob_4 = classification_model(SVC(probability=True))"
      ],
      "execution_count": 116,
      "outputs": [
        {
          "output_type": "stream",
          "name": "stdout",
          "text": [
            "0.6387225548902196\n",
            "0.6091035706859208\n",
            "0.6387225548902196\n"
          ]
        },
        {
          "output_type": "stream",
          "name": "stderr",
          "text": [
            "/usr/local/lib/python3.7/dist-packages/sklearn/metrics/_classification.py:1272: UndefinedMetricWarning: Precision is ill-defined and being set to 0.0 in labels with no predicted samples. Use `zero_division` parameter to control this behavior.\n",
            "  _warn_prf(average, modifier, msg_start, len(result))\n"
          ]
        },
        {
          "output_type": "stream",
          "name": "stdout",
          "text": [
            "              precision    recall  f1-score   support\n",
            "\n",
            "       black       0.64      0.58      0.61      1821\n",
            "        draw       0.00      0.00      0.00       190\n",
            "       white       0.63      0.76      0.69      1997\n",
            "\n",
            "    accuracy                           0.64      4008\n",
            "   macro avg       0.43      0.44      0.43      4008\n",
            "weighted avg       0.61      0.64      0.62      4008\n",
            "\n"
          ]
        },
        {
          "output_type": "stream",
          "name": "stderr",
          "text": [
            "/usr/local/lib/python3.7/dist-packages/sklearn/metrics/_classification.py:1272: UndefinedMetricWarning: Precision and F-score are ill-defined and being set to 0.0 in labels with no predicted samples. Use `zero_division` parameter to control this behavior.\n",
            "  _warn_prf(average, modifier, msg_start, len(result))\n"
          ]
        }
      ]
    },
    {
      "cell_type": "markdown",
      "metadata": {
        "id": "vK6Y0SzotvZ5"
      },
      "source": [
        "### Model 5: Decision Tree"
      ]
    },
    {
      "cell_type": "code",
      "metadata": {
        "colab": {
          "base_uri": "https://localhost:8080/"
        },
        "id": "7Sqbknu4tuJp",
        "outputId": "154e8950-47b9-40c2-b340-90fb6b0c88a3"
      },
      "source": [
        "model5, y_pred5, prob_5 = classification_model(DecisionTreeClassifier())"
      ],
      "execution_count": 117,
      "outputs": [
        {
          "output_type": "stream",
          "name": "stdout",
          "text": [
            "0.5778443113772455\n",
            "0.580110546303177\n",
            "0.5778443113772455\n",
            "              precision    recall  f1-score   support\n",
            "\n",
            "       black       0.58      0.57      0.58      1821\n",
            "        draw       0.15      0.17      0.16       190\n",
            "       white       0.62      0.62      0.62      1997\n",
            "\n",
            "    accuracy                           0.58      4008\n",
            "   macro avg       0.45      0.45      0.45      4008\n",
            "weighted avg       0.58      0.58      0.58      4008\n",
            "\n"
          ]
        }
      ]
    },
    {
      "cell_type": "markdown",
      "metadata": {
        "id": "MlwYXdMAuqFl"
      },
      "source": [
        "### Model 6: Random Forest Classifier"
      ]
    },
    {
      "cell_type": "code",
      "metadata": {
        "colab": {
          "base_uri": "https://localhost:8080/"
        },
        "id": "7ynlMjNgupLP",
        "outputId": "dac49faa-7232-4885-de57-68ebd564da05"
      },
      "source": [
        "model6, y_pred6, prob_6 = classification_model(RandomForestClassifier(class_weight='balanced'))"
      ],
      "execution_count": 118,
      "outputs": [
        {
          "output_type": "stream",
          "name": "stdout",
          "text": [
            "0.6359780439121756\n",
            "0.6321666129621943\n",
            "0.6359780439121756\n",
            "              precision    recall  f1-score   support\n",
            "\n",
            "       black       0.62      0.62      0.62      1821\n",
            "        draw       0.55      0.12      0.20       190\n",
            "       white       0.65      0.70      0.67      1997\n",
            "\n",
            "    accuracy                           0.64      4008\n",
            "   macro avg       0.61      0.48      0.50      4008\n",
            "weighted avg       0.63      0.64      0.63      4008\n",
            "\n"
          ]
        }
      ]
    },
    {
      "cell_type": "markdown",
      "metadata": {
        "id": "9HwYdhTwu2ye"
      },
      "source": [
        "### Model 7: AdaBoost"
      ]
    },
    {
      "cell_type": "code",
      "metadata": {
        "colab": {
          "base_uri": "https://localhost:8080/"
        },
        "id": "fIfGKKDguMNf",
        "outputId": "033dffa5-5c5b-43a7-a249-ff66fcdabc4b"
      },
      "source": [
        "model7, y_pred7, prob_7 = classification_model(AdaBoostClassifier())"
      ],
      "execution_count": 119,
      "outputs": [
        {
          "output_type": "stream",
          "name": "stdout",
          "text": [
            "0.6299900199600799\n",
            "0.6015463797649243\n",
            "0.6299900199600799\n",
            "              precision    recall  f1-score   support\n",
            "\n",
            "       black       0.64      0.56      0.60      1821\n",
            "        draw       0.00      0.00      0.00       190\n",
            "       white       0.62      0.75      0.68      1997\n",
            "\n",
            "    accuracy                           0.63      4008\n",
            "   macro avg       0.42      0.44      0.43      4008\n",
            "weighted avg       0.60      0.63      0.61      4008\n",
            "\n"
          ]
        }
      ]
    },
    {
      "cell_type": "markdown",
      "metadata": {
        "id": "xKy9ogLJvCGD"
      },
      "source": [
        "### Model 8: XGBoost"
      ]
    },
    {
      "cell_type": "code",
      "metadata": {
        "colab": {
          "base_uri": "https://localhost:8080/"
        },
        "id": "hYq49mHCu-pl",
        "outputId": "09298aa7-f5ff-496e-9bc9-21d1ec344daf"
      },
      "source": [
        "model8, y_pred8, prob_8 = classification_model(XGBClassifier())"
      ],
      "execution_count": 120,
      "outputs": [
        {
          "output_type": "stream",
          "name": "stdout",
          "text": [
            "0.6347305389221557\n",
            "0.604142980627914\n",
            "0.6347305389221557\n",
            "              precision    recall  f1-score   support\n",
            "\n",
            "       black       0.63      0.61      0.62      1821\n",
            "        draw       0.00      0.00      0.00       190\n",
            "       white       0.64      0.72      0.68      1997\n",
            "\n",
            "    accuracy                           0.63      4008\n",
            "   macro avg       0.42      0.44      0.43      4008\n",
            "weighted avg       0.60      0.63      0.62      4008\n",
            "\n"
          ]
        },
        {
          "output_type": "stream",
          "name": "stderr",
          "text": [
            "/usr/local/lib/python3.7/dist-packages/sklearn/metrics/_classification.py:1272: UndefinedMetricWarning: Precision is ill-defined and being set to 0.0 in labels with no predicted samples. Use `zero_division` parameter to control this behavior.\n",
            "  _warn_prf(average, modifier, msg_start, len(result))\n",
            "/usr/local/lib/python3.7/dist-packages/sklearn/metrics/_classification.py:1272: UndefinedMetricWarning: Precision and F-score are ill-defined and being set to 0.0 in labels with no predicted samples. Use `zero_division` parameter to control this behavior.\n",
            "  _warn_prf(average, modifier, msg_start, len(result))\n"
          ]
        }
      ]
    },
    {
      "cell_type": "markdown",
      "metadata": {
        "id": "282CXvflwKZb"
      },
      "source": [
        "### Model 9: LGBM"
      ]
    },
    {
      "cell_type": "code",
      "metadata": {
        "colab": {
          "base_uri": "https://localhost:8080/"
        },
        "id": "498i8nYyvtnr",
        "outputId": "349a5c4e-3774-4268-84ef-07f84b5e6f40"
      },
      "source": [
        "model9, y_pred9, prob_9 = classification_model(LGBMClassifier())"
      ],
      "execution_count": 121,
      "outputs": [
        {
          "output_type": "stream",
          "name": "stdout",
          "text": [
            "0.6372255489021956\n",
            "0.6406986031107117\n",
            "0.6372255489021956\n",
            "              precision    recall  f1-score   support\n",
            "\n",
            "       black       0.63      0.61      0.62      1821\n",
            "        draw       0.73      0.04      0.08       190\n",
            "       white       0.64      0.72      0.68      1997\n",
            "\n",
            "    accuracy                           0.64      4008\n",
            "   macro avg       0.67      0.46      0.46      4008\n",
            "weighted avg       0.64      0.64      0.62      4008\n",
            "\n"
          ]
        }
      ]
    },
    {
      "cell_type": "markdown",
      "metadata": {
        "id": "GnG65rU7wZhS"
      },
      "source": [
        "### Model 10: CatBoost"
      ]
    },
    {
      "cell_type": "code",
      "metadata": {
        "colab": {
          "base_uri": "https://localhost:8080/"
        },
        "id": "ljBOmGJlwPbY",
        "outputId": "7725e7a1-e901-440a-e87d-285b9dad60b9"
      },
      "source": [
        "model10, y_pred10, prob_10 = classification_model(CatBoostClassifier())"
      ],
      "execution_count": 122,
      "outputs": [
        {
          "output_type": "stream",
          "name": "stdout",
          "text": [
            "Learning rate set to 0.091154\n",
            "0:\tlearn: 1.0556118\ttotal: 10.4ms\tremaining: 10.4s\n",
            "1:\tlearn: 1.0209798\ttotal: 20ms\tremaining: 9.96s\n",
            "2:\tlearn: 0.9916765\ttotal: 29.7ms\tremaining: 9.88s\n",
            "3:\tlearn: 0.9652201\ttotal: 39.2ms\tremaining: 9.76s\n",
            "4:\tlearn: 0.9416436\ttotal: 49.1ms\tremaining: 9.76s\n",
            "5:\tlearn: 0.9217090\ttotal: 58.6ms\tremaining: 9.71s\n",
            "6:\tlearn: 0.9041655\ttotal: 68.4ms\tremaining: 9.7s\n",
            "7:\tlearn: 0.8888193\ttotal: 77.9ms\tremaining: 9.66s\n",
            "8:\tlearn: 0.8753360\ttotal: 87.9ms\tremaining: 9.68s\n",
            "9:\tlearn: 0.8624015\ttotal: 97.7ms\tremaining: 9.67s\n",
            "10:\tlearn: 0.8515163\ttotal: 107ms\tremaining: 9.64s\n",
            "11:\tlearn: 0.8425491\ttotal: 117ms\tremaining: 9.63s\n",
            "12:\tlearn: 0.8344414\ttotal: 127ms\tremaining: 9.62s\n",
            "13:\tlearn: 0.8269163\ttotal: 137ms\tremaining: 9.64s\n",
            "14:\tlearn: 0.8195184\ttotal: 150ms\tremaining: 9.86s\n",
            "15:\tlearn: 0.8133649\ttotal: 161ms\tremaining: 9.88s\n",
            "16:\tlearn: 0.8078656\ttotal: 171ms\tremaining: 9.89s\n",
            "17:\tlearn: 0.8029500\ttotal: 181ms\tremaining: 9.86s\n",
            "18:\tlearn: 0.7986529\ttotal: 191ms\tremaining: 9.84s\n",
            "19:\tlearn: 0.7952046\ttotal: 203ms\tremaining: 9.95s\n",
            "20:\tlearn: 0.7918032\ttotal: 213ms\tremaining: 9.93s\n",
            "21:\tlearn: 0.7891958\ttotal: 223ms\tremaining: 9.9s\n",
            "22:\tlearn: 0.7858971\ttotal: 233ms\tremaining: 9.89s\n",
            "23:\tlearn: 0.7832432\ttotal: 242ms\tremaining: 9.86s\n",
            "24:\tlearn: 0.7810172\ttotal: 252ms\tremaining: 9.84s\n",
            "25:\tlearn: 0.7789385\ttotal: 262ms\tremaining: 9.81s\n",
            "26:\tlearn: 0.7770165\ttotal: 272ms\tremaining: 9.79s\n",
            "27:\tlearn: 0.7753857\ttotal: 283ms\tremaining: 9.82s\n",
            "28:\tlearn: 0.7740572\ttotal: 292ms\tremaining: 9.79s\n",
            "29:\tlearn: 0.7726732\ttotal: 302ms\tremaining: 9.77s\n",
            "30:\tlearn: 0.7713435\ttotal: 312ms\tremaining: 9.77s\n",
            "31:\tlearn: 0.7703068\ttotal: 325ms\tremaining: 9.83s\n",
            "32:\tlearn: 0.7693822\ttotal: 340ms\tremaining: 9.97s\n",
            "33:\tlearn: 0.7683673\ttotal: 354ms\tremaining: 10.1s\n",
            "34:\tlearn: 0.7673307\ttotal: 366ms\tremaining: 10.1s\n",
            "35:\tlearn: 0.7663995\ttotal: 376ms\tremaining: 10.1s\n",
            "36:\tlearn: 0.7656081\ttotal: 386ms\tremaining: 10.1s\n",
            "37:\tlearn: 0.7648456\ttotal: 397ms\tremaining: 10s\n",
            "38:\tlearn: 0.7643593\ttotal: 411ms\tremaining: 10.1s\n",
            "39:\tlearn: 0.7641346\ttotal: 419ms\tremaining: 10.1s\n",
            "40:\tlearn: 0.7635416\ttotal: 428ms\tremaining: 10s\n",
            "41:\tlearn: 0.7629654\ttotal: 439ms\tremaining: 10s\n",
            "42:\tlearn: 0.7624636\ttotal: 449ms\tremaining: 9.98s\n",
            "43:\tlearn: 0.7619546\ttotal: 458ms\tremaining: 9.96s\n",
            "44:\tlearn: 0.7614686\ttotal: 467ms\tremaining: 9.92s\n",
            "45:\tlearn: 0.7609890\ttotal: 477ms\tremaining: 9.89s\n",
            "46:\tlearn: 0.7605587\ttotal: 487ms\tremaining: 9.87s\n",
            "47:\tlearn: 0.7598637\ttotal: 497ms\tremaining: 9.85s\n",
            "48:\tlearn: 0.7594818\ttotal: 506ms\tremaining: 9.82s\n",
            "49:\tlearn: 0.7591554\ttotal: 516ms\tremaining: 9.8s\n",
            "50:\tlearn: 0.7588126\ttotal: 526ms\tremaining: 9.79s\n",
            "51:\tlearn: 0.7583664\ttotal: 536ms\tremaining: 9.77s\n",
            "52:\tlearn: 0.7578001\ttotal: 545ms\tremaining: 9.74s\n",
            "53:\tlearn: 0.7574614\ttotal: 559ms\tremaining: 9.79s\n",
            "54:\tlearn: 0.7571186\ttotal: 570ms\tremaining: 9.79s\n",
            "55:\tlearn: 0.7566944\ttotal: 580ms\tremaining: 9.77s\n",
            "56:\tlearn: 0.7562549\ttotal: 590ms\tremaining: 9.76s\n",
            "57:\tlearn: 0.7559909\ttotal: 599ms\tremaining: 9.73s\n",
            "58:\tlearn: 0.7556425\ttotal: 612ms\tremaining: 9.77s\n",
            "59:\tlearn: 0.7551950\ttotal: 623ms\tremaining: 9.76s\n",
            "60:\tlearn: 0.7547808\ttotal: 633ms\tremaining: 9.74s\n",
            "61:\tlearn: 0.7544997\ttotal: 643ms\tremaining: 9.72s\n",
            "62:\tlearn: 0.7540870\ttotal: 653ms\tremaining: 9.71s\n",
            "63:\tlearn: 0.7539064\ttotal: 662ms\tremaining: 9.68s\n",
            "64:\tlearn: 0.7536357\ttotal: 671ms\tremaining: 9.66s\n",
            "65:\tlearn: 0.7534005\ttotal: 681ms\tremaining: 9.64s\n",
            "66:\tlearn: 0.7532075\ttotal: 691ms\tremaining: 9.62s\n",
            "67:\tlearn: 0.7529573\ttotal: 701ms\tremaining: 9.6s\n",
            "68:\tlearn: 0.7526546\ttotal: 710ms\tremaining: 9.58s\n",
            "69:\tlearn: 0.7521949\ttotal: 720ms\tremaining: 9.56s\n",
            "70:\tlearn: 0.7519989\ttotal: 730ms\tremaining: 9.55s\n",
            "71:\tlearn: 0.7517782\ttotal: 739ms\tremaining: 9.53s\n",
            "72:\tlearn: 0.7515064\ttotal: 749ms\tremaining: 9.51s\n",
            "73:\tlearn: 0.7509111\ttotal: 763ms\tremaining: 9.55s\n",
            "74:\tlearn: 0.7505304\ttotal: 773ms\tremaining: 9.54s\n",
            "75:\tlearn: 0.7501633\ttotal: 784ms\tremaining: 9.53s\n",
            "76:\tlearn: 0.7497885\ttotal: 794ms\tremaining: 9.51s\n",
            "77:\tlearn: 0.7495386\ttotal: 804ms\tremaining: 9.5s\n",
            "78:\tlearn: 0.7491803\ttotal: 817ms\tremaining: 9.53s\n",
            "79:\tlearn: 0.7489098\ttotal: 827ms\tremaining: 9.51s\n",
            "80:\tlearn: 0.7487209\ttotal: 837ms\tremaining: 9.49s\n",
            "81:\tlearn: 0.7482830\ttotal: 847ms\tremaining: 9.48s\n",
            "82:\tlearn: 0.7479357\ttotal: 857ms\tremaining: 9.47s\n",
            "83:\tlearn: 0.7477032\ttotal: 871ms\tremaining: 9.5s\n",
            "84:\tlearn: 0.7475572\ttotal: 881ms\tremaining: 9.48s\n",
            "85:\tlearn: 0.7472561\ttotal: 896ms\tremaining: 9.52s\n",
            "86:\tlearn: 0.7469847\ttotal: 906ms\tremaining: 9.5s\n",
            "87:\tlearn: 0.7467176\ttotal: 917ms\tremaining: 9.5s\n",
            "88:\tlearn: 0.7465844\ttotal: 926ms\tremaining: 9.48s\n",
            "89:\tlearn: 0.7462751\ttotal: 936ms\tremaining: 9.47s\n",
            "90:\tlearn: 0.7460611\ttotal: 947ms\tremaining: 9.46s\n",
            "91:\tlearn: 0.7459775\ttotal: 956ms\tremaining: 9.44s\n",
            "92:\tlearn: 0.7456904\ttotal: 977ms\tremaining: 9.53s\n",
            "93:\tlearn: 0.7454034\ttotal: 991ms\tremaining: 9.55s\n",
            "94:\tlearn: 0.7451951\ttotal: 1s\tremaining: 9.54s\n",
            "95:\tlearn: 0.7450431\ttotal: 1.01s\tremaining: 9.52s\n",
            "96:\tlearn: 0.7447820\ttotal: 1.02s\tremaining: 9.54s\n",
            "97:\tlearn: 0.7445230\ttotal: 1.03s\tremaining: 9.53s\n",
            "98:\tlearn: 0.7443223\ttotal: 1.04s\tremaining: 9.52s\n",
            "99:\tlearn: 0.7442089\ttotal: 1.05s\tremaining: 9.49s\n",
            "100:\tlearn: 0.7440964\ttotal: 1.07s\tremaining: 9.51s\n",
            "101:\tlearn: 0.7438526\ttotal: 1.08s\tremaining: 9.51s\n",
            "102:\tlearn: 0.7435511\ttotal: 1.09s\tremaining: 9.5s\n",
            "103:\tlearn: 0.7433947\ttotal: 1.1s\tremaining: 9.48s\n",
            "104:\tlearn: 0.7430868\ttotal: 1.11s\tremaining: 9.47s\n",
            "105:\tlearn: 0.7428089\ttotal: 1.12s\tremaining: 9.45s\n",
            "106:\tlearn: 0.7425391\ttotal: 1.13s\tremaining: 9.44s\n",
            "107:\tlearn: 0.7421468\ttotal: 1.14s\tremaining: 9.43s\n",
            "108:\tlearn: 0.7418950\ttotal: 1.15s\tremaining: 9.41s\n",
            "109:\tlearn: 0.7417233\ttotal: 1.16s\tremaining: 9.39s\n",
            "110:\tlearn: 0.7413626\ttotal: 1.17s\tremaining: 9.37s\n",
            "111:\tlearn: 0.7410858\ttotal: 1.18s\tremaining: 9.39s\n",
            "112:\tlearn: 0.7408908\ttotal: 1.19s\tremaining: 9.38s\n",
            "113:\tlearn: 0.7406187\ttotal: 1.2s\tremaining: 9.36s\n",
            "114:\tlearn: 0.7404873\ttotal: 1.21s\tremaining: 9.34s\n",
            "115:\tlearn: 0.7401882\ttotal: 1.23s\tremaining: 9.36s\n",
            "116:\tlearn: 0.7399888\ttotal: 1.24s\tremaining: 9.34s\n",
            "117:\tlearn: 0.7398747\ttotal: 1.25s\tremaining: 9.32s\n",
            "118:\tlearn: 0.7397145\ttotal: 1.26s\tremaining: 9.3s\n",
            "119:\tlearn: 0.7393898\ttotal: 1.27s\tremaining: 9.29s\n",
            "120:\tlearn: 0.7393085\ttotal: 1.28s\tremaining: 9.27s\n",
            "121:\tlearn: 0.7391633\ttotal: 1.28s\tremaining: 9.25s\n",
            "122:\tlearn: 0.7386838\ttotal: 1.3s\tremaining: 9.24s\n",
            "123:\tlearn: 0.7383360\ttotal: 1.31s\tremaining: 9.23s\n",
            "124:\tlearn: 0.7381865\ttotal: 1.32s\tremaining: 9.21s\n",
            "125:\tlearn: 0.7380604\ttotal: 1.33s\tremaining: 9.2s\n",
            "126:\tlearn: 0.7378331\ttotal: 1.34s\tremaining: 9.19s\n",
            "127:\tlearn: 0.7375625\ttotal: 1.35s\tremaining: 9.17s\n",
            "128:\tlearn: 0.7373854\ttotal: 1.36s\tremaining: 9.16s\n",
            "129:\tlearn: 0.7371868\ttotal: 1.37s\tremaining: 9.14s\n",
            "130:\tlearn: 0.7369512\ttotal: 1.38s\tremaining: 9.13s\n",
            "131:\tlearn: 0.7367220\ttotal: 1.39s\tremaining: 9.16s\n",
            "132:\tlearn: 0.7365268\ttotal: 1.4s\tremaining: 9.16s\n",
            "133:\tlearn: 0.7363725\ttotal: 1.42s\tremaining: 9.15s\n",
            "134:\tlearn: 0.7361862\ttotal: 1.43s\tremaining: 9.15s\n",
            "135:\tlearn: 0.7359559\ttotal: 1.44s\tremaining: 9.15s\n",
            "136:\tlearn: 0.7357418\ttotal: 1.46s\tremaining: 9.18s\n",
            "137:\tlearn: 0.7354541\ttotal: 1.48s\tremaining: 9.24s\n",
            "138:\tlearn: 0.7351888\ttotal: 1.49s\tremaining: 9.23s\n",
            "139:\tlearn: 0.7350208\ttotal: 1.5s\tremaining: 9.23s\n",
            "140:\tlearn: 0.7346935\ttotal: 1.51s\tremaining: 9.21s\n",
            "141:\tlearn: 0.7345664\ttotal: 1.52s\tremaining: 9.2s\n",
            "142:\tlearn: 0.7343039\ttotal: 1.53s\tremaining: 9.19s\n",
            "143:\tlearn: 0.7341215\ttotal: 1.54s\tremaining: 9.19s\n",
            "144:\tlearn: 0.7339720\ttotal: 1.56s\tremaining: 9.19s\n",
            "145:\tlearn: 0.7337638\ttotal: 1.57s\tremaining: 9.18s\n",
            "146:\tlearn: 0.7333293\ttotal: 1.58s\tremaining: 9.16s\n",
            "147:\tlearn: 0.7330519\ttotal: 1.59s\tremaining: 9.15s\n",
            "148:\tlearn: 0.7329186\ttotal: 1.6s\tremaining: 9.15s\n",
            "149:\tlearn: 0.7326225\ttotal: 1.61s\tremaining: 9.14s\n",
            "150:\tlearn: 0.7324228\ttotal: 1.62s\tremaining: 9.13s\n",
            "151:\tlearn: 0.7322092\ttotal: 1.64s\tremaining: 9.13s\n",
            "152:\tlearn: 0.7317687\ttotal: 1.65s\tremaining: 9.11s\n",
            "153:\tlearn: 0.7315008\ttotal: 1.66s\tremaining: 9.1s\n",
            "154:\tlearn: 0.7313373\ttotal: 1.67s\tremaining: 9.08s\n",
            "155:\tlearn: 0.7309102\ttotal: 1.68s\tremaining: 9.07s\n",
            "156:\tlearn: 0.7307004\ttotal: 1.69s\tremaining: 9.05s\n",
            "157:\tlearn: 0.7306043\ttotal: 1.7s\tremaining: 9.04s\n",
            "158:\tlearn: 0.7303484\ttotal: 1.71s\tremaining: 9.02s\n",
            "159:\tlearn: 0.7302106\ttotal: 1.72s\tremaining: 9.01s\n",
            "160:\tlearn: 0.7298928\ttotal: 1.73s\tremaining: 8.99s\n",
            "161:\tlearn: 0.7296179\ttotal: 1.74s\tremaining: 8.98s\n",
            "162:\tlearn: 0.7293293\ttotal: 1.75s\tremaining: 8.97s\n",
            "163:\tlearn: 0.7291378\ttotal: 1.76s\tremaining: 8.95s\n",
            "164:\tlearn: 0.7288694\ttotal: 1.77s\tremaining: 8.94s\n",
            "165:\tlearn: 0.7286599\ttotal: 1.78s\tremaining: 8.93s\n",
            "166:\tlearn: 0.7284420\ttotal: 1.79s\tremaining: 8.91s\n",
            "167:\tlearn: 0.7283061\ttotal: 1.8s\tremaining: 8.89s\n",
            "168:\tlearn: 0.7280832\ttotal: 1.81s\tremaining: 8.9s\n",
            "169:\tlearn: 0.7279631\ttotal: 1.82s\tremaining: 8.9s\n",
            "170:\tlearn: 0.7276604\ttotal: 1.83s\tremaining: 8.89s\n",
            "171:\tlearn: 0.7275633\ttotal: 1.84s\tremaining: 8.88s\n",
            "172:\tlearn: 0.7274165\ttotal: 1.85s\tremaining: 8.87s\n",
            "173:\tlearn: 0.7271718\ttotal: 1.87s\tremaining: 8.86s\n",
            "174:\tlearn: 0.7270002\ttotal: 1.88s\tremaining: 8.85s\n",
            "175:\tlearn: 0.7268182\ttotal: 1.89s\tremaining: 8.84s\n",
            "176:\tlearn: 0.7266755\ttotal: 1.9s\tremaining: 8.84s\n",
            "177:\tlearn: 0.7264947\ttotal: 1.91s\tremaining: 8.84s\n",
            "178:\tlearn: 0.7263066\ttotal: 1.92s\tremaining: 8.82s\n",
            "179:\tlearn: 0.7260907\ttotal: 1.93s\tremaining: 8.81s\n",
            "180:\tlearn: 0.7259274\ttotal: 1.94s\tremaining: 8.8s\n",
            "181:\tlearn: 0.7257735\ttotal: 1.96s\tremaining: 8.82s\n",
            "182:\tlearn: 0.7254911\ttotal: 1.97s\tremaining: 8.81s\n",
            "183:\tlearn: 0.7252026\ttotal: 1.98s\tremaining: 8.8s\n",
            "184:\tlearn: 0.7250076\ttotal: 1.99s\tremaining: 8.78s\n",
            "185:\tlearn: 0.7247821\ttotal: 2s\tremaining: 8.78s\n",
            "186:\tlearn: 0.7245426\ttotal: 2.03s\tremaining: 8.81s\n",
            "187:\tlearn: 0.7244183\ttotal: 2.04s\tremaining: 8.83s\n",
            "188:\tlearn: 0.7242931\ttotal: 2.06s\tremaining: 8.82s\n",
            "189:\tlearn: 0.7241522\ttotal: 2.06s\tremaining: 8.8s\n",
            "190:\tlearn: 0.7240040\ttotal: 2.08s\tremaining: 8.81s\n",
            "191:\tlearn: 0.7238637\ttotal: 2.09s\tremaining: 8.79s\n",
            "192:\tlearn: 0.7235801\ttotal: 2.1s\tremaining: 8.78s\n",
            "193:\tlearn: 0.7234235\ttotal: 2.11s\tremaining: 8.77s\n",
            "194:\tlearn: 0.7232892\ttotal: 2.12s\tremaining: 8.75s\n",
            "195:\tlearn: 0.7230774\ttotal: 2.13s\tremaining: 8.74s\n",
            "196:\tlearn: 0.7229301\ttotal: 2.14s\tremaining: 8.73s\n",
            "197:\tlearn: 0.7227867\ttotal: 2.15s\tremaining: 8.72s\n",
            "198:\tlearn: 0.7225266\ttotal: 2.16s\tremaining: 8.71s\n",
            "199:\tlearn: 0.7224103\ttotal: 2.17s\tremaining: 8.69s\n",
            "200:\tlearn: 0.7222166\ttotal: 2.18s\tremaining: 8.68s\n",
            "201:\tlearn: 0.7220033\ttotal: 2.19s\tremaining: 8.66s\n",
            "202:\tlearn: 0.7218488\ttotal: 2.2s\tremaining: 8.65s\n",
            "203:\tlearn: 0.7216910\ttotal: 2.22s\tremaining: 8.65s\n",
            "204:\tlearn: 0.7215743\ttotal: 2.23s\tremaining: 8.64s\n",
            "205:\tlearn: 0.7214241\ttotal: 2.24s\tremaining: 8.63s\n",
            "206:\tlearn: 0.7212956\ttotal: 2.25s\tremaining: 8.62s\n",
            "207:\tlearn: 0.7210900\ttotal: 2.26s\tremaining: 8.6s\n",
            "208:\tlearn: 0.7209354\ttotal: 2.27s\tremaining: 8.59s\n",
            "209:\tlearn: 0.7206752\ttotal: 2.28s\tremaining: 8.58s\n",
            "210:\tlearn: 0.7204306\ttotal: 2.29s\tremaining: 8.57s\n",
            "211:\tlearn: 0.7200370\ttotal: 2.31s\tremaining: 8.58s\n",
            "212:\tlearn: 0.7197932\ttotal: 2.32s\tremaining: 8.56s\n",
            "213:\tlearn: 0.7196027\ttotal: 2.33s\tremaining: 8.55s\n",
            "214:\tlearn: 0.7195008\ttotal: 2.34s\tremaining: 8.53s\n",
            "215:\tlearn: 0.7193794\ttotal: 2.35s\tremaining: 8.52s\n",
            "216:\tlearn: 0.7192641\ttotal: 2.36s\tremaining: 8.51s\n",
            "217:\tlearn: 0.7191171\ttotal: 2.37s\tremaining: 8.49s\n",
            "218:\tlearn: 0.7189072\ttotal: 2.38s\tremaining: 8.48s\n",
            "219:\tlearn: 0.7186662\ttotal: 2.39s\tremaining: 8.47s\n",
            "220:\tlearn: 0.7183367\ttotal: 2.4s\tremaining: 8.45s\n",
            "221:\tlearn: 0.7180362\ttotal: 2.41s\tremaining: 8.44s\n",
            "222:\tlearn: 0.7178178\ttotal: 2.42s\tremaining: 8.44s\n",
            "223:\tlearn: 0.7175761\ttotal: 2.44s\tremaining: 8.44s\n",
            "224:\tlearn: 0.7174148\ttotal: 2.44s\tremaining: 8.42s\n",
            "225:\tlearn: 0.7172930\ttotal: 2.45s\tremaining: 8.41s\n",
            "226:\tlearn: 0.7170703\ttotal: 2.46s\tremaining: 8.39s\n",
            "227:\tlearn: 0.7167828\ttotal: 2.47s\tremaining: 8.38s\n",
            "228:\tlearn: 0.7166452\ttotal: 2.48s\tremaining: 8.36s\n",
            "229:\tlearn: 0.7165235\ttotal: 2.49s\tremaining: 8.35s\n",
            "230:\tlearn: 0.7164238\ttotal: 2.51s\tremaining: 8.35s\n",
            "231:\tlearn: 0.7162547\ttotal: 2.52s\tremaining: 8.34s\n",
            "232:\tlearn: 0.7161441\ttotal: 2.53s\tremaining: 8.32s\n",
            "233:\tlearn: 0.7159857\ttotal: 2.54s\tremaining: 8.3s\n",
            "234:\tlearn: 0.7157818\ttotal: 2.55s\tremaining: 8.29s\n",
            "235:\tlearn: 0.7156399\ttotal: 2.56s\tremaining: 8.28s\n",
            "236:\tlearn: 0.7153385\ttotal: 2.57s\tremaining: 8.26s\n",
            "237:\tlearn: 0.7151844\ttotal: 2.58s\tremaining: 8.25s\n",
            "238:\tlearn: 0.7150870\ttotal: 2.58s\tremaining: 8.23s\n",
            "239:\tlearn: 0.7148193\ttotal: 2.6s\tremaining: 8.22s\n",
            "240:\tlearn: 0.7146664\ttotal: 2.6s\tremaining: 8.21s\n",
            "241:\tlearn: 0.7145023\ttotal: 2.62s\tremaining: 8.22s\n",
            "242:\tlearn: 0.7142983\ttotal: 2.64s\tremaining: 8.21s\n",
            "243:\tlearn: 0.7141910\ttotal: 2.65s\tremaining: 8.2s\n",
            "244:\tlearn: 0.7140454\ttotal: 2.66s\tremaining: 8.19s\n",
            "245:\tlearn: 0.7138722\ttotal: 2.67s\tremaining: 8.17s\n",
            "246:\tlearn: 0.7137584\ttotal: 2.67s\tremaining: 8.15s\n",
            "247:\tlearn: 0.7134360\ttotal: 2.69s\tremaining: 8.14s\n",
            "248:\tlearn: 0.7131234\ttotal: 2.69s\tremaining: 8.13s\n",
            "249:\tlearn: 0.7130131\ttotal: 2.71s\tremaining: 8.13s\n",
            "250:\tlearn: 0.7127649\ttotal: 2.72s\tremaining: 8.12s\n",
            "251:\tlearn: 0.7125808\ttotal: 2.73s\tremaining: 8.11s\n",
            "252:\tlearn: 0.7124679\ttotal: 2.74s\tremaining: 8.1s\n",
            "253:\tlearn: 0.7123551\ttotal: 2.75s\tremaining: 8.08s\n",
            "254:\tlearn: 0.7122114\ttotal: 2.76s\tremaining: 8.07s\n",
            "255:\tlearn: 0.7120323\ttotal: 2.77s\tremaining: 8.06s\n",
            "256:\tlearn: 0.7118624\ttotal: 2.78s\tremaining: 8.04s\n",
            "257:\tlearn: 0.7116381\ttotal: 2.79s\tremaining: 8.03s\n",
            "258:\tlearn: 0.7115041\ttotal: 2.8s\tremaining: 8.02s\n",
            "259:\tlearn: 0.7112689\ttotal: 2.81s\tremaining: 8.01s\n",
            "260:\tlearn: 0.7110487\ttotal: 2.83s\tremaining: 8.01s\n",
            "261:\tlearn: 0.7109014\ttotal: 2.84s\tremaining: 8s\n",
            "262:\tlearn: 0.7107500\ttotal: 2.85s\tremaining: 7.98s\n",
            "263:\tlearn: 0.7105903\ttotal: 2.86s\tremaining: 7.97s\n",
            "264:\tlearn: 0.7104460\ttotal: 2.87s\tremaining: 7.96s\n",
            "265:\tlearn: 0.7102897\ttotal: 2.88s\tremaining: 7.95s\n",
            "266:\tlearn: 0.7100955\ttotal: 2.89s\tremaining: 7.93s\n",
            "267:\tlearn: 0.7099740\ttotal: 2.9s\tremaining: 7.92s\n",
            "268:\tlearn: 0.7097692\ttotal: 2.91s\tremaining: 7.91s\n",
            "269:\tlearn: 0.7095755\ttotal: 2.92s\tremaining: 7.91s\n",
            "270:\tlearn: 0.7094022\ttotal: 2.94s\tremaining: 7.91s\n",
            "271:\tlearn: 0.7093103\ttotal: 2.95s\tremaining: 7.89s\n",
            "272:\tlearn: 0.7091834\ttotal: 2.96s\tremaining: 7.88s\n",
            "273:\tlearn: 0.7090103\ttotal: 2.97s\tremaining: 7.87s\n",
            "274:\tlearn: 0.7088216\ttotal: 2.98s\tremaining: 7.85s\n",
            "275:\tlearn: 0.7085946\ttotal: 2.99s\tremaining: 7.84s\n",
            "276:\tlearn: 0.7084491\ttotal: 3s\tremaining: 7.83s\n",
            "277:\tlearn: 0.7082739\ttotal: 3.01s\tremaining: 7.82s\n",
            "278:\tlearn: 0.7081773\ttotal: 3.02s\tremaining: 7.82s\n",
            "279:\tlearn: 0.7081046\ttotal: 3.04s\tremaining: 7.8s\n",
            "280:\tlearn: 0.7079356\ttotal: 3.04s\tremaining: 7.79s\n",
            "281:\tlearn: 0.7077336\ttotal: 3.06s\tremaining: 7.78s\n",
            "282:\tlearn: 0.7076134\ttotal: 3.06s\tremaining: 7.76s\n",
            "283:\tlearn: 0.7073906\ttotal: 3.07s\tremaining: 7.75s\n",
            "284:\tlearn: 0.7072269\ttotal: 3.08s\tremaining: 7.74s\n",
            "285:\tlearn: 0.7070851\ttotal: 3.09s\tremaining: 7.72s\n",
            "286:\tlearn: 0.7070021\ttotal: 3.1s\tremaining: 7.71s\n",
            "287:\tlearn: 0.7067992\ttotal: 3.12s\tremaining: 7.71s\n",
            "288:\tlearn: 0.7067098\ttotal: 3.13s\tremaining: 7.7s\n",
            "289:\tlearn: 0.7065030\ttotal: 3.14s\tremaining: 7.69s\n",
            "290:\tlearn: 0.7062404\ttotal: 3.15s\tremaining: 7.67s\n",
            "291:\tlearn: 0.7060688\ttotal: 3.16s\tremaining: 7.66s\n",
            "292:\tlearn: 0.7059496\ttotal: 3.17s\tremaining: 7.65s\n",
            "293:\tlearn: 0.7058017\ttotal: 3.18s\tremaining: 7.64s\n",
            "294:\tlearn: 0.7056796\ttotal: 3.19s\tremaining: 7.64s\n",
            "295:\tlearn: 0.7054822\ttotal: 3.21s\tremaining: 7.63s\n",
            "296:\tlearn: 0.7053481\ttotal: 3.22s\tremaining: 7.61s\n",
            "297:\tlearn: 0.7052336\ttotal: 3.23s\tremaining: 7.61s\n",
            "298:\tlearn: 0.7049990\ttotal: 3.24s\tremaining: 7.6s\n",
            "299:\tlearn: 0.7047846\ttotal: 3.25s\tremaining: 7.59s\n",
            "300:\tlearn: 0.7045257\ttotal: 3.26s\tremaining: 7.57s\n",
            "301:\tlearn: 0.7044448\ttotal: 3.27s\tremaining: 7.56s\n",
            "302:\tlearn: 0.7043356\ttotal: 3.28s\tremaining: 7.55s\n",
            "303:\tlearn: 0.7042261\ttotal: 3.29s\tremaining: 7.54s\n",
            "304:\tlearn: 0.7040582\ttotal: 3.3s\tremaining: 7.53s\n",
            "305:\tlearn: 0.7039467\ttotal: 3.31s\tremaining: 7.51s\n",
            "306:\tlearn: 0.7037871\ttotal: 3.32s\tremaining: 7.5s\n",
            "307:\tlearn: 0.7036238\ttotal: 3.33s\tremaining: 7.49s\n",
            "308:\tlearn: 0.7034658\ttotal: 3.34s\tremaining: 7.48s\n",
            "309:\tlearn: 0.7032903\ttotal: 3.35s\tremaining: 7.46s\n",
            "310:\tlearn: 0.7031385\ttotal: 3.36s\tremaining: 7.45s\n",
            "311:\tlearn: 0.7030024\ttotal: 3.37s\tremaining: 7.44s\n",
            "312:\tlearn: 0.7028863\ttotal: 3.38s\tremaining: 7.42s\n",
            "313:\tlearn: 0.7026952\ttotal: 3.39s\tremaining: 7.41s\n",
            "314:\tlearn: 0.7025815\ttotal: 3.4s\tremaining: 7.4s\n",
            "315:\tlearn: 0.7024815\ttotal: 3.41s\tremaining: 7.39s\n",
            "316:\tlearn: 0.7022425\ttotal: 3.42s\tremaining: 7.38s\n",
            "317:\tlearn: 0.7021053\ttotal: 3.44s\tremaining: 7.37s\n",
            "318:\tlearn: 0.7019588\ttotal: 3.45s\tremaining: 7.36s\n",
            "319:\tlearn: 0.7017828\ttotal: 3.46s\tremaining: 7.35s\n",
            "320:\tlearn: 0.7015918\ttotal: 3.47s\tremaining: 7.33s\n",
            "321:\tlearn: 0.7014683\ttotal: 3.48s\tremaining: 7.32s\n",
            "322:\tlearn: 0.7013825\ttotal: 3.49s\tremaining: 7.31s\n",
            "323:\tlearn: 0.7011138\ttotal: 3.5s\tremaining: 7.3s\n",
            "324:\tlearn: 0.7009359\ttotal: 3.51s\tremaining: 7.29s\n",
            "325:\tlearn: 0.7007487\ttotal: 3.52s\tremaining: 7.28s\n",
            "326:\tlearn: 0.7005165\ttotal: 3.53s\tremaining: 7.27s\n",
            "327:\tlearn: 0.7004108\ttotal: 3.54s\tremaining: 7.26s\n",
            "328:\tlearn: 0.7002173\ttotal: 3.55s\tremaining: 7.25s\n",
            "329:\tlearn: 0.7000547\ttotal: 3.56s\tremaining: 7.24s\n",
            "330:\tlearn: 0.6998494\ttotal: 3.57s\tremaining: 7.22s\n",
            "331:\tlearn: 0.6996101\ttotal: 3.58s\tremaining: 7.21s\n",
            "332:\tlearn: 0.6994837\ttotal: 3.6s\tremaining: 7.2s\n",
            "333:\tlearn: 0.6993419\ttotal: 3.6s\tremaining: 7.19s\n",
            "334:\tlearn: 0.6992639\ttotal: 3.62s\tremaining: 7.18s\n",
            "335:\tlearn: 0.6990151\ttotal: 3.63s\tremaining: 7.17s\n",
            "336:\tlearn: 0.6988928\ttotal: 3.64s\tremaining: 7.16s\n",
            "337:\tlearn: 0.6987642\ttotal: 3.65s\tremaining: 7.15s\n",
            "338:\tlearn: 0.6986045\ttotal: 3.66s\tremaining: 7.14s\n",
            "339:\tlearn: 0.6984814\ttotal: 3.67s\tremaining: 7.13s\n",
            "340:\tlearn: 0.6982902\ttotal: 3.68s\tremaining: 7.11s\n",
            "341:\tlearn: 0.6981418\ttotal: 3.69s\tremaining: 7.1s\n",
            "342:\tlearn: 0.6979553\ttotal: 3.71s\tremaining: 7.1s\n",
            "343:\tlearn: 0.6978333\ttotal: 3.72s\tremaining: 7.09s\n",
            "344:\tlearn: 0.6976778\ttotal: 3.73s\tremaining: 7.08s\n",
            "345:\tlearn: 0.6975043\ttotal: 3.74s\tremaining: 7.07s\n",
            "346:\tlearn: 0.6972973\ttotal: 3.75s\tremaining: 7.05s\n",
            "347:\tlearn: 0.6971884\ttotal: 3.76s\tremaining: 7.04s\n",
            "348:\tlearn: 0.6969565\ttotal: 3.77s\tremaining: 7.04s\n",
            "349:\tlearn: 0.6968130\ttotal: 3.78s\tremaining: 7.03s\n",
            "350:\tlearn: 0.6966954\ttotal: 3.79s\tremaining: 7.01s\n",
            "351:\tlearn: 0.6965196\ttotal: 3.8s\tremaining: 7s\n",
            "352:\tlearn: 0.6963755\ttotal: 3.81s\tremaining: 6.99s\n",
            "353:\tlearn: 0.6962014\ttotal: 3.83s\tremaining: 6.98s\n",
            "354:\tlearn: 0.6959771\ttotal: 3.83s\tremaining: 6.97s\n",
            "355:\tlearn: 0.6958049\ttotal: 3.85s\tremaining: 6.96s\n",
            "356:\tlearn: 0.6956527\ttotal: 3.86s\tremaining: 6.95s\n",
            "357:\tlearn: 0.6954224\ttotal: 3.87s\tremaining: 6.94s\n",
            "358:\tlearn: 0.6953249\ttotal: 3.88s\tremaining: 6.93s\n",
            "359:\tlearn: 0.6952226\ttotal: 3.89s\tremaining: 6.91s\n",
            "360:\tlearn: 0.6951308\ttotal: 3.9s\tremaining: 6.9s\n",
            "361:\tlearn: 0.6949874\ttotal: 3.92s\tremaining: 6.91s\n",
            "362:\tlearn: 0.6947510\ttotal: 3.93s\tremaining: 6.89s\n",
            "363:\tlearn: 0.6945966\ttotal: 3.94s\tremaining: 6.88s\n",
            "364:\tlearn: 0.6943574\ttotal: 3.95s\tremaining: 6.87s\n",
            "365:\tlearn: 0.6942572\ttotal: 3.96s\tremaining: 6.86s\n",
            "366:\tlearn: 0.6941542\ttotal: 3.97s\tremaining: 6.85s\n",
            "367:\tlearn: 0.6940156\ttotal: 3.98s\tremaining: 6.84s\n",
            "368:\tlearn: 0.6938591\ttotal: 3.99s\tremaining: 6.83s\n",
            "369:\tlearn: 0.6936628\ttotal: 4s\tremaining: 6.81s\n",
            "370:\tlearn: 0.6935396\ttotal: 4.01s\tremaining: 6.8s\n",
            "371:\tlearn: 0.6932792\ttotal: 4.02s\tremaining: 6.79s\n",
            "372:\tlearn: 0.6931451\ttotal: 4.03s\tremaining: 6.78s\n",
            "373:\tlearn: 0.6930781\ttotal: 4.04s\tremaining: 6.76s\n",
            "374:\tlearn: 0.6929553\ttotal: 4.05s\tremaining: 6.76s\n",
            "375:\tlearn: 0.6928019\ttotal: 4.07s\tremaining: 6.75s\n",
            "376:\tlearn: 0.6925488\ttotal: 4.08s\tremaining: 6.74s\n",
            "377:\tlearn: 0.6924182\ttotal: 4.08s\tremaining: 6.72s\n",
            "378:\tlearn: 0.6922685\ttotal: 4.09s\tremaining: 6.71s\n",
            "379:\tlearn: 0.6921908\ttotal: 4.11s\tremaining: 6.7s\n",
            "380:\tlearn: 0.6920810\ttotal: 4.12s\tremaining: 6.69s\n",
            "381:\tlearn: 0.6920070\ttotal: 4.12s\tremaining: 6.67s\n",
            "382:\tlearn: 0.6917741\ttotal: 4.13s\tremaining: 6.66s\n",
            "383:\tlearn: 0.6915616\ttotal: 4.14s\tremaining: 6.65s\n",
            "384:\tlearn: 0.6914418\ttotal: 4.16s\tremaining: 6.64s\n",
            "385:\tlearn: 0.6913404\ttotal: 4.17s\tremaining: 6.63s\n",
            "386:\tlearn: 0.6910405\ttotal: 4.17s\tremaining: 6.61s\n",
            "387:\tlearn: 0.6907791\ttotal: 4.19s\tremaining: 6.6s\n",
            "388:\tlearn: 0.6906588\ttotal: 4.2s\tremaining: 6.59s\n",
            "389:\tlearn: 0.6905902\ttotal: 4.21s\tremaining: 6.58s\n",
            "390:\tlearn: 0.6904678\ttotal: 4.21s\tremaining: 6.57s\n",
            "391:\tlearn: 0.6903170\ttotal: 4.22s\tremaining: 6.55s\n",
            "392:\tlearn: 0.6901403\ttotal: 4.24s\tremaining: 6.54s\n",
            "393:\tlearn: 0.6900066\ttotal: 4.25s\tremaining: 6.53s\n",
            "394:\tlearn: 0.6898240\ttotal: 4.26s\tremaining: 6.53s\n",
            "395:\tlearn: 0.6897191\ttotal: 4.27s\tremaining: 6.51s\n",
            "396:\tlearn: 0.6895435\ttotal: 4.28s\tremaining: 6.5s\n",
            "397:\tlearn: 0.6894022\ttotal: 4.29s\tremaining: 6.49s\n",
            "398:\tlearn: 0.6892513\ttotal: 4.3s\tremaining: 6.48s\n",
            "399:\tlearn: 0.6891276\ttotal: 4.31s\tremaining: 6.46s\n",
            "400:\tlearn: 0.6889438\ttotal: 4.32s\tremaining: 6.45s\n",
            "401:\tlearn: 0.6888197\ttotal: 4.33s\tremaining: 6.44s\n",
            "402:\tlearn: 0.6885856\ttotal: 4.34s\tremaining: 6.43s\n",
            "403:\tlearn: 0.6884384\ttotal: 4.35s\tremaining: 6.42s\n",
            "404:\tlearn: 0.6883799\ttotal: 4.37s\tremaining: 6.41s\n",
            "405:\tlearn: 0.6882790\ttotal: 4.37s\tremaining: 6.4s\n",
            "406:\tlearn: 0.6881214\ttotal: 4.38s\tremaining: 6.39s\n",
            "407:\tlearn: 0.6880179\ttotal: 4.39s\tremaining: 6.38s\n",
            "408:\tlearn: 0.6877887\ttotal: 4.4s\tremaining: 6.36s\n",
            "409:\tlearn: 0.6876469\ttotal: 4.42s\tremaining: 6.36s\n",
            "410:\tlearn: 0.6875135\ttotal: 4.43s\tremaining: 6.34s\n",
            "411:\tlearn: 0.6873324\ttotal: 4.44s\tremaining: 6.33s\n",
            "412:\tlearn: 0.6871245\ttotal: 4.45s\tremaining: 6.32s\n",
            "413:\tlearn: 0.6869597\ttotal: 4.46s\tremaining: 6.31s\n",
            "414:\tlearn: 0.6867150\ttotal: 4.47s\tremaining: 6.3s\n",
            "415:\tlearn: 0.6865711\ttotal: 4.48s\tremaining: 6.29s\n",
            "416:\tlearn: 0.6863330\ttotal: 4.49s\tremaining: 6.28s\n",
            "417:\tlearn: 0.6862009\ttotal: 4.5s\tremaining: 6.27s\n",
            "418:\tlearn: 0.6860549\ttotal: 4.51s\tremaining: 6.25s\n",
            "419:\tlearn: 0.6858939\ttotal: 4.52s\tremaining: 6.24s\n",
            "420:\tlearn: 0.6857192\ttotal: 4.53s\tremaining: 6.23s\n",
            "421:\tlearn: 0.6856010\ttotal: 4.54s\tremaining: 6.22s\n",
            "422:\tlearn: 0.6854288\ttotal: 4.55s\tremaining: 6.21s\n",
            "423:\tlearn: 0.6853425\ttotal: 4.56s\tremaining: 6.2s\n",
            "424:\tlearn: 0.6852053\ttotal: 4.57s\tremaining: 6.18s\n",
            "425:\tlearn: 0.6851288\ttotal: 4.58s\tremaining: 6.17s\n",
            "426:\tlearn: 0.6849210\ttotal: 4.59s\tremaining: 6.16s\n",
            "427:\tlearn: 0.6847647\ttotal: 4.6s\tremaining: 6.15s\n",
            "428:\tlearn: 0.6846080\ttotal: 4.61s\tremaining: 6.14s\n",
            "429:\tlearn: 0.6844078\ttotal: 4.62s\tremaining: 6.13s\n",
            "430:\tlearn: 0.6843011\ttotal: 4.63s\tremaining: 6.11s\n",
            "431:\tlearn: 0.6841312\ttotal: 4.64s\tremaining: 6.1s\n",
            "432:\tlearn: 0.6838547\ttotal: 4.65s\tremaining: 6.09s\n",
            "433:\tlearn: 0.6837082\ttotal: 4.67s\tremaining: 6.09s\n",
            "434:\tlearn: 0.6835831\ttotal: 4.68s\tremaining: 6.07s\n",
            "435:\tlearn: 0.6833282\ttotal: 4.69s\tremaining: 6.06s\n",
            "436:\tlearn: 0.6831884\ttotal: 4.7s\tremaining: 6.05s\n",
            "437:\tlearn: 0.6830597\ttotal: 4.71s\tremaining: 6.04s\n",
            "438:\tlearn: 0.6829198\ttotal: 4.71s\tremaining: 6.03s\n",
            "439:\tlearn: 0.6827404\ttotal: 4.72s\tremaining: 6.01s\n",
            "440:\tlearn: 0.6825640\ttotal: 4.74s\tremaining: 6s\n",
            "441:\tlearn: 0.6823918\ttotal: 4.75s\tremaining: 5.99s\n",
            "442:\tlearn: 0.6822469\ttotal: 4.76s\tremaining: 5.98s\n",
            "443:\tlearn: 0.6820651\ttotal: 4.77s\tremaining: 5.97s\n",
            "444:\tlearn: 0.6818745\ttotal: 4.78s\tremaining: 5.96s\n",
            "445:\tlearn: 0.6816904\ttotal: 4.79s\tremaining: 5.95s\n",
            "446:\tlearn: 0.6815838\ttotal: 4.8s\tremaining: 5.93s\n",
            "447:\tlearn: 0.6814844\ttotal: 4.81s\tremaining: 5.93s\n",
            "448:\tlearn: 0.6813914\ttotal: 4.82s\tremaining: 5.92s\n",
            "449:\tlearn: 0.6812623\ttotal: 4.83s\tremaining: 5.91s\n",
            "450:\tlearn: 0.6811631\ttotal: 4.84s\tremaining: 5.89s\n",
            "451:\tlearn: 0.6809672\ttotal: 4.85s\tremaining: 5.88s\n",
            "452:\tlearn: 0.6808351\ttotal: 4.87s\tremaining: 5.88s\n",
            "453:\tlearn: 0.6805940\ttotal: 4.88s\tremaining: 5.87s\n",
            "454:\tlearn: 0.6805106\ttotal: 4.9s\tremaining: 5.87s\n",
            "455:\tlearn: 0.6803835\ttotal: 4.91s\tremaining: 5.86s\n",
            "456:\tlearn: 0.6803233\ttotal: 4.92s\tremaining: 5.84s\n",
            "457:\tlearn: 0.6801936\ttotal: 4.93s\tremaining: 5.83s\n",
            "458:\tlearn: 0.6800929\ttotal: 4.94s\tremaining: 5.83s\n",
            "459:\tlearn: 0.6799707\ttotal: 4.95s\tremaining: 5.81s\n",
            "460:\tlearn: 0.6797643\ttotal: 4.96s\tremaining: 5.8s\n",
            "461:\tlearn: 0.6796918\ttotal: 4.97s\tremaining: 5.79s\n",
            "462:\tlearn: 0.6794438\ttotal: 4.98s\tremaining: 5.78s\n",
            "463:\tlearn: 0.6792949\ttotal: 4.99s\tremaining: 5.77s\n",
            "464:\tlearn: 0.6790968\ttotal: 5s\tremaining: 5.76s\n",
            "465:\tlearn: 0.6789965\ttotal: 5.01s\tremaining: 5.75s\n",
            "466:\tlearn: 0.6788291\ttotal: 5.02s\tremaining: 5.73s\n",
            "467:\tlearn: 0.6786822\ttotal: 5.03s\tremaining: 5.72s\n",
            "468:\tlearn: 0.6784558\ttotal: 5.04s\tremaining: 5.71s\n",
            "469:\tlearn: 0.6783295\ttotal: 5.06s\tremaining: 5.7s\n",
            "470:\tlearn: 0.6781930\ttotal: 5.07s\tremaining: 5.69s\n",
            "471:\tlearn: 0.6780562\ttotal: 5.08s\tremaining: 5.68s\n",
            "472:\tlearn: 0.6779705\ttotal: 5.09s\tremaining: 5.67s\n",
            "473:\tlearn: 0.6778409\ttotal: 5.1s\tremaining: 5.66s\n",
            "474:\tlearn: 0.6777897\ttotal: 5.11s\tremaining: 5.65s\n",
            "475:\tlearn: 0.6775266\ttotal: 5.12s\tremaining: 5.64s\n",
            "476:\tlearn: 0.6773615\ttotal: 5.13s\tremaining: 5.62s\n",
            "477:\tlearn: 0.6771632\ttotal: 5.14s\tremaining: 5.61s\n",
            "478:\tlearn: 0.6769977\ttotal: 5.15s\tremaining: 5.6s\n",
            "479:\tlearn: 0.6769158\ttotal: 5.16s\tremaining: 5.59s\n",
            "480:\tlearn: 0.6767929\ttotal: 5.17s\tremaining: 5.58s\n",
            "481:\tlearn: 0.6766433\ttotal: 5.18s\tremaining: 5.57s\n",
            "482:\tlearn: 0.6763976\ttotal: 5.19s\tremaining: 5.56s\n",
            "483:\tlearn: 0.6762130\ttotal: 5.2s\tremaining: 5.55s\n",
            "484:\tlearn: 0.6759983\ttotal: 5.21s\tremaining: 5.54s\n",
            "485:\tlearn: 0.6758598\ttotal: 5.22s\tremaining: 5.52s\n",
            "486:\tlearn: 0.6757295\ttotal: 5.23s\tremaining: 5.51s\n",
            "487:\tlearn: 0.6755922\ttotal: 5.24s\tremaining: 5.5s\n",
            "488:\tlearn: 0.6754972\ttotal: 5.25s\tremaining: 5.49s\n",
            "489:\tlearn: 0.6753356\ttotal: 5.26s\tremaining: 5.48s\n",
            "490:\tlearn: 0.6752464\ttotal: 5.28s\tremaining: 5.47s\n",
            "491:\tlearn: 0.6750985\ttotal: 5.29s\tremaining: 5.46s\n",
            "492:\tlearn: 0.6749970\ttotal: 5.3s\tremaining: 5.45s\n",
            "493:\tlearn: 0.6748311\ttotal: 5.31s\tremaining: 5.44s\n",
            "494:\tlearn: 0.6746835\ttotal: 5.32s\tremaining: 5.42s\n",
            "495:\tlearn: 0.6745566\ttotal: 5.33s\tremaining: 5.41s\n",
            "496:\tlearn: 0.6743717\ttotal: 5.34s\tremaining: 5.4s\n",
            "497:\tlearn: 0.6742031\ttotal: 5.35s\tremaining: 5.39s\n",
            "498:\tlearn: 0.6739949\ttotal: 5.36s\tremaining: 5.38s\n",
            "499:\tlearn: 0.6737470\ttotal: 5.37s\tremaining: 5.37s\n",
            "500:\tlearn: 0.6736451\ttotal: 5.38s\tremaining: 5.35s\n",
            "501:\tlearn: 0.6735161\ttotal: 5.38s\tremaining: 5.34s\n",
            "502:\tlearn: 0.6733198\ttotal: 5.39s\tremaining: 5.33s\n",
            "503:\tlearn: 0.6732085\ttotal: 5.41s\tremaining: 5.32s\n",
            "504:\tlearn: 0.6730556\ttotal: 5.42s\tremaining: 5.31s\n",
            "505:\tlearn: 0.6729334\ttotal: 5.42s\tremaining: 5.3s\n",
            "506:\tlearn: 0.6728407\ttotal: 5.43s\tremaining: 5.29s\n",
            "507:\tlearn: 0.6727610\ttotal: 5.45s\tremaining: 5.27s\n",
            "508:\tlearn: 0.6726679\ttotal: 5.46s\tremaining: 5.26s\n",
            "509:\tlearn: 0.6724869\ttotal: 5.46s\tremaining: 5.25s\n",
            "510:\tlearn: 0.6723185\ttotal: 5.48s\tremaining: 5.24s\n",
            "511:\tlearn: 0.6721550\ttotal: 5.49s\tremaining: 5.23s\n",
            "512:\tlearn: 0.6720564\ttotal: 5.5s\tremaining: 5.22s\n",
            "513:\tlearn: 0.6719826\ttotal: 5.51s\tremaining: 5.21s\n",
            "514:\tlearn: 0.6718147\ttotal: 5.52s\tremaining: 5.2s\n",
            "515:\tlearn: 0.6716512\ttotal: 5.53s\tremaining: 5.19s\n",
            "516:\tlearn: 0.6714890\ttotal: 5.54s\tremaining: 5.18s\n",
            "517:\tlearn: 0.6713541\ttotal: 5.55s\tremaining: 5.17s\n",
            "518:\tlearn: 0.6712516\ttotal: 5.56s\tremaining: 5.16s\n",
            "519:\tlearn: 0.6711180\ttotal: 5.57s\tremaining: 5.14s\n",
            "520:\tlearn: 0.6709427\ttotal: 5.58s\tremaining: 5.13s\n",
            "521:\tlearn: 0.6707465\ttotal: 5.59s\tremaining: 5.12s\n",
            "522:\tlearn: 0.6705374\ttotal: 5.6s\tremaining: 5.11s\n",
            "523:\tlearn: 0.6704623\ttotal: 5.61s\tremaining: 5.1s\n",
            "524:\tlearn: 0.6703598\ttotal: 5.62s\tremaining: 5.09s\n",
            "525:\tlearn: 0.6701617\ttotal: 5.63s\tremaining: 5.08s\n",
            "526:\tlearn: 0.6700780\ttotal: 5.65s\tremaining: 5.07s\n",
            "527:\tlearn: 0.6699605\ttotal: 5.66s\tremaining: 5.06s\n",
            "528:\tlearn: 0.6697747\ttotal: 5.67s\tremaining: 5.04s\n",
            "529:\tlearn: 0.6696860\ttotal: 5.68s\tremaining: 5.03s\n",
            "530:\tlearn: 0.6695754\ttotal: 5.69s\tremaining: 5.03s\n",
            "531:\tlearn: 0.6694033\ttotal: 5.7s\tremaining: 5.02s\n",
            "532:\tlearn: 0.6692435\ttotal: 5.71s\tremaining: 5.01s\n",
            "533:\tlearn: 0.6691031\ttotal: 5.72s\tremaining: 4.99s\n",
            "534:\tlearn: 0.6689098\ttotal: 5.73s\tremaining: 4.98s\n",
            "535:\tlearn: 0.6687821\ttotal: 5.74s\tremaining: 4.97s\n",
            "536:\tlearn: 0.6687408\ttotal: 5.75s\tremaining: 4.96s\n",
            "537:\tlearn: 0.6686894\ttotal: 5.76s\tremaining: 4.95s\n",
            "538:\tlearn: 0.6686090\ttotal: 5.77s\tremaining: 4.94s\n",
            "539:\tlearn: 0.6684535\ttotal: 5.78s\tremaining: 4.93s\n",
            "540:\tlearn: 0.6682954\ttotal: 5.79s\tremaining: 4.92s\n",
            "541:\tlearn: 0.6681927\ttotal: 5.8s\tremaining: 4.9s\n",
            "542:\tlearn: 0.6680506\ttotal: 5.82s\tremaining: 4.9s\n",
            "543:\tlearn: 0.6679200\ttotal: 5.83s\tremaining: 4.88s\n",
            "544:\tlearn: 0.6677444\ttotal: 5.84s\tremaining: 4.87s\n",
            "545:\tlearn: 0.6675461\ttotal: 5.85s\tremaining: 4.86s\n",
            "546:\tlearn: 0.6674557\ttotal: 5.86s\tremaining: 4.85s\n",
            "547:\tlearn: 0.6673677\ttotal: 5.87s\tremaining: 4.84s\n",
            "548:\tlearn: 0.6672952\ttotal: 5.88s\tremaining: 4.83s\n",
            "549:\tlearn: 0.6671528\ttotal: 5.9s\tremaining: 4.83s\n",
            "550:\tlearn: 0.6670532\ttotal: 5.91s\tremaining: 4.82s\n",
            "551:\tlearn: 0.6668831\ttotal: 5.92s\tremaining: 4.8s\n",
            "552:\tlearn: 0.6668391\ttotal: 5.93s\tremaining: 4.79s\n",
            "553:\tlearn: 0.6667511\ttotal: 5.94s\tremaining: 4.78s\n",
            "554:\tlearn: 0.6666515\ttotal: 5.95s\tremaining: 4.77s\n",
            "555:\tlearn: 0.6664777\ttotal: 5.96s\tremaining: 4.76s\n",
            "556:\tlearn: 0.6663293\ttotal: 5.97s\tremaining: 4.75s\n",
            "557:\tlearn: 0.6661460\ttotal: 5.98s\tremaining: 4.74s\n",
            "558:\tlearn: 0.6659268\ttotal: 5.99s\tremaining: 4.72s\n",
            "559:\tlearn: 0.6658040\ttotal: 6s\tremaining: 4.71s\n",
            "560:\tlearn: 0.6656700\ttotal: 6.01s\tremaining: 4.7s\n",
            "561:\tlearn: 0.6655117\ttotal: 6.02s\tremaining: 4.69s\n",
            "562:\tlearn: 0.6653609\ttotal: 6.03s\tremaining: 4.68s\n",
            "563:\tlearn: 0.6652669\ttotal: 6.04s\tremaining: 4.67s\n",
            "564:\tlearn: 0.6651754\ttotal: 6.05s\tremaining: 4.66s\n",
            "565:\tlearn: 0.6650030\ttotal: 6.07s\tremaining: 4.65s\n",
            "566:\tlearn: 0.6649529\ttotal: 6.07s\tremaining: 4.64s\n",
            "567:\tlearn: 0.6648015\ttotal: 6.08s\tremaining: 4.63s\n",
            "568:\tlearn: 0.6646473\ttotal: 6.1s\tremaining: 4.62s\n",
            "569:\tlearn: 0.6645726\ttotal: 6.12s\tremaining: 4.61s\n",
            "570:\tlearn: 0.6643859\ttotal: 6.13s\tremaining: 4.6s\n",
            "571:\tlearn: 0.6642177\ttotal: 6.14s\tremaining: 4.59s\n",
            "572:\tlearn: 0.6641275\ttotal: 6.15s\tremaining: 4.58s\n",
            "573:\tlearn: 0.6640790\ttotal: 6.16s\tremaining: 4.57s\n",
            "574:\tlearn: 0.6639903\ttotal: 6.17s\tremaining: 4.56s\n",
            "575:\tlearn: 0.6639219\ttotal: 6.18s\tremaining: 4.55s\n",
            "576:\tlearn: 0.6638207\ttotal: 6.19s\tremaining: 4.54s\n",
            "577:\tlearn: 0.6636140\ttotal: 6.2s\tremaining: 4.53s\n",
            "578:\tlearn: 0.6634392\ttotal: 6.21s\tremaining: 4.51s\n",
            "579:\tlearn: 0.6631845\ttotal: 6.22s\tremaining: 4.5s\n",
            "580:\tlearn: 0.6630306\ttotal: 6.23s\tremaining: 4.49s\n",
            "581:\tlearn: 0.6628478\ttotal: 6.24s\tremaining: 4.48s\n",
            "582:\tlearn: 0.6626865\ttotal: 6.25s\tremaining: 4.47s\n",
            "583:\tlearn: 0.6626419\ttotal: 6.26s\tremaining: 4.46s\n",
            "584:\tlearn: 0.6624822\ttotal: 6.27s\tremaining: 4.45s\n",
            "585:\tlearn: 0.6623850\ttotal: 6.28s\tremaining: 4.44s\n",
            "586:\tlearn: 0.6622949\ttotal: 6.29s\tremaining: 4.43s\n",
            "587:\tlearn: 0.6621799\ttotal: 6.3s\tremaining: 4.42s\n",
            "588:\tlearn: 0.6620429\ttotal: 6.32s\tremaining: 4.41s\n",
            "589:\tlearn: 0.6618894\ttotal: 6.33s\tremaining: 4.4s\n",
            "590:\tlearn: 0.6617951\ttotal: 6.33s\tremaining: 4.38s\n",
            "591:\tlearn: 0.6616264\ttotal: 6.34s\tremaining: 4.37s\n",
            "592:\tlearn: 0.6614592\ttotal: 6.36s\tremaining: 4.36s\n",
            "593:\tlearn: 0.6612975\ttotal: 6.37s\tremaining: 4.35s\n",
            "594:\tlearn: 0.6612353\ttotal: 6.38s\tremaining: 4.34s\n",
            "595:\tlearn: 0.6611090\ttotal: 6.39s\tremaining: 4.33s\n",
            "596:\tlearn: 0.6610390\ttotal: 6.4s\tremaining: 4.32s\n",
            "597:\tlearn: 0.6609097\ttotal: 6.41s\tremaining: 4.31s\n",
            "598:\tlearn: 0.6608262\ttotal: 6.42s\tremaining: 4.3s\n",
            "599:\tlearn: 0.6606183\ttotal: 6.43s\tremaining: 4.29s\n",
            "600:\tlearn: 0.6605128\ttotal: 6.44s\tremaining: 4.28s\n",
            "601:\tlearn: 0.6603911\ttotal: 6.45s\tremaining: 4.26s\n",
            "602:\tlearn: 0.6602193\ttotal: 6.46s\tremaining: 4.25s\n",
            "603:\tlearn: 0.6601023\ttotal: 6.47s\tremaining: 4.24s\n",
            "604:\tlearn: 0.6599680\ttotal: 6.48s\tremaining: 4.23s\n",
            "605:\tlearn: 0.6598042\ttotal: 6.49s\tremaining: 4.22s\n",
            "606:\tlearn: 0.6596476\ttotal: 6.5s\tremaining: 4.21s\n",
            "607:\tlearn: 0.6595468\ttotal: 6.51s\tremaining: 4.2s\n",
            "608:\tlearn: 0.6593157\ttotal: 6.53s\tremaining: 4.19s\n",
            "609:\tlearn: 0.6592161\ttotal: 6.54s\tremaining: 4.18s\n",
            "610:\tlearn: 0.6590622\ttotal: 6.54s\tremaining: 4.17s\n",
            "611:\tlearn: 0.6589646\ttotal: 6.55s\tremaining: 4.16s\n",
            "612:\tlearn: 0.6588779\ttotal: 6.56s\tremaining: 4.14s\n",
            "613:\tlearn: 0.6587192\ttotal: 6.57s\tremaining: 4.13s\n",
            "614:\tlearn: 0.6586417\ttotal: 6.58s\tremaining: 4.12s\n",
            "615:\tlearn: 0.6585374\ttotal: 6.59s\tremaining: 4.11s\n",
            "616:\tlearn: 0.6584446\ttotal: 6.6s\tremaining: 4.1s\n",
            "617:\tlearn: 0.6583059\ttotal: 6.62s\tremaining: 4.09s\n",
            "618:\tlearn: 0.6581664\ttotal: 6.63s\tremaining: 4.08s\n",
            "619:\tlearn: 0.6579904\ttotal: 6.63s\tremaining: 4.07s\n",
            "620:\tlearn: 0.6578874\ttotal: 6.64s\tremaining: 4.05s\n",
            "621:\tlearn: 0.6577052\ttotal: 6.66s\tremaining: 4.04s\n",
            "622:\tlearn: 0.6576066\ttotal: 6.67s\tremaining: 4.03s\n",
            "623:\tlearn: 0.6574596\ttotal: 6.68s\tremaining: 4.02s\n",
            "624:\tlearn: 0.6573242\ttotal: 6.69s\tremaining: 4.01s\n",
            "625:\tlearn: 0.6572124\ttotal: 6.7s\tremaining: 4s\n",
            "626:\tlearn: 0.6571737\ttotal: 6.71s\tremaining: 3.99s\n",
            "627:\tlearn: 0.6570896\ttotal: 6.72s\tremaining: 3.98s\n",
            "628:\tlearn: 0.6569931\ttotal: 6.73s\tremaining: 3.97s\n",
            "629:\tlearn: 0.6568594\ttotal: 6.75s\tremaining: 3.96s\n",
            "630:\tlearn: 0.6567293\ttotal: 6.76s\tremaining: 3.95s\n",
            "631:\tlearn: 0.6565700\ttotal: 6.77s\tremaining: 3.94s\n",
            "632:\tlearn: 0.6564574\ttotal: 6.78s\tremaining: 3.93s\n",
            "633:\tlearn: 0.6563053\ttotal: 6.79s\tremaining: 3.92s\n",
            "634:\tlearn: 0.6561868\ttotal: 6.8s\tremaining: 3.91s\n",
            "635:\tlearn: 0.6560394\ttotal: 6.81s\tremaining: 3.9s\n",
            "636:\tlearn: 0.6558312\ttotal: 6.82s\tremaining: 3.89s\n",
            "637:\tlearn: 0.6557423\ttotal: 6.83s\tremaining: 3.87s\n",
            "638:\tlearn: 0.6556204\ttotal: 6.84s\tremaining: 3.86s\n",
            "639:\tlearn: 0.6554662\ttotal: 6.86s\tremaining: 3.86s\n",
            "640:\tlearn: 0.6554017\ttotal: 6.87s\tremaining: 3.85s\n",
            "641:\tlearn: 0.6553355\ttotal: 6.88s\tremaining: 3.83s\n",
            "642:\tlearn: 0.6551806\ttotal: 6.89s\tremaining: 3.82s\n",
            "643:\tlearn: 0.6550365\ttotal: 6.9s\tremaining: 3.81s\n",
            "644:\tlearn: 0.6548802\ttotal: 6.91s\tremaining: 3.8s\n",
            "645:\tlearn: 0.6547708\ttotal: 6.92s\tremaining: 3.79s\n",
            "646:\tlearn: 0.6545962\ttotal: 6.93s\tremaining: 3.78s\n",
            "647:\tlearn: 0.6543800\ttotal: 6.94s\tremaining: 3.77s\n",
            "648:\tlearn: 0.6542424\ttotal: 6.95s\tremaining: 3.76s\n",
            "649:\tlearn: 0.6541492\ttotal: 6.96s\tremaining: 3.75s\n",
            "650:\tlearn: 0.6539940\ttotal: 6.97s\tremaining: 3.74s\n",
            "651:\tlearn: 0.6538805\ttotal: 6.98s\tremaining: 3.73s\n",
            "652:\tlearn: 0.6538024\ttotal: 7s\tremaining: 3.72s\n",
            "653:\tlearn: 0.6536694\ttotal: 7.01s\tremaining: 3.71s\n",
            "654:\tlearn: 0.6535772\ttotal: 7.02s\tremaining: 3.7s\n",
            "655:\tlearn: 0.6534439\ttotal: 7.03s\tremaining: 3.69s\n",
            "656:\tlearn: 0.6533072\ttotal: 7.04s\tremaining: 3.67s\n",
            "657:\tlearn: 0.6531817\ttotal: 7.05s\tremaining: 3.66s\n",
            "658:\tlearn: 0.6530002\ttotal: 7.06s\tremaining: 3.65s\n",
            "659:\tlearn: 0.6528717\ttotal: 7.07s\tremaining: 3.64s\n",
            "660:\tlearn: 0.6527753\ttotal: 7.08s\tremaining: 3.63s\n",
            "661:\tlearn: 0.6526293\ttotal: 7.09s\tremaining: 3.62s\n",
            "662:\tlearn: 0.6525618\ttotal: 7.1s\tremaining: 3.61s\n",
            "663:\tlearn: 0.6524286\ttotal: 7.11s\tremaining: 3.6s\n",
            "664:\tlearn: 0.6523348\ttotal: 7.12s\tremaining: 3.58s\n",
            "665:\tlearn: 0.6521630\ttotal: 7.13s\tremaining: 3.58s\n",
            "666:\tlearn: 0.6520962\ttotal: 7.14s\tremaining: 3.56s\n",
            "667:\tlearn: 0.6519726\ttotal: 7.15s\tremaining: 3.55s\n",
            "668:\tlearn: 0.6517928\ttotal: 7.16s\tremaining: 3.54s\n",
            "669:\tlearn: 0.6516850\ttotal: 7.18s\tremaining: 3.54s\n",
            "670:\tlearn: 0.6515578\ttotal: 7.19s\tremaining: 3.52s\n",
            "671:\tlearn: 0.6514694\ttotal: 7.2s\tremaining: 3.51s\n",
            "672:\tlearn: 0.6512707\ttotal: 7.21s\tremaining: 3.5s\n",
            "673:\tlearn: 0.6511662\ttotal: 7.22s\tremaining: 3.49s\n",
            "674:\tlearn: 0.6509698\ttotal: 7.24s\tremaining: 3.48s\n",
            "675:\tlearn: 0.6509008\ttotal: 7.25s\tremaining: 3.47s\n",
            "676:\tlearn: 0.6508371\ttotal: 7.26s\tremaining: 3.46s\n",
            "677:\tlearn: 0.6507539\ttotal: 7.27s\tremaining: 3.45s\n",
            "678:\tlearn: 0.6506605\ttotal: 7.28s\tremaining: 3.44s\n",
            "679:\tlearn: 0.6505830\ttotal: 7.29s\tremaining: 3.43s\n",
            "680:\tlearn: 0.6504680\ttotal: 7.3s\tremaining: 3.42s\n",
            "681:\tlearn: 0.6503451\ttotal: 7.31s\tremaining: 3.41s\n",
            "682:\tlearn: 0.6502490\ttotal: 7.32s\tremaining: 3.4s\n",
            "683:\tlearn: 0.6501168\ttotal: 7.33s\tremaining: 3.39s\n",
            "684:\tlearn: 0.6500124\ttotal: 7.34s\tremaining: 3.38s\n",
            "685:\tlearn: 0.6498591\ttotal: 7.35s\tremaining: 3.37s\n",
            "686:\tlearn: 0.6497602\ttotal: 7.36s\tremaining: 3.35s\n",
            "687:\tlearn: 0.6497007\ttotal: 7.37s\tremaining: 3.34s\n",
            "688:\tlearn: 0.6495764\ttotal: 7.38s\tremaining: 3.33s\n",
            "689:\tlearn: 0.6494871\ttotal: 7.39s\tremaining: 3.32s\n",
            "690:\tlearn: 0.6493826\ttotal: 7.4s\tremaining: 3.31s\n",
            "691:\tlearn: 0.6493265\ttotal: 7.41s\tremaining: 3.3s\n",
            "692:\tlearn: 0.6492305\ttotal: 7.42s\tremaining: 3.29s\n",
            "693:\tlearn: 0.6490614\ttotal: 7.44s\tremaining: 3.28s\n",
            "694:\tlearn: 0.6489332\ttotal: 7.45s\tremaining: 3.27s\n",
            "695:\tlearn: 0.6487427\ttotal: 7.46s\tremaining: 3.26s\n",
            "696:\tlearn: 0.6486553\ttotal: 7.47s\tremaining: 3.25s\n",
            "697:\tlearn: 0.6484876\ttotal: 7.48s\tremaining: 3.24s\n",
            "698:\tlearn: 0.6483483\ttotal: 7.49s\tremaining: 3.23s\n",
            "699:\tlearn: 0.6482538\ttotal: 7.5s\tremaining: 3.21s\n",
            "700:\tlearn: 0.6481138\ttotal: 7.51s\tremaining: 3.2s\n",
            "701:\tlearn: 0.6480281\ttotal: 7.52s\tremaining: 3.19s\n",
            "702:\tlearn: 0.6478808\ttotal: 7.53s\tremaining: 3.18s\n",
            "703:\tlearn: 0.6477095\ttotal: 7.54s\tremaining: 3.17s\n",
            "704:\tlearn: 0.6475776\ttotal: 7.56s\tremaining: 3.16s\n",
            "705:\tlearn: 0.6474187\ttotal: 7.57s\tremaining: 3.15s\n",
            "706:\tlearn: 0.6472664\ttotal: 7.58s\tremaining: 3.14s\n",
            "707:\tlearn: 0.6471496\ttotal: 7.59s\tremaining: 3.13s\n",
            "708:\tlearn: 0.6469670\ttotal: 7.6s\tremaining: 3.12s\n",
            "709:\tlearn: 0.6468765\ttotal: 7.61s\tremaining: 3.11s\n",
            "710:\tlearn: 0.6467836\ttotal: 7.62s\tremaining: 3.1s\n",
            "711:\tlearn: 0.6466719\ttotal: 7.63s\tremaining: 3.08s\n",
            "712:\tlearn: 0.6465352\ttotal: 7.64s\tremaining: 3.07s\n",
            "713:\tlearn: 0.6464020\ttotal: 7.65s\tremaining: 3.06s\n",
            "714:\tlearn: 0.6462732\ttotal: 7.66s\tremaining: 3.05s\n",
            "715:\tlearn: 0.6461766\ttotal: 7.67s\tremaining: 3.04s\n",
            "716:\tlearn: 0.6460665\ttotal: 7.68s\tremaining: 3.03s\n",
            "717:\tlearn: 0.6459202\ttotal: 7.69s\tremaining: 3.02s\n",
            "718:\tlearn: 0.6458152\ttotal: 7.7s\tremaining: 3.01s\n",
            "719:\tlearn: 0.6456980\ttotal: 7.71s\tremaining: 3s\n",
            "720:\tlearn: 0.6455946\ttotal: 7.72s\tremaining: 2.99s\n",
            "721:\tlearn: 0.6454939\ttotal: 7.73s\tremaining: 2.98s\n",
            "722:\tlearn: 0.6453088\ttotal: 7.74s\tremaining: 2.97s\n",
            "723:\tlearn: 0.6451631\ttotal: 7.75s\tremaining: 2.96s\n",
            "724:\tlearn: 0.6450310\ttotal: 7.76s\tremaining: 2.94s\n",
            "725:\tlearn: 0.6448125\ttotal: 7.78s\tremaining: 2.93s\n",
            "726:\tlearn: 0.6446769\ttotal: 7.79s\tremaining: 2.92s\n",
            "727:\tlearn: 0.6445887\ttotal: 7.79s\tremaining: 2.91s\n",
            "728:\tlearn: 0.6443363\ttotal: 7.81s\tremaining: 2.9s\n",
            "729:\tlearn: 0.6442417\ttotal: 7.82s\tremaining: 2.89s\n",
            "730:\tlearn: 0.6440876\ttotal: 7.83s\tremaining: 2.88s\n",
            "731:\tlearn: 0.6439199\ttotal: 7.85s\tremaining: 2.87s\n",
            "732:\tlearn: 0.6438190\ttotal: 7.86s\tremaining: 2.86s\n",
            "733:\tlearn: 0.6437150\ttotal: 7.87s\tremaining: 2.85s\n",
            "734:\tlearn: 0.6435777\ttotal: 7.88s\tremaining: 2.84s\n",
            "735:\tlearn: 0.6434873\ttotal: 7.89s\tremaining: 2.83s\n",
            "736:\tlearn: 0.6433680\ttotal: 7.9s\tremaining: 2.82s\n",
            "737:\tlearn: 0.6431559\ttotal: 7.92s\tremaining: 2.81s\n",
            "738:\tlearn: 0.6430433\ttotal: 7.93s\tremaining: 2.8s\n",
            "739:\tlearn: 0.6429243\ttotal: 7.95s\tremaining: 2.79s\n",
            "740:\tlearn: 0.6428018\ttotal: 7.96s\tremaining: 2.78s\n",
            "741:\tlearn: 0.6426713\ttotal: 7.97s\tremaining: 2.77s\n",
            "742:\tlearn: 0.6425673\ttotal: 7.98s\tremaining: 2.76s\n",
            "743:\tlearn: 0.6423862\ttotal: 7.99s\tremaining: 2.75s\n",
            "744:\tlearn: 0.6422344\ttotal: 8s\tremaining: 2.74s\n",
            "745:\tlearn: 0.6421449\ttotal: 8.01s\tremaining: 2.73s\n",
            "746:\tlearn: 0.6419921\ttotal: 8.02s\tremaining: 2.71s\n",
            "747:\tlearn: 0.6418752\ttotal: 8.03s\tremaining: 2.7s\n",
            "748:\tlearn: 0.6417491\ttotal: 8.04s\tremaining: 2.69s\n",
            "749:\tlearn: 0.6417039\ttotal: 8.05s\tremaining: 2.68s\n",
            "750:\tlearn: 0.6415800\ttotal: 8.06s\tremaining: 2.67s\n",
            "751:\tlearn: 0.6415004\ttotal: 8.07s\tremaining: 2.66s\n",
            "752:\tlearn: 0.6412661\ttotal: 8.08s\tremaining: 2.65s\n",
            "753:\tlearn: 0.6411688\ttotal: 8.09s\tremaining: 2.64s\n",
            "754:\tlearn: 0.6410524\ttotal: 8.1s\tremaining: 2.63s\n",
            "755:\tlearn: 0.6409450\ttotal: 8.11s\tremaining: 2.62s\n",
            "756:\tlearn: 0.6408463\ttotal: 8.12s\tremaining: 2.61s\n",
            "757:\tlearn: 0.6407359\ttotal: 8.13s\tremaining: 2.6s\n",
            "758:\tlearn: 0.6406437\ttotal: 8.15s\tremaining: 2.59s\n",
            "759:\tlearn: 0.6405098\ttotal: 8.16s\tremaining: 2.58s\n",
            "760:\tlearn: 0.6403431\ttotal: 8.17s\tremaining: 2.57s\n",
            "761:\tlearn: 0.6402456\ttotal: 8.18s\tremaining: 2.56s\n",
            "762:\tlearn: 0.6401097\ttotal: 8.19s\tremaining: 2.54s\n",
            "763:\tlearn: 0.6400235\ttotal: 8.2s\tremaining: 2.53s\n",
            "764:\tlearn: 0.6399540\ttotal: 8.21s\tremaining: 2.52s\n",
            "765:\tlearn: 0.6398103\ttotal: 8.22s\tremaining: 2.51s\n",
            "766:\tlearn: 0.6396461\ttotal: 8.23s\tremaining: 2.5s\n",
            "767:\tlearn: 0.6395616\ttotal: 8.24s\tremaining: 2.49s\n",
            "768:\tlearn: 0.6395050\ttotal: 8.25s\tremaining: 2.48s\n",
            "769:\tlearn: 0.6393738\ttotal: 8.26s\tremaining: 2.47s\n",
            "770:\tlearn: 0.6392450\ttotal: 8.27s\tremaining: 2.46s\n",
            "771:\tlearn: 0.6390865\ttotal: 8.28s\tremaining: 2.44s\n",
            "772:\tlearn: 0.6389995\ttotal: 8.29s\tremaining: 2.43s\n",
            "773:\tlearn: 0.6387986\ttotal: 8.3s\tremaining: 2.42s\n",
            "774:\tlearn: 0.6386205\ttotal: 8.31s\tremaining: 2.41s\n",
            "775:\tlearn: 0.6385271\ttotal: 8.32s\tremaining: 2.4s\n",
            "776:\tlearn: 0.6384850\ttotal: 8.33s\tremaining: 2.39s\n",
            "777:\tlearn: 0.6383577\ttotal: 8.34s\tremaining: 2.38s\n",
            "778:\tlearn: 0.6381794\ttotal: 8.35s\tremaining: 2.37s\n",
            "779:\tlearn: 0.6380669\ttotal: 8.36s\tremaining: 2.36s\n",
            "780:\tlearn: 0.6379084\ttotal: 8.37s\tremaining: 2.35s\n",
            "781:\tlearn: 0.6377426\ttotal: 8.38s\tremaining: 2.34s\n",
            "782:\tlearn: 0.6376237\ttotal: 8.39s\tremaining: 2.33s\n",
            "783:\tlearn: 0.6375638\ttotal: 8.4s\tremaining: 2.31s\n",
            "784:\tlearn: 0.6374699\ttotal: 8.41s\tremaining: 2.3s\n",
            "785:\tlearn: 0.6373797\ttotal: 8.42s\tremaining: 2.29s\n",
            "786:\tlearn: 0.6373105\ttotal: 8.43s\tremaining: 2.28s\n",
            "787:\tlearn: 0.6371932\ttotal: 8.44s\tremaining: 2.27s\n",
            "788:\tlearn: 0.6370830\ttotal: 8.45s\tremaining: 2.26s\n",
            "789:\tlearn: 0.6369782\ttotal: 8.46s\tremaining: 2.25s\n",
            "790:\tlearn: 0.6368959\ttotal: 8.47s\tremaining: 2.24s\n",
            "791:\tlearn: 0.6368050\ttotal: 8.48s\tremaining: 2.23s\n",
            "792:\tlearn: 0.6367100\ttotal: 8.49s\tremaining: 2.22s\n",
            "793:\tlearn: 0.6366067\ttotal: 8.5s\tremaining: 2.21s\n",
            "794:\tlearn: 0.6365134\ttotal: 8.51s\tremaining: 2.19s\n",
            "795:\tlearn: 0.6364068\ttotal: 8.52s\tremaining: 2.18s\n",
            "796:\tlearn: 0.6363578\ttotal: 8.53s\tremaining: 2.17s\n",
            "797:\tlearn: 0.6362309\ttotal: 8.54s\tremaining: 2.16s\n",
            "798:\tlearn: 0.6361546\ttotal: 8.56s\tremaining: 2.15s\n",
            "799:\tlearn: 0.6360458\ttotal: 8.58s\tremaining: 2.14s\n",
            "800:\tlearn: 0.6359644\ttotal: 8.59s\tremaining: 2.13s\n",
            "801:\tlearn: 0.6358884\ttotal: 8.6s\tremaining: 2.12s\n",
            "802:\tlearn: 0.6357379\ttotal: 8.61s\tremaining: 2.11s\n",
            "803:\tlearn: 0.6356309\ttotal: 8.62s\tremaining: 2.1s\n",
            "804:\tlearn: 0.6354721\ttotal: 8.63s\tremaining: 2.09s\n",
            "805:\tlearn: 0.6353563\ttotal: 8.64s\tremaining: 2.08s\n",
            "806:\tlearn: 0.6352935\ttotal: 8.65s\tremaining: 2.07s\n",
            "807:\tlearn: 0.6352099\ttotal: 8.66s\tremaining: 2.06s\n",
            "808:\tlearn: 0.6350866\ttotal: 8.67s\tremaining: 2.05s\n",
            "809:\tlearn: 0.6350457\ttotal: 8.68s\tremaining: 2.04s\n",
            "810:\tlearn: 0.6349162\ttotal: 8.69s\tremaining: 2.02s\n",
            "811:\tlearn: 0.6348057\ttotal: 8.7s\tremaining: 2.01s\n",
            "812:\tlearn: 0.6347399\ttotal: 8.71s\tremaining: 2s\n",
            "813:\tlearn: 0.6346212\ttotal: 8.72s\tremaining: 1.99s\n",
            "814:\tlearn: 0.6345956\ttotal: 8.73s\tremaining: 1.98s\n",
            "815:\tlearn: 0.6344752\ttotal: 8.74s\tremaining: 1.97s\n",
            "816:\tlearn: 0.6343758\ttotal: 8.75s\tremaining: 1.96s\n",
            "817:\tlearn: 0.6342654\ttotal: 8.77s\tremaining: 1.95s\n",
            "818:\tlearn: 0.6341391\ttotal: 8.78s\tremaining: 1.94s\n",
            "819:\tlearn: 0.6340300\ttotal: 8.79s\tremaining: 1.93s\n",
            "820:\tlearn: 0.6339497\ttotal: 8.8s\tremaining: 1.92s\n",
            "821:\tlearn: 0.6338368\ttotal: 8.81s\tremaining: 1.91s\n",
            "822:\tlearn: 0.6337603\ttotal: 8.83s\tremaining: 1.9s\n",
            "823:\tlearn: 0.6336108\ttotal: 8.84s\tremaining: 1.89s\n",
            "824:\tlearn: 0.6335325\ttotal: 8.85s\tremaining: 1.88s\n",
            "825:\tlearn: 0.6334148\ttotal: 8.86s\tremaining: 1.86s\n",
            "826:\tlearn: 0.6332709\ttotal: 8.87s\tremaining: 1.85s\n",
            "827:\tlearn: 0.6330413\ttotal: 8.88s\tremaining: 1.84s\n",
            "828:\tlearn: 0.6329519\ttotal: 8.89s\tremaining: 1.83s\n",
            "829:\tlearn: 0.6328193\ttotal: 8.9s\tremaining: 1.82s\n",
            "830:\tlearn: 0.6327295\ttotal: 8.91s\tremaining: 1.81s\n",
            "831:\tlearn: 0.6325844\ttotal: 8.92s\tremaining: 1.8s\n",
            "832:\tlearn: 0.6324718\ttotal: 8.93s\tremaining: 1.79s\n",
            "833:\tlearn: 0.6324283\ttotal: 8.94s\tremaining: 1.78s\n",
            "834:\tlearn: 0.6322232\ttotal: 8.95s\tremaining: 1.77s\n",
            "835:\tlearn: 0.6321036\ttotal: 8.96s\tremaining: 1.76s\n",
            "836:\tlearn: 0.6320093\ttotal: 8.97s\tremaining: 1.75s\n",
            "837:\tlearn: 0.6318282\ttotal: 8.99s\tremaining: 1.74s\n",
            "838:\tlearn: 0.6316793\ttotal: 9s\tremaining: 1.73s\n",
            "839:\tlearn: 0.6316009\ttotal: 9.01s\tremaining: 1.72s\n",
            "840:\tlearn: 0.6315030\ttotal: 9.02s\tremaining: 1.7s\n",
            "841:\tlearn: 0.6314086\ttotal: 9.03s\tremaining: 1.69s\n",
            "842:\tlearn: 0.6313477\ttotal: 9.04s\tremaining: 1.68s\n",
            "843:\tlearn: 0.6312547\ttotal: 9.05s\tremaining: 1.67s\n",
            "844:\tlearn: 0.6311957\ttotal: 9.06s\tremaining: 1.66s\n",
            "845:\tlearn: 0.6311205\ttotal: 9.07s\tremaining: 1.65s\n",
            "846:\tlearn: 0.6309414\ttotal: 9.08s\tremaining: 1.64s\n",
            "847:\tlearn: 0.6308163\ttotal: 9.09s\tremaining: 1.63s\n",
            "848:\tlearn: 0.6307132\ttotal: 9.1s\tremaining: 1.62s\n",
            "849:\tlearn: 0.6306341\ttotal: 9.11s\tremaining: 1.61s\n",
            "850:\tlearn: 0.6304967\ttotal: 9.12s\tremaining: 1.6s\n",
            "851:\tlearn: 0.6304313\ttotal: 9.13s\tremaining: 1.59s\n",
            "852:\tlearn: 0.6303482\ttotal: 9.14s\tremaining: 1.57s\n",
            "853:\tlearn: 0.6303136\ttotal: 9.15s\tremaining: 1.56s\n",
            "854:\tlearn: 0.6302003\ttotal: 9.16s\tremaining: 1.55s\n",
            "855:\tlearn: 0.6301093\ttotal: 9.17s\tremaining: 1.54s\n",
            "856:\tlearn: 0.6299899\ttotal: 9.19s\tremaining: 1.53s\n",
            "857:\tlearn: 0.6298792\ttotal: 9.2s\tremaining: 1.52s\n",
            "858:\tlearn: 0.6297987\ttotal: 9.21s\tremaining: 1.51s\n",
            "859:\tlearn: 0.6297165\ttotal: 9.22s\tremaining: 1.5s\n",
            "860:\tlearn: 0.6295550\ttotal: 9.23s\tremaining: 1.49s\n",
            "861:\tlearn: 0.6294989\ttotal: 9.24s\tremaining: 1.48s\n",
            "862:\tlearn: 0.6293996\ttotal: 9.25s\tremaining: 1.47s\n",
            "863:\tlearn: 0.6293149\ttotal: 9.26s\tremaining: 1.46s\n",
            "864:\tlearn: 0.6291777\ttotal: 9.27s\tremaining: 1.45s\n",
            "865:\tlearn: 0.6290999\ttotal: 9.28s\tremaining: 1.44s\n",
            "866:\tlearn: 0.6290102\ttotal: 9.29s\tremaining: 1.42s\n",
            "867:\tlearn: 0.6289219\ttotal: 9.3s\tremaining: 1.41s\n",
            "868:\tlearn: 0.6288204\ttotal: 9.31s\tremaining: 1.4s\n",
            "869:\tlearn: 0.6287852\ttotal: 9.32s\tremaining: 1.39s\n",
            "870:\tlearn: 0.6286697\ttotal: 9.33s\tremaining: 1.38s\n",
            "871:\tlearn: 0.6285794\ttotal: 9.34s\tremaining: 1.37s\n",
            "872:\tlearn: 0.6284679\ttotal: 9.35s\tremaining: 1.36s\n",
            "873:\tlearn: 0.6284116\ttotal: 9.36s\tremaining: 1.35s\n",
            "874:\tlearn: 0.6283485\ttotal: 9.37s\tremaining: 1.34s\n",
            "875:\tlearn: 0.6282623\ttotal: 9.38s\tremaining: 1.33s\n",
            "876:\tlearn: 0.6281862\ttotal: 9.39s\tremaining: 1.32s\n",
            "877:\tlearn: 0.6280746\ttotal: 9.4s\tremaining: 1.31s\n",
            "878:\tlearn: 0.6279419\ttotal: 9.41s\tremaining: 1.29s\n",
            "879:\tlearn: 0.6278095\ttotal: 9.42s\tremaining: 1.28s\n",
            "880:\tlearn: 0.6276900\ttotal: 9.43s\tremaining: 1.27s\n",
            "881:\tlearn: 0.6276543\ttotal: 9.44s\tremaining: 1.26s\n",
            "882:\tlearn: 0.6275450\ttotal: 9.45s\tremaining: 1.25s\n",
            "883:\tlearn: 0.6274185\ttotal: 9.46s\tremaining: 1.24s\n",
            "884:\tlearn: 0.6273035\ttotal: 9.48s\tremaining: 1.23s\n",
            "885:\tlearn: 0.6272154\ttotal: 9.49s\tremaining: 1.22s\n",
            "886:\tlearn: 0.6270472\ttotal: 9.5s\tremaining: 1.21s\n",
            "887:\tlearn: 0.6269341\ttotal: 9.51s\tremaining: 1.2s\n",
            "888:\tlearn: 0.6268263\ttotal: 9.52s\tremaining: 1.19s\n",
            "889:\tlearn: 0.6267208\ttotal: 9.53s\tremaining: 1.18s\n",
            "890:\tlearn: 0.6266376\ttotal: 9.54s\tremaining: 1.17s\n",
            "891:\tlearn: 0.6265590\ttotal: 9.55s\tremaining: 1.16s\n",
            "892:\tlearn: 0.6264665\ttotal: 9.56s\tremaining: 1.15s\n",
            "893:\tlearn: 0.6263595\ttotal: 9.57s\tremaining: 1.13s\n",
            "894:\tlearn: 0.6262687\ttotal: 9.58s\tremaining: 1.12s\n",
            "895:\tlearn: 0.6261659\ttotal: 9.6s\tremaining: 1.11s\n",
            "896:\tlearn: 0.6260379\ttotal: 9.61s\tremaining: 1.1s\n",
            "897:\tlearn: 0.6259163\ttotal: 9.62s\tremaining: 1.09s\n",
            "898:\tlearn: 0.6257848\ttotal: 9.63s\tremaining: 1.08s\n",
            "899:\tlearn: 0.6256603\ttotal: 9.64s\tremaining: 1.07s\n",
            "900:\tlearn: 0.6255367\ttotal: 9.65s\tremaining: 1.06s\n",
            "901:\tlearn: 0.6254400\ttotal: 9.66s\tremaining: 1.05s\n",
            "902:\tlearn: 0.6252820\ttotal: 9.67s\tremaining: 1.04s\n",
            "903:\tlearn: 0.6252329\ttotal: 9.68s\tremaining: 1.03s\n",
            "904:\tlearn: 0.6250972\ttotal: 9.69s\tremaining: 1.02s\n",
            "905:\tlearn: 0.6250213\ttotal: 9.7s\tremaining: 1.01s\n",
            "906:\tlearn: 0.6249883\ttotal: 9.71s\tremaining: 995ms\n",
            "907:\tlearn: 0.6248539\ttotal: 9.72s\tremaining: 985ms\n",
            "908:\tlearn: 0.6247506\ttotal: 9.73s\tremaining: 974ms\n",
            "909:\tlearn: 0.6246590\ttotal: 9.74s\tremaining: 963ms\n",
            "910:\tlearn: 0.6245718\ttotal: 9.75s\tremaining: 952ms\n",
            "911:\tlearn: 0.6244374\ttotal: 9.76s\tremaining: 941ms\n",
            "912:\tlearn: 0.6243361\ttotal: 9.77s\tremaining: 931ms\n",
            "913:\tlearn: 0.6242594\ttotal: 9.78s\tremaining: 920ms\n",
            "914:\tlearn: 0.6241463\ttotal: 9.79s\tremaining: 910ms\n",
            "915:\tlearn: 0.6240531\ttotal: 9.81s\tremaining: 899ms\n",
            "916:\tlearn: 0.6239418\ttotal: 9.82s\tremaining: 888ms\n",
            "917:\tlearn: 0.6238466\ttotal: 9.82s\tremaining: 878ms\n",
            "918:\tlearn: 0.6237466\ttotal: 9.84s\tremaining: 867ms\n",
            "919:\tlearn: 0.6236125\ttotal: 9.85s\tremaining: 856ms\n",
            "920:\tlearn: 0.6235022\ttotal: 9.86s\tremaining: 845ms\n",
            "921:\tlearn: 0.6234152\ttotal: 9.87s\tremaining: 835ms\n",
            "922:\tlearn: 0.6233631\ttotal: 9.88s\tremaining: 824ms\n",
            "923:\tlearn: 0.6232571\ttotal: 9.89s\tremaining: 813ms\n",
            "924:\tlearn: 0.6231579\ttotal: 9.9s\tremaining: 803ms\n",
            "925:\tlearn: 0.6230749\ttotal: 9.91s\tremaining: 792ms\n",
            "926:\tlearn: 0.6229975\ttotal: 9.92s\tremaining: 781ms\n",
            "927:\tlearn: 0.6228200\ttotal: 9.93s\tremaining: 770ms\n",
            "928:\tlearn: 0.6227141\ttotal: 9.94s\tremaining: 760ms\n",
            "929:\tlearn: 0.6226025\ttotal: 9.95s\tremaining: 749ms\n",
            "930:\tlearn: 0.6225001\ttotal: 9.96s\tremaining: 738ms\n",
            "931:\tlearn: 0.6224141\ttotal: 9.97s\tremaining: 727ms\n",
            "932:\tlearn: 0.6222731\ttotal: 9.98s\tremaining: 717ms\n",
            "933:\tlearn: 0.6222000\ttotal: 9.99s\tremaining: 706ms\n",
            "934:\tlearn: 0.6221462\ttotal: 10s\tremaining: 695ms\n",
            "935:\tlearn: 0.6220503\ttotal: 10s\tremaining: 685ms\n",
            "936:\tlearn: 0.6219366\ttotal: 10s\tremaining: 674ms\n",
            "937:\tlearn: 0.6217901\ttotal: 10s\tremaining: 663ms\n",
            "938:\tlearn: 0.6216102\ttotal: 10s\tremaining: 653ms\n",
            "939:\tlearn: 0.6215329\ttotal: 10.1s\tremaining: 642ms\n",
            "940:\tlearn: 0.6214378\ttotal: 10.1s\tremaining: 631ms\n",
            "941:\tlearn: 0.6213032\ttotal: 10.1s\tremaining: 620ms\n",
            "942:\tlearn: 0.6212139\ttotal: 10.1s\tremaining: 610ms\n",
            "943:\tlearn: 0.6210874\ttotal: 10.1s\tremaining: 599ms\n",
            "944:\tlearn: 0.6209854\ttotal: 10.1s\tremaining: 588ms\n",
            "945:\tlearn: 0.6208935\ttotal: 10.1s\tremaining: 577ms\n",
            "946:\tlearn: 0.6208397\ttotal: 10.1s\tremaining: 567ms\n",
            "947:\tlearn: 0.6207405\ttotal: 10.1s\tremaining: 556ms\n",
            "948:\tlearn: 0.6206418\ttotal: 10.1s\tremaining: 545ms\n",
            "949:\tlearn: 0.6204463\ttotal: 10.2s\tremaining: 535ms\n",
            "950:\tlearn: 0.6203331\ttotal: 10.2s\tremaining: 524ms\n",
            "951:\tlearn: 0.6201984\ttotal: 10.2s\tremaining: 513ms\n",
            "952:\tlearn: 0.6200433\ttotal: 10.2s\tremaining: 503ms\n",
            "953:\tlearn: 0.6199041\ttotal: 10.2s\tremaining: 492ms\n",
            "954:\tlearn: 0.6198261\ttotal: 10.2s\tremaining: 481ms\n",
            "955:\tlearn: 0.6196886\ttotal: 10.2s\tremaining: 471ms\n",
            "956:\tlearn: 0.6195759\ttotal: 10.2s\tremaining: 460ms\n",
            "957:\tlearn: 0.6194829\ttotal: 10.2s\tremaining: 449ms\n",
            "958:\tlearn: 0.6194228\ttotal: 10.3s\tremaining: 438ms\n",
            "959:\tlearn: 0.6193421\ttotal: 10.3s\tremaining: 428ms\n",
            "960:\tlearn: 0.6192190\ttotal: 10.3s\tremaining: 417ms\n",
            "961:\tlearn: 0.6190552\ttotal: 10.3s\tremaining: 406ms\n",
            "962:\tlearn: 0.6189482\ttotal: 10.3s\tremaining: 396ms\n",
            "963:\tlearn: 0.6188052\ttotal: 10.3s\tremaining: 385ms\n",
            "964:\tlearn: 0.6187197\ttotal: 10.3s\tremaining: 374ms\n",
            "965:\tlearn: 0.6186261\ttotal: 10.3s\tremaining: 363ms\n",
            "966:\tlearn: 0.6185151\ttotal: 10.3s\tremaining: 353ms\n",
            "967:\tlearn: 0.6183827\ttotal: 10.3s\tremaining: 342ms\n",
            "968:\tlearn: 0.6183264\ttotal: 10.4s\tremaining: 331ms\n",
            "969:\tlearn: 0.6181612\ttotal: 10.4s\tremaining: 321ms\n",
            "970:\tlearn: 0.6180734\ttotal: 10.4s\tremaining: 310ms\n",
            "971:\tlearn: 0.6179144\ttotal: 10.4s\tremaining: 299ms\n",
            "972:\tlearn: 0.6178228\ttotal: 10.4s\tremaining: 288ms\n",
            "973:\tlearn: 0.6177033\ttotal: 10.4s\tremaining: 278ms\n",
            "974:\tlearn: 0.6176516\ttotal: 10.4s\tremaining: 267ms\n",
            "975:\tlearn: 0.6175479\ttotal: 10.4s\tremaining: 256ms\n",
            "976:\tlearn: 0.6174670\ttotal: 10.4s\tremaining: 246ms\n",
            "977:\tlearn: 0.6173299\ttotal: 10.4s\tremaining: 235ms\n",
            "978:\tlearn: 0.6171502\ttotal: 10.5s\tremaining: 224ms\n",
            "979:\tlearn: 0.6170655\ttotal: 10.5s\tremaining: 214ms\n",
            "980:\tlearn: 0.6169223\ttotal: 10.5s\tremaining: 203ms\n",
            "981:\tlearn: 0.6167960\ttotal: 10.5s\tremaining: 192ms\n",
            "982:\tlearn: 0.6167084\ttotal: 10.5s\tremaining: 182ms\n",
            "983:\tlearn: 0.6165531\ttotal: 10.5s\tremaining: 171ms\n",
            "984:\tlearn: 0.6164538\ttotal: 10.5s\tremaining: 160ms\n",
            "985:\tlearn: 0.6163732\ttotal: 10.5s\tremaining: 150ms\n",
            "986:\tlearn: 0.6162773\ttotal: 10.5s\tremaining: 139ms\n",
            "987:\tlearn: 0.6161919\ttotal: 10.6s\tremaining: 128ms\n",
            "988:\tlearn: 0.6161019\ttotal: 10.6s\tremaining: 117ms\n",
            "989:\tlearn: 0.6159918\ttotal: 10.6s\tremaining: 107ms\n",
            "990:\tlearn: 0.6158563\ttotal: 10.6s\tremaining: 96.1ms\n",
            "991:\tlearn: 0.6157263\ttotal: 10.6s\tremaining: 85.4ms\n",
            "992:\tlearn: 0.6156147\ttotal: 10.6s\tremaining: 74.8ms\n",
            "993:\tlearn: 0.6155560\ttotal: 10.6s\tremaining: 64.2ms\n",
            "994:\tlearn: 0.6153913\ttotal: 10.6s\tremaining: 53.5ms\n",
            "995:\tlearn: 0.6152984\ttotal: 10.7s\tremaining: 42.8ms\n",
            "996:\tlearn: 0.6152078\ttotal: 10.7s\tremaining: 32.1ms\n",
            "997:\tlearn: 0.6150880\ttotal: 10.7s\tremaining: 21.4ms\n",
            "998:\tlearn: 0.6149284\ttotal: 10.7s\tremaining: 10.7ms\n",
            "999:\tlearn: 0.6148783\ttotal: 10.7s\tremaining: 0us\n",
            "0.6412175648702595\n",
            "0.651374505632536\n",
            "0.6412175648702595\n",
            "              precision    recall  f1-score   support\n",
            "\n",
            "       black       0.63      0.61      0.62      1821\n",
            "        draw       0.88      0.04      0.07       190\n",
            "       white       0.65      0.72      0.68      1997\n",
            "\n",
            "    accuracy                           0.64      4008\n",
            "   macro avg       0.72      0.46      0.46      4008\n",
            "weighted avg       0.65      0.64      0.63      4008\n",
            "\n"
          ]
        }
      ]
    },
    {
      "cell_type": "markdown",
      "metadata": {
        "id": "B1H3iN4Iwfby"
      },
      "source": [
        "## Model Comparison"
      ]
    },
    {
      "cell_type": "code",
      "metadata": {
        "colab": {
          "base_uri": "https://localhost:8080/"
        },
        "id": "Fdgr6yQpwYJa",
        "outputId": "7eee7fa1-1293-40cd-efb3-760df498eb73"
      },
      "source": [
        "a, p, r, f = [], [], [], []\n",
        "for model in [model1, model2, model3, model4, model5, model6, model7, model8, model9, model10]:\n",
        "  a.append(accuracy_score(y_test, model.predict(X_test_scaled)))\n",
        "  p.append(precision_score(y_test, model.predict(X_test_scaled), average='weighted'))\n",
        "  r.append(recall_score(y_test, model.predict(X_test_scaled), average='weighted'))\n",
        "  f.append(f1_score(y_test, model.predict(X_test_scaled), average='weighted'))"
      ],
      "execution_count": 129,
      "outputs": [
        {
          "output_type": "stream",
          "name": "stderr",
          "text": [
            "/usr/local/lib/python3.7/dist-packages/sklearn/metrics/_classification.py:1272: UndefinedMetricWarning: Precision is ill-defined and being set to 0.0 in labels with no predicted samples. Use `zero_division` parameter to control this behavior.\n",
            "  _warn_prf(average, modifier, msg_start, len(result))\n",
            "/usr/local/lib/python3.7/dist-packages/sklearn/metrics/_classification.py:1272: UndefinedMetricWarning: Precision is ill-defined and being set to 0.0 in labels with no predicted samples. Use `zero_division` parameter to control this behavior.\n",
            "  _warn_prf(average, modifier, msg_start, len(result))\n"
          ]
        }
      ]
    },
    {
      "cell_type": "code",
      "metadata": {
        "id": "k6dkijvRxP3f"
      },
      "source": [
        "model_score = pd.DataFrame([a, p, r, f],\n",
        "                           columns = ['LR', 'KNN', 'Gaussian', 'SVM', 'DT', \n",
        "                                      'RF', 'AdaB', 'XGB', 'LGBM', 'CatB'])\\\n",
        "                                      .T.sort_values(by=3, ascending=False)\\\n",
        "                                      .rename(columns={0:'Accuracy', 1:'Precision',\n",
        "                                                       2:'Recall', 3:'F1'}).round(4)"
      ],
      "execution_count": 130,
      "outputs": []
    },
    {
      "cell_type": "code",
      "metadata": {
        "colab": {
          "base_uri": "https://localhost:8080/",
          "height": 592
        },
        "id": "Gn6StnKlyE-E",
        "outputId": "788694d1-1fe0-445e-cc70-7fef022a2726"
      },
      "source": [
        "plt.figure(figsize=(10,10))\n",
        "sns.heatmap(model_score, annot=True, cmap='CMRmap')\n",
        "plt.show()"
      ],
      "execution_count": 133,
      "outputs": [
        {
          "output_type": "display_data",
          "data": {
            "image/png": "[encoded data removed]",
            "text/plain": [
              "<Figure size 720x720 with 2 Axes>"
            ]
          },
          "metadata": {
            "needs_background": "light"
          }
        }
      ]
    },
    {
      "cell_type": "markdown",
      "metadata": {
        "id": "NwfFChlZydWR"
      },
      "source": [
        "## AUC-ROC Curve"
      ]
    },
    {
      "cell_type": "code",
      "metadata": {
        "id": "URLBxQZ9yVVA"
      },
      "source": [
        "from sklearn.metrics import roc_curve"
      ],
      "execution_count": 134,
      "outputs": []
    },
    {
      "cell_type": "code",
      "metadata": {
        "colab": {
          "base_uri": "https://localhost:8080/"
        },
        "id": "cXIp5m7cyhLV",
        "outputId": "05a08524-1d7f-42f6-feb9-f0336314edb3"
      },
      "source": [
        "fpr1, tpr1, thresh1 = roc_curve(y_test, prob_1[:,1], pos_label=1)\n",
        "fpr2, tpr2, thresh2 = roc_curve(y_test, prob_2[:,1], pos_label=1)\n",
        "fpr3, tpr3, thresh3 = roc_curve(y_test, prob_3[:,1], pos_label=1)\n",
        "fpr4, tpr4, thresh4 = roc_curve(y_test, prob_4[:,1], pos_label=1)\n",
        "fpr5, tpr5, thresh5 = roc_curve(y_test, prob_5[:,1], pos_label=1)\n",
        "fpr6, tpr6, thresh6 = roc_curve(y_test, prob_6[:,1], pos_label=1)\n",
        "fpr7, tpr7, thresh7 = roc_curve(y_test, prob_7[:,1], pos_label=1)\n",
        "fpr8, tpr8, thresh8 = roc_curve(y_test, prob_8[:,1], pos_label=1)\n",
        "fpr9, tpr9, thresh9 = roc_curve(y_test, prob_9[:,1], pos_label=1)\n",
        "fpr10, tpr10, thresh10 = roc_curve(y_test, prob_10[:,1], pos_label=1)\n",
        "\n",
        "random_probs = [0 for i in range(len(y_test))]\n",
        "p_fpr, p_tpr, _ = roc_curve(y_test, random_probs, pos_label=1)"
      ],
      "execution_count": 135,
      "outputs": [
        {
          "output_type": "stream",
          "name": "stderr",
          "text": [
            "/usr/local/lib/python3.7/dist-packages/sklearn/metrics/_ranking.py:808: UndefinedMetricWarning: No positive samples in y_true, true positive value should be meaningless\n",
            "  UndefinedMetricWarning)\n"
          ]
        }
      ]
    },
    {
      "cell_type": "code",
      "metadata": {
        "id": "VYZ2kjwky7Jf"
      },
      "source": [
        "from sklearn.metrics import roc_auc_score"
      ],
      "execution_count": 136,
      "outputs": []
    },
    {
      "cell_type": "code",
      "metadata": {
        "id": "rCftoejDzjio"
      },
      "source": [
        "import matplotlib.pyplot as plt\n",
        "plt.style.use('fast')"
      ],
      "execution_count": 151,
      "outputs": []
    },
    {
      "cell_type": "code",
      "metadata": {
        "colab": {
          "base_uri": "https://localhost:8080/",
          "height": 512
        },
        "id": "q16sMPH9zOmj",
        "outputId": "30c61a73-1f2e-4012-cdce-721f3285a96e"
      },
      "source": [
        "plt.figure(figsize=(15,8))\n",
        "\n",
        "plt.plot(fpr1, tpr1, linestyle='--', color='orange', label='Logistic Regression')\n",
        "plt.plot(fpr2, tpr2, linestyle='--', color='green', label='KNN')\n",
        "plt.plot(fpr3, tpr3, linestyle='--', color='pink', label='Gaussian')\n",
        "plt.plot(fpr4, tpr4, linestyle='--', color='black', label='SVM')\n",
        "plt.plot(fpr5, tpr5, linestyle='--', color='red', label='DT')\n",
        "plt.plot(fpr6, tpr6, linestyle='--', color='deeppink', label='RF')\n",
        "plt.plot(fpr7, tpr7, linestyle='--', color='yellow', label='AdaBoost')\n",
        "plt.plot(fpr8, tpr8, linestyle='--', color='magenta', label='XGB')\n",
        "plt.plot(fpr9, tpr9, linestyle='--', color='violet', label='LGBM')\n",
        "plt.plot(fpr10, tpr10, linestyle='--', color='firebrick', label='CatBoost')\n",
        "plt.plot(p_fpr, p_tpr, linestyle='--', color='blue')\n",
        "\n",
        "plt.title(\"ROC Curve\")\n",
        "plt.xlabel(\"False Positive Rate\")\n",
        "plt.ylabel(\"True Positive Rate\")\n",
        "plt.xlim(0, 1)\n",
        "plt.ylim(0, 1)\n",
        "\n",
        "plt.legend(loc='best')\n",
        "plt.savefig(\"ROC\", dpi=300)\n",
        "plt.show()"
      ],
      "execution_count": 152,
      "outputs": [
        {
          "output_type": "display_data",
          "data": {
            "image/png": "[encoded data removed]",
            "text/plain": [
              "<Figure size 1080x576 with 1 Axes>"
            ]
          },
          "metadata": {}
        }
      ]
    }
  ]
}