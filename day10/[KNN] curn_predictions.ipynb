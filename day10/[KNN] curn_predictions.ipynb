{
 "metadata": {
  "language_info": {
   "codemirror_mode": {
    "name": "ipython",
    "version": 3
   },
   "file_extension": ".py",
   "mimetype": "text/x-python",
   "name": "python",
   "nbconvert_exporter": "python",
   "pygments_lexer": "ipython3",
   "version": "3.9.0"
  },
  "orig_nbformat": 2,
  "kernelspec": {
   "name": "python390jvsc74a57bd006cb67651ce969e244f20f184e33f4ddb1106793adfe07cf7ddc131c95c4012f",
   "display_name": "Python 3.9.0 64-bit"
  }
 },
 "nbformat": 4,
 "nbformat_minor": 2,
 "cells": [
  {
   "cell_type": "code",
   "execution_count": 1,
   "metadata": {},
   "outputs": [],
   "source": [
    "import pandas as pd\n",
    "import numpy as np"
   ]
  },
  {
   "cell_type": "code",
   "execution_count": 2,
   "metadata": {},
   "outputs": [],
   "source": [
    "df = pd.read_csv('telco-churn.csv', na_values=' ')"
   ]
  },
  {
   "source": [
    "na_values: This is used to create a string that considers pandas as NaN (Not a Number). by-default pandas consider #N/A, -NaN, -n/a, N/A, NULL etc as NaN value."
   ],
   "cell_type": "markdown",
   "metadata": {}
  },
  {
   "cell_type": "code",
   "execution_count": 3,
   "metadata": {},
   "outputs": [
    {
     "output_type": "execute_result",
     "data": {
      "text/plain": [
       "customerID           0\n",
       "gender               0\n",
       "SeniorCitizen        0\n",
       "Partner              0\n",
       "Dependents           0\n",
       "tenure               0\n",
       "PhoneService         0\n",
       "MultipleLines        0\n",
       "InternetService      0\n",
       "OnlineSecurity       0\n",
       "OnlineBackup         0\n",
       "DeviceProtection     0\n",
       "TechSupport          0\n",
       "StreamingTV          0\n",
       "StreamingMovies      0\n",
       "Contract             0\n",
       "PaperlessBilling     0\n",
       "PaymentMethod        0\n",
       "MonthlyCharges       0\n",
       "TotalCharges        11\n",
       "Churn                0\n",
       "dtype: int64"
      ]
     },
     "metadata": {},
     "execution_count": 3
    }
   ],
   "source": [
    "df.isna().sum()"
   ]
  },
  {
   "cell_type": "code",
   "execution_count": 4,
   "metadata": {},
   "outputs": [
    {
     "output_type": "stream",
     "name": "stdout",
     "text": [
      "<class 'pandas.core.frame.DataFrame'>\nRangeIndex: 7043 entries, 0 to 7042\nData columns (total 21 columns):\n #   Column            Non-Null Count  Dtype  \n---  ------            --------------  -----  \n 0   customerID        7043 non-null   object \n 1   gender            7043 non-null   object \n 2   SeniorCitizen     7043 non-null   int64  \n 3   Partner           7043 non-null   object \n 4   Dependents        7043 non-null   object \n 5   tenure            7043 non-null   int64  \n 6   PhoneService      7043 non-null   object \n 7   MultipleLines     7043 non-null   object \n 8   InternetService   7043 non-null   object \n 9   OnlineSecurity    7043 non-null   object \n 10  OnlineBackup      7043 non-null   object \n 11  DeviceProtection  7043 non-null   object \n 12  TechSupport       7043 non-null   object \n 13  StreamingTV       7043 non-null   object \n 14  StreamingMovies   7043 non-null   object \n 15  Contract          7043 non-null   object \n 16  PaperlessBilling  7043 non-null   object \n 17  PaymentMethod     7043 non-null   object \n 18  MonthlyCharges    7043 non-null   float64\n 19  TotalCharges      7032 non-null   float64\n 20  Churn             7043 non-null   object \ndtypes: float64(2), int64(2), object(17)\nmemory usage: 1.1+ MB\n"
     ]
    }
   ],
   "source": [
    "df.info()"
   ]
  },
  {
   "cell_type": "code",
   "execution_count": 5,
   "metadata": {},
   "outputs": [],
   "source": [
    "df.fillna(0, inplace = True)"
   ]
  },
  {
   "cell_type": "code",
   "execution_count": 6,
   "metadata": {},
   "outputs": [
    {
     "output_type": "execute_result",
     "data": {
      "text/plain": [
       "customerID          0\n",
       "gender              0\n",
       "SeniorCitizen       0\n",
       "Partner             0\n",
       "Dependents          0\n",
       "tenure              0\n",
       "PhoneService        0\n",
       "MultipleLines       0\n",
       "InternetService     0\n",
       "OnlineSecurity      0\n",
       "OnlineBackup        0\n",
       "DeviceProtection    0\n",
       "TechSupport         0\n",
       "StreamingTV         0\n",
       "StreamingMovies     0\n",
       "Contract            0\n",
       "PaperlessBilling    0\n",
       "PaymentMethod       0\n",
       "MonthlyCharges      0\n",
       "TotalCharges        0\n",
       "Churn               0\n",
       "dtype: int64"
      ]
     },
     "metadata": {},
     "execution_count": 6
    }
   ],
   "source": [
    "df.isna().sum()"
   ]
  },
  {
   "cell_type": "code",
   "execution_count": 7,
   "metadata": {},
   "outputs": [
    {
     "output_type": "stream",
     "name": "stdout",
     "text": [
      "<class 'pandas.core.frame.DataFrame'>\nRangeIndex: 7043 entries, 0 to 7042\nData columns (total 21 columns):\n #   Column            Non-Null Count  Dtype  \n---  ------            --------------  -----  \n 0   customerID        7043 non-null   object \n 1   gender            7043 non-null   object \n 2   SeniorCitizen     7043 non-null   int64  \n 3   Partner           7043 non-null   object \n 4   Dependents        7043 non-null   object \n 5   tenure            7043 non-null   int64  \n 6   PhoneService      7043 non-null   object \n 7   MultipleLines     7043 non-null   object \n 8   InternetService   7043 non-null   object \n 9   OnlineSecurity    7043 non-null   object \n 10  OnlineBackup      7043 non-null   object \n 11  DeviceProtection  7043 non-null   object \n 12  TechSupport       7043 non-null   object \n 13  StreamingTV       7043 non-null   object \n 14  StreamingMovies   7043 non-null   object \n 15  Contract          7043 non-null   object \n 16  PaperlessBilling  7043 non-null   object \n 17  PaymentMethod     7043 non-null   object \n 18  MonthlyCharges    7043 non-null   float64\n 19  TotalCharges      7043 non-null   float64\n 20  Churn             7043 non-null   object \ndtypes: float64(2), int64(2), object(17)\nmemory usage: 1.1+ MB\n"
     ]
    }
   ],
   "source": [
    "df.info()"
   ]
  },
  {
   "cell_type": "code",
   "execution_count": 8,
   "metadata": {},
   "outputs": [],
   "source": [
    "df.drop(['customerID'], axis=1, inplace=True)"
   ]
  },
  {
   "cell_type": "code",
   "execution_count": 9,
   "metadata": {},
   "outputs": [
    {
     "output_type": "execute_result",
     "data": {
      "text/plain": [
       "   gender  SeniorCitizen Partner Dependents  tenure PhoneService  \\\n",
       "0  Female              0     Yes         No       1           No   \n",
       "1    Male              0      No         No      34          Yes   \n",
       "2    Male              0      No         No       2          Yes   \n",
       "3    Male              0      No         No      45           No   \n",
       "4  Female              0      No         No       2          Yes   \n",
       "\n",
       "      MultipleLines InternetService OnlineSecurity OnlineBackup  \\\n",
       "0  No phone service             DSL             No          Yes   \n",
       "1                No             DSL            Yes           No   \n",
       "2                No             DSL            Yes          Yes   \n",
       "3  No phone service             DSL            Yes           No   \n",
       "4                No     Fiber optic             No           No   \n",
       "\n",
       "  DeviceProtection TechSupport StreamingTV StreamingMovies        Contract  \\\n",
       "0               No          No          No              No  Month-to-month   \n",
       "1              Yes          No          No              No        One year   \n",
       "2               No          No          No              No  Month-to-month   \n",
       "3              Yes         Yes          No              No        One year   \n",
       "4               No          No          No              No  Month-to-month   \n",
       "\n",
       "  PaperlessBilling              PaymentMethod  MonthlyCharges  TotalCharges  \\\n",
       "0              Yes           Electronic check           29.85         29.85   \n",
       "1               No               Mailed check           56.95       1889.50   \n",
       "2              Yes               Mailed check           53.85        108.15   \n",
       "3               No  Bank transfer (automatic)           42.30       1840.75   \n",
       "4              Yes           Electronic check           70.70        151.65   \n",
       "\n",
       "  Churn  \n",
       "0    No  \n",
       "1    No  \n",
       "2   Yes  \n",
       "3    No  \n",
       "4   Yes  "
      ],
      "text/html": "<div>\n<style scoped>\n    .dataframe tbody tr th:only-of-type {\n        vertical-align: middle;\n    }\n\n    .dataframe tbody tr th {\n        vertical-align: top;\n    }\n\n    .dataframe thead th {\n        text-align: right;\n    }\n</style>\n<table border=\"1\" class=\"dataframe\">\n  <thead>\n    <tr style=\"text-align: right;\">\n      <th></th>\n      <th>gender</th>\n      <th>SeniorCitizen</th>\n      <th>Partner</th>\n      <th>Dependents</th>\n      <th>tenure</th>\n      <th>PhoneService</th>\n      <th>MultipleLines</th>\n      <th>InternetService</th>\n      <th>OnlineSecurity</th>\n      <th>OnlineBackup</th>\n      <th>DeviceProtection</th>\n      <th>TechSupport</th>\n      <th>StreamingTV</th>\n      <th>StreamingMovies</th>\n      <th>Contract</th>\n      <th>PaperlessBilling</th>\n      <th>PaymentMethod</th>\n      <th>MonthlyCharges</th>\n      <th>TotalCharges</th>\n      <th>Churn</th>\n    </tr>\n  </thead>\n  <tbody>\n    <tr>\n      <th>0</th>\n      <td>Female</td>\n      <td>0</td>\n      <td>Yes</td>\n      <td>No</td>\n      <td>1</td>\n      <td>No</td>\n      <td>No phone service</td>\n      <td>DSL</td>\n      <td>No</td>\n      <td>Yes</td>\n      <td>No</td>\n      <td>No</td>\n      <td>No</td>\n      <td>No</td>\n      <td>Month-to-month</td>\n      <td>Yes</td>\n      <td>Electronic check</td>\n      <td>29.85</td>\n      <td>29.85</td>\n      <td>No</td>\n    </tr>\n    <tr>\n      <th>1</th>\n      <td>Male</td>\n      <td>0</td>\n      <td>No</td>\n      <td>No</td>\n      <td>34</td>\n      <td>Yes</td>\n      <td>No</td>\n      <td>DSL</td>\n      <td>Yes</td>\n      <td>No</td>\n      <td>Yes</td>\n      <td>No</td>\n      <td>No</td>\n      <td>No</td>\n      <td>One year</td>\n      <td>No</td>\n      <td>Mailed check</td>\n      <td>56.95</td>\n      <td>1889.50</td>\n      <td>No</td>\n    </tr>\n    <tr>\n      <th>2</th>\n      <td>Male</td>\n      <td>0</td>\n      <td>No</td>\n      <td>No</td>\n      <td>2</td>\n      <td>Yes</td>\n      <td>No</td>\n      <td>DSL</td>\n      <td>Yes</td>\n      <td>Yes</td>\n      <td>No</td>\n      <td>No</td>\n      <td>No</td>\n      <td>No</td>\n      <td>Month-to-month</td>\n      <td>Yes</td>\n      <td>Mailed check</td>\n      <td>53.85</td>\n      <td>108.15</td>\n      <td>Yes</td>\n    </tr>\n    <tr>\n      <th>3</th>\n      <td>Male</td>\n      <td>0</td>\n      <td>No</td>\n      <td>No</td>\n      <td>45</td>\n      <td>No</td>\n      <td>No phone service</td>\n      <td>DSL</td>\n      <td>Yes</td>\n      <td>No</td>\n      <td>Yes</td>\n      <td>Yes</td>\n      <td>No</td>\n      <td>No</td>\n      <td>One year</td>\n      <td>No</td>\n      <td>Bank transfer (automatic)</td>\n      <td>42.30</td>\n      <td>1840.75</td>\n      <td>No</td>\n    </tr>\n    <tr>\n      <th>4</th>\n      <td>Female</td>\n      <td>0</td>\n      <td>No</td>\n      <td>No</td>\n      <td>2</td>\n      <td>Yes</td>\n      <td>No</td>\n      <td>Fiber optic</td>\n      <td>No</td>\n      <td>No</td>\n      <td>No</td>\n      <td>No</td>\n      <td>No</td>\n      <td>No</td>\n      <td>Month-to-month</td>\n      <td>Yes</td>\n      <td>Electronic check</td>\n      <td>70.70</td>\n      <td>151.65</td>\n      <td>Yes</td>\n    </tr>\n  </tbody>\n</table>\n</div>"
     },
     "metadata": {},
     "execution_count": 9
    }
   ],
   "source": [
    "df.head()"
   ]
  },
  {
   "cell_type": "code",
   "execution_count": 10,
   "metadata": {},
   "outputs": [
    {
     "output_type": "execute_result",
     "data": {
      "text/plain": [
       "array(['No phone service', 'No', 'Yes'], dtype=object)"
      ]
     },
     "metadata": {},
     "execution_count": 10
    }
   ],
   "source": [
    "df['MultipleLines'].unique()"
   ]
  },
  {
   "cell_type": "code",
   "execution_count": 11,
   "metadata": {},
   "outputs": [],
   "source": [
    "useless_column = df.columns.drop(['SeniorCitizen', 'tenure', 'MonthlyCharges', 'TotalCharges'])"
   ]
  },
  {
   "cell_type": "code",
   "execution_count": 12,
   "metadata": {},
   "outputs": [],
   "source": [
    "df_new = pd.get_dummies(df, columns=useless_column, drop_first=True)"
   ]
  },
  {
   "cell_type": "code",
   "execution_count": 13,
   "metadata": {},
   "outputs": [
    {
     "output_type": "execute_result",
     "data": {
      "text/plain": [
       "   SeniorCitizen  tenure  MonthlyCharges  TotalCharges  gender_Male  \\\n",
       "0              0       1           29.85         29.85            0   \n",
       "1              0      34           56.95       1889.50            1   \n",
       "2              0       2           53.85        108.15            1   \n",
       "3              0      45           42.30       1840.75            1   \n",
       "4              0       2           70.70        151.65            0   \n",
       "\n",
       "   Partner_Yes  Dependents_Yes  PhoneService_Yes  \\\n",
       "0            1               0                 0   \n",
       "1            0               0                 1   \n",
       "2            0               0                 1   \n",
       "3            0               0                 0   \n",
       "4            0               0                 1   \n",
       "\n",
       "   MultipleLines_No phone service  MultipleLines_Yes  ...  StreamingTV_Yes  \\\n",
       "0                               1                  0  ...                0   \n",
       "1                               0                  0  ...                0   \n",
       "2                               0                  0  ...                0   \n",
       "3                               1                  0  ...                0   \n",
       "4                               0                  0  ...                0   \n",
       "\n",
       "   StreamingMovies_No internet service  StreamingMovies_Yes  \\\n",
       "0                                    0                    0   \n",
       "1                                    0                    0   \n",
       "2                                    0                    0   \n",
       "3                                    0                    0   \n",
       "4                                    0                    0   \n",
       "\n",
       "   Contract_One year  Contract_Two year  PaperlessBilling_Yes  \\\n",
       "0                  0                  0                     1   \n",
       "1                  1                  0                     0   \n",
       "2                  0                  0                     1   \n",
       "3                  1                  0                     0   \n",
       "4                  0                  0                     1   \n",
       "\n",
       "   PaymentMethod_Credit card (automatic)  PaymentMethod_Electronic check  \\\n",
       "0                                      0                               1   \n",
       "1                                      0                               0   \n",
       "2                                      0                               0   \n",
       "3                                      0                               0   \n",
       "4                                      0                               1   \n",
       "\n",
       "   PaymentMethod_Mailed check  Churn_Yes  \n",
       "0                           0          0  \n",
       "1                           1          0  \n",
       "2                           1          1  \n",
       "3                           0          0  \n",
       "4                           0          1  \n",
       "\n",
       "[5 rows x 31 columns]"
      ],
      "text/html": "<div>\n<style scoped>\n    .dataframe tbody tr th:only-of-type {\n        vertical-align: middle;\n    }\n\n    .dataframe tbody tr th {\n        vertical-align: top;\n    }\n\n    .dataframe thead th {\n        text-align: right;\n    }\n</style>\n<table border=\"1\" class=\"dataframe\">\n  <thead>\n    <tr style=\"text-align: right;\">\n      <th></th>\n      <th>SeniorCitizen</th>\n      <th>tenure</th>\n      <th>MonthlyCharges</th>\n      <th>TotalCharges</th>\n      <th>gender_Male</th>\n      <th>Partner_Yes</th>\n      <th>Dependents_Yes</th>\n      <th>PhoneService_Yes</th>\n      <th>MultipleLines_No phone service</th>\n      <th>MultipleLines_Yes</th>\n      <th>...</th>\n      <th>StreamingTV_Yes</th>\n      <th>StreamingMovies_No internet service</th>\n      <th>StreamingMovies_Yes</th>\n      <th>Contract_One year</th>\n      <th>Contract_Two year</th>\n      <th>PaperlessBilling_Yes</th>\n      <th>PaymentMethod_Credit card (automatic)</th>\n      <th>PaymentMethod_Electronic check</th>\n      <th>PaymentMethod_Mailed check</th>\n      <th>Churn_Yes</th>\n    </tr>\n  </thead>\n  <tbody>\n    <tr>\n      <th>0</th>\n      <td>0</td>\n      <td>1</td>\n      <td>29.85</td>\n      <td>29.85</td>\n      <td>0</td>\n      <td>1</td>\n      <td>0</td>\n      <td>0</td>\n      <td>1</td>\n      <td>0</td>\n      <td>...</td>\n      <td>0</td>\n      <td>0</td>\n      <td>0</td>\n      <td>0</td>\n      <td>0</td>\n      <td>1</td>\n      <td>0</td>\n      <td>1</td>\n      <td>0</td>\n      <td>0</td>\n    </tr>\n    <tr>\n      <th>1</th>\n      <td>0</td>\n      <td>34</td>\n      <td>56.95</td>\n      <td>1889.50</td>\n      <td>1</td>\n      <td>0</td>\n      <td>0</td>\n      <td>1</td>\n      <td>0</td>\n      <td>0</td>\n      <td>...</td>\n      <td>0</td>\n      <td>0</td>\n      <td>0</td>\n      <td>1</td>\n      <td>0</td>\n      <td>0</td>\n      <td>0</td>\n      <td>0</td>\n      <td>1</td>\n      <td>0</td>\n    </tr>\n    <tr>\n      <th>2</th>\n      <td>0</td>\n      <td>2</td>\n      <td>53.85</td>\n      <td>108.15</td>\n      <td>1</td>\n      <td>0</td>\n      <td>0</td>\n      <td>1</td>\n      <td>0</td>\n      <td>0</td>\n      <td>...</td>\n      <td>0</td>\n      <td>0</td>\n      <td>0</td>\n      <td>0</td>\n      <td>0</td>\n      <td>1</td>\n      <td>0</td>\n      <td>0</td>\n      <td>1</td>\n      <td>1</td>\n    </tr>\n    <tr>\n      <th>3</th>\n      <td>0</td>\n      <td>45</td>\n      <td>42.30</td>\n      <td>1840.75</td>\n      <td>1</td>\n      <td>0</td>\n      <td>0</td>\n      <td>0</td>\n      <td>1</td>\n      <td>0</td>\n      <td>...</td>\n      <td>0</td>\n      <td>0</td>\n      <td>0</td>\n      <td>1</td>\n      <td>0</td>\n      <td>0</td>\n      <td>0</td>\n      <td>0</td>\n      <td>0</td>\n      <td>0</td>\n    </tr>\n    <tr>\n      <th>4</th>\n      <td>0</td>\n      <td>2</td>\n      <td>70.70</td>\n      <td>151.65</td>\n      <td>0</td>\n      <td>0</td>\n      <td>0</td>\n      <td>1</td>\n      <td>0</td>\n      <td>0</td>\n      <td>...</td>\n      <td>0</td>\n      <td>0</td>\n      <td>0</td>\n      <td>0</td>\n      <td>0</td>\n      <td>1</td>\n      <td>0</td>\n      <td>1</td>\n      <td>0</td>\n      <td>1</td>\n    </tr>\n  </tbody>\n</table>\n<p>5 rows × 31 columns</p>\n</div>"
     },
     "metadata": {},
     "execution_count": 13
    }
   ],
   "source": [
    "df_new.head()"
   ]
  },
  {
   "cell_type": "code",
   "execution_count": 14,
   "metadata": {},
   "outputs": [
    {
     "output_type": "stream",
     "name": "stdout",
     "text": [
      "<class 'pandas.core.frame.DataFrame'>\nRangeIndex: 7043 entries, 0 to 7042\nData columns (total 31 columns):\n #   Column                                 Non-Null Count  Dtype  \n---  ------                                 --------------  -----  \n 0   SeniorCitizen                          7043 non-null   int64  \n 1   tenure                                 7043 non-null   int64  \n 2   MonthlyCharges                         7043 non-null   float64\n 3   TotalCharges                           7043 non-null   float64\n 4   gender_Male                            7043 non-null   uint8  \n 5   Partner_Yes                            7043 non-null   uint8  \n 6   Dependents_Yes                         7043 non-null   uint8  \n 7   PhoneService_Yes                       7043 non-null   uint8  \n 8   MultipleLines_No phone service         7043 non-null   uint8  \n 9   MultipleLines_Yes                      7043 non-null   uint8  \n 10  InternetService_Fiber optic            7043 non-null   uint8  \n 11  InternetService_No                     7043 non-null   uint8  \n 12  OnlineSecurity_No internet service     7043 non-null   uint8  \n 13  OnlineSecurity_Yes                     7043 non-null   uint8  \n 14  OnlineBackup_No internet service       7043 non-null   uint8  \n 15  OnlineBackup_Yes                       7043 non-null   uint8  \n 16  DeviceProtection_No internet service   7043 non-null   uint8  \n 17  DeviceProtection_Yes                   7043 non-null   uint8  \n 18  TechSupport_No internet service        7043 non-null   uint8  \n 19  TechSupport_Yes                        7043 non-null   uint8  \n 20  StreamingTV_No internet service        7043 non-null   uint8  \n 21  StreamingTV_Yes                        7043 non-null   uint8  \n 22  StreamingMovies_No internet service    7043 non-null   uint8  \n 23  StreamingMovies_Yes                    7043 non-null   uint8  \n 24  Contract_One year                      7043 non-null   uint8  \n 25  Contract_Two year                      7043 non-null   uint8  \n 26  PaperlessBilling_Yes                   7043 non-null   uint8  \n 27  PaymentMethod_Credit card (automatic)  7043 non-null   uint8  \n 28  PaymentMethod_Electronic check         7043 non-null   uint8  \n 29  PaymentMethod_Mailed check             7043 non-null   uint8  \n 30  Churn_Yes                              7043 non-null   uint8  \ndtypes: float64(2), int64(2), uint8(27)\nmemory usage: 405.9 KB\n"
     ]
    }
   ],
   "source": [
    "df_new.info()"
   ]
  },
  {
   "cell_type": "code",
   "execution_count": 18,
   "metadata": {},
   "outputs": [
    {
     "output_type": "execute_result",
     "data": {
      "text/plain": [
       "(7043, 20)"
      ]
     },
     "metadata": {},
     "execution_count": 18
    }
   ],
   "source": [
    "df.shape"
   ]
  },
  {
   "cell_type": "code",
   "execution_count": 17,
   "metadata": {},
   "outputs": [
    {
     "output_type": "execute_result",
     "data": {
      "text/plain": [
       "(7043, 31)"
      ]
     },
     "metadata": {},
     "execution_count": 17
    }
   ],
   "source": [
    "df_new.shape"
   ]
  },
  {
   "cell_type": "code",
   "execution_count": 19,
   "metadata": {},
   "outputs": [
    {
     "output_type": "execute_result",
     "data": {
      "text/plain": [
       "           SeniorCitizen     tenure  MonthlyCharges  TotalCharges  \\\n",
       "Churn_Yes                                                           \n",
       "0              73.463013  73.463013       73.463013     73.463013   \n",
       "1              26.536987  26.536987       26.536987     26.536987   \n",
       "\n",
       "           gender_Male  Partner_Yes  Dependents_Yes  PhoneService_Yes  \\\n",
       "Churn_Yes                                                               \n",
       "0            73.463013    73.463013       73.463013         73.463013   \n",
       "1            26.536987    26.536987       26.536987         26.536987   \n",
       "\n",
       "           MultipleLines_No phone service  MultipleLines_Yes  ...  \\\n",
       "Churn_Yes                                                     ...   \n",
       "0                               73.463013          73.463013  ...   \n",
       "1                               26.536987          26.536987  ...   \n",
       "\n",
       "           StreamingTV_No internet service  StreamingTV_Yes  \\\n",
       "Churn_Yes                                                     \n",
       "0                                73.463013        73.463013   \n",
       "1                                26.536987        26.536987   \n",
       "\n",
       "           StreamingMovies_No internet service  StreamingMovies_Yes  \\\n",
       "Churn_Yes                                                             \n",
       "0                                    73.463013            73.463013   \n",
       "1                                    26.536987            26.536987   \n",
       "\n",
       "           Contract_One year  Contract_Two year  PaperlessBilling_Yes  \\\n",
       "Churn_Yes                                                               \n",
       "0                  73.463013          73.463013             73.463013   \n",
       "1                  26.536987          26.536987             26.536987   \n",
       "\n",
       "           PaymentMethod_Credit card (automatic)  \\\n",
       "Churn_Yes                                          \n",
       "0                                      73.463013   \n",
       "1                                      26.536987   \n",
       "\n",
       "           PaymentMethod_Electronic check  PaymentMethod_Mailed check  \n",
       "Churn_Yes                                                              \n",
       "0                               73.463013                   73.463013  \n",
       "1                               26.536987                   26.536987  \n",
       "\n",
       "[2 rows x 30 columns]"
      ],
      "text/html": "<div>\n<style scoped>\n    .dataframe tbody tr th:only-of-type {\n        vertical-align: middle;\n    }\n\n    .dataframe tbody tr th {\n        vertical-align: top;\n    }\n\n    .dataframe thead th {\n        text-align: right;\n    }\n</style>\n<table border=\"1\" class=\"dataframe\">\n  <thead>\n    <tr style=\"text-align: right;\">\n      <th></th>\n      <th>SeniorCitizen</th>\n      <th>tenure</th>\n      <th>MonthlyCharges</th>\n      <th>TotalCharges</th>\n      <th>gender_Male</th>\n      <th>Partner_Yes</th>\n      <th>Dependents_Yes</th>\n      <th>PhoneService_Yes</th>\n      <th>MultipleLines_No phone service</th>\n      <th>MultipleLines_Yes</th>\n      <th>...</th>\n      <th>StreamingTV_No internet service</th>\n      <th>StreamingTV_Yes</th>\n      <th>StreamingMovies_No internet service</th>\n      <th>StreamingMovies_Yes</th>\n      <th>Contract_One year</th>\n      <th>Contract_Two year</th>\n      <th>PaperlessBilling_Yes</th>\n      <th>PaymentMethod_Credit card (automatic)</th>\n      <th>PaymentMethod_Electronic check</th>\n      <th>PaymentMethod_Mailed check</th>\n    </tr>\n    <tr>\n      <th>Churn_Yes</th>\n      <th></th>\n      <th></th>\n      <th></th>\n      <th></th>\n      <th></th>\n      <th></th>\n      <th></th>\n      <th></th>\n      <th></th>\n      <th></th>\n      <th></th>\n      <th></th>\n      <th></th>\n      <th></th>\n      <th></th>\n      <th></th>\n      <th></th>\n      <th></th>\n      <th></th>\n      <th></th>\n      <th></th>\n    </tr>\n  </thead>\n  <tbody>\n    <tr>\n      <th>0</th>\n      <td>73.463013</td>\n      <td>73.463013</td>\n      <td>73.463013</td>\n      <td>73.463013</td>\n      <td>73.463013</td>\n      <td>73.463013</td>\n      <td>73.463013</td>\n      <td>73.463013</td>\n      <td>73.463013</td>\n      <td>73.463013</td>\n      <td>...</td>\n      <td>73.463013</td>\n      <td>73.463013</td>\n      <td>73.463013</td>\n      <td>73.463013</td>\n      <td>73.463013</td>\n      <td>73.463013</td>\n      <td>73.463013</td>\n      <td>73.463013</td>\n      <td>73.463013</td>\n      <td>73.463013</td>\n    </tr>\n    <tr>\n      <th>1</th>\n      <td>26.536987</td>\n      <td>26.536987</td>\n      <td>26.536987</td>\n      <td>26.536987</td>\n      <td>26.536987</td>\n      <td>26.536987</td>\n      <td>26.536987</td>\n      <td>26.536987</td>\n      <td>26.536987</td>\n      <td>26.536987</td>\n      <td>...</td>\n      <td>26.536987</td>\n      <td>26.536987</td>\n      <td>26.536987</td>\n      <td>26.536987</td>\n      <td>26.536987</td>\n      <td>26.536987</td>\n      <td>26.536987</td>\n      <td>26.536987</td>\n      <td>26.536987</td>\n      <td>26.536987</td>\n    </tr>\n  </tbody>\n</table>\n<p>2 rows × 30 columns</p>\n</div>"
     },
     "metadata": {},
     "execution_count": 19
    }
   ],
   "source": [
    "df_new.groupby(['Churn_Yes']).count()/df.shape[0] * 100"
   ]
  },
  {
   "cell_type": "code",
   "execution_count": 20,
   "metadata": {},
   "outputs": [],
   "source": [
    "feature = df_new.drop(['Churn_Yes'], axis=1)\n",
    "target = df_new['Churn_Yes']"
   ]
  },
  {
   "cell_type": "code",
   "execution_count": 21,
   "metadata": {},
   "outputs": [
    {
     "output_type": "execute_result",
     "data": {
      "text/plain": [
       "   SeniorCitizen  tenure  MonthlyCharges  TotalCharges  gender_Male  \\\n",
       "0              0       1           29.85         29.85            0   \n",
       "1              0      34           56.95       1889.50            1   \n",
       "2              0       2           53.85        108.15            1   \n",
       "3              0      45           42.30       1840.75            1   \n",
       "4              0       2           70.70        151.65            0   \n",
       "\n",
       "   Partner_Yes  Dependents_Yes  PhoneService_Yes  \\\n",
       "0            1               0                 0   \n",
       "1            0               0                 1   \n",
       "2            0               0                 1   \n",
       "3            0               0                 0   \n",
       "4            0               0                 1   \n",
       "\n",
       "   MultipleLines_No phone service  MultipleLines_Yes  ...  \\\n",
       "0                               1                  0  ...   \n",
       "1                               0                  0  ...   \n",
       "2                               0                  0  ...   \n",
       "3                               1                  0  ...   \n",
       "4                               0                  0  ...   \n",
       "\n",
       "   StreamingTV_No internet service  StreamingTV_Yes  \\\n",
       "0                                0                0   \n",
       "1                                0                0   \n",
       "2                                0                0   \n",
       "3                                0                0   \n",
       "4                                0                0   \n",
       "\n",
       "   StreamingMovies_No internet service  StreamingMovies_Yes  \\\n",
       "0                                    0                    0   \n",
       "1                                    0                    0   \n",
       "2                                    0                    0   \n",
       "3                                    0                    0   \n",
       "4                                    0                    0   \n",
       "\n",
       "   Contract_One year  Contract_Two year  PaperlessBilling_Yes  \\\n",
       "0                  0                  0                     1   \n",
       "1                  1                  0                     0   \n",
       "2                  0                  0                     1   \n",
       "3                  1                  0                     0   \n",
       "4                  0                  0                     1   \n",
       "\n",
       "   PaymentMethod_Credit card (automatic)  PaymentMethod_Electronic check  \\\n",
       "0                                      0                               1   \n",
       "1                                      0                               0   \n",
       "2                                      0                               0   \n",
       "3                                      0                               0   \n",
       "4                                      0                               1   \n",
       "\n",
       "   PaymentMethod_Mailed check  \n",
       "0                           0  \n",
       "1                           1  \n",
       "2                           1  \n",
       "3                           0  \n",
       "4                           0  \n",
       "\n",
       "[5 rows x 30 columns]"
      ],
      "text/html": "<div>\n<style scoped>\n    .dataframe tbody tr th:only-of-type {\n        vertical-align: middle;\n    }\n\n    .dataframe tbody tr th {\n        vertical-align: top;\n    }\n\n    .dataframe thead th {\n        text-align: right;\n    }\n</style>\n<table border=\"1\" class=\"dataframe\">\n  <thead>\n    <tr style=\"text-align: right;\">\n      <th></th>\n      <th>SeniorCitizen</th>\n      <th>tenure</th>\n      <th>MonthlyCharges</th>\n      <th>TotalCharges</th>\n      <th>gender_Male</th>\n      <th>Partner_Yes</th>\n      <th>Dependents_Yes</th>\n      <th>PhoneService_Yes</th>\n      <th>MultipleLines_No phone service</th>\n      <th>MultipleLines_Yes</th>\n      <th>...</th>\n      <th>StreamingTV_No internet service</th>\n      <th>StreamingTV_Yes</th>\n      <th>StreamingMovies_No internet service</th>\n      <th>StreamingMovies_Yes</th>\n      <th>Contract_One year</th>\n      <th>Contract_Two year</th>\n      <th>PaperlessBilling_Yes</th>\n      <th>PaymentMethod_Credit card (automatic)</th>\n      <th>PaymentMethod_Electronic check</th>\n      <th>PaymentMethod_Mailed check</th>\n    </tr>\n  </thead>\n  <tbody>\n    <tr>\n      <th>0</th>\n      <td>0</td>\n      <td>1</td>\n      <td>29.85</td>\n      <td>29.85</td>\n      <td>0</td>\n      <td>1</td>\n      <td>0</td>\n      <td>0</td>\n      <td>1</td>\n      <td>0</td>\n      <td>...</td>\n      <td>0</td>\n      <td>0</td>\n      <td>0</td>\n      <td>0</td>\n      <td>0</td>\n      <td>0</td>\n      <td>1</td>\n      <td>0</td>\n      <td>1</td>\n      <td>0</td>\n    </tr>\n    <tr>\n      <th>1</th>\n      <td>0</td>\n      <td>34</td>\n      <td>56.95</td>\n      <td>1889.50</td>\n      <td>1</td>\n      <td>0</td>\n      <td>0</td>\n      <td>1</td>\n      <td>0</td>\n      <td>0</td>\n      <td>...</td>\n      <td>0</td>\n      <td>0</td>\n      <td>0</td>\n      <td>0</td>\n      <td>1</td>\n      <td>0</td>\n      <td>0</td>\n      <td>0</td>\n      <td>0</td>\n      <td>1</td>\n    </tr>\n    <tr>\n      <th>2</th>\n      <td>0</td>\n      <td>2</td>\n      <td>53.85</td>\n      <td>108.15</td>\n      <td>1</td>\n      <td>0</td>\n      <td>0</td>\n      <td>1</td>\n      <td>0</td>\n      <td>0</td>\n      <td>...</td>\n      <td>0</td>\n      <td>0</td>\n      <td>0</td>\n      <td>0</td>\n      <td>0</td>\n      <td>0</td>\n      <td>1</td>\n      <td>0</td>\n      <td>0</td>\n      <td>1</td>\n    </tr>\n    <tr>\n      <th>3</th>\n      <td>0</td>\n      <td>45</td>\n      <td>42.30</td>\n      <td>1840.75</td>\n      <td>1</td>\n      <td>0</td>\n      <td>0</td>\n      <td>0</td>\n      <td>1</td>\n      <td>0</td>\n      <td>...</td>\n      <td>0</td>\n      <td>0</td>\n      <td>0</td>\n      <td>0</td>\n      <td>1</td>\n      <td>0</td>\n      <td>0</td>\n      <td>0</td>\n      <td>0</td>\n      <td>0</td>\n    </tr>\n    <tr>\n      <th>4</th>\n      <td>0</td>\n      <td>2</td>\n      <td>70.70</td>\n      <td>151.65</td>\n      <td>0</td>\n      <td>0</td>\n      <td>0</td>\n      <td>1</td>\n      <td>0</td>\n      <td>0</td>\n      <td>...</td>\n      <td>0</td>\n      <td>0</td>\n      <td>0</td>\n      <td>0</td>\n      <td>0</td>\n      <td>0</td>\n      <td>1</td>\n      <td>0</td>\n      <td>1</td>\n      <td>0</td>\n    </tr>\n  </tbody>\n</table>\n<p>5 rows × 30 columns</p>\n</div>"
     },
     "metadata": {},
     "execution_count": 21
    }
   ],
   "source": [
    "feature.head()"
   ]
  },
  {
   "cell_type": "code",
   "execution_count": 22,
   "metadata": {},
   "outputs": [],
   "source": [
    "from sklearn.model_selection import train_test_split"
   ]
  },
  {
   "cell_type": "code",
   "execution_count": 23,
   "metadata": {},
   "outputs": [],
   "source": [
    "X_train, X_test, y_train, y_test = train_test_split(feature, target, test_size=0.3, random_state=42)"
   ]
  },
  {
   "cell_type": "code",
   "execution_count": 25,
   "metadata": {},
   "outputs": [],
   "source": [
    "from sklearn.neighbors import KNeighborsClassifier\r\n",
    "from sklearn.model_selection import GridSearchCV\r\n",
    "\r\n",
    "knn = KNeighborsClassifier()\r\n",
    "parameters = {\"n_neighbors\":np.arange(1, 30)}"
   ]
  },
  {
   "cell_type": "code",
   "execution_count": 26,
   "metadata": {},
   "outputs": [
    {
     "output_type": "stream",
     "name": "stdout",
     "text": [
      "0.7797160243407708\n{'n_neighbors': 29}\n"
     ]
    }
   ],
   "source": [
    "knn_classifier = GridSearchCV(knn, parameters, cv=10)\n",
    "knn_classifier.fit(X_train, y_train)\n",
    "\n",
    "print(knn_classifier.best_score_)\n",
    "print(knn_classifier.best_params_)"
   ]
  },
  {
   "cell_type": "code",
   "execution_count": 27,
   "metadata": {
    "tags": [
     "outputPrepend"
    ]
   },
   "outputs": [
    {
     "output_type": "stream",
     "name": "stdout",
     "text": [
      "9, 50, 51, 52, 53, 54, 55, 56, 57, 58,\n                   59, 60, 61, 62, 63, 64, 65, 66, 67, 68, 69, 70, 71, 72,\n                   73, 74, 75, 76, 77, 78, 79, 80, 81, 82, 83, 84, 85, 86,\n                   87, 88, 89, 90, 91, 92, 93, 94, 95, 96, 97, 98, 99],\n             mask=[False, False, False, False, False, False, False, False,\n                   False, False, False, False, False, False, False, False,\n                   False, False, False, False, False, False, False, False,\n                   False, False, False, False, False, False, False, False,\n                   False, False, False, False, False, False, False, False,\n                   False, False, False, False, False, False, False, False,\n                   False, False, False, False, False, False, False, False,\n                   False, False, False, False, False, False, False, False,\n                   False, False, False, False, False, False, False, False,\n                   False, False, False, False, False, False, False, False,\n                   False, False, False, False, False, False, False, False,\n                   False, False, False, False, False, False, False, False,\n                   False, False, False],\n       fill_value='?',\n            dtype=object), 'params': [{'n_neighbors': 1}, {'n_neighbors': 2}, {'n_neighbors': 3}, {'n_neighbors': 4}, {'n_neighbors': 5}, {'n_neighbors': 6}, {'n_neighbors': 7}, {'n_neighbors': 8}, {'n_neighbors': 9}, {'n_neighbors': 10}, {'n_neighbors': 11}, {'n_neighbors': 12}, {'n_neighbors': 13}, {'n_neighbors': 14}, {'n_neighbors': 15}, {'n_neighbors': 16}, {'n_neighbors': 17}, {'n_neighbors': 18}, {'n_neighbors': 19}, {'n_neighbors': 20}, {'n_neighbors': 21}, {'n_neighbors': 22}, {'n_neighbors': 23}, {'n_neighbors': 24}, {'n_neighbors': 25}, {'n_neighbors': 26}, {'n_neighbors': 27}, {'n_neighbors': 28}, {'n_neighbors': 29}, {'n_neighbors': 30}, {'n_neighbors': 31}, {'n_neighbors': 32}, {'n_neighbors': 33}, {'n_neighbors': 34}, {'n_neighbors': 35}, {'n_neighbors': 36}, {'n_neighbors': 37}, {'n_neighbors': 38}, {'n_neighbors': 39}, {'n_neighbors': 40}, {'n_neighbors': 41}, {'n_neighbors': 42}, {'n_neighbors': 43}, {'n_neighbors': 44}, {'n_neighbors': 45}, {'n_neighbors': 46}, {'n_neighbors': 47}, {'n_neighbors': 48}, {'n_neighbors': 49}, {'n_neighbors': 50}, {'n_neighbors': 51}, {'n_neighbors': 52}, {'n_neighbors': 53}, {'n_neighbors': 54}, {'n_neighbors': 55}, {'n_neighbors': 56}, {'n_neighbors': 57}, {'n_neighbors': 58}, {'n_neighbors': 59}, {'n_neighbors': 60}, {'n_neighbors': 61}, {'n_neighbors': 62}, {'n_neighbors': 63}, {'n_neighbors': 64}, {'n_neighbors': 65}, {'n_neighbors': 66}, {'n_neighbors': 67}, {'n_neighbors': 68}, {'n_neighbors': 69}, {'n_neighbors': 70}, {'n_neighbors': 71}, {'n_neighbors': 72}, {'n_neighbors': 73}, {'n_neighbors': 74}, {'n_neighbors': 75}, {'n_neighbors': 76}, {'n_neighbors': 77}, {'n_neighbors': 78}, {'n_neighbors': 79}, {'n_neighbors': 80}, {'n_neighbors': 81}, {'n_neighbors': 82}, {'n_neighbors': 83}, {'n_neighbors': 84}, {'n_neighbors': 85}, {'n_neighbors': 86}, {'n_neighbors': 87}, {'n_neighbors': 88}, {'n_neighbors': 89}, {'n_neighbors': 90}, {'n_neighbors': 91}, {'n_neighbors': 92}, {'n_neighbors': 93}, {'n_neighbors': 94}, {'n_neighbors': 95}, {'n_neighbors': 96}, {'n_neighbors': 97}, {'n_neighbors': 98}, {'n_neighbors': 99}], 'split0_test_score': array([0.72008114, 0.75456389, 0.75862069, 0.78904665, 0.79513185,\n       0.79918864, 0.80730223, 0.79918864, 0.80527383, 0.80527383,\n       0.81744422, 0.80933063, 0.81541582, 0.80527383, 0.81338742,\n       0.81338742, 0.81744422, 0.81338742, 0.81541582, 0.81744422,\n       0.81744422, 0.82150101, 0.81744422, 0.80933063, 0.81541582,\n       0.81338742, 0.82150101, 0.81947262, 0.831643  , 0.81338742,\n       0.82352941, 0.81338742, 0.81541582, 0.81338742, 0.80121704,\n       0.80933063, 0.79716024, 0.79918864, 0.79716024, 0.79918864,\n       0.79716024, 0.79918864, 0.80121704, 0.79918864, 0.79716024,\n       0.79310345, 0.80324544, 0.80121704, 0.81135903, 0.80121704,\n       0.80730223, 0.80121704, 0.80324544, 0.79513185, 0.80324544,\n       0.79918864, 0.80121704, 0.79918864, 0.79918864, 0.79310345,\n       0.79716024, 0.78904665, 0.78701826, 0.78701826, 0.78498986,\n       0.78498986, 0.78904665, 0.78904665, 0.79107505, 0.79107505,\n       0.79107505, 0.79107505, 0.79310345, 0.79310345, 0.79918864,\n       0.79310345, 0.79513185, 0.79107505, 0.79310345, 0.79310345,\n       0.79310345, 0.79107505, 0.79310345, 0.78904665, 0.79107505,\n       0.79310345, 0.79513185, 0.79310345, 0.79716024, 0.79310345,\n       0.79716024, 0.79107505, 0.79107505, 0.79107505, 0.79107505,\n       0.79107505, 0.79107505, 0.78904665, 0.79310345]), 'split1_test_score': array([0.70182556, 0.7525355 , 0.7525355 , 0.75862069, 0.75862069,\n       0.77281947, 0.76064909, 0.77687627, 0.76673428, 0.77484787,\n       0.76470588, 0.77281947, 0.76876268, 0.76876268, 0.76673428,\n       0.77687627, 0.77079108, 0.77484787, 0.77484787, 0.77890467,\n       0.77890467, 0.77484787, 0.77281947, 0.78296146, 0.77687627,\n       0.77484787, 0.77281947, 0.76267748, 0.75659229, 0.76064909,\n       0.75456389, 0.76064909, 0.75659229, 0.76470588, 0.76064909,\n       0.75659229, 0.75456389, 0.75862069, 0.75456389, 0.75456389,\n       0.75862069, 0.7525355 , 0.7505071 , 0.75862069, 0.7525355 ,\n       0.7525355 , 0.7484787 , 0.7505071 , 0.7505071 , 0.7505071 ,\n       0.75456389, 0.7505071 , 0.75456389, 0.7505071 , 0.75659229,\n       0.7525355 , 0.75456389, 0.75456389, 0.75456389, 0.75456389,\n       0.75456389, 0.75659229, 0.76064909, 0.75456389, 0.76064909,\n       0.7525355 , 0.75456389, 0.76064909, 0.76267748, 0.76267748,\n       0.75862069, 0.76064909, 0.75862069, 0.75659229, 0.7505071 ,\n       0.7525355 , 0.7525355 , 0.75659229, 0.75456389, 0.75659229,\n       0.7525355 , 0.75659229, 0.75659229, 0.75456389, 0.75659229,\n       0.7525355 , 0.75862069, 0.7525355 , 0.75659229, 0.75659229,\n       0.75862069, 0.75659229, 0.76064909, 0.76064909, 0.76064909,\n       0.76064909, 0.76267748, 0.75659229, 0.75862069]), 'split2_test_score': array([0.70791075, 0.7525355 , 0.7484787 , 0.77281947, 0.77484787,\n       0.78904665, 0.78296146, 0.77079108, 0.77281947, 0.78498986,\n       0.77890467, 0.77281947, 0.77687627, 0.78296146, 0.78296146,\n       0.78296146, 0.78498986, 0.79107505, 0.78498986, 0.79107505,\n       0.78498986, 0.79107505, 0.79107505, 0.78093306, 0.78296146,\n       0.77687627, 0.78498986, 0.77890467, 0.78296146, 0.78093306,\n       0.78498986, 0.78296146, 0.79107505, 0.79310345, 0.78701826,\n       0.78701826, 0.78904665, 0.79107505, 0.78701826, 0.78498986,\n       0.78296146, 0.78701826, 0.78701826, 0.79107505, 0.78296146,\n       0.78701826, 0.78296146, 0.78904665, 0.78498986, 0.79513185,\n       0.79513185, 0.79310345, 0.78904665, 0.79107505, 0.79107505,\n       0.78498986, 0.78701826, 0.79107505, 0.78701826, 0.78904665,\n       0.78701826, 0.78498986, 0.78296146, 0.77687627, 0.77687627,\n       0.77687627, 0.77687627, 0.77687627, 0.78093306, 0.77687627,\n       0.77890467, 0.77890467, 0.78093306, 0.78498986, 0.77687627,\n       0.77890467, 0.77890467, 0.77890467, 0.77687627, 0.77687627,\n       0.77890467, 0.77281947, 0.77484787, 0.77079108, 0.77687627,\n       0.77079108, 0.77484787, 0.77281947, 0.77281947, 0.77079108,\n       0.77079108, 0.76673428, 0.76876268, 0.76876268, 0.76876268,\n       0.76876268, 0.76673428, 0.76470588, 0.76673428]), 'split3_test_score': array([0.70993915, 0.75862069, 0.72819473, 0.77079108, 0.7484787 ,\n       0.77484787, 0.75456389, 0.75862069, 0.77079108, 0.76876268,\n       0.76876268, 0.77079108, 0.77281947, 0.77281947, 0.77079108,\n       0.76267748, 0.76267748, 0.76267748, 0.76876268, 0.77079108,\n       0.76267748, 0.77079108, 0.77079108, 0.77281947, 0.76064909,\n       0.76876268, 0.77281947, 0.77079108, 0.76470588, 0.76470588,\n       0.76267748, 0.76267748, 0.76064909, 0.76470588, 0.75659229,\n       0.76064909, 0.75456389, 0.75862069, 0.75659229, 0.75659229,\n       0.7505071 , 0.7525355 , 0.7484787 , 0.7525355 , 0.7464503 ,\n       0.7505071 , 0.74442191, 0.75456389, 0.7505071 , 0.75456389,\n       0.7505071 , 0.75659229, 0.75659229, 0.76267748, 0.76267748,\n       0.76470588, 0.76267748, 0.76470588, 0.75456389, 0.76064909,\n       0.76064909, 0.75659229, 0.7525355 , 0.75456389, 0.7464503 ,\n       0.75659229, 0.75862069, 0.76064909, 0.76064909, 0.76064909,\n       0.75862069, 0.76064909, 0.75659229, 0.75456389, 0.7484787 ,\n       0.7505071 , 0.7505071 , 0.75456389, 0.7505071 , 0.7525355 ,\n       0.7525355 , 0.7505071 , 0.7484787 , 0.75456389, 0.7505071 ,\n       0.75456389, 0.7525355 , 0.75862069, 0.75659229, 0.75862069,\n       0.76267748, 0.76064909, 0.76876268, 0.76064909, 0.76673428,\n       0.76267748, 0.76064909, 0.76470588, 0.76673428]), 'split4_test_score': array([0.67748479, 0.73630832, 0.73022312, 0.74239351, 0.73630832,\n       0.7464503 , 0.76673428, 0.76267748, 0.75659229, 0.7464503 ,\n       0.75456389, 0.7505071 , 0.7525355 , 0.7484787 , 0.75862069,\n       0.75862069, 0.7505071 , 0.7525355 , 0.76064909, 0.75862069,\n       0.76064909, 0.75659229, 0.75456389, 0.75862069, 0.76064909,\n       0.76267748, 0.77079108, 0.76673428, 0.76267748, 0.76064909,\n       0.76470588, 0.76267748, 0.76267748, 0.76064909, 0.76267748,\n       0.77281947, 0.76876268, 0.76470588, 0.76267748, 0.76064909,\n       0.75862069, 0.76064909, 0.76267748, 0.77079108, 0.76064909,\n       0.76064909, 0.75659229, 0.76064909, 0.75659229, 0.75659229,\n       0.7525355 , 0.7525355 , 0.75456389, 0.75456389, 0.7525355 ,\n       0.7464503 , 0.75659229, 0.7525355 , 0.75659229, 0.7505071 ,\n       0.75456389, 0.75456389, 0.75456389, 0.7484787 , 0.7484787 ,\n       0.7464503 , 0.75456389, 0.7464503 , 0.7505071 , 0.7484787 ,\n       0.76064909, 0.76064909, 0.76267748, 0.76064909, 0.75862069,\n       0.76064909, 0.76064909, 0.76267748, 0.76267748, 0.76470588,\n       0.76470588, 0.76064909, 0.76064909, 0.76064909, 0.76064909,\n       0.75862069, 0.76064909, 0.75862069, 0.76064909, 0.76064909,\n       0.76064909, 0.75862069, 0.76064909, 0.76470588, 0.75862069,\n       0.76267748, 0.75862069, 0.75862069, 0.75456389]), 'split5_test_score': array([0.70588235, 0.7484787 , 0.7484787 , 0.75862069, 0.75659229,\n       0.75862069, 0.76267748, 0.76876268, 0.78093306, 0.77484787,\n       0.77687627, 0.78498986, 0.78296146, 0.79107505, 0.77890467,\n       0.78296146, 0.77687627, 0.77890467, 0.77687627, 0.78093306,\n       0.77687627, 0.78093306, 0.78701826, 0.77890467, 0.78701826,\n       0.77484787, 0.78498986, 0.78296146, 0.78904665, 0.78904665,\n       0.79310345, 0.78904665, 0.78093306, 0.78498986, 0.77890467,\n       0.77687627, 0.78093306, 0.77484787, 0.77484787, 0.77484787,\n       0.78296146, 0.77687627, 0.78093306, 0.77281947, 0.77687627,\n       0.77281947, 0.77484787, 0.76673428, 0.76470588, 0.76470588,\n       0.76876268, 0.76064909, 0.76470588, 0.75862069, 0.75456389,\n       0.75659229, 0.76470588, 0.76673428, 0.76876268, 0.76673428,\n       0.76470588, 0.76470588, 0.76876268, 0.76267748, 0.76876268,\n       0.77079108, 0.77281947, 0.76876268, 0.77281947, 0.76876268,\n       0.77484787, 0.77079108, 0.77484787, 0.76876268, 0.77484787,\n       0.77281947, 0.77687627, 0.76876268, 0.77079108, 0.77079108,\n       0.77484787, 0.76673428, 0.76673428, 0.76267748, 0.76267748,\n       0.76470588, 0.76876268, 0.76673428, 0.76876268, 0.76470588,\n       0.76673428, 0.76470588, 0.76267748, 0.76267748, 0.76267748,\n       0.76470588, 0.76876268, 0.76673428, 0.76876268]), 'split6_test_score': array([0.71602434, 0.75659229, 0.76470588, 0.76673428, 0.77079108,\n       0.78701826, 0.76470588, 0.77484787, 0.77484787, 0.78093306,\n       0.78701826, 0.78701826, 0.78904665, 0.78093306, 0.78904665,\n       0.78904665, 0.78904665, 0.78498986, 0.78701826, 0.78296146,\n       0.78498986, 0.78093306, 0.78093306, 0.78498986, 0.77890467,\n       0.77890467, 0.78093306, 0.77687627, 0.78093306, 0.78093306,\n       0.77687627, 0.77687627, 0.77687627, 0.78093306, 0.78093306,\n       0.77687627, 0.77484787, 0.77484787, 0.77687627, 0.77484787,\n       0.77687627, 0.77281947, 0.77281947, 0.76267748, 0.76673428,\n       0.76267748, 0.76876268, 0.76876268, 0.77079108, 0.77687627,\n       0.78498986, 0.77687627, 0.78296146, 0.77890467, 0.77687627,\n       0.77484787, 0.78093306, 0.77281947, 0.77281947, 0.77079108,\n       0.77484787, 0.77484787, 0.78296146, 0.77281947, 0.78093306,\n       0.77890467, 0.78296146, 0.78093306, 0.78093306, 0.77687627,\n       0.77484787, 0.78093306, 0.77484787, 0.77281947, 0.77484787,\n       0.77687627, 0.77281947, 0.76673428, 0.77079108, 0.76876268,\n       0.77079108, 0.76470588, 0.76673428, 0.76470588, 0.76876268,\n       0.77079108, 0.77281947, 0.77079108, 0.77281947, 0.77079108,\n       0.77484787, 0.76876268, 0.77079108, 0.77079108, 0.77079108,\n       0.76876268, 0.76876268, 0.76673428, 0.76673428]), 'split7_test_score': array([0.68356998, 0.72616633, 0.71196755, 0.7505071 , 0.7484787 ,\n       0.7525355 , 0.7484787 , 0.7505071 , 0.7464503 , 0.75862069,\n       0.75659229, 0.76267748, 0.77079108, 0.76470588, 0.75862069,\n       0.76064909, 0.75659229, 0.76267748, 0.75862069, 0.76267748,\n       0.76064909, 0.75862069, 0.75862069, 0.76064909, 0.76673428,\n       0.76876268, 0.76673428, 0.77687627, 0.78093306, 0.78093306,\n       0.77281947, 0.78498986, 0.77687627, 0.77484787, 0.76876268,\n       0.77281947, 0.77079108, 0.76673428, 0.76470588, 0.76064909,\n       0.76470588, 0.76470588, 0.76470588, 0.76267748, 0.76876268,\n       0.76470588, 0.76064909, 0.76470588, 0.76267748, 0.75862069,\n       0.76470588, 0.76470588, 0.76673428, 0.76470588, 0.76673428,\n       0.76470588, 0.76470588, 0.76470588, 0.76876268, 0.77281947,\n       0.77281947, 0.77281947, 0.76876268, 0.76673428, 0.77079108,\n       0.76876268, 0.77687627, 0.77890467, 0.77890467, 0.77890467,\n       0.77890467, 0.77890467, 0.77890467, 0.77484787, 0.77079108,\n       0.76876268, 0.76673428, 0.76876268, 0.76876268, 0.76673428,\n       0.76876268, 0.76876268, 0.77079108, 0.76876268, 0.76673428,\n       0.76876268, 0.76876268, 0.76876268, 0.76673428, 0.76673428,\n       0.76876268, 0.76876268, 0.76876268, 0.77079108, 0.77079108,\n       0.77079108, 0.76673428, 0.76876268, 0.76673428]), 'split8_test_score': array([0.70385396, 0.7464503 , 0.71805274, 0.74442191, 0.74442191,\n       0.7505071 , 0.76267748, 0.75862069, 0.76064909, 0.76470588,\n       0.77079108, 0.76064909, 0.75862069, 0.76267748, 0.76470588,\n       0.76673428, 0.76673428, 0.76673428, 0.76064909, 0.77079108,\n       0.76673428, 0.77079108, 0.76470588, 0.76673428, 0.76673428,\n       0.76470588, 0.75659229, 0.76470588, 0.76673428, 0.76876268,\n       0.76673428, 0.76267748, 0.76673428, 0.76470588, 0.76876268,\n       0.76267748, 0.77079108, 0.76267748, 0.76876268, 0.76876268,\n       0.77687627, 0.77687627, 0.77281947, 0.77079108, 0.77281947,\n       0.77281947, 0.77281947, 0.77687627, 0.78296146, 0.78296146,\n       0.78498986, 0.78498986, 0.77687627, 0.77281947, 0.77484787,\n       0.77079108, 0.77687627, 0.76876268, 0.77687627, 0.77484787,\n       0.78093306, 0.78093306, 0.78093306, 0.77890467, 0.78093306,\n       0.77890467, 0.78093306, 0.77890467, 0.78498986, 0.78093306,\n       0.78296146, 0.78296146, 0.78701826, 0.78296146, 0.79513185,\n       0.79716024, 0.79716024, 0.79107505, 0.78904665, 0.78701826,\n       0.78701826, 0.78498986, 0.78701826, 0.78296146, 0.78498986,\n       0.78296146, 0.78701826, 0.78093306, 0.78296146, 0.77890467,\n       0.77687627, 0.77281947, 0.77484787, 0.76673428, 0.77687627,\n       0.77079108, 0.77687627, 0.76876268, 0.77687627]), 'split9_test_score': array([0.71602434, 0.7505071 , 0.74036511, 0.76876268, 0.7484787 ,\n       0.76876268, 0.76064909, 0.77079108, 0.77484787, 0.76876268,\n       0.77079108, 0.77687627, 0.78296146, 0.77890467, 0.77890467,\n       0.78904665, 0.77890467, 0.77687627, 0.77890467, 0.78093306,\n       0.78093306, 0.77890467, 0.77281947, 0.77890467, 0.77687627,\n       0.77890467, 0.77484787, 0.77687627, 0.78093306, 0.77890467,\n       0.77890467, 0.78498986, 0.77890467, 0.77281947, 0.78093306,\n       0.78093306, 0.77687627, 0.78296146, 0.78296146, 0.77890467,\n       0.78093306, 0.77079108, 0.77079108, 0.77281947, 0.77079108,\n       0.77079108, 0.77281947, 0.77281947, 0.77484787, 0.77687627,\n       0.77890467, 0.77687627, 0.77484787, 0.77281947, 0.77079108,\n       0.77890467, 0.78093306, 0.77484787, 0.77687627, 0.77484787,\n       0.77281947, 0.77484787, 0.77484787, 0.77079108, 0.77281947,\n       0.77281947, 0.77484787, 0.77687627, 0.77687627, 0.77281947,\n       0.77281947, 0.77281947, 0.77079108, 0.77079108, 0.76876268,\n       0.77281947, 0.77281947, 0.77079108, 0.77079108, 0.77079108,\n       0.77079108, 0.77079108, 0.76673428, 0.76876268, 0.76673428,\n       0.76470588, 0.76673428, 0.76673428, 0.76470588, 0.76470588,\n       0.76470588, 0.76673428, 0.76673428, 0.76470588, 0.76673428,\n       0.76470588, 0.76673428, 0.76470588, 0.76470588]), 'mean_test_score': array([0.70425963, 0.74827586, 0.74016227, 0.76227181, 0.75821501,\n       0.76997972, 0.76713996, 0.76916836, 0.77099391, 0.77281947,\n       0.77464503, 0.77484787, 0.77707911, 0.77565923, 0.77626775,\n       0.77829615, 0.77545639, 0.77647059, 0.77667343, 0.77951318,\n       0.77748479, 0.77849899, 0.77707911, 0.77748479, 0.77728195,\n       0.77626775, 0.77870183, 0.77768763, 0.77971602, 0.77789047,\n       0.77789047, 0.77809331, 0.77667343, 0.77748479, 0.77464503,\n       0.77565923, 0.77383367, 0.77342799, 0.77261663, 0.77139959,\n       0.77302231, 0.77139959, 0.77119675, 0.77139959, 0.76957404,\n       0.76876268, 0.76855984, 0.77058824, 0.77099391, 0.77180527,\n       0.77423935, 0.77180527, 0.77241379, 0.77018256, 0.77099391,\n       0.7693712 , 0.77302231, 0.77099391, 0.77160243, 0.77079108,\n       0.77200811, 0.77099391, 0.77139959, 0.7673428 , 0.76916836,\n       0.76876268, 0.77221095, 0.77180527, 0.77403651, 0.77180527,\n       0.77322515, 0.77383367, 0.77383367, 0.77200811, 0.77180527,\n       0.77241379, 0.77241379, 0.77099391, 0.77079108, 0.77079108,\n       0.77139959, 0.76876268, 0.76916836, 0.76774848, 0.76855984,\n       0.76815416, 0.77058824, 0.76896552, 0.76997972, 0.76855984,\n       0.77018256, 0.76754564, 0.7693712 , 0.76815416, 0.7693712 ,\n       0.76855984, 0.76876268, 0.76693712, 0.768357  ]), 'std_test_score': array([0.01313926, 0.00944676, 0.0166143 , 0.01357057, 0.01659819,\n       0.0170482 , 0.0158111 , 0.0126933 , 0.01497309, 0.01507033,\n       0.01703009, 0.01552751, 0.01658951, 0.01513027, 0.01573937,\n       0.01607561, 0.01814367, 0.01644879, 0.01608584, 0.015687  ,\n       0.01620308, 0.01739698, 0.01736503, 0.01375876, 0.01536235,\n       0.01351741, 0.01641499, 0.01529256, 0.0200432 , 0.01504984,\n       0.01861821, 0.0158215 , 0.0163899 , 0.01550232, 0.01300233,\n       0.01437732, 0.01274021, 0.01320953, 0.01303393, 0.01333353,\n       0.01365068, 0.01396652, 0.01520081, 0.01354781, 0.01385263,\n       0.01295636, 0.01636478, 0.0146115 , 0.01771687, 0.01670814,\n       0.01823415, 0.01665881, 0.01530869, 0.01414216, 0.01548639,\n       0.01507169, 0.01409554, 0.01388971, 0.01370332, 0.0128927 ,\n       0.01318302, 0.01173845, 0.01175946, 0.01165402, 0.01272567,\n       0.01210258, 0.01154762, 0.01197442, 0.01183444, 0.01148331,\n       0.01033488, 0.01007074, 0.01133909, 0.01193829, 0.01587472,\n       0.01459319, 0.01495522, 0.01201558, 0.01269978, 0.01179265,\n       0.01243955, 0.01161689, 0.01266084, 0.01062733, 0.01191241,\n       0.01182923, 0.01218559, 0.01112664, 0.01186916, 0.01028099,\n       0.01058077, 0.00917051, 0.00841479, 0.00841479, 0.00884391,\n       0.00823689, 0.00884158, 0.00828669, 0.00997015]), 'rank_test_score': array([99, 97, 98, 95, 96, 69, 93, 75, 59, 36, 26, 24, 14, 22, 19,  5, 23,\n       18, 16,  2, 10,  4, 14, 11, 13, 19,  3,  9,  1,  7,  7,  6, 16, 11,\n       25, 21, 29, 32, 37, 50, 34, 50, 55, 53, 71, 80, 83, 65, 56, 44, 27,\n       46, 38, 68, 59, 72, 34, 56, 49, 63, 42, 59, 50, 92, 77, 80, 41, 44,\n       28, 46, 33, 29, 29, 42, 46, 38, 38, 56, 63, 62, 53, 80, 75, 90, 85,\n       88, 66, 78, 69, 83, 67, 91, 72, 89, 72, 85, 79, 94, 87])}\n"
     ]
    }
   ],
   "source": [
    "print(knn_classifier.cv_results_)"
   ]
  },
  {
   "cell_type": "code",
   "execution_count": 28,
   "metadata": {},
   "outputs": [],
   "source": [
    "results = pd.DataFrame(knn_classifier.cv_results_)"
   ]
  },
  {
   "cell_type": "code",
   "execution_count": 29,
   "metadata": {},
   "outputs": [
    {
     "output_type": "execute_result",
     "data": {
      "text/plain": [
       "   mean_fit_time  std_fit_time  mean_score_time  std_score_time  \\\n",
       "0       0.016751      0.008898         0.161257        0.056251   \n",
       "1       0.017713      0.001435         0.195012        0.012995   \n",
       "2       0.015674      0.001647         0.185593        0.012854   \n",
       "3       0.015347      0.001134         0.209781        0.005425   \n",
       "4       0.015373      0.003910         0.215129        0.022444   \n",
       "\n",
       "  param_n_neighbors              params  split0_test_score  split1_test_score  \\\n",
       "0                 1  {'n_neighbors': 1}           0.720081           0.701826   \n",
       "1                 2  {'n_neighbors': 2}           0.754564           0.752535   \n",
       "2                 3  {'n_neighbors': 3}           0.758621           0.752535   \n",
       "3                 4  {'n_neighbors': 4}           0.789047           0.758621   \n",
       "4                 5  {'n_neighbors': 5}           0.795132           0.758621   \n",
       "\n",
       "   split2_test_score  split3_test_score  split4_test_score  split5_test_score  \\\n",
       "0           0.707911           0.709939           0.677485           0.705882   \n",
       "1           0.752535           0.758621           0.736308           0.748479   \n",
       "2           0.748479           0.728195           0.730223           0.748479   \n",
       "3           0.772819           0.770791           0.742394           0.758621   \n",
       "4           0.774848           0.748479           0.736308           0.756592   \n",
       "\n",
       "   split6_test_score  split7_test_score  split8_test_score  split9_test_score  \\\n",
       "0           0.716024           0.683570           0.703854           0.716024   \n",
       "1           0.756592           0.726166           0.746450           0.750507   \n",
       "2           0.764706           0.711968           0.718053           0.740365   \n",
       "3           0.766734           0.750507           0.744422           0.768763   \n",
       "4           0.770791           0.748479           0.744422           0.748479   \n",
       "\n",
       "   mean_test_score  std_test_score  rank_test_score  \n",
       "0         0.704260        0.013139               99  \n",
       "1         0.748276        0.009447               97  \n",
       "2         0.740162        0.016614               98  \n",
       "3         0.762272        0.013571               95  \n",
       "4         0.758215        0.016598               96  "
      ],
      "text/html": "<div>\n<style scoped>\n    .dataframe tbody tr th:only-of-type {\n        vertical-align: middle;\n    }\n\n    .dataframe tbody tr th {\n        vertical-align: top;\n    }\n\n    .dataframe thead th {\n        text-align: right;\n    }\n</style>\n<table border=\"1\" class=\"dataframe\">\n  <thead>\n    <tr style=\"text-align: right;\">\n      <th></th>\n      <th>mean_fit_time</th>\n      <th>std_fit_time</th>\n      <th>mean_score_time</th>\n      <th>std_score_time</th>\n      <th>param_n_neighbors</th>\n      <th>params</th>\n      <th>split0_test_score</th>\n      <th>split1_test_score</th>\n      <th>split2_test_score</th>\n      <th>split3_test_score</th>\n      <th>split4_test_score</th>\n      <th>split5_test_score</th>\n      <th>split6_test_score</th>\n      <th>split7_test_score</th>\n      <th>split8_test_score</th>\n      <th>split9_test_score</th>\n      <th>mean_test_score</th>\n      <th>std_test_score</th>\n      <th>rank_test_score</th>\n    </tr>\n  </thead>\n  <tbody>\n    <tr>\n      <th>0</th>\n      <td>0.016751</td>\n      <td>0.008898</td>\n      <td>0.161257</td>\n      <td>0.056251</td>\n      <td>1</td>\n      <td>{'n_neighbors': 1}</td>\n      <td>0.720081</td>\n      <td>0.701826</td>\n      <td>0.707911</td>\n      <td>0.709939</td>\n      <td>0.677485</td>\n      <td>0.705882</td>\n      <td>0.716024</td>\n      <td>0.683570</td>\n      <td>0.703854</td>\n      <td>0.716024</td>\n      <td>0.704260</td>\n      <td>0.013139</td>\n      <td>99</td>\n    </tr>\n    <tr>\n      <th>1</th>\n      <td>0.017713</td>\n      <td>0.001435</td>\n      <td>0.195012</td>\n      <td>0.012995</td>\n      <td>2</td>\n      <td>{'n_neighbors': 2}</td>\n      <td>0.754564</td>\n      <td>0.752535</td>\n      <td>0.752535</td>\n      <td>0.758621</td>\n      <td>0.736308</td>\n      <td>0.748479</td>\n      <td>0.756592</td>\n      <td>0.726166</td>\n      <td>0.746450</td>\n      <td>0.750507</td>\n      <td>0.748276</td>\n      <td>0.009447</td>\n      <td>97</td>\n    </tr>\n    <tr>\n      <th>2</th>\n      <td>0.015674</td>\n      <td>0.001647</td>\n      <td>0.185593</td>\n      <td>0.012854</td>\n      <td>3</td>\n      <td>{'n_neighbors': 3}</td>\n      <td>0.758621</td>\n      <td>0.752535</td>\n      <td>0.748479</td>\n      <td>0.728195</td>\n      <td>0.730223</td>\n      <td>0.748479</td>\n      <td>0.764706</td>\n      <td>0.711968</td>\n      <td>0.718053</td>\n      <td>0.740365</td>\n      <td>0.740162</td>\n      <td>0.016614</td>\n      <td>98</td>\n    </tr>\n    <tr>\n      <th>3</th>\n      <td>0.015347</td>\n      <td>0.001134</td>\n      <td>0.209781</td>\n      <td>0.005425</td>\n      <td>4</td>\n      <td>{'n_neighbors': 4}</td>\n      <td>0.789047</td>\n      <td>0.758621</td>\n      <td>0.772819</td>\n      <td>0.770791</td>\n      <td>0.742394</td>\n      <td>0.758621</td>\n      <td>0.766734</td>\n      <td>0.750507</td>\n      <td>0.744422</td>\n      <td>0.768763</td>\n      <td>0.762272</td>\n      <td>0.013571</td>\n      <td>95</td>\n    </tr>\n    <tr>\n      <th>4</th>\n      <td>0.015373</td>\n      <td>0.003910</td>\n      <td>0.215129</td>\n      <td>0.022444</td>\n      <td>5</td>\n      <td>{'n_neighbors': 5}</td>\n      <td>0.795132</td>\n      <td>0.758621</td>\n      <td>0.774848</td>\n      <td>0.748479</td>\n      <td>0.736308</td>\n      <td>0.756592</td>\n      <td>0.770791</td>\n      <td>0.748479</td>\n      <td>0.744422</td>\n      <td>0.748479</td>\n      <td>0.758215</td>\n      <td>0.016598</td>\n      <td>96</td>\n    </tr>\n  </tbody>\n</table>\n</div>"
     },
     "metadata": {},
     "execution_count": 29
    }
   ],
   "source": [
    "results.head()"
   ]
  },
  {
   "cell_type": "code",
   "execution_count": 30,
   "metadata": {},
   "outputs": [],
   "source": [
    "import matplotlib.pyplot as plt"
   ]
  },
  {
   "cell_type": "code",
   "execution_count": 31,
   "metadata": {},
   "outputs": [
    {
     "output_type": "execute_result",
     "data": {
      "text/plain": [
       "[<matplotlib.lines.Line2D at 0x250fd65de50>]"
      ]
     },
     "metadata": {},
     "execution_count": 31
    },
    {
     "output_type": "display_data",
     "data": {
      "text/plain": "<Figure size 432x288 with 1 Axes>",
      "image/svg+xml": "<?xml version=\"1.0\" encoding=\"utf-8\" standalone=\"no\"?>\r\n<!DOCTYPE svg PUBLIC \"-//W3C//DTD SVG 1.1//EN\"\r\n  \"http://www.w3.org/Graphics/SVG/1.1/DTD/svg11.dtd\">\r\n<!-- Created with matplotlib (https://matplotlib.org/) -->\r\n<svg height=\"248.518125pt\" version=\"1.1\" viewBox=\"0 0 379.002696 248.518125\" width=\"379.002696pt\" xmlns=\"http://www.w3.org/2000/svg\" xmlns:xlink=\"http://www.w3.org/1999/xlink\">\r\n <metadata>\r\n  <rdf:RDF xmlns:cc=\"http://creativecommons.org/ns#\" xmlns:dc=\"http://purl.org/dc/elements/1.1/\" xmlns:rdf=\"http://www.w3.org/1999/02/22-rdf-syntax-ns#\">\r\n   <cc:Work>\r\n    <dc:type rdf:resource=\"http://purl.org/dc/dcmitype/StillImage\"/>\r\n    <dc:date>2021-06-08T01:34:59.463660</dc:date>\r\n    <dc:format>image/svg+xml</dc:format>\r\n    <dc:creator>\r\n     <cc:Agent>\r\n      <dc:title>Matplotlib v3.3.3, https://matplotlib.org/</dc:title>\r\n     </cc:Agent>\r\n    </dc:creator>\r\n   </cc:Work>\r\n  </rdf:RDF>\r\n </metadata>\r\n <defs>\r\n  <style type=\"text/css\">*{stroke-linecap:butt;stroke-linejoin:round;}</style>\r\n </defs>\r\n <g id=\"figure_1\">\r\n  <g id=\"patch_1\">\r\n   <path d=\"M 0 248.518125 \r\nL 379.002696 248.518125 \r\nL 379.002696 0 \r\nL 0 0 \r\nz\r\n\" style=\"fill:none;\"/>\r\n  </g>\r\n  <g id=\"axes_1\">\r\n   <g id=\"patch_2\">\r\n    <path d=\"M 36.465625 224.64 \r\nL 371.265625 224.64 \r\nL 371.265625 7.2 \r\nL 36.465625 7.2 \r\nz\r\n\" style=\"fill:#ffffff;\"/>\r\n   </g>\r\n   <g id=\"matplotlib.axis_1\">\r\n    <g id=\"xtick_1\">\r\n     <g id=\"line2d_1\">\r\n      <defs>\r\n       <path d=\"M 0 0 \r\nL 0 3.5 \r\n\" id=\"m5d74bcefd8\" style=\"stroke:#000000;stroke-width:0.8;\"/>\r\n      </defs>\r\n      <g>\r\n       <use style=\"stroke:#000000;stroke-width:0.8;\" x=\"51.683807\" xlink:href=\"#m5d74bcefd8\" y=\"224.64\"/>\r\n      </g>\r\n     </g>\r\n     <g id=\"text_1\">\r\n      <!-- 0 -->\r\n      <g transform=\"translate(48.502557 239.238438)scale(0.1 -0.1)\">\r\n       <defs>\r\n        <path d=\"M 31.78125 66.40625 \r\nQ 24.171875 66.40625 20.328125 58.90625 \r\nQ 16.5 51.421875 16.5 36.375 \r\nQ 16.5 21.390625 20.328125 13.890625 \r\nQ 24.171875 6.390625 31.78125 6.390625 \r\nQ 39.453125 6.390625 43.28125 13.890625 \r\nQ 47.125 21.390625 47.125 36.375 \r\nQ 47.125 51.421875 43.28125 58.90625 \r\nQ 39.453125 66.40625 31.78125 66.40625 \r\nz\r\nM 31.78125 74.21875 \r\nQ 44.046875 74.21875 50.515625 64.515625 \r\nQ 56.984375 54.828125 56.984375 36.375 \r\nQ 56.984375 17.96875 50.515625 8.265625 \r\nQ 44.046875 -1.421875 31.78125 -1.421875 \r\nQ 19.53125 -1.421875 13.0625 8.265625 \r\nQ 6.59375 17.96875 6.59375 36.375 \r\nQ 6.59375 54.828125 13.0625 64.515625 \r\nQ 19.53125 74.21875 31.78125 74.21875 \r\nz\r\n\" id=\"DejaVuSans-48\"/>\r\n       </defs>\r\n       <use xlink:href=\"#DejaVuSans-48\"/>\r\n      </g>\r\n     </g>\r\n    </g>\r\n    <g id=\"xtick_2\">\r\n     <g id=\"line2d_2\">\r\n      <g>\r\n       <use style=\"stroke:#000000;stroke-width:0.8;\" x=\"113.798835\" xlink:href=\"#m5d74bcefd8\" y=\"224.64\"/>\r\n      </g>\r\n     </g>\r\n     <g id=\"text_2\">\r\n      <!-- 20 -->\r\n      <g transform=\"translate(107.436335 239.238438)scale(0.1 -0.1)\">\r\n       <defs>\r\n        <path d=\"M 19.1875 8.296875 \r\nL 53.609375 8.296875 \r\nL 53.609375 0 \r\nL 7.328125 0 \r\nL 7.328125 8.296875 \r\nQ 12.9375 14.109375 22.625 23.890625 \r\nQ 32.328125 33.6875 34.8125 36.53125 \r\nQ 39.546875 41.84375 41.421875 45.53125 \r\nQ 43.3125 49.21875 43.3125 52.78125 \r\nQ 43.3125 58.59375 39.234375 62.25 \r\nQ 35.15625 65.921875 28.609375 65.921875 \r\nQ 23.96875 65.921875 18.8125 64.3125 \r\nQ 13.671875 62.703125 7.8125 59.421875 \r\nL 7.8125 69.390625 \r\nQ 13.765625 71.78125 18.9375 73 \r\nQ 24.125 74.21875 28.421875 74.21875 \r\nQ 39.75 74.21875 46.484375 68.546875 \r\nQ 53.21875 62.890625 53.21875 53.421875 \r\nQ 53.21875 48.921875 51.53125 44.890625 \r\nQ 49.859375 40.875 45.40625 35.40625 \r\nQ 44.1875 33.984375 37.640625 27.21875 \r\nQ 31.109375 20.453125 19.1875 8.296875 \r\nz\r\n\" id=\"DejaVuSans-50\"/>\r\n       </defs>\r\n       <use xlink:href=\"#DejaVuSans-50\"/>\r\n       <use x=\"63.623047\" xlink:href=\"#DejaVuSans-48\"/>\r\n      </g>\r\n     </g>\r\n    </g>\r\n    <g id=\"xtick_3\">\r\n     <g id=\"line2d_3\">\r\n      <g>\r\n       <use style=\"stroke:#000000;stroke-width:0.8;\" x=\"175.913862\" xlink:href=\"#m5d74bcefd8\" y=\"224.64\"/>\r\n      </g>\r\n     </g>\r\n     <g id=\"text_3\">\r\n      <!-- 40 -->\r\n      <g transform=\"translate(169.551362 239.238438)scale(0.1 -0.1)\">\r\n       <defs>\r\n        <path d=\"M 37.796875 64.3125 \r\nL 12.890625 25.390625 \r\nL 37.796875 25.390625 \r\nz\r\nM 35.203125 72.90625 \r\nL 47.609375 72.90625 \r\nL 47.609375 25.390625 \r\nL 58.015625 25.390625 \r\nL 58.015625 17.1875 \r\nL 47.609375 17.1875 \r\nL 47.609375 0 \r\nL 37.796875 0 \r\nL 37.796875 17.1875 \r\nL 4.890625 17.1875 \r\nL 4.890625 26.703125 \r\nz\r\n\" id=\"DejaVuSans-52\"/>\r\n       </defs>\r\n       <use xlink:href=\"#DejaVuSans-52\"/>\r\n       <use x=\"63.623047\" xlink:href=\"#DejaVuSans-48\"/>\r\n      </g>\r\n     </g>\r\n    </g>\r\n    <g id=\"xtick_4\">\r\n     <g id=\"line2d_4\">\r\n      <g>\r\n       <use style=\"stroke:#000000;stroke-width:0.8;\" x=\"238.02889\" xlink:href=\"#m5d74bcefd8\" y=\"224.64\"/>\r\n      </g>\r\n     </g>\r\n     <g id=\"text_4\">\r\n      <!-- 60 -->\r\n      <g transform=\"translate(231.66639 239.238438)scale(0.1 -0.1)\">\r\n       <defs>\r\n        <path d=\"M 33.015625 40.375 \r\nQ 26.375 40.375 22.484375 35.828125 \r\nQ 18.609375 31.296875 18.609375 23.390625 \r\nQ 18.609375 15.53125 22.484375 10.953125 \r\nQ 26.375 6.390625 33.015625 6.390625 \r\nQ 39.65625 6.390625 43.53125 10.953125 \r\nQ 47.40625 15.53125 47.40625 23.390625 \r\nQ 47.40625 31.296875 43.53125 35.828125 \r\nQ 39.65625 40.375 33.015625 40.375 \r\nz\r\nM 52.59375 71.296875 \r\nL 52.59375 62.3125 \r\nQ 48.875 64.0625 45.09375 64.984375 \r\nQ 41.3125 65.921875 37.59375 65.921875 \r\nQ 27.828125 65.921875 22.671875 59.328125 \r\nQ 17.53125 52.734375 16.796875 39.40625 \r\nQ 19.671875 43.65625 24.015625 45.921875 \r\nQ 28.375 48.1875 33.59375 48.1875 \r\nQ 44.578125 48.1875 50.953125 41.515625 \r\nQ 57.328125 34.859375 57.328125 23.390625 \r\nQ 57.328125 12.15625 50.6875 5.359375 \r\nQ 44.046875 -1.421875 33.015625 -1.421875 \r\nQ 20.359375 -1.421875 13.671875 8.265625 \r\nQ 6.984375 17.96875 6.984375 36.375 \r\nQ 6.984375 53.65625 15.1875 63.9375 \r\nQ 23.390625 74.21875 37.203125 74.21875 \r\nQ 40.921875 74.21875 44.703125 73.484375 \r\nQ 48.484375 72.75 52.59375 71.296875 \r\nz\r\n\" id=\"DejaVuSans-54\"/>\r\n       </defs>\r\n       <use xlink:href=\"#DejaVuSans-54\"/>\r\n       <use x=\"63.623047\" xlink:href=\"#DejaVuSans-48\"/>\r\n      </g>\r\n     </g>\r\n    </g>\r\n    <g id=\"xtick_5\">\r\n     <g id=\"line2d_5\">\r\n      <g>\r\n       <use style=\"stroke:#000000;stroke-width:0.8;\" x=\"300.143918\" xlink:href=\"#m5d74bcefd8\" y=\"224.64\"/>\r\n      </g>\r\n     </g>\r\n     <g id=\"text_5\">\r\n      <!-- 80 -->\r\n      <g transform=\"translate(293.781418 239.238438)scale(0.1 -0.1)\">\r\n       <defs>\r\n        <path d=\"M 31.78125 34.625 \r\nQ 24.75 34.625 20.71875 30.859375 \r\nQ 16.703125 27.09375 16.703125 20.515625 \r\nQ 16.703125 13.921875 20.71875 10.15625 \r\nQ 24.75 6.390625 31.78125 6.390625 \r\nQ 38.8125 6.390625 42.859375 10.171875 \r\nQ 46.921875 13.96875 46.921875 20.515625 \r\nQ 46.921875 27.09375 42.890625 30.859375 \r\nQ 38.875 34.625 31.78125 34.625 \r\nz\r\nM 21.921875 38.8125 \r\nQ 15.578125 40.375 12.03125 44.71875 \r\nQ 8.5 49.078125 8.5 55.328125 \r\nQ 8.5 64.0625 14.71875 69.140625 \r\nQ 20.953125 74.21875 31.78125 74.21875 \r\nQ 42.671875 74.21875 48.875 69.140625 \r\nQ 55.078125 64.0625 55.078125 55.328125 \r\nQ 55.078125 49.078125 51.53125 44.71875 \r\nQ 48 40.375 41.703125 38.8125 \r\nQ 48.828125 37.15625 52.796875 32.3125 \r\nQ 56.78125 27.484375 56.78125 20.515625 \r\nQ 56.78125 9.90625 50.3125 4.234375 \r\nQ 43.84375 -1.421875 31.78125 -1.421875 \r\nQ 19.734375 -1.421875 13.25 4.234375 \r\nQ 6.78125 9.90625 6.78125 20.515625 \r\nQ 6.78125 27.484375 10.78125 32.3125 \r\nQ 14.796875 37.15625 21.921875 38.8125 \r\nz\r\nM 18.3125 54.390625 \r\nQ 18.3125 48.734375 21.84375 45.5625 \r\nQ 25.390625 42.390625 31.78125 42.390625 \r\nQ 38.140625 42.390625 41.71875 45.5625 \r\nQ 45.3125 48.734375 45.3125 54.390625 \r\nQ 45.3125 60.0625 41.71875 63.234375 \r\nQ 38.140625 66.40625 31.78125 66.40625 \r\nQ 25.390625 66.40625 21.84375 63.234375 \r\nQ 18.3125 60.0625 18.3125 54.390625 \r\nz\r\n\" id=\"DejaVuSans-56\"/>\r\n       </defs>\r\n       <use xlink:href=\"#DejaVuSans-56\"/>\r\n       <use x=\"63.623047\" xlink:href=\"#DejaVuSans-48\"/>\r\n      </g>\r\n     </g>\r\n    </g>\r\n    <g id=\"xtick_6\">\r\n     <g id=\"line2d_6\">\r\n      <g>\r\n       <use style=\"stroke:#000000;stroke-width:0.8;\" x=\"362.258946\" xlink:href=\"#m5d74bcefd8\" y=\"224.64\"/>\r\n      </g>\r\n     </g>\r\n     <g id=\"text_6\">\r\n      <!-- 100 -->\r\n      <g transform=\"translate(352.715196 239.238438)scale(0.1 -0.1)\">\r\n       <defs>\r\n        <path d=\"M 12.40625 8.296875 \r\nL 28.515625 8.296875 \r\nL 28.515625 63.921875 \r\nL 10.984375 60.40625 \r\nL 10.984375 69.390625 \r\nL 28.421875 72.90625 \r\nL 38.28125 72.90625 \r\nL 38.28125 8.296875 \r\nL 54.390625 8.296875 \r\nL 54.390625 0 \r\nL 12.40625 0 \r\nz\r\n\" id=\"DejaVuSans-49\"/>\r\n       </defs>\r\n       <use xlink:href=\"#DejaVuSans-49\"/>\r\n       <use x=\"63.623047\" xlink:href=\"#DejaVuSans-48\"/>\r\n       <use x=\"127.246094\" xlink:href=\"#DejaVuSans-48\"/>\r\n      </g>\r\n     </g>\r\n    </g>\r\n   </g>\r\n   <g id=\"matplotlib.axis_2\">\r\n    <g id=\"ytick_1\">\r\n     <g id=\"line2d_7\">\r\n      <defs>\r\n       <path d=\"M 0 0 \r\nL -3.5 0 \r\n\" id=\"m35fafeeac5\" style=\"stroke:#000000;stroke-width:0.8;\"/>\r\n      </defs>\r\n      <g>\r\n       <use style=\"stroke:#000000;stroke-width:0.8;\" x=\"36.465625\" xlink:href=\"#m35fafeeac5\" y=\"199.718358\"/>\r\n      </g>\r\n     </g>\r\n     <g id=\"text_7\">\r\n      <!-- 0.71 -->\r\n      <g transform=\"translate(7.2 203.517577)scale(0.1 -0.1)\">\r\n       <defs>\r\n        <path d=\"M 10.6875 12.40625 \r\nL 21 12.40625 \r\nL 21 0 \r\nL 10.6875 0 \r\nz\r\n\" id=\"DejaVuSans-46\"/>\r\n        <path d=\"M 8.203125 72.90625 \r\nL 55.078125 72.90625 \r\nL 55.078125 68.703125 \r\nL 28.609375 0 \r\nL 18.3125 0 \r\nL 43.21875 64.59375 \r\nL 8.203125 64.59375 \r\nz\r\n\" id=\"DejaVuSans-55\"/>\r\n       </defs>\r\n       <use xlink:href=\"#DejaVuSans-48\"/>\r\n       <use x=\"63.623047\" xlink:href=\"#DejaVuSans-46\"/>\r\n       <use x=\"95.410156\" xlink:href=\"#DejaVuSans-55\"/>\r\n       <use x=\"159.033203\" xlink:href=\"#DejaVuSans-49\"/>\r\n      </g>\r\n     </g>\r\n    </g>\r\n    <g id=\"ytick_2\">\r\n     <g id=\"line2d_8\">\r\n      <g>\r\n       <use style=\"stroke:#000000;stroke-width:0.8;\" x=\"36.465625\" xlink:href=\"#m35fafeeac5\" y=\"173.521408\"/>\r\n      </g>\r\n     </g>\r\n     <g id=\"text_8\">\r\n      <!-- 0.72 -->\r\n      <g transform=\"translate(7.2 177.320626)scale(0.1 -0.1)\">\r\n       <use xlink:href=\"#DejaVuSans-48\"/>\r\n       <use x=\"63.623047\" xlink:href=\"#DejaVuSans-46\"/>\r\n       <use x=\"95.410156\" xlink:href=\"#DejaVuSans-55\"/>\r\n       <use x=\"159.033203\" xlink:href=\"#DejaVuSans-50\"/>\r\n      </g>\r\n     </g>\r\n    </g>\r\n    <g id=\"ytick_3\">\r\n     <g id=\"line2d_9\">\r\n      <g>\r\n       <use style=\"stroke:#000000;stroke-width:0.8;\" x=\"36.465625\" xlink:href=\"#m35fafeeac5\" y=\"147.324457\"/>\r\n      </g>\r\n     </g>\r\n     <g id=\"text_9\">\r\n      <!-- 0.73 -->\r\n      <g transform=\"translate(7.2 151.123676)scale(0.1 -0.1)\">\r\n       <defs>\r\n        <path d=\"M 40.578125 39.3125 \r\nQ 47.65625 37.796875 51.625 33 \r\nQ 55.609375 28.21875 55.609375 21.1875 \r\nQ 55.609375 10.40625 48.1875 4.484375 \r\nQ 40.765625 -1.421875 27.09375 -1.421875 \r\nQ 22.515625 -1.421875 17.65625 -0.515625 \r\nQ 12.796875 0.390625 7.625 2.203125 \r\nL 7.625 11.71875 \r\nQ 11.71875 9.328125 16.59375 8.109375 \r\nQ 21.484375 6.890625 26.8125 6.890625 \r\nQ 36.078125 6.890625 40.9375 10.546875 \r\nQ 45.796875 14.203125 45.796875 21.1875 \r\nQ 45.796875 27.640625 41.28125 31.265625 \r\nQ 36.765625 34.90625 28.71875 34.90625 \r\nL 20.21875 34.90625 \r\nL 20.21875 43.015625 \r\nL 29.109375 43.015625 \r\nQ 36.375 43.015625 40.234375 45.921875 \r\nQ 44.09375 48.828125 44.09375 54.296875 \r\nQ 44.09375 59.90625 40.109375 62.90625 \r\nQ 36.140625 65.921875 28.71875 65.921875 \r\nQ 24.65625 65.921875 20.015625 65.03125 \r\nQ 15.375 64.15625 9.8125 62.3125 \r\nL 9.8125 71.09375 \r\nQ 15.4375 72.65625 20.34375 73.4375 \r\nQ 25.25 74.21875 29.59375 74.21875 \r\nQ 40.828125 74.21875 47.359375 69.109375 \r\nQ 53.90625 64.015625 53.90625 55.328125 \r\nQ 53.90625 49.265625 50.4375 45.09375 \r\nQ 46.96875 40.921875 40.578125 39.3125 \r\nz\r\n\" id=\"DejaVuSans-51\"/>\r\n       </defs>\r\n       <use xlink:href=\"#DejaVuSans-48\"/>\r\n       <use x=\"63.623047\" xlink:href=\"#DejaVuSans-46\"/>\r\n       <use x=\"95.410156\" xlink:href=\"#DejaVuSans-55\"/>\r\n       <use x=\"159.033203\" xlink:href=\"#DejaVuSans-51\"/>\r\n      </g>\r\n     </g>\r\n    </g>\r\n    <g id=\"ytick_4\">\r\n     <g id=\"line2d_10\">\r\n      <g>\r\n       <use style=\"stroke:#000000;stroke-width:0.8;\" x=\"36.465625\" xlink:href=\"#m35fafeeac5\" y=\"121.127507\"/>\r\n      </g>\r\n     </g>\r\n     <g id=\"text_10\">\r\n      <!-- 0.74 -->\r\n      <g transform=\"translate(7.2 124.926726)scale(0.1 -0.1)\">\r\n       <use xlink:href=\"#DejaVuSans-48\"/>\r\n       <use x=\"63.623047\" xlink:href=\"#DejaVuSans-46\"/>\r\n       <use x=\"95.410156\" xlink:href=\"#DejaVuSans-55\"/>\r\n       <use x=\"159.033203\" xlink:href=\"#DejaVuSans-52\"/>\r\n      </g>\r\n     </g>\r\n    </g>\r\n    <g id=\"ytick_5\">\r\n     <g id=\"line2d_11\">\r\n      <g>\r\n       <use style=\"stroke:#000000;stroke-width:0.8;\" x=\"36.465625\" xlink:href=\"#m35fafeeac5\" y=\"94.930557\"/>\r\n      </g>\r\n     </g>\r\n     <g id=\"text_11\">\r\n      <!-- 0.75 -->\r\n      <g transform=\"translate(7.2 98.729776)scale(0.1 -0.1)\">\r\n       <defs>\r\n        <path d=\"M 10.796875 72.90625 \r\nL 49.515625 72.90625 \r\nL 49.515625 64.59375 \r\nL 19.828125 64.59375 \r\nL 19.828125 46.734375 \r\nQ 21.96875 47.46875 24.109375 47.828125 \r\nQ 26.265625 48.1875 28.421875 48.1875 \r\nQ 40.625 48.1875 47.75 41.5 \r\nQ 54.890625 34.8125 54.890625 23.390625 \r\nQ 54.890625 11.625 47.5625 5.09375 \r\nQ 40.234375 -1.421875 26.90625 -1.421875 \r\nQ 22.3125 -1.421875 17.546875 -0.640625 \r\nQ 12.796875 0.140625 7.71875 1.703125 \r\nL 7.71875 11.625 \r\nQ 12.109375 9.234375 16.796875 8.0625 \r\nQ 21.484375 6.890625 26.703125 6.890625 \r\nQ 35.15625 6.890625 40.078125 11.328125 \r\nQ 45.015625 15.765625 45.015625 23.390625 \r\nQ 45.015625 31 40.078125 35.4375 \r\nQ 35.15625 39.890625 26.703125 39.890625 \r\nQ 22.75 39.890625 18.8125 39.015625 \r\nQ 14.890625 38.140625 10.796875 36.28125 \r\nz\r\n\" id=\"DejaVuSans-53\"/>\r\n       </defs>\r\n       <use xlink:href=\"#DejaVuSans-48\"/>\r\n       <use x=\"63.623047\" xlink:href=\"#DejaVuSans-46\"/>\r\n       <use x=\"95.410156\" xlink:href=\"#DejaVuSans-55\"/>\r\n       <use x=\"159.033203\" xlink:href=\"#DejaVuSans-53\"/>\r\n      </g>\r\n     </g>\r\n    </g>\r\n    <g id=\"ytick_6\">\r\n     <g id=\"line2d_12\">\r\n      <g>\r\n       <use style=\"stroke:#000000;stroke-width:0.8;\" x=\"36.465625\" xlink:href=\"#m35fafeeac5\" y=\"68.733607\"/>\r\n      </g>\r\n     </g>\r\n     <g id=\"text_12\">\r\n      <!-- 0.76 -->\r\n      <g transform=\"translate(7.2 72.532826)scale(0.1 -0.1)\">\r\n       <use xlink:href=\"#DejaVuSans-48\"/>\r\n       <use x=\"63.623047\" xlink:href=\"#DejaVuSans-46\"/>\r\n       <use x=\"95.410156\" xlink:href=\"#DejaVuSans-55\"/>\r\n       <use x=\"159.033203\" xlink:href=\"#DejaVuSans-54\"/>\r\n      </g>\r\n     </g>\r\n    </g>\r\n    <g id=\"ytick_7\">\r\n     <g id=\"line2d_13\">\r\n      <g>\r\n       <use style=\"stroke:#000000;stroke-width:0.8;\" x=\"36.465625\" xlink:href=\"#m35fafeeac5\" y=\"42.536657\"/>\r\n      </g>\r\n     </g>\r\n     <g id=\"text_13\">\r\n      <!-- 0.77 -->\r\n      <g transform=\"translate(7.2 46.335876)scale(0.1 -0.1)\">\r\n       <use xlink:href=\"#DejaVuSans-48\"/>\r\n       <use x=\"63.623047\" xlink:href=\"#DejaVuSans-46\"/>\r\n       <use x=\"95.410156\" xlink:href=\"#DejaVuSans-55\"/>\r\n       <use x=\"159.033203\" xlink:href=\"#DejaVuSans-55\"/>\r\n      </g>\r\n     </g>\r\n    </g>\r\n    <g id=\"ytick_8\">\r\n     <g id=\"line2d_14\">\r\n      <g>\r\n       <use style=\"stroke:#000000;stroke-width:0.8;\" x=\"36.465625\" xlink:href=\"#m35fafeeac5\" y=\"16.339707\"/>\r\n      </g>\r\n     </g>\r\n     <g id=\"text_14\">\r\n      <!-- 0.78 -->\r\n      <g transform=\"translate(7.2 20.138925)scale(0.1 -0.1)\">\r\n       <use xlink:href=\"#DejaVuSans-48\"/>\r\n       <use x=\"63.623047\" xlink:href=\"#DejaVuSans-46\"/>\r\n       <use x=\"95.410156\" xlink:href=\"#DejaVuSans-55\"/>\r\n       <use x=\"159.033203\" xlink:href=\"#DejaVuSans-56\"/>\r\n      </g>\r\n     </g>\r\n    </g>\r\n   </g>\r\n   <g id=\"line2d_15\">\r\n    <path clip-path=\"url(#p2ce112882d)\" d=\"M 51.683807 214.756364 \r\nL 54.789558 99.447273 \r\nL 57.89531 120.702405 \r\nL 61.001061 62.78217 \r\nL 64.106812 73.409736 \r\nL 67.212564 42.589795 \r\nL 70.318315 50.029091 \r\nL 73.424067 44.715308 \r\nL 76.529818 39.932903 \r\nL 79.635569 35.150499 \r\nL 82.741321 30.368094 \r\nL 85.847072 29.836716 \r\nL 88.952824 23.991554 \r\nL 92.058575 27.711202 \r\nL 95.164326 26.117067 \r\nL 98.270078 20.803284 \r\nL 101.375829 28.242581 \r\nL 104.48158 25.585689 \r\nL 107.587332 25.054311 \r\nL 110.693083 17.615015 \r\nL 113.798835 22.928798 \r\nL 116.904586 20.271906 \r\nL 120.010337 23.991554 \r\nL 123.116089 22.928798 \r\nL 126.22184 23.460176 \r\nL 129.327592 26.117067 \r\nL 132.433343 19.740528 \r\nL 135.539094 22.397419 \r\nL 138.644846 17.083636 \r\nL 141.750597 21.866041 \r\nL 144.856349 21.866041 \r\nL 147.9621 21.334663 \r\nL 151.067851 25.054311 \r\nL 154.173603 22.928798 \r\nL 157.279354 30.368094 \r\nL 160.385106 27.711202 \r\nL 163.490857 32.493607 \r\nL 166.596608 33.556364 \r\nL 169.70236 35.681877 \r\nL 172.808111 38.870147 \r\nL 175.913862 34.61912 \r\nL 179.019614 38.870147 \r\nL 182.125365 39.401525 \r\nL 185.231117 38.870147 \r\nL 188.336868 43.652551 \r\nL 191.442619 45.778065 \r\nL 194.548371 46.309443 \r\nL 197.654122 40.99566 \r\nL 200.759874 39.932903 \r\nL 203.865625 37.80739 \r\nL 206.971376 31.43085 \r\nL 210.077128 37.80739 \r\nL 213.182879 36.213255 \r\nL 216.288631 42.058416 \r\nL 219.394382 39.932903 \r\nL 222.500133 44.18393 \r\nL 225.605885 34.61912 \r\nL 228.711636 39.932903 \r\nL 231.817388 38.338768 \r\nL 234.923139 40.464282 \r\nL 238.02889 37.276012 \r\nL 241.134642 39.932903 \r\nL 244.240393 38.870147 \r\nL 247.346144 49.497713 \r\nL 250.451896 44.715308 \r\nL 253.557647 45.778065 \r\nL 256.663399 36.744633 \r\nL 259.76915 37.80739 \r\nL 262.874901 31.962229 \r\nL 265.980653 37.80739 \r\nL 269.086404 34.087742 \r\nL 272.192156 32.493607 \r\nL 275.297907 32.493607 \r\nL 278.403658 37.276012 \r\nL 281.50941 37.80739 \r\nL 284.615161 36.213255 \r\nL 287.720913 36.213255 \r\nL 290.826664 39.932903 \r\nL 293.932415 40.464282 \r\nL 297.038167 40.464282 \r\nL 300.143918 38.870147 \r\nL 303.24967 45.778065 \r\nL 306.355421 44.715308 \r\nL 309.461172 48.434956 \r\nL 312.566924 46.309443 \r\nL 315.672675 47.372199 \r\nL 318.778426 40.99566 \r\nL 321.884178 45.246686 \r\nL 324.989929 42.589795 \r\nL 328.095681 46.309443 \r\nL 331.201432 42.058416 \r\nL 334.307183 48.966334 \r\nL 337.412935 44.18393 \r\nL 340.518686 47.372199 \r\nL 343.624438 44.18393 \r\nL 346.730189 46.309443 \r\nL 349.83594 45.778065 \r\nL 352.941692 50.560469 \r\nL 356.047443 46.840821 \r\n\" style=\"fill:none;stroke:#1f77b4;stroke-linecap:square;stroke-width:1.5;\"/>\r\n   </g>\r\n   <g id=\"patch_3\">\r\n    <path d=\"M 36.465625 224.64 \r\nL 36.465625 7.2 \r\n\" style=\"fill:none;stroke:#000000;stroke-linecap:square;stroke-linejoin:miter;stroke-width:0.8;\"/>\r\n   </g>\r\n   <g id=\"patch_4\">\r\n    <path d=\"M 371.265625 224.64 \r\nL 371.265625 7.2 \r\n\" style=\"fill:none;stroke:#000000;stroke-linecap:square;stroke-linejoin:miter;stroke-width:0.8;\"/>\r\n   </g>\r\n   <g id=\"patch_5\">\r\n    <path d=\"M 36.465625 224.64 \r\nL 371.265625 224.64 \r\n\" style=\"fill:none;stroke:#000000;stroke-linecap:square;stroke-linejoin:miter;stroke-width:0.8;\"/>\r\n   </g>\r\n   <g id=\"patch_6\">\r\n    <path d=\"M 36.465625 7.2 \r\nL 371.265625 7.2 \r\n\" style=\"fill:none;stroke:#000000;stroke-linecap:square;stroke-linejoin:miter;stroke-width:0.8;\"/>\r\n   </g>\r\n  </g>\r\n </g>\r\n <defs>\r\n  <clipPath id=\"p2ce112882d\">\r\n   <rect height=\"217.44\" width=\"334.8\" x=\"36.465625\" y=\"7.2\"/>\r\n  </clipPath>\r\n </defs>\r\n</svg>\r\n",
      "image/png": "[encoded data removed]"
     },
     "metadata": {
      "needs_background": "light"
     }
    }
   ],
   "source": [
    "plt.plot(results['mean_test_score'])"
   ]
  },
  {
   "cell_type": "code",
   "execution_count": 32,
   "metadata": {},
   "outputs": [
    {
     "output_type": "execute_result",
     "data": {
      "text/plain": [
       "GridSearchCV(cv=10, estimator=KNeighborsClassifier(),\n",
       "             param_grid={'n_neighbors': array([ 1,  2,  3,  4,  5,  6,  7,  8,  9, 10, 11, 12, 13, 14, 15, 16, 17,\n",
       "       18, 19, 20, 21, 22, 23, 24, 25, 26, 27, 28, 29, 30, 31, 32, 33, 34,\n",
       "       35, 36, 37, 38, 39, 40, 41, 42, 43, 44, 45, 46, 47, 48, 49, 50, 51,\n",
       "       52, 53, 54, 55, 56, 57, 58, 59, 60, 61, 62, 63, 64, 65, 66, 67, 68,\n",
       "       69, 70, 71, 72, 73, 74, 75, 76, 77, 78, 79, 80, 81, 82, 83, 84, 85,\n",
       "       86, 87, 88, 89, 90, 91, 92, 93, 94, 95, 96, 97, 98, 99])})"
      ]
     },
     "metadata": {},
     "execution_count": 32
    }
   ],
   "source": [
    "knn_classifier.fit(X_test, y_test)"
   ]
  },
  {
   "cell_type": "code",
   "execution_count": 33,
   "metadata": {},
   "outputs": [
    {
     "output_type": "stream",
     "name": "stdout",
     "text": [
      "Best Score: 0.7827438969864973\nBest Params: {'n_neighbors': 23}\n"
     ]
    }
   ],
   "source": [
    "print(f\"Best Score: {knn_classifier.best_score_}\")\n",
    "print(f\"Best Params: {knn_classifier.best_params_}\")"
   ]
  },
  {
   "cell_type": "code",
   "execution_count": 34,
   "metadata": {},
   "outputs": [],
   "source": [
    "results2 = pd.DataFrame(knn_classifier.cv_results_)"
   ]
  },
  {
   "cell_type": "code",
   "execution_count": 35,
   "metadata": {},
   "outputs": [
    {
     "output_type": "execute_result",
     "data": {
      "text/plain": [
       "[<matplotlib.lines.Line2D at 0x250a45dfbe0>]"
      ]
     },
     "metadata": {},
     "execution_count": 35
    },
    {
     "output_type": "display_data",
     "data": {
      "text/plain": "<Figure size 432x288 with 1 Axes>",
      "image/svg+xml": "<?xml version=\"1.0\" encoding=\"utf-8\" standalone=\"no\"?>\r\n<!DOCTYPE svg PUBLIC \"-//W3C//DTD SVG 1.1//EN\"\r\n  \"http://www.w3.org/Graphics/SVG/1.1/DTD/svg11.dtd\">\r\n<!-- Created with matplotlib (https://matplotlib.org/) -->\r\n<svg height=\"248.518125pt\" version=\"1.1\" viewBox=\"0 0 379.002696 248.518125\" width=\"379.002696pt\" xmlns=\"http://www.w3.org/2000/svg\" xmlns:xlink=\"http://www.w3.org/1999/xlink\">\r\n <metadata>\r\n  <rdf:RDF xmlns:cc=\"http://creativecommons.org/ns#\" xmlns:dc=\"http://purl.org/dc/elements/1.1/\" xmlns:rdf=\"http://www.w3.org/1999/02/22-rdf-syntax-ns#\">\r\n   <cc:Work>\r\n    <dc:type rdf:resource=\"http://purl.org/dc/dcmitype/StillImage\"/>\r\n    <dc:date>2021-06-08T01:37:35.588649</dc:date>\r\n    <dc:format>image/svg+xml</dc:format>\r\n    <dc:creator>\r\n     <cc:Agent>\r\n      <dc:title>Matplotlib v3.3.3, https://matplotlib.org/</dc:title>\r\n     </cc:Agent>\r\n    </dc:creator>\r\n   </cc:Work>\r\n  </rdf:RDF>\r\n </metadata>\r\n <defs>\r\n  <style type=\"text/css\">*{stroke-linecap:butt;stroke-linejoin:round;}</style>\r\n </defs>\r\n <g id=\"figure_1\">\r\n  <g id=\"patch_1\">\r\n   <path d=\"M 0 248.518125 \r\nL 379.002696 248.518125 \r\nL 379.002696 0 \r\nL 0 0 \r\nz\r\n\" style=\"fill:none;\"/>\r\n  </g>\r\n  <g id=\"axes_1\">\r\n   <g id=\"patch_2\">\r\n    <path d=\"M 36.465625 224.64 \r\nL 371.265625 224.64 \r\nL 371.265625 7.2 \r\nL 36.465625 7.2 \r\nz\r\n\" style=\"fill:#ffffff;\"/>\r\n   </g>\r\n   <g id=\"matplotlib.axis_1\">\r\n    <g id=\"xtick_1\">\r\n     <g id=\"line2d_1\">\r\n      <defs>\r\n       <path d=\"M 0 0 \r\nL 0 3.5 \r\n\" id=\"me690f61741\" style=\"stroke:#000000;stroke-width:0.8;\"/>\r\n      </defs>\r\n      <g>\r\n       <use style=\"stroke:#000000;stroke-width:0.8;\" x=\"51.683807\" xlink:href=\"#me690f61741\" y=\"224.64\"/>\r\n      </g>\r\n     </g>\r\n     <g id=\"text_1\">\r\n      <!-- 0 -->\r\n      <g transform=\"translate(48.502557 239.238438)scale(0.1 -0.1)\">\r\n       <defs>\r\n        <path d=\"M 31.78125 66.40625 \r\nQ 24.171875 66.40625 20.328125 58.90625 \r\nQ 16.5 51.421875 16.5 36.375 \r\nQ 16.5 21.390625 20.328125 13.890625 \r\nQ 24.171875 6.390625 31.78125 6.390625 \r\nQ 39.453125 6.390625 43.28125 13.890625 \r\nQ 47.125 21.390625 47.125 36.375 \r\nQ 47.125 51.421875 43.28125 58.90625 \r\nQ 39.453125 66.40625 31.78125 66.40625 \r\nz\r\nM 31.78125 74.21875 \r\nQ 44.046875 74.21875 50.515625 64.515625 \r\nQ 56.984375 54.828125 56.984375 36.375 \r\nQ 56.984375 17.96875 50.515625 8.265625 \r\nQ 44.046875 -1.421875 31.78125 -1.421875 \r\nQ 19.53125 -1.421875 13.0625 8.265625 \r\nQ 6.59375 17.96875 6.59375 36.375 \r\nQ 6.59375 54.828125 13.0625 64.515625 \r\nQ 19.53125 74.21875 31.78125 74.21875 \r\nz\r\n\" id=\"DejaVuSans-48\"/>\r\n       </defs>\r\n       <use xlink:href=\"#DejaVuSans-48\"/>\r\n      </g>\r\n     </g>\r\n    </g>\r\n    <g id=\"xtick_2\">\r\n     <g id=\"line2d_2\">\r\n      <g>\r\n       <use style=\"stroke:#000000;stroke-width:0.8;\" x=\"113.798835\" xlink:href=\"#me690f61741\" y=\"224.64\"/>\r\n      </g>\r\n     </g>\r\n     <g id=\"text_2\">\r\n      <!-- 20 -->\r\n      <g transform=\"translate(107.436335 239.238438)scale(0.1 -0.1)\">\r\n       <defs>\r\n        <path d=\"M 19.1875 8.296875 \r\nL 53.609375 8.296875 \r\nL 53.609375 0 \r\nL 7.328125 0 \r\nL 7.328125 8.296875 \r\nQ 12.9375 14.109375 22.625 23.890625 \r\nQ 32.328125 33.6875 34.8125 36.53125 \r\nQ 39.546875 41.84375 41.421875 45.53125 \r\nQ 43.3125 49.21875 43.3125 52.78125 \r\nQ 43.3125 58.59375 39.234375 62.25 \r\nQ 35.15625 65.921875 28.609375 65.921875 \r\nQ 23.96875 65.921875 18.8125 64.3125 \r\nQ 13.671875 62.703125 7.8125 59.421875 \r\nL 7.8125 69.390625 \r\nQ 13.765625 71.78125 18.9375 73 \r\nQ 24.125 74.21875 28.421875 74.21875 \r\nQ 39.75 74.21875 46.484375 68.546875 \r\nQ 53.21875 62.890625 53.21875 53.421875 \r\nQ 53.21875 48.921875 51.53125 44.890625 \r\nQ 49.859375 40.875 45.40625 35.40625 \r\nQ 44.1875 33.984375 37.640625 27.21875 \r\nQ 31.109375 20.453125 19.1875 8.296875 \r\nz\r\n\" id=\"DejaVuSans-50\"/>\r\n       </defs>\r\n       <use xlink:href=\"#DejaVuSans-50\"/>\r\n       <use x=\"63.623047\" xlink:href=\"#DejaVuSans-48\"/>\r\n      </g>\r\n     </g>\r\n    </g>\r\n    <g id=\"xtick_3\">\r\n     <g id=\"line2d_3\">\r\n      <g>\r\n       <use style=\"stroke:#000000;stroke-width:0.8;\" x=\"175.913862\" xlink:href=\"#me690f61741\" y=\"224.64\"/>\r\n      </g>\r\n     </g>\r\n     <g id=\"text_3\">\r\n      <!-- 40 -->\r\n      <g transform=\"translate(169.551362 239.238438)scale(0.1 -0.1)\">\r\n       <defs>\r\n        <path d=\"M 37.796875 64.3125 \r\nL 12.890625 25.390625 \r\nL 37.796875 25.390625 \r\nz\r\nM 35.203125 72.90625 \r\nL 47.609375 72.90625 \r\nL 47.609375 25.390625 \r\nL 58.015625 25.390625 \r\nL 58.015625 17.1875 \r\nL 47.609375 17.1875 \r\nL 47.609375 0 \r\nL 37.796875 0 \r\nL 37.796875 17.1875 \r\nL 4.890625 17.1875 \r\nL 4.890625 26.703125 \r\nz\r\n\" id=\"DejaVuSans-52\"/>\r\n       </defs>\r\n       <use xlink:href=\"#DejaVuSans-52\"/>\r\n       <use x=\"63.623047\" xlink:href=\"#DejaVuSans-48\"/>\r\n      </g>\r\n     </g>\r\n    </g>\r\n    <g id=\"xtick_4\">\r\n     <g id=\"line2d_4\">\r\n      <g>\r\n       <use style=\"stroke:#000000;stroke-width:0.8;\" x=\"238.02889\" xlink:href=\"#me690f61741\" y=\"224.64\"/>\r\n      </g>\r\n     </g>\r\n     <g id=\"text_4\">\r\n      <!-- 60 -->\r\n      <g transform=\"translate(231.66639 239.238438)scale(0.1 -0.1)\">\r\n       <defs>\r\n        <path d=\"M 33.015625 40.375 \r\nQ 26.375 40.375 22.484375 35.828125 \r\nQ 18.609375 31.296875 18.609375 23.390625 \r\nQ 18.609375 15.53125 22.484375 10.953125 \r\nQ 26.375 6.390625 33.015625 6.390625 \r\nQ 39.65625 6.390625 43.53125 10.953125 \r\nQ 47.40625 15.53125 47.40625 23.390625 \r\nQ 47.40625 31.296875 43.53125 35.828125 \r\nQ 39.65625 40.375 33.015625 40.375 \r\nz\r\nM 52.59375 71.296875 \r\nL 52.59375 62.3125 \r\nQ 48.875 64.0625 45.09375 64.984375 \r\nQ 41.3125 65.921875 37.59375 65.921875 \r\nQ 27.828125 65.921875 22.671875 59.328125 \r\nQ 17.53125 52.734375 16.796875 39.40625 \r\nQ 19.671875 43.65625 24.015625 45.921875 \r\nQ 28.375 48.1875 33.59375 48.1875 \r\nQ 44.578125 48.1875 50.953125 41.515625 \r\nQ 57.328125 34.859375 57.328125 23.390625 \r\nQ 57.328125 12.15625 50.6875 5.359375 \r\nQ 44.046875 -1.421875 33.015625 -1.421875 \r\nQ 20.359375 -1.421875 13.671875 8.265625 \r\nQ 6.984375 17.96875 6.984375 36.375 \r\nQ 6.984375 53.65625 15.1875 63.9375 \r\nQ 23.390625 74.21875 37.203125 74.21875 \r\nQ 40.921875 74.21875 44.703125 73.484375 \r\nQ 48.484375 72.75 52.59375 71.296875 \r\nz\r\n\" id=\"DejaVuSans-54\"/>\r\n       </defs>\r\n       <use xlink:href=\"#DejaVuSans-54\"/>\r\n       <use x=\"63.623047\" xlink:href=\"#DejaVuSans-48\"/>\r\n      </g>\r\n     </g>\r\n    </g>\r\n    <g id=\"xtick_5\">\r\n     <g id=\"line2d_5\">\r\n      <g>\r\n       <use style=\"stroke:#000000;stroke-width:0.8;\" x=\"300.143918\" xlink:href=\"#me690f61741\" y=\"224.64\"/>\r\n      </g>\r\n     </g>\r\n     <g id=\"text_5\">\r\n      <!-- 80 -->\r\n      <g transform=\"translate(293.781418 239.238438)scale(0.1 -0.1)\">\r\n       <defs>\r\n        <path d=\"M 31.78125 34.625 \r\nQ 24.75 34.625 20.71875 30.859375 \r\nQ 16.703125 27.09375 16.703125 20.515625 \r\nQ 16.703125 13.921875 20.71875 10.15625 \r\nQ 24.75 6.390625 31.78125 6.390625 \r\nQ 38.8125 6.390625 42.859375 10.171875 \r\nQ 46.921875 13.96875 46.921875 20.515625 \r\nQ 46.921875 27.09375 42.890625 30.859375 \r\nQ 38.875 34.625 31.78125 34.625 \r\nz\r\nM 21.921875 38.8125 \r\nQ 15.578125 40.375 12.03125 44.71875 \r\nQ 8.5 49.078125 8.5 55.328125 \r\nQ 8.5 64.0625 14.71875 69.140625 \r\nQ 20.953125 74.21875 31.78125 74.21875 \r\nQ 42.671875 74.21875 48.875 69.140625 \r\nQ 55.078125 64.0625 55.078125 55.328125 \r\nQ 55.078125 49.078125 51.53125 44.71875 \r\nQ 48 40.375 41.703125 38.8125 \r\nQ 48.828125 37.15625 52.796875 32.3125 \r\nQ 56.78125 27.484375 56.78125 20.515625 \r\nQ 56.78125 9.90625 50.3125 4.234375 \r\nQ 43.84375 -1.421875 31.78125 -1.421875 \r\nQ 19.734375 -1.421875 13.25 4.234375 \r\nQ 6.78125 9.90625 6.78125 20.515625 \r\nQ 6.78125 27.484375 10.78125 32.3125 \r\nQ 14.796875 37.15625 21.921875 38.8125 \r\nz\r\nM 18.3125 54.390625 \r\nQ 18.3125 48.734375 21.84375 45.5625 \r\nQ 25.390625 42.390625 31.78125 42.390625 \r\nQ 38.140625 42.390625 41.71875 45.5625 \r\nQ 45.3125 48.734375 45.3125 54.390625 \r\nQ 45.3125 60.0625 41.71875 63.234375 \r\nQ 38.140625 66.40625 31.78125 66.40625 \r\nQ 25.390625 66.40625 21.84375 63.234375 \r\nQ 18.3125 60.0625 18.3125 54.390625 \r\nz\r\n\" id=\"DejaVuSans-56\"/>\r\n       </defs>\r\n       <use xlink:href=\"#DejaVuSans-56\"/>\r\n       <use x=\"63.623047\" xlink:href=\"#DejaVuSans-48\"/>\r\n      </g>\r\n     </g>\r\n    </g>\r\n    <g id=\"xtick_6\">\r\n     <g id=\"line2d_6\">\r\n      <g>\r\n       <use style=\"stroke:#000000;stroke-width:0.8;\" x=\"362.258946\" xlink:href=\"#me690f61741\" y=\"224.64\"/>\r\n      </g>\r\n     </g>\r\n     <g id=\"text_6\">\r\n      <!-- 100 -->\r\n      <g transform=\"translate(352.715196 239.238438)scale(0.1 -0.1)\">\r\n       <defs>\r\n        <path d=\"M 12.40625 8.296875 \r\nL 28.515625 8.296875 \r\nL 28.515625 63.921875 \r\nL 10.984375 60.40625 \r\nL 10.984375 69.390625 \r\nL 28.421875 72.90625 \r\nL 38.28125 72.90625 \r\nL 38.28125 8.296875 \r\nL 54.390625 8.296875 \r\nL 54.390625 0 \r\nL 12.40625 0 \r\nz\r\n\" id=\"DejaVuSans-49\"/>\r\n       </defs>\r\n       <use xlink:href=\"#DejaVuSans-49\"/>\r\n       <use x=\"63.623047\" xlink:href=\"#DejaVuSans-48\"/>\r\n       <use x=\"127.246094\" xlink:href=\"#DejaVuSans-48\"/>\r\n      </g>\r\n     </g>\r\n    </g>\r\n   </g>\r\n   <g id=\"matplotlib.axis_2\">\r\n    <g id=\"ytick_1\">\r\n     <g id=\"line2d_7\">\r\n      <defs>\r\n       <path d=\"M 0 0 \r\nL -3.5 0 \r\n\" id=\"me5971da2e5\" style=\"stroke:#000000;stroke-width:0.8;\"/>\r\n      </defs>\r\n      <g>\r\n       <use style=\"stroke:#000000;stroke-width:0.8;\" x=\"36.465625\" xlink:href=\"#me5971da2e5\" y=\"209.809567\"/>\r\n      </g>\r\n     </g>\r\n     <g id=\"text_7\">\r\n      <!-- 0.72 -->\r\n      <g transform=\"translate(7.2 213.608786)scale(0.1 -0.1)\">\r\n       <defs>\r\n        <path d=\"M 10.6875 12.40625 \r\nL 21 12.40625 \r\nL 21 0 \r\nL 10.6875 0 \r\nz\r\n\" id=\"DejaVuSans-46\"/>\r\n        <path d=\"M 8.203125 72.90625 \r\nL 55.078125 72.90625 \r\nL 55.078125 68.703125 \r\nL 28.609375 0 \r\nL 18.3125 0 \r\nL 43.21875 64.59375 \r\nL 8.203125 64.59375 \r\nz\r\n\" id=\"DejaVuSans-55\"/>\r\n       </defs>\r\n       <use xlink:href=\"#DejaVuSans-48\"/>\r\n       <use x=\"63.623047\" xlink:href=\"#DejaVuSans-46\"/>\r\n       <use x=\"95.410156\" xlink:href=\"#DejaVuSans-55\"/>\r\n       <use x=\"159.033203\" xlink:href=\"#DejaVuSans-50\"/>\r\n      </g>\r\n     </g>\r\n    </g>\r\n    <g id=\"ytick_2\">\r\n     <g id=\"line2d_8\">\r\n      <g>\r\n       <use style=\"stroke:#000000;stroke-width:0.8;\" x=\"36.465625\" xlink:href=\"#me5971da2e5\" y=\"179.093284\"/>\r\n      </g>\r\n     </g>\r\n     <g id=\"text_8\">\r\n      <!-- 0.73 -->\r\n      <g transform=\"translate(7.2 182.892503)scale(0.1 -0.1)\">\r\n       <defs>\r\n        <path d=\"M 40.578125 39.3125 \r\nQ 47.65625 37.796875 51.625 33 \r\nQ 55.609375 28.21875 55.609375 21.1875 \r\nQ 55.609375 10.40625 48.1875 4.484375 \r\nQ 40.765625 -1.421875 27.09375 -1.421875 \r\nQ 22.515625 -1.421875 17.65625 -0.515625 \r\nQ 12.796875 0.390625 7.625 2.203125 \r\nL 7.625 11.71875 \r\nQ 11.71875 9.328125 16.59375 8.109375 \r\nQ 21.484375 6.890625 26.8125 6.890625 \r\nQ 36.078125 6.890625 40.9375 10.546875 \r\nQ 45.796875 14.203125 45.796875 21.1875 \r\nQ 45.796875 27.640625 41.28125 31.265625 \r\nQ 36.765625 34.90625 28.71875 34.90625 \r\nL 20.21875 34.90625 \r\nL 20.21875 43.015625 \r\nL 29.109375 43.015625 \r\nQ 36.375 43.015625 40.234375 45.921875 \r\nQ 44.09375 48.828125 44.09375 54.296875 \r\nQ 44.09375 59.90625 40.109375 62.90625 \r\nQ 36.140625 65.921875 28.71875 65.921875 \r\nQ 24.65625 65.921875 20.015625 65.03125 \r\nQ 15.375 64.15625 9.8125 62.3125 \r\nL 9.8125 71.09375 \r\nQ 15.4375 72.65625 20.34375 73.4375 \r\nQ 25.25 74.21875 29.59375 74.21875 \r\nQ 40.828125 74.21875 47.359375 69.109375 \r\nQ 53.90625 64.015625 53.90625 55.328125 \r\nQ 53.90625 49.265625 50.4375 45.09375 \r\nQ 46.96875 40.921875 40.578125 39.3125 \r\nz\r\n\" id=\"DejaVuSans-51\"/>\r\n       </defs>\r\n       <use xlink:href=\"#DejaVuSans-48\"/>\r\n       <use x=\"63.623047\" xlink:href=\"#DejaVuSans-46\"/>\r\n       <use x=\"95.410156\" xlink:href=\"#DejaVuSans-55\"/>\r\n       <use x=\"159.033203\" xlink:href=\"#DejaVuSans-51\"/>\r\n      </g>\r\n     </g>\r\n    </g>\r\n    <g id=\"ytick_3\">\r\n     <g id=\"line2d_9\">\r\n      <g>\r\n       <use style=\"stroke:#000000;stroke-width:0.8;\" x=\"36.465625\" xlink:href=\"#me5971da2e5\" y=\"148.377001\"/>\r\n      </g>\r\n     </g>\r\n     <g id=\"text_9\">\r\n      <!-- 0.74 -->\r\n      <g transform=\"translate(7.2 152.176219)scale(0.1 -0.1)\">\r\n       <use xlink:href=\"#DejaVuSans-48\"/>\r\n       <use x=\"63.623047\" xlink:href=\"#DejaVuSans-46\"/>\r\n       <use x=\"95.410156\" xlink:href=\"#DejaVuSans-55\"/>\r\n       <use x=\"159.033203\" xlink:href=\"#DejaVuSans-52\"/>\r\n      </g>\r\n     </g>\r\n    </g>\r\n    <g id=\"ytick_4\">\r\n     <g id=\"line2d_10\">\r\n      <g>\r\n       <use style=\"stroke:#000000;stroke-width:0.8;\" x=\"36.465625\" xlink:href=\"#me5971da2e5\" y=\"117.660718\"/>\r\n      </g>\r\n     </g>\r\n     <g id=\"text_10\">\r\n      <!-- 0.75 -->\r\n      <g transform=\"translate(7.2 121.459936)scale(0.1 -0.1)\">\r\n       <defs>\r\n        <path d=\"M 10.796875 72.90625 \r\nL 49.515625 72.90625 \r\nL 49.515625 64.59375 \r\nL 19.828125 64.59375 \r\nL 19.828125 46.734375 \r\nQ 21.96875 47.46875 24.109375 47.828125 \r\nQ 26.265625 48.1875 28.421875 48.1875 \r\nQ 40.625 48.1875 47.75 41.5 \r\nQ 54.890625 34.8125 54.890625 23.390625 \r\nQ 54.890625 11.625 47.5625 5.09375 \r\nQ 40.234375 -1.421875 26.90625 -1.421875 \r\nQ 22.3125 -1.421875 17.546875 -0.640625 \r\nQ 12.796875 0.140625 7.71875 1.703125 \r\nL 7.71875 11.625 \r\nQ 12.109375 9.234375 16.796875 8.0625 \r\nQ 21.484375 6.890625 26.703125 6.890625 \r\nQ 35.15625 6.890625 40.078125 11.328125 \r\nQ 45.015625 15.765625 45.015625 23.390625 \r\nQ 45.015625 31 40.078125 35.4375 \r\nQ 35.15625 39.890625 26.703125 39.890625 \r\nQ 22.75 39.890625 18.8125 39.015625 \r\nQ 14.890625 38.140625 10.796875 36.28125 \r\nz\r\n\" id=\"DejaVuSans-53\"/>\r\n       </defs>\r\n       <use xlink:href=\"#DejaVuSans-48\"/>\r\n       <use x=\"63.623047\" xlink:href=\"#DejaVuSans-46\"/>\r\n       <use x=\"95.410156\" xlink:href=\"#DejaVuSans-55\"/>\r\n       <use x=\"159.033203\" xlink:href=\"#DejaVuSans-53\"/>\r\n      </g>\r\n     </g>\r\n    </g>\r\n    <g id=\"ytick_5\">\r\n     <g id=\"line2d_11\">\r\n      <g>\r\n       <use style=\"stroke:#000000;stroke-width:0.8;\" x=\"36.465625\" xlink:href=\"#me5971da2e5\" y=\"86.944434\"/>\r\n      </g>\r\n     </g>\r\n     <g id=\"text_11\">\r\n      <!-- 0.76 -->\r\n      <g transform=\"translate(7.2 90.743653)scale(0.1 -0.1)\">\r\n       <use xlink:href=\"#DejaVuSans-48\"/>\r\n       <use x=\"63.623047\" xlink:href=\"#DejaVuSans-46\"/>\r\n       <use x=\"95.410156\" xlink:href=\"#DejaVuSans-55\"/>\r\n       <use x=\"159.033203\" xlink:href=\"#DejaVuSans-54\"/>\r\n      </g>\r\n     </g>\r\n    </g>\r\n    <g id=\"ytick_6\">\r\n     <g id=\"line2d_12\">\r\n      <g>\r\n       <use style=\"stroke:#000000;stroke-width:0.8;\" x=\"36.465625\" xlink:href=\"#me5971da2e5\" y=\"56.228151\"/>\r\n      </g>\r\n     </g>\r\n     <g id=\"text_12\">\r\n      <!-- 0.77 -->\r\n      <g transform=\"translate(7.2 60.02737)scale(0.1 -0.1)\">\r\n       <use xlink:href=\"#DejaVuSans-48\"/>\r\n       <use x=\"63.623047\" xlink:href=\"#DejaVuSans-46\"/>\r\n       <use x=\"95.410156\" xlink:href=\"#DejaVuSans-55\"/>\r\n       <use x=\"159.033203\" xlink:href=\"#DejaVuSans-55\"/>\r\n      </g>\r\n     </g>\r\n    </g>\r\n    <g id=\"ytick_7\">\r\n     <g id=\"line2d_13\">\r\n      <g>\r\n       <use style=\"stroke:#000000;stroke-width:0.8;\" x=\"36.465625\" xlink:href=\"#me5971da2e5\" y=\"25.511868\"/>\r\n      </g>\r\n     </g>\r\n     <g id=\"text_13\">\r\n      <!-- 0.78 -->\r\n      <g transform=\"translate(7.2 29.311087)scale(0.1 -0.1)\">\r\n       <use xlink:href=\"#DejaVuSans-48\"/>\r\n       <use x=\"63.623047\" xlink:href=\"#DejaVuSans-46\"/>\r\n       <use x=\"95.410156\" xlink:href=\"#DejaVuSans-55\"/>\r\n       <use x=\"159.033203\" xlink:href=\"#DejaVuSans-56\"/>\r\n      </g>\r\n     </g>\r\n    </g>\r\n   </g>\r\n   <g id=\"line2d_14\">\r\n    <path clip-path=\"url(#pc22a526ddc)\" d=\"M 51.683807 214.756364 \r\nL 54.789558 104.229382 \r\nL 57.89531 82.434362 \r\nL 61.001061 64.972253 \r\nL 64.106812 34.429011 \r\nL 67.212564 50.48344 \r\nL 70.318315 57.78278 \r\nL 73.424067 56.354499 \r\nL 76.529818 44.715382 \r\nL 79.635569 49.048292 \r\nL 82.741321 49.062026 \r\nL 85.847072 43.259634 \r\nL 88.952824 44.729115 \r\nL 92.058575 24.369243 \r\nL 95.164326 28.750221 \r\nL 98.270078 31.647983 \r\nL 101.375829 21.471481 \r\nL 104.48158 31.63425 \r\nL 107.587332 21.464614 \r\nL 110.693083 18.559985 \r\nL 113.798835 20.029466 \r\nL 116.904586 25.790658 \r\nL 120.010337 17.083636 \r\nL 123.116089 18.505051 \r\nL 126.22184 22.872295 \r\nL 129.327592 30.137301 \r\nL 132.433343 22.872295 \r\nL 135.539094 38.830589 \r\nL 138.644846 30.144168 \r\nL 141.750597 46.081862 \r\nL 144.856349 33.007597 \r\nL 147.9621 47.53761 \r\nL 151.067851 38.830589 \r\nL 154.173603 46.068129 \r\nL 157.279354 43.177233 \r\nL 160.385106 44.612381 \r\nL 163.490857 41.694018 \r\nL 166.596608 50.435373 \r\nL 169.70236 51.884254 \r\nL 172.808111 57.686646 \r\nL 175.913862 48.965891 \r\nL 179.019614 57.679779 \r\nL 182.125365 59.12866 \r\nL 185.231117 63.495905 \r\nL 188.336868 60.584408 \r\nL 191.442619 54.788883 \r\nL 194.548371 60.598142 \r\nL 197.654122 57.707246 \r\nL 200.759874 59.162994 \r\nL 203.865625 64.992853 \r\nL 206.971376 59.176728 \r\nL 210.077128 70.802112 \r\nL 213.182879 63.523371 \r\nL 216.288631 69.346364 \r\nL 219.394382 69.346364 \r\nL 222.500133 75.169356 \r\nL 225.605885 73.720474 \r\nL 228.711636 75.176222 \r\nL 231.817388 72.27846 \r\nL 234.923139 75.183089 \r\nL 238.02889 72.264726 \r\nL 241.134642 73.727341 \r\nL 244.240393 75.176222 \r\nL 247.346144 80.971747 \r\nL 250.451896 78.060251 \r\nL 253.557647 83.89011 \r\nL 256.663399 79.543466 \r\nL 259.76915 86.81534 \r\nL 262.874901 79.5572 \r\nL 265.980653 79.550333 \r\nL 269.086404 76.652571 \r\nL 272.192156 79.5366 \r\nL 275.297907 78.101452 \r\nL 278.403658 80.992348 \r\nL 281.50941 76.625104 \r\nL 284.615161 78.087718 \r\nL 287.720913 80.992348 \r\nL 290.826664 82.454962 \r\nL 293.932415 85.359592 \r\nL 297.038167 81.006081 \r\nL 300.143918 81.006081 \r\nL 303.24967 82.468696 \r\nL 306.355421 78.101452 \r\nL 309.461172 83.917577 \r\nL 312.566924 81.006081 \r\nL 315.672675 83.917577 \r\nL 318.778426 82.461829 \r\nL 321.884178 83.91071 \r\nL 324.989929 78.101452 \r\nL 328.095681 83.91071 \r\nL 331.201432 81.006081 \r\nL 334.307183 82.454962 \r\nL 337.412935 82.454962 \r\nL 340.518686 83.917577 \r\nL 343.624438 83.917577 \r\nL 346.730189 83.917577 \r\nL 349.83594 83.924444 \r\nL 352.941692 81.012948 \r\nL 356.047443 81.012948 \r\n\" style=\"fill:none;stroke:#1f77b4;stroke-linecap:square;stroke-width:1.5;\"/>\r\n   </g>\r\n   <g id=\"patch_3\">\r\n    <path d=\"M 36.465625 224.64 \r\nL 36.465625 7.2 \r\n\" style=\"fill:none;stroke:#000000;stroke-linecap:square;stroke-linejoin:miter;stroke-width:0.8;\"/>\r\n   </g>\r\n   <g id=\"patch_4\">\r\n    <path d=\"M 371.265625 224.64 \r\nL 371.265625 7.2 \r\n\" style=\"fill:none;stroke:#000000;stroke-linecap:square;stroke-linejoin:miter;stroke-width:0.8;\"/>\r\n   </g>\r\n   <g id=\"patch_5\">\r\n    <path d=\"M 36.465625 224.64 \r\nL 371.265625 224.64 \r\n\" style=\"fill:none;stroke:#000000;stroke-linecap:square;stroke-linejoin:miter;stroke-width:0.8;\"/>\r\n   </g>\r\n   <g id=\"patch_6\">\r\n    <path d=\"M 36.465625 7.2 \r\nL 371.265625 7.2 \r\n\" style=\"fill:none;stroke:#000000;stroke-linecap:square;stroke-linejoin:miter;stroke-width:0.8;\"/>\r\n   </g>\r\n  </g>\r\n </g>\r\n <defs>\r\n  <clipPath id=\"pc22a526ddc\">\r\n   <rect height=\"217.44\" width=\"334.8\" x=\"36.465625\" y=\"7.2\"/>\r\n  </clipPath>\r\n </defs>\r\n</svg>\r\n",
      "image/png": "[encoded data removed]"
     },
     "metadata": {
      "needs_background": "light"
     }
    }
   ],
   "source": [
    "plt.plot(results2['mean_test_score'])"
   ]
  },
  {
   "cell_type": "code",
   "execution_count": 36,
   "metadata": {},
   "outputs": [],
   "source": [
    "y_pred = knn_classifier.predict(X_test)"
   ]
  },
  {
   "cell_type": "code",
   "execution_count": 37,
   "metadata": {},
   "outputs": [
    {
     "output_type": "execute_result",
     "data": {
      "text/plain": [
       "array([1, 0, 0, ..., 0, 0, 0], dtype=uint8)"
      ]
     },
     "metadata": {},
     "execution_count": 37
    }
   ],
   "source": [
    "y_pred"
   ]
  }
 ]
}