{
 "cells": [
  {
   "cell_type": "markdown",
   "source": [
    "# Datacamp Analyzing Police Activity"
   ],
   "metadata": {}
  },
  {
   "cell_type": "markdown",
   "source": [
    "## 1"
   ],
   "metadata": {}
  },
  {
   "cell_type": "code",
   "execution_count": null,
   "source": [
    "# Import the pandas library as pd\r\n",
    "import pandas as pd\r\n",
    "\r\n",
    "# Read 'police.csv' into a DataFrame named ri\r\n",
    "ri = pd.read_csv('police.csv')\r\n",
    "\r\n",
    "# Examine the head of the DataFrame\r\n",
    "print(ri.head())\r\n",
    "\r\n",
    "# Count the number of missing values in each column\r\n",
    "print(ri.isnull().sum())"
   ],
   "outputs": [],
   "metadata": {}
  },
  {
   "cell_type": "markdown",
   "source": [
    "## 2"
   ],
   "metadata": {}
  },
  {
   "cell_type": "code",
   "execution_count": null,
   "source": [
    "# Examine the shape of the DataFrame\r\n",
    "print(ri.shape)\r\n",
    "\r\n",
    "# Drop the 'county_name' and 'state' columns\r\n",
    "ri.drop(['county_name', 'state'], axis='columns', inplace=True)\r\n",
    "\r\n",
    "# Examine the shape of the DataFrame (again)\r\n",
    "print(ri.shape)"
   ],
   "outputs": [],
   "metadata": {}
  },
  {
   "cell_type": "markdown",
   "source": [
    "## 3"
   ],
   "metadata": {}
  },
  {
   "cell_type": "code",
   "execution_count": null,
   "source": [
    "# Count the number of missing values in each column\r\n",
    "print(ri.isnull().sum())\r\n",
    "\r\n",
    "# Drop all rows that are missing 'driver_gender'\r\n",
    "ri.dropna(subset=['driver_gender'], inplace=True)\r\n",
    "\r\n",
    "# Count the number of missing values in each column (again)\r\n",
    "print(ri.isnull().sum())\r\n",
    "\r\n",
    "# Examine the shape of the DataFrame\r\n",
    "print(ri.shape)"
   ],
   "outputs": [],
   "metadata": {}
  },
  {
   "cell_type": "markdown",
   "source": [
    "## 4"
   ],
   "metadata": {}
  },
  {
   "cell_type": "code",
   "execution_count": null,
   "source": [
    "# Examine the head of the 'is_arrested' column\r\n",
    "print(ri.is_arrested.dtypes)\r\n",
    "\r\n",
    "# Change the data type of 'is_arrested' to 'bool'\r\n",
    "ri['is_arrested'] = ri.is_arrested.astype('bool')\r\n",
    "\r\n",
    "# Check the data type of 'is_arrested' \r\n",
    "print(ri.is_arrested.dtypes)"
   ],
   "outputs": [],
   "metadata": {}
  },
  {
   "cell_type": "markdown",
   "source": [
    "## 5"
   ],
   "metadata": {}
  },
  {
   "cell_type": "code",
   "execution_count": null,
   "source": [
    "# Concatenate 'stop_date' and 'stop_time' (separated by a space)\r\n",
    "combined = ri.stop_date.str.cat(ri.stop_time, sep=' ')\r\n",
    "\r\n",
    "# Convert 'combined' to datetime format\r\n",
    "ri['stop_datetime'] = pd.to_datetime(combined)\r\n",
    "\r\n",
    "# Examine the data types of the DataFrame\r\n",
    "print(ri.dtypes)"
   ],
   "outputs": [],
   "metadata": {}
  },
  {
   "cell_type": "markdown",
   "source": [
    "## 6"
   ],
   "metadata": {}
  },
  {
   "cell_type": "code",
   "execution_count": null,
   "source": [
    "# Set 'stop_datetime' as the index\r\n",
    "ri.set_index('stop_datetime', inplace=True)\r\n",
    "\r\n",
    "# Examine the index\r\n",
    "print(ri.index)\r\n",
    "\r\n",
    "# Examine the columns\r\n",
    "print(ri.columns)"
   ],
   "outputs": [],
   "metadata": {}
  }
 ],
 "metadata": {
  "orig_nbformat": 4,
  "language_info": {
   "name": "python",
   "version": "3.9.6"
  },
  "kernelspec": {
   "name": "python3",
   "display_name": "Python 3.9.6 64-bit"
  },
  "interpreter": {
   "hash": "06cb67651ce969e244f20f184e33f4ddb1106793adfe07cf7ddc131c95c4012f"
  }
 },
 "nbformat": 4,
 "nbformat_minor": 2
}