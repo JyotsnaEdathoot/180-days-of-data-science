{
 "cells": [
  {
   "cell_type": "markdown",
   "source": [
    "# Understanding Sklearn Accuracy Score\r\n",
    "\r\n",
    "[Question](https://stackoverflow.com/questions/37665680/how-does-sklearn-compute-the-accuracy-score-step-by-step)"
   ],
   "metadata": {}
  },
  {
   "cell_type": "code",
   "execution_count": 1,
   "source": [
    "from sklearn.metrics import accuracy_score\r\n",
    "import numpy as np\r\n",
    "\r\n",
    "# Prediction\r\n",
    "y_pred = [0, 2, 1, 3]\r\n",
    "\r\n",
    "# Actual\r\n",
    "y_true = [0, 1, 2, 3]\r\n",
    "\r\n",
    "# Accuracy\r\n",
    "accuracy_score(y_true, y_pred)\r\n"
   ],
   "outputs": [
    {
     "output_type": "execute_result",
     "data": {
      "text/plain": [
       "0.5"
      ]
     },
     "metadata": {},
     "execution_count": 1
    }
   ],
   "metadata": {}
  },
  {
   "cell_type": "markdown",
   "source": [
    "We got 0.5 because we the matches value is 2 from 4 values\r\n",
    "\r\n",
    "So calculation is 2/4 = 0.5"
   ],
   "metadata": {}
  },
  {
   "cell_type": "code",
   "execution_count": 2,
   "source": [
    "# Another example\r\n",
    "\r\n",
    "# Prediction\r\n",
    "your_answer = [100, 81, 50, 88, 44, 66, 23]\r\n",
    "\r\n",
    "# Actual \r\n",
    "actual_answer = [99, 81, 50, 88, 42, 66, 23]\r\n",
    "\r\n",
    "# Accuracy\r\n",
    "accuracy_score(your_answer, actual_answer)"
   ],
   "outputs": [
    {
     "output_type": "execute_result",
     "data": {
      "text/plain": [
       "0.7142857142857143"
      ]
     },
     "metadata": {},
     "execution_count": 2
    }
   ],
   "metadata": {}
  },
  {
   "cell_type": "markdown",
   "source": [
    "Match Value: 5\r\n",
    "\r\n",
    "Total Value: 7"
   ],
   "metadata": {}
  },
  {
   "cell_type": "code",
   "execution_count": 3,
   "source": [
    "5 / 7"
   ],
   "outputs": [
    {
     "output_type": "execute_result",
     "data": {
      "text/plain": [
       "0.7142857142857143"
      ]
     },
     "metadata": {},
     "execution_count": 3
    }
   ],
   "metadata": {}
  },
  {
   "cell_type": "markdown",
   "source": [
    "Got it?"
   ],
   "metadata": {}
  },
  {
   "cell_type": "markdown",
   "source": [
    "## Formulas"
   ],
   "metadata": {}
  },
  {
   "cell_type": "markdown",
   "source": [
    "![accuracy](accuracy.png)"
   ],
   "metadata": {}
  },
  {
   "cell_type": "markdown",
   "source": [
    "## Thanks"
   ],
   "metadata": {}
  }
 ],
 "metadata": {
  "orig_nbformat": 4,
  "language_info": {
   "name": "python",
   "version": "3.9.0",
   "mimetype": "text/x-python",
   "codemirror_mode": {
    "name": "ipython",
    "version": 3
   },
   "pygments_lexer": "ipython3",
   "nbconvert_exporter": "python",
   "file_extension": ".py"
  },
  "kernelspec": {
   "name": "python3",
   "display_name": "Python 3.9.0 64-bit"
  },
  "interpreter": {
   "hash": "06cb67651ce969e244f20f184e33f4ddb1106793adfe07cf7ddc131c95c4012f"
  }
 },
 "nbformat": 4,
 "nbformat_minor": 2
}