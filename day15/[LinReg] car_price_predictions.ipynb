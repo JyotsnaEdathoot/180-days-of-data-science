{
 "metadata": {
  "language_info": {
   "codemirror_mode": {
    "name": "ipython",
    "version": 3
   },
   "file_extension": ".py",
   "mimetype": "text/x-python",
   "name": "python",
   "nbconvert_exporter": "python",
   "pygments_lexer": "ipython3",
   "version": "3.9.0"
  },
  "orig_nbformat": 4,
  "kernelspec": {
   "name": "python3",
   "display_name": "Python 3.9.0 64-bit"
  },
  "interpreter": {
   "hash": "06cb67651ce969e244f20f184e33f4ddb1106793adfe07cf7ddc131c95c4012f"
  }
 },
 "nbformat": 4,
 "nbformat_minor": 2,
 "cells": [
  {
   "source": [
    "# Build Model Deployment For Car Price Predictions\n",
    "\n",
    "url = [link](https://youtu.be/iRCaMnR_bpA)"
   ],
   "cell_type": "markdown",
   "metadata": {}
  },
  {
   "cell_type": "code",
   "execution_count": 1,
   "metadata": {},
   "outputs": [],
   "source": [
    "import pandas as pd\n",
    "import numpy as np"
   ]
  },
  {
   "cell_type": "code",
   "execution_count": 2,
   "metadata": {},
   "outputs": [],
   "source": [
    "url = \"https://raw.githubusercontent.com/rajtilakls2510/car_price_predictor/master/quikr_car.csv\"\n",
    "\n",
    "df = pd.read_csv(url)"
   ]
  },
  {
   "cell_type": "code",
   "execution_count": 3,
   "metadata": {},
   "outputs": [
    {
     "output_type": "execute_result",
     "data": {
      "text/plain": [
       "                                     name   company  year          Price  \\\n",
       "0    Hyundai Santro Xing XO eRLX Euro III   Hyundai  2007         80,000   \n",
       "1                 Mahindra Jeep CL550 MDI  Mahindra  2006       4,25,000   \n",
       "2              Maruti Suzuki Alto 800 Vxi    Maruti  2018  Ask For Price   \n",
       "3  Hyundai Grand i10 Magna 1.2 Kappa VTVT   Hyundai  2014       3,25,000   \n",
       "4        Ford EcoSport Titanium 1.5L TDCi      Ford  2014       5,75,000   \n",
       "\n",
       "   kms_driven fuel_type  \n",
       "0  45,000 kms    Petrol  \n",
       "1      40 kms    Diesel  \n",
       "2  22,000 kms    Petrol  \n",
       "3  28,000 kms    Petrol  \n",
       "4  36,000 kms    Diesel  "
      ],
      "text/html": "<div>\n<style scoped>\n    .dataframe tbody tr th:only-of-type {\n        vertical-align: middle;\n    }\n\n    .dataframe tbody tr th {\n        vertical-align: top;\n    }\n\n    .dataframe thead th {\n        text-align: right;\n    }\n</style>\n<table border=\"1\" class=\"dataframe\">\n  <thead>\n    <tr style=\"text-align: right;\">\n      <th></th>\n      <th>name</th>\n      <th>company</th>\n      <th>year</th>\n      <th>Price</th>\n      <th>kms_driven</th>\n      <th>fuel_type</th>\n    </tr>\n  </thead>\n  <tbody>\n    <tr>\n      <th>0</th>\n      <td>Hyundai Santro Xing XO eRLX Euro III</td>\n      <td>Hyundai</td>\n      <td>2007</td>\n      <td>80,000</td>\n      <td>45,000 kms</td>\n      <td>Petrol</td>\n    </tr>\n    <tr>\n      <th>1</th>\n      <td>Mahindra Jeep CL550 MDI</td>\n      <td>Mahindra</td>\n      <td>2006</td>\n      <td>4,25,000</td>\n      <td>40 kms</td>\n      <td>Diesel</td>\n    </tr>\n    <tr>\n      <th>2</th>\n      <td>Maruti Suzuki Alto 800 Vxi</td>\n      <td>Maruti</td>\n      <td>2018</td>\n      <td>Ask For Price</td>\n      <td>22,000 kms</td>\n      <td>Petrol</td>\n    </tr>\n    <tr>\n      <th>3</th>\n      <td>Hyundai Grand i10 Magna 1.2 Kappa VTVT</td>\n      <td>Hyundai</td>\n      <td>2014</td>\n      <td>3,25,000</td>\n      <td>28,000 kms</td>\n      <td>Petrol</td>\n    </tr>\n    <tr>\n      <th>4</th>\n      <td>Ford EcoSport Titanium 1.5L TDCi</td>\n      <td>Ford</td>\n      <td>2014</td>\n      <td>5,75,000</td>\n      <td>36,000 kms</td>\n      <td>Diesel</td>\n    </tr>\n  </tbody>\n</table>\n</div>"
     },
     "metadata": {},
     "execution_count": 3
    }
   ],
   "source": [
    "df.head()"
   ]
  },
  {
   "cell_type": "code",
   "execution_count": 4,
   "metadata": {},
   "outputs": [
    {
     "output_type": "stream",
     "name": "stdout",
     "text": [
      "<class 'pandas.core.frame.DataFrame'>\nRangeIndex: 892 entries, 0 to 891\nData columns (total 6 columns):\n #   Column      Non-Null Count  Dtype \n---  ------      --------------  ----- \n 0   name        892 non-null    object\n 1   company     892 non-null    object\n 2   year        892 non-null    object\n 3   Price       892 non-null    object\n 4   kms_driven  840 non-null    object\n 5   fuel_type   837 non-null    object\ndtypes: object(6)\nmemory usage: 41.9+ KB\n"
     ]
    }
   ],
   "source": [
    "df.info()"
   ]
  },
  {
   "cell_type": "code",
   "execution_count": 5,
   "metadata": {},
   "outputs": [
    {
     "output_type": "execute_result",
     "data": {
      "text/plain": [
       "(892, 6)"
      ]
     },
     "metadata": {},
     "execution_count": 5
    }
   ],
   "source": [
    "df.shape"
   ]
  },
  {
   "cell_type": "code",
   "execution_count": 6,
   "metadata": {},
   "outputs": [
    {
     "output_type": "execute_result",
     "data": {
      "text/plain": [
       "name           0\n",
       "company        0\n",
       "year           0\n",
       "Price          0\n",
       "kms_driven    52\n",
       "fuel_type     55\n",
       "dtype: int64"
      ]
     },
     "metadata": {},
     "execution_count": 6
    }
   ],
   "source": [
    "df.isna().sum()"
   ]
  },
  {
   "cell_type": "code",
   "execution_count": 7,
   "metadata": {},
   "outputs": [
    {
     "output_type": "execute_result",
     "data": {
      "text/plain": [
       "array(['2007', '2006', '2018', '2014', '2015', '2012', '2013', '2016',\n",
       "       '2010', '2017', '2008', '2011', '2019', '2009', '2005', '2000',\n",
       "       '...', '150k', 'TOUR', '2003', 'r 15', '2004', 'Zest', '/-Rs',\n",
       "       'sale', '1995', 'ara)', '2002', 'SELL', '2001', 'tion', 'odel',\n",
       "       '2 bs', 'arry', 'Eon', 'o...', 'ture', 'emi', 'car', 'able', 'no.',\n",
       "       'd...', 'SALE', 'digo', 'sell', 'd Ex', 'n...', 'e...', 'D...',\n",
       "       ', Ac', 'go .', 'k...', 'o c4', 'zire', 'cent', 'Sumo', 'cab',\n",
       "       't xe', 'EV2', 'r...', 'zest'], dtype=object)"
      ]
     },
     "metadata": {},
     "execution_count": 7
    }
   ],
   "source": [
    "df['year'].unique()"
   ]
  },
  {
   "source": [
    "As we can see above, that years has more than integer value so it need converted into integer"
   ],
   "cell_type": "markdown",
   "metadata": {}
  },
  {
   "cell_type": "code",
   "execution_count": 8,
   "metadata": {},
   "outputs": [
    {
     "output_type": "execute_result",
     "data": {
      "text/plain": [
       "array(['80,000', '4,25,000', 'Ask For Price', '3,25,000', '5,75,000',\n",
       "       '1,75,000', '1,90,000', '8,30,000', '2,50,000', '1,82,000',\n",
       "       '3,15,000', '4,15,000', '3,20,000', '10,00,000', '5,00,000',\n",
       "       '3,50,000', '1,60,000', '3,10,000', '75,000', '1,00,000',\n",
       "       '2,90,000', '95,000', '1,80,000', '3,85,000', '1,05,000',\n",
       "       '6,50,000', '6,89,999', '4,48,000', '5,49,000', '5,01,000',\n",
       "       '4,89,999', '2,80,000', '3,49,999', '2,84,999', '3,45,000',\n",
       "       '4,99,999', '2,35,000', '2,49,999', '14,75,000', '3,95,000',\n",
       "       '2,20,000', '1,70,000', '85,000', '2,00,000', '5,70,000',\n",
       "       '1,10,000', '4,48,999', '18,91,111', '1,59,500', '3,44,999',\n",
       "       '4,49,999', '8,65,000', '6,99,000', '3,75,000', '2,24,999',\n",
       "       '12,00,000', '1,95,000', '3,51,000', '2,40,000', '90,000',\n",
       "       '1,55,000', '6,00,000', '1,89,500', '2,10,000', '3,90,000',\n",
       "       '1,35,000', '16,00,000', '7,01,000', '2,65,000', '5,25,000',\n",
       "       '3,72,000', '6,35,000', '5,50,000', '4,85,000', '3,29,500',\n",
       "       '2,51,111', '5,69,999', '69,999', '2,99,999', '3,99,999',\n",
       "       '4,50,000', '2,70,000', '1,58,400', '1,79,000', '1,25,000',\n",
       "       '2,99,000', '1,50,000', '2,75,000', '2,85,000', '3,40,000',\n",
       "       '70,000', '2,89,999', '8,49,999', '7,49,999', '2,74,999',\n",
       "       '9,84,999', '5,99,999', '2,44,999', '4,74,999', '2,45,000',\n",
       "       '1,69,500', '3,70,000', '1,68,000', '1,45,000', '98,500',\n",
       "       '2,09,000', '1,85,000', '9,00,000', '6,99,999', '1,99,999',\n",
       "       '5,44,999', '1,99,000', '5,40,000', '49,000', '7,00,000', '55,000',\n",
       "       '8,95,000', '3,55,000', '5,65,000', '3,65,000', '40,000',\n",
       "       '4,00,000', '3,30,000', '5,80,000', '3,79,000', '2,19,000',\n",
       "       '5,19,000', '7,30,000', '20,00,000', '21,00,000', '14,00,000',\n",
       "       '3,11,000', '8,55,000', '5,35,000', '1,78,000', '3,00,000',\n",
       "       '2,55,000', '5,49,999', '3,80,000', '57,000', '4,10,000',\n",
       "       '2,25,000', '1,20,000', '59,000', '5,99,000', '6,75,000', '72,500',\n",
       "       '6,10,000', '2,30,000', '5,20,000', '5,24,999', '4,24,999',\n",
       "       '6,44,999', '5,84,999', '7,99,999', '4,44,999', '6,49,999',\n",
       "       '9,44,999', '5,74,999', '3,74,999', '1,30,000', '4,01,000',\n",
       "       '13,50,000', '1,74,999', '2,39,999', '99,999', '3,24,999',\n",
       "       '10,74,999', '11,30,000', '1,49,000', '7,70,000', '30,000',\n",
       "       '3,35,000', '3,99,000', '65,000', '1,69,999', '1,65,000',\n",
       "       '5,60,000', '9,50,000', '7,15,000', '45,000', '9,40,000',\n",
       "       '1,55,555', '15,00,000', '4,95,000', '8,00,000', '12,99,000',\n",
       "       '5,30,000', '14,99,000', '32,000', '4,05,000', '7,60,000',\n",
       "       '7,50,000', '4,19,000', '1,40,000', '15,40,000', '1,23,000',\n",
       "       '4,98,000', '4,80,000', '4,88,000', '15,25,000', '5,48,900',\n",
       "       '7,25,000', '99,000', '52,000', '28,00,000', '4,99,000',\n",
       "       '3,81,000', '2,78,000', '6,90,000', '2,60,000', '90,001',\n",
       "       '1,15,000', '15,99,000', '1,59,000', '51,999', '2,15,000',\n",
       "       '35,000', '11,50,000', '2,69,000', '60,000', '4,30,000',\n",
       "       '85,00,003', '4,01,919', '4,90,000', '4,24,000', '2,05,000',\n",
       "       '5,49,900', '3,71,500', '4,35,000', '1,89,700', '3,89,700',\n",
       "       '3,60,000', '2,95,000', '1,14,990', '10,65,000', '4,70,000',\n",
       "       '48,000', '1,88,000', '4,65,000', '1,79,999', '21,90,000',\n",
       "       '23,90,000', '10,75,000', '4,75,000', '10,25,000', '6,15,000',\n",
       "       '19,00,000', '14,90,000', '15,10,000', '18,50,000', '7,90,000',\n",
       "       '17,25,000', '12,25,000', '68,000', '9,70,000', '31,00,000',\n",
       "       '8,99,000', '88,000', '53,000', '5,68,500', '71,000', '5,90,000',\n",
       "       '7,95,000', '42,000', '1,89,000', '1,62,000', '35,999',\n",
       "       '29,00,000', '39,999', '50,500', '5,10,000', '8,60,000',\n",
       "       '5,00,001'], dtype=object)"
      ]
     },
     "metadata": {},
     "execution_count": 8
    }
   ],
   "source": [
    "df['Price'].unique()"
   ]
  },
  {
   "source": [
    "In price we sometimes seeing the string value like *Ask For Price*\n",
    "\n",
    "Also in price it separated with 'commas' so it need to be proceded\n",
    "\n",
    "For my challenge I want to change it into Rupiah"
   ],
   "cell_type": "markdown",
   "metadata": {}
  },
  {
   "cell_type": "code",
   "execution_count": 9,
   "metadata": {},
   "outputs": [
    {
     "output_type": "execute_result",
     "data": {
      "text/plain": [
       "array(['45,000 kms', '40 kms', '22,000 kms', '28,000 kms', '36,000 kms',\n",
       "       '59,000 kms', '41,000 kms', '25,000 kms', '24,530 kms',\n",
       "       '60,000 kms', '30,000 kms', '32,000 kms', '48,660 kms',\n",
       "       '4,000 kms', '16,934 kms', '43,000 kms', '35,550 kms',\n",
       "       '39,522 kms', '39,000 kms', '55,000 kms', '72,000 kms',\n",
       "       '15,975 kms', '70,000 kms', '23,452 kms', '35,522 kms',\n",
       "       '48,508 kms', '15,487 kms', '82,000 kms', '20,000 kms',\n",
       "       '68,000 kms', '38,000 kms', '27,000 kms', '33,000 kms',\n",
       "       '46,000 kms', '16,000 kms', '47,000 kms', '35,000 kms',\n",
       "       '30,874 kms', '15,000 kms', '29,685 kms', '1,30,000 kms',\n",
       "       '19,000 kms', nan, '54,000 kms', '13,000 kms', '38,200 kms',\n",
       "       '50,000 kms', '13,500 kms', '3,600 kms', '45,863 kms',\n",
       "       '60,500 kms', '12,500 kms', '18,000 kms', '13,349 kms',\n",
       "       '29,000 kms', '44,000 kms', '42,000 kms', '14,000 kms',\n",
       "       '49,000 kms', '36,200 kms', '51,000 kms', '1,04,000 kms',\n",
       "       '33,333 kms', '33,600 kms', '5,600 kms', '7,500 kms', '26,000 kms',\n",
       "       '24,330 kms', '65,480 kms', '28,028 kms', '2,00,000 kms',\n",
       "       '99,000 kms', '2,800 kms', '21,000 kms', '11,000 kms',\n",
       "       '66,000 kms', '3,000 kms', '7,000 kms', '38,500 kms', '37,200 kms',\n",
       "       '43,200 kms', '24,800 kms', '45,872 kms', '40,000 kms',\n",
       "       '11,400 kms', '97,200 kms', '52,000 kms', '31,000 kms',\n",
       "       '1,75,430 kms', '37,000 kms', '65,000 kms', '3,350 kms',\n",
       "       '75,000 kms', '62,000 kms', '73,000 kms', '2,200 kms',\n",
       "       '54,870 kms', '34,580 kms', '97,000 kms', '60 kms', '80,200 kms',\n",
       "       '3,200 kms', '0,000 kms', '5,000 kms', '588 kms', '71,200 kms',\n",
       "       '1,75,400 kms', '9,300 kms', '56,758 kms', '10,000 kms',\n",
       "       '56,450 kms', '56,000 kms', '32,700 kms', '9,000 kms', '73 kms',\n",
       "       '1,60,000 kms', '84,000 kms', '58,559 kms', '57,000 kms',\n",
       "       '1,70,000 kms', '80,000 kms', '6,821 kms', '23,000 kms',\n",
       "       '34,000 kms', '1,800 kms', '4,00,000 kms', '48,000 kms',\n",
       "       '90,000 kms', '12,000 kms', '69,900 kms', '1,66,000 kms',\n",
       "       '122 kms', '0 kms', '24,000 kms', '36,469 kms', '7,800 kms',\n",
       "       '24,695 kms', '15,141 kms', '59,910 kms', '1,00,000 kms',\n",
       "       '4,500 kms', '1,29,000 kms', '300 kms', '1,31,000 kms',\n",
       "       '1,11,111 kms', '59,466 kms', '25,500 kms', '44,005 kms',\n",
       "       '2,110 kms', '43,222 kms', '1,00,200 kms', '65 kms',\n",
       "       '1,40,000 kms', '1,03,553 kms', '58,000 kms', '1,20,000 kms',\n",
       "       '49,800 kms', '100 kms', '81,876 kms', '6,020 kms', '55,700 kms',\n",
       "       '18,500 kms', '1,80,000 kms', '53,000 kms', '35,500 kms',\n",
       "       '22,134 kms', '1,000 kms', '8,500 kms', '87,000 kms', '6,000 kms',\n",
       "       '15,574 kms', '8,000 kms', '55,800 kms', '56,400 kms',\n",
       "       '72,160 kms', '11,500 kms', '1,33,000 kms', '2,000 kms',\n",
       "       '88,000 kms', '65,422 kms', '1,17,000 kms', '1,50,000 kms',\n",
       "       '10,750 kms', '6,800 kms', '5 kms', '9,800 kms', '57,923 kms',\n",
       "       '30,201 kms', '6,200 kms', '37,518 kms', '24,652 kms', '383 kms',\n",
       "       '95,000 kms', '3,528 kms', '52,500 kms', '47,900 kms',\n",
       "       '52,800 kms', '1,95,000 kms', '48,008 kms', '48,247 kms',\n",
       "       '9,400 kms', '64,000 kms', '2,137 kms', '10,544 kms', '49,500 kms',\n",
       "       '1,47,000 kms', '90,001 kms', '48,006 kms', '74,000 kms',\n",
       "       '85,000 kms', '29,500 kms', '39,700 kms', '67,000 kms',\n",
       "       '19,336 kms', '60,105 kms', '45,933 kms', '1,02,563 kms',\n",
       "       '28,600 kms', '41,800 kms', '1,16,000 kms', '42,590 kms',\n",
       "       '7,400 kms', '54,500 kms', '76,000 kms', '00 kms', '11,523 kms',\n",
       "       '38,600 kms', '95,500 kms', '37,458 kms', '85,960 kms',\n",
       "       '12,516 kms', '30,600 kms', '2,550 kms', '62,500 kms',\n",
       "       '69,000 kms', '28,400 kms', '68,485 kms', '3,500 kms',\n",
       "       '85,455 kms', '63,000 kms', '1,600 kms', '77,000 kms',\n",
       "       '26,500 kms', '2,875 kms', '13,900 kms', '1,500 kms', '2,450 kms',\n",
       "       '1,625 kms', '33,400 kms', '60,123 kms', '38,900 kms',\n",
       "       '1,37,495 kms', '91,200 kms', '1,46,000 kms', '1,00,800 kms',\n",
       "       '2,100 kms', '2,500 kms', '1,32,000 kms', 'Petrol'], dtype=object)"
      ]
     },
     "metadata": {},
     "execution_count": 9
    }
   ],
   "source": [
    "df['kms_driven'].unique()"
   ]
  },
  {
   "source": [
    "In kms driven we can see commas and 'kms' string, and also there is some nan values"
   ],
   "cell_type": "markdown",
   "metadata": {}
  },
  {
   "cell_type": "code",
   "execution_count": 10,
   "metadata": {},
   "outputs": [
    {
     "output_type": "execute_result",
     "data": {
      "text/plain": [
       "array(['Petrol', 'Diesel', nan, 'LPG'], dtype=object)"
      ]
     },
     "metadata": {},
     "execution_count": 10
    }
   ],
   "source": [
    "df['fuel_type'].unique()"
   ]
  },
  {
   "source": [
    "There is 'nan' value in fuel_type so it need to be converted"
   ],
   "cell_type": "markdown",
   "metadata": {}
  },
  {
   "cell_type": "code",
   "execution_count": 11,
   "metadata": {},
   "outputs": [
    {
     "output_type": "execute_result",
     "data": {
      "text/plain": [
       "                                     name   company  year          Price  \\\n",
       "0    Hyundai Santro Xing XO eRLX Euro III   Hyundai  2007         80,000   \n",
       "1                 Mahindra Jeep CL550 MDI  Mahindra  2006       4,25,000   \n",
       "2              Maruti Suzuki Alto 800 Vxi    Maruti  2018  Ask For Price   \n",
       "3  Hyundai Grand i10 Magna 1.2 Kappa VTVT   Hyundai  2014       3,25,000   \n",
       "4        Ford EcoSport Titanium 1.5L TDCi      Ford  2014       5,75,000   \n",
       "\n",
       "   kms_driven fuel_type  \n",
       "0  45,000 kms    Petrol  \n",
       "1      40 kms    Diesel  \n",
       "2  22,000 kms    Petrol  \n",
       "3  28,000 kms    Petrol  \n",
       "4  36,000 kms    Diesel  "
      ],
      "text/html": "<div>\n<style scoped>\n    .dataframe tbody tr th:only-of-type {\n        vertical-align: middle;\n    }\n\n    .dataframe tbody tr th {\n        vertical-align: top;\n    }\n\n    .dataframe thead th {\n        text-align: right;\n    }\n</style>\n<table border=\"1\" class=\"dataframe\">\n  <thead>\n    <tr style=\"text-align: right;\">\n      <th></th>\n      <th>name</th>\n      <th>company</th>\n      <th>year</th>\n      <th>Price</th>\n      <th>kms_driven</th>\n      <th>fuel_type</th>\n    </tr>\n  </thead>\n  <tbody>\n    <tr>\n      <th>0</th>\n      <td>Hyundai Santro Xing XO eRLX Euro III</td>\n      <td>Hyundai</td>\n      <td>2007</td>\n      <td>80,000</td>\n      <td>45,000 kms</td>\n      <td>Petrol</td>\n    </tr>\n    <tr>\n      <th>1</th>\n      <td>Mahindra Jeep CL550 MDI</td>\n      <td>Mahindra</td>\n      <td>2006</td>\n      <td>4,25,000</td>\n      <td>40 kms</td>\n      <td>Diesel</td>\n    </tr>\n    <tr>\n      <th>2</th>\n      <td>Maruti Suzuki Alto 800 Vxi</td>\n      <td>Maruti</td>\n      <td>2018</td>\n      <td>Ask For Price</td>\n      <td>22,000 kms</td>\n      <td>Petrol</td>\n    </tr>\n    <tr>\n      <th>3</th>\n      <td>Hyundai Grand i10 Magna 1.2 Kappa VTVT</td>\n      <td>Hyundai</td>\n      <td>2014</td>\n      <td>3,25,000</td>\n      <td>28,000 kms</td>\n      <td>Petrol</td>\n    </tr>\n    <tr>\n      <th>4</th>\n      <td>Ford EcoSport Titanium 1.5L TDCi</td>\n      <td>Ford</td>\n      <td>2014</td>\n      <td>5,75,000</td>\n      <td>36,000 kms</td>\n      <td>Diesel</td>\n    </tr>\n  </tbody>\n</table>\n</div>"
     },
     "metadata": {},
     "execution_count": 11
    }
   ],
   "source": [
    "df.head()"
   ]
  },
  {
   "source": [
    "We can see that names of car is too long, and somehow it useless, \n",
    "\n",
    "So it will be converted, let's check the length of the name"
   ],
   "cell_type": "markdown",
   "metadata": {}
  },
  {
   "cell_type": "code",
   "execution_count": 12,
   "metadata": {
    "tags": []
   },
   "outputs": [
    {
     "output_type": "execute_result",
     "data": {
      "text/plain": [
       "{1, 2, 3, 4, 5, 6, 7, 8, 9}"
      ]
     },
     "metadata": {},
     "execution_count": 12
    }
   ],
   "source": [
    "length_count = []\n",
    "\n",
    "for x in df['name']:\n",
    "    length_count.append(len(x.split()))\n",
    "\n",
    "set(length_count)"
   ]
  },
  {
   "source": [
    "There are 9 uniques values, it mean the maximum word is 9 and the minimum is 1"
   ],
   "cell_type": "markdown",
   "metadata": {}
  },
  {
   "cell_type": "code",
   "execution_count": 13,
   "metadata": {},
   "outputs": [],
   "source": [
    "import collections"
   ]
  },
  {
   "cell_type": "code",
   "execution_count": 14,
   "metadata": {},
   "outputs": [],
   "source": [
    "counter = collections.Counter(length_count)"
   ]
  },
  {
   "cell_type": "code",
   "execution_count": 15,
   "metadata": {},
   "outputs": [
    {
     "output_type": "execute_result",
     "data": {
      "text/plain": [
       "   Value  Occurence\n",
       "8      1          7\n",
       "3      2        101\n",
       "5      3        130\n",
       "1      4        195\n",
       "2      5        212\n",
       "4      6        121\n",
       "0      7         86\n",
       "6      8         37\n",
       "7      9          3"
      ],
      "text/html": "<div>\n<style scoped>\n    .dataframe tbody tr th:only-of-type {\n        vertical-align: middle;\n    }\n\n    .dataframe tbody tr th {\n        vertical-align: top;\n    }\n\n    .dataframe thead th {\n        text-align: right;\n    }\n</style>\n<table border=\"1\" class=\"dataframe\">\n  <thead>\n    <tr style=\"text-align: right;\">\n      <th></th>\n      <th>Value</th>\n      <th>Occurence</th>\n    </tr>\n  </thead>\n  <tbody>\n    <tr>\n      <th>8</th>\n      <td>1</td>\n      <td>7</td>\n    </tr>\n    <tr>\n      <th>3</th>\n      <td>2</td>\n      <td>101</td>\n    </tr>\n    <tr>\n      <th>5</th>\n      <td>3</td>\n      <td>130</td>\n    </tr>\n    <tr>\n      <th>1</th>\n      <td>4</td>\n      <td>195</td>\n    </tr>\n    <tr>\n      <th>2</th>\n      <td>5</td>\n      <td>212</td>\n    </tr>\n    <tr>\n      <th>4</th>\n      <td>6</td>\n      <td>121</td>\n    </tr>\n    <tr>\n      <th>0</th>\n      <td>7</td>\n      <td>86</td>\n    </tr>\n    <tr>\n      <th>6</th>\n      <td>8</td>\n      <td>37</td>\n    </tr>\n    <tr>\n      <th>7</th>\n      <td>9</td>\n      <td>3</td>\n    </tr>\n  </tbody>\n</table>\n</div>"
     },
     "metadata": {},
     "execution_count": 15
    }
   ],
   "source": [
    "# df_counter = pd.DataFrame(counter.items(), columns=['Value', 'Occurence'])\n",
    "df_counter = pd.DataFrame({'Value': counter.keys(), 'Occurence': counter.values()})\n",
    "df_counter.sort_values(by=['Value'])"
   ]
  },
  {
   "source": [
    "As you can see I will use three, because there are about 200+ data have names with length three"
   ],
   "cell_type": "markdown",
   "metadata": {}
  },
  {
   "source": [
    "## Cleaning dataset"
   ],
   "cell_type": "markdown",
   "metadata": {}
  },
  {
   "cell_type": "code",
   "execution_count": 16,
   "metadata": {},
   "outputs": [],
   "source": [
    "df_backup = df.copy()"
   ]
  },
  {
   "source": [
    "### Year Cleansing"
   ],
   "cell_type": "markdown",
   "metadata": {}
  },
  {
   "cell_type": "code",
   "execution_count": 17,
   "metadata": {},
   "outputs": [
    {
     "output_type": "execute_result",
     "data": {
      "text/plain": [
       "0      2007\n",
       "1      2006\n",
       "2      2018\n",
       "3      2014\n",
       "4      2014\n",
       "       ... \n",
       "887    zest\n",
       "888    2018\n",
       "889    2013\n",
       "890    2014\n",
       "891    2014\n",
       "Name: year, Length: 892, dtype: object"
      ]
     },
     "metadata": {},
     "execution_count": 17
    }
   ],
   "source": [
    "df['year']"
   ]
  },
  {
   "cell_type": "code",
   "execution_count": 18,
   "metadata": {},
   "outputs": [
    {
     "output_type": "execute_result",
     "data": {
      "text/plain": [
       "0       True\n",
       "1       True\n",
       "2       True\n",
       "3       True\n",
       "4       True\n",
       "       ...  \n",
       "887    False\n",
       "888     True\n",
       "889     True\n",
       "890     True\n",
       "891     True\n",
       "Name: year, Length: 892, dtype: bool"
      ]
     },
     "metadata": {},
     "execution_count": 18
    }
   ],
   "source": [
    "df['year'].str.isnumeric()"
   ]
  },
  {
   "cell_type": "code",
   "execution_count": 19,
   "metadata": {},
   "outputs": [],
   "source": [
    "df = df[df['year'].str.isnumeric()]"
   ]
  },
  {
   "cell_type": "code",
   "execution_count": 20,
   "metadata": {},
   "outputs": [
    {
     "output_type": "execute_result",
     "data": {
      "text/plain": [
       "0      2007\n",
       "1      2006\n",
       "2      2018\n",
       "3      2014\n",
       "4      2014\n",
       "       ... \n",
       "886    2009\n",
       "888    2018\n",
       "889    2013\n",
       "890    2014\n",
       "891    2014\n",
       "Name: year, Length: 842, dtype: object"
      ]
     },
     "metadata": {},
     "execution_count": 20
    }
   ],
   "source": [
    "df['year']"
   ]
  },
  {
   "cell_type": "code",
   "execution_count": 21,
   "metadata": {},
   "outputs": [],
   "source": [
    "# Turn into integer\n",
    "\n",
    "df['year'] = df['year'].astype(int)"
   ]
  },
  {
   "cell_type": "code",
   "execution_count": 22,
   "metadata": {},
   "outputs": [
    {
     "output_type": "stream",
     "name": "stdout",
     "text": [
      "<class 'pandas.core.frame.DataFrame'>\nInt64Index: 842 entries, 0 to 891\nData columns (total 6 columns):\n #   Column      Non-Null Count  Dtype \n---  ------      --------------  ----- \n 0   name        842 non-null    object\n 1   company     842 non-null    object\n 2   year        842 non-null    int32 \n 3   Price       842 non-null    object\n 4   kms_driven  840 non-null    object\n 5   fuel_type   837 non-null    object\ndtypes: int32(1), object(5)\nmemory usage: 42.8+ KB\n"
     ]
    }
   ],
   "source": [
    "df.info()"
   ]
  },
  {
   "source": [
    "### Price Cleansing"
   ],
   "cell_type": "markdown",
   "metadata": {}
  },
  {
   "cell_type": "code",
   "execution_count": 23,
   "metadata": {},
   "outputs": [
    {
     "output_type": "execute_result",
     "data": {
      "text/plain": [
       "array(['80,000', '4,25,000', 'Ask For Price', '3,25,000', '5,75,000',\n",
       "       '1,75,000', '1,90,000', '8,30,000', '2,50,000', '1,82,000',\n",
       "       '3,15,000', '4,15,000', '3,20,000', '10,00,000', '5,00,000',\n",
       "       '3,50,000', '1,60,000', '3,10,000', '75,000', '1,00,000',\n",
       "       '2,90,000', '95,000', '1,80,000', '3,85,000', '1,05,000',\n",
       "       '6,50,000', '6,89,999', '4,48,000', '5,49,000', '5,01,000',\n",
       "       '4,89,999', '2,80,000', '3,49,999', '2,84,999', '3,45,000',\n",
       "       '4,99,999', '2,35,000', '2,49,999', '14,75,000', '3,95,000',\n",
       "       '2,20,000', '1,70,000', '85,000', '2,00,000', '5,70,000',\n",
       "       '1,10,000', '4,48,999', '18,91,111', '1,59,500', '3,44,999',\n",
       "       '4,49,999', '8,65,000', '6,99,000', '3,75,000', '2,24,999',\n",
       "       '12,00,000', '1,95,000', '3,51,000', '2,40,000', '90,000',\n",
       "       '1,55,000', '6,00,000', '1,89,500', '2,10,000', '3,90,000',\n",
       "       '1,35,000', '16,00,000', '7,01,000', '2,65,000', '5,25,000',\n",
       "       '3,72,000', '6,35,000', '5,50,000', '4,85,000', '3,29,500',\n",
       "       '2,51,111', '5,69,999', '69,999', '2,99,999', '3,99,999',\n",
       "       '4,50,000', '2,70,000', '1,58,400', '1,79,000', '1,25,000',\n",
       "       '2,99,000', '1,50,000', '2,75,000', '2,85,000', '3,40,000',\n",
       "       '70,000', '2,89,999', '8,49,999', '7,49,999', '2,74,999',\n",
       "       '9,84,999', '5,99,999', '2,44,999', '4,74,999', '2,45,000',\n",
       "       '1,69,500', '3,70,000', '1,68,000', '1,45,000', '98,500',\n",
       "       '2,09,000', '1,85,000', '9,00,000', '6,99,999', '1,99,999',\n",
       "       '5,44,999', '1,99,000', '5,40,000', '49,000', '7,00,000', '55,000',\n",
       "       '8,95,000', '3,55,000', '5,65,000', '3,65,000', '40,000',\n",
       "       '4,00,000', '3,30,000', '5,80,000', '3,79,000', '2,19,000',\n",
       "       '5,19,000', '7,30,000', '20,00,000', '21,00,000', '14,00,000',\n",
       "       '3,11,000', '8,55,000', '5,35,000', '1,78,000', '3,00,000',\n",
       "       '2,55,000', '5,49,999', '3,80,000', '57,000', '4,10,000',\n",
       "       '2,25,000', '1,20,000', '59,000', '5,99,000', '6,75,000', '72,500',\n",
       "       '6,10,000', '2,30,000', '5,20,000', '5,24,999', '4,24,999',\n",
       "       '6,44,999', '5,84,999', '7,99,999', '4,44,999', '6,49,999',\n",
       "       '9,44,999', '5,74,999', '3,74,999', '1,30,000', '4,01,000',\n",
       "       '13,50,000', '1,74,999', '2,39,999', '99,999', '3,24,999',\n",
       "       '10,74,999', '11,30,000', '1,49,000', '7,70,000', '30,000',\n",
       "       '3,35,000', '3,99,000', '65,000', '1,69,999', '1,65,000',\n",
       "       '5,60,000', '9,50,000', '7,15,000', '45,000', '9,40,000',\n",
       "       '1,55,555', '15,00,000', '4,95,000', '8,00,000', '12,99,000',\n",
       "       '5,30,000', '14,99,000', '32,000', '4,05,000', '7,60,000',\n",
       "       '7,50,000', '4,19,000', '1,40,000', '15,40,000', '1,23,000',\n",
       "       '4,98,000', '4,80,000', '4,88,000', '15,25,000', '5,48,900',\n",
       "       '7,25,000', '99,000', '52,000', '28,00,000', '4,99,000',\n",
       "       '3,81,000', '2,78,000', '6,90,000', '2,60,000', '90,001',\n",
       "       '1,15,000', '15,99,000', '1,59,000', '51,999', '2,15,000',\n",
       "       '35,000', '11,50,000', '2,69,000', '60,000', '4,30,000',\n",
       "       '85,00,003', '4,01,919', '4,90,000', '4,24,000', '2,05,000',\n",
       "       '5,49,900', '4,35,000', '1,89,700', '3,89,700', '3,60,000',\n",
       "       '2,95,000', '1,14,990', '10,65,000', '4,70,000', '48,000',\n",
       "       '1,88,000', '4,65,000', '1,79,999', '21,90,000', '23,90,000',\n",
       "       '10,75,000', '4,75,000', '10,25,000', '6,15,000', '19,00,000',\n",
       "       '14,90,000', '15,10,000', '18,50,000', '7,90,000', '17,25,000',\n",
       "       '12,25,000', '68,000', '9,70,000', '31,00,000', '8,99,000',\n",
       "       '88,000', '53,000', '5,68,500', '71,000', '5,90,000', '7,95,000',\n",
       "       '42,000', '1,89,000', '1,62,000', '35,999', '29,00,000', '39,999',\n",
       "       '50,500', '5,10,000', '8,60,000', '5,00,001'], dtype=object)"
      ]
     },
     "metadata": {},
     "execution_count": 23
    }
   ],
   "source": [
    "df['Price'].unique()"
   ]
  },
  {
   "cell_type": "code",
   "execution_count": 24,
   "metadata": {},
   "outputs": [],
   "source": [
    "# Remove 'Ask For Price'\n",
    "\n",
    "df = df[df['Price'] != 'Ask For Price']"
   ]
  },
  {
   "cell_type": "code",
   "execution_count": 25,
   "metadata": {},
   "outputs": [
    {
     "output_type": "execute_result",
     "data": {
      "text/plain": [
       "array(['80,000', '4,25,000', '3,25,000', '5,75,000', '1,75,000',\n",
       "       '1,90,000', '8,30,000', '2,50,000', '1,82,000', '3,15,000',\n",
       "       '4,15,000', '3,20,000', '10,00,000', '5,00,000', '3,50,000',\n",
       "       '1,60,000', '3,10,000', '75,000', '1,00,000', '2,90,000', '95,000',\n",
       "       '1,80,000', '3,85,000', '1,05,000', '6,50,000', '6,89,999',\n",
       "       '4,48,000', '5,49,000', '5,01,000', '4,89,999', '2,80,000',\n",
       "       '3,49,999', '2,84,999', '3,45,000', '4,99,999', '2,35,000',\n",
       "       '2,49,999', '14,75,000', '3,95,000', '2,20,000', '1,70,000',\n",
       "       '85,000', '2,00,000', '5,70,000', '1,10,000', '4,48,999',\n",
       "       '18,91,111', '1,59,500', '3,44,999', '4,49,999', '8,65,000',\n",
       "       '6,99,000', '3,75,000', '2,24,999', '12,00,000', '1,95,000',\n",
       "       '3,51,000', '2,40,000', '90,000', '1,55,000', '6,00,000',\n",
       "       '1,89,500', '2,10,000', '3,90,000', '1,35,000', '16,00,000',\n",
       "       '7,01,000', '2,65,000', '5,25,000', '3,72,000', '6,35,000',\n",
       "       '5,50,000', '4,85,000', '3,29,500', '2,51,111', '5,69,999',\n",
       "       '69,999', '2,99,999', '3,99,999', '4,50,000', '2,70,000',\n",
       "       '1,58,400', '1,79,000', '1,25,000', '2,99,000', '1,50,000',\n",
       "       '2,75,000', '2,85,000', '3,40,000', '70,000', '2,89,999',\n",
       "       '8,49,999', '7,49,999', '2,74,999', '9,84,999', '5,99,999',\n",
       "       '2,44,999', '4,74,999', '2,45,000', '1,69,500', '3,70,000',\n",
       "       '1,68,000', '1,45,000', '98,500', '2,09,000', '1,85,000',\n",
       "       '9,00,000', '6,99,999', '1,99,999', '5,44,999', '1,99,000',\n",
       "       '5,40,000', '49,000', '7,00,000', '55,000', '8,95,000', '3,55,000',\n",
       "       '5,65,000', '3,65,000', '40,000', '4,00,000', '3,30,000',\n",
       "       '5,80,000', '3,79,000', '2,19,000', '5,19,000', '7,30,000',\n",
       "       '20,00,000', '21,00,000', '14,00,000', '3,11,000', '8,55,000',\n",
       "       '5,35,000', '1,78,000', '3,00,000', '2,55,000', '5,49,999',\n",
       "       '3,80,000', '57,000', '4,10,000', '2,25,000', '1,20,000', '59,000',\n",
       "       '5,99,000', '6,75,000', '72,500', '6,10,000', '2,30,000',\n",
       "       '5,20,000', '5,24,999', '4,24,999', '6,44,999', '5,84,999',\n",
       "       '7,99,999', '4,44,999', '6,49,999', '9,44,999', '5,74,999',\n",
       "       '3,74,999', '1,30,000', '4,01,000', '13,50,000', '1,74,999',\n",
       "       '2,39,999', '99,999', '3,24,999', '10,74,999', '11,30,000',\n",
       "       '1,49,000', '7,70,000', '30,000', '3,35,000', '3,99,000', '65,000',\n",
       "       '1,69,999', '1,65,000', '5,60,000', '9,50,000', '7,15,000',\n",
       "       '45,000', '9,40,000', '1,55,555', '15,00,000', '4,95,000',\n",
       "       '8,00,000', '12,99,000', '5,30,000', '14,99,000', '32,000',\n",
       "       '4,05,000', '7,60,000', '7,50,000', '4,19,000', '1,40,000',\n",
       "       '15,40,000', '1,23,000', '4,98,000', '4,80,000', '4,88,000',\n",
       "       '15,25,000', '5,48,900', '7,25,000', '99,000', '52,000',\n",
       "       '28,00,000', '4,99,000', '3,81,000', '2,78,000', '6,90,000',\n",
       "       '2,60,000', '90,001', '1,15,000', '15,99,000', '1,59,000',\n",
       "       '51,999', '2,15,000', '35,000', '11,50,000', '2,69,000', '60,000',\n",
       "       '4,30,000', '85,00,003', '4,01,919', '4,90,000', '4,24,000',\n",
       "       '2,05,000', '5,49,900', '4,35,000', '1,89,700', '3,89,700',\n",
       "       '3,60,000', '2,95,000', '1,14,990', '10,65,000', '4,70,000',\n",
       "       '48,000', '1,88,000', '4,65,000', '1,79,999', '21,90,000',\n",
       "       '23,90,000', '10,75,000', '4,75,000', '10,25,000', '6,15,000',\n",
       "       '19,00,000', '14,90,000', '15,10,000', '18,50,000', '7,90,000',\n",
       "       '17,25,000', '12,25,000', '68,000', '9,70,000', '31,00,000',\n",
       "       '8,99,000', '88,000', '53,000', '5,68,500', '71,000', '5,90,000',\n",
       "       '7,95,000', '42,000', '1,89,000', '1,62,000', '35,999',\n",
       "       '29,00,000', '39,999', '50,500', '5,10,000', '8,60,000',\n",
       "       '5,00,001'], dtype=object)"
      ]
     },
     "metadata": {},
     "execution_count": 25
    }
   ],
   "source": [
    "df['Price'].unique()"
   ]
  },
  {
   "cell_type": "code",
   "execution_count": 26,
   "metadata": {},
   "outputs": [
    {
     "output_type": "execute_result",
     "data": {
      "text/plain": [
       "0      80,000\n",
       "1    4,25,000\n",
       "3    3,25,000\n",
       "4    5,75,000\n",
       "6    1,75,000\n",
       "Name: Price, dtype: object"
      ]
     },
     "metadata": {},
     "execution_count": 26
    }
   ],
   "source": [
    "df['Price'].head()"
   ]
  },
  {
   "cell_type": "code",
   "execution_count": 27,
   "metadata": {},
   "outputs": [],
   "source": [
    "# Remove commas\n",
    "\n",
    "df['Price'] = df['Price'].str.replace(',', '').astype(int)"
   ]
  },
  {
   "cell_type": "code",
   "execution_count": 28,
   "metadata": {},
   "outputs": [],
   "source": [
    "# Turn Rupee into Rupiah\n",
    "# 1 Rupee = 194.23 Rupiah (13/06/2021)\n",
    "\n",
    "df['Price'] = df['Price'] * 194.23"
   ]
  },
  {
   "cell_type": "code",
   "execution_count": 29,
   "metadata": {},
   "outputs": [],
   "source": [
    "df['Price'] = df['Price'].astype(int)"
   ]
  },
  {
   "cell_type": "code",
   "execution_count": 30,
   "metadata": {},
   "outputs": [
    {
     "output_type": "stream",
     "name": "stdout",
     "text": [
      "<class 'pandas.core.frame.DataFrame'>\nInt64Index: 819 entries, 0 to 891\nData columns (total 6 columns):\n #   Column      Non-Null Count  Dtype \n---  ------      --------------  ----- \n 0   name        819 non-null    object\n 1   company     819 non-null    object\n 2   year        819 non-null    int32 \n 3   Price       819 non-null    int32 \n 4   kms_driven  819 non-null    object\n 5   fuel_type   816 non-null    object\ndtypes: int32(2), object(4)\nmemory usage: 38.4+ KB\n"
     ]
    }
   ],
   "source": [
    "df.info()"
   ]
  },
  {
   "source": [
    "### KMS Driven"
   ],
   "cell_type": "markdown",
   "metadata": {}
  },
  {
   "cell_type": "code",
   "execution_count": 31,
   "metadata": {},
   "outputs": [
    {
     "output_type": "execute_result",
     "data": {
      "text/plain": [
       "0    45,000 kms\n",
       "1        40 kms\n",
       "3    28,000 kms\n",
       "4    36,000 kms\n",
       "6    41,000 kms\n",
       "Name: kms_driven, dtype: object"
      ]
     },
     "metadata": {},
     "execution_count": 31
    }
   ],
   "source": [
    "df['kms_driven'].head()"
   ]
  },
  {
   "cell_type": "code",
   "execution_count": 32,
   "metadata": {},
   "outputs": [],
   "source": [
    "df['kms_driven'] = df['kms_driven'].str.split(' ').str.get(0).str.replace(',', '')"
   ]
  },
  {
   "cell_type": "code",
   "execution_count": 33,
   "metadata": {},
   "outputs": [
    {
     "output_type": "execute_result",
     "data": {
      "text/plain": [
       "0       45000\n",
       "1          40\n",
       "3       28000\n",
       "4       36000\n",
       "6       41000\n",
       "        ...  \n",
       "886    132000\n",
       "888     27000\n",
       "889     40000\n",
       "890    Petrol\n",
       "891    Petrol\n",
       "Name: kms_driven, Length: 819, dtype: object"
      ]
     },
     "metadata": {},
     "execution_count": 33
    }
   ],
   "source": [
    "df['kms_driven']"
   ]
  },
  {
   "cell_type": "code",
   "execution_count": 34,
   "metadata": {},
   "outputs": [],
   "source": [
    "# Because there still string, let's turn it\n",
    "\n",
    "df = df[df['kms_driven'].str.isnumeric()]"
   ]
  },
  {
   "cell_type": "code",
   "execution_count": 35,
   "metadata": {},
   "outputs": [],
   "source": [
    "df['kms_driven'] = df['kms_driven'].astype(int)"
   ]
  },
  {
   "cell_type": "code",
   "execution_count": 36,
   "metadata": {},
   "outputs": [
    {
     "output_type": "stream",
     "name": "stdout",
     "text": [
      "<class 'pandas.core.frame.DataFrame'>\nInt64Index: 817 entries, 0 to 889\nData columns (total 6 columns):\n #   Column      Non-Null Count  Dtype \n---  ------      --------------  ----- \n 0   name        817 non-null    object\n 1   company     817 non-null    object\n 2   year        817 non-null    int32 \n 3   Price       817 non-null    int32 \n 4   kms_driven  817 non-null    int32 \n 5   fuel_type   816 non-null    object\ndtypes: int32(3), object(3)\nmemory usage: 35.1+ KB\n"
     ]
    }
   ],
   "source": [
    "df.info()"
   ]
  },
  {
   "cell_type": "code",
   "execution_count": 37,
   "metadata": {},
   "outputs": [
    {
     "output_type": "execute_result",
     "data": {
      "text/plain": [
       "               name company  year     Price  kms_driven fuel_type\n",
       "132  Toyota Corolla  Toyota  2009  53413250       26000       NaN"
      ],
      "text/html": "<div>\n<style scoped>\n    .dataframe tbody tr th:only-of-type {\n        vertical-align: middle;\n    }\n\n    .dataframe tbody tr th {\n        vertical-align: top;\n    }\n\n    .dataframe thead th {\n        text-align: right;\n    }\n</style>\n<table border=\"1\" class=\"dataframe\">\n  <thead>\n    <tr style=\"text-align: right;\">\n      <th></th>\n      <th>name</th>\n      <th>company</th>\n      <th>year</th>\n      <th>Price</th>\n      <th>kms_driven</th>\n      <th>fuel_type</th>\n    </tr>\n  </thead>\n  <tbody>\n    <tr>\n      <th>132</th>\n      <td>Toyota Corolla</td>\n      <td>Toyota</td>\n      <td>2009</td>\n      <td>53413250</td>\n      <td>26000</td>\n      <td>NaN</td>\n    </tr>\n  </tbody>\n</table>\n</div>"
     },
     "metadata": {},
     "execution_count": 37
    }
   ],
   "source": [
    "# Finding nan values\n",
    "\n",
    "df[df['fuel_type'].isna()]"
   ]
  },
  {
   "cell_type": "code",
   "execution_count": 38,
   "metadata": {},
   "outputs": [],
   "source": [
    "df = df[~df['fuel_type'].isna()]"
   ]
  },
  {
   "source": [
    "### Car Names"
   ],
   "cell_type": "markdown",
   "metadata": {}
  },
  {
   "cell_type": "code",
   "execution_count": 39,
   "metadata": {},
   "outputs": [],
   "source": [
    "df['name'] = df['name'].str.split(' ').str.slice(0,3).str.join(' ')"
   ]
  },
  {
   "cell_type": "code",
   "execution_count": 40,
   "metadata": {},
   "outputs": [
    {
     "output_type": "execute_result",
     "data": {
      "text/plain": [
       "                       name   company  year      Price  kms_driven fuel_type\n",
       "0       Hyundai Santro Xing   Hyundai  2007   15538400       45000    Petrol\n",
       "1       Mahindra Jeep CL550  Mahindra  2006   82547750          40    Diesel\n",
       "3         Hyundai Grand i10   Hyundai  2014   63124750       28000    Petrol\n",
       "4    Ford EcoSport Titanium      Ford  2014  111682250       36000    Diesel\n",
       "6                 Ford Figo      Ford  2012   33990250       41000    Diesel\n",
       "..                      ...       ...   ...        ...         ...       ...\n",
       "883      Maruti Suzuki Ritz    Maruti  2011   52442100       50000    Petrol\n",
       "885          Tata Indica V2      Tata  2009   21365300       30000    Diesel\n",
       "886    Toyota Corolla Altis    Toyota  2009   58269000      132000    Petrol\n",
       "888            Tata Zest XM      Tata  2018   50499800       27000    Diesel\n",
       "889      Mahindra Quanto C8  Mahindra  2013   75749700       40000    Diesel\n",
       "\n",
       "[816 rows x 6 columns]"
      ],
      "text/html": "<div>\n<style scoped>\n    .dataframe tbody tr th:only-of-type {\n        vertical-align: middle;\n    }\n\n    .dataframe tbody tr th {\n        vertical-align: top;\n    }\n\n    .dataframe thead th {\n        text-align: right;\n    }\n</style>\n<table border=\"1\" class=\"dataframe\">\n  <thead>\n    <tr style=\"text-align: right;\">\n      <th></th>\n      <th>name</th>\n      <th>company</th>\n      <th>year</th>\n      <th>Price</th>\n      <th>kms_driven</th>\n      <th>fuel_type</th>\n    </tr>\n  </thead>\n  <tbody>\n    <tr>\n      <th>0</th>\n      <td>Hyundai Santro Xing</td>\n      <td>Hyundai</td>\n      <td>2007</td>\n      <td>15538400</td>\n      <td>45000</td>\n      <td>Petrol</td>\n    </tr>\n    <tr>\n      <th>1</th>\n      <td>Mahindra Jeep CL550</td>\n      <td>Mahindra</td>\n      <td>2006</td>\n      <td>82547750</td>\n      <td>40</td>\n      <td>Diesel</td>\n    </tr>\n    <tr>\n      <th>3</th>\n      <td>Hyundai Grand i10</td>\n      <td>Hyundai</td>\n      <td>2014</td>\n      <td>63124750</td>\n      <td>28000</td>\n      <td>Petrol</td>\n    </tr>\n    <tr>\n      <th>4</th>\n      <td>Ford EcoSport Titanium</td>\n      <td>Ford</td>\n      <td>2014</td>\n      <td>111682250</td>\n      <td>36000</td>\n      <td>Diesel</td>\n    </tr>\n    <tr>\n      <th>6</th>\n      <td>Ford Figo</td>\n      <td>Ford</td>\n      <td>2012</td>\n      <td>33990250</td>\n      <td>41000</td>\n      <td>Diesel</td>\n    </tr>\n    <tr>\n      <th>...</th>\n      <td>...</td>\n      <td>...</td>\n      <td>...</td>\n      <td>...</td>\n      <td>...</td>\n      <td>...</td>\n    </tr>\n    <tr>\n      <th>883</th>\n      <td>Maruti Suzuki Ritz</td>\n      <td>Maruti</td>\n      <td>2011</td>\n      <td>52442100</td>\n      <td>50000</td>\n      <td>Petrol</td>\n    </tr>\n    <tr>\n      <th>885</th>\n      <td>Tata Indica V2</td>\n      <td>Tata</td>\n      <td>2009</td>\n      <td>21365300</td>\n      <td>30000</td>\n      <td>Diesel</td>\n    </tr>\n    <tr>\n      <th>886</th>\n      <td>Toyota Corolla Altis</td>\n      <td>Toyota</td>\n      <td>2009</td>\n      <td>58269000</td>\n      <td>132000</td>\n      <td>Petrol</td>\n    </tr>\n    <tr>\n      <th>888</th>\n      <td>Tata Zest XM</td>\n      <td>Tata</td>\n      <td>2018</td>\n      <td>50499800</td>\n      <td>27000</td>\n      <td>Diesel</td>\n    </tr>\n    <tr>\n      <th>889</th>\n      <td>Mahindra Quanto C8</td>\n      <td>Mahindra</td>\n      <td>2013</td>\n      <td>75749700</td>\n      <td>40000</td>\n      <td>Diesel</td>\n    </tr>\n  </tbody>\n</table>\n<p>816 rows × 6 columns</p>\n</div>"
     },
     "metadata": {},
     "execution_count": 40
    }
   ],
   "source": [
    "df"
   ]
  },
  {
   "source": [
    "As you can see we only have 816 rows but the index is 889\n",
    "\n",
    "So it need to be reset first"
   ],
   "cell_type": "markdown",
   "metadata": {}
  },
  {
   "cell_type": "code",
   "execution_count": 41,
   "metadata": {},
   "outputs": [],
   "source": [
    "df.reset_index(drop=True, inplace=True)"
   ]
  },
  {
   "cell_type": "code",
   "execution_count": 42,
   "metadata": {},
   "outputs": [
    {
     "output_type": "stream",
     "name": "stdout",
     "text": [
      "<class 'pandas.core.frame.DataFrame'>\nRangeIndex: 816 entries, 0 to 815\nData columns (total 6 columns):\n #   Column      Non-Null Count  Dtype \n---  ------      --------------  ----- \n 0   name        816 non-null    object\n 1   company     816 non-null    object\n 2   year        816 non-null    int32 \n 3   Price       816 non-null    int32 \n 4   kms_driven  816 non-null    int32 \n 5   fuel_type   816 non-null    object\ndtypes: int32(3), object(3)\nmemory usage: 28.8+ KB\n"
     ]
    }
   ],
   "source": [
    "df.info()"
   ]
  },
  {
   "cell_type": "code",
   "execution_count": 43,
   "metadata": {},
   "outputs": [
    {
     "output_type": "execute_result",
     "data": {
      "text/plain": [
       "              year         Price     kms_driven\n",
       "count   816.000000  8.160000e+02     816.000000\n",
       "mean   2012.444853  7.996791e+07   46275.531863\n",
       "std       4.002992  9.229507e+07   34297.428044\n",
       "min    1995.000000  5.826900e+06       0.000000\n",
       "25%    2010.000000  3.399025e+07   27000.000000\n",
       "50%    2013.000000  5.826880e+07   41000.000000\n",
       "75%    2015.000000  9.541549e+07   56818.500000\n",
       "max    2019.000000  1.650956e+09  400000.000000"
      ],
      "text/html": "<div>\n<style scoped>\n    .dataframe tbody tr th:only-of-type {\n        vertical-align: middle;\n    }\n\n    .dataframe tbody tr th {\n        vertical-align: top;\n    }\n\n    .dataframe thead th {\n        text-align: right;\n    }\n</style>\n<table border=\"1\" class=\"dataframe\">\n  <thead>\n    <tr style=\"text-align: right;\">\n      <th></th>\n      <th>year</th>\n      <th>Price</th>\n      <th>kms_driven</th>\n    </tr>\n  </thead>\n  <tbody>\n    <tr>\n      <th>count</th>\n      <td>816.000000</td>\n      <td>8.160000e+02</td>\n      <td>816.000000</td>\n    </tr>\n    <tr>\n      <th>mean</th>\n      <td>2012.444853</td>\n      <td>7.996791e+07</td>\n      <td>46275.531863</td>\n    </tr>\n    <tr>\n      <th>std</th>\n      <td>4.002992</td>\n      <td>9.229507e+07</td>\n      <td>34297.428044</td>\n    </tr>\n    <tr>\n      <th>min</th>\n      <td>1995.000000</td>\n      <td>5.826900e+06</td>\n      <td>0.000000</td>\n    </tr>\n    <tr>\n      <th>25%</th>\n      <td>2010.000000</td>\n      <td>3.399025e+07</td>\n      <td>27000.000000</td>\n    </tr>\n    <tr>\n      <th>50%</th>\n      <td>2013.000000</td>\n      <td>5.826880e+07</td>\n      <td>41000.000000</td>\n    </tr>\n    <tr>\n      <th>75%</th>\n      <td>2015.000000</td>\n      <td>9.541549e+07</td>\n      <td>56818.500000</td>\n    </tr>\n    <tr>\n      <th>max</th>\n      <td>2019.000000</td>\n      <td>1.650956e+09</td>\n      <td>400000.000000</td>\n    </tr>\n  </tbody>\n</table>\n</div>"
     },
     "metadata": {},
     "execution_count": 43
    }
   ],
   "source": [
    "df.describe()"
   ]
  },
  {
   "source": [
    "From the description we can know that the max is 1.650956e+09, this can be outliers"
   ],
   "cell_type": "markdown",
   "metadata": {}
  },
  {
   "cell_type": "code",
   "execution_count": 44,
   "metadata": {},
   "outputs": [
    {
     "output_type": "execute_result",
     "data": {
      "text/plain": [
       "                   name   company  year       Price  kms_driven fuel_type\n",
       "534  Mahindra XUV500 W6  Mahindra  2014  1650955582       45000    Diesel"
      ],
      "text/html": "<div>\n<style scoped>\n    .dataframe tbody tr th:only-of-type {\n        vertical-align: middle;\n    }\n\n    .dataframe tbody tr th {\n        vertical-align: top;\n    }\n\n    .dataframe thead th {\n        text-align: right;\n    }\n</style>\n<table border=\"1\" class=\"dataframe\">\n  <thead>\n    <tr style=\"text-align: right;\">\n      <th></th>\n      <th>name</th>\n      <th>company</th>\n      <th>year</th>\n      <th>Price</th>\n      <th>kms_driven</th>\n      <th>fuel_type</th>\n    </tr>\n  </thead>\n  <tbody>\n    <tr>\n      <th>534</th>\n      <td>Mahindra XUV500 W6</td>\n      <td>Mahindra</td>\n      <td>2014</td>\n      <td>1650955582</td>\n      <td>45000</td>\n      <td>Diesel</td>\n    </tr>\n  </tbody>\n</table>\n</div>"
     },
     "metadata": {},
     "execution_count": 44
    }
   ],
   "source": [
    "df[df['Price'] > 8e8]"
   ]
  },
  {
   "cell_type": "code",
   "execution_count": 45,
   "metadata": {},
   "outputs": [],
   "source": [
    "df = df[df['Price'] < 8e8].reset_index(drop=True)"
   ]
  },
  {
   "cell_type": "code",
   "execution_count": 46,
   "metadata": {},
   "outputs": [
    {
     "output_type": "execute_result",
     "data": {
      "text/plain": [
       "                       name   company  year      Price  kms_driven fuel_type\n",
       "0       Hyundai Santro Xing   Hyundai  2007   15538400       45000    Petrol\n",
       "1       Mahindra Jeep CL550  Mahindra  2006   82547750          40    Diesel\n",
       "2         Hyundai Grand i10   Hyundai  2014   63124750       28000    Petrol\n",
       "3    Ford EcoSport Titanium      Ford  2014  111682250       36000    Diesel\n",
       "4                 Ford Figo      Ford  2012   33990250       41000    Diesel\n",
       "..                      ...       ...   ...        ...         ...       ...\n",
       "810      Maruti Suzuki Ritz    Maruti  2011   52442100       50000    Petrol\n",
       "811          Tata Indica V2      Tata  2009   21365300       30000    Diesel\n",
       "812    Toyota Corolla Altis    Toyota  2009   58269000      132000    Petrol\n",
       "813            Tata Zest XM      Tata  2018   50499800       27000    Diesel\n",
       "814      Mahindra Quanto C8  Mahindra  2013   75749700       40000    Diesel\n",
       "\n",
       "[815 rows x 6 columns]"
      ],
      "text/html": "<div>\n<style scoped>\n    .dataframe tbody tr th:only-of-type {\n        vertical-align: middle;\n    }\n\n    .dataframe tbody tr th {\n        vertical-align: top;\n    }\n\n    .dataframe thead th {\n        text-align: right;\n    }\n</style>\n<table border=\"1\" class=\"dataframe\">\n  <thead>\n    <tr style=\"text-align: right;\">\n      <th></th>\n      <th>name</th>\n      <th>company</th>\n      <th>year</th>\n      <th>Price</th>\n      <th>kms_driven</th>\n      <th>fuel_type</th>\n    </tr>\n  </thead>\n  <tbody>\n    <tr>\n      <th>0</th>\n      <td>Hyundai Santro Xing</td>\n      <td>Hyundai</td>\n      <td>2007</td>\n      <td>15538400</td>\n      <td>45000</td>\n      <td>Petrol</td>\n    </tr>\n    <tr>\n      <th>1</th>\n      <td>Mahindra Jeep CL550</td>\n      <td>Mahindra</td>\n      <td>2006</td>\n      <td>82547750</td>\n      <td>40</td>\n      <td>Diesel</td>\n    </tr>\n    <tr>\n      <th>2</th>\n      <td>Hyundai Grand i10</td>\n      <td>Hyundai</td>\n      <td>2014</td>\n      <td>63124750</td>\n      <td>28000</td>\n      <td>Petrol</td>\n    </tr>\n    <tr>\n      <th>3</th>\n      <td>Ford EcoSport Titanium</td>\n      <td>Ford</td>\n      <td>2014</td>\n      <td>111682250</td>\n      <td>36000</td>\n      <td>Diesel</td>\n    </tr>\n    <tr>\n      <th>4</th>\n      <td>Ford Figo</td>\n      <td>Ford</td>\n      <td>2012</td>\n      <td>33990250</td>\n      <td>41000</td>\n      <td>Diesel</td>\n    </tr>\n    <tr>\n      <th>...</th>\n      <td>...</td>\n      <td>...</td>\n      <td>...</td>\n      <td>...</td>\n      <td>...</td>\n      <td>...</td>\n    </tr>\n    <tr>\n      <th>810</th>\n      <td>Maruti Suzuki Ritz</td>\n      <td>Maruti</td>\n      <td>2011</td>\n      <td>52442100</td>\n      <td>50000</td>\n      <td>Petrol</td>\n    </tr>\n    <tr>\n      <th>811</th>\n      <td>Tata Indica V2</td>\n      <td>Tata</td>\n      <td>2009</td>\n      <td>21365300</td>\n      <td>30000</td>\n      <td>Diesel</td>\n    </tr>\n    <tr>\n      <th>812</th>\n      <td>Toyota Corolla Altis</td>\n      <td>Toyota</td>\n      <td>2009</td>\n      <td>58269000</td>\n      <td>132000</td>\n      <td>Petrol</td>\n    </tr>\n    <tr>\n      <th>813</th>\n      <td>Tata Zest XM</td>\n      <td>Tata</td>\n      <td>2018</td>\n      <td>50499800</td>\n      <td>27000</td>\n      <td>Diesel</td>\n    </tr>\n    <tr>\n      <th>814</th>\n      <td>Mahindra Quanto C8</td>\n      <td>Mahindra</td>\n      <td>2013</td>\n      <td>75749700</td>\n      <td>40000</td>\n      <td>Diesel</td>\n    </tr>\n  </tbody>\n</table>\n<p>815 rows × 6 columns</p>\n</div>"
     },
     "metadata": {},
     "execution_count": 46
    }
   ],
   "source": [
    "df"
   ]
  },
  {
   "cell_type": "code",
   "execution_count": 47,
   "metadata": {},
   "outputs": [],
   "source": [
    "df.to_csv('cleaned_car.csv')"
   ]
  },
  {
   "source": [
    "## Modeling"
   ],
   "cell_type": "markdown",
   "metadata": {}
  },
  {
   "cell_type": "code",
   "execution_count": 48,
   "metadata": {},
   "outputs": [],
   "source": [
    "X = df.drop(columns='Price')\n",
    "y = df['Price']"
   ]
  },
  {
   "cell_type": "code",
   "execution_count": 49,
   "metadata": {},
   "outputs": [],
   "source": [
    "from sklearn.model_selection import train_test_split\n",
    "\n",
    "X_train, X_test, y_train, y_test = train_test_split(X, y, test_size=0.25)"
   ]
  },
  {
   "cell_type": "code",
   "execution_count": 52,
   "metadata": {},
   "outputs": [],
   "source": [
    "from sklearn.compose import make_column_transformer\n",
    "from sklearn.linear_model import LinearRegression\n",
    "from sklearn.preprocessing import OneHotEncoder\n",
    "from sklearn.pipeline import make_pipeline\n",
    "from sklearn.metrics import r2_score\n"
   ]
  },
  {
   "cell_type": "code",
   "execution_count": 51,
   "metadata": {},
   "outputs": [
    {
     "output_type": "execute_result",
     "data": {
      "text/plain": [
       "OneHotEncoder()"
      ]
     },
     "metadata": {},
     "execution_count": 51
    }
   ],
   "source": [
    "ohe = OneHotEncoder()\n",
    "ohe.fit(X[['name', 'company', 'fuel_type']])"
   ]
  },
  {
   "cell_type": "code",
   "execution_count": 58,
   "metadata": {},
   "outputs": [
    {
     "output_type": "execute_result",
     "data": {
      "text/plain": [
       "[array(['Audi A3 Cabriolet', 'Audi A4 1.8', 'Audi A4 2.0', 'Audi A6 2.0',\n",
       "        'Audi A8', 'Audi Q3 2.0', 'Audi Q5 2.0', 'Audi Q7', 'BMW 3 Series',\n",
       "        'BMW 5 Series', 'BMW 7 Series', 'BMW X1', 'BMW X1 sDrive20d',\n",
       "        'BMW X1 xDrive20d', 'Chevrolet Beat', 'Chevrolet Beat Diesel',\n",
       "        'Chevrolet Beat LS', 'Chevrolet Beat LT', 'Chevrolet Beat PS',\n",
       "        'Chevrolet Cruze LTZ', 'Chevrolet Enjoy', 'Chevrolet Enjoy 1.4',\n",
       "        'Chevrolet Sail 1.2', 'Chevrolet Sail UVA', 'Chevrolet Spark',\n",
       "        'Chevrolet Spark 1.0', 'Chevrolet Spark LS', 'Chevrolet Spark LT',\n",
       "        'Chevrolet Tavera LS', 'Chevrolet Tavera Neo', 'Datsun GO T',\n",
       "        'Datsun Go Plus', 'Datsun Redi GO', 'Fiat Linea Emotion',\n",
       "        'Fiat Petra ELX', 'Fiat Punto Emotion', 'Force Motors Force',\n",
       "        'Force Motors One', 'Ford EcoSport', 'Ford EcoSport Ambiente',\n",
       "        'Ford EcoSport Titanium', 'Ford EcoSport Trend',\n",
       "        'Ford Endeavor 4x4', 'Ford Fiesta', 'Ford Fiesta SXi', 'Ford Figo',\n",
       "        'Ford Figo Diesel', 'Ford Figo Duratorq', 'Ford Figo Petrol',\n",
       "        'Ford Fusion 1.4', 'Ford Ikon 1.3', 'Ford Ikon 1.6',\n",
       "        'Hindustan Motors Ambassador', 'Honda Accord', 'Honda Amaze',\n",
       "        'Honda Amaze 1.2', 'Honda Amaze 1.5', 'Honda Brio', 'Honda Brio V',\n",
       "        'Honda Brio VX', 'Honda City', 'Honda City 1.5', 'Honda City SV',\n",
       "        'Honda City VX', 'Honda City ZX', 'Honda Jazz S', 'Honda Jazz VX',\n",
       "        'Honda Mobilio', 'Honda Mobilio S', 'Honda WR V', 'Hyundai Accent',\n",
       "        'Hyundai Accent Executive', 'Hyundai Accent GLE',\n",
       "        'Hyundai Accent GLX', 'Hyundai Creta', 'Hyundai Creta 1.6',\n",
       "        'Hyundai Elantra 1.8', 'Hyundai Elantra SX', 'Hyundai Elite i20',\n",
       "        'Hyundai Eon', 'Hyundai Eon D', 'Hyundai Eon Era',\n",
       "        'Hyundai Eon Magna', 'Hyundai Eon Sportz', 'Hyundai Fluidic Verna',\n",
       "        'Hyundai Getz', 'Hyundai Getz GLE', 'Hyundai Getz Prime',\n",
       "        'Hyundai Grand i10', 'Hyundai Santro', 'Hyundai Santro AE',\n",
       "        'Hyundai Santro Xing', 'Hyundai Sonata Transform', 'Hyundai Verna',\n",
       "        'Hyundai Verna 1.4', 'Hyundai Verna 1.6', 'Hyundai Verna Fluidic',\n",
       "        'Hyundai Verna Transform', 'Hyundai Verna VGT',\n",
       "        'Hyundai Xcent Base', 'Hyundai Xcent SX', 'Hyundai i10',\n",
       "        'Hyundai i10 Era', 'Hyundai i10 Magna', 'Hyundai i10 Sportz',\n",
       "        'Hyundai i20', 'Hyundai i20 Active', 'Hyundai i20 Asta',\n",
       "        'Hyundai i20 Magna', 'Hyundai i20 Select', 'Hyundai i20 Sportz',\n",
       "        'Jaguar XE XE', 'Jaguar XF 2.2', 'Jeep Wrangler Unlimited',\n",
       "        'Land Rover Freelander', 'Mahindra Bolero DI',\n",
       "        'Mahindra Bolero Power', 'Mahindra Bolero SLE',\n",
       "        'Mahindra Jeep CL550', 'Mahindra Jeep MM', 'Mahindra KUV100',\n",
       "        'Mahindra KUV100 K8', 'Mahindra Logan', 'Mahindra Logan Diesel',\n",
       "        'Mahindra Quanto C4', 'Mahindra Quanto C8', 'Mahindra Scorpio',\n",
       "        'Mahindra Scorpio 2.6', 'Mahindra Scorpio LX',\n",
       "        'Mahindra Scorpio S10', 'Mahindra Scorpio S4',\n",
       "        'Mahindra Scorpio SLE', 'Mahindra Scorpio SLX',\n",
       "        'Mahindra Scorpio VLX', 'Mahindra Scorpio Vlx',\n",
       "        'Mahindra Scorpio W', 'Mahindra TUV300 T4', 'Mahindra TUV300 T8',\n",
       "        'Mahindra Thar CRDe', 'Mahindra XUV500', 'Mahindra XUV500 W10',\n",
       "        'Mahindra XUV500 W6', 'Mahindra XUV500 W8', 'Mahindra Xylo D2',\n",
       "        'Mahindra Xylo E4', 'Mahindra Xylo E8', 'Maruti Suzuki 800',\n",
       "        'Maruti Suzuki A', 'Maruti Suzuki Alto', 'Maruti Suzuki Baleno',\n",
       "        'Maruti Suzuki Celerio', 'Maruti Suzuki Ciaz',\n",
       "        'Maruti Suzuki Dzire', 'Maruti Suzuki Eeco',\n",
       "        'Maruti Suzuki Ertiga', 'Maruti Suzuki Esteem',\n",
       "        'Maruti Suzuki Estilo', 'Maruti Suzuki Maruti',\n",
       "        'Maruti Suzuki Omni', 'Maruti Suzuki Ritz', 'Maruti Suzuki S',\n",
       "        'Maruti Suzuki SX4', 'Maruti Suzuki Stingray',\n",
       "        'Maruti Suzuki Swift', 'Maruti Suzuki Versa',\n",
       "        'Maruti Suzuki Vitara', 'Maruti Suzuki Wagon', 'Maruti Suzuki Zen',\n",
       "        'Mercedes Benz A', 'Mercedes Benz B', 'Mercedes Benz C',\n",
       "        'Mercedes Benz GLA', 'Mini Cooper S', 'Mitsubishi Lancer 1.8',\n",
       "        'Mitsubishi Pajero Sport', 'Nissan Micra XL', 'Nissan Micra XV',\n",
       "        'Nissan Sunny', 'Nissan Sunny XL', 'Nissan Terrano XL',\n",
       "        'Nissan X Trail', 'Renault Duster', 'Renault Duster 110',\n",
       "        'Renault Duster 110PS', 'Renault Duster 85', 'Renault Duster 85PS',\n",
       "        'Renault Duster RxL', 'Renault Kwid', 'Renault Kwid 1.0',\n",
       "        'Renault Kwid RXT', 'Renault Lodgy 85', 'Renault Scala RxL',\n",
       "        'Skoda Fabia', 'Skoda Fabia 1.2L', 'Skoda Fabia Classic',\n",
       "        'Skoda Laura', 'Skoda Octavia Classic', 'Skoda Rapid Elegance',\n",
       "        'Skoda Superb 1.8', 'Skoda Yeti Ambition', 'Tata Aria Pleasure',\n",
       "        'Tata Bolt XM', 'Tata Indica', 'Tata Indica V2', 'Tata Indica eV2',\n",
       "        'Tata Indigo CS', 'Tata Indigo LS', 'Tata Indigo LX',\n",
       "        'Tata Indigo Marina', 'Tata Indigo eCS', 'Tata Manza',\n",
       "        'Tata Manza Aqua', 'Tata Manza Aura', 'Tata Manza ELAN',\n",
       "        'Tata Nano', 'Tata Nano Cx', 'Tata Nano GenX', 'Tata Nano LX',\n",
       "        'Tata Nano Lx', 'Tata Sumo Gold', 'Tata Sumo Grande',\n",
       "        'Tata Sumo Victa', 'Tata Tiago Revotorq', 'Tata Tiago Revotron',\n",
       "        'Tata Tigor Revotron', 'Tata Venture EX', 'Tata Vista Quadrajet',\n",
       "        'Tata Zest Quadrajet', 'Tata Zest XE', 'Tata Zest XM',\n",
       "        'Toyota Corolla', 'Toyota Corolla Altis', 'Toyota Corolla H2',\n",
       "        'Toyota Etios', 'Toyota Etios G', 'Toyota Etios GD',\n",
       "        'Toyota Etios Liva', 'Toyota Fortuner', 'Toyota Fortuner 3.0',\n",
       "        'Toyota Innova 2.0', 'Toyota Innova 2.5', 'Toyota Qualis',\n",
       "        'Volkswagen Jetta Comfortline', 'Volkswagen Jetta Highline',\n",
       "        'Volkswagen Passat Diesel', 'Volkswagen Polo',\n",
       "        'Volkswagen Polo Comfortline', 'Volkswagen Polo Highline',\n",
       "        'Volkswagen Polo Highline1.2L', 'Volkswagen Polo Trendline',\n",
       "        'Volkswagen Vento Comfortline', 'Volkswagen Vento Highline',\n",
       "        'Volkswagen Vento Konekt', 'Volvo S80 Summum'], dtype=object),\n",
       " array(['Audi', 'BMW', 'Chevrolet', 'Datsun', 'Fiat', 'Force', 'Ford',\n",
       "        'Hindustan', 'Honda', 'Hyundai', 'Jaguar', 'Jeep', 'Land',\n",
       "        'Mahindra', 'Maruti', 'Mercedes', 'Mini', 'Mitsubishi', 'Nissan',\n",
       "        'Renault', 'Skoda', 'Tata', 'Toyota', 'Volkswagen', 'Volvo'],\n",
       "       dtype=object),\n",
       " array(['Diesel', 'LPG', 'Petrol'], dtype=object)]"
      ]
     },
     "metadata": {},
     "execution_count": 58
    }
   ],
   "source": [
    "ohe.categories_"
   ]
  },
  {
   "cell_type": "code",
   "execution_count": 59,
   "metadata": {},
   "outputs": [],
   "source": [
    "columns_trans = make_column_transformer((OneHotEncoder(categories=ohe.categories_), ['name', 'company', 'fuel_type']),\n",
    "                                        remainder='passthrough')"
   ]
  },
  {
   "cell_type": "code",
   "execution_count": 61,
   "metadata": {},
   "outputs": [],
   "source": [
    "linreg = LinearRegression()"
   ]
  },
  {
   "cell_type": "code",
   "execution_count": 62,
   "metadata": {},
   "outputs": [],
   "source": [
    "pipe = make_pipeline(columns_trans, linreg)"
   ]
  },
  {
   "cell_type": "code",
   "execution_count": 63,
   "metadata": {},
   "outputs": [
    {
     "output_type": "execute_result",
     "data": {
      "text/plain": [
       "Pipeline(steps=[('columntransformer',\n",
       "                 ColumnTransformer(remainder='passthrough',\n",
       "                                   transformers=[('onehotencoder',\n",
       "                                                  OneHotEncoder(categories=[array(['Audi A3 Cabriolet', 'Audi A4 1.8', 'Audi A4 2.0', 'Audi A6 2.0',\n",
       "       'Audi A8', 'Audi Q3 2.0', 'Audi Q5 2.0', 'Audi Q7', 'BMW 3 Series',\n",
       "       'BMW 5 Series', 'BMW 7 Series', 'BMW X1', 'BMW X1 sDrive20d',\n",
       "       'BMW X1 xDrive20d', 'Chevrolet Beat', 'Chevrolet Beat...\n",
       "                                                                            array(['Audi', 'BMW', 'Chevrolet', 'Datsun', 'Fiat', 'Force', 'Ford',\n",
       "       'Hindustan', 'Honda', 'Hyundai', 'Jaguar', 'Jeep', 'Land',\n",
       "       'Mahindra', 'Maruti', 'Mercedes', 'Mini', 'Mitsubishi', 'Nissan',\n",
       "       'Renault', 'Skoda', 'Tata', 'Toyota', 'Volkswagen', 'Volvo'],\n",
       "      dtype=object),\n",
       "                                                                            array(['Diesel', 'LPG', 'Petrol'], dtype=object)]),\n",
       "                                                  ['name', 'company',\n",
       "                                                   'fuel_type'])])),\n",
       "                ('linearregression', LinearRegression())])"
      ]
     },
     "metadata": {},
     "execution_count": 63
    }
   ],
   "source": [
    "pipe.fit(X_train, y_train)"
   ]
  },
  {
   "cell_type": "code",
   "execution_count": 64,
   "metadata": {},
   "outputs": [],
   "source": [
    "y_pred = pipe.predict(X_test)"
   ]
  },
  {
   "cell_type": "code",
   "execution_count": 65,
   "metadata": {},
   "outputs": [
    {
     "output_type": "execute_result",
     "data": {
      "text/plain": [
       "array([ 3.85645494e+07,  1.06850161e+08,  4.57626795e+07,  5.21348915e+07,\n",
       "        7.74623154e+07,  8.99447315e+07,  4.76062911e+07,  1.31260238e+08,\n",
       "        2.55910386e+07,  8.97873971e+07,  1.93389758e+07,  5.06078674e+07,\n",
       "        1.14020475e+08,  2.58414802e+07,  7.94069066e+06,  3.78910181e+07,\n",
       "        1.18139996e+08,  5.17038111e+07,  1.22544961e+08,  4.27589522e+07,\n",
       "        1.22932817e+08,  6.14047572e+07,  5.63294999e+07,  1.03129207e+08,\n",
       "        5.32416804e+07,  7.79640222e+07,  1.00142889e+08, -1.72107404e+07,\n",
       "        7.66128337e+07,  3.57104674e+07,  5.92294365e+07,  1.90314151e+07,\n",
       "        4.78656521e+07,  6.39600845e+07,  4.14682668e+07,  5.92384854e+07,\n",
       "        4.57626795e+07,  1.15363517e+08,  1.63715628e+08,  6.19183538e+07,\n",
       "        5.16691534e+07,  6.87975121e+07,  5.45028000e+07,  1.15055309e+08,\n",
       "        1.95952064e+07,  1.04438017e+08,  1.27094577e+08,  2.06189053e+08,\n",
       "        8.50947079e+07,  6.62296586e+07,  5.07326019e+07,  2.23871247e+07,\n",
       "        6.50324784e+07,  2.61593039e+07,  6.68565294e+07,  1.01158471e+08,\n",
       "        1.68773120e+08,  5.73174725e+07,  3.67411743e+08,  5.04984803e+07,\n",
       "        1.35222012e+08,  2.58094849e+07,  1.08489051e+08,  1.44445714e+08,\n",
       "        4.25112000e+07,  5.33619228e+07,  1.12240052e+08,  6.09552529e+07,\n",
       "        3.48105814e+07,  1.13508518e+08,  7.24406397e+07,  6.92275774e+07,\n",
       "        4.70857790e+07,  8.56666925e+07,  7.20473802e+07,  3.81152458e+07,\n",
       "        9.45438201e+07,  6.73533447e+07,  2.29287549e+08,  4.88480538e+07,\n",
       "        8.98975322e+07,  6.43880621e+07,  6.50489251e+07,  4.22920380e+07,\n",
       "        5.92384854e+07,  6.75927397e+07,  7.43696774e+07,  1.27094577e+08,\n",
       "        7.13273891e+07,  5.63926707e+07,  1.00142889e+08,  4.71629263e+07,\n",
       "       -9.99367429e+05,  4.66699229e+07,  4.63338711e+07,  8.02708901e+07,\n",
       "        4.88480538e+07,  1.80260426e+07,  8.00787045e+07,  1.34179962e+08,\n",
       "        5.70007224e+07,  7.12534321e+07,  3.51279608e+07,  2.18398088e+07,\n",
       "        1.39106312e+07,  5.63988849e+07,  7.36495163e+07,  1.12123018e+08,\n",
       "        2.86379521e+07,  5.56741964e+07,  5.20953412e+07,  7.85123288e+07,\n",
       "        5.98355102e+07,  5.75512833e+07,  6.00707514e+07,  4.25151577e+07,\n",
       "        1.10122589e+08,  3.08537067e+08,  4.37096790e+07,  3.86255828e+07,\n",
       "        8.24525292e+07,  1.00192295e+08,  1.13762111e+08,  3.97728923e+07,\n",
       "        3.02110212e+08,  1.22813691e+08,  8.99236381e+07,  6.07773554e+07,\n",
       "        8.54780705e+07,  2.18508223e+07,  1.27032688e+08,  6.22473609e+07,\n",
       "        3.67411743e+08,  4.72268047e+07,  4.14462398e+07,  1.07213948e+08,\n",
       "        1.01827399e+08,  4.65007266e+07,  7.06109171e+07,  1.17489917e+08,\n",
       "        1.35610062e+08,  1.21028019e+08,  1.41489027e+08,  7.38857199e+07,\n",
       "        4.54606791e+07,  4.65493740e+07,  4.79865037e+07,  4.73791342e+07,\n",
       "        3.46395297e+07,  6.05019264e+07,  1.02921052e+08,  1.03066430e+08,\n",
       "        5.66277611e+07,  4.88480538e+07,  5.47439778e+07,  9.69898429e+07,\n",
       "        8.58016468e+07,  1.11710094e+08,  4.44941324e+07,  9.94728589e+07,\n",
       "        8.95512748e+07,  5.55775586e+07,  6.08615527e+07,  1.74880665e+07,\n",
       "        1.43952253e+07,  1.94468588e+08,  5.44257055e+07,  3.06412827e+07,\n",
       "        3.37548728e+07,  7.56567656e+07,  6.50324784e+07,  8.45288900e+07,\n",
       "        1.40359829e+08,  9.63127259e+07,  1.13894273e+08,  3.46123383e+07,\n",
       "        6.69891037e+07,  7.38857199e+07,  4.42278718e+07,  6.77848948e+07,\n",
       "        2.94948888e+08,  3.88675209e+07,  8.05695182e+07,  3.68574564e+07,\n",
       "        6.17724520e+07,  1.21028019e+08,  3.13102908e+08,  7.17265311e+07,\n",
       "        1.44737264e+08,  6.75703737e+07,  9.31655153e+06,  6.08948442e+07,\n",
       "        4.58902057e+07,  8.26378404e+07,  9.38537783e+07,  1.52596476e+08,\n",
       "        1.11586749e+08,  1.19377956e+08,  7.94422591e+07,  4.65493740e+07,\n",
       "        8.81468639e+07,  1.17677428e+08,  1.27974770e+08,  4.66336244e+07])"
      ]
     },
     "metadata": {},
     "execution_count": 65
    }
   ],
   "source": [
    "y_pred"
   ]
  },
  {
   "cell_type": "code",
   "execution_count": 66,
   "metadata": {},
   "outputs": [
    {
     "output_type": "execute_result",
     "data": {
      "text/plain": [
       "0.6877811387181065"
      ]
     },
     "metadata": {},
     "execution_count": 66
    }
   ],
   "source": [
    "r2_score(y_test, y_pred)"
   ]
  },
  {
   "source": [
    "To understand from where we got the number of 0.68, see this"
   ],
   "cell_type": "markdown",
   "metadata": {}
  },
  {
   "cell_type": "code",
   "execution_count": null,
   "metadata": {},
   "outputs": [],
   "source": [
    "for i in range(10):\n",
    "    X_train, X_test, y_train, y_test = train_test_split(X, y, test_size=0.25)\n",
    "    linreg = LinearRegression()\n",
    "    pipe = make_pipeline(columns_trans, linreg)\n",
    "    pipe.fit(X_train, y_train)\n",
    "    y_pred = pipe.predict(X_test)\n",
    "    print(i, r2_score(y_test, y_pred))"
   ]
  }
 ]
}