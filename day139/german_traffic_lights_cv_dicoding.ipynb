{
  "nbformat": 4,
  "nbformat_minor": 0,
  "metadata": {
    "colab": {
      "name": "german_traffic_lights_cv_dicoding.ipynb",
      "provenance": [],
      "collapsed_sections": []
    },
    "kernelspec": {
      "name": "python3",
      "display_name": "Python 3"
    },
    "language_info": {
      "name": "python"
    }
  },
  "cells": [
    {
      "cell_type": "code",
      "metadata": {
        "colab": {
          "base_uri": "https://localhost:8080/"
        },
        "id": "WFgESEfyYyF2",
        "outputId": "da3c5587-1085-4bb4-b0c4-3335c171c44e"
      },
      "source": [
        "pip install kaggle"
      ],
      "execution_count": 1,
      "outputs": [
        {
          "output_type": "stream",
          "name": "stdout",
          "text": [
            "Requirement already satisfied: kaggle in /usr/local/lib/python3.7/dist-packages (1.5.12)\n",
            "Requirement already satisfied: urllib3 in /usr/local/lib/python3.7/dist-packages (from kaggle) (1.24.3)\n",
            "Requirement already satisfied: certifi in /usr/local/lib/python3.7/dist-packages (from kaggle) (2021.5.30)\n",
            "Requirement already satisfied: requests in /usr/local/lib/python3.7/dist-packages (from kaggle) (2.23.0)\n",
            "Requirement already satisfied: tqdm in /usr/local/lib/python3.7/dist-packages (from kaggle) (4.62.3)\n",
            "Requirement already satisfied: six>=1.10 in /usr/local/lib/python3.7/dist-packages (from kaggle) (1.15.0)\n",
            "Requirement already satisfied: python-slugify in /usr/local/lib/python3.7/dist-packages (from kaggle) (5.0.2)\n",
            "Requirement already satisfied: python-dateutil in /usr/local/lib/python3.7/dist-packages (from kaggle) (2.8.2)\n",
            "Requirement already satisfied: text-unidecode>=1.3 in /usr/local/lib/python3.7/dist-packages (from python-slugify->kaggle) (1.3)\n",
            "Requirement already satisfied: idna<3,>=2.5 in /usr/local/lib/python3.7/dist-packages (from requests->kaggle) (2.10)\n",
            "Requirement already satisfied: chardet<4,>=3.0.2 in /usr/local/lib/python3.7/dist-packages (from requests->kaggle) (3.0.4)\n"
          ]
        }
      ]
    },
    {
      "cell_type": "code",
      "metadata": {
        "id": "fMLAAU-xZWav"
      },
      "source": [
        "mkdir ~/.kaggle"
      ],
      "execution_count": 2,
      "outputs": []
    },
    {
      "cell_type": "code",
      "metadata": {
        "id": "yKmnaxlZZX7u"
      },
      "source": [
        "cp kaggle.json ~/.kaggle/"
      ],
      "execution_count": 3,
      "outputs": []
    },
    {
      "cell_type": "code",
      "metadata": {
        "id": "jEzAbOD3ZZou"
      },
      "source": [
        "!chmod 600 ~/.kaggle/kaggle.json"
      ],
      "execution_count": 4,
      "outputs": []
    },
    {
      "cell_type": "code",
      "metadata": {
        "colab": {
          "base_uri": "https://localhost:8080/"
        },
        "id": "x_g7USkHZdbl",
        "outputId": "6a1e6370-063c-4d79-f360-7cc0da0f068a"
      },
      "source": [
        "!kaggle datasets download -d meowmeowmeowmeowmeow/gtsrb-german-traffic-sign"
      ],
      "execution_count": 5,
      "outputs": [
        {
          "output_type": "stream",
          "name": "stdout",
          "text": [
            "Downloading gtsrb-german-traffic-sign.zip to /content\n",
            " 98% 601M/612M [00:04<00:00, 159MB/s]\n",
            "100% 612M/612M [00:04<00:00, 148MB/s]\n"
          ]
        }
      ]
    },
    {
      "cell_type": "markdown",
      "metadata": {
        "id": "_EldpFsrZkjv"
      },
      "source": [
        "## Import modules"
      ]
    },
    {
      "cell_type": "code",
      "metadata": {
        "id": "9JDSBnmiZiDl"
      },
      "source": [
        "from keras.layers import Conv2D, Dense, Flatten, Dropout, MaxPool2D\n",
        "from sklearn.model_selection import train_test_split\n",
        "from keras.models import Sequential, load_model\n",
        "from keras.models import Sequential\n",
        "\n",
        "import tensorflow as tf\n",
        "import pandas as pd\n",
        "import numpy as np\n",
        "\n",
        "import matplotlib.pyplot as plt\n",
        "import seaborn as sns\n",
        "import pickle\n",
        "\n",
        "%config InlineBackend.figure_format = 'retina'\n",
        "plt.style.use('ggplot')\n",
        "%matplotlib inline"
      ],
      "execution_count": 7,
      "outputs": []
    },
    {
      "cell_type": "markdown",
      "metadata": {
        "id": "BzmHPA5baMY1"
      },
      "source": [
        "## Import data"
      ]
    },
    {
      "cell_type": "code",
      "metadata": {
        "colab": {
          "base_uri": "https://localhost:8080/"
        },
        "id": "m_fguEKMa5G3",
        "outputId": "21abaf8c-ef3e-4c3d-a3b9-93318dd20ef4"
      },
      "source": [
        "%cd /baru"
      ],
      "execution_count": 22,
      "outputs": [
        {
          "output_type": "stream",
          "name": "stdout",
          "text": [
            "/baru\n"
          ]
        }
      ]
    },
    {
      "cell_type": "code",
      "metadata": {
        "colab": {
          "base_uri": "https://localhost:8080/"
        },
        "id": "MBcS5h3Ia7dy",
        "outputId": "f9b6ff25-2e95-4784-abd3-ec4cefad5d51"
      },
      "source": [
        "!kaggle datasets download -d saadhaxxan/germantrafficsigns"
      ],
      "execution_count": 23,
      "outputs": [
        {
          "output_type": "stream",
          "name": "stdout",
          "text": [
            "Downloading germantrafficsigns.zip to /baru\n",
            " 98% 116M/118M [00:01<00:00, 92.4MB/s]\n",
            "100% 118M/118M [00:01<00:00, 106MB/s] \n"
          ]
        }
      ]
    },
    {
      "cell_type": "code",
      "metadata": {
        "colab": {
          "base_uri": "https://localhost:8080/"
        },
        "id": "Bbco8RN9aFgj",
        "outputId": "284b1409-7882-4a84-fb06-f58eebd65531"
      },
      "source": [
        "!unzip germantrafficsigns.zip"
      ],
      "execution_count": 24,
      "outputs": [
        {
          "output_type": "stream",
          "name": "stdout",
          "text": [
            "Archive:  germantrafficsigns.zip\n",
            "  inflating: signnames.csv           \n",
            "  inflating: test.p                  \n",
            "  inflating: train.p                 \n",
            "  inflating: valid.p                 \n"
          ]
        }
      ]
    },
    {
      "cell_type": "code",
      "metadata": {
        "colab": {
          "base_uri": "https://localhost:8080/"
        },
        "id": "PThydFofb9eU",
        "outputId": "6ba875ff-ec10-4ba0-db66-942b6b7c2112"
      },
      "source": [
        "train_file = 'train.p'\n",
        "test_file = 'test.p'\n",
        "\n",
        "with open(train_file, mode='rb') as f:\n",
        "  train = pickle.load(f)\n",
        "\n",
        "\n",
        "with open(test_file, mode='rb') as f:\n",
        "  test = pickle.load(f)\n",
        "\n",
        "print(\"Data Loaded\")"
      ],
      "execution_count": 25,
      "outputs": [
        {
          "output_type": "stream",
          "name": "stdout",
          "text": [
            "Data Loaded\n"
          ]
        }
      ]
    },
    {
      "cell_type": "code",
      "metadata": {
        "colab": {
          "base_uri": "https://localhost:8080/",
          "height": 390
        },
        "id": "O564C6aWb9Vf",
        "outputId": "cab69ab6-ec67-45d8-825f-e67445b84836"
      },
      "source": [
        "sign_name_df = pd.read_csv('signnames.csv')\n",
        "sign_names = sign_name_df.SignName.values\n",
        "sign_name_df.set_index(\"ClassId\", inplace=True)\n",
        "sign_name_df.head(10)"
      ],
      "execution_count": 26,
      "outputs": [
        {
          "output_type": "execute_result",
          "data": {
            "text/html": [
              "<div>\n",
              "<style scoped>\n",
              "    .dataframe tbody tr th:only-of-type {\n",
              "        vertical-align: middle;\n",
              "    }\n",
              "\n",
              "    .dataframe tbody tr th {\n",
              "        vertical-align: top;\n",
              "    }\n",
              "\n",
              "    .dataframe thead th {\n",
              "        text-align: right;\n",
              "    }\n",
              "</style>\n",
              "<table border=\"1\" class=\"dataframe\">\n",
              "  <thead>\n",
              "    <tr style=\"text-align: right;\">\n",
              "      <th></th>\n",
              "      <th>SignName</th>\n",
              "    </tr>\n",
              "    <tr>\n",
              "      <th>ClassId</th>\n",
              "      <th></th>\n",
              "    </tr>\n",
              "  </thead>\n",
              "  <tbody>\n",
              "    <tr>\n",
              "      <th>0</th>\n",
              "      <td>Speed limit (20km/h)</td>\n",
              "    </tr>\n",
              "    <tr>\n",
              "      <th>1</th>\n",
              "      <td>Speed limit (30km/h)</td>\n",
              "    </tr>\n",
              "    <tr>\n",
              "      <th>2</th>\n",
              "      <td>Speed limit (50km/h)</td>\n",
              "    </tr>\n",
              "    <tr>\n",
              "      <th>3</th>\n",
              "      <td>Speed limit (60km/h)</td>\n",
              "    </tr>\n",
              "    <tr>\n",
              "      <th>4</th>\n",
              "      <td>Speed limit (70km/h)</td>\n",
              "    </tr>\n",
              "    <tr>\n",
              "      <th>5</th>\n",
              "      <td>Speed limit (80km/h)</td>\n",
              "    </tr>\n",
              "    <tr>\n",
              "      <th>6</th>\n",
              "      <td>End of speed limit (80km/h)</td>\n",
              "    </tr>\n",
              "    <tr>\n",
              "      <th>7</th>\n",
              "      <td>Speed limit (100km/h)</td>\n",
              "    </tr>\n",
              "    <tr>\n",
              "      <th>8</th>\n",
              "      <td>Speed limit (120km/h)</td>\n",
              "    </tr>\n",
              "    <tr>\n",
              "      <th>9</th>\n",
              "      <td>No passing</td>\n",
              "    </tr>\n",
              "  </tbody>\n",
              "</table>\n",
              "</div>"
            ],
            "text/plain": [
              "                            SignName\n",
              "ClassId                             \n",
              "0               Speed limit (20km/h)\n",
              "1               Speed limit (30km/h)\n",
              "2               Speed limit (50km/h)\n",
              "3               Speed limit (60km/h)\n",
              "4               Speed limit (70km/h)\n",
              "5               Speed limit (80km/h)\n",
              "6        End of speed limit (80km/h)\n",
              "7              Speed limit (100km/h)\n",
              "8              Speed limit (120km/h)\n",
              "9                         No passing"
            ]
          },
          "metadata": {},
          "execution_count": 26
        }
      ]
    },
    {
      "cell_type": "code",
      "metadata": {
        "colab": {
          "base_uri": "https://localhost:8080/"
        },
        "id": "srENxGnXcayX",
        "outputId": "bc6f6a4d-879e-4165-f882-831a7aeb4d42"
      },
      "source": [
        "# Defining the features and labels for data train\n",
        "X, y = train['features'], train['labels']\n",
        "\n",
        "# Convert list into numpy arrays\n",
        "data = np.array(X)\n",
        "labels = np.array(y)\n",
        "print(data.shape, labels.shape)\n",
        "\n",
        "# Define fetarues and labels for testing data\n",
        "X_test, y_test = test['features'], test['labels']\n",
        "\n",
        "# Converting lists into numpy arrays\n",
        "X_test = np.array(X_test)\n",
        "y_test = np.array(y_test)\n",
        "\n",
        "print(X_test.shape, y_test.shape)"
      ],
      "execution_count": 27,
      "outputs": [
        {
          "output_type": "stream",
          "name": "stdout",
          "text": [
            "(34799, 32, 32, 3) (34799,)\n",
            "(12630, 32, 32, 3) (12630,)\n"
          ]
        }
      ]
    },
    {
      "cell_type": "code",
      "metadata": {
        "colab": {
          "base_uri": "https://localhost:8080/"
        },
        "id": "DBrBylCmc8u7",
        "outputId": "85e4e524-1efe-4f8d-daa9-9999b4f11e97"
      },
      "source": [
        "# Split the data\n",
        "X_train, X_val, y_train, y_val = train_test_split(X, y, test_size=0.1, random_state=21)\n",
        "print(X_train.shape, X_val.shape, y_train.shape, y_val.shape)"
      ],
      "execution_count": 28,
      "outputs": [
        {
          "output_type": "stream",
          "name": "stdout",
          "text": [
            "(31319, 32, 32, 3) (3480, 32, 32, 3) (31319,) (3480,)\n"
          ]
        }
      ]
    },
    {
      "cell_type": "code",
      "metadata": {
        "colab": {
          "base_uri": "https://localhost:8080/",
          "height": 336
        },
        "id": "qMblN-HUdWQ7",
        "outputId": "ac1eb9cf-2ac9-4e4c-d012-30aa93b221bb"
      },
      "source": [
        "# Visualize the class distribution\n",
        "n_labels = np.unique(y_train).size\n",
        "def hist_data(y_data, title=None, ax=None, **kwargs):\n",
        "  if not ax:\n",
        "    fig = plt.figure()\n",
        "    ax = fig.add_subplot(111)\n",
        "  ax.hist(y_data, np.arange(-0.5, n_labels+1.5), stacked=True, **kwargs)\n",
        "  ax.set_xlim(-0.5, n_labels - 0.5)\n",
        "  if 'label' in kwargs : ax.legend()\n",
        "  if title : ax.set_title(title)\n",
        "\n",
        "fig, ax = plt.subplots(1, 3, figsize=(20,5))\n",
        "hist_data(y_train, title='Training data distribution', ax=ax[0])\n",
        "hist_data(y_val, title='Validation data distribution', ax=ax[1], color='black')\n",
        "hist_data(y_test, title='Test data distribution', ax=ax[2], color='grey')"
      ],
      "execution_count": 29,
      "outputs": [
        {
          "output_type": "display_data",
          "data": {
            "image/png": "[encoded data removed]",
            "text/plain": [
              "<Figure size 1440x360 with 3 Axes>"
            ]
          },
          "metadata": {
            "image/png": {
              "width": 1163,
              "height": 319
            },
            "needs_background": "light"
          }
        }
      ]
    },
    {
      "cell_type": "code",
      "metadata": {
        "id": "miDeyYnTePT8"
      },
      "source": [
        "# One hot encoding\n",
        "from tensorflow.keras.utils import to_categorical\n",
        "\n",
        "y_train = to_categorical(y_train, 43)\n",
        "y_val = to_categorical(y_val, 43)"
      ],
      "execution_count": 30,
      "outputs": []
    },
    {
      "cell_type": "code",
      "metadata": {
        "id": "Ybmr8zG_ehF5"
      },
      "source": [
        "class myCallback(tf.keras.callbacks.Callback):\n",
        "  def on_epoch_end(self, epoch, logs={}):\n",
        "    if(logs.get('accuracy') > 0.96):\n",
        "      print(\"\\nAccuracy score is getting more than 96%, training stop...\")\n",
        "      self.model.stop_training = True\n",
        "\n",
        "callbacks = myCallback()"
      ],
      "execution_count": 31,
      "outputs": []
    },
    {
      "cell_type": "code",
      "metadata": {
        "id": "IzdhqdNse-yb"
      },
      "source": [
        "model = Sequential()\n",
        "model.add(Conv2D(filters=32, kernel_size=(5,5), activation='relu', input_shape=X_train.shape[1:]))\n",
        "model.add(Conv2D(filters=32, kernel_size=(5,5), activation='relu'))\n",
        "model.add(MaxPool2D(pool_size=(2,2)))\n",
        "model.add(Dropout(rate=0.25))"
      ],
      "execution_count": 33,
      "outputs": []
    },
    {
      "cell_type": "code",
      "metadata": {
        "id": "fpdIaAWiiHA2"
      },
      "source": [
        "model.add(Conv2D(filters=64, kernel_size=(3,3), activation='relu'))\n",
        "model.add(Conv2D(filters=64, kernel_size=(3,3), activation='relu'))\n",
        "model.add(MaxPool2D(pool_size=(2,2)))\n",
        "model.add(Dropout(0.25))"
      ],
      "execution_count": 34,
      "outputs": []
    },
    {
      "cell_type": "code",
      "metadata": {
        "id": "kVW-i6FHiW5b"
      },
      "source": [
        "model.add(Flatten())\n",
        "model.add(Dense(256, activation='relu'))\n",
        "model.add(Dropout(0.5))\n",
        "model.add(Dense(43, activation='softmax'))"
      ],
      "execution_count": 35,
      "outputs": []
    },
    {
      "cell_type": "code",
      "metadata": {
        "id": "MUubSvXDihk0"
      },
      "source": [
        "model = Sequential()\n",
        "model.add(Conv2D(filters=32, kernel_size=(5,5), activation='relu', input_shape=X_train.shape[1:]))\n",
        "model.add(Conv2D(filters=32, kernel_size=(5,5), activation='relu'))\n",
        "model.add(MaxPool2D(pool_size=(2,2)))\n",
        "model.add(Dropout(rate=0.25))\n",
        "\n",
        "model.add(Conv2D(filters=64, kernel_size=(3,3), activation='relu'))\n",
        "model.add(Conv2D(filters=64, kernel_size=(3,3), activation='relu'))\n",
        "model.add(MaxPool2D(pool_size=(2,2)))\n",
        "model.add(Dropout(0.25))\n",
        "\n",
        "model.add(Flatten())\n",
        "model.add(Dense(256, activation='relu'))\n",
        "model.add(Dropout(0.5))\n",
        "model.add(Dense(43, activation='softmax'))"
      ],
      "execution_count": 44,
      "outputs": []
    },
    {
      "cell_type": "code",
      "metadata": {
        "colab": {
          "base_uri": "https://localhost:8080/"
        },
        "id": "RDki9X5MjPzc",
        "outputId": "54681ccb-d3f1-4c3d-e70f-9fb7ad8a5cdc"
      },
      "source": [
        "model.summary()"
      ],
      "execution_count": 45,
      "outputs": [
        {
          "output_type": "stream",
          "name": "stdout",
          "text": [
            "Model: \"sequential_3\"\n",
            "_________________________________________________________________\n",
            "Layer (type)                 Output Shape              Param #   \n",
            "=================================================================\n",
            "conv2d_10 (Conv2D)           (None, 28, 28, 32)        2432      \n",
            "_________________________________________________________________\n",
            "conv2d_11 (Conv2D)           (None, 24, 24, 32)        25632     \n",
            "_________________________________________________________________\n",
            "max_pooling2d_4 (MaxPooling2 (None, 12, 12, 32)        0         \n",
            "_________________________________________________________________\n",
            "dropout_6 (Dropout)          (None, 12, 12, 32)        0         \n",
            "_________________________________________________________________\n",
            "conv2d_12 (Conv2D)           (None, 10, 10, 64)        18496     \n",
            "_________________________________________________________________\n",
            "conv2d_13 (Conv2D)           (None, 8, 8, 64)          36928     \n",
            "_________________________________________________________________\n",
            "max_pooling2d_5 (MaxPooling2 (None, 4, 4, 64)          0         \n",
            "_________________________________________________________________\n",
            "dropout_7 (Dropout)          (None, 4, 4, 64)          0         \n",
            "_________________________________________________________________\n",
            "flatten_2 (Flatten)          (None, 1024)              0         \n",
            "_________________________________________________________________\n",
            "dense_3 (Dense)              (None, 256)               262400    \n",
            "_________________________________________________________________\n",
            "dropout_8 (Dropout)          (None, 256)               0         \n",
            "_________________________________________________________________\n",
            "dense_4 (Dense)              (None, 43)                11051     \n",
            "=================================================================\n",
            "Total params: 356,939\n",
            "Trainable params: 356,939\n",
            "Non-trainable params: 0\n",
            "_________________________________________________________________\n"
          ]
        }
      ]
    },
    {
      "cell_type": "code",
      "metadata": {
        "colab": {
          "base_uri": "https://localhost:8080/"
        },
        "id": "XjauyoAxjR8j",
        "outputId": "ae5143c5-442a-44fe-b38d-ed3690422118"
      },
      "source": [
        "model.compile(loss='categorical_crossentropy', optimizer='adam', metrics=['accuracy'])\n",
        "epochs = 25\n",
        "history = model.fit(X_train, y_train, batch_size=32, epochs=epochs, validation_data=(X_val, y_val), callbacks=[callbacks])\n",
        "model.save('traffic_model.h5')"
      ],
      "execution_count": 46,
      "outputs": [
        {
          "output_type": "stream",
          "name": "stdout",
          "text": [
            "Epoch 1/25\n",
            "979/979 [==============================] - 157s 160ms/step - loss: 1.6921 - accuracy: 0.5537 - val_loss: 0.4561 - val_accuracy: 0.8937\n",
            "Epoch 2/25\n",
            "979/979 [==============================] - 157s 161ms/step - loss: 0.5903 - accuracy: 0.8195 - val_loss: 0.1805 - val_accuracy: 0.9529\n",
            "Epoch 3/25\n",
            "979/979 [==============================] - 159s 162ms/step - loss: 0.4110 - accuracy: 0.8761 - val_loss: 0.0987 - val_accuracy: 0.9733\n",
            "Epoch 4/25\n",
            "979/979 [==============================] - 157s 161ms/step - loss: 0.3271 - accuracy: 0.9000 - val_loss: 0.1059 - val_accuracy: 0.9670\n",
            "Epoch 5/25\n",
            "979/979 [==============================] - 158s 162ms/step - loss: 0.2815 - accuracy: 0.9151 - val_loss: 0.1433 - val_accuracy: 0.9606\n",
            "Epoch 6/25\n",
            "979/979 [==============================] - 157s 160ms/step - loss: 0.2608 - accuracy: 0.9245 - val_loss: 0.0689 - val_accuracy: 0.9822\n",
            "Epoch 7/25\n",
            "979/979 [==============================] - 157s 160ms/step - loss: 0.2338 - accuracy: 0.9337 - val_loss: 0.0679 - val_accuracy: 0.9810\n",
            "Epoch 8/25\n",
            "979/979 [==============================] - 159s 163ms/step - loss: 0.2258 - accuracy: 0.9347 - val_loss: 0.0528 - val_accuracy: 0.9845\n",
            "Epoch 9/25\n",
            "979/979 [==============================] - 160s 164ms/step - loss: 0.2197 - accuracy: 0.9397 - val_loss: 0.0834 - val_accuracy: 0.9816\n",
            "Epoch 10/25\n",
            "979/979 [==============================] - 160s 163ms/step - loss: 0.1966 - accuracy: 0.9480 - val_loss: 0.0515 - val_accuracy: 0.9868\n",
            "Epoch 11/25\n",
            "979/979 [==============================] - 159s 163ms/step - loss: 0.2087 - accuracy: 0.9432 - val_loss: 0.0436 - val_accuracy: 0.9905\n",
            "Epoch 12/25\n",
            "979/979 [==============================] - 158s 162ms/step - loss: 0.2099 - accuracy: 0.9433 - val_loss: 0.0405 - val_accuracy: 0.9908\n",
            "Epoch 13/25\n",
            "979/979 [==============================] - 158s 161ms/step - loss: 0.1716 - accuracy: 0.9528 - val_loss: 0.0550 - val_accuracy: 0.9865\n",
            "Epoch 14/25\n",
            "979/979 [==============================] - 159s 162ms/step - loss: 0.2086 - accuracy: 0.9464 - val_loss: 0.0344 - val_accuracy: 0.9911\n",
            "Epoch 15/25\n",
            "979/979 [==============================] - 160s 164ms/step - loss: 0.1856 - accuracy: 0.9521 - val_loss: 0.0451 - val_accuracy: 0.9897\n",
            "Epoch 16/25\n",
            "979/979 [==============================] - 159s 162ms/step - loss: 0.1731 - accuracy: 0.9552 - val_loss: 0.0323 - val_accuracy: 0.9911\n",
            "Epoch 17/25\n",
            "979/979 [==============================] - 160s 163ms/step - loss: 0.1754 - accuracy: 0.9541 - val_loss: 0.0384 - val_accuracy: 0.9920\n",
            "Epoch 18/25\n",
            "979/979 [==============================] - 159s 163ms/step - loss: 0.1722 - accuracy: 0.9559 - val_loss: 0.0626 - val_accuracy: 0.9793\n",
            "Epoch 19/25\n",
            "979/979 [==============================] - 160s 164ms/step - loss: 0.2084 - accuracy: 0.9466 - val_loss: 0.0219 - val_accuracy: 0.9937\n",
            "Epoch 20/25\n",
            "979/979 [==============================] - 160s 163ms/step - loss: 0.1746 - accuracy: 0.9538 - val_loss: 0.0372 - val_accuracy: 0.9914\n",
            "Epoch 21/25\n",
            "979/979 [==============================] - 161s 164ms/step - loss: 0.1613 - accuracy: 0.9584 - val_loss: 0.0407 - val_accuracy: 0.9914\n",
            "Epoch 22/25\n",
            "979/979 [==============================] - 160s 163ms/step - loss: 0.1873 - accuracy: 0.9544 - val_loss: 0.0345 - val_accuracy: 0.9931\n",
            "Epoch 23/25\n",
            "979/979 [==============================] - 160s 163ms/step - loss: 0.1566 - accuracy: 0.9597 - val_loss: 0.0525 - val_accuracy: 0.9876\n",
            "Epoch 24/25\n",
            "979/979 [==============================] - 160s 164ms/step - loss: 0.1652 - accuracy: 0.9579 - val_loss: 0.0369 - val_accuracy: 0.9914\n",
            "Epoch 25/25\n",
            "979/979 [==============================] - 159s 163ms/step - loss: 0.2176 - accuracy: 0.9504 - val_loss: 0.0356 - val_accuracy: 0.9911\n"
          ]
        }
      ]
    },
    {
      "cell_type": "code",
      "metadata": {
        "colab": {
          "base_uri": "https://localhost:8080/",
          "height": 579
        },
        "id": "r5t6PNqEkAY5",
        "outputId": "25b8eccc-382d-40bb-ad67-fb87c36abeeb"
      },
      "source": [
        "plt.figure(0)\n",
        "plt.plot(history.history['accuracy'], label='training accuracy')\n",
        "plt.plot(history.history['val_accuracy'], label='validation accuracy')\n",
        "plt.title(\"Accuracy\")\n",
        "plt.xlabel(\"Epochs\")\n",
        "plt.ylabel(\"accuracy\")\n",
        "plt.legend()\n",
        "plt.show()\n",
        "\n",
        "plt.figure(0)\n",
        "plt.plot(history.history['loss'], label='training loss')\n",
        "plt.plot(history.history['val_loss'], label='validation loss')\n",
        "plt.title(\"Loss\")\n",
        "plt.xlabel(\"Epochs\")\n",
        "plt.ylabel(\"loss\")\n",
        "plt.legend()\n",
        "plt.show()"
      ],
      "execution_count": 47,
      "outputs": [
        {
          "output_type": "display_data",
          "data": {
            "image/png": "[encoded data removed]",
            "text/plain": [
              "<Figure size 432x288 with 1 Axes>"
            ]
          },
          "metadata": {
            "image/png": {
              "width": 391,
              "height": 281
            },
            "needs_background": "light"
          }
        },
        {
          "output_type": "display_data",
          "data": {
            "image/png": "[encoded data removed]",
            "text/plain": [
              "<Figure size 432x288 with 1 Axes>"
            ]
          },
          "metadata": {
            "image/png": {
              "width": 398,
              "height": 281
            },
            "needs_background": "light"
          }
        }
      ]
    },
    {
      "cell_type": "markdown",
      "metadata": {
        "id": "wv1hpaeZnM1L"
      },
      "source": [
        "## Testing"
      ]
    },
    {
      "cell_type": "code",
      "metadata": {
        "colab": {
          "base_uri": "https://localhost:8080/"
        },
        "id": "PCCOUChwnNgK",
        "outputId": "012a0351-42c8-41a0-a269-2506f9ac5817"
      },
      "source": [
        "from sklearn.metrics import accuracy_score\n",
        "\n",
        "pred = np.argmax(model.predict(X_test), axis=-1)\n",
        "accuracy_score(y_test, pred)"
      ],
      "execution_count": 48,
      "outputs": [
        {
          "output_type": "execute_result",
          "data": {
            "text/plain": [
              "0.9573238321456848"
            ]
          },
          "metadata": {},
          "execution_count": 48
        }
      ]
    },
    {
      "cell_type": "code",
      "metadata": {
        "colab": {
          "base_uri": "https://localhost:8080/"
        },
        "id": "b1pJqk_Vnl8D",
        "outputId": "f6001dc8-39e4-47bf-b81f-2ee774f2e953"
      },
      "source": [
        "from sklearn.metrics import classification_report\n",
        "\n",
        "print(classification_report(y_test, pred))"
      ],
      "execution_count": 49,
      "outputs": [
        {
          "output_type": "stream",
          "name": "stdout",
          "text": [
            "              precision    recall  f1-score   support\n",
            "\n",
            "           0       0.95      0.97      0.96        60\n",
            "           1       0.91      0.98      0.95       720\n",
            "           2       0.95      0.99      0.97       750\n",
            "           3       0.94      0.97      0.96       450\n",
            "           4       0.98      0.97      0.98       660\n",
            "           5       0.95      0.94      0.95       630\n",
            "           6       0.98      0.83      0.90       150\n",
            "           7       0.97      0.96      0.96       450\n",
            "           8       0.94      0.99      0.97       450\n",
            "           9       0.97      1.00      0.98       480\n",
            "          10       0.99      0.98      0.99       660\n",
            "          11       0.96      0.91      0.93       420\n",
            "          12       1.00      0.99      1.00       690\n",
            "          13       0.99      0.99      0.99       720\n",
            "          14       0.99      1.00      0.99       270\n",
            "          15       0.99      0.96      0.98       210\n",
            "          16       0.98      0.99      0.99       150\n",
            "          17       0.99      0.99      0.99       360\n",
            "          18       0.93      0.87      0.90       390\n",
            "          19       0.98      0.88      0.93        60\n",
            "          20       0.87      0.90      0.89        90\n",
            "          21       0.88      0.90      0.89        90\n",
            "          22       0.98      0.88      0.93       120\n",
            "          23       0.87      0.99      0.93       150\n",
            "          24       0.90      0.77      0.83        90\n",
            "          25       0.96      0.96      0.96       480\n",
            "          26       0.85      0.86      0.85       180\n",
            "          27       0.73      0.53      0.62        60\n",
            "          28       0.95      0.99      0.97       150\n",
            "          29       0.88      0.91      0.90        90\n",
            "          30       0.80      0.87      0.83       150\n",
            "          31       0.94      0.99      0.97       270\n",
            "          32       0.86      1.00      0.92        60\n",
            "          33       0.98      0.99      0.99       210\n",
            "          34       1.00      0.99      1.00       120\n",
            "          35       0.99      0.95      0.97       390\n",
            "          36       0.99      0.93      0.96       120\n",
            "          37       1.00      0.92      0.96        60\n",
            "          38       0.98      0.97      0.98       690\n",
            "          39       0.99      0.89      0.94        90\n",
            "          40       0.91      0.78      0.84        90\n",
            "          41       0.75      0.87      0.81        60\n",
            "          42       0.92      0.80      0.86        90\n",
            "\n",
            "    accuracy                           0.96     12630\n",
            "   macro avg       0.94      0.93      0.93     12630\n",
            "weighted avg       0.96      0.96      0.96     12630\n",
            "\n"
          ]
        }
      ]
    }
  ]
}