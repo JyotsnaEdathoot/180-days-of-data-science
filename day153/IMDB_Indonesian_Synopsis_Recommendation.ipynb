{
  "nbformat": 4,
  "nbformat_minor": 0,
  "metadata": {
    "colab": {
      "name": "IMDB_Indonesian Synopsis_Recommendation.ipynb",
      "provenance": [],
      "collapsed_sections": []
    },
    "kernelspec": {
      "name": "python3",
      "display_name": "Python 3"
    },
    "language_info": {
      "name": "python"
    }
  },
  "cells": [
    {
      "cell_type": "markdown",
      "metadata": {
        "id": "pobt4mXnP5iA"
      },
      "source": [
        "# Sistem Rekomendasi Film Indonesia Menggunakan Teknik Content-Based Filtering\n",
        "\n",
        "Oleh: Handhika Yanuar Pratama"
      ]
    },
    {
      "cell_type": "markdown",
      "metadata": {
        "id": "q9w-GP0vQTNC"
      },
      "source": [
        "Pada proyek ini akan dibuat sistem rekomendasi film Indonesia untuk pengguna menggunakan *content-based filtering*. Dataset dari film ini diperoleh dari situs kaggle dengan judul [IMDB Synopsis Indonesian Movies](https://www.kaggle.com/antoniuscs/imdb-synopsis-indonesian-movies).\n"
      ]
    },
    {
      "cell_type": "markdown",
      "metadata": {
        "id": "YURc61ObzP-D"
      },
      "source": [
        "## Data Gathering"
      ]
    },
    {
      "cell_type": "code",
      "metadata": {
        "id": "JVmKLsEtkKb9",
        "colab": {
          "base_uri": "https://localhost:8080/"
        },
        "outputId": "0241163c-8b83-4fea-b572-85cc6851d5a9"
      },
      "source": [
        "!pip install kaggle # Melakukan instalasi module untuk menghubungkan colab dengan kaggle\n",
        "!mkdir ~/.kaggle # Membuat direktori untuk menyimpan konfigurasi API kaggle\n",
        "!cp kaggle.json ~/.kaggle/ # Memindahkan file API ke direktori yang dibuat sebelumnya\n",
        "!chmod 600 ~/.kaggle/kaggle.json # Mengubah privillege pada file API kaggle untuk memberikan akses read and write pada sistem (600)"
      ],
      "execution_count": null,
      "outputs": [
        {
          "output_type": "stream",
          "name": "stdout",
          "text": [
            "Requirement already satisfied: kaggle in /usr/local/lib/python3.7/dist-packages (1.5.12)\n",
            "Requirement already satisfied: tqdm in /usr/local/lib/python3.7/dist-packages (from kaggle) (4.62.3)\n",
            "Requirement already satisfied: python-dateutil in /usr/local/lib/python3.7/dist-packages (from kaggle) (2.8.2)\n",
            "Requirement already satisfied: python-slugify in /usr/local/lib/python3.7/dist-packages (from kaggle) (5.0.2)\n",
            "Requirement already satisfied: urllib3 in /usr/local/lib/python3.7/dist-packages (from kaggle) (1.24.3)\n",
            "Requirement already satisfied: requests in /usr/local/lib/python3.7/dist-packages (from kaggle) (2.23.0)\n",
            "Requirement already satisfied: six>=1.10 in /usr/local/lib/python3.7/dist-packages (from kaggle) (1.15.0)\n",
            "Requirement already satisfied: certifi in /usr/local/lib/python3.7/dist-packages (from kaggle) (2021.5.30)\n",
            "Requirement already satisfied: text-unidecode>=1.3 in /usr/local/lib/python3.7/dist-packages (from python-slugify->kaggle) (1.3)\n",
            "Requirement already satisfied: idna<3,>=2.5 in /usr/local/lib/python3.7/dist-packages (from requests->kaggle) (2.10)\n",
            "Requirement already satisfied: chardet<4,>=3.0.2 in /usr/local/lib/python3.7/dist-packages (from requests->kaggle) (3.0.4)\n",
            "mkdir: cannot create directory ‘/root/.kaggle’: File exists\n"
          ]
        }
      ]
    },
    {
      "cell_type": "code",
      "metadata": {
        "colab": {
          "base_uri": "https://localhost:8080/"
        },
        "id": "l3B850XUxUa6",
        "outputId": "cf8ff7b0-6deb-4d1e-860f-de3370da0ea2"
      },
      "source": [
        "!kaggle datasets download -d antoniuscs/imdb-synopsis-indonesian-movies # Mengunduh dataset dari kaggle ke colab"
      ],
      "execution_count": null,
      "outputs": [
        {
          "output_type": "stream",
          "name": "stdout",
          "text": [
            "Downloading imdb-synopsis-indonesian-movies.zip to /content\n",
            "\r  0% 0.00/299k [00:00<?, ?B/s]\n",
            "\r100% 299k/299k [00:00<00:00, 44.4MB/s]\n"
          ]
        }
      ]
    },
    {
      "cell_type": "code",
      "metadata": {
        "colab": {
          "base_uri": "https://localhost:8080/"
        },
        "id": "MW9wW_lnxWkR",
        "outputId": "bbc685e4-1a08-413b-a676-a2f8079d1e57"
      },
      "source": [
        "!unzip imdb-synopsis-indonesian-movies.zip # Melakukan ekstraksi file hasil unduhan kaggle"
      ],
      "execution_count": null,
      "outputs": [
        {
          "output_type": "stream",
          "name": "stdout",
          "text": [
            "Archive:  imdb-synopsis-indonesian-movies.zip\n",
            "  inflating: imdb_indonesian_movies_2.csv  \n"
          ]
        }
      ]
    },
    {
      "cell_type": "markdown",
      "metadata": {
        "id": "uThr4RS0xjul"
      },
      "source": [
        "## Import Modules and Dataset"
      ]
    },
    {
      "cell_type": "code",
      "metadata": {
        "id": "ziqIxRdYxhLI",
        "colab": {
          "base_uri": "https://localhost:8080/"
        },
        "outputId": "6a62014d-7235-43b5-8195-5272a8fc8ab2"
      },
      "source": [
        "# Module untuk pengolahan data\n",
        "from sklearn.feature_extraction.text import TfidfVectorizer # Melakukan ekstraksi fitur pada text menggunakan TfidfVectorizer\n",
        "from nltk.corpus import stopwords # Menerapkan stopwords pada data teks\n",
        "import nltk # Membantu pekerjaan yang berkaitan dengan pengolahan teks\n",
        "nltk.download('stopwords') # Melakukan pengunduhan stopwords untuk nantinya diterapkan pada text\n",
        "import pandas as pd # Melakukan pengolahan data dalam bentuk dataframes\n",
        "import numpy as np # Melakukan pengolahan data numerik\n",
        "\n",
        "# Module untuk visualisasi data\n",
        "import matplotlib.pyplot as plt # Melakukan visualisasi data\n",
        "\n",
        "# Module untuk pembuatan sistem rekomendasi\n",
        "from sklearn.metrics.pairwise import sigmoid_kernel # Membuat model menggunakan teknik sigmoid kernel\n",
        "\n",
        "# Module untuk evaluasi model sistem rekomendasi\n",
        "from sklearn.metrics import calinski_harabasz_score, davies_bouldin_score # Matriks umum untuk melakukan evaluasi pada model sistem rekomendasi"
      ],
      "execution_count": null,
      "outputs": [
        {
          "output_type": "stream",
          "name": "stdout",
          "text": [
            "[nltk_data] Downloading package stopwords to /root/nltk_data...\n",
            "[nltk_data]   Package stopwords is already up-to-date!\n"
          ]
        }
      ]
    },
    {
      "cell_type": "code",
      "metadata": {
        "id": "LOnZLWQsxns4"
      },
      "source": [
        "# Membaca dataset yang telah diunduh menggunakan pandas\n",
        "df = pd.read_csv(\"imdb_indonesian_movies_2.csv\")"
      ],
      "execution_count": null,
      "outputs": []
    },
    {
      "cell_type": "markdown",
      "metadata": {
        "id": "VWW2gxSEzMo8"
      },
      "source": [
        "## Data Understanding"
      ]
    },
    {
      "cell_type": "code",
      "metadata": {
        "colab": {
          "base_uri": "https://localhost:8080/",
          "height": 200
        },
        "id": "j0ayzNFixvrg",
        "outputId": "94b3903f-c086-4970-9749-7f7fbbfcb340"
      },
      "source": [
        "# Melihat lima baris pertama dari dataset\n",
        "df.head()"
      ],
      "execution_count": null,
      "outputs": [
        {
          "output_type": "execute_result",
          "data": {
            "text/html": [
              "<div>\n",
              "<style scoped>\n",
              "    .dataframe tbody tr th:only-of-type {\n",
              "        vertical-align: middle;\n",
              "    }\n",
              "\n",
              "    .dataframe tbody tr th {\n",
              "        vertical-align: top;\n",
              "    }\n",
              "\n",
              "    .dataframe thead th {\n",
              "        text-align: right;\n",
              "    }\n",
              "</style>\n",
              "<table border=\"1\" class=\"dataframe\">\n",
              "  <thead>\n",
              "    <tr style=\"text-align: right;\">\n",
              "      <th></th>\n",
              "      <th>judul_film</th>\n",
              "      <th>ringkasan_sinopsis</th>\n",
              "      <th>genre</th>\n",
              "    </tr>\n",
              "  </thead>\n",
              "  <tbody>\n",
              "    <tr>\n",
              "      <th>0</th>\n",
              "      <td>Sunan Kalijaga</td>\n",
              "      <td>Raden Mas Said putra sulung Tumenggung Wilarik...</td>\n",
              "      <td>Drama</td>\n",
              "    </tr>\n",
              "    <tr>\n",
              "      <th>1</th>\n",
              "      <td>Gie</td>\n",
              "      <td>Soe Hok Gie adalah seorang aktivis yang hidup ...</td>\n",
              "      <td>Drama</td>\n",
              "    </tr>\n",
              "    <tr>\n",
              "      <th>2</th>\n",
              "      <td>Guru Bangsa Tjokroaminoto</td>\n",
              "      <td>Guru Bangsa Tjokroaminoto menceritakan tentang...</td>\n",
              "      <td>Drama</td>\n",
              "    </tr>\n",
              "    <tr>\n",
              "      <th>3</th>\n",
              "      <td>POL Movie</td>\n",
              "      <td>POL menceritakan kisah hidup yang luar biasa d...</td>\n",
              "      <td>Drama</td>\n",
              "    </tr>\n",
              "    <tr>\n",
              "      <th>4</th>\n",
              "      <td>Sang pencerah</td>\n",
              "      <td>Perjalanan pahlawan Indonesia KH Ahmad Dahlan ...</td>\n",
              "      <td>Drama</td>\n",
              "    </tr>\n",
              "  </tbody>\n",
              "</table>\n",
              "</div>"
            ],
            "text/plain": [
              "                  judul_film  ...  genre\n",
              "0             Sunan Kalijaga  ...  Drama\n",
              "1                        Gie  ...  Drama\n",
              "2  Guru Bangsa Tjokroaminoto  ...  Drama\n",
              "3                  POL Movie  ...  Drama\n",
              "4              Sang pencerah  ...  Drama\n",
              "\n",
              "[5 rows x 3 columns]"
            ]
          },
          "metadata": {},
          "execution_count": 128
        }
      ]
    },
    {
      "cell_type": "code",
      "metadata": {
        "colab": {
          "base_uri": "https://localhost:8080/"
        },
        "id": "vFAMruXkxwnZ",
        "outputId": "ff252b4e-4d64-4cb3-f05b-72f9fbb71719"
      },
      "source": [
        "# Melihat genre film yang tersedia dari dataset tersebut\n",
        "df.genre.value_counts()"
      ],
      "execution_count": null,
      "outputs": [
        {
          "output_type": "execute_result",
          "data": {
            "text/plain": [
              "Laga        202\n",
              "Drama       202\n",
              "Komedi      201\n",
              "Romantis    200\n",
              "Horor       200\n",
              "Name: genre, dtype: int64"
            ]
          },
          "metadata": {},
          "execution_count": 129
        }
      ]
    },
    {
      "cell_type": "code",
      "metadata": {
        "id": "Y-2FbEDtxyzu",
        "colab": {
          "base_uri": "https://localhost:8080/",
          "height": 318
        },
        "outputId": "e4d68d58-b0e7-4de9-8ef5-43dd78665dc0"
      },
      "source": [
        "# Melakukan visualisasi dari genre film\n",
        "df.genre.value_counts().plot(kind='bar')"
      ],
      "execution_count": null,
      "outputs": [
        {
          "output_type": "execute_result",
          "data": {
            "text/plain": [
              "<matplotlib.axes._subplots.AxesSubplot at 0x7f6f14e855d0>"
            ]
          },
          "metadata": {},
          "execution_count": 130
        },
        {
          "output_type": "display_data",
          "data": {
            "image/png": "[encoded data removed]",
            "text/plain": [
              "<Figure size 432x288 with 1 Axes>"
            ]
          },
          "metadata": {
            "needs_background": "light"
          }
        }
      ]
    },
    {
      "cell_type": "code",
      "metadata": {
        "colab": {
          "base_uri": "https://localhost:8080/"
        },
        "id": "YUVfE_mgxyw_",
        "outputId": "7d2aff5c-e5e8-4f1e-a273-f1a8f7dc67c4"
      },
      "source": [
        "# Melihat ukuran dataset\n",
        "df.shape"
      ],
      "execution_count": null,
      "outputs": [
        {
          "output_type": "execute_result",
          "data": {
            "text/plain": [
              "(1005, 3)"
            ]
          },
          "metadata": {},
          "execution_count": 131
        }
      ]
    },
    {
      "cell_type": "code",
      "metadata": {
        "colab": {
          "base_uri": "https://localhost:8080/"
        },
        "id": "3ah6QQZNyB9h",
        "outputId": "1b604d2e-8936-4b91-8e53-5409a6475c60"
      },
      "source": [
        "# Menampilkan informasi umum dari dataset\n",
        "df.info()"
      ],
      "execution_count": null,
      "outputs": [
        {
          "output_type": "stream",
          "name": "stdout",
          "text": [
            "<class 'pandas.core.frame.DataFrame'>\n",
            "RangeIndex: 1005 entries, 0 to 1004\n",
            "Data columns (total 3 columns):\n",
            " #   Column              Non-Null Count  Dtype \n",
            "---  ------              --------------  ----- \n",
            " 0   judul_film          1005 non-null   object\n",
            " 1   ringkasan_sinopsis  1005 non-null   object\n",
            " 2   genre               1005 non-null   object\n",
            "dtypes: object(3)\n",
            "memory usage: 23.7+ KB\n"
          ]
        }
      ]
    },
    {
      "cell_type": "markdown",
      "metadata": {
        "id": "dn_a0CWbyFu7"
      },
      "source": [
        "Dari proses pemahaman dataset di atas diperoleh informasi sebagai berikut:\n",
        "1. Data terdiri dari tiga buah kolom antara lain judul_film, ringkasan_sinopsis, dan genre\n",
        "2. Data terdiri dari 1005 baris dan tidak ada nilai *null* pada data tersebut\n",
        "3. Terdapat lima genre film yang tersedia pada dataset yang mana genre tersebut terdiri dari Drama, Laga, Komedi, Romantis, dan Horor"
      ]
    },
    {
      "cell_type": "code",
      "metadata": {
        "colab": {
          "base_uri": "https://localhost:8080/",
          "height": 181
        },
        "id": "P5FW_GKJyECA",
        "outputId": "1594ef9c-68e2-4a2f-b8f8-13bf78a65844"
      },
      "source": [
        "# Memeriksa salah satu isi dari kolom ringkasan_sinopsis\n",
        "df.ringkasan_sinopsis[0]"
      ],
      "execution_count": null,
      "outputs": [
        {
          "output_type": "execute_result",
          "data": {
            "application/vnd.google.colaboratory.intrinsic+json": {
              "type": "string"
            },
            "text/plain": [
              "'Raden Mas Said putra sulung Tumenggung Wilarikta di bawah Kerajaan Majapahit yang berkuasa di wilayah Tuban melihat sekeluarga miskin yang menderita busung lapar. Ia merasa sangat prihatin dan hati nuraninya tergugah untuk menolong. Kemudian ia mencoba secara diam-diam mengambil makanan dari lumbung orang tuanya. Perbuatan itu tidak disetujui orang tuanya bahkan ia dihukum sekap di gudang makanan itu. Sejak kejadian itu RM Said yang tumbuh dewasa tidak betah tinggal di rumah. Ia berkelana dari daerah satu ke daerah lainnya. Dari sanalah ia tahu betapa banyak penyelewengan dan kesewenang-wenangan para lurah yang munafik. Mereka selalu mengkambing-hitamkan Tumenggung untuk menutupi kejahatannya. Atas laporan RM Said ayahnya kemudian sadar. Tetapi kemudian ia dianggap sebagai sumber fitnah. Dalam kelananya kemudian ia bertemu dengan Sunan Bonang yang banyak mencurahkan ilmunya kepada RM Said. Ia pun kemudian melakukan tapa di pinggir kali. Berkat ketabahannya menghadapi berbagai cobaan RM Said mendapatkan \"Nur\" (kekuatan) dari Ilahi. Kemudian ia diangkat menjadi Wali yang terkenal dalam deretan nama Sembilan Wali (Wali Sanga) dengan nama Sunan Kalijaga.'"
            ]
          },
          "metadata": {},
          "execution_count": 11
        }
      ]
    },
    {
      "cell_type": "markdown",
      "metadata": {
        "id": "VKuoEbHRVDTq"
      },
      "source": [
        "## Data Preparation"
      ]
    },
    {
      "cell_type": "code",
      "metadata": {
        "id": "BVciXiWiP80k"
      },
      "source": [
        "tfidf = TfidfVectorizer()"
      ],
      "execution_count": null,
      "outputs": []
    },
    {
      "cell_type": "code",
      "metadata": {
        "id": "rupd8J3p4Q8W"
      },
      "source": [
        "# Membuat fungsi TfidfVectorizer dan menyimpannya ke dalam variabel bernama tfidf\n",
        "tfidf = TfidfVectorizer(strip_accents='unicode', # Menghilangkan aksen dan menerapkan normalisasi karakter unicode\n",
        "                        analyzer='word', # Membuat fitur yang terbuat dari kata atau karakter n-gram\n",
        "                        token_pattern=r'\\w{1,}', # Menerapkan regular expression dalam pembuatan token\n",
        "                        ngram_range=(1,3), # Batas atas dan bawah kisaran nilai n-gram berbeda untuk diekstraksi\n",
        "                        stop_words=stopwords.words('indonesian')) # Menerapkan stopwrods Indonesia"
      ],
      "execution_count": null,
      "outputs": []
    },
    {
      "cell_type": "code",
      "metadata": {
        "id": "S7YF9DqX4rYV"
      },
      "source": [
        "# Melakukan transformasi feature dari teks menjadi vektor dengan tfidf pada ringkasan sinopsis\n",
        "tfidf_matrix = tfidf.fit_transform(df['ringkasan_sinopsis'])"
      ],
      "execution_count": null,
      "outputs": []
    },
    {
      "cell_type": "code",
      "metadata": {
        "colab": {
          "base_uri": "https://localhost:8080/"
        },
        "id": "lf_ZqN2H4yc2",
        "outputId": "71278151-ed38-4fff-d61d-cd28637a90f5"
      },
      "source": [
        "# Memeriksa output hasil vektorisasi teks menggunakan tfidfvectorizer\n",
        "tfidf_matrix"
      ],
      "execution_count": null,
      "outputs": [
        {
          "output_type": "execute_result",
          "data": {
            "text/plain": [
              "<1005x13515 sparse matrix of type '<class 'numpy.float64'>'\n",
              "\twith 77522 stored elements in Compressed Sparse Row format>"
            ]
          },
          "metadata": {},
          "execution_count": 135
        }
      ]
    },
    {
      "cell_type": "code",
      "metadata": {
        "colab": {
          "base_uri": "https://localhost:8080/"
        },
        "id": "dmsS_4QQ5-VK",
        "outputId": "40331314-8b6b-4632-c161-c010b4a20fa6"
      },
      "source": [
        "# Melihat ukuran data dari tfidf_matrix\n",
        "tfidf_matrix.shape"
      ],
      "execution_count": null,
      "outputs": [
        {
          "output_type": "execute_result",
          "data": {
            "text/plain": [
              "(1005, 13515)"
            ]
          },
          "metadata": {},
          "execution_count": 136
        }
      ]
    },
    {
      "cell_type": "markdown",
      "metadata": {
        "id": "G8-O_9ccVFIH"
      },
      "source": [
        "## Data Modelling"
      ]
    },
    {
      "cell_type": "markdown",
      "metadata": {
        "id": "LcF0Nms1U6z1"
      },
      "source": [
        "### Menggunakan Cosine Similarity"
      ]
    },
    {
      "cell_type": "code",
      "metadata": {
        "id": "y-ZGN0xA7PBR"
      },
      "source": [
        "# Menghitung cosine similarity dari dataframe\n",
        "cosine_sim = cosine_similarity(tfidf_matrix)"
      ],
      "execution_count": null,
      "outputs": []
    },
    {
      "cell_type": "code",
      "metadata": {
        "colab": {
          "base_uri": "https://localhost:8080/",
          "height": 331
        },
        "id": "yv9Yx4RB7O-S",
        "outputId": "5ba9f812-b73f-48a5-b258-5745ab842ed0"
      },
      "source": [
        "# Menyimpan hasil perhitungan pada dataframe\n",
        "cosine_sim_df = pd.DataFrame(cosine_sim, index=df['judul_film'], columns=df['judul_film'])\n",
        "cosine_sim_df.head(3)"
      ],
      "execution_count": null,
      "outputs": [
        {
          "output_type": "execute_result",
          "data": {
            "text/html": [
              "<div>\n",
              "<style scoped>\n",
              "    .dataframe tbody tr th:only-of-type {\n",
              "        vertical-align: middle;\n",
              "    }\n",
              "\n",
              "    .dataframe tbody tr th {\n",
              "        vertical-align: top;\n",
              "    }\n",
              "\n",
              "    .dataframe thead th {\n",
              "        text-align: right;\n",
              "    }\n",
              "</style>\n",
              "<table border=\"1\" class=\"dataframe\">\n",
              "  <thead>\n",
              "    <tr style=\"text-align: right;\">\n",
              "      <th>judul_film</th>\n",
              "      <th>Sunan Kalijaga</th>\n",
              "      <th>Gie</th>\n",
              "      <th>Guru Bangsa Tjokroaminoto</th>\n",
              "      <th>POL Movie</th>\n",
              "      <th>Sang pencerah</th>\n",
              "      <th>Sundul Gan: The Story of Kaskus</th>\n",
              "      <th>Maju Terus!</th>\n",
              "      <th>Pendidik Berjiwa Merdeka</th>\n",
              "      <th>Jokowi</th>\n",
              "      <th>Jaka Sembung &amp; Bergola Ijo</th>\n",
              "      <th>Brownies</th>\n",
              "      <th>Adèle</th>\n",
              "      <th>An Extraordinary Mother</th>\n",
              "      <th>Iblis Jalanan: Street Demon</th>\n",
              "      <th>Precious Herbs</th>\n",
              "      <th>Anak sabiran di balik cahaya gemerlapan: Sang arsip</th>\n",
              "      <th>Anak-Anak Srikandi</th>\n",
              "      <th>Banda the Dark Forgotten Trail</th>\n",
              "      <th>Denok &amp; Gareng</th>\n",
              "      <th>Tarling is Darling</th>\n",
              "      <th>Terraform</th>\n",
              "      <th>The Year of Living Vicariously</th>\n",
              "      <th>Menarung Jiwani</th>\n",
              "      <th>Prison and Paradise</th>\n",
              "      <th>Rock in Solo: Heritage Metalfest</th>\n",
              "      <th>Kitos, Selamat Tinggal Kota Merah</th>\n",
              "      <th>3600 Detik</th>\n",
              "      <th>A Man Called Ahok</th>\n",
              "      <th>Tanah air beta</th>\n",
              "      <th>Tendangan dari langit</th>\n",
              "      <th>3 Nafas Likas</th>\n",
              "      <th>Aib #Cyberbully</th>\n",
              "      <th>Air Mata Terakhir Bunda</th>\n",
              "      <th>Akibat pergaulan bebas</th>\n",
              "      <th>Alas Pati: Hutan Mati</th>\n",
              "      <th>Aruna &amp; Lidahnya</th>\n",
              "      <th>Babi buta yang ingin terbang</th>\n",
              "      <th>Badai jalanan</th>\n",
              "      <th>Barbi3</th>\n",
              "      <th>Batas</th>\n",
              "      <th>...</th>\n",
              "      <th>Dear Nathan Hello Salma</th>\n",
              "      <th>Di dadaku ada cinta</th>\n",
              "      <th>From Bandung with Love</th>\n",
              "      <th>Gita cinta dari SMA</th>\n",
              "      <th>Hanum &amp; Rangga: Faith &amp; The City</th>\n",
              "      <th>I Love You from 38000 Feet</th>\n",
              "      <th>I Love You Om…</th>\n",
              "      <th>It's Not Here Anymore</th>\n",
              "      <th>Jakarta Love Story</th>\n",
              "      <th>Karena dia</th>\n",
              "      <th>Kisah Dua Jendela</th>\n",
              "      <th>Kukejar Cinta ke Negeri Cina</th>\n",
              "      <th>Lost in Love</th>\n",
              "      <th>Love Story</th>\n",
              "      <th>Love Story (I)</th>\n",
              "      <th>Me vs. High Heels</th>\n",
              "      <th>Merangkul langit</th>\n",
              "      <th>Misteri cinta</th>\n",
              "      <th>Pupus</th>\n",
              "      <th>Purple Love</th>\n",
              "      <th>R - Raja Ratu &amp; Rahasia</th>\n",
              "      <th>Remember When</th>\n",
              "      <th>Roda-roda asmara di bukit sentul</th>\n",
              "      <th>Roman picisan</th>\n",
              "      <th>Rompis</th>\n",
              "      <th>Ruang</th>\n",
              "      <th>Rudy Habibie</th>\n",
              "      <th>Sang Penari</th>\n",
              "      <th>Selingkuh</th>\n",
              "      <th>Siluman Teluk Gonggo</th>\n",
              "      <th>Tentang cinta</th>\n",
              "      <th>The Perfect Husband</th>\n",
              "      <th>The Right One (I)</th>\n",
              "      <th>The Sinking of Van Der Wijck</th>\n",
              "      <th>The Sun The Moon &amp; The Hurricane</th>\n",
              "      <th>Winter in Tokyo</th>\n",
              "      <th>Petualang Cinta</th>\n",
              "      <th>Last Night (III)</th>\n",
              "      <th>Path of Light</th>\n",
              "      <th>Kulihat cinta di matanya</th>\n",
              "    </tr>\n",
              "    <tr>\n",
              "      <th>judul_film</th>\n",
              "      <th></th>\n",
              "      <th></th>\n",
              "      <th></th>\n",
              "      <th></th>\n",
              "      <th></th>\n",
              "      <th></th>\n",
              "      <th></th>\n",
              "      <th></th>\n",
              "      <th></th>\n",
              "      <th></th>\n",
              "      <th></th>\n",
              "      <th></th>\n",
              "      <th></th>\n",
              "      <th></th>\n",
              "      <th></th>\n",
              "      <th></th>\n",
              "      <th></th>\n",
              "      <th></th>\n",
              "      <th></th>\n",
              "      <th></th>\n",
              "      <th></th>\n",
              "      <th></th>\n",
              "      <th></th>\n",
              "      <th></th>\n",
              "      <th></th>\n",
              "      <th></th>\n",
              "      <th></th>\n",
              "      <th></th>\n",
              "      <th></th>\n",
              "      <th></th>\n",
              "      <th></th>\n",
              "      <th></th>\n",
              "      <th></th>\n",
              "      <th></th>\n",
              "      <th></th>\n",
              "      <th></th>\n",
              "      <th></th>\n",
              "      <th></th>\n",
              "      <th></th>\n",
              "      <th></th>\n",
              "      <th></th>\n",
              "      <th></th>\n",
              "      <th></th>\n",
              "      <th></th>\n",
              "      <th></th>\n",
              "      <th></th>\n",
              "      <th></th>\n",
              "      <th></th>\n",
              "      <th></th>\n",
              "      <th></th>\n",
              "      <th></th>\n",
              "      <th></th>\n",
              "      <th></th>\n",
              "      <th></th>\n",
              "      <th></th>\n",
              "      <th></th>\n",
              "      <th></th>\n",
              "      <th></th>\n",
              "      <th></th>\n",
              "      <th></th>\n",
              "      <th></th>\n",
              "      <th></th>\n",
              "      <th></th>\n",
              "      <th></th>\n",
              "      <th></th>\n",
              "      <th></th>\n",
              "      <th></th>\n",
              "      <th></th>\n",
              "      <th></th>\n",
              "      <th></th>\n",
              "      <th></th>\n",
              "      <th></th>\n",
              "      <th></th>\n",
              "      <th></th>\n",
              "      <th></th>\n",
              "      <th></th>\n",
              "      <th></th>\n",
              "      <th></th>\n",
              "      <th></th>\n",
              "      <th></th>\n",
              "      <th></th>\n",
              "    </tr>\n",
              "  </thead>\n",
              "  <tbody>\n",
              "    <tr>\n",
              "      <th>Sunan Kalijaga</th>\n",
              "      <td>1.000000</td>\n",
              "      <td>0.019970</td>\n",
              "      <td>0.036425</td>\n",
              "      <td>0.030350</td>\n",
              "      <td>0.046544</td>\n",
              "      <td>0.037039</td>\n",
              "      <td>0.049529</td>\n",
              "      <td>0.024061</td>\n",
              "      <td>0.070029</td>\n",
              "      <td>0.009043</td>\n",
              "      <td>0.074009</td>\n",
              "      <td>0.038726</td>\n",
              "      <td>0.059595</td>\n",
              "      <td>0.050627</td>\n",
              "      <td>0.050251</td>\n",
              "      <td>0.039224</td>\n",
              "      <td>0.019959</td>\n",
              "      <td>0.043218</td>\n",
              "      <td>0.036280</td>\n",
              "      <td>0.033071</td>\n",
              "      <td>0.033554</td>\n",
              "      <td>0.023311</td>\n",
              "      <td>0.035301</td>\n",
              "      <td>0.016730</td>\n",
              "      <td>0.016322</td>\n",
              "      <td>0.026170</td>\n",
              "      <td>0.032007</td>\n",
              "      <td>0.034627</td>\n",
              "      <td>0.043299</td>\n",
              "      <td>0.057203</td>\n",
              "      <td>0.029918</td>\n",
              "      <td>0.016847</td>\n",
              "      <td>0.039196</td>\n",
              "      <td>0.018730</td>\n",
              "      <td>0.057349</td>\n",
              "      <td>0.048252</td>\n",
              "      <td>0.032676</td>\n",
              "      <td>0.043145</td>\n",
              "      <td>0.060395</td>\n",
              "      <td>0.034217</td>\n",
              "      <td>...</td>\n",
              "      <td>0.025566</td>\n",
              "      <td>0.037260</td>\n",
              "      <td>0.045214</td>\n",
              "      <td>0.000000</td>\n",
              "      <td>0.015316</td>\n",
              "      <td>0.020217</td>\n",
              "      <td>0.008572</td>\n",
              "      <td>0.013628</td>\n",
              "      <td>0.027789</td>\n",
              "      <td>0.024409</td>\n",
              "      <td>0.000000</td>\n",
              "      <td>0.022031</td>\n",
              "      <td>0.000000</td>\n",
              "      <td>0.018321</td>\n",
              "      <td>0.034686</td>\n",
              "      <td>0.062200</td>\n",
              "      <td>0.026422</td>\n",
              "      <td>0.024634</td>\n",
              "      <td>0.067098</td>\n",
              "      <td>0.043440</td>\n",
              "      <td>0.014863</td>\n",
              "      <td>0.031512</td>\n",
              "      <td>0.012512</td>\n",
              "      <td>0.023301</td>\n",
              "      <td>0.044277</td>\n",
              "      <td>0.042746</td>\n",
              "      <td>0.030626</td>\n",
              "      <td>0.059632</td>\n",
              "      <td>0.023787</td>\n",
              "      <td>0.044197</td>\n",
              "      <td>0.023412</td>\n",
              "      <td>0.009201</td>\n",
              "      <td>0.045175</td>\n",
              "      <td>0.019373</td>\n",
              "      <td>0.057292</td>\n",
              "      <td>0.040814</td>\n",
              "      <td>0.069713</td>\n",
              "      <td>0.036261</td>\n",
              "      <td>0.029233</td>\n",
              "      <td>0.056843</td>\n",
              "    </tr>\n",
              "    <tr>\n",
              "      <th>Gie</th>\n",
              "      <td>0.019970</td>\n",
              "      <td>1.000000</td>\n",
              "      <td>0.067521</td>\n",
              "      <td>0.051001</td>\n",
              "      <td>0.014549</td>\n",
              "      <td>0.040041</td>\n",
              "      <td>0.032640</td>\n",
              "      <td>0.031060</td>\n",
              "      <td>0.046824</td>\n",
              "      <td>0.006460</td>\n",
              "      <td>0.024843</td>\n",
              "      <td>0.040218</td>\n",
              "      <td>0.030282</td>\n",
              "      <td>0.033038</td>\n",
              "      <td>0.055008</td>\n",
              "      <td>0.072383</td>\n",
              "      <td>0.029894</td>\n",
              "      <td>0.027348</td>\n",
              "      <td>0.011726</td>\n",
              "      <td>0.026661</td>\n",
              "      <td>0.045512</td>\n",
              "      <td>0.124616</td>\n",
              "      <td>0.039658</td>\n",
              "      <td>0.008304</td>\n",
              "      <td>0.017260</td>\n",
              "      <td>0.076994</td>\n",
              "      <td>0.012331</td>\n",
              "      <td>0.009363</td>\n",
              "      <td>0.028589</td>\n",
              "      <td>0.036122</td>\n",
              "      <td>0.033622</td>\n",
              "      <td>0.005200</td>\n",
              "      <td>0.016328</td>\n",
              "      <td>0.003809</td>\n",
              "      <td>0.014987</td>\n",
              "      <td>0.005755</td>\n",
              "      <td>0.016118</td>\n",
              "      <td>0.001241</td>\n",
              "      <td>0.021529</td>\n",
              "      <td>0.015643</td>\n",
              "      <td>...</td>\n",
              "      <td>0.007772</td>\n",
              "      <td>0.006359</td>\n",
              "      <td>0.019017</td>\n",
              "      <td>0.000000</td>\n",
              "      <td>0.005956</td>\n",
              "      <td>0.008885</td>\n",
              "      <td>0.015613</td>\n",
              "      <td>0.000000</td>\n",
              "      <td>0.009464</td>\n",
              "      <td>0.013457</td>\n",
              "      <td>0.000000</td>\n",
              "      <td>0.007765</td>\n",
              "      <td>0.000000</td>\n",
              "      <td>0.004318</td>\n",
              "      <td>0.014442</td>\n",
              "      <td>0.005477</td>\n",
              "      <td>0.011145</td>\n",
              "      <td>0.021684</td>\n",
              "      <td>0.024950</td>\n",
              "      <td>0.008168</td>\n",
              "      <td>0.000000</td>\n",
              "      <td>0.017489</td>\n",
              "      <td>0.012656</td>\n",
              "      <td>0.019528</td>\n",
              "      <td>0.012830</td>\n",
              "      <td>0.039048</td>\n",
              "      <td>0.024364</td>\n",
              "      <td>0.030163</td>\n",
              "      <td>0.009050</td>\n",
              "      <td>0.008061</td>\n",
              "      <td>0.018429</td>\n",
              "      <td>0.044557</td>\n",
              "      <td>0.023374</td>\n",
              "      <td>0.040523</td>\n",
              "      <td>0.027736</td>\n",
              "      <td>0.019800</td>\n",
              "      <td>0.022180</td>\n",
              "      <td>0.018562</td>\n",
              "      <td>0.022610</td>\n",
              "      <td>0.015761</td>\n",
              "    </tr>\n",
              "    <tr>\n",
              "      <th>Guru Bangsa Tjokroaminoto</th>\n",
              "      <td>0.036425</td>\n",
              "      <td>0.067521</td>\n",
              "      <td>1.000000</td>\n",
              "      <td>0.067044</td>\n",
              "      <td>0.008571</td>\n",
              "      <td>0.021399</td>\n",
              "      <td>0.107307</td>\n",
              "      <td>0.095370</td>\n",
              "      <td>0.044024</td>\n",
              "      <td>0.023476</td>\n",
              "      <td>0.037460</td>\n",
              "      <td>0.015683</td>\n",
              "      <td>0.058485</td>\n",
              "      <td>0.040969</td>\n",
              "      <td>0.041423</td>\n",
              "      <td>0.016176</td>\n",
              "      <td>0.027830</td>\n",
              "      <td>0.102826</td>\n",
              "      <td>0.019261</td>\n",
              "      <td>0.020122</td>\n",
              "      <td>0.039419</td>\n",
              "      <td>0.049367</td>\n",
              "      <td>0.019446</td>\n",
              "      <td>0.025892</td>\n",
              "      <td>0.024320</td>\n",
              "      <td>0.034297</td>\n",
              "      <td>0.030179</td>\n",
              "      <td>0.026251</td>\n",
              "      <td>0.039045</td>\n",
              "      <td>0.036001</td>\n",
              "      <td>0.016340</td>\n",
              "      <td>0.009592</td>\n",
              "      <td>0.044253</td>\n",
              "      <td>0.033027</td>\n",
              "      <td>0.045734</td>\n",
              "      <td>0.002800</td>\n",
              "      <td>0.027348</td>\n",
              "      <td>0.007852</td>\n",
              "      <td>0.019103</td>\n",
              "      <td>0.054820</td>\n",
              "      <td>...</td>\n",
              "      <td>0.023550</td>\n",
              "      <td>0.008857</td>\n",
              "      <td>0.019986</td>\n",
              "      <td>0.026695</td>\n",
              "      <td>0.039454</td>\n",
              "      <td>0.022805</td>\n",
              "      <td>0.020341</td>\n",
              "      <td>0.003912</td>\n",
              "      <td>0.010541</td>\n",
              "      <td>0.023812</td>\n",
              "      <td>0.030998</td>\n",
              "      <td>0.013589</td>\n",
              "      <td>0.037043</td>\n",
              "      <td>0.023555</td>\n",
              "      <td>0.024144</td>\n",
              "      <td>0.012235</td>\n",
              "      <td>0.033929</td>\n",
              "      <td>0.019597</td>\n",
              "      <td>0.043127</td>\n",
              "      <td>0.018309</td>\n",
              "      <td>0.030818</td>\n",
              "      <td>0.028175</td>\n",
              "      <td>0.022211</td>\n",
              "      <td>0.056753</td>\n",
              "      <td>0.103116</td>\n",
              "      <td>0.045832</td>\n",
              "      <td>0.062579</td>\n",
              "      <td>0.071179</td>\n",
              "      <td>0.015376</td>\n",
              "      <td>0.067139</td>\n",
              "      <td>0.027548</td>\n",
              "      <td>0.024241</td>\n",
              "      <td>0.043306</td>\n",
              "      <td>0.044895</td>\n",
              "      <td>0.058306</td>\n",
              "      <td>0.032222</td>\n",
              "      <td>0.040035</td>\n",
              "      <td>0.025530</td>\n",
              "      <td>0.053171</td>\n",
              "      <td>0.014925</td>\n",
              "    </tr>\n",
              "  </tbody>\n",
              "</table>\n",
              "<p>3 rows × 1005 columns</p>\n",
              "</div>"
            ],
            "text/plain": [
              "judul_film                 Sunan Kalijaga  ...  Kulihat cinta di matanya\n",
              "judul_film                                 ...                          \n",
              "Sunan Kalijaga                   1.000000  ...                  0.056843\n",
              "Gie                              0.019970  ...                  0.015761\n",
              "Guru Bangsa Tjokroaminoto        0.036425  ...                  0.014925\n",
              "\n",
              "[3 rows x 1005 columns]"
            ]
          },
          "metadata": {},
          "execution_count": 138
        }
      ]
    },
    {
      "cell_type": "code",
      "metadata": {
        "id": "Cha31NvG7O7w"
      },
      "source": [
        "# Membuat fungsi untuk mendapatkan rekomendasi\n",
        "# Dengan Cosine Similarity\n",
        "def getRecommendedApps_cosine(film:str, recommended_apps:int=5):\n",
        "  print(f'Apabila pengguna menyukai film {film[0]}\\n5 film berikut ini juga mungkin akan disukai :')\n",
        "  # Mencari nilai unik pada film yang disukai pengguna di baris dataframe cosine sim\n",
        "  # Nilai unik (arr) dikembalikan dalam bentuk yang berurutan dari kecil ke besar \n",
        "  arr, ind = np.unique(cosine_sim_df.loc[film[0]], return_index=True)\n",
        "  # Memasukkan nama film yang serupa dari index kedua terakhir sampai index n terakhir\n",
        "  similar_app = []\n",
        "  for index in ind[-(recommended_apps+1):-1]:\n",
        "    similar_app.append(df.loc[index][0])\n",
        "  # Memasukkan skor cosine dari film yang serupa mulai dari index kedua terakhir sampai index n terakhir\n",
        "  cosine_score = []\n",
        "  for score in arr[-(recommended_apps+1):-1]:\n",
        "    cosine_score.append(score)\n",
        "  # Mengembalikan sebuah dataframe berupa rekomendasi terhadap filmnya\n",
        "  return pd.DataFrame(data = {\"Nama film\" : similar_app, \"Cosine Similarity\" : cosine_score}).sort_values(by='Cosine Similarity',ascending=False)"
      ],
      "execution_count": null,
      "outputs": []
    },
    {
      "cell_type": "code",
      "metadata": {
        "colab": {
          "base_uri": "https://localhost:8080/",
          "height": 232
        },
        "id": "B2z5n09D7O47",
        "outputId": "19c6ffc9-08aa-4ad3-e392-f4728c30a592"
      },
      "source": [
        "# Melihat rekomendasi dari film pada baris ke-1000\n",
        "getRecommendedApps_cosine(df.loc[1000])"
      ],
      "execution_count": null,
      "outputs": [
        {
          "output_type": "stream",
          "name": "stdout",
          "text": [
            "Apabila pengguna menyukai film Winter in Tokyo\n",
            "5 film berikut ini juga mungkin akan disukai :\n"
          ]
        },
        {
          "output_type": "execute_result",
          "data": {
            "text/html": [
              "<div>\n",
              "<style scoped>\n",
              "    .dataframe tbody tr th:only-of-type {\n",
              "        vertical-align: middle;\n",
              "    }\n",
              "\n",
              "    .dataframe tbody tr th {\n",
              "        vertical-align: top;\n",
              "    }\n",
              "\n",
              "    .dataframe thead th {\n",
              "        text-align: right;\n",
              "    }\n",
              "</style>\n",
              "<table border=\"1\" class=\"dataframe\">\n",
              "  <thead>\n",
              "    <tr style=\"text-align: right;\">\n",
              "      <th></th>\n",
              "      <th>Nama film</th>\n",
              "      <th>Cosine Similarity</th>\n",
              "    </tr>\n",
              "  </thead>\n",
              "  <tbody>\n",
              "    <tr>\n",
              "      <th>4</th>\n",
              "      <td>Bangkitnya suster gepeng</td>\n",
              "      <td>0.287400</td>\n",
              "    </tr>\n",
              "    <tr>\n",
              "      <th>3</th>\n",
              "      <td>Terjebak Nostalgia</td>\n",
              "      <td>0.142302</td>\n",
              "    </tr>\n",
              "    <tr>\n",
              "      <th>2</th>\n",
              "      <td>Letters for Raisa</td>\n",
              "      <td>0.112624</td>\n",
              "    </tr>\n",
              "    <tr>\n",
              "      <th>1</th>\n",
              "      <td>Saus kacang</td>\n",
              "      <td>0.085558</td>\n",
              "    </tr>\n",
              "    <tr>\n",
              "      <th>0</th>\n",
              "      <td>06.30</td>\n",
              "      <td>0.078414</td>\n",
              "    </tr>\n",
              "  </tbody>\n",
              "</table>\n",
              "</div>"
            ],
            "text/plain": [
              "                  Nama film  Cosine Similarity\n",
              "4  Bangkitnya suster gepeng           0.287400\n",
              "3        Terjebak Nostalgia           0.142302\n",
              "2         Letters for Raisa           0.112624\n",
              "1               Saus kacang           0.085558\n",
              "0                     06.30           0.078414"
            ]
          },
          "metadata": {},
          "execution_count": 140
        }
      ]
    },
    {
      "cell_type": "code",
      "metadata": {
        "colab": {
          "base_uri": "https://localhost:8080/",
          "height": 232
        },
        "id": "CGxMdiKj7O2R",
        "outputId": "d3fe242b-1f58-4883-9c5b-a98d473626e7"
      },
      "source": [
        "# Melihat rekomendasi dari film pada baris ke-800\n",
        "getRecommendedApps_cosine(df.loc[800])"
      ],
      "execution_count": null,
      "outputs": [
        {
          "output_type": "stream",
          "name": "stdout",
          "text": [
            "Apabila pengguna menyukai film Jendral Soedirman\n",
            "5 film berikut ini juga mungkin akan disukai :\n"
          ]
        },
        {
          "output_type": "execute_result",
          "data": {
            "text/html": [
              "<div>\n",
              "<style scoped>\n",
              "    .dataframe tbody tr th:only-of-type {\n",
              "        vertical-align: middle;\n",
              "    }\n",
              "\n",
              "    .dataframe tbody tr th {\n",
              "        vertical-align: top;\n",
              "    }\n",
              "\n",
              "    .dataframe thead th {\n",
              "        text-align: right;\n",
              "    }\n",
              "</style>\n",
              "<table border=\"1\" class=\"dataframe\">\n",
              "  <thead>\n",
              "    <tr style=\"text-align: right;\">\n",
              "      <th></th>\n",
              "      <th>Nama film</th>\n",
              "      <th>Cosine Similarity</th>\n",
              "    </tr>\n",
              "  </thead>\n",
              "  <tbody>\n",
              "    <tr>\n",
              "      <th>4</th>\n",
              "      <td>Soegija</td>\n",
              "      <td>0.206128</td>\n",
              "    </tr>\n",
              "    <tr>\n",
              "      <th>3</th>\n",
              "      <td>Maju Terus!</td>\n",
              "      <td>0.189977</td>\n",
              "    </tr>\n",
              "    <tr>\n",
              "      <th>2</th>\n",
              "      <td>Guru Bangsa Tjokroaminoto</td>\n",
              "      <td>0.135371</td>\n",
              "    </tr>\n",
              "    <tr>\n",
              "      <th>1</th>\n",
              "      <td>Naga bonar</td>\n",
              "      <td>0.126705</td>\n",
              "    </tr>\n",
              "    <tr>\n",
              "      <th>0</th>\n",
              "      <td>Rompis</td>\n",
              "      <td>0.123179</td>\n",
              "    </tr>\n",
              "  </tbody>\n",
              "</table>\n",
              "</div>"
            ],
            "text/plain": [
              "                   Nama film  Cosine Similarity\n",
              "4                    Soegija           0.206128\n",
              "3                Maju Terus!           0.189977\n",
              "2  Guru Bangsa Tjokroaminoto           0.135371\n",
              "1                 Naga bonar           0.126705\n",
              "0                     Rompis           0.123179"
            ]
          },
          "metadata": {},
          "execution_count": 141
        }
      ]
    },
    {
      "cell_type": "markdown",
      "metadata": {
        "id": "MNLe3WXwU-ef"
      },
      "source": [
        "### Menggunakan Sigmoid Kernel"
      ]
    },
    {
      "cell_type": "code",
      "metadata": {
        "id": "bVY_l1c86Cre"
      },
      "source": [
        "# Menghitung sigmoid kernel pada matrix vektorisasi tfidf\n",
        "sig = sigmoid_kernel(tfidf_matrix, tfidf_matrix)"
      ],
      "execution_count": null,
      "outputs": []
    },
    {
      "cell_type": "code",
      "metadata": {
        "colab": {
          "base_uri": "https://localhost:8080/"
        },
        "id": "uoCEdUhkz5et",
        "outputId": "9b12cf92-0705-414c-8801-9042a85f77ea"
      },
      "source": [
        "# Melihat output dari perhitungan sigmoid\n",
        "sig"
      ],
      "execution_count": null,
      "outputs": [
        {
          "output_type": "execute_result",
          "data": {
            "text/plain": [
              "array([[0.76162523, 0.76159478, 0.76159529, ..., 0.76159528, 0.76159506,\n",
              "        0.76159592],\n",
              "       [0.76159478, 0.76162523, 0.76159625, ..., 0.76159473, 0.76159486,\n",
              "        0.76159465],\n",
              "       [0.76159529, 0.76159625, 0.76162523, ..., 0.76159495, 0.76159581,\n",
              "        0.76159462],\n",
              "       ...,\n",
              "       [0.76159528, 0.76159473, 0.76159495, ..., 0.76162523, 0.76159675,\n",
              "        0.76159565],\n",
              "       [0.76159506, 0.76159486, 0.76159581, ..., 0.76159675, 0.76162523,\n",
              "        0.76159624],\n",
              "       [0.76159592, 0.76159465, 0.76159462, ..., 0.76159565, 0.76159624,\n",
              "        0.76162523]])"
            ]
          },
          "metadata": {},
          "execution_count": 143
        }
      ]
    },
    {
      "cell_type": "code",
      "metadata": {
        "colab": {
          "base_uri": "https://localhost:8080/"
        },
        "id": "N1aoFVe36F01",
        "outputId": "d096f71e-ed9a-48da-fe4b-88563c48f299"
      },
      "source": [
        "# Melihat output dari perhitungan sigmoid pada baris ke-0 (pertama)\n",
        "sig[0]"
      ],
      "execution_count": null,
      "outputs": [
        {
          "output_type": "execute_result",
          "data": {
            "text/plain": [
              "array([0.76162523, 0.76159478, 0.76159529, ..., 0.76159528, 0.76159506,\n",
              "       0.76159592])"
            ]
          },
          "metadata": {},
          "execution_count": 144
        }
      ]
    },
    {
      "cell_type": "code",
      "metadata": {
        "id": "2r99sTpN2_eP"
      },
      "source": [
        "list(sig[indeks['Sunan Kalijaga']])"
      ],
      "execution_count": null,
      "outputs": []
    },
    {
      "cell_type": "code",
      "metadata": {
        "id": "0P2Cxo2U6HRF"
      },
      "source": [
        "# Membuat variabel baru yang beriskan indeks dari judul film\n",
        "indeks = pd.Series(df.index, index=df['judul_film']).drop_duplicates()"
      ],
      "execution_count": null,
      "outputs": []
    },
    {
      "cell_type": "code",
      "metadata": {
        "colab": {
          "base_uri": "https://localhost:8080/"
        },
        "id": "788XVXMR6L5G",
        "outputId": "2bc2f1cd-1abc-47d5-f6d5-dc2846af0bd1"
      },
      "source": [
        "# Menampilkan output dari indeks\n",
        "indeks"
      ],
      "execution_count": null,
      "outputs": [
        {
          "output_type": "execute_result",
          "data": {
            "text/plain": [
              "judul_film\n",
              "Sunan Kalijaga                  0\n",
              "Gie                             1\n",
              "Guru Bangsa Tjokroaminoto       2\n",
              "POL Movie                       3\n",
              "Sang pencerah                   4\n",
              "                             ... \n",
              "Winter in Tokyo              1000\n",
              "Petualang Cinta              1001\n",
              "Last Night (III)             1002\n",
              "Path of Light                1003\n",
              "Kulihat cinta di matanya     1004\n",
              "Length: 1005, dtype: int64"
            ]
          },
          "metadata": {},
          "execution_count": 147
        }
      ]
    },
    {
      "cell_type": "code",
      "metadata": {
        "colab": {
          "base_uri": "https://localhost:8080/"
        },
        "id": "3QK32h4f6SY9",
        "outputId": "b47c909f-eda3-437c-e201-32aa043af8f6"
      },
      "source": [
        "# Contoh ketika dilakukan pemanggilan judul sebuah film maka akan ditampilkan lokasi indeks dari film tersebut di dataframe\n",
        "indeks['Sang pencerah']"
      ],
      "execution_count": null,
      "outputs": [
        {
          "output_type": "execute_result",
          "data": {
            "text/plain": [
              "4"
            ]
          },
          "metadata": {},
          "execution_count": 148
        }
      ]
    },
    {
      "cell_type": "code",
      "metadata": {
        "id": "USVDTui86bcm"
      },
      "source": [
        "def rekomendasi_film(judul, sig=sig):\n",
        "  # Mengambil indeks yang serupa dengan judul film yang diinputkan\n",
        "  idx = indeks[judul] \n",
        "\n",
        "  # Melakukan penilaian pairwise similarity menggunakan sigmoid kernel \n",
        "  sig_scores = list(enumerate(sig[idx])) \n",
        "\n",
        "  # Mengurutkan output film yang memiliki kemiripan dengan film yang diinputkan\n",
        "  sig_scores = sorted(sig_scores, key=lambda x:x[1], reverse=True) \n",
        "\n",
        "  # Menampilkan lima film termirip dengan film yang diinputkan\n",
        "  sig_scores = sig_scores[1:6]\n",
        "\n",
        "  # Mengambil indeks dari film yang mirip\n",
        "  book_indeks = [i[0] for i in sig_scores]\n",
        "  \n",
        "  # Mencetak judul film berdasarkan indeks film serupa\n",
        "  return pd.DataFrame(data = {\"Rekomendasi Film\" : df['judul_film'].iloc[book_indeks], \n",
        "                              \"Sigmoid Similarity\": [\"{:.10f}\".format(i[1]) for i in sig_scores]}).sort_values(by=\"Sigmoid Similarity\", ascending=False)"
      ],
      "execution_count": null,
      "outputs": []
    },
    {
      "cell_type": "code",
      "metadata": {
        "colab": {
          "base_uri": "https://localhost:8080/",
          "height": 200
        },
        "id": "vz8m0Jqt69zf",
        "outputId": "e9a5d7ba-bb39-4553-f943-4e1a991fe100"
      },
      "source": [
        "# Melakukan ujicoba untuk mencari film yang serupa dengan film kartini\n",
        "rekomendasi_film('Kartini')"
      ],
      "execution_count": null,
      "outputs": [
        {
          "output_type": "execute_result",
          "data": {
            "text/html": [
              "<div>\n",
              "<style scoped>\n",
              "    .dataframe tbody tr th:only-of-type {\n",
              "        vertical-align: middle;\n",
              "    }\n",
              "\n",
              "    .dataframe tbody tr th {\n",
              "        vertical-align: top;\n",
              "    }\n",
              "\n",
              "    .dataframe thead th {\n",
              "        text-align: right;\n",
              "    }\n",
              "</style>\n",
              "<table border=\"1\" class=\"dataframe\">\n",
              "  <thead>\n",
              "    <tr style=\"text-align: right;\">\n",
              "      <th></th>\n",
              "      <th>Rekomendasi Film</th>\n",
              "      <th>Sigmoid Similarity</th>\n",
              "    </tr>\n",
              "  </thead>\n",
              "  <tbody>\n",
              "    <tr>\n",
              "      <th>7</th>\n",
              "      <td>Pendidik Berjiwa Merdeka</td>\n",
              "      <td>0.7615999384</td>\n",
              "    </tr>\n",
              "    <tr>\n",
              "      <th>58</th>\n",
              "      <td>Identitas</td>\n",
              "      <td>0.7615982825</td>\n",
              "    </tr>\n",
              "    <tr>\n",
              "      <th>651</th>\n",
              "      <td>Darah garuda - Merah putih II</td>\n",
              "      <td>0.7615982371</td>\n",
              "    </tr>\n",
              "    <tr>\n",
              "      <th>691</th>\n",
              "      <td>The Raid 2</td>\n",
              "      <td>0.7615981726</td>\n",
              "    </tr>\n",
              "    <tr>\n",
              "      <th>6</th>\n",
              "      <td>Maju Terus!</td>\n",
              "      <td>0.7615981262</td>\n",
              "    </tr>\n",
              "  </tbody>\n",
              "</table>\n",
              "</div>"
            ],
            "text/plain": [
              "                  Rekomendasi Film Sigmoid Similarity\n",
              "7         Pendidik Berjiwa Merdeka       0.7615999384\n",
              "58                       Identitas       0.7615982825\n",
              "651  Darah garuda - Merah putih II       0.7615982371\n",
              "691                     The Raid 2       0.7615981726\n",
              "6                      Maju Terus!       0.7615981262"
            ]
          },
          "metadata": {},
          "execution_count": 150
        }
      ]
    },
    {
      "cell_type": "code",
      "metadata": {
        "colab": {
          "base_uri": "https://localhost:8080/"
        },
        "id": "svq9KLCC-NK_",
        "outputId": "e09b09ce-d508-4a88-dec3-54af5f6817ab"
      },
      "source": [
        "indeks['Jendral Soedirman']"
      ],
      "execution_count": null,
      "outputs": [
        {
          "output_type": "execute_result",
          "data": {
            "text/plain": [
              "800"
            ]
          },
          "metadata": {},
          "execution_count": 151
        }
      ]
    },
    {
      "cell_type": "code",
      "metadata": {
        "colab": {
          "base_uri": "https://localhost:8080/",
          "height": 200
        },
        "id": "UuartRRM7BNe",
        "outputId": "099cb16a-c119-41bf-dd0e-1e979cc2cb82"
      },
      "source": [
        "# Melakukan ujicoba untuk mencari film yang serupa dengan film Jendral Soedirman\n",
        "rekomendasi_film('Jendral Soedirman')"
      ],
      "execution_count": null,
      "outputs": [
        {
          "output_type": "execute_result",
          "data": {
            "text/html": [
              "<div>\n",
              "<style scoped>\n",
              "    .dataframe tbody tr th:only-of-type {\n",
              "        vertical-align: middle;\n",
              "    }\n",
              "\n",
              "    .dataframe tbody tr th {\n",
              "        vertical-align: top;\n",
              "    }\n",
              "\n",
              "    .dataframe thead th {\n",
              "        text-align: right;\n",
              "    }\n",
              "</style>\n",
              "<table border=\"1\" class=\"dataframe\">\n",
              "  <thead>\n",
              "    <tr style=\"text-align: right;\">\n",
              "      <th></th>\n",
              "      <th>Rekomendasi Film</th>\n",
              "      <th>Sigmoid Similarity</th>\n",
              "    </tr>\n",
              "  </thead>\n",
              "  <tbody>\n",
              "    <tr>\n",
              "      <th>661</th>\n",
              "      <td>Soegija</td>\n",
              "      <td>0.7616005613</td>\n",
              "    </tr>\n",
              "    <tr>\n",
              "      <th>6</th>\n",
              "      <td>Maju Terus!</td>\n",
              "      <td>0.7616000594</td>\n",
              "    </tr>\n",
              "    <tr>\n",
              "      <th>2</th>\n",
              "      <td>Guru Bangsa Tjokroaminoto</td>\n",
              "      <td>0.7615983625</td>\n",
              "    </tr>\n",
              "    <tr>\n",
              "      <th>484</th>\n",
              "      <td>Naga bonar</td>\n",
              "      <td>0.7615980933</td>\n",
              "    </tr>\n",
              "    <tr>\n",
              "      <th>989</th>\n",
              "      <td>Rompis</td>\n",
              "      <td>0.7615979837</td>\n",
              "    </tr>\n",
              "  </tbody>\n",
              "</table>\n",
              "</div>"
            ],
            "text/plain": [
              "              Rekomendasi Film Sigmoid Similarity\n",
              "661                    Soegija       0.7616005613\n",
              "6                  Maju Terus!       0.7616000594\n",
              "2    Guru Bangsa Tjokroaminoto       0.7615983625\n",
              "484                 Naga bonar       0.7615980933\n",
              "989                     Rompis       0.7615979837"
            ]
          },
          "metadata": {},
          "execution_count": 152
        }
      ]
    },
    {
      "cell_type": "markdown",
      "metadata": {
        "id": "bnuh_Z_6VOrm"
      },
      "source": [
        "## Evaluasi"
      ]
    },
    {
      "cell_type": "code",
      "metadata": {
        "id": "VKhwWX0-QMqV"
      },
      "source": [
        ""
      ],
      "execution_count": null,
      "outputs": []
    },
    {
      "cell_type": "markdown",
      "metadata": {
        "id": "eFr2SMfgQs9y"
      },
      "source": [
        "## Kesimpulan\n",
        "\n",
        "Model untuk memberikan rekomendasi film Indonesia telah selesai dibuat. Setelah dilakukan pengujian, diperoleh lima buah film dengan karakteristik paling serupa dari film yang diajukan. Namun demikian dapat terlihat berdasarkan hasil evaluasi nilai Calinski Harabasz dan Davies Bouldin masih banyak peningkatan yang dapat dilakukan. Peningkatan yang dapat dilakukan salah satunya dengan mengimplementasikan deep learning pada model ini."
      ]
    },
    {
      "cell_type": "markdown",
      "metadata": {
        "id": "pWwx9V-2RQ_4"
      },
      "source": [
        "## Referensi\n",
        "\n",
        "* Dokumentasi Scikit-learn : https://scikit-learn.org/stable/modules/classes.html\n",
        "* Dokumentasi sigmoid kernel : https://scikit-learn.org/stable/modules/metrics.html#sigmoid-kernel\n",
        "* Lainnya:\n",
        "  * https://www.youtube.com/watch?v=i4a0Of22QRg\n",
        "  * https://github.com/fahmij8/ML-Exercise/blob/main/MLT-2/MLT_Proyek_Submission_2.ipynb\n"
      ]
    }
  ]
}