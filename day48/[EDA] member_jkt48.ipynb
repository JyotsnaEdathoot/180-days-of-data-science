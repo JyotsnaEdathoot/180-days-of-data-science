{
 "cells": [
  {
   "cell_type": "markdown",
   "metadata": {},
   "source": [
    "# EDA JKT48 Member\n",
    "\n",
    "Notebook ini bertujuan untuk melakukan eksplorasi pada data dari [JKT48 Table](https://www.kaggle.com/xpajonx/jkt48-table?select=JKT48_frame_2020.xlsx)\n",
    "\n",
    "*Masih perlu banyak perbaikan ~ cmglonly a.k.a @theDreamer911*"
   ]
  },
  {
   "cell_type": "markdown",
   "metadata": {},
   "source": [
    "## Menambahkan Modules"
   ]
  },
  {
   "cell_type": "code",
   "execution_count": 1,
   "metadata": {
    "execution": {
     "iopub.execute_input": "2021-07-15T23:16:04.703086Z",
     "iopub.status.busy": "2021-07-15T23:16:04.702639Z",
     "iopub.status.idle": "2021-07-15T23:16:10.431922Z",
     "shell.execute_reply": "2021-07-15T23:16:10.429705Z",
     "shell.execute_reply.started": "2021-07-15T23:16:04.703026Z"
    }
   },
   "outputs": [
    {
     "name": "stdout",
     "output_type": "stream",
     "text": [
      "Requirement already satisfied: xlrd in /opt/conda/lib/python3.7/site-packages (2.0.1)\n",
      "Requirement already satisfied: openpyxl in /opt/conda/lib/python3.7/site-packages (3.0.7)\n",
      "Requirement already satisfied: et-xmlfile in /opt/conda/lib/python3.7/site-packages (from openpyxl) (1.1.0)\n",
      "\u001b[33mWARNING: Running pip as root will break packages and permissions. You should install packages reliably by using venv: https://pip.pypa.io/warnings/venv\u001b[0m\n"
     ]
    }
   ],
   "source": [
    "# Menginstall package supaya dapat memproses file dataset ini\n",
    "!pip install xlrd openpyxl"
   ]
  },
  {
   "cell_type": "code",
   "execution_count": 2,
   "metadata": {
    "_cell_guid": "b1076dfc-b9ad-4769-8c92-a6c4dae69d19",
    "_uuid": "8f2839f25d086af736a60e9eeb907d3b93b6e0e5",
    "execution": {
     "iopub.execute_input": "2021-07-15T23:16:11.348295Z",
     "iopub.status.busy": "2021-07-15T23:16:11.347878Z",
     "iopub.status.idle": "2021-07-15T23:16:11.353184Z",
     "shell.execute_reply": "2021-07-15T23:16:11.352170Z",
     "shell.execute_reply.started": "2021-07-15T23:16:11.348268Z"
    }
   },
   "outputs": [],
   "source": [
    "import matplotlib.pyplot as plt # Membuat grafik\n",
    "import pandas as pd # Mengolah data\n",
    "import numpy as np # Memproses data"
   ]
  },
  {
   "cell_type": "code",
   "execution_count": 3,
   "metadata": {
    "execution": {
     "iopub.execute_input": "2021-07-15T23:16:13.188300Z",
     "iopub.status.busy": "2021-07-15T23:16:13.187897Z",
     "iopub.status.idle": "2021-07-15T23:16:13.490662Z",
     "shell.execute_reply": "2021-07-15T23:16:13.489163Z",
     "shell.execute_reply.started": "2021-07-15T23:16:13.188275Z"
    }
   },
   "outputs": [
    {
     "name": "stdout",
     "output_type": "stream",
     "text": [
      "JKT48_frame_2020.xlsx\n"
     ]
    }
   ],
   "source": [
    "# Mencari direktori lokasi penyimpanan file dataset pada kaggle\n",
    "!ls /kaggle/input/jkt48-table "
   ]
  },
  {
   "cell_type": "code",
   "execution_count": 4,
   "metadata": {
    "execution": {
     "iopub.execute_input": "2021-07-15T23:16:14.428681Z",
     "iopub.status.busy": "2021-07-15T23:16:14.428345Z",
     "iopub.status.idle": "2021-07-15T23:16:14.957173Z",
     "shell.execute_reply": "2021-07-15T23:16:14.955902Z",
     "shell.execute_reply.started": "2021-07-15T23:16:14.428648Z"
    }
   },
   "outputs": [
    {
     "name": "stderr",
     "output_type": "stream",
     "text": [
      "/opt/conda/lib/python3.7/site-packages/openpyxl/worksheet/_reader.py:312: UserWarning: Unknown extension is not supported and will be removed\n",
      "  warn(msg)\n"
     ]
    }
   ],
   "source": [
    "df = pd.read_excel('/kaggle/input/jkt48-table/JKT48_frame_2020.xlsx')"
   ]
  },
  {
   "cell_type": "code",
   "execution_count": 5,
   "metadata": {
    "execution": {
     "iopub.execute_input": "2021-07-15T23:16:34.595284Z",
     "iopub.status.busy": "2021-07-15T23:16:34.594922Z",
     "iopub.status.idle": "2021-07-15T23:16:34.640148Z",
     "shell.execute_reply": "2021-07-15T23:16:34.638463Z",
     "shell.execute_reply.started": "2021-07-15T23:16:34.595255Z"
    }
   },
   "outputs": [
    {
     "data": {
      "text/html": [
       "<div>\n",
       "<style scoped>\n",
       "    .dataframe tbody tr th:only-of-type {\n",
       "        vertical-align: middle;\n",
       "    }\n",
       "\n",
       "    .dataframe tbody tr th {\n",
       "        vertical-align: top;\n",
       "    }\n",
       "\n",
       "    .dataframe thead th {\n",
       "        text-align: right;\n",
       "    }\n",
       "</style>\n",
       "<table border=\"1\" class=\"dataframe\">\n",
       "  <thead>\n",
       "    <tr style=\"text-align: right;\">\n",
       "      <th></th>\n",
       "      <th>Nama</th>\n",
       "      <th>Generasi</th>\n",
       "      <th>Panggilan</th>\n",
       "      <th>Tempat Lahir</th>\n",
       "      <th>Tanggal Lahir</th>\n",
       "      <th>Bergabung di JKT48</th>\n",
       "      <th>Usia Debut</th>\n",
       "      <th>Status Terakhir</th>\n",
       "      <th>Tanggal Keluar</th>\n",
       "      <th>Usia Keluar</th>\n",
       "      <th>Nama Fansclub</th>\n",
       "      <th>Perkenalan</th>\n",
       "      <th>Usia</th>\n",
       "      <th>Alasan Keluar</th>\n",
       "      <th>Waktu Aktif</th>\n",
       "    </tr>\n",
       "  </thead>\n",
       "  <tbody>\n",
       "    <tr>\n",
       "      <th>0</th>\n",
       "      <td>Adriani Elisabeth</td>\n",
       "      <td>Keempat</td>\n",
       "      <td>Lisa, Lisayang</td>\n",
       "      <td>Jakarta</td>\n",
       "      <td>2000-05-10</td>\n",
       "      <td>2015-05-16</td>\n",
       "      <td>15.0</td>\n",
       "      <td>True</td>\n",
       "      <td>NaT</td>\n",
       "      <td>NaN</td>\n",
       "      <td>Lisanshine</td>\n",
       "      <td>Aku si vitamin C yang akan memberikan vitamin ...</td>\n",
       "      <td>20.0</td>\n",
       "      <td>NaN</td>\n",
       "      <td>6</td>\n",
       "    </tr>\n",
       "    <tr>\n",
       "      <th>1</th>\n",
       "      <td>Amanina Afiqah Ibrahim</td>\n",
       "      <td>Kedelapan</td>\n",
       "      <td>Afiqah</td>\n",
       "      <td>Jakarta</td>\n",
       "      <td>2006-01-06</td>\n",
       "      <td>2019-04-27</td>\n",
       "      <td>13.0</td>\n",
       "      <td>True</td>\n",
       "      <td>NaT</td>\n",
       "      <td>NaN</td>\n",
       "      <td>Afiqaristic</td>\n",
       "      <td>Si gadis yang penuh energi dan akan menginspir...</td>\n",
       "      <td>15.0</td>\n",
       "      <td>NaN</td>\n",
       "      <td>2</td>\n",
       "    </tr>\n",
       "    <tr>\n",
       "      <th>2</th>\n",
       "      <td>Aninditha Rahma Cahyadi</td>\n",
       "      <td>Ketiga</td>\n",
       "      <td>Anin</td>\n",
       "      <td>Palembang</td>\n",
       "      <td>1999-01-05</td>\n",
       "      <td>2014-03-15</td>\n",
       "      <td>15.0</td>\n",
       "      <td>True</td>\n",
       "      <td>NaT</td>\n",
       "      <td>NaN</td>\n",
       "      <td>Aninlicious</td>\n",
       "      <td>Bagaikan angin yang akan selalu menghembuskan ...</td>\n",
       "      <td>22.0</td>\n",
       "      <td>NaN</td>\n",
       "      <td>7</td>\n",
       "    </tr>\n",
       "    <tr>\n",
       "      <th>3</th>\n",
       "      <td>Ariella Calista Ichwan</td>\n",
       "      <td>Keenam</td>\n",
       "      <td>Ariel, Eril</td>\n",
       "      <td>Jakarta</td>\n",
       "      <td>2000-05-12</td>\n",
       "      <td>2018-04-08</td>\n",
       "      <td>17.0</td>\n",
       "      <td>True</td>\n",
       "      <td>NaT</td>\n",
       "      <td>NaN</td>\n",
       "      <td>Ariellice</td>\n",
       "      <td>Jangan main-main dengan pesona sanguinku! Halo...</td>\n",
       "      <td>20.0</td>\n",
       "      <td>NaN</td>\n",
       "      <td>3</td>\n",
       "    </tr>\n",
       "    <tr>\n",
       "      <th>4</th>\n",
       "      <td>Azizi Shafaa Asadel</td>\n",
       "      <td>Ketujuh</td>\n",
       "      <td>Zee, Zizi</td>\n",
       "      <td>Kota Tangerang</td>\n",
       "      <td>2004-05-16</td>\n",
       "      <td>2018-09-29</td>\n",
       "      <td>14.0</td>\n",
       "      <td>True</td>\n",
       "      <td>NaT</td>\n",
       "      <td>NaN</td>\n",
       "      <td>Zeemotion</td>\n",
       "      <td>Si gadis tomboi yang semangatnya meletup-letup...</td>\n",
       "      <td>16.0</td>\n",
       "      <td>NaN</td>\n",
       "      <td>2</td>\n",
       "    </tr>\n",
       "  </tbody>\n",
       "</table>\n",
       "</div>"
      ],
      "text/plain": [
       "                      Nama   Generasi       Panggilan    Tempat Lahir  \\\n",
       "0        Adriani Elisabeth    Keempat  Lisa, Lisayang         Jakarta   \n",
       "1   Amanina Afiqah Ibrahim  Kedelapan          Afiqah         Jakarta   \n",
       "2  Aninditha Rahma Cahyadi     Ketiga            Anin       Palembang   \n",
       "3   Ariella Calista Ichwan     Keenam     Ariel, Eril         Jakarta   \n",
       "4      Azizi Shafaa Asadel    Ketujuh       Zee, Zizi  Kota Tangerang   \n",
       "\n",
       "  Tanggal Lahir Bergabung di JKT48  Usia Debut  Status Terakhir  \\\n",
       "0    2000-05-10         2015-05-16        15.0             True   \n",
       "1    2006-01-06         2019-04-27        13.0             True   \n",
       "2    1999-01-05         2014-03-15        15.0             True   \n",
       "3    2000-05-12         2018-04-08        17.0             True   \n",
       "4    2004-05-16         2018-09-29        14.0             True   \n",
       "\n",
       "  Tanggal Keluar  Usia Keluar Nama Fansclub  \\\n",
       "0            NaT          NaN    Lisanshine   \n",
       "1            NaT          NaN   Afiqaristic   \n",
       "2            NaT          NaN   Aninlicious   \n",
       "3            NaT          NaN     Ariellice   \n",
       "4            NaT          NaN     Zeemotion   \n",
       "\n",
       "                                          Perkenalan  Usia Alasan Keluar  \\\n",
       "0  Aku si vitamin C yang akan memberikan vitamin ...  20.0           NaN   \n",
       "1  Si gadis yang penuh energi dan akan menginspir...  15.0           NaN   \n",
       "2  Bagaikan angin yang akan selalu menghembuskan ...  22.0           NaN   \n",
       "3  Jangan main-main dengan pesona sanguinku! Halo...  20.0           NaN   \n",
       "4  Si gadis tomboi yang semangatnya meletup-letup...  16.0           NaN   \n",
       "\n",
       "   Waktu Aktif  \n",
       "0            6  \n",
       "1            2  \n",
       "2            7  \n",
       "3            3  \n",
       "4            2  "
      ]
     },
     "execution_count": 5,
     "metadata": {},
     "output_type": "execute_result"
    }
   ],
   "source": [
    "df.head() # Melihat 5 baris pertama"
   ]
  },
  {
   "cell_type": "markdown",
   "metadata": {},
   "source": [
    "## Membuat Chart Jumlah Anggota Generasi"
   ]
  },
  {
   "cell_type": "code",
   "execution_count": 6,
   "metadata": {
    "execution": {
     "iopub.execute_input": "2021-07-15T23:18:49.101998Z",
     "iopub.status.busy": "2021-07-15T23:18:49.101616Z",
     "iopub.status.idle": "2021-07-15T23:18:49.114232Z",
     "shell.execute_reply": "2021-07-15T23:18:49.112823Z",
     "shell.execute_reply.started": "2021-07-15T23:18:49.101967Z"
    }
   },
   "outputs": [
    {
     "data": {
      "text/plain": [
       "array(['Keempat', 'Kedelapan', 'Ketiga', 'Keenam', 'Ketujuh', 'Kelima',\n",
       "       'Pertama', 'Kedua', 'Kesembilan', 'Keenam (AKB48)',\n",
       "       'Ketiga (AKB48)', 'Kelima (AKB48)', 'Draf ke-1 (AKB48)',\n",
       "       'Kesepuluh'], dtype=object)"
      ]
     },
     "execution_count": 6,
     "metadata": {},
     "output_type": "execute_result"
    }
   ],
   "source": [
    "# Memeriksa nilai yang terdapat pada kolom generasi\n",
    "df.Generasi.unique()"
   ]
  },
  {
   "cell_type": "code",
   "execution_count": 7,
   "metadata": {
    "execution": {
     "iopub.execute_input": "2021-07-15T23:19:17.791411Z",
     "iopub.status.busy": "2021-07-15T23:19:17.791113Z",
     "iopub.status.idle": "2021-07-15T23:19:17.801281Z",
     "shell.execute_reply": "2021-07-15T23:19:17.800133Z",
     "shell.execute_reply.started": "2021-07-15T23:19:17.791388Z"
    }
   },
   "outputs": [],
   "source": [
    "# Menghapus hal yang tidak diperlukan (contoh: AKB48)\n",
    "df_filter = df[~df['Generasi'].str.contains('AKB48')]"
   ]
  },
  {
   "cell_type": "code",
   "execution_count": 8,
   "metadata": {
    "execution": {
     "iopub.execute_input": "2021-07-15T23:19:24.316612Z",
     "iopub.status.busy": "2021-07-15T23:19:24.316240Z",
     "iopub.status.idle": "2021-07-15T23:19:24.323093Z",
     "shell.execute_reply": "2021-07-15T23:19:24.322195Z",
     "shell.execute_reply.started": "2021-07-15T23:19:24.316568Z"
    }
   },
   "outputs": [
    {
     "data": {
      "text/plain": [
       "array(['Keempat', 'Kedelapan', 'Ketiga', 'Keenam', 'Ketujuh', 'Kelima',\n",
       "       'Pertama', 'Kedua', 'Kesembilan', 'Kesepuluh'], dtype=object)"
      ]
     },
     "execution_count": 8,
     "metadata": {},
     "output_type": "execute_result"
    }
   ],
   "source": [
    "df_filter.Generasi.unique()"
   ]
  },
  {
   "cell_type": "code",
   "execution_count": 9,
   "metadata": {
    "execution": {
     "iopub.execute_input": "2021-07-15T23:21:05.318182Z",
     "iopub.status.busy": "2021-07-15T23:21:05.317839Z",
     "iopub.status.idle": "2021-07-15T23:21:05.322444Z",
     "shell.execute_reply": "2021-07-15T23:21:05.321877Z",
     "shell.execute_reply.started": "2021-07-15T23:21:05.318158Z"
    }
   },
   "outputs": [],
   "source": [
    "# Mengisikan string yang unique ke dalam list\n",
    "asli = ['Keempat', 'Kedelapan', 'Ketiga', 'Keenam', 'Ketujuh', 'Kelima',\n",
    "       'Pertama', 'Kedua', 'Kesembilan', 'Kesepuluh']\n",
    "\n",
    "# Mengisikan angka yang merujuk pada string sebelumnya\n",
    "ganti = [4, 8, 3, 6, 7, 5, 1, 2, 9, 10]\n",
    "\n",
    "# Secara otomatis merubah angka menjadi format string\n",
    "ganti2 = [str(i) for i in ganti]"
   ]
  },
  {
   "cell_type": "code",
   "execution_count": 10,
   "metadata": {
    "execution": {
     "iopub.execute_input": "2021-07-15T23:21:51.731616Z",
     "iopub.status.busy": "2021-07-15T23:21:51.730731Z",
     "iopub.status.idle": "2021-07-15T23:21:51.739627Z",
     "shell.execute_reply": "2021-07-15T23:21:51.738841Z",
     "shell.execute_reply.started": "2021-07-15T23:21:51.731583Z"
    }
   },
   "outputs": [],
   "source": [
    "# Menyimpan df_filter ke df2 untuk backup\n",
    "df2 = df_filter.copy() "
   ]
  },
  {
   "cell_type": "code",
   "execution_count": 11,
   "metadata": {
    "execution": {
     "iopub.execute_input": "2021-07-15T23:22:10.609868Z",
     "iopub.status.busy": "2021-07-15T23:22:10.609357Z",
     "iopub.status.idle": "2021-07-15T23:22:10.625733Z",
     "shell.execute_reply": "2021-07-15T23:22:10.624128Z",
     "shell.execute_reply.started": "2021-07-15T23:22:10.609832Z"
    }
   },
   "outputs": [],
   "source": [
    "# Mengubah nilai string menjadi angka\n",
    "for idx, val in enumerate(asli):\n",
    "    df2['Generasi'] = df2.Generasi.apply(lambda x: x.replace(asli[idx], ganti2[idx]))"
   ]
  },
  {
   "cell_type": "code",
   "execution_count": 12,
   "metadata": {
    "execution": {
     "iopub.execute_input": "2021-07-15T23:22:16.784741Z",
     "iopub.status.busy": "2021-07-15T23:22:16.784441Z",
     "iopub.status.idle": "2021-07-15T23:22:16.795742Z",
     "shell.execute_reply": "2021-07-15T23:22:16.794658Z",
     "shell.execute_reply.started": "2021-07-15T23:22:16.784717Z"
    }
   },
   "outputs": [
    {
     "data": {
      "text/plain": [
       "0       4\n",
       "1       8\n",
       "2       3\n",
       "3       6\n",
       "4       7\n",
       "       ..\n",
       "195    10\n",
       "196    10\n",
       "197    10\n",
       "198     3\n",
       "199     3\n",
       "Name: Generasi, Length: 196, dtype: object"
      ]
     },
     "execution_count": 12,
     "metadata": {},
     "output_type": "execute_result"
    }
   ],
   "source": [
    "df2.Generasi"
   ]
  },
  {
   "cell_type": "markdown",
   "metadata": {},
   "source": [
    "Terlihat type dari data tersebut masih object, untuk itu perlu dirubah menjadi integer"
   ]
  },
  {
   "cell_type": "code",
   "execution_count": 13,
   "metadata": {
    "execution": {
     "iopub.execute_input": "2021-07-15T23:22:50.752692Z",
     "iopub.status.busy": "2021-07-15T23:22:50.752360Z",
     "iopub.status.idle": "2021-07-15T23:22:50.759640Z",
     "shell.execute_reply": "2021-07-15T23:22:50.757999Z",
     "shell.execute_reply.started": "2021-07-15T23:22:50.752668Z"
    }
   },
   "outputs": [],
   "source": [
    "# Mengubah tipe kolom\n",
    "df2.Generasi = df2.Generasi.astype('int')"
   ]
  },
  {
   "cell_type": "code",
   "execution_count": 14,
   "metadata": {
    "execution": {
     "iopub.execute_input": "2021-07-15T23:22:55.111046Z",
     "iopub.status.busy": "2021-07-15T23:22:55.110718Z",
     "iopub.status.idle": "2021-07-15T23:22:55.119893Z",
     "shell.execute_reply": "2021-07-15T23:22:55.118368Z",
     "shell.execute_reply.started": "2021-07-15T23:22:55.111021Z"
    }
   },
   "outputs": [
    {
     "data": {
      "text/plain": [
       "0       4\n",
       "1       8\n",
       "2       3\n",
       "3       6\n",
       "4       7\n",
       "       ..\n",
       "195    10\n",
       "196    10\n",
       "197    10\n",
       "198     3\n",
       "199     3\n",
       "Name: Generasi, Length: 196, dtype: int64"
      ]
     },
     "execution_count": 14,
     "metadata": {},
     "output_type": "execute_result"
    }
   ],
   "source": [
    "df2.Generasi"
   ]
  },
  {
   "cell_type": "markdown",
   "metadata": {},
   "source": [
    "Terlihat kolom telah menjadi integer"
   ]
  },
  {
   "cell_type": "code",
   "execution_count": 15,
   "metadata": {
    "execution": {
     "iopub.execute_input": "2021-07-15T23:23:31.758896Z",
     "iopub.status.busy": "2021-07-15T23:23:31.758597Z",
     "iopub.status.idle": "2021-07-15T23:23:31.766321Z",
     "shell.execute_reply": "2021-07-15T23:23:31.764781Z",
     "shell.execute_reply.started": "2021-07-15T23:23:31.758872Z"
    }
   },
   "outputs": [],
   "source": [
    "# Mengurutkan kolom berdasarkan nilai generasi supaya lebih mudah dilihat\n",
    "df2.sort_values(by='Generasi', inplace=True)"
   ]
  },
  {
   "cell_type": "code",
   "execution_count": 16,
   "metadata": {
    "execution": {
     "iopub.execute_input": "2021-07-15T23:23:35.011425Z",
     "iopub.status.busy": "2021-07-15T23:23:35.011087Z",
     "iopub.status.idle": "2021-07-15T23:23:35.049116Z",
     "shell.execute_reply": "2021-07-15T23:23:35.048114Z",
     "shell.execute_reply.started": "2021-07-15T23:23:35.011395Z"
    }
   },
   "outputs": [
    {
     "data": {
      "text/html": [
       "<div>\n",
       "<style scoped>\n",
       "    .dataframe tbody tr th:only-of-type {\n",
       "        vertical-align: middle;\n",
       "    }\n",
       "\n",
       "    .dataframe tbody tr th {\n",
       "        vertical-align: top;\n",
       "    }\n",
       "\n",
       "    .dataframe thead th {\n",
       "        text-align: right;\n",
       "    }\n",
       "</style>\n",
       "<table border=\"1\" class=\"dataframe\">\n",
       "  <thead>\n",
       "    <tr style=\"text-align: right;\">\n",
       "      <th></th>\n",
       "      <th>Nama</th>\n",
       "      <th>Generasi</th>\n",
       "      <th>Panggilan</th>\n",
       "      <th>Tempat Lahir</th>\n",
       "      <th>Tanggal Lahir</th>\n",
       "      <th>Bergabung di JKT48</th>\n",
       "      <th>Usia Debut</th>\n",
       "      <th>Status Terakhir</th>\n",
       "      <th>Tanggal Keluar</th>\n",
       "      <th>Usia Keluar</th>\n",
       "      <th>Nama Fansclub</th>\n",
       "      <th>Perkenalan</th>\n",
       "      <th>Usia</th>\n",
       "      <th>Alasan Keluar</th>\n",
       "      <th>Waktu Aktif</th>\n",
       "    </tr>\n",
       "  </thead>\n",
       "  <tbody>\n",
       "    <tr>\n",
       "      <th>112</th>\n",
       "      <td>Rezky Wiranti Dhike</td>\n",
       "      <td>1</td>\n",
       "      <td>Dhike</td>\n",
       "      <td>Kepahiang</td>\n",
       "      <td>1995-11-22</td>\n",
       "      <td>2011-11-02</td>\n",
       "      <td>15.0</td>\n",
       "      <td>False</td>\n",
       "      <td>2016-09-13</td>\n",
       "      <td>20.0</td>\n",
       "      <td>Dhikeringer</td>\n",
       "      <td>Secerah matahari, selembut embun pagi. Aku Dhike.</td>\n",
       "      <td>25.0</td>\n",
       "      <td>Lulus</td>\n",
       "      <td>5</td>\n",
       "    </tr>\n",
       "    <tr>\n",
       "      <th>77</th>\n",
       "      <td>Diasta Priswarini</td>\n",
       "      <td>1</td>\n",
       "      <td>DiastaNyash</td>\n",
       "      <td>Bandung</td>\n",
       "      <td>1991-09-09</td>\n",
       "      <td>2011-11-02</td>\n",
       "      <td>20.0</td>\n",
       "      <td>False</td>\n",
       "      <td>2013-12-22</td>\n",
       "      <td>22.0</td>\n",
       "      <td>Nyasshiteru</td>\n",
       "      <td>Aku jalani mimpi dengan ceria! Namaku, Diasta.</td>\n",
       "      <td>29.0</td>\n",
       "      <td>Lulus</td>\n",
       "      <td>2</td>\n",
       "    </tr>\n",
       "    <tr>\n",
       "      <th>129</th>\n",
       "      <td>Melody Nurramdhani Laksani</td>\n",
       "      <td>1</td>\n",
       "      <td>MelodyIbu GM</td>\n",
       "      <td>Bandung</td>\n",
       "      <td>1992-03-24</td>\n",
       "      <td>2011-11-02</td>\n",
       "      <td>19.0</td>\n",
       "      <td>False</td>\n",
       "      <td>2018-03-31</td>\n",
       "      <td>26.0</td>\n",
       "      <td>Melodiest</td>\n",
       "      <td>Ceria dan bersinar selalu! Aku, Melody!</td>\n",
       "      <td>28.0</td>\n",
       "      <td>Lulus</td>\n",
       "      <td>6</td>\n",
       "    </tr>\n",
       "    <tr>\n",
       "      <th>123</th>\n",
       "      <td>Nabilah Ratna Ayu Azalia</td>\n",
       "      <td>1</td>\n",
       "      <td>NabilahAyu-chinJaenabKang Bajay</td>\n",
       "      <td>Jakarta</td>\n",
       "      <td>1999-11-11</td>\n",
       "      <td>2011-11-02</td>\n",
       "      <td>11.0</td>\n",
       "      <td>False</td>\n",
       "      <td>2017-10-31</td>\n",
       "      <td>17.0</td>\n",
       "      <td>Nabilaholic</td>\n",
       "      <td>Hai, namaku Nabilah, aku si cerewet. Let's hav...</td>\n",
       "      <td>21.0</td>\n",
       "      <td>Mundur</td>\n",
       "      <td>6</td>\n",
       "    </tr>\n",
       "    <tr>\n",
       "      <th>121</th>\n",
       "      <td>Jessica Veranda Tanumihardja</td>\n",
       "      <td>1</td>\n",
       "      <td>VerandaVe</td>\n",
       "      <td>Jakarta</td>\n",
       "      <td>1993-08-19</td>\n",
       "      <td>2011-11-02</td>\n",
       "      <td>18.0</td>\n",
       "      <td>False</td>\n",
       "      <td>2017-05-25</td>\n",
       "      <td>23.0</td>\n",
       "      <td>Veloved</td>\n",
       "      <td>Meskipun aku pemalu tetapi aku tetap fashionab...</td>\n",
       "      <td>27.0</td>\n",
       "      <td>Lulus</td>\n",
       "      <td>6</td>\n",
       "    </tr>\n",
       "    <tr>\n",
       "      <th>...</th>\n",
       "      <td>...</td>\n",
       "      <td>...</td>\n",
       "      <td>...</td>\n",
       "      <td>...</td>\n",
       "      <td>...</td>\n",
       "      <td>...</td>\n",
       "      <td>...</td>\n",
       "      <td>...</td>\n",
       "      <td>...</td>\n",
       "      <td>...</td>\n",
       "      <td>...</td>\n",
       "      <td>...</td>\n",
       "      <td>...</td>\n",
       "      <td>...</td>\n",
       "      <td>...</td>\n",
       "    </tr>\n",
       "    <tr>\n",
       "      <th>194</th>\n",
       "      <td>Indira Putri Seruni</td>\n",
       "      <td>10</td>\n",
       "      <td>Indira</td>\n",
       "      <td>NaN</td>\n",
       "      <td>NaT</td>\n",
       "      <td>2020-08-27</td>\n",
       "      <td>NaN</td>\n",
       "      <td>False</td>\n",
       "      <td>2020-12-04</td>\n",
       "      <td>NaN</td>\n",
       "      <td>Indiraise</td>\n",
       "      <td>Tidak ada</td>\n",
       "      <td>NaN</td>\n",
       "      <td>Dibatalkan</td>\n",
       "      <td>0</td>\n",
       "    </tr>\n",
       "    <tr>\n",
       "      <th>195</th>\n",
       "      <td>Jesslyn Elly</td>\n",
       "      <td>10</td>\n",
       "      <td>Lyn</td>\n",
       "      <td>NaN</td>\n",
       "      <td>NaT</td>\n",
       "      <td>2020-08-27</td>\n",
       "      <td>NaN</td>\n",
       "      <td>False</td>\n",
       "      <td>2020-12-04</td>\n",
       "      <td>NaN</td>\n",
       "      <td>Jellybean</td>\n",
       "      <td>Tidak ada</td>\n",
       "      <td>NaN</td>\n",
       "      <td>Dibatalkan</td>\n",
       "      <td>0</td>\n",
       "    </tr>\n",
       "    <tr>\n",
       "      <th>196</th>\n",
       "      <td>Naura Safinatunnajah</td>\n",
       "      <td>10</td>\n",
       "      <td>Naura</td>\n",
       "      <td>NaN</td>\n",
       "      <td>NaT</td>\n",
       "      <td>2020-08-27</td>\n",
       "      <td>NaN</td>\n",
       "      <td>False</td>\n",
       "      <td>2020-12-04</td>\n",
       "      <td>NaN</td>\n",
       "      <td>NASA</td>\n",
       "      <td>Tidak ada</td>\n",
       "      <td>NaN</td>\n",
       "      <td>Dibatalkan</td>\n",
       "      <td>0</td>\n",
       "    </tr>\n",
       "    <tr>\n",
       "      <th>197</th>\n",
       "      <td>Raisha Syifa Wardhana</td>\n",
       "      <td>10</td>\n",
       "      <td>Raisha</td>\n",
       "      <td>NaN</td>\n",
       "      <td>NaT</td>\n",
       "      <td>2020-08-27</td>\n",
       "      <td>NaN</td>\n",
       "      <td>False</td>\n",
       "      <td>2020-12-04</td>\n",
       "      <td>NaN</td>\n",
       "      <td>Raishanrise</td>\n",
       "      <td>Tidak ada</td>\n",
       "      <td>NaN</td>\n",
       "      <td>Dibatalkan</td>\n",
       "      <td>0</td>\n",
       "    </tr>\n",
       "    <tr>\n",
       "      <th>189</th>\n",
       "      <td>Amanda Puspita Sukma Mulyadewi</td>\n",
       "      <td>10</td>\n",
       "      <td>Amanda</td>\n",
       "      <td>NaN</td>\n",
       "      <td>NaT</td>\n",
       "      <td>2020-08-27</td>\n",
       "      <td>NaN</td>\n",
       "      <td>False</td>\n",
       "      <td>2020-12-04</td>\n",
       "      <td>NaN</td>\n",
       "      <td>Mandaffection</td>\n",
       "      <td>Tidak ada</td>\n",
       "      <td>NaN</td>\n",
       "      <td>Dibatalkan</td>\n",
       "      <td>0</td>\n",
       "    </tr>\n",
       "  </tbody>\n",
       "</table>\n",
       "<p>196 rows × 15 columns</p>\n",
       "</div>"
      ],
      "text/plain": [
       "                               Nama  Generasi  \\\n",
       "112             Rezky Wiranti Dhike         1   \n",
       "77                Diasta Priswarini         1   \n",
       "129      Melody Nurramdhani Laksani         1   \n",
       "123        Nabilah Ratna Ayu Azalia         1   \n",
       "121    Jessica Veranda Tanumihardja         1   \n",
       "..                              ...       ...   \n",
       "194             Indira Putri Seruni        10   \n",
       "195                    Jesslyn Elly        10   \n",
       "196            Naura Safinatunnajah        10   \n",
       "197           Raisha Syifa Wardhana        10   \n",
       "189  Amanda Puspita Sukma Mulyadewi        10   \n",
       "\n",
       "                           Panggilan Tempat Lahir Tanggal Lahir  \\\n",
       "112                            Dhike    Kepahiang    1995-11-22   \n",
       "77                       DiastaNyash      Bandung    1991-09-09   \n",
       "129                     MelodyIbu GM      Bandung    1992-03-24   \n",
       "123  NabilahAyu-chinJaenabKang Bajay      Jakarta    1999-11-11   \n",
       "121                        VerandaVe      Jakarta    1993-08-19   \n",
       "..                               ...          ...           ...   \n",
       "194                           Indira          NaN           NaT   \n",
       "195                              Lyn          NaN           NaT   \n",
       "196                            Naura          NaN           NaT   \n",
       "197                           Raisha          NaN           NaT   \n",
       "189                           Amanda          NaN           NaT   \n",
       "\n",
       "    Bergabung di JKT48  Usia Debut  Status Terakhir Tanggal Keluar  \\\n",
       "112         2011-11-02        15.0            False     2016-09-13   \n",
       "77          2011-11-02        20.0            False     2013-12-22   \n",
       "129         2011-11-02        19.0            False     2018-03-31   \n",
       "123         2011-11-02        11.0            False     2017-10-31   \n",
       "121         2011-11-02        18.0            False     2017-05-25   \n",
       "..                 ...         ...              ...            ...   \n",
       "194         2020-08-27         NaN            False     2020-12-04   \n",
       "195         2020-08-27         NaN            False     2020-12-04   \n",
       "196         2020-08-27         NaN            False     2020-12-04   \n",
       "197         2020-08-27         NaN            False     2020-12-04   \n",
       "189         2020-08-27         NaN            False     2020-12-04   \n",
       "\n",
       "     Usia Keluar  Nama Fansclub  \\\n",
       "112         20.0    Dhikeringer   \n",
       "77          22.0    Nyasshiteru   \n",
       "129         26.0      Melodiest   \n",
       "123         17.0    Nabilaholic   \n",
       "121         23.0        Veloved   \n",
       "..           ...            ...   \n",
       "194          NaN      Indiraise   \n",
       "195          NaN      Jellybean   \n",
       "196          NaN           NASA   \n",
       "197          NaN    Raishanrise   \n",
       "189          NaN  Mandaffection   \n",
       "\n",
       "                                            Perkenalan  Usia Alasan Keluar  \\\n",
       "112  Secerah matahari, selembut embun pagi. Aku Dhike.  25.0         Lulus   \n",
       "77      Aku jalani mimpi dengan ceria! Namaku, Diasta.  29.0         Lulus   \n",
       "129            Ceria dan bersinar selalu! Aku, Melody!  28.0         Lulus   \n",
       "123  Hai, namaku Nabilah, aku si cerewet. Let's hav...  21.0        Mundur   \n",
       "121  Meskipun aku pemalu tetapi aku tetap fashionab...  27.0         Lulus   \n",
       "..                                                 ...   ...           ...   \n",
       "194                                          Tidak ada   NaN    Dibatalkan   \n",
       "195                                          Tidak ada   NaN    Dibatalkan   \n",
       "196                                          Tidak ada   NaN    Dibatalkan   \n",
       "197                                          Tidak ada   NaN    Dibatalkan   \n",
       "189                                          Tidak ada   NaN    Dibatalkan   \n",
       "\n",
       "     Waktu Aktif  \n",
       "112            5  \n",
       "77             2  \n",
       "129            6  \n",
       "123            6  \n",
       "121            6  \n",
       "..           ...  \n",
       "194            0  \n",
       "195            0  \n",
       "196            0  \n",
       "197            0  \n",
       "189            0  \n",
       "\n",
       "[196 rows x 15 columns]"
      ]
     },
     "execution_count": 16,
     "metadata": {},
     "output_type": "execute_result"
    }
   ],
   "source": [
    "df2"
   ]
  },
  {
   "cell_type": "code",
   "execution_count": 17,
   "metadata": {
    "execution": {
     "iopub.execute_input": "2021-07-15T23:25:50.109313Z",
     "iopub.status.busy": "2021-07-15T23:25:50.108946Z",
     "iopub.status.idle": "2021-07-15T23:25:50.125125Z",
     "shell.execute_reply": "2021-07-15T23:25:50.123636Z",
     "shell.execute_reply.started": "2021-07-15T23:25:50.109288Z"
    }
   },
   "outputs": [],
   "source": [
    "# Menghitung jumlah nilai pada Generasi yang berbeda dan mengurutkannya berdasarkan urutan index\n",
    "# Menyimpan output menjadi dataframe df_gen\n",
    "df_gen = df2.Generasi.value_counts().sort_index().to_frame()"
   ]
  },
  {
   "cell_type": "code",
   "execution_count": 18,
   "metadata": {
    "execution": {
     "iopub.execute_input": "2021-07-15T23:25:58.742551Z",
     "iopub.status.busy": "2021-07-15T23:25:58.742195Z",
     "iopub.status.idle": "2021-07-15T23:25:58.754207Z",
     "shell.execute_reply": "2021-07-15T23:25:58.752865Z",
     "shell.execute_reply.started": "2021-07-15T23:25:58.742522Z"
    }
   },
   "outputs": [
    {
     "data": {
      "text/html": [
       "<div>\n",
       "<style scoped>\n",
       "    .dataframe tbody tr th:only-of-type {\n",
       "        vertical-align: middle;\n",
       "    }\n",
       "\n",
       "    .dataframe tbody tr th {\n",
       "        vertical-align: top;\n",
       "    }\n",
       "\n",
       "    .dataframe thead th {\n",
       "        text-align: right;\n",
       "    }\n",
       "</style>\n",
       "<table border=\"1\" class=\"dataframe\">\n",
       "  <thead>\n",
       "    <tr style=\"text-align: right;\">\n",
       "      <th></th>\n",
       "      <th>Generasi</th>\n",
       "    </tr>\n",
       "  </thead>\n",
       "  <tbody>\n",
       "    <tr>\n",
       "      <th>1</th>\n",
       "      <td>28</td>\n",
       "    </tr>\n",
       "    <tr>\n",
       "      <th>2</th>\n",
       "      <td>31</td>\n",
       "    </tr>\n",
       "    <tr>\n",
       "      <th>3</th>\n",
       "      <td>32</td>\n",
       "    </tr>\n",
       "    <tr>\n",
       "      <th>4</th>\n",
       "      <td>12</td>\n",
       "    </tr>\n",
       "    <tr>\n",
       "      <th>5</th>\n",
       "      <td>17</td>\n",
       "    </tr>\n",
       "    <tr>\n",
       "      <th>6</th>\n",
       "      <td>14</td>\n",
       "    </tr>\n",
       "    <tr>\n",
       "      <th>7</th>\n",
       "      <td>20</td>\n",
       "    </tr>\n",
       "    <tr>\n",
       "      <th>8</th>\n",
       "      <td>19</td>\n",
       "    </tr>\n",
       "    <tr>\n",
       "      <th>9</th>\n",
       "      <td>12</td>\n",
       "    </tr>\n",
       "    <tr>\n",
       "      <th>10</th>\n",
       "      <td>11</td>\n",
       "    </tr>\n",
       "  </tbody>\n",
       "</table>\n",
       "</div>"
      ],
      "text/plain": [
       "    Generasi\n",
       "1         28\n",
       "2         31\n",
       "3         32\n",
       "4         12\n",
       "5         17\n",
       "6         14\n",
       "7         20\n",
       "8         19\n",
       "9         12\n",
       "10        11"
      ]
     },
     "execution_count": 18,
     "metadata": {},
     "output_type": "execute_result"
    }
   ],
   "source": [
    "df_gen"
   ]
  },
  {
   "cell_type": "code",
   "execution_count": 36,
   "metadata": {
    "execution": {
     "iopub.execute_input": "2021-07-15T23:40:04.608456Z",
     "iopub.status.busy": "2021-07-15T23:40:04.608163Z",
     "iopub.status.idle": "2021-07-15T23:40:04.808731Z",
     "shell.execute_reply": "2021-07-15T23:40:04.807314Z",
     "shell.execute_reply.started": "2021-07-15T23:40:04.608432Z"
    }
   },
   "outputs": [
    {
     "data": {
      "image/png": "[encoded data removed]",
      "text/plain": [
       "<Figure size 864x720 with 1 Axes>"
      ]
     },
     "metadata": {
      "needs_background": "light"
     },
     "output_type": "display_data"
    }
   ],
   "source": [
    "# Menampilkan member tiap generasi menjadi grafik\n",
    "num_gen = list(df_gen.index)\n",
    "sum_gen = list(df_gen.Generasi)\n",
    "\n",
    "x = np.arange(len(num_gen))\n",
    "width = 0.5\n",
    "\n",
    "fig, ax = plt.subplots()\n",
    "\n",
    "fig.set_figheight(10)\n",
    "fig.set_figwidth(12)\n",
    "ax.set_title(\"Member JKT48 Berdasar Generasi\")\n",
    "ax.set_xlabel(\"Generasi\")\n",
    "ax.set_ylabel(\"Jumlah\")\n",
    "ax.set_xticks(x)\n",
    "ax.set_xticklabels(num_gen)\n",
    "\n",
    "gen_frame = ax.bar(x, sum_gen, width, label='Generasi')\n",
    "for gen in gen_frame:\n",
    "    height = gen.get_height()\n",
    "    ax.annotate(\"{}\".format(height),\n",
    "       xy=(gen.get_x() + gen.get_width() / 2, height),\n",
    "       xytext=(0, 3),\n",
    "       textcoords=\"offset points\",\n",
    "       ha='center', va='bottom')\n",
    "\n",
    "plt.show()"
   ]
  },
  {
   "cell_type": "markdown",
   "metadata": {},
   "source": [
    "Terlihat JKT48 memiliki anggota terbanyak pada generasi 3 yaitu 32 orang dan paling sedikit pada generasi 10 yaitu hanya 11 orang"
   ]
  },
  {
   "cell_type": "markdown",
   "metadata": {},
   "source": [
    "## Membuat Chart Berdasarkan Generasi Tahun Lahir\n",
    "\n",
    "Pembagian berdasarkan:\n",
    " * Milenial : < 2000\n",
    " * Transisi : 2000\n",
    " * Gen_Z    : > 2000"
   ]
  },
  {
   "cell_type": "code",
   "execution_count": 20,
   "metadata": {
    "execution": {
     "iopub.execute_input": "2021-07-15T23:29:18.902563Z",
     "iopub.status.busy": "2021-07-15T23:29:18.902142Z",
     "iopub.status.idle": "2021-07-15T23:29:18.919757Z",
     "shell.execute_reply": "2021-07-15T23:29:18.918685Z",
     "shell.execute_reply.started": "2021-07-15T23:29:18.902531Z"
    }
   },
   "outputs": [
    {
     "name": "stdout",
     "output_type": "stream",
     "text": [
      "<class 'pandas.core.frame.DataFrame'>\n",
      "Int64Index: 196 entries, 112 to 189\n",
      "Data columns (total 15 columns):\n",
      " #   Column              Non-Null Count  Dtype         \n",
      "---  ------              --------------  -----         \n",
      " 0   Nama                196 non-null    object        \n",
      " 1   Generasi            196 non-null    int64         \n",
      " 2   Panggilan           196 non-null    object        \n",
      " 3   Tempat Lahir        185 non-null    object        \n",
      " 4   Tanggal Lahir       185 non-null    datetime64[ns]\n",
      " 5   Bergabung di JKT48  196 non-null    datetime64[ns]\n",
      " 6   Usia Debut          185 non-null    float64       \n",
      " 7   Status Terakhir     196 non-null    bool          \n",
      " 8   Tanggal Keluar      133 non-null    datetime64[ns]\n",
      " 9   Usia Keluar         122 non-null    float64       \n",
      " 10  Nama Fansclub       188 non-null    object        \n",
      " 11  Perkenalan          196 non-null    object        \n",
      " 12  Usia                185 non-null    float64       \n",
      " 13  Alasan Keluar       133 non-null    object        \n",
      " 14  Waktu Aktif         196 non-null    int64         \n",
      "dtypes: bool(1), datetime64[ns](3), float64(3), int64(2), object(6)\n",
      "memory usage: 23.2+ KB\n"
     ]
    }
   ],
   "source": [
    "# Memeriksa dataframe apakah ada yang perlu diubah\n",
    "df2.info()"
   ]
  },
  {
   "cell_type": "markdown",
   "metadata": {},
   "source": [
    "Terlihat bahwa tahun lahir sudah berupa datetime64 sehingga perlu diolah apabila tidak ada data yang kosong"
   ]
  },
  {
   "cell_type": "code",
   "execution_count": 22,
   "metadata": {
    "execution": {
     "iopub.execute_input": "2021-07-15T23:30:45.284748Z",
     "iopub.status.busy": "2021-07-15T23:30:45.284235Z",
     "iopub.status.idle": "2021-07-15T23:30:45.291855Z",
     "shell.execute_reply": "2021-07-15T23:30:45.290604Z",
     "shell.execute_reply.started": "2021-07-15T23:30:45.284710Z"
    }
   },
   "outputs": [
    {
     "data": {
      "text/plain": [
       "11"
      ]
     },
     "execution_count": 22,
     "metadata": {},
     "output_type": "execute_result"
    }
   ],
   "source": [
    "# Memeriksa jumlah dataframe tanggal lahir yang kosong\n",
    "df['Tanggal Lahir'].isna().sum()"
   ]
  },
  {
   "cell_type": "code",
   "execution_count": 23,
   "metadata": {
    "execution": {
     "iopub.execute_input": "2021-07-15T23:31:20.127483Z",
     "iopub.status.busy": "2021-07-15T23:31:20.127103Z",
     "iopub.status.idle": "2021-07-15T23:31:20.132687Z",
     "shell.execute_reply": "2021-07-15T23:31:20.131455Z",
     "shell.execute_reply.started": "2021-07-15T23:31:20.127452Z"
    }
   },
   "outputs": [],
   "source": [
    "# Membackup perubahan df2 ke df3\n",
    "df3 = df2.copy()"
   ]
  },
  {
   "cell_type": "code",
   "execution_count": 24,
   "metadata": {
    "execution": {
     "iopub.execute_input": "2021-07-15T23:31:51.777642Z",
     "iopub.status.busy": "2021-07-15T23:31:51.777289Z",
     "iopub.status.idle": "2021-07-15T23:31:51.784077Z",
     "shell.execute_reply": "2021-07-15T23:31:51.782743Z",
     "shell.execute_reply.started": "2021-07-15T23:31:51.777614Z"
    }
   },
   "outputs": [],
   "source": [
    "# Menyimpan nilai yang ada saja pada dataframe df3\n",
    "df3 = df3[~df3['Tanggal Lahir'].isnull()]"
   ]
  },
  {
   "cell_type": "code",
   "execution_count": 25,
   "metadata": {
    "execution": {
     "iopub.execute_input": "2021-07-15T23:32:19.361821Z",
     "iopub.status.busy": "2021-07-15T23:32:19.361518Z",
     "iopub.status.idle": "2021-07-15T23:32:19.371501Z",
     "shell.execute_reply": "2021-07-15T23:32:19.369369Z",
     "shell.execute_reply.started": "2021-07-15T23:32:19.361793Z"
    }
   },
   "outputs": [
    {
     "data": {
      "text/plain": [
       "0"
      ]
     },
     "execution_count": 25,
     "metadata": {},
     "output_type": "execute_result"
    }
   ],
   "source": [
    "# Memeriksa jumlah dataframe tanggal lahir yang kosong\n",
    "df3['Tanggal Lahir'].isna().sum()"
   ]
  },
  {
   "cell_type": "code",
   "execution_count": 26,
   "metadata": {
    "execution": {
     "iopub.execute_input": "2021-07-15T23:33:28.535766Z",
     "iopub.status.busy": "2021-07-15T23:33:28.535387Z",
     "iopub.status.idle": "2021-07-15T23:33:28.542253Z",
     "shell.execute_reply": "2021-07-15T23:33:28.541159Z",
     "shell.execute_reply.started": "2021-07-15T23:33:28.535734Z"
    }
   },
   "outputs": [],
   "source": [
    "# Menyimpan nilai tahun lahir dari kolom 'Tanggal Lahir' ke 'Tahun Lahir'\n",
    "df3['Tahun Lahir'] = pd.DatetimeIndex(df3[\"Tanggal Lahir\"]).year"
   ]
  },
  {
   "cell_type": "code",
   "execution_count": 27,
   "metadata": {
    "execution": {
     "iopub.execute_input": "2021-07-15T23:34:02.062456Z",
     "iopub.status.busy": "2021-07-15T23:34:02.061961Z",
     "iopub.status.idle": "2021-07-15T23:34:02.075791Z",
     "shell.execute_reply": "2021-07-15T23:34:02.075275Z",
     "shell.execute_reply.started": "2021-07-15T23:34:02.062426Z"
    }
   },
   "outputs": [
    {
     "name": "stdout",
     "output_type": "stream",
     "text": [
      "<class 'pandas.core.frame.DataFrame'>\n",
      "Int64Index: 185 entries, 112 to 56\n",
      "Data columns (total 16 columns):\n",
      " #   Column              Non-Null Count  Dtype         \n",
      "---  ------              --------------  -----         \n",
      " 0   Nama                185 non-null    object        \n",
      " 1   Generasi            185 non-null    int64         \n",
      " 2   Panggilan           185 non-null    object        \n",
      " 3   Tempat Lahir        185 non-null    object        \n",
      " 4   Tanggal Lahir       185 non-null    datetime64[ns]\n",
      " 5   Bergabung di JKT48  185 non-null    datetime64[ns]\n",
      " 6   Usia Debut          185 non-null    float64       \n",
      " 7   Status Terakhir     185 non-null    bool          \n",
      " 8   Tanggal Keluar      122 non-null    datetime64[ns]\n",
      " 9   Usia Keluar         122 non-null    float64       \n",
      " 10  Nama Fansclub       178 non-null    object        \n",
      " 11  Perkenalan          185 non-null    object        \n",
      " 12  Usia                185 non-null    float64       \n",
      " 13  Alasan Keluar       122 non-null    object        \n",
      " 14  Waktu Aktif         185 non-null    int64         \n",
      " 15  Tahun Lahir         185 non-null    int64         \n",
      "dtypes: bool(1), datetime64[ns](3), float64(3), int64(3), object(6)\n",
      "memory usage: 23.3+ KB\n"
     ]
    }
   ],
   "source": [
    "# Memeriksa Tahun Lahir apakah sudah ditambahkan\n",
    "df3.info()"
   ]
  },
  {
   "cell_type": "code",
   "execution_count": 28,
   "metadata": {
    "execution": {
     "iopub.execute_input": "2021-07-15T23:34:23.184837Z",
     "iopub.status.busy": "2021-07-15T23:34:23.184299Z",
     "iopub.status.idle": "2021-07-15T23:34:23.193797Z",
     "shell.execute_reply": "2021-07-15T23:34:23.192577Z",
     "shell.execute_reply.started": "2021-07-15T23:34:23.184802Z"
    }
   },
   "outputs": [
    {
     "data": {
      "text/plain": [
       "112    1995\n",
       "77     1991\n",
       "129    1992\n",
       "123    1999\n",
       "121    1993\n",
       "       ... \n",
       "62     2003\n",
       "57     2006\n",
       "49     2009\n",
       "175    2003\n",
       "56     2001\n",
       "Name: Tahun Lahir, Length: 185, dtype: int64"
      ]
     },
     "execution_count": 28,
     "metadata": {},
     "output_type": "execute_result"
    }
   ],
   "source": [
    "df3['Tahun Lahir']"
   ]
  },
  {
   "cell_type": "code",
   "execution_count": 29,
   "metadata": {
    "execution": {
     "iopub.execute_input": "2021-07-15T23:35:02.527788Z",
     "iopub.status.busy": "2021-07-15T23:35:02.527372Z",
     "iopub.status.idle": "2021-07-15T23:35:02.531500Z",
     "shell.execute_reply": "2021-07-15T23:35:02.530635Z",
     "shell.execute_reply.started": "2021-07-15T23:35:02.527764Z"
    }
   },
   "outputs": [],
   "source": [
    "# Menyimpan data Tahun Lahir ke frame baru\n",
    "df_year = df3['Tahun Lahir'].to_frame()"
   ]
  },
  {
   "cell_type": "code",
   "execution_count": 30,
   "metadata": {
    "execution": {
     "iopub.execute_input": "2021-07-15T23:35:07.375795Z",
     "iopub.status.busy": "2021-07-15T23:35:07.375495Z",
     "iopub.status.idle": "2021-07-15T23:35:07.386242Z",
     "shell.execute_reply": "2021-07-15T23:35:07.385136Z",
     "shell.execute_reply.started": "2021-07-15T23:35:07.375771Z"
    }
   },
   "outputs": [
    {
     "data": {
      "text/html": [
       "<div>\n",
       "<style scoped>\n",
       "    .dataframe tbody tr th:only-of-type {\n",
       "        vertical-align: middle;\n",
       "    }\n",
       "\n",
       "    .dataframe tbody tr th {\n",
       "        vertical-align: top;\n",
       "    }\n",
       "\n",
       "    .dataframe thead th {\n",
       "        text-align: right;\n",
       "    }\n",
       "</style>\n",
       "<table border=\"1\" class=\"dataframe\">\n",
       "  <thead>\n",
       "    <tr style=\"text-align: right;\">\n",
       "      <th></th>\n",
       "      <th>Tahun Lahir</th>\n",
       "    </tr>\n",
       "  </thead>\n",
       "  <tbody>\n",
       "    <tr>\n",
       "      <th>112</th>\n",
       "      <td>1995</td>\n",
       "    </tr>\n",
       "    <tr>\n",
       "      <th>77</th>\n",
       "      <td>1991</td>\n",
       "    </tr>\n",
       "    <tr>\n",
       "      <th>129</th>\n",
       "      <td>1992</td>\n",
       "    </tr>\n",
       "    <tr>\n",
       "      <th>123</th>\n",
       "      <td>1999</td>\n",
       "    </tr>\n",
       "    <tr>\n",
       "      <th>121</th>\n",
       "      <td>1993</td>\n",
       "    </tr>\n",
       "    <tr>\n",
       "      <th>...</th>\n",
       "      <td>...</td>\n",
       "    </tr>\n",
       "    <tr>\n",
       "      <th>62</th>\n",
       "      <td>2003</td>\n",
       "    </tr>\n",
       "    <tr>\n",
       "      <th>57</th>\n",
       "      <td>2006</td>\n",
       "    </tr>\n",
       "    <tr>\n",
       "      <th>49</th>\n",
       "      <td>2009</td>\n",
       "    </tr>\n",
       "    <tr>\n",
       "      <th>175</th>\n",
       "      <td>2003</td>\n",
       "    </tr>\n",
       "    <tr>\n",
       "      <th>56</th>\n",
       "      <td>2001</td>\n",
       "    </tr>\n",
       "  </tbody>\n",
       "</table>\n",
       "<p>185 rows × 1 columns</p>\n",
       "</div>"
      ],
      "text/plain": [
       "     Tahun Lahir\n",
       "112         1995\n",
       "77          1991\n",
       "129         1992\n",
       "123         1999\n",
       "121         1993\n",
       "..           ...\n",
       "62          2003\n",
       "57          2006\n",
       "49          2009\n",
       "175         2003\n",
       "56          2001\n",
       "\n",
       "[185 rows x 1 columns]"
      ]
     },
     "execution_count": 30,
     "metadata": {},
     "output_type": "execute_result"
    }
   ],
   "source": [
    "df_year"
   ]
  },
  {
   "cell_type": "code",
   "execution_count": 31,
   "metadata": {
    "execution": {
     "iopub.execute_input": "2021-07-15T23:36:19.719099Z",
     "iopub.status.busy": "2021-07-15T23:36:19.718699Z",
     "iopub.status.idle": "2021-07-15T23:36:19.752831Z",
     "shell.execute_reply": "2021-07-15T23:36:19.751500Z",
     "shell.execute_reply.started": "2021-07-15T23:36:19.719068Z"
    }
   },
   "outputs": [],
   "source": [
    "# Membagi kelas generasi berdasarkan tahun lahir\n",
    "millenial = df_year[df_year['Tahun Lahir'] < 2000]\n",
    "transisi = df_year[df_year['Tahun Lahir'] == 2000]\n",
    "gen_z = df_year[df_year['Tahun Lahir'] > 2000]"
   ]
  },
  {
   "cell_type": "code",
   "execution_count": 32,
   "metadata": {
    "execution": {
     "iopub.execute_input": "2021-07-15T23:36:56.864053Z",
     "iopub.status.busy": "2021-07-15T23:36:56.863645Z",
     "iopub.status.idle": "2021-07-15T23:36:56.871641Z",
     "shell.execute_reply": "2021-07-15T23:36:56.870469Z",
     "shell.execute_reply.started": "2021-07-15T23:36:56.864020Z"
    }
   },
   "outputs": [],
   "source": [
    "# Membuat list dari data yang sudah ada\n",
    "gen_names = ['millenial', 'transisi', 'gen_z']\n",
    "gen_total = [len(millenial), len(transisi), len(gen_z)]\n",
    "\n",
    "# Merubah list menjadi dataframe\n",
    "df_tahun = pd.DataFrame(list(zip(gen_names, gen_total)), columns=['Generasi', 'Jumlah'])"
   ]
  },
  {
   "cell_type": "code",
   "execution_count": 33,
   "metadata": {
    "execution": {
     "iopub.execute_input": "2021-07-15T23:37:00.152904Z",
     "iopub.status.busy": "2021-07-15T23:37:00.152404Z",
     "iopub.status.idle": "2021-07-15T23:37:00.163453Z",
     "shell.execute_reply": "2021-07-15T23:37:00.161971Z",
     "shell.execute_reply.started": "2021-07-15T23:37:00.152874Z"
    }
   },
   "outputs": [
    {
     "data": {
      "text/html": [
       "<div>\n",
       "<style scoped>\n",
       "    .dataframe tbody tr th:only-of-type {\n",
       "        vertical-align: middle;\n",
       "    }\n",
       "\n",
       "    .dataframe tbody tr th {\n",
       "        vertical-align: top;\n",
       "    }\n",
       "\n",
       "    .dataframe thead th {\n",
       "        text-align: right;\n",
       "    }\n",
       "</style>\n",
       "<table border=\"1\" class=\"dataframe\">\n",
       "  <thead>\n",
       "    <tr style=\"text-align: right;\">\n",
       "      <th></th>\n",
       "      <th>Generasi</th>\n",
       "      <th>Jumlah</th>\n",
       "    </tr>\n",
       "  </thead>\n",
       "  <tbody>\n",
       "    <tr>\n",
       "      <th>0</th>\n",
       "      <td>millenial</td>\n",
       "      <td>96</td>\n",
       "    </tr>\n",
       "    <tr>\n",
       "      <th>1</th>\n",
       "      <td>transisi</td>\n",
       "      <td>24</td>\n",
       "    </tr>\n",
       "    <tr>\n",
       "      <th>2</th>\n",
       "      <td>gen_z</td>\n",
       "      <td>65</td>\n",
       "    </tr>\n",
       "  </tbody>\n",
       "</table>\n",
       "</div>"
      ],
      "text/plain": [
       "    Generasi  Jumlah\n",
       "0  millenial      96\n",
       "1   transisi      24\n",
       "2      gen_z      65"
      ]
     },
     "execution_count": 33,
     "metadata": {},
     "output_type": "execute_result"
    }
   ],
   "source": [
    "df_tahun"
   ]
  },
  {
   "cell_type": "code",
   "execution_count": 40,
   "metadata": {
    "execution": {
     "iopub.execute_input": "2021-07-15T23:42:28.775927Z",
     "iopub.status.busy": "2021-07-15T23:42:28.775626Z",
     "iopub.status.idle": "2021-07-15T23:42:28.911456Z",
     "shell.execute_reply": "2021-07-15T23:42:28.909764Z",
     "shell.execute_reply.started": "2021-07-15T23:42:28.775903Z"
    }
   },
   "outputs": [
    {
     "data": {
      "image/png": "[encoded data removed]",
      "text/plain": [
       "<Figure size 864x720 with 1 Axes>"
      ]
     },
     "metadata": {
      "needs_background": "light"
     },
     "output_type": "display_data"
    }
   ],
   "source": [
    "# Menampilkan member tiap generasi tahun lahir menjadi grafik\n",
    "num_gen_2 = list(df_tahun.Generasi)\n",
    "sum_gen_2 = list(df_tahun.Jumlah)\n",
    "\n",
    "x = np.arange(len(num_gen_2))\n",
    "width = 0.5\n",
    "\n",
    "fig, ax = plt.subplots()\n",
    "\n",
    "fig.set_figheight(10)\n",
    "fig.set_figwidth(12)\n",
    "ax.set_title(\"Jumlah Tiap Generasi Kelahiran\")\n",
    "ax.set_xlabel(\"Gen\")\n",
    "ax.set_ylabel(\"Jumlah\")\n",
    "ax.set_xticks(x)\n",
    "ax.set_xticklabels(num_gen_2)\n",
    "\n",
    "gen_frame = ax.bar(x, sum_gen_2, width)\n",
    "for gen in gen_frame:\n",
    "    height = gen.get_height()\n",
    "    ax.annotate(\"{}\".format(height),\n",
    "       xy=(gen.get_x() + gen.get_width() / 2, height),\n",
    "       xytext=(0, 3),\n",
    "       textcoords=\"offset points\",\n",
    "       ha='center', va='bottom')\n",
    "\n",
    "plt.show()"
   ]
  },
  {
   "cell_type": "markdown",
   "metadata": {},
   "source": [
    "Pembagian generasi ini merupakan preferensi yang saya buat secara mandiri, hal ini karena menurut saya orang yang lahir tahun 2000 memiliki sifat transisi antara millenial dan z. Mereka memiliki kehidupan yang merasakan permaianan bersama lingkungan dan virtual secara berdekatan. \n",
    "\n",
    "Terlihat pada data tersebut, anggota JKT48 yang paling tinggi diduduki oleh para millenial yang lahir sebelum tahun 2000 yaitu berjumlah 96 orang, kemudian dilanjutkan orang yang lahir setelah tahun 2000 berjumlah 65 orang. Disini terlihat pula, bahwa para gen transisi, memiliki nilai yang cukup kuat diantara keduanya yaitu 24 orang."
   ]
  },
  {
   "cell_type": "markdown",
   "metadata": {
    "execution": {
     "iopub.execute_input": "2021-07-15T23:45:42.751301Z",
     "iopub.status.busy": "2021-07-15T23:45:42.750959Z",
     "iopub.status.idle": "2021-07-15T23:45:42.756453Z",
     "shell.execute_reply": "2021-07-15T23:45:42.754446Z",
     "shell.execute_reply.started": "2021-07-15T23:45:42.751277Z"
    }
   },
   "source": [
    "## Penutup\n",
    "\n",
    "Notebook ini hanya sekedar latihan belaka, tidak ada maksud untuk mengunggulkan suatu generasi maupun merendahkan generasi yang lain. Penulis berharap pembaca dapat mempraktikkan tahap serupa pada kasus yang lain. Tujuannya tentu untuk meningkatkan jumlah penggiat aktif data science Indonesia.\n",
    "\n",
    "Dapat diaskes: [Kaggle](https://www.kaggle.com/cmglonly/eda-member-jkt48)"
   ]
  }
 ],
 "metadata": {
  "kernelspec": {
   "display_name": "Python 3",
   "language": "python",
   "name": "python3"
  },
  "language_info": {
   "codemirror_mode": {
    "name": "ipython",
    "version": 3
   },
   "file_extension": ".py",
   "mimetype": "text/x-python",
   "name": "python",
   "nbconvert_exporter": "python",
   "pygments_lexer": "ipython3",
   "version": "3.9.0"
  }
 },
 "nbformat": 4,
 "nbformat_minor": 4
}
