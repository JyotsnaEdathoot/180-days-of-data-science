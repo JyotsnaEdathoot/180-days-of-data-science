{
 "cells": [
  {
   "cell_type": "markdown",
   "source": [
    "# Analyzing K-Pop Using Machine Learning (PART I)\r\n",
    "\r\n",
    "[Import Data](https://www.youtube.com/watch?v=IkhorCY5tFA)"
   ],
   "metadata": {}
  },
  {
   "cell_type": "markdown",
   "source": [
    "## Data Collection & Cleaning"
   ],
   "metadata": {}
  },
  {
   "cell_type": "markdown",
   "source": [
    "### Import modules"
   ],
   "metadata": {}
  },
  {
   "cell_type": "code",
   "execution_count": 2,
   "source": [
    "import pandas as pd\r\n",
    "import numpy as np"
   ],
   "outputs": [],
   "metadata": {}
  },
  {
   "cell_type": "markdown",
   "source": [
    "### Import data\r\n"
   ],
   "metadata": {}
  },
  {
   "cell_type": "code",
   "execution_count": 3,
   "source": [
    "df = pd.read_excel(\"KPOP DATA.xlsx\")"
   ],
   "outputs": [],
   "metadata": {}
  },
  {
   "cell_type": "code",
   "execution_count": 4,
   "source": [
    "df.head()"
   ],
   "outputs": [
    {
     "output_type": "execute_result",
     "data": {
      "text/html": [
       "<div>\n",
       "<style scoped>\n",
       "    .dataframe tbody tr th:only-of-type {\n",
       "        vertical-align: middle;\n",
       "    }\n",
       "\n",
       "    .dataframe tbody tr th {\n",
       "        vertical-align: top;\n",
       "    }\n",
       "\n",
       "    .dataframe thead th {\n",
       "        text-align: right;\n",
       "    }\n",
       "</style>\n",
       "<table border=\"1\" class=\"dataframe\">\n",
       "  <thead>\n",
       "    <tr style=\"text-align: right;\">\n",
       "      <th></th>\n",
       "      <th>Timestamp</th>\n",
       "      <th>Which is your favourite K-Pop group?</th>\n",
       "      <th>Is K-Pop popular in your country?</th>\n",
       "      <th>Why do you like K-Pop?</th>\n",
       "      <th>When did you start listening to K-Pop?</th>\n",
       "      <th>Do you listen to K-Pop male groups more than girl group songs?</th>\n",
       "      <th>How many hours do you spend listening to K-Pop?</th>\n",
       "      <th>Do you watch K-Pop Youtube videos?</th>\n",
       "      <th>If you do watch K-Pop music videos, how long do you spend watching them?</th>\n",
       "      <th>Would you say that you are obsessed with K-Pop?</th>\n",
       "      <th>...</th>\n",
       "      <th>Has consuming K-Pop affected your personal life in the following ways?</th>\n",
       "      <th>Have you experienced any positive effects after consuming K-Pop?</th>\n",
       "      <th>On an average, in one year, how much do you spend on K-Pop merchandise?</th>\n",
       "      <th>If you do spend money on K-Pop merchandise, where do you get money from?</th>\n",
       "      <th>Do you attend K-Pop concerts?</th>\n",
       "      <th>What is the craziest thing you have done in your pursuit and love for K-Pop?</th>\n",
       "      <th>How old are you?</th>\n",
       "      <th>Which country are you from?</th>\n",
       "      <th>What is your profession?</th>\n",
       "      <th>What is your gender?</th>\n",
       "    </tr>\n",
       "  </thead>\n",
       "  <tbody>\n",
       "    <tr>\n",
       "      <th>0</th>\n",
       "      <td>2019/02/23 4:04:31 AM GMT+5:30</td>\n",
       "      <td>BTS</td>\n",
       "      <td>Its gaining popularity</td>\n",
       "      <td>Its different from the usual music. I like som...</td>\n",
       "      <td>1 -2 years ago</td>\n",
       "      <td>Its about the music, not the gender</td>\n",
       "      <td>5 or more</td>\n",
       "      <td>Yes</td>\n",
       "      <td>2-3 hours</td>\n",
       "      <td>Not sure</td>\n",
       "      <td>...</td>\n",
       "      <td>Led to you being cajoled (made fun of) by clas...</td>\n",
       "      <td>Reduced stress/anxiety/depression</td>\n",
       "      <td>50 - 100 $</td>\n",
       "      <td>I have a full - time job</td>\n",
       "      <td>Yes</td>\n",
       "      <td>Missed days of work and school to attend concerts</td>\n",
       "      <td>15 - 20 years</td>\n",
       "      <td>A country in the UK</td>\n",
       "      <td>Sales</td>\n",
       "      <td>Female</td>\n",
       "    </tr>\n",
       "    <tr>\n",
       "      <th>1</th>\n",
       "      <td>2019/02/23 4:04:38 AM GMT+5:30</td>\n",
       "      <td>BTS</td>\n",
       "      <td>Its gaining popularity</td>\n",
       "      <td>Its different from the usual music. I like som...</td>\n",
       "      <td>3-4 years ago</td>\n",
       "      <td>I listen to both</td>\n",
       "      <td>2-4 hours</td>\n",
       "      <td>Yes</td>\n",
       "      <td>2-3 hours</td>\n",
       "      <td>Yes</td>\n",
       "      <td>...</td>\n",
       "      <td>Led to you being cajoled (made fun of) by clas...</td>\n",
       "      <td>Made friends who are like-minded</td>\n",
       "      <td>Below 50$</td>\n",
       "      <td>Working part-time</td>\n",
       "      <td>I want to, but the K-Pop groups don't come to ...</td>\n",
       "      <td>Listened to K-Pop without studying or working ...</td>\n",
       "      <td>15 - 20 years</td>\n",
       "      <td>A country in the UK</td>\n",
       "      <td>Student</td>\n",
       "      <td>Female</td>\n",
       "    </tr>\n",
       "    <tr>\n",
       "      <th>2</th>\n",
       "      <td>2019/02/23 4:04:56 AM GMT+5:30</td>\n",
       "      <td>BTS;MONSTA X</td>\n",
       "      <td>Its gaining popularity</td>\n",
       "      <td>Its different from the usual music. I like som...</td>\n",
       "      <td>More than 4 years ago</td>\n",
       "      <td>Its about the music, not the gender</td>\n",
       "      <td>2-4 hours</td>\n",
       "      <td>Yes</td>\n",
       "      <td>2-3 hours</td>\n",
       "      <td>No</td>\n",
       "      <td>...</td>\n",
       "      <td>Led to you being cajoled (made fun of) by clas...</td>\n",
       "      <td>Made friends who are like-minded</td>\n",
       "      <td>50 - 100 $</td>\n",
       "      <td>Working part-time</td>\n",
       "      <td>Yes</td>\n",
       "      <td>Nothing as such</td>\n",
       "      <td>15 - 20 years</td>\n",
       "      <td>Other European countries</td>\n",
       "      <td>Student</td>\n",
       "      <td>Female</td>\n",
       "    </tr>\n",
       "    <tr>\n",
       "      <th>3</th>\n",
       "      <td>2019/02/23 4:04:58 AM GMT+5:30</td>\n",
       "      <td>BTS</td>\n",
       "      <td>Its gaining popularity</td>\n",
       "      <td>Its different from the usual music. I like som...</td>\n",
       "      <td>3-4 years ago</td>\n",
       "      <td>I listen to both</td>\n",
       "      <td>5 or more</td>\n",
       "      <td>Yes</td>\n",
       "      <td>3-4 hours</td>\n",
       "      <td>No</td>\n",
       "      <td>...</td>\n",
       "      <td>Led to you being cajoled (made fun of) by clas...</td>\n",
       "      <td>Reduced stress/anxiety/depression</td>\n",
       "      <td>50 - 100 $</td>\n",
       "      <td>Working part-time</td>\n",
       "      <td>Yes</td>\n",
       "      <td>Nothing as such</td>\n",
       "      <td>21 - 26 years</td>\n",
       "      <td>USA</td>\n",
       "      <td>Student</td>\n",
       "      <td>Female</td>\n",
       "    </tr>\n",
       "    <tr>\n",
       "      <th>4</th>\n",
       "      <td>2019/02/23 4:05:12 AM GMT+5:30</td>\n",
       "      <td>BTS</td>\n",
       "      <td>Yes</td>\n",
       "      <td>Its different from the usual music. I like som...</td>\n",
       "      <td>3-4 years ago</td>\n",
       "      <td>Yes</td>\n",
       "      <td>5 or more</td>\n",
       "      <td>Yes</td>\n",
       "      <td>2-3 hours</td>\n",
       "      <td>Not sure</td>\n",
       "      <td>...</td>\n",
       "      <td>Led to you being cajoled (made fun of) by clas...</td>\n",
       "      <td>Reduced stress/anxiety/depression</td>\n",
       "      <td>100 - 200$</td>\n",
       "      <td>Parents</td>\n",
       "      <td>I want to, but the K-Pop groups don't come to ...</td>\n",
       "      <td>Nothing as such</td>\n",
       "      <td>15 - 20 years</td>\n",
       "      <td>USA</td>\n",
       "      <td>Student</td>\n",
       "      <td>Female</td>\n",
       "    </tr>\n",
       "  </tbody>\n",
       "</table>\n",
       "<p>5 rows × 23 columns</p>\n",
       "</div>"
      ],
      "text/plain": [
       "                        Timestamp Which is your favourite K-Pop group?  \\\n",
       "0  2019/02/23 4:04:31 AM GMT+5:30                                  BTS   \n",
       "1  2019/02/23 4:04:38 AM GMT+5:30                                  BTS   \n",
       "2  2019/02/23 4:04:56 AM GMT+5:30                         BTS;MONSTA X   \n",
       "3  2019/02/23 4:04:58 AM GMT+5:30                                  BTS   \n",
       "4  2019/02/23 4:05:12 AM GMT+5:30                                  BTS   \n",
       "\n",
       "  Is K-Pop popular in your country?   \\\n",
       "0             Its gaining popularity   \n",
       "1             Its gaining popularity   \n",
       "2             Its gaining popularity   \n",
       "3             Its gaining popularity   \n",
       "4                                Yes   \n",
       "\n",
       "                              Why do you like K-Pop?  \\\n",
       "0  Its different from the usual music. I like som...   \n",
       "1  Its different from the usual music. I like som...   \n",
       "2  Its different from the usual music. I like som...   \n",
       "3  Its different from the usual music. I like som...   \n",
       "4  Its different from the usual music. I like som...   \n",
       "\n",
       "  When did you start listening to K-Pop?  \\\n",
       "0                         1 -2 years ago   \n",
       "1                          3-4 years ago   \n",
       "2                  More than 4 years ago   \n",
       "3                          3-4 years ago   \n",
       "4                          3-4 years ago   \n",
       "\n",
       "  Do you listen to K-Pop male groups more than girl group songs?  \\\n",
       "0                Its about the music, not the gender               \n",
       "1                                   I listen to both               \n",
       "2                Its about the music, not the gender               \n",
       "3                                   I listen to both               \n",
       "4                                                Yes               \n",
       "\n",
       "  How many hours do you spend listening to K-Pop?  \\\n",
       "0                                       5 or more   \n",
       "1                                       2-4 hours   \n",
       "2                                       2-4 hours   \n",
       "3                                       5 or more   \n",
       "4                                       5 or more   \n",
       "\n",
       "  Do you watch K-Pop Youtube videos?  \\\n",
       "0                                Yes   \n",
       "1                                Yes   \n",
       "2                                Yes   \n",
       "3                                Yes   \n",
       "4                                Yes   \n",
       "\n",
       "  If you do watch K-Pop music videos, how long do you spend watching them?  \\\n",
       "0                                          2-3 hours                         \n",
       "1                                          2-3 hours                         \n",
       "2                                          2-3 hours                         \n",
       "3                                          3-4 hours                         \n",
       "4                                          2-3 hours                         \n",
       "\n",
       "  Would you say that you are obsessed with K-Pop?  ...  \\\n",
       "0                                        Not sure  ...   \n",
       "1                                             Yes  ...   \n",
       "2                                              No  ...   \n",
       "3                                              No  ...   \n",
       "4                                        Not sure  ...   \n",
       "\n",
       "  Has consuming K-Pop affected your personal life in the following ways?  \\\n",
       "0  Led to you being cajoled (made fun of) by clas...                       \n",
       "1  Led to you being cajoled (made fun of) by clas...                       \n",
       "2  Led to you being cajoled (made fun of) by clas...                       \n",
       "3  Led to you being cajoled (made fun of) by clas...                       \n",
       "4  Led to you being cajoled (made fun of) by clas...                       \n",
       "\n",
       "  Have you experienced any positive effects after consuming K-Pop?   \\\n",
       "0                  Reduced stress/anxiety/depression                  \n",
       "1                   Made friends who are like-minded                  \n",
       "2                   Made friends who are like-minded                  \n",
       "3                  Reduced stress/anxiety/depression                  \n",
       "4                  Reduced stress/anxiety/depression                  \n",
       "\n",
       "  On an average, in one year, how much do you spend on K-Pop merchandise?  \\\n",
       "0                                         50 - 100 $                        \n",
       "1                                          Below 50$                        \n",
       "2                                         50 - 100 $                        \n",
       "3                                         50 - 100 $                        \n",
       "4                                         100 - 200$                        \n",
       "\n",
       "  If you do spend money on K-Pop merchandise, where do you get money from?  \\\n",
       "0                           I have a full - time job                         \n",
       "1                                  Working part-time                         \n",
       "2                                  Working part-time                         \n",
       "3                                  Working part-time                         \n",
       "4                                            Parents                         \n",
       "\n",
       "                       Do you attend K-Pop concerts?  \\\n",
       "0                                                Yes   \n",
       "1  I want to, but the K-Pop groups don't come to ...   \n",
       "2                                                Yes   \n",
       "3                                                Yes   \n",
       "4  I want to, but the K-Pop groups don't come to ...   \n",
       "\n",
       "  What is the craziest thing you have done in your pursuit and love for K-Pop?  \\\n",
       "0  Missed days of work and school to attend concerts                             \n",
       "1  Listened to K-Pop without studying or working ...                             \n",
       "2                                    Nothing as such                             \n",
       "3                                    Nothing as such                             \n",
       "4                                    Nothing as such                             \n",
       "\n",
       "  How old are you? Which country are you from? What is your profession?  \\\n",
       "0    15 - 20 years         A country in the UK                    Sales   \n",
       "1    15 - 20 years         A country in the UK                  Student   \n",
       "2    15 - 20 years    Other European countries                  Student   \n",
       "3    21 - 26 years                         USA                  Student   \n",
       "4    15 - 20 years                         USA                  Student   \n",
       "\n",
       "  What is your gender?  \n",
       "0               Female  \n",
       "1               Female  \n",
       "2               Female  \n",
       "3               Female  \n",
       "4               Female  \n",
       "\n",
       "[5 rows x 23 columns]"
      ]
     },
     "metadata": {},
     "execution_count": 4
    }
   ],
   "metadata": {}
  },
  {
   "cell_type": "markdown",
   "source": [
    "## Data Cleaning"
   ],
   "metadata": {}
  },
  {
   "cell_type": "code",
   "execution_count": 6,
   "source": [
    "def trim(dataset):\r\n",
    "    trim = lambda x: x.strip() if type(x) is str else x\r\n",
    "    return dataset.applymap(trim)\r\n",
    "\r\n",
    "df = trim(df)"
   ],
   "outputs": [],
   "metadata": {}
  },
  {
   "cell_type": "code",
   "execution_count": 8,
   "source": [
    "df.head()"
   ],
   "outputs": [
    {
     "output_type": "execute_result",
     "data": {
      "text/html": [
       "<div>\n",
       "<style scoped>\n",
       "    .dataframe tbody tr th:only-of-type {\n",
       "        vertical-align: middle;\n",
       "    }\n",
       "\n",
       "    .dataframe tbody tr th {\n",
       "        vertical-align: top;\n",
       "    }\n",
       "\n",
       "    .dataframe thead th {\n",
       "        text-align: right;\n",
       "    }\n",
       "</style>\n",
       "<table border=\"1\" class=\"dataframe\">\n",
       "  <thead>\n",
       "    <tr style=\"text-align: right;\">\n",
       "      <th></th>\n",
       "      <th>Timestamp</th>\n",
       "      <th>Which is your favourite K-Pop group?</th>\n",
       "      <th>Is K-Pop popular in your country?</th>\n",
       "      <th>Why do you like K-Pop?</th>\n",
       "      <th>When did you start listening to K-Pop?</th>\n",
       "      <th>Do you listen to K-Pop male groups more than girl group songs?</th>\n",
       "      <th>How many hours do you spend listening to K-Pop?</th>\n",
       "      <th>Do you watch K-Pop Youtube videos?</th>\n",
       "      <th>If you do watch K-Pop music videos, how long do you spend watching them?</th>\n",
       "      <th>Would you say that you are obsessed with K-Pop?</th>\n",
       "      <th>...</th>\n",
       "      <th>Has consuming K-Pop affected your personal life in the following ways?</th>\n",
       "      <th>Have you experienced any positive effects after consuming K-Pop?</th>\n",
       "      <th>On an average, in one year, how much do you spend on K-Pop merchandise?</th>\n",
       "      <th>If you do spend money on K-Pop merchandise, where do you get money from?</th>\n",
       "      <th>Do you attend K-Pop concerts?</th>\n",
       "      <th>What is the craziest thing you have done in your pursuit and love for K-Pop?</th>\n",
       "      <th>How old are you?</th>\n",
       "      <th>Which country are you from?</th>\n",
       "      <th>What is your profession?</th>\n",
       "      <th>What is your gender?</th>\n",
       "    </tr>\n",
       "  </thead>\n",
       "  <tbody>\n",
       "    <tr>\n",
       "      <th>0</th>\n",
       "      <td>2019/02/23 4:04:31 AM GMT+5:30</td>\n",
       "      <td>BTS</td>\n",
       "      <td>Its gaining popularity</td>\n",
       "      <td>Its different from the usual music. I like som...</td>\n",
       "      <td>1 -2 years ago</td>\n",
       "      <td>Its about the music, not the gender</td>\n",
       "      <td>5 or more</td>\n",
       "      <td>Yes</td>\n",
       "      <td>2-3 hours</td>\n",
       "      <td>Not sure</td>\n",
       "      <td>...</td>\n",
       "      <td>Led to you being cajoled (made fun of) by clas...</td>\n",
       "      <td>Reduced stress/anxiety/depression</td>\n",
       "      <td>50 - 100 $</td>\n",
       "      <td>I have a full - time job</td>\n",
       "      <td>Yes</td>\n",
       "      <td>Missed days of work and school to attend concerts</td>\n",
       "      <td>15 - 20 years</td>\n",
       "      <td>A country in the UK</td>\n",
       "      <td>Sales</td>\n",
       "      <td>Female</td>\n",
       "    </tr>\n",
       "    <tr>\n",
       "      <th>1</th>\n",
       "      <td>2019/02/23 4:04:38 AM GMT+5:30</td>\n",
       "      <td>BTS</td>\n",
       "      <td>Its gaining popularity</td>\n",
       "      <td>Its different from the usual music. I like som...</td>\n",
       "      <td>3-4 years ago</td>\n",
       "      <td>I listen to both</td>\n",
       "      <td>2-4 hours</td>\n",
       "      <td>Yes</td>\n",
       "      <td>2-3 hours</td>\n",
       "      <td>Yes</td>\n",
       "      <td>...</td>\n",
       "      <td>Led to you being cajoled (made fun of) by clas...</td>\n",
       "      <td>Made friends who are like-minded</td>\n",
       "      <td>Below 50$</td>\n",
       "      <td>Working part-time</td>\n",
       "      <td>I want to, but the K-Pop groups don't come to ...</td>\n",
       "      <td>Listened to K-Pop without studying or working ...</td>\n",
       "      <td>15 - 20 years</td>\n",
       "      <td>A country in the UK</td>\n",
       "      <td>Student</td>\n",
       "      <td>Female</td>\n",
       "    </tr>\n",
       "    <tr>\n",
       "      <th>2</th>\n",
       "      <td>2019/02/23 4:04:56 AM GMT+5:30</td>\n",
       "      <td>BTS;MONSTA X</td>\n",
       "      <td>Its gaining popularity</td>\n",
       "      <td>Its different from the usual music. I like som...</td>\n",
       "      <td>More than 4 years ago</td>\n",
       "      <td>Its about the music, not the gender</td>\n",
       "      <td>2-4 hours</td>\n",
       "      <td>Yes</td>\n",
       "      <td>2-3 hours</td>\n",
       "      <td>No</td>\n",
       "      <td>...</td>\n",
       "      <td>Led to you being cajoled (made fun of) by clas...</td>\n",
       "      <td>Made friends who are like-minded</td>\n",
       "      <td>50 - 100 $</td>\n",
       "      <td>Working part-time</td>\n",
       "      <td>Yes</td>\n",
       "      <td>Nothing as such</td>\n",
       "      <td>15 - 20 years</td>\n",
       "      <td>Other European countries</td>\n",
       "      <td>Student</td>\n",
       "      <td>Female</td>\n",
       "    </tr>\n",
       "    <tr>\n",
       "      <th>3</th>\n",
       "      <td>2019/02/23 4:04:58 AM GMT+5:30</td>\n",
       "      <td>BTS</td>\n",
       "      <td>Its gaining popularity</td>\n",
       "      <td>Its different from the usual music. I like som...</td>\n",
       "      <td>3-4 years ago</td>\n",
       "      <td>I listen to both</td>\n",
       "      <td>5 or more</td>\n",
       "      <td>Yes</td>\n",
       "      <td>3-4 hours</td>\n",
       "      <td>No</td>\n",
       "      <td>...</td>\n",
       "      <td>Led to you being cajoled (made fun of) by clas...</td>\n",
       "      <td>Reduced stress/anxiety/depression</td>\n",
       "      <td>50 - 100 $</td>\n",
       "      <td>Working part-time</td>\n",
       "      <td>Yes</td>\n",
       "      <td>Nothing as such</td>\n",
       "      <td>21 - 26 years</td>\n",
       "      <td>USA</td>\n",
       "      <td>Student</td>\n",
       "      <td>Female</td>\n",
       "    </tr>\n",
       "    <tr>\n",
       "      <th>4</th>\n",
       "      <td>2019/02/23 4:05:12 AM GMT+5:30</td>\n",
       "      <td>BTS</td>\n",
       "      <td>Yes</td>\n",
       "      <td>Its different from the usual music. I like som...</td>\n",
       "      <td>3-4 years ago</td>\n",
       "      <td>Yes</td>\n",
       "      <td>5 or more</td>\n",
       "      <td>Yes</td>\n",
       "      <td>2-3 hours</td>\n",
       "      <td>Not sure</td>\n",
       "      <td>...</td>\n",
       "      <td>Led to you being cajoled (made fun of) by clas...</td>\n",
       "      <td>Reduced stress/anxiety/depression</td>\n",
       "      <td>100 - 200$</td>\n",
       "      <td>Parents</td>\n",
       "      <td>I want to, but the K-Pop groups don't come to ...</td>\n",
       "      <td>Nothing as such</td>\n",
       "      <td>15 - 20 years</td>\n",
       "      <td>USA</td>\n",
       "      <td>Student</td>\n",
       "      <td>Female</td>\n",
       "    </tr>\n",
       "  </tbody>\n",
       "</table>\n",
       "<p>5 rows × 23 columns</p>\n",
       "</div>"
      ],
      "text/plain": [
       "                        Timestamp Which is your favourite K-Pop group?  \\\n",
       "0  2019/02/23 4:04:31 AM GMT+5:30                                  BTS   \n",
       "1  2019/02/23 4:04:38 AM GMT+5:30                                  BTS   \n",
       "2  2019/02/23 4:04:56 AM GMT+5:30                         BTS;MONSTA X   \n",
       "3  2019/02/23 4:04:58 AM GMT+5:30                                  BTS   \n",
       "4  2019/02/23 4:05:12 AM GMT+5:30                                  BTS   \n",
       "\n",
       "  Is K-Pop popular in your country?   \\\n",
       "0             Its gaining popularity   \n",
       "1             Its gaining popularity   \n",
       "2             Its gaining popularity   \n",
       "3             Its gaining popularity   \n",
       "4                                Yes   \n",
       "\n",
       "                              Why do you like K-Pop?  \\\n",
       "0  Its different from the usual music. I like som...   \n",
       "1  Its different from the usual music. I like som...   \n",
       "2  Its different from the usual music. I like som...   \n",
       "3  Its different from the usual music. I like som...   \n",
       "4  Its different from the usual music. I like som...   \n",
       "\n",
       "  When did you start listening to K-Pop?  \\\n",
       "0                         1 -2 years ago   \n",
       "1                          3-4 years ago   \n",
       "2                  More than 4 years ago   \n",
       "3                          3-4 years ago   \n",
       "4                          3-4 years ago   \n",
       "\n",
       "  Do you listen to K-Pop male groups more than girl group songs?  \\\n",
       "0                Its about the music, not the gender               \n",
       "1                                   I listen to both               \n",
       "2                Its about the music, not the gender               \n",
       "3                                   I listen to both               \n",
       "4                                                Yes               \n",
       "\n",
       "  How many hours do you spend listening to K-Pop?  \\\n",
       "0                                       5 or more   \n",
       "1                                       2-4 hours   \n",
       "2                                       2-4 hours   \n",
       "3                                       5 or more   \n",
       "4                                       5 or more   \n",
       "\n",
       "  Do you watch K-Pop Youtube videos?  \\\n",
       "0                                Yes   \n",
       "1                                Yes   \n",
       "2                                Yes   \n",
       "3                                Yes   \n",
       "4                                Yes   \n",
       "\n",
       "  If you do watch K-Pop music videos, how long do you spend watching them?  \\\n",
       "0                                          2-3 hours                         \n",
       "1                                          2-3 hours                         \n",
       "2                                          2-3 hours                         \n",
       "3                                          3-4 hours                         \n",
       "4                                          2-3 hours                         \n",
       "\n",
       "  Would you say that you are obsessed with K-Pop?  ...  \\\n",
       "0                                        Not sure  ...   \n",
       "1                                             Yes  ...   \n",
       "2                                              No  ...   \n",
       "3                                              No  ...   \n",
       "4                                        Not sure  ...   \n",
       "\n",
       "  Has consuming K-Pop affected your personal life in the following ways?  \\\n",
       "0  Led to you being cajoled (made fun of) by clas...                       \n",
       "1  Led to you being cajoled (made fun of) by clas...                       \n",
       "2  Led to you being cajoled (made fun of) by clas...                       \n",
       "3  Led to you being cajoled (made fun of) by clas...                       \n",
       "4  Led to you being cajoled (made fun of) by clas...                       \n",
       "\n",
       "  Have you experienced any positive effects after consuming K-Pop?   \\\n",
       "0                  Reduced stress/anxiety/depression                  \n",
       "1                   Made friends who are like-minded                  \n",
       "2                   Made friends who are like-minded                  \n",
       "3                  Reduced stress/anxiety/depression                  \n",
       "4                  Reduced stress/anxiety/depression                  \n",
       "\n",
       "  On an average, in one year, how much do you spend on K-Pop merchandise?  \\\n",
       "0                                         50 - 100 $                        \n",
       "1                                          Below 50$                        \n",
       "2                                         50 - 100 $                        \n",
       "3                                         50 - 100 $                        \n",
       "4                                         100 - 200$                        \n",
       "\n",
       "  If you do spend money on K-Pop merchandise, where do you get money from?  \\\n",
       "0                           I have a full - time job                         \n",
       "1                                  Working part-time                         \n",
       "2                                  Working part-time                         \n",
       "3                                  Working part-time                         \n",
       "4                                            Parents                         \n",
       "\n",
       "                       Do you attend K-Pop concerts?  \\\n",
       "0                                                Yes   \n",
       "1  I want to, but the K-Pop groups don't come to ...   \n",
       "2                                                Yes   \n",
       "3                                                Yes   \n",
       "4  I want to, but the K-Pop groups don't come to ...   \n",
       "\n",
       "  What is the craziest thing you have done in your pursuit and love for K-Pop?  \\\n",
       "0  Missed days of work and school to attend concerts                             \n",
       "1  Listened to K-Pop without studying or working ...                             \n",
       "2                                    Nothing as such                             \n",
       "3                                    Nothing as such                             \n",
       "4                                    Nothing as such                             \n",
       "\n",
       "  How old are you? Which country are you from? What is your profession?  \\\n",
       "0    15 - 20 years         A country in the UK                    Sales   \n",
       "1    15 - 20 years         A country in the UK                  Student   \n",
       "2    15 - 20 years    Other European countries                  Student   \n",
       "3    21 - 26 years                         USA                  Student   \n",
       "4    15 - 20 years                         USA                  Student   \n",
       "\n",
       "  What is your gender?  \n",
       "0               Female  \n",
       "1               Female  \n",
       "2               Female  \n",
       "3               Female  \n",
       "4               Female  \n",
       "\n",
       "[5 rows x 23 columns]"
      ]
     },
     "metadata": {},
     "execution_count": 8
    }
   ],
   "metadata": {}
  },
  {
   "cell_type": "code",
   "execution_count": 9,
   "source": [
    "## Remove timestamp\r\n",
    "df.drop(df.columns[[0]], axis=1, inplace=True)"
   ],
   "outputs": [],
   "metadata": {}
  },
  {
   "cell_type": "code",
   "execution_count": 10,
   "source": [
    "df.tail()"
   ],
   "outputs": [
    {
     "output_type": "execute_result",
     "data": {
      "text/html": [
       "<div>\n",
       "<style scoped>\n",
       "    .dataframe tbody tr th:only-of-type {\n",
       "        vertical-align: middle;\n",
       "    }\n",
       "\n",
       "    .dataframe tbody tr th {\n",
       "        vertical-align: top;\n",
       "    }\n",
       "\n",
       "    .dataframe thead th {\n",
       "        text-align: right;\n",
       "    }\n",
       "</style>\n",
       "<table border=\"1\" class=\"dataframe\">\n",
       "  <thead>\n",
       "    <tr style=\"text-align: right;\">\n",
       "      <th></th>\n",
       "      <th>Which is your favourite K-Pop group?</th>\n",
       "      <th>Is K-Pop popular in your country?</th>\n",
       "      <th>Why do you like K-Pop?</th>\n",
       "      <th>When did you start listening to K-Pop?</th>\n",
       "      <th>Do you listen to K-Pop male groups more than girl group songs?</th>\n",
       "      <th>How many hours do you spend listening to K-Pop?</th>\n",
       "      <th>Do you watch K-Pop Youtube videos?</th>\n",
       "      <th>If you do watch K-Pop music videos, how long do you spend watching them?</th>\n",
       "      <th>Would you say that you are obsessed with K-Pop?</th>\n",
       "      <th>What do you do to keep up with K-Pop news?</th>\n",
       "      <th>...</th>\n",
       "      <th>Has consuming K-Pop affected your personal life in the following ways?</th>\n",
       "      <th>Have you experienced any positive effects after consuming K-Pop?</th>\n",
       "      <th>On an average, in one year, how much do you spend on K-Pop merchandise?</th>\n",
       "      <th>If you do spend money on K-Pop merchandise, where do you get money from?</th>\n",
       "      <th>Do you attend K-Pop concerts?</th>\n",
       "      <th>What is the craziest thing you have done in your pursuit and love for K-Pop?</th>\n",
       "      <th>How old are you?</th>\n",
       "      <th>Which country are you from?</th>\n",
       "      <th>What is your profession?</th>\n",
       "      <th>What is your gender?</th>\n",
       "    </tr>\n",
       "  </thead>\n",
       "  <tbody>\n",
       "    <tr>\n",
       "      <th>235</th>\n",
       "      <td>MONSTA X</td>\n",
       "      <td>Its gaining popularity</td>\n",
       "      <td>Its different from the usual music. I like som...</td>\n",
       "      <td>3-4 years ago</td>\n",
       "      <td>I listen to both</td>\n",
       "      <td>5 or more</td>\n",
       "      <td>Yes</td>\n",
       "      <td>3-4 hours</td>\n",
       "      <td>Not sure</td>\n",
       "      <td>Subscribe to Youtube channels</td>\n",
       "      <td>...</td>\n",
       "      <td>Reduced the amount of sleep you get</td>\n",
       "      <td>Reduced stress/anxiety/depression</td>\n",
       "      <td>I don't spend anything on merchandise</td>\n",
       "      <td>I donâ€™t</td>\n",
       "      <td>I want to, but the K-Pop groups don't come to ...</td>\n",
       "      <td>Nothing as such</td>\n",
       "      <td>15 - 20 years</td>\n",
       "      <td>Latin America</td>\n",
       "      <td>Student</td>\n",
       "      <td>Female</td>\n",
       "    </tr>\n",
       "    <tr>\n",
       "      <th>236</th>\n",
       "      <td>BTS</td>\n",
       "      <td>Yes</td>\n",
       "      <td>Its different from the usual music. I like som...</td>\n",
       "      <td>More than 4 years ago</td>\n",
       "      <td>Yes</td>\n",
       "      <td>2-4 hours</td>\n",
       "      <td>No</td>\n",
       "      <td>NaN</td>\n",
       "      <td>No</td>\n",
       "      <td>Twitter</td>\n",
       "      <td>...</td>\n",
       "      <td>Reduced your time to socialise with your frien...</td>\n",
       "      <td>Made friends who are like-minded</td>\n",
       "      <td>$2,000</td>\n",
       "      <td>Working part-time</td>\n",
       "      <td>Yes</td>\n",
       "      <td>Missed days of work and school to attend conce...</td>\n",
       "      <td>15 - 20 years</td>\n",
       "      <td>USA</td>\n",
       "      <td>Student</td>\n",
       "      <td>Female</td>\n",
       "    </tr>\n",
       "    <tr>\n",
       "      <th>237</th>\n",
       "      <td>BTS;GOT 7</td>\n",
       "      <td>I'm not sure</td>\n",
       "      <td>The videos are unique</td>\n",
       "      <td>Less than a year ago</td>\n",
       "      <td>Yes</td>\n",
       "      <td>5 or more</td>\n",
       "      <td>Yes</td>\n",
       "      <td>2-3 hours</td>\n",
       "      <td>Yes</td>\n",
       "      <td>Subscribe to Youtube channels;Join K-pop socia...</td>\n",
       "      <td>...</td>\n",
       "      <td>Reduced the amount of sleep you get</td>\n",
       "      <td>Reduced stress/anxiety/depression</td>\n",
       "      <td>I don't spend anything on merchandise</td>\n",
       "      <td>Parents</td>\n",
       "      <td>No</td>\n",
       "      <td>Listened to K-Pop without studying or working ...</td>\n",
       "      <td>10 - 14 years</td>\n",
       "      <td>USA</td>\n",
       "      <td>Student</td>\n",
       "      <td>Female</td>\n",
       "    </tr>\n",
       "    <tr>\n",
       "      <th>238</th>\n",
       "      <td>BTS</td>\n",
       "      <td>Yes</td>\n",
       "      <td>Its different from the usual music. I like som...</td>\n",
       "      <td>More than 4 years ago</td>\n",
       "      <td>I listen to both</td>\n",
       "      <td>2-4 hours</td>\n",
       "      <td>Yes</td>\n",
       "      <td>2-3 hours</td>\n",
       "      <td>Not sure</td>\n",
       "      <td>Subscribe to Youtube channels;Join K-pop socia...</td>\n",
       "      <td>...</td>\n",
       "      <td>Reduced the amount of sleep you get</td>\n",
       "      <td>Made friends who are like-minded</td>\n",
       "      <td>Below 50$</td>\n",
       "      <td>Parents</td>\n",
       "      <td>Yes</td>\n",
       "      <td>Nothing as such</td>\n",
       "      <td>15 - 20 years</td>\n",
       "      <td>Turkey</td>\n",
       "      <td>Student</td>\n",
       "      <td>Female</td>\n",
       "    </tr>\n",
       "    <tr>\n",
       "      <th>239</th>\n",
       "      <td>VIXX</td>\n",
       "      <td>Its gaining popularity</td>\n",
       "      <td>Its different from the usual music. I like som...</td>\n",
       "      <td>3-4 years ago</td>\n",
       "      <td>Yes</td>\n",
       "      <td>2-4 hours</td>\n",
       "      <td>Yes</td>\n",
       "      <td>1 hour</td>\n",
       "      <td>Not sure</td>\n",
       "      <td>Join K-pop social media groups</td>\n",
       "      <td>...</td>\n",
       "      <td>Nothing as such</td>\n",
       "      <td>Reduced stress/anxiety/depression</td>\n",
       "      <td>50 - 100 $</td>\n",
       "      <td>Working part-time</td>\n",
       "      <td>I want to, but the K-Pop groups don't come to ...</td>\n",
       "      <td>Nothing as such</td>\n",
       "      <td>15 - 20 years</td>\n",
       "      <td>Other European countries</td>\n",
       "      <td>Student</td>\n",
       "      <td>Female</td>\n",
       "    </tr>\n",
       "  </tbody>\n",
       "</table>\n",
       "<p>5 rows × 22 columns</p>\n",
       "</div>"
      ],
      "text/plain": [
       "    Which is your favourite K-Pop group? Is K-Pop popular in your country?   \\\n",
       "235                             MONSTA X             Its gaining popularity   \n",
       "236                                  BTS                                Yes   \n",
       "237                            BTS;GOT 7                       I'm not sure   \n",
       "238                                  BTS                                Yes   \n",
       "239                                 VIXX             Its gaining popularity   \n",
       "\n",
       "                                Why do you like K-Pop?  \\\n",
       "235  Its different from the usual music. I like som...   \n",
       "236  Its different from the usual music. I like som...   \n",
       "237                              The videos are unique   \n",
       "238  Its different from the usual music. I like som...   \n",
       "239  Its different from the usual music. I like som...   \n",
       "\n",
       "    When did you start listening to K-Pop?  \\\n",
       "235                          3-4 years ago   \n",
       "236                  More than 4 years ago   \n",
       "237                   Less than a year ago   \n",
       "238                  More than 4 years ago   \n",
       "239                          3-4 years ago   \n",
       "\n",
       "    Do you listen to K-Pop male groups more than girl group songs?  \\\n",
       "235                                   I listen to both               \n",
       "236                                                Yes               \n",
       "237                                                Yes               \n",
       "238                                   I listen to both               \n",
       "239                                                Yes               \n",
       "\n",
       "    How many hours do you spend listening to K-Pop?  \\\n",
       "235                                       5 or more   \n",
       "236                                       2-4 hours   \n",
       "237                                       5 or more   \n",
       "238                                       2-4 hours   \n",
       "239                                       2-4 hours   \n",
       "\n",
       "    Do you watch K-Pop Youtube videos?  \\\n",
       "235                                Yes   \n",
       "236                                 No   \n",
       "237                                Yes   \n",
       "238                                Yes   \n",
       "239                                Yes   \n",
       "\n",
       "    If you do watch K-Pop music videos, how long do you spend watching them?  \\\n",
       "235                                          3-4 hours                         \n",
       "236                                                NaN                         \n",
       "237                                          2-3 hours                         \n",
       "238                                          2-3 hours                         \n",
       "239                                             1 hour                         \n",
       "\n",
       "    Would you say that you are obsessed with K-Pop?  \\\n",
       "235                                        Not sure   \n",
       "236                                              No   \n",
       "237                                             Yes   \n",
       "238                                        Not sure   \n",
       "239                                        Not sure   \n",
       "\n",
       "            What do you do to keep up with K-Pop news?  ...  \\\n",
       "235                      Subscribe to Youtube channels  ...   \n",
       "236                                            Twitter  ...   \n",
       "237  Subscribe to Youtube channels;Join K-pop socia...  ...   \n",
       "238  Subscribe to Youtube channels;Join K-pop socia...  ...   \n",
       "239                     Join K-pop social media groups  ...   \n",
       "\n",
       "    Has consuming K-Pop affected your personal life in the following ways?  \\\n",
       "235                Reduced the amount of sleep you get                       \n",
       "236  Reduced your time to socialise with your frien...                       \n",
       "237                Reduced the amount of sleep you get                       \n",
       "238                Reduced the amount of sleep you get                       \n",
       "239                                    Nothing as such                       \n",
       "\n",
       "    Have you experienced any positive effects after consuming K-Pop?   \\\n",
       "235                  Reduced stress/anxiety/depression                  \n",
       "236                   Made friends who are like-minded                  \n",
       "237                  Reduced stress/anxiety/depression                  \n",
       "238                   Made friends who are like-minded                  \n",
       "239                  Reduced stress/anxiety/depression                  \n",
       "\n",
       "    On an average, in one year, how much do you spend on K-Pop merchandise?  \\\n",
       "235              I don't spend anything on merchandise                        \n",
       "236                                             $2,000                        \n",
       "237              I don't spend anything on merchandise                        \n",
       "238                                          Below 50$                        \n",
       "239                                         50 - 100 $                        \n",
       "\n",
       "    If you do spend money on K-Pop merchandise, where do you get money from?  \\\n",
       "235                                          I donâ€™t                         \n",
       "236                                  Working part-time                         \n",
       "237                                            Parents                         \n",
       "238                                            Parents                         \n",
       "239                                  Working part-time                         \n",
       "\n",
       "                         Do you attend K-Pop concerts?  \\\n",
       "235  I want to, but the K-Pop groups don't come to ...   \n",
       "236                                                Yes   \n",
       "237                                                 No   \n",
       "238                                                Yes   \n",
       "239  I want to, but the K-Pop groups don't come to ...   \n",
       "\n",
       "    What is the craziest thing you have done in your pursuit and love for K-Pop?  \\\n",
       "235                                    Nothing as such                             \n",
       "236  Missed days of work and school to attend conce...                             \n",
       "237  Listened to K-Pop without studying or working ...                             \n",
       "238                                    Nothing as such                             \n",
       "239                                    Nothing as such                             \n",
       "\n",
       "    How old are you? Which country are you from? What is your profession?  \\\n",
       "235    15 - 20 years               Latin America                  Student   \n",
       "236    15 - 20 years                         USA                  Student   \n",
       "237    10 - 14 years                         USA                  Student   \n",
       "238    15 - 20 years                      Turkey                  Student   \n",
       "239    15 - 20 years    Other European countries                  Student   \n",
       "\n",
       "    What is your gender?  \n",
       "235               Female  \n",
       "236               Female  \n",
       "237               Female  \n",
       "238               Female  \n",
       "239               Female  \n",
       "\n",
       "[5 rows x 22 columns]"
      ]
     },
     "metadata": {},
     "execution_count": 10
    }
   ],
   "metadata": {}
  },
  {
   "cell_type": "code",
   "execution_count": 11,
   "source": [
    "df.columns"
   ],
   "outputs": [
    {
     "output_type": "execute_result",
     "data": {
      "text/plain": [
       "Index(['Which is your favourite K-Pop group?',\n",
       "       'Is K-Pop popular in your country? ', 'Why do you like K-Pop?',\n",
       "       'When did you start listening to K-Pop?',\n",
       "       'Do you listen to K-Pop male groups more than girl group songs?',\n",
       "       'How many hours do you spend listening to K-Pop?',\n",
       "       'Do you watch K-Pop Youtube videos?',\n",
       "       'If you do watch K-Pop music videos, how long do you spend watching them?',\n",
       "       'Would you say that you are obsessed with K-Pop?',\n",
       "       'What do you do to keep up with K-Pop news?',\n",
       "       'Has K-Pop led you to pursue any of the following?',\n",
       "       'Has consuming K-Pop taken away most of your time?',\n",
       "       'Has consuming K-Pop affected your personal life in the following ways?',\n",
       "       'Have you experienced any positive effects after consuming K-Pop? ',\n",
       "       'On an average, in one year, how much do you spend on K-Pop merchandise?',\n",
       "       'If you do spend money on K-Pop merchandise, where do you get money from?',\n",
       "       'Do you attend K-Pop concerts?',\n",
       "       'What is the craziest thing you have done in your pursuit and love for K-Pop?',\n",
       "       'How old are you?', 'Which country are you from?',\n",
       "       'What is your profession?', 'What is your gender?'],\n",
       "      dtype='object')"
      ]
     },
     "metadata": {},
     "execution_count": 11
    }
   ],
   "metadata": {}
  },
  {
   "cell_type": "code",
   "execution_count": 13,
   "source": [
    "## Rename columns\r\n",
    "df = df.rename(columns = {'Which is your favourite K-Pop group?': 'fav_group',\r\n",
    "       'Is K-Pop popular in your country? ': 'popl_by_country', \r\n",
    "       'Why do you like K-Pop?': 'reason',\r\n",
    "       'When did you start listening to K-Pop?': 'yr_litened',\r\n",
    "       'Do you listen to K-Pop male groups more than girl group songs?': 'gender_pref',\r\n",
    "       'How many hours do you spend listening to K-Pop?': 'daily_music_hr',\r\n",
    "       'Do you watch K-Pop Youtube videos?': 'watch_MV_yn',\r\n",
    "       'If you do watch K-Pop music videos, how long do you spend watching them?': 'daily_MV_hr',\r\n",
    "       'Would you say that you are obsessed with K-Pop?': 'obsessed_yn',\r\n",
    "       'What do you do to keep up with K-Pop news?': 'news_medium',\r\n",
    "       'Has K-Pop led you to pursue any of the following?': 'pursuit',\r\n",
    "       'Has consuming K-Pop taken away most of your time?': 'time_cons_yn',\r\n",
    "       'Has consuming K-Pop affected your personal life in the following ways?': 'life_chg',\r\n",
    "       'Have you experienced any positive effects after consuming K-Pop? ': 'pos_eff',\r\n",
    "       'On an average, in one year, how much do you spend on K-Pop merchandise?': 'yr_merch_spent',\r\n",
    "       'If you do spend money on K-Pop merchandise, where do you get money from?': 'money_src',\r\n",
    "       'Do you attend K-Pop concerts?': 'concert_yn',\r\n",
    "       'What is the craziest thing you have done in your pursuit and love for K-Pop?': 'crazy_ev',\r\n",
    "       'How old are you?': 'age', \r\n",
    "       'Which country are you from?': 'country',\r\n",
    "       'What is your profession?': 'job', \r\n",
    "       'What is your gender?': 'gender'})"
   ],
   "outputs": [],
   "metadata": {}
  },
  {
   "cell_type": "code",
   "execution_count": 14,
   "source": [
    "df.isna().sum()"
   ],
   "outputs": [
    {
     "output_type": "execute_result",
     "data": {
      "text/plain": [
       "fav_group          0\n",
       "popl_by_country    0\n",
       "reason             0\n",
       "yr_litened         0\n",
       "gender_pref        0\n",
       "daily_music_hr     0\n",
       "watch_MV_yn        0\n",
       "daily_MV_hr        5\n",
       "obsessed_yn        0\n",
       "news_medium        0\n",
       "pursuit            0\n",
       "time_cons_yn       0\n",
       "life_chg           1\n",
       "pos_eff            0\n",
       "yr_merch_spent     0\n",
       "money_src          1\n",
       "concert_yn         0\n",
       "crazy_ev           0\n",
       "age                0\n",
       "country            0\n",
       "job                0\n",
       "gender             0\n",
       "dtype: int64"
      ]
     },
     "metadata": {},
     "execution_count": 14
    }
   ],
   "metadata": {}
  },
  {
   "cell_type": "code",
   "execution_count": 15,
   "source": [
    "df['life_chg'].fillna('none', inplace=True)\r\n",
    "df.isnull().sum()"
   ],
   "outputs": [
    {
     "output_type": "execute_result",
     "data": {
      "text/plain": [
       "fav_group          0\n",
       "popl_by_country    0\n",
       "reason             0\n",
       "yr_litened         0\n",
       "gender_pref        0\n",
       "daily_music_hr     0\n",
       "watch_MV_yn        0\n",
       "daily_MV_hr        5\n",
       "obsessed_yn        0\n",
       "news_medium        0\n",
       "pursuit            0\n",
       "time_cons_yn       0\n",
       "life_chg           0\n",
       "pos_eff            0\n",
       "yr_merch_spent     0\n",
       "money_src          1\n",
       "concert_yn         0\n",
       "crazy_ev           0\n",
       "age                0\n",
       "country            0\n",
       "job                0\n",
       "gender             0\n",
       "dtype: int64"
      ]
     },
     "metadata": {},
     "execution_count": 15
    }
   ],
   "metadata": {}
  },
  {
   "cell_type": "code",
   "execution_count": 16,
   "source": [
    "df['money_src'].fillna('none', inplace=True)\r\n",
    "df.isnull().sum()"
   ],
   "outputs": [
    {
     "output_type": "execute_result",
     "data": {
      "text/plain": [
       "fav_group          0\n",
       "popl_by_country    0\n",
       "reason             0\n",
       "yr_litened         0\n",
       "gender_pref        0\n",
       "daily_music_hr     0\n",
       "watch_MV_yn        0\n",
       "daily_MV_hr        5\n",
       "obsessed_yn        0\n",
       "news_medium        0\n",
       "pursuit            0\n",
       "time_cons_yn       0\n",
       "life_chg           0\n",
       "pos_eff            0\n",
       "yr_merch_spent     0\n",
       "money_src          0\n",
       "concert_yn         0\n",
       "crazy_ev           0\n",
       "age                0\n",
       "country            0\n",
       "job                0\n",
       "gender             0\n",
       "dtype: int64"
      ]
     },
     "metadata": {},
     "execution_count": 16
    }
   ],
   "metadata": {}
  },
  {
   "cell_type": "code",
   "execution_count": 17,
   "source": [
    "df['daily_MV_hr'].value_counts()"
   ],
   "outputs": [
    {
     "output_type": "execute_result",
     "data": {
      "text/plain": [
       "1 hour                  118\n",
       "2-3 hours                84\n",
       "3-4 hours                20\n",
       "More than four hours     13\n",
       "Name: daily_MV_hr, dtype: int64"
      ]
     },
     "metadata": {},
     "execution_count": 17
    }
   ],
   "metadata": {}
  },
  {
   "cell_type": "code",
   "execution_count": 18,
   "source": [
    "df['daily_MV_hr'].fillna('2.5', inplace=True)\r\n",
    "df.isnull().sum()"
   ],
   "outputs": [
    {
     "output_type": "execute_result",
     "data": {
      "text/plain": [
       "fav_group          0\n",
       "popl_by_country    0\n",
       "reason             0\n",
       "yr_litened         0\n",
       "gender_pref        0\n",
       "daily_music_hr     0\n",
       "watch_MV_yn        0\n",
       "daily_MV_hr        0\n",
       "obsessed_yn        0\n",
       "news_medium        0\n",
       "pursuit            0\n",
       "time_cons_yn       0\n",
       "life_chg           0\n",
       "pos_eff            0\n",
       "yr_merch_spent     0\n",
       "money_src          0\n",
       "concert_yn         0\n",
       "crazy_ev           0\n",
       "age                0\n",
       "country            0\n",
       "job                0\n",
       "gender             0\n",
       "dtype: int64"
      ]
     },
     "metadata": {},
     "execution_count": 18
    }
   ],
   "metadata": {}
  },
  {
   "cell_type": "code",
   "execution_count": 19,
   "source": [
    "daily_mv = df['daily_MV_hr']\r\n",
    "daily_mv = daily_mv.str.replace(\"More than four hours\", '4.5')\r\n",
    "daily_mv.value_counts()"
   ],
   "outputs": [
    {
     "output_type": "execute_result",
     "data": {
      "text/plain": [
       "1 hour       118\n",
       "2-3 hours     84\n",
       "3-4 hours     20\n",
       "4.5           13\n",
       "2.5            5\n",
       "Name: daily_MV_hr, dtype: int64"
      ]
     },
     "metadata": {},
     "execution_count": 19
    }
   ],
   "metadata": {}
  },
  {
   "cell_type": "markdown",
   "source": [
    "#### Hours parsing"
   ],
   "metadata": {}
  },
  {
   "cell_type": "code",
   "execution_count": 20,
   "source": [
    "daily_mv = daily_mv.apply(lambda x: x.split(' ')[0])\r\n",
    "daily_mv.value_counts()"
   ],
   "outputs": [
    {
     "output_type": "execute_result",
     "data": {
      "text/plain": [
       "1      118\n",
       "2-3     84\n",
       "3-4     20\n",
       "4.5     13\n",
       "2.5      5\n",
       "Name: daily_MV_hr, dtype: int64"
      ]
     },
     "metadata": {},
     "execution_count": 20
    }
   ],
   "metadata": {}
  },
  {
   "cell_type": "code",
   "execution_count": 22,
   "source": [
    "def split_mean(x):\r\n",
    "    split_num = x.split(\"-\")\r\n",
    "    if len(split_num) == 2:\r\n",
    "        return (float(split_num[0]) + float(split_num[1])) / 2\r\n",
    "    else:\r\n",
    "        return float(x)\r\n",
    "\r\n",
    "\r\n",
    "daily_mv = daily_mv.apply(lambda x: split_mean(x))"
   ],
   "outputs": [],
   "metadata": {}
  },
  {
   "cell_type": "code",
   "execution_count": 23,
   "source": [
    "df['daily_MV_hr'] = daily_mv\r\n",
    "df['daily_MV_hr'].value_counts()"
   ],
   "outputs": [
    {
     "output_type": "execute_result",
     "data": {
      "text/plain": [
       "1.0    118\n",
       "2.5     89\n",
       "3.5     20\n",
       "4.5     13\n",
       "Name: daily_MV_hr, dtype: int64"
      ]
     },
     "metadata": {},
     "execution_count": 23
    }
   ],
   "metadata": {}
  },
  {
   "cell_type": "markdown",
   "source": [
    "#### Years parsing"
   ],
   "metadata": {}
  },
  {
   "cell_type": "code",
   "execution_count": 24,
   "source": [
    "df['yr_litened'].value_counts()"
   ],
   "outputs": [
    {
     "output_type": "execute_result",
     "data": {
      "text/plain": [
       "3-4 years ago                                                                                                                                                                                               89\n",
       "More than 4 years ago                                                                                                                                                                                       69\n",
       "1 -2 years ago                                                                                                                                                                                              66\n",
       "Less than a year ago                                                                                                                                                                                         7\n",
       "7 years ago                                                                                                                                                                                                  2\n",
       "Iâ€™ve been listening to it all my life basically, my cousins are Asian, and Iâ€™m mexican, so people think Iâ€™m just a koreaboo, when in reality Iâ€™ve only ever listened to korean and Chinese music     1\n",
       "7 years                                                                                                                                                                                                      1\n",
       "8+ years ago                                                                                                                                                                                                 1\n",
       "9 years, since 2010                                                                                                                                                                                          1\n",
       "About 6 years ago, I got introduced to 2ne1 which was their song called â€œI am the bestâ€. So sad they disbanded                                                                                           1\n",
       "Started in 2006                                                                                                                                                                                              1\n",
       "9 years coming April                                                                                                                                                                                         1\n",
       "Name: yr_litened, dtype: int64"
      ]
     },
     "metadata": {},
     "execution_count": 24
    }
   ],
   "metadata": {}
  },
  {
   "cell_type": "code",
   "execution_count": 25,
   "source": [
    "df['yr_litened'] = df['yr_litened'].str.replace('Less than a year ago', '1')\r\n",
    "df['yr_litened'] = df['yr_litened'].str.replace('1 -2 years ago', '1.5')\r\n",
    "df['yr_litened'] = df['yr_litened'].str.replace('3-4 years ago', '3.5')\r\n",
    "df['yr_litened'] = df['yr_litened'].str.replace('More than 4 years ago', '4')\r\n",
    "df['yr_litened'] = df['yr_litened'].str.replace('Iâ€™ve been listening to it all my life basically, my cousins are Asian, and Iâ€™m mexican, so people think Iâ€™m just a koreaboo, when in reality Iâ€™ve only ever listened to korean and Chinese music', '6')\r\n",
    "df['yr_litened'] = df['yr_litened'].str.replace('About 6 years ago, I got introduced to 2ne1 which was their song called â€œI am the bestâ€. So sad they disbanded', '6')\r\n",
    "df['yr_litened'] = df['yr_litened'].str.replace('Started in 2006', '14')\r\n",
    "\r\n",
    "df['yr_litened'].value_counts()"
   ],
   "outputs": [
    {
     "output_type": "stream",
     "name": "stderr",
     "text": [
      "<ipython-input-25-b820b5f8fc44>:6: FutureWarning: The default value of regex will change from True to False in a future version.\n",
      "  df['yr_litened'] = df['yr_litened'].str.replace('About 6 years ago, I got introduced to 2ne1 which was their song called â€œI am the bestâ€. So sad they disbanded', '6')\n"
     ]
    },
    {
     "output_type": "execute_result",
     "data": {
      "text/plain": [
       "3.5                     89\n",
       "4                       69\n",
       "1.5                     66\n",
       "1                        7\n",
       "6                        2\n",
       "7 years ago              2\n",
       "7 years                  1\n",
       "8+ years ago             1\n",
       "9 years, since 2010      1\n",
       "14                       1\n",
       "9 years coming April     1\n",
       "Name: yr_litened, dtype: int64"
      ]
     },
     "metadata": {},
     "execution_count": 25
    }
   ],
   "metadata": {}
  },
  {
   "cell_type": "code",
   "execution_count": 26,
   "source": [
    "yrs_listen = df['yr_litened'].apply(lambda x: x.split(' ')[0])\r\n",
    "yrs_listen.value_counts()"
   ],
   "outputs": [
    {
     "output_type": "execute_result",
     "data": {
      "text/plain": [
       "3.5    89\n",
       "4      69\n",
       "1.5    66\n",
       "1       7\n",
       "7       3\n",
       "6       2\n",
       "9       2\n",
       "8+      1\n",
       "14      1\n",
       "Name: yr_litened, dtype: int64"
      ]
     },
     "metadata": {},
     "execution_count": 26
    }
   ],
   "metadata": {}
  },
  {
   "cell_type": "code",
   "execution_count": 27,
   "source": [
    "yrs_listen = yrs_listen.apply(lambda x: x.replace(\"+\", \"\"))\r\n",
    "yrs_listen.value_counts()"
   ],
   "outputs": [
    {
     "output_type": "execute_result",
     "data": {
      "text/plain": [
       "3.5    89\n",
       "4      69\n",
       "1.5    66\n",
       "1       7\n",
       "7       3\n",
       "6       2\n",
       "9       2\n",
       "8       1\n",
       "14      1\n",
       "Name: yr_litened, dtype: int64"
      ]
     },
     "metadata": {},
     "execution_count": 27
    }
   ],
   "metadata": {}
  },
  {
   "cell_type": "markdown",
   "source": [
    "#### daily music"
   ],
   "metadata": {}
  },
  {
   "cell_type": "code",
   "execution_count": 28,
   "source": [
    "df['daily_music_hr'].value_counts()"
   ],
   "outputs": [
    {
     "output_type": "execute_result",
     "data": {
      "text/plain": [
       "2-4 hours                                                                                                                                                                                                                                                                                                                                                               106\n",
       "5 or more                                                                                                                                                                                                                                                                                                                                                                99\n",
       "Less than an hour                                                                                                                                                                                                                                                                                                                                                        11\n",
       "2020-07-24 00:00:00                                                                                                                                                                                                                                                                                                                                                       2\n",
       "Everyday                                                                                                                                                                                                                                                                                                                                                                  2\n",
       "It's depend on day. Usually one or two hours, sometimes more, sometimes, when I overeat kpop I need to do break.                                                                                                                                                                                                                                                          1\n",
       "Anytime I listen to music thatâ€™s all I listen to                                                                                                                                                                                                                                                                                                                        1\n",
       "Every time but only when I get the chance cause Iâ€™m busy with school .                                                                                                                                                                                                                                                                                                  1\n",
       "Hours on end                                                                                                                                                                                                                                                                                                                                                              1\n",
       "Whenever Iâ€™m listening to music, basically                                                                                                                                                                                                                                                                                                                              1\n",
       "Everyday, constantly                                                                                                                                                                                                                                                                                                                                                      1\n",
       "I don't rlly listen to music, music is like food to me. When I crave a song, I listen to it. So probably less than an hour? When Monsta X has comebacks I do stream (but it's just playing in the background sometimes my earphones are plugged in so I don't actually hear it)... I listen to it for almost the whole day I guess... gotta get those views and wins      1\n",
       "Eh                                                                                                                                                                                                                                                                                                                                                                        1\n",
       "Most of the time.                                                                                                                                                                                                                                                                                                                                                         1\n",
       "I mix in other songs in other languages too so very Day is different                                                                                                                                                                                                                                                                                                      1\n",
       "Idk depends on my mood. But I can liste during multiple hours definitely.                                                                                                                                                                                                                                                                                                 1\n",
       "The whole day almost                                                                                                                                                                                                                                                                                                                                                      1\n",
       "Any chance that i get. (I dont really count the hours)                                                                                                                                                                                                                                                                                                                    1\n",
       "All day                                                                                                                                                                                                                                                                                                                                                                   1\n",
       "depends if iâ€™m in the mood for it                                                                                                                                                                                                                                                                                                                                       1\n",
       "All the time.                                                                                                                                                                                                                                                                                                                                                             1\n",
       "Over half of my day (12+ hours)                                                                                                                                                                                                                                                                                                                                           1\n",
       "Itâ€™s mainly the only music I listen to anymore, I listen to music all the time                                                                                                                                                                                                                                                                                          1\n",
       "Almost all day                                                                                                                                                                                                                                                                                                                                                            1\n",
       "Nearly every hour unless im sleeping                                                                                                                                                                                                                                                                                                                                      1\n",
       "Name: daily_music_hr, dtype: int64"
      ]
     },
     "metadata": {},
     "execution_count": 28
    }
   ],
   "metadata": {}
  },
  {
   "cell_type": "code",
   "execution_count": 29,
   "source": [
    "df.iloc[156, 5] = '5 or more'\r\n",
    "df.iloc[170, 5] = '5 or more'\r\n",
    "\r\n",
    "df['daily_music_hr'].value_counts()"
   ],
   "outputs": [
    {
     "output_type": "execute_result",
     "data": {
      "text/plain": [
       "2-4 hours                                                                                                                                                                                                                                                                                                                                                               106\n",
       "5 or more                                                                                                                                                                                                                                                                                                                                                               101\n",
       "Less than an hour                                                                                                                                                                                                                                                                                                                                                        11\n",
       "Everyday                                                                                                                                                                                                                                                                                                                                                                  2\n",
       "It's depend on day. Usually one or two hours, sometimes more, sometimes, when I overeat kpop I need to do break.                                                                                                                                                                                                                                                          1\n",
       "Anytime I listen to music thatâ€™s all I listen to                                                                                                                                                                                                                                                                                                                        1\n",
       "Every time but only when I get the chance cause Iâ€™m busy with school .                                                                                                                                                                                                                                                                                                  1\n",
       "Hours on end                                                                                                                                                                                                                                                                                                                                                              1\n",
       "Whenever Iâ€™m listening to music, basically                                                                                                                                                                                                                                                                                                                              1\n",
       "Everyday, constantly                                                                                                                                                                                                                                                                                                                                                      1\n",
       "I don't rlly listen to music, music is like food to me. When I crave a song, I listen to it. So probably less than an hour? When Monsta X has comebacks I do stream (but it's just playing in the background sometimes my earphones are plugged in so I don't actually hear it)... I listen to it for almost the whole day I guess... gotta get those views and wins      1\n",
       "Eh                                                                                                                                                                                                                                                                                                                                                                        1\n",
       "Most of the time.                                                                                                                                                                                                                                                                                                                                                         1\n",
       "I mix in other songs in other languages too so very Day is different                                                                                                                                                                                                                                                                                                      1\n",
       "Idk depends on my mood. But I can liste during multiple hours definitely.                                                                                                                                                                                                                                                                                                 1\n",
       "The whole day almost                                                                                                                                                                                                                                                                                                                                                      1\n",
       "Any chance that i get. (I dont really count the hours)                                                                                                                                                                                                                                                                                                                    1\n",
       "All day                                                                                                                                                                                                                                                                                                                                                                   1\n",
       "depends if iâ€™m in the mood for it                                                                                                                                                                                                                                                                                                                                       1\n",
       "All the time.                                                                                                                                                                                                                                                                                                                                                             1\n",
       "Over half of my day (12+ hours)                                                                                                                                                                                                                                                                                                                                           1\n",
       "Itâ€™s mainly the only music I listen to anymore, I listen to music all the time                                                                                                                                                                                                                                                                                          1\n",
       "Almost all day                                                                                                                                                                                                                                                                                                                                                            1\n",
       "Nearly every hour unless im sleeping                                                                                                                                                                                                                                                                                                                                      1\n",
       "Name: daily_music_hr, dtype: int64"
      ]
     },
     "metadata": {},
     "execution_count": 29
    }
   ],
   "metadata": {}
  },
  {
   "cell_type": "code",
   "execution_count": 30,
   "source": [
    "df.daily_music_hr = df.daily_music_hr.apply(lambda x: x.split(\" \")[0])\r\n",
    "df.daily_music_hr.value_counts()"
   ],
   "outputs": [
    {
     "output_type": "execute_result",
     "data": {
      "text/plain": [
       "2-4          106\n",
       "5            101\n",
       "Less          11\n",
       "All            2\n",
       "Everyday       2\n",
       "I              2\n",
       "Over           1\n",
       "depends        1\n",
       "Itâ€™s         1\n",
       "Any            1\n",
       "The            1\n",
       "Almost         1\n",
       "Idk            1\n",
       "It's           1\n",
       "Most           1\n",
       "Eh             1\n",
       "Everyday,      1\n",
       "Whenever       1\n",
       "Hours          1\n",
       "Every          1\n",
       "Anytime        1\n",
       "Nearly         1\n",
       "Name: daily_music_hr, dtype: int64"
      ]
     },
     "metadata": {},
     "execution_count": 30
    }
   ],
   "metadata": {}
  },
  {
   "cell_type": "code",
   "execution_count": 31,
   "source": [
    "df.columns.get_loc('daily_music_hr')"
   ],
   "outputs": [
    {
     "output_type": "execute_result",
     "data": {
      "text/plain": [
       "5"
      ]
     },
     "metadata": {},
     "execution_count": 31
    }
   ],
   "metadata": {}
  },
  {
   "cell_type": "code",
   "execution_count": 32,
   "source": [
    "for row in range(0, len(df['daily_music_hr'])):\r\n",
    "    if '2-4' in df.iloc[row, 5]:\r\n",
    "        df.iloc[row, 5] = '3'\r\n",
    "    elif '5' in df.iloc[row, 5]:\r\n",
    "        df.iloc[row, 5] = '5'\r\n",
    "    elif 'Less' in df.iloc[row, 5]:\r\n",
    "        df.iloc[row, 5] = '0.5'\r\n",
    "    else:\r\n",
    "        df.iloc[row, 5] = '10'\r\n",
    "\r\n",
    "df.daily_music_hr.value_counts()"
   ],
   "outputs": [
    {
     "output_type": "execute_result",
     "data": {
      "text/plain": [
       "3      106\n",
       "5      101\n",
       "10      22\n",
       "0.5     11\n",
       "Name: daily_music_hr, dtype: int64"
      ]
     },
     "metadata": {},
     "execution_count": 32
    }
   ],
   "metadata": {}
  },
  {
   "cell_type": "markdown",
   "source": [
    "#### yr_merch_spent"
   ],
   "metadata": {}
  },
  {
   "cell_type": "code",
   "execution_count": 33,
   "source": [
    "df.yr_merch_spent.value_counts()"
   ],
   "outputs": [
    {
     "output_type": "execute_result",
     "data": {
      "text/plain": [
       "Below 50$                                                                                                                                         91\n",
       "50 - 100 $                                                                                                                                        57\n",
       "I don't spend anything on merchandise                                                                                                             49\n",
       "100 - 200$                                                                                                                                        25\n",
       "More than $200                                                                                                                                     1\n",
       "Depends month to month and what i want to buy                                                                                                      1\n",
       "What if you don't know, since everything you own that is K-Pop related were all gifts?                                                             1\n",
       "I've bought some albums over the past few years but its just like a xmas / bday thing i do so twice a year i just purchase however many i can      1\n",
       "Never until Monsta X existed and it's about $300 a year                                                                                            1\n",
       "Iâ€™ve spent 200-300 dollars, but i chose not to spend much more unless its clothing or a physical concert. Plus i rlly only ult stan 2 groups     1\n",
       "10?                                                                                                                                                1\n",
       "Below 30$                                                                                                                                          1\n",
       "I've only ever bought merchandise from the two concerts I've been too and that's it.                                                               1\n",
       "Kpop is an expensive hobby I go to concerts and buy albums so I would say Iâ€™ve spent more than 1k                                                1\n",
       "I spend less than $50 cuz I'm broke, but if I had money, I would probably spend $200+                                                              1\n",
       "I donâ€™t buy everything. I buy things if I feel I will use them                                                                                   1\n",
       "A lot I donâ€™t even want to know how much                                                                                                         1\n",
       "Iâ€™ve spent probably over $5,000 total on kpop merch (including tickets)                                                                          1\n",
       "Depends but usually not a lot.                                                                                                                     1\n",
       "I would like to but I don't have money                                                                                                             1\n",
       "Because Iâ€™m younger I donâ€™t have the money to spend on official kpop mercy but I do buy smaller things to represent the groups.                1\n",
       "$2,000                                                                                                                                             1\n",
       "Name: yr_merch_spent, dtype: int64"
      ]
     },
     "metadata": {},
     "execution_count": 33
    }
   ],
   "metadata": {}
  },
  {
   "cell_type": "code",
   "execution_count": 34,
   "source": [
    "df.columns.get_loc('yr_merch_spent')"
   ],
   "outputs": [
    {
     "output_type": "execute_result",
     "data": {
      "text/plain": [
       "14"
      ]
     },
     "metadata": {},
     "execution_count": 34
    }
   ],
   "metadata": {}
  },
  {
   "cell_type": "code",
   "execution_count": 35,
   "source": [
    "for row in range(0, len(df['yr_merch_spent'])):\r\n",
    "    if 'Below 50' in df.iloc[row, 14]:\r\n",
    "        df.iloc[row, 14] = '50'\r\n",
    "    elif '50 - 100' in df.iloc[row, 14]:\r\n",
    "        df.iloc[row, 14] = '75'\r\n",
    "    elif \"I don't spend anything on merchandise\" in df.iloc[row, 14]:\r\n",
    "        df.iloc[row, 14] = '0'\r\n",
    "    elif '100 - 200' in df.iloc[row, 14]:\r\n",
    "        df.iloc[row, 14] = '150'\r\n",
    "    elif 'Below 30' in df.iloc[row, 14]:\r\n",
    "        df.iloc[row, 14] = '30'\r\n",
    "    elif '10?' in df.iloc[row, 14]:\r\n",
    "        df.iloc[row, 14] = '10'\r\n",
    "    else:\r\n",
    "        df.iloc[row, 14] = '500'\r\n",
    "\r\n",
    "df['yr_merch_spent'].value_counts()\r\n"
   ],
   "outputs": [
    {
     "output_type": "execute_result",
     "data": {
      "text/plain": [
       "50     91\n",
       "75     57\n",
       "0      49\n",
       "150    25\n",
       "500    16\n",
       "30      1\n",
       "10      1\n",
       "Name: yr_merch_spent, dtype: int64"
      ]
     },
     "metadata": {},
     "execution_count": 35
    }
   ],
   "metadata": {}
  },
  {
   "cell_type": "markdown",
   "source": [
    "#### age"
   ],
   "metadata": {}
  },
  {
   "cell_type": "code",
   "execution_count": 36,
   "source": [
    "df['age'].value_counts()"
   ],
   "outputs": [
    {
     "output_type": "execute_result",
     "data": {
      "text/plain": [
       "15 - 20 years    166\n",
       "21 - 26 years     37\n",
       "10 - 14 years     34\n",
       "27 - 30            3\n",
       "Name: age, dtype: int64"
      ]
     },
     "metadata": {},
     "execution_count": 36
    }
   ],
   "metadata": {}
  },
  {
   "cell_type": "code",
   "execution_count": 37,
   "source": [
    "age = df['age'].apply(lambda x: x.split('y')[0])\r\n",
    "age = age.str.replace(' ', '')\r\n",
    "age.value_counts()"
   ],
   "outputs": [
    {
     "output_type": "execute_result",
     "data": {
      "text/plain": [
       "15-20    166\n",
       "21-26     37\n",
       "10-14     34\n",
       "27-30      3\n",
       "Name: age, dtype: int64"
      ]
     },
     "metadata": {},
     "execution_count": 37
    }
   ],
   "metadata": {}
  },
  {
   "cell_type": "code",
   "execution_count": 39,
   "source": [
    "df['age'] = age.apply(lambda x: split_mean(x))\r\n",
    "df['age'].value_counts()"
   ],
   "outputs": [
    {
     "output_type": "execute_result",
     "data": {
      "text/plain": [
       "17.5    166\n",
       "23.5     37\n",
       "12.0     34\n",
       "28.5      3\n",
       "Name: age, dtype: int64"
      ]
     },
     "metadata": {},
     "execution_count": 39
    }
   ],
   "metadata": {}
  },
  {
   "cell_type": "code",
   "execution_count": 40,
   "source": [
    "df['age'] = np.ceil(df['age']).astype(int)\r\n",
    "df['age'].value_counts()"
   ],
   "outputs": [
    {
     "output_type": "execute_result",
     "data": {
      "text/plain": [
       "18    166\n",
       "24     37\n",
       "12     34\n",
       "29      3\n",
       "Name: age, dtype: int64"
      ]
     },
     "metadata": {},
     "execution_count": 40
    }
   ],
   "metadata": {}
  },
  {
   "cell_type": "markdown",
   "source": [
    "#### Fav_group"
   ],
   "metadata": {}
  },
  {
   "cell_type": "code",
   "execution_count": 41,
   "source": [
    "df['fav_group'].value_counts()"
   ],
   "outputs": [
    {
     "output_type": "execute_result",
     "data": {
      "text/plain": [
       "BTS                                104\n",
       "EXO                                  7\n",
       "MONSTA X                             7\n",
       "Stray Kids                           7\n",
       "BTS;EXO;MONSTA X                     5\n",
       "                                  ... \n",
       "TVXQ                                 1\n",
       "G idle                               1\n",
       "Bigbang, GOT7 and all the above      1\n",
       "Wanna one                            1\n",
       "BTS;GOT 7                            1\n",
       "Name: fav_group, Length: 93, dtype: int64"
      ]
     },
     "metadata": {},
     "execution_count": 41
    }
   ],
   "metadata": {}
  },
  {
   "cell_type": "code",
   "execution_count": 42,
   "source": [
    "grp = df['fav_group']\r\n",
    "grp = grp.apply(lambda x: x.lower().replace(';', ',').replace(\" and \", \",\").replace(' / ', ',').replace(\" & \", ',').replace('. ', ','))"
   ],
   "outputs": [],
   "metadata": {}
  },
  {
   "cell_type": "code",
   "execution_count": 44,
   "source": [
    "grp[5].count(',') + 1"
   ],
   "outputs": [
    {
     "output_type": "execute_result",
     "data": {
      "text/plain": [
       "5"
      ]
     },
     "metadata": {},
     "execution_count": 44
    }
   ],
   "metadata": {}
  },
  {
   "cell_type": "code",
   "execution_count": 45,
   "source": [
    "def num_grp_like(df):\r\n",
    "    tempArr = []\r\n",
    "    for i in range(0, 240):\r\n",
    "        num_grp = grp[i].count(',') + 1\r\n",
    "        tempArr.append(num_grp)\r\n",
    "    return tempArr"
   ],
   "outputs": [],
   "metadata": {}
  },
  {
   "cell_type": "code",
   "execution_count": 46,
   "source": [
    "df['num_grp_like'] = num_grp_like(df['fav_group'])\r\n",
    "df['num_grp_like'].value_counts() "
   ],
   "outputs": [
    {
     "output_type": "execute_result",
     "data": {
      "text/plain": [
       "1     165\n",
       "2      24\n",
       "3      17\n",
       "5      12\n",
       "4      10\n",
       "6       5\n",
       "7       3\n",
       "8       2\n",
       "37      1\n",
       "20      1\n",
       "Name: num_grp_like, dtype: int64"
      ]
     },
     "metadata": {},
     "execution_count": 46
    }
   ],
   "metadata": {}
  },
  {
   "cell_type": "code",
   "execution_count": 47,
   "source": [
    "df.fav_group = grp\r\n",
    "df.head()"
   ],
   "outputs": [
    {
     "output_type": "execute_result",
     "data": {
      "text/html": [
       "<div>\n",
       "<style scoped>\n",
       "    .dataframe tbody tr th:only-of-type {\n",
       "        vertical-align: middle;\n",
       "    }\n",
       "\n",
       "    .dataframe tbody tr th {\n",
       "        vertical-align: top;\n",
       "    }\n",
       "\n",
       "    .dataframe thead th {\n",
       "        text-align: right;\n",
       "    }\n",
       "</style>\n",
       "<table border=\"1\" class=\"dataframe\">\n",
       "  <thead>\n",
       "    <tr style=\"text-align: right;\">\n",
       "      <th></th>\n",
       "      <th>fav_group</th>\n",
       "      <th>popl_by_country</th>\n",
       "      <th>reason</th>\n",
       "      <th>yr_litened</th>\n",
       "      <th>gender_pref</th>\n",
       "      <th>daily_music_hr</th>\n",
       "      <th>watch_MV_yn</th>\n",
       "      <th>daily_MV_hr</th>\n",
       "      <th>obsessed_yn</th>\n",
       "      <th>news_medium</th>\n",
       "      <th>...</th>\n",
       "      <th>pos_eff</th>\n",
       "      <th>yr_merch_spent</th>\n",
       "      <th>money_src</th>\n",
       "      <th>concert_yn</th>\n",
       "      <th>crazy_ev</th>\n",
       "      <th>age</th>\n",
       "      <th>country</th>\n",
       "      <th>job</th>\n",
       "      <th>gender</th>\n",
       "      <th>num_grp_like</th>\n",
       "    </tr>\n",
       "  </thead>\n",
       "  <tbody>\n",
       "    <tr>\n",
       "      <th>0</th>\n",
       "      <td>bts</td>\n",
       "      <td>Its gaining popularity</td>\n",
       "      <td>Its different from the usual music. I like som...</td>\n",
       "      <td>1.5</td>\n",
       "      <td>Its about the music, not the gender</td>\n",
       "      <td>5</td>\n",
       "      <td>Yes</td>\n",
       "      <td>2.5</td>\n",
       "      <td>Not sure</td>\n",
       "      <td>Subscribe to K-Pop news sites;Subscribe to You...</td>\n",
       "      <td>...</td>\n",
       "      <td>Reduced stress/anxiety/depression</td>\n",
       "      <td>75</td>\n",
       "      <td>I have a full - time job</td>\n",
       "      <td>Yes</td>\n",
       "      <td>Missed days of work and school to attend concerts</td>\n",
       "      <td>18</td>\n",
       "      <td>A country in the UK</td>\n",
       "      <td>Sales</td>\n",
       "      <td>Female</td>\n",
       "      <td>1</td>\n",
       "    </tr>\n",
       "    <tr>\n",
       "      <th>1</th>\n",
       "      <td>bts</td>\n",
       "      <td>Its gaining popularity</td>\n",
       "      <td>Its different from the usual music. I like som...</td>\n",
       "      <td>3.5</td>\n",
       "      <td>I listen to both</td>\n",
       "      <td>3</td>\n",
       "      <td>Yes</td>\n",
       "      <td>2.5</td>\n",
       "      <td>Yes</td>\n",
       "      <td>Subscribe to K-Pop news sites;Subscribe to You...</td>\n",
       "      <td>...</td>\n",
       "      <td>Made friends who are like-minded</td>\n",
       "      <td>50</td>\n",
       "      <td>Working part-time</td>\n",
       "      <td>I want to, but the K-Pop groups don't come to ...</td>\n",
       "      <td>Listened to K-Pop without studying or working ...</td>\n",
       "      <td>18</td>\n",
       "      <td>A country in the UK</td>\n",
       "      <td>Student</td>\n",
       "      <td>Female</td>\n",
       "      <td>1</td>\n",
       "    </tr>\n",
       "    <tr>\n",
       "      <th>2</th>\n",
       "      <td>bts,monsta x</td>\n",
       "      <td>Its gaining popularity</td>\n",
       "      <td>Its different from the usual music. I like som...</td>\n",
       "      <td>4</td>\n",
       "      <td>Its about the music, not the gender</td>\n",
       "      <td>3</td>\n",
       "      <td>Yes</td>\n",
       "      <td>2.5</td>\n",
       "      <td>No</td>\n",
       "      <td>Subscribe to K-Pop news sites;Join K-pop socia...</td>\n",
       "      <td>...</td>\n",
       "      <td>Made friends who are like-minded</td>\n",
       "      <td>75</td>\n",
       "      <td>Working part-time</td>\n",
       "      <td>Yes</td>\n",
       "      <td>Nothing as such</td>\n",
       "      <td>18</td>\n",
       "      <td>Other European countries</td>\n",
       "      <td>Student</td>\n",
       "      <td>Female</td>\n",
       "      <td>2</td>\n",
       "    </tr>\n",
       "    <tr>\n",
       "      <th>3</th>\n",
       "      <td>bts</td>\n",
       "      <td>Its gaining popularity</td>\n",
       "      <td>Its different from the usual music. I like som...</td>\n",
       "      <td>3.5</td>\n",
       "      <td>I listen to both</td>\n",
       "      <td>5</td>\n",
       "      <td>Yes</td>\n",
       "      <td>3.5</td>\n",
       "      <td>No</td>\n",
       "      <td>Subscribe to K-Pop news sites;Subscribe to You...</td>\n",
       "      <td>...</td>\n",
       "      <td>Reduced stress/anxiety/depression</td>\n",
       "      <td>75</td>\n",
       "      <td>Working part-time</td>\n",
       "      <td>Yes</td>\n",
       "      <td>Nothing as such</td>\n",
       "      <td>24</td>\n",
       "      <td>USA</td>\n",
       "      <td>Student</td>\n",
       "      <td>Female</td>\n",
       "      <td>1</td>\n",
       "    </tr>\n",
       "    <tr>\n",
       "      <th>4</th>\n",
       "      <td>bts</td>\n",
       "      <td>Yes</td>\n",
       "      <td>Its different from the usual music. I like som...</td>\n",
       "      <td>3.5</td>\n",
       "      <td>Yes</td>\n",
       "      <td>5</td>\n",
       "      <td>Yes</td>\n",
       "      <td>2.5</td>\n",
       "      <td>Not sure</td>\n",
       "      <td>Subscribe to Youtube channels</td>\n",
       "      <td>...</td>\n",
       "      <td>Reduced stress/anxiety/depression</td>\n",
       "      <td>150</td>\n",
       "      <td>Parents</td>\n",
       "      <td>I want to, but the K-Pop groups don't come to ...</td>\n",
       "      <td>Nothing as such</td>\n",
       "      <td>18</td>\n",
       "      <td>USA</td>\n",
       "      <td>Student</td>\n",
       "      <td>Female</td>\n",
       "      <td>1</td>\n",
       "    </tr>\n",
       "  </tbody>\n",
       "</table>\n",
       "<p>5 rows × 23 columns</p>\n",
       "</div>"
      ],
      "text/plain": [
       "      fav_group         popl_by_country  \\\n",
       "0           bts  Its gaining popularity   \n",
       "1           bts  Its gaining popularity   \n",
       "2  bts,monsta x  Its gaining popularity   \n",
       "3           bts  Its gaining popularity   \n",
       "4           bts                     Yes   \n",
       "\n",
       "                                              reason yr_litened  \\\n",
       "0  Its different from the usual music. I like som...        1.5   \n",
       "1  Its different from the usual music. I like som...        3.5   \n",
       "2  Its different from the usual music. I like som...          4   \n",
       "3  Its different from the usual music. I like som...        3.5   \n",
       "4  Its different from the usual music. I like som...        3.5   \n",
       "\n",
       "                           gender_pref daily_music_hr watch_MV_yn  \\\n",
       "0  Its about the music, not the gender              5         Yes   \n",
       "1                     I listen to both              3         Yes   \n",
       "2  Its about the music, not the gender              3         Yes   \n",
       "3                     I listen to both              5         Yes   \n",
       "4                                  Yes              5         Yes   \n",
       "\n",
       "   daily_MV_hr obsessed_yn                                        news_medium  \\\n",
       "0          2.5    Not sure  Subscribe to K-Pop news sites;Subscribe to You...   \n",
       "1          2.5         Yes  Subscribe to K-Pop news sites;Subscribe to You...   \n",
       "2          2.5          No  Subscribe to K-Pop news sites;Join K-pop socia...   \n",
       "3          3.5          No  Subscribe to K-Pop news sites;Subscribe to You...   \n",
       "4          2.5    Not sure                      Subscribe to Youtube channels   \n",
       "\n",
       "   ...                            pos_eff yr_merch_spent  \\\n",
       "0  ...  Reduced stress/anxiety/depression             75   \n",
       "1  ...   Made friends who are like-minded             50   \n",
       "2  ...   Made friends who are like-minded             75   \n",
       "3  ...  Reduced stress/anxiety/depression             75   \n",
       "4  ...  Reduced stress/anxiety/depression            150   \n",
       "\n",
       "                  money_src  \\\n",
       "0  I have a full - time job   \n",
       "1         Working part-time   \n",
       "2         Working part-time   \n",
       "3         Working part-time   \n",
       "4                   Parents   \n",
       "\n",
       "                                          concert_yn  \\\n",
       "0                                                Yes   \n",
       "1  I want to, but the K-Pop groups don't come to ...   \n",
       "2                                                Yes   \n",
       "3                                                Yes   \n",
       "4  I want to, but the K-Pop groups don't come to ...   \n",
       "\n",
       "                                            crazy_ev age  \\\n",
       "0  Missed days of work and school to attend concerts  18   \n",
       "1  Listened to K-Pop without studying or working ...  18   \n",
       "2                                    Nothing as such  18   \n",
       "3                                    Nothing as such  24   \n",
       "4                                    Nothing as such  18   \n",
       "\n",
       "                    country      job  gender num_grp_like  \n",
       "0       A country in the UK    Sales  Female            1  \n",
       "1       A country in the UK  Student  Female            1  \n",
       "2  Other European countries  Student  Female            2  \n",
       "3                       USA  Student  Female            1  \n",
       "4                       USA  Student  Female            1  \n",
       "\n",
       "[5 rows x 23 columns]"
      ]
     },
     "metadata": {},
     "execution_count": 47
    }
   ],
   "metadata": {}
  },
  {
   "cell_type": "code",
   "execution_count": 48,
   "source": [
    "bts_vs_others = grp\r\n",
    "\r\n",
    "for row in range(0, 240):\r\n",
    "    if 'bts' in bts_vs_others.iloc[row]:\r\n",
    "        bts_vs_others[row] = 'bts'\r\n",
    "    else:\r\n",
    "        bts_vs_others[row] = 'other(s)'\r\n",
    "    \r\n",
    "df['bts_vs_others'] = bts_vs_others\r\n",
    "\r\n",
    "df.bts_vs_others.value_counts()"
   ],
   "outputs": [
    {
     "output_type": "execute_result",
     "data": {
      "text/plain": [
       "bts         163\n",
       "other(s)     77\n",
       "Name: bts_vs_others, dtype: int64"
      ]
     },
     "metadata": {},
     "execution_count": 48
    }
   ],
   "metadata": {}
  },
  {
   "cell_type": "code",
   "execution_count": 50,
   "source": [
    "df.head()"
   ],
   "outputs": [
    {
     "output_type": "execute_result",
     "data": {
      "text/html": [
       "<div>\n",
       "<style scoped>\n",
       "    .dataframe tbody tr th:only-of-type {\n",
       "        vertical-align: middle;\n",
       "    }\n",
       "\n",
       "    .dataframe tbody tr th {\n",
       "        vertical-align: top;\n",
       "    }\n",
       "\n",
       "    .dataframe thead th {\n",
       "        text-align: right;\n",
       "    }\n",
       "</style>\n",
       "<table border=\"1\" class=\"dataframe\">\n",
       "  <thead>\n",
       "    <tr style=\"text-align: right;\">\n",
       "      <th></th>\n",
       "      <th>fav_group</th>\n",
       "      <th>popl_by_country</th>\n",
       "      <th>reason</th>\n",
       "      <th>yr_litened</th>\n",
       "      <th>gender_pref</th>\n",
       "      <th>daily_music_hr</th>\n",
       "      <th>watch_MV_yn</th>\n",
       "      <th>daily_MV_hr</th>\n",
       "      <th>obsessed_yn</th>\n",
       "      <th>news_medium</th>\n",
       "      <th>...</th>\n",
       "      <th>yr_merch_spent</th>\n",
       "      <th>money_src</th>\n",
       "      <th>concert_yn</th>\n",
       "      <th>crazy_ev</th>\n",
       "      <th>age</th>\n",
       "      <th>country</th>\n",
       "      <th>job</th>\n",
       "      <th>gender</th>\n",
       "      <th>num_grp_like</th>\n",
       "      <th>bts_vs_others</th>\n",
       "    </tr>\n",
       "  </thead>\n",
       "  <tbody>\n",
       "    <tr>\n",
       "      <th>0</th>\n",
       "      <td>bts</td>\n",
       "      <td>Its gaining popularity</td>\n",
       "      <td>Its different from the usual music. I like som...</td>\n",
       "      <td>1.5</td>\n",
       "      <td>Its about the music, not the gender</td>\n",
       "      <td>5</td>\n",
       "      <td>Yes</td>\n",
       "      <td>2.5</td>\n",
       "      <td>Not sure</td>\n",
       "      <td>Subscribe to K-Pop news sites;Subscribe to You...</td>\n",
       "      <td>...</td>\n",
       "      <td>75</td>\n",
       "      <td>I have a full - time job</td>\n",
       "      <td>Yes</td>\n",
       "      <td>Missed days of work and school to attend concerts</td>\n",
       "      <td>18</td>\n",
       "      <td>A country in the UK</td>\n",
       "      <td>Sales</td>\n",
       "      <td>Female</td>\n",
       "      <td>1</td>\n",
       "      <td>bts</td>\n",
       "    </tr>\n",
       "    <tr>\n",
       "      <th>1</th>\n",
       "      <td>bts</td>\n",
       "      <td>Its gaining popularity</td>\n",
       "      <td>Its different from the usual music. I like som...</td>\n",
       "      <td>3.5</td>\n",
       "      <td>I listen to both</td>\n",
       "      <td>3</td>\n",
       "      <td>Yes</td>\n",
       "      <td>2.5</td>\n",
       "      <td>Yes</td>\n",
       "      <td>Subscribe to K-Pop news sites;Subscribe to You...</td>\n",
       "      <td>...</td>\n",
       "      <td>50</td>\n",
       "      <td>Working part-time</td>\n",
       "      <td>I want to, but the K-Pop groups don't come to ...</td>\n",
       "      <td>Listened to K-Pop without studying or working ...</td>\n",
       "      <td>18</td>\n",
       "      <td>A country in the UK</td>\n",
       "      <td>Student</td>\n",
       "      <td>Female</td>\n",
       "      <td>1</td>\n",
       "      <td>bts</td>\n",
       "    </tr>\n",
       "    <tr>\n",
       "      <th>2</th>\n",
       "      <td>bts,monsta x</td>\n",
       "      <td>Its gaining popularity</td>\n",
       "      <td>Its different from the usual music. I like som...</td>\n",
       "      <td>4</td>\n",
       "      <td>Its about the music, not the gender</td>\n",
       "      <td>3</td>\n",
       "      <td>Yes</td>\n",
       "      <td>2.5</td>\n",
       "      <td>No</td>\n",
       "      <td>Subscribe to K-Pop news sites;Join K-pop socia...</td>\n",
       "      <td>...</td>\n",
       "      <td>75</td>\n",
       "      <td>Working part-time</td>\n",
       "      <td>Yes</td>\n",
       "      <td>Nothing as such</td>\n",
       "      <td>18</td>\n",
       "      <td>Other European countries</td>\n",
       "      <td>Student</td>\n",
       "      <td>Female</td>\n",
       "      <td>2</td>\n",
       "      <td>bts</td>\n",
       "    </tr>\n",
       "    <tr>\n",
       "      <th>3</th>\n",
       "      <td>bts</td>\n",
       "      <td>Its gaining popularity</td>\n",
       "      <td>Its different from the usual music. I like som...</td>\n",
       "      <td>3.5</td>\n",
       "      <td>I listen to both</td>\n",
       "      <td>5</td>\n",
       "      <td>Yes</td>\n",
       "      <td>3.5</td>\n",
       "      <td>No</td>\n",
       "      <td>Subscribe to K-Pop news sites;Subscribe to You...</td>\n",
       "      <td>...</td>\n",
       "      <td>75</td>\n",
       "      <td>Working part-time</td>\n",
       "      <td>Yes</td>\n",
       "      <td>Nothing as such</td>\n",
       "      <td>24</td>\n",
       "      <td>USA</td>\n",
       "      <td>Student</td>\n",
       "      <td>Female</td>\n",
       "      <td>1</td>\n",
       "      <td>bts</td>\n",
       "    </tr>\n",
       "    <tr>\n",
       "      <th>4</th>\n",
       "      <td>bts</td>\n",
       "      <td>Yes</td>\n",
       "      <td>Its different from the usual music. I like som...</td>\n",
       "      <td>3.5</td>\n",
       "      <td>Yes</td>\n",
       "      <td>5</td>\n",
       "      <td>Yes</td>\n",
       "      <td>2.5</td>\n",
       "      <td>Not sure</td>\n",
       "      <td>Subscribe to Youtube channels</td>\n",
       "      <td>...</td>\n",
       "      <td>150</td>\n",
       "      <td>Parents</td>\n",
       "      <td>I want to, but the K-Pop groups don't come to ...</td>\n",
       "      <td>Nothing as such</td>\n",
       "      <td>18</td>\n",
       "      <td>USA</td>\n",
       "      <td>Student</td>\n",
       "      <td>Female</td>\n",
       "      <td>1</td>\n",
       "      <td>bts</td>\n",
       "    </tr>\n",
       "  </tbody>\n",
       "</table>\n",
       "<p>5 rows × 24 columns</p>\n",
       "</div>"
      ],
      "text/plain": [
       "      fav_group         popl_by_country  \\\n",
       "0           bts  Its gaining popularity   \n",
       "1           bts  Its gaining popularity   \n",
       "2  bts,monsta x  Its gaining popularity   \n",
       "3           bts  Its gaining popularity   \n",
       "4           bts                     Yes   \n",
       "\n",
       "                                              reason yr_litened  \\\n",
       "0  Its different from the usual music. I like som...        1.5   \n",
       "1  Its different from the usual music. I like som...        3.5   \n",
       "2  Its different from the usual music. I like som...          4   \n",
       "3  Its different from the usual music. I like som...        3.5   \n",
       "4  Its different from the usual music. I like som...        3.5   \n",
       "\n",
       "                           gender_pref daily_music_hr watch_MV_yn  \\\n",
       "0  Its about the music, not the gender              5         Yes   \n",
       "1                     I listen to both              3         Yes   \n",
       "2  Its about the music, not the gender              3         Yes   \n",
       "3                     I listen to both              5         Yes   \n",
       "4                                  Yes              5         Yes   \n",
       "\n",
       "   daily_MV_hr obsessed_yn                                        news_medium  \\\n",
       "0          2.5    Not sure  Subscribe to K-Pop news sites;Subscribe to You...   \n",
       "1          2.5         Yes  Subscribe to K-Pop news sites;Subscribe to You...   \n",
       "2          2.5          No  Subscribe to K-Pop news sites;Join K-pop socia...   \n",
       "3          3.5          No  Subscribe to K-Pop news sites;Subscribe to You...   \n",
       "4          2.5    Not sure                      Subscribe to Youtube channels   \n",
       "\n",
       "   ... yr_merch_spent                 money_src  \\\n",
       "0  ...             75  I have a full - time job   \n",
       "1  ...             50         Working part-time   \n",
       "2  ...             75         Working part-time   \n",
       "3  ...             75         Working part-time   \n",
       "4  ...            150                   Parents   \n",
       "\n",
       "                                          concert_yn  \\\n",
       "0                                                Yes   \n",
       "1  I want to, but the K-Pop groups don't come to ...   \n",
       "2                                                Yes   \n",
       "3                                                Yes   \n",
       "4  I want to, but the K-Pop groups don't come to ...   \n",
       "\n",
       "                                            crazy_ev age  \\\n",
       "0  Missed days of work and school to attend concerts  18   \n",
       "1  Listened to K-Pop without studying or working ...  18   \n",
       "2                                    Nothing as such  18   \n",
       "3                                    Nothing as such  24   \n",
       "4                                    Nothing as such  18   \n",
       "\n",
       "                    country      job  gender  num_grp_like bts_vs_others  \n",
       "0       A country in the UK    Sales  Female             1           bts  \n",
       "1       A country in the UK  Student  Female             1           bts  \n",
       "2  Other European countries  Student  Female             2           bts  \n",
       "3                       USA  Student  Female             1           bts  \n",
       "4                       USA  Student  Female             1           bts  \n",
       "\n",
       "[5 rows x 24 columns]"
      ]
     },
     "metadata": {},
     "execution_count": 50
    }
   ],
   "metadata": {}
  },
  {
   "cell_type": "markdown",
   "source": [
    "#### news_medium"
   ],
   "metadata": {}
  },
  {
   "cell_type": "code",
   "execution_count": 51,
   "source": [
    "df.news_medium.value_counts()"
   ],
   "outputs": [
    {
     "output_type": "execute_result",
     "data": {
      "text/plain": [
       "Subscribe to Youtube channels                                                                                    54\n",
       "Join K-pop social media groups                                                                                   38\n",
       "Subscribe to K-Pop news sites;Subscribe to Youtube channels;Join K-pop social media groups                       37\n",
       "Subscribe to Youtube channels;Join K-pop social media groups                                                     31\n",
       "Subscribe to K-Pop news sites                                                                                    17\n",
       "Subscribe to K-Pop news sites;Subscribe to Youtube channels                                                      15\n",
       "Subscribe to K-Pop news sites;Join K-pop social media groups                                                      6\n",
       "Twitter                                                                                                           5\n",
       "follow them on social media                                                                                       1\n",
       "Twitter, specifically Soompi                                                                                      1\n",
       "Subscribe to Youtube channels;Join K-pop social media groups;Stan Twitter                                         1\n",
       "follow on social media (twitter, instagram)                                                                       1\n",
       "Subscribe to Youtube channels;Follow groups and members on twitter and instagram                                  1\n",
       "Subscribe to K-Pop news sites;Join K-pop social media groups;Soompi on Twitter                                    1\n",
       "Subscribe to K-Pop news sites;Subscribe to Youtube channels;I have a Gc on WhatsApp that inform me on stuff       1\n",
       "Subscribe to Youtube channels;Join K-pop social media groups;Follow them on social media                          1\n",
       "instagram. twitter                                                                                                1\n",
       "Subscribe to Youtube channels;Twitter                                                                             1\n",
       "Check Twitter                                                                                                     1\n",
       "Twitter is very informative                                                                                       1\n",
       "Keep up with whatever is hot on twitter                                                                           1\n",
       "News tend to pop up on my feed. I do not like the overwhelming amount of drama some of these accounts post.       1\n",
       "The Google app gives me kpop news at the bottom of the search engine                                              1\n",
       "nothing sometimes it just randomly appears on my feed                                                             1\n",
       "Subscribe to Youtube channels;blog on tumblr                                                                      1\n",
       "I have allkpop tweets notifcations sent to my phone thats it realy                                                1\n",
       "I have an account on Twitter. It's enough.                                                                        1\n",
       "Search on twitter                                                                                                 1\n",
       "I just hear about it from people or sometimes twitter/instagram fan accounts talk about it.                       1\n",
       "Subscribe to Youtube channels;Following fanbase on social media                                                   1\n",
       "Subscribe to Youtube channels;Follow fellow kpop listeners on twitter                                             1\n",
       "Subscribe to K-Pop news sites;Twitter                                                                             1\n",
       "Subscribe to Youtube channels;Join K-pop social media groups;Keep updated via twitter                             1\n",
       "Subscribe to Youtube channels;Go on twitter                                                                       1\n",
       "Subscribe to Youtube channels;Join K-pop social media groups;Twitter and Instagram                                1\n",
       "Amino, Youtube,Twitter                                                                                            1\n",
       "Have a group chat with friend who like kpop and we update each other if we see something online                   1\n",
       "Reddit                                                                                                            1\n",
       "See whatâ€™s trending on Twitter or Youtube                                                                       1\n",
       "Seeing Tweets or Tumblr Posts                                                                                     1\n",
       "Subscribe to Youtube channels;Join K-pop social media groups;Definitely being on twitter keeps me in the loop     1\n",
       "Twitter mutuals usually rt things onto my tl                                                                      1\n",
       "Subscribe to K-Pop news sites;Subscribe to Youtube channels;Follow their official social media accounts           1\n",
       "Subscribe to Youtube channels;Join K-pop social media groups;Twitter and Army Amino                               1\n",
       "None                                                                                                              1\n",
       "Name: news_medium, dtype: int64"
      ]
     },
     "metadata": {},
     "execution_count": 51
    }
   ],
   "metadata": {}
  },
  {
   "cell_type": "code",
   "execution_count": 52,
   "source": [
    "news = df['news_medium']\r\n",
    "\r\n",
    "news = news.apply(lambda x: x.lower())\r\n",
    "\r\n",
    "for row in range(0, 240):\r\n",
    "    if 'youtube' in news.iloc[row]:\r\n",
    "        news.iloc[row] = 'youtube'\r\n",
    "    elif 'twitter' and 'instagram' and 'social media' in news.iloc[row]:\r\n",
    "        news.iloc[row] = 'social media (twitter, instagram)'\r\n",
    "    else:\r\n",
    "        news.iloc[row] = 'others (reddit, tumbler, or none)'\r\n",
    "\r\n",
    "news.value_counts()"
   ],
   "outputs": [
    {
     "output_type": "execute_result",
     "data": {
      "text/plain": [
       "youtube                              153\n",
       "social media (twitter, instagram)     47\n",
       "others (reddit, tumbler, or none)     40\n",
       "Name: news_medium, dtype: int64"
      ]
     },
     "metadata": {},
     "execution_count": 52
    }
   ],
   "metadata": {}
  },
  {
   "cell_type": "code",
   "execution_count": 53,
   "source": [
    "df.news_medium = news \r\n",
    "df.news_medium.value_counts()"
   ],
   "outputs": [
    {
     "output_type": "execute_result",
     "data": {
      "text/plain": [
       "youtube                              153\n",
       "social media (twitter, instagram)     47\n",
       "others (reddit, tumbler, or none)     40\n",
       "Name: news_medium, dtype: int64"
      ]
     },
     "metadata": {},
     "execution_count": 53
    }
   ],
   "metadata": {}
  },
  {
   "cell_type": "markdown",
   "source": [
    "#### Pursuit"
   ],
   "metadata": {}
  },
  {
   "cell_type": "code",
   "execution_count": 54,
   "source": [
    "df['pursuit'].value_counts()"
   ],
   "outputs": [
    {
     "output_type": "execute_result",
     "data": {
      "text/plain": [
       "Learning about Korean/Asian culture                                                                                                                                                                                                                  36\n",
       "Learning about Korean/Asian culture;Learn about Korean fashion/makeup                                                                                                                                                                                23\n",
       "Learning about Korean/Asian culture;Pursue dancing;Learn about Korean fashion/makeup;Visit Korea                                                                                                                                                     19\n",
       "Learning music - either an instrument or singing;Learning about Korean/Asian culture;Pursue dancing;Learn about Korean fashion/makeup;Visit Korea                                                                                                    16\n",
       "Learning about Korean/Asian culture;Visit Korea                                                                                                                                                                                                      16\n",
       "Learning about Korean/Asian culture;Learn about Korean fashion/makeup;Visit Korea                                                                                                                                                                    15\n",
       "Learning about Korean/Asian culture;Pursue dancing                                                                                                                                                                                                   11\n",
       "Learning about Korean/Asian culture;Pursue dancing;Visit Korea                                                                                                                                                                                       10\n",
       "Learning about Korean/Asian culture;Pursue dancing;Learn about Korean fashion/makeup                                                                                                                                                                  9\n",
       "Learning music - either an instrument or singing;Learning about Korean/Asian culture;Pursue dancing;Visit Korea                                                                                                                                       7\n",
       "Learning music - either an instrument or singing;Learning about Korean/Asian culture;Pursue dancing                                                                                                                                                   7\n",
       "Learning music - either an instrument or singing;Learning about Korean/Asian culture                                                                                                                                                                  7\n",
       "Pursue dancing                                                                                                                                                                                                                                        6\n",
       "Learn about Korean fashion/makeup                                                                                                                                                                                                                     6\n",
       "Learning music - either an instrument or singing                                                                                                                                                                                                      5\n",
       "Visit Korea                                                                                                                                                                                                                                           5\n",
       "Learning music - either an instrument or singing;Learning about Korean/Asian culture;Pursue dancing;Learn about Korean fashion/makeup                                                                                                                 4\n",
       "Learning music - either an instrument or singing;Learning about Korean/Asian culture;Learn about Korean fashion/makeup                                                                                                                                4\n",
       "No                                                                                                                                                                                                                                                    3\n",
       "Learning music - either an instrument or singing;Learning about Korean/Asian culture;Learn about Korean fashion/makeup;Visit Korea                                                                                                                    3\n",
       "Learning music - either an instrument or singing;Learning about Korean/Asian culture;Visit Korea                                                                                                                                                      3\n",
       "Learn about Korean fashion/makeup;Visit Korea                                                                                                                                                                                                         3\n",
       "Pursue dancing;Learn about Korean fashion/makeup                                                                                                                                                                                                      2\n",
       "continuing to dance more                                                                                                                                                                                                                              1\n",
       "Learning music - either an instrument or singing;Pursue dancing;Visit Korea                                                                                                                                                                           1\n",
       "Learning music - either an instrument or singing;Learning about Korean/Asian culture;Learn about Korean fashion/makeup;To open up to other types of artists that are not just Kpop groups like soloist and made be want to learn to speak Korean.     1\n",
       "Visit Korea;Learn the language                                                                                                                                                                                                                        1\n",
       "Learning about Korean/Asian culture;Learn about Korean fashion/makeup;Visit Korea;Learn Korean                                                                                                                                                        1\n",
       "None, but I'd like to travel someday to Korea                                                                                                                                                                                                         1\n",
       "Learning music - either an instrument or singing;Learning about Korean/Asian culture;A new job choice                                                                                                                                                 1\n",
       "Learning music - either an instrument or singing;Learning about korean culture and food                                                                                                                                                               1\n",
       "All of the above and I would like to visit Korea                                                                                                                                                                                                      1\n",
       "Pursue dancing;Visit Korea                                                                                                                                                                                                                            1\n",
       "Things like learning instruments and culture are things I do, but it isn't because of kpop (like I would've still learned about it due to school and such)                                                                                            1\n",
       "Learning about Korean/Asian culture;Visit Korea;It's helped me improve my art and animation skills.                                                                                                                                                   1\n",
       "Learning music - either an instrument or singing;Learning about Korean/Asian culture;Pursue dancing;Learn about Korean fashion/makeup;Visit Korea;Learn drawing and following campaigns to help others                                                1\n",
       "Learning about Korean/Asian culture;Visit Korea;Learning the Korean Language                                                                                                                                                                          1\n",
       "Learning about Korean/Asian culture;Learn about Korean fashion/makeup;Learning more about producing and music making, more about dance and singing, but more technically speaking. Also video editing!                                                1\n",
       "Learning music - either an instrument or singing;Learning about Korean/Asian culture;Visit Korea;Learning the language                                                                                                                                1\n",
       "Learning music - either an instrument or singing;Learning about Korean/Asian culture;Collecting kpop albums and become broke lol                                                                                                                      1\n",
       "Fashion and dancing                                                                                                                                                                                                                                   1\n",
       "Learning about Korean/Asian culture;Learn about Korean fashion/makeup;It taught me to be more open minded                                                                                                                                             1\n",
       "no                                                                                                                                                                                                                                                    1\n",
       "Name: pursuit, dtype: int64"
      ]
     },
     "metadata": {},
     "execution_count": 54
    }
   ],
   "metadata": {}
  },
  {
   "cell_type": "code",
   "execution_count": 55,
   "source": [
    "pursue = df['pursuit']\r\n",
    "pursue_test = pursue"
   ],
   "outputs": [],
   "metadata": {}
  },
  {
   "cell_type": "code",
   "execution_count": 56,
   "source": [
    "pursue_test = pursue_test.apply(lambda x: x.lower())\r\n",
    "\r\n",
    "for row in range(0, 240):\r\n",
    "    if 'learning about korean/asian culture' in pursue_test.iloc[row] and ';' not in pursue_test.iloc[row]:\r\n",
    "        pursue_test.iloc[row] = 'learn the culture'\r\n",
    "    elif 'learn about korean fashion/makeup' in pursue_test.iloc[row] and ';' not in pursue_test.iloc[row]:\r\n",
    "        pursue_test.iloc[row] = 'learn korean fashion/makeup'\r\n",
    "    elif 'learning music - either an instrument or singing' in pursue_test.iloc[row] and ';' not in pursue_test.iloc[row]:\r\n",
    "        pursue_test.iloc[row] = 'learn music'\r\n",
    "    elif 'pursue dancing' in pursue_test.iloc[row] and ';' not in pursue_test.iloc[row]:\r\n",
    "        pursue_test.iloc[row] = 'pursue dancing'\r\n",
    "    elif 'no' in pursue_test.iloc[row] and ';' not in pursue_test.iloc[row]:\r\n",
    "        pursue_test.iloc[row] = 'none'\r\n",
    "    else:\r\n",
    "        pursue_test.iloc[row] = 'others (combination of the four and visit korea)'"
   ],
   "outputs": [],
   "metadata": {}
  },
  {
   "cell_type": "code",
   "execution_count": 57,
   "source": [
    "df['pursuit'] = pursue_test\r\n",
    "df.pursuit.value_counts()"
   ],
   "outputs": [
    {
     "output_type": "execute_result",
     "data": {
      "text/plain": [
       "others (combination of the four and visit korea)    182\n",
       "learn the culture                                    36\n",
       "learn korean fashion/makeup                           6\n",
       "pursue dancing                                        6\n",
       "none                                                  5\n",
       "learn music                                           5\n",
       "Name: pursuit, dtype: int64"
      ]
     },
     "metadata": {},
     "execution_count": 57
    }
   ],
   "metadata": {}
  },
  {
   "cell_type": "markdown",
   "source": [
    "#### time_cons_yn"
   ],
   "metadata": {}
  },
  {
   "cell_type": "code",
   "execution_count": 58,
   "source": [
    "df['time_cons_yn'].value_counts()"
   ],
   "outputs": [
    {
     "output_type": "execute_result",
     "data": {
      "text/plain": [
       "No                                                                                                                                                                                                                                                     115\n",
       "Yes                                                                                                                                                                                                                                                     69\n",
       "Not sure                                                                                                                                                                                                                                                34\n",
       "Most of the time                                                                                                                                                                                                                                         1\n",
       "It depends on your definition of taken away. I am constantly listening to music and spend most of my day listening to KPop but I am still able to go out with family and get school work done. I would say KPop is a slightly time consuming hobby.      1\n",
       "Yes, it had but Kpop isnâ€™t only just consuming my time. Itâ€™s also drawing, paint, and deal with school.                                                                                                                                              1\n",
       "Yes but I still manage time well                                                                                                                                                                                                                         1\n",
       "Yes, but i csn focus on other thins if needed                                                                                                                                                                                                            1\n",
       "Iâ€™ve slowly stopped watching kpop as much as I used to                                                                                                                                                                                                 1\n",
       "From an outside view, you would probably think yes. However, I personally believe that leisure is very important for one's wellbeing. Therefore, I spend a lot of time keeping updated with kpop (and watching anime and stuff).                         1\n",
       "I wouldnâ€™t say that its taken over my life, it more of an intrest like e.g. a intrest in art                                                                                                                                                           1\n",
       "When I first got into it                                                                                                                                                                                                                                 1\n",
       "If you mean spending the night watching BTS crack or try not to laugh, than yes                                                                                                                                                                          1\n",
       "It doesnâ€™t waste my time, instead itâ€™s just a time spender until I have to do something.                                                                                                                                                             1\n",
       "I would say I get everything I need to do done and spend the rest of the time doing/watching kpop related content                                                                                                                                        1\n",
       "K-Pop doesn't take away my time. I have problems with procrastination, but not because of K-Pop.                                                                                                                                                         1\n",
       "Sometimes                                                                                                                                                                                                                                                1\n",
       "Not really becuase i make sure kpop doesnt get jn the way of my personal time with my friends.                                                                                                                                                           1\n",
       "It used to but now Iâ€™ve learnt to control it                                                                                                                                                                                                           1\n",
       "I spend a lot of time with kpop, but Iâ€™ve learned how to budget and appreciate it when i can !                                                                                                                                                         1\n",
       "The music itself doesn't make much of a difference but I do go to more concerts now which takes up my time (and money).                                                                                                                                  1\n",
       "It used to, not as much now that iâ€™m back in school                                                                                                                                                                                                    1\n",
       "It depends                                                                                                                                                                                                                                               1\n",
       "Not really                                                                                                                                                                                                                                               1\n",
       "As much as everything else in my life does                                                                                                                                                                                                               1\n",
       "Name: time_cons_yn, dtype: int64"
      ]
     },
     "metadata": {},
     "execution_count": 58
    }
   ],
   "metadata": {}
  },
  {
   "cell_type": "code",
   "execution_count": 59,
   "source": [
    "time_cons = df['time_cons_yn']\r\n",
    "time_cons_test = time_cons"
   ],
   "outputs": [],
   "metadata": {}
  },
  {
   "cell_type": "code",
   "execution_count": 60,
   "source": [
    "time_cons_test = time_cons_test.apply(lambda x: x.lower())\r\n",
    "\r\n",
    "for row in range(0, 240):\r\n",
    "    if 'yes' in time_cons_test.iloc[row]:\r\n",
    "        time_cons_test.iloc[row] = 'yes'\r\n",
    "    elif 'no' in time_cons_test.iloc[row]:\r\n",
    "        time_cons_test.iloc[row] = 'no'\r\n",
    "    else:\r\n",
    "        time_cons_test.iloc[row] = 'others (sometimes, not sure)'\r\n",
    "\r\n",
    "time_cons_test.value_counts()"
   ],
   "outputs": [
    {
     "output_type": "execute_result",
     "data": {
      "text/plain": [
       "no                              155\n",
       "yes                              74\n",
       "others (sometimes, not sure)     11\n",
       "Name: time_cons_yn, dtype: int64"
      ]
     },
     "metadata": {},
     "execution_count": 60
    }
   ],
   "metadata": {}
  },
  {
   "cell_type": "code",
   "execution_count": 61,
   "source": [
    "df['time_cons_yn'] = time_cons_test"
   ],
   "outputs": [],
   "metadata": {}
  },
  {
   "cell_type": "markdown",
   "source": [
    "#### life_chg"
   ],
   "metadata": {}
  },
  {
   "cell_type": "code",
   "execution_count": 62,
   "source": [
    "df['life_chg'].value_counts()"
   ],
   "outputs": [
    {
     "output_type": "execute_result",
     "data": {
      "text/plain": [
       "Led to you being cajoled (made fun of) by classmates and family                                                                                                                   93\n",
       "Reduced the amount of sleep you get                                                                                                                                               71\n",
       "Reduced your time to socialise with your friends/partners/family                                                                                                                  10\n",
       "Reduced the number of friends you have                                                                                                                                             7\n",
       "None                                                                                                                                                                               5\n",
       "None of the above                                                                                                                                                                  4\n",
       "No                                                                                                                                                                                 4\n",
       "Not really                                                                                                                                                                         3\n",
       "none of the above                                                                                                                                                                  3\n",
       "Nope                                                                                                                                                                               2\n",
       "Made my bond with my friends stronger ! My family and some friends still make fun of me, but for the most part they accept it.                                                     1\n",
       "reduced amount of sleep, as well, got made fun of                                                                                                                                  1\n",
       "Not consumed, some people dont have lives out kpop and it shows, i treat this genre of music like most do with entertainment and just absorb it in my free time here and there     1\n",
       "I really dont see kpop affecting me, if anything, i got happier with the friends i met through it                                                                                  1\n",
       "Increased number of friends                                                                                                                                                        1\n",
       "No, because it hasnâ€™t affected my life.Cause I still do thing that I love even if I wasnâ€™t into Kpop.                                                                          1\n",
       "it hasnâ€™t affected me negatively                                                                                                                                                 1\n",
       "No? Itâ€™s just music                                                                                                                                                              1\n",
       "Reduced the time spend to watch other tvshows ,movies ...                                                                                                                          1\n",
       "Itâ€™s the only music of genre I listen to and I Stan lots of group I have to on top on what the lastest thing is but I still continue with my life                                1\n",
       "K-pop has not affected my personal life.                                                                                                                                           1\n",
       "no it doesn't                                                                                                                                                                      1\n",
       "Nothings changed with my lifestyle                                                                                                                                                 1\n",
       "Made more friends because we like kpop                                                                                                                                             1\n",
       "I'd rather say that because of my connection with K-Pop, it has opened doorsfor me to make new friends (even to that of bosses).                                                   1\n",
       "All of the above                                                                                                                                                                   1\n",
       "None of the above, I talk about it with a couple friends who also like kpop otherwise itâ€™s only in my own time. I donâ€™t talk about it around others and stuff                  1\n",
       "no                                                                                                                                                                                 1\n",
       "Helped me to makw new friends and try new things                                                                                                                                   1\n",
       "Kpop has led me through difficult times honestly with just having music as a way to relive stress and being able to relate and understand the meaning of songs.                    1\n",
       "If itâ€™s not balanced                                                                                                                                                             1\n",
       "No affect.                                                                                                                                                                         1\n",
       "nope not at all                                                                                                                                                                    1\n",
       "No I'm fine. But I don't talk about it either.                                                                                                                                     1\n",
       "all of them                                                                                                                                                                        1\n",
       "Changed my perspective on what occupation Iâ€™d like to persue in the future which is actually working as a translator ;)                                                          1\n",
       "No it hasn't.                                                                                                                                                                      1\n",
       "Small amount of criticism.                                                                                                                                                         1\n",
       "none                                                                                                                                                                               1\n",
       "Consuming kpop reduce my stress and make my more positive and open-minded person. Love myself, love yourself, peace.                                                               1\n",
       "Made me closer to friends                                                                                                                                                          1\n",
       "BTS has taught me to love myself since i was ostracized when i was in elementary                                                                                                   1\n",
       "Not really. Other than my dad poking fun everynow and then.                                                                                                                        1\n",
       "Has not affected my life other than introducing me to some of my closest friends                                                                                                   1\n",
       "Nothing really                                                                                                                                                                     1\n",
       "It has not negatively affected my quality of life                                                                                                                                  1\n",
       "Hasnâ€™t affected me negatively                                                                                                                                                    1\n",
       "Nothing as such                                                                                                                                                                    1\n",
       "Name: life_chg, dtype: int64"
      ]
     },
     "metadata": {},
     "execution_count": 62
    }
   ],
   "metadata": {}
  },
  {
   "cell_type": "code",
   "execution_count": 69,
   "source": [
    "lf_chg = df['life_chg']\r\n",
    "lf_chg_test = lf_chg"
   ],
   "outputs": [],
   "metadata": {}
  },
  {
   "cell_type": "code",
   "execution_count": 70,
   "source": [
    "lf_chg_test = lf_chg_test.apply(lambda x: x.lower())\r\n",
    "\r\n",
    "for row in range(0, 240):\r\n",
    "    if 'cajoled' in lf_chg_test.iloc[row]:\r\n",
    "        lf_chg_test.iloc[row] = 'made fun of'\r\n",
    "    elif 'amount of sleep' in lf_chg_test.iloc[row]:\r\n",
    "        lf_chg_test.iloc[row] = 'reduced amount of sleep'\r\n",
    "    elif 'friends' and 'friends' in lf_chg_test.iloc[row]:\r\n",
    "        lf_chg_test.iloc[row] = 'reduced time of socialized with friends/family'\r\n",
    "    elif 'no' in lf_chg_test.iloc[row]:\r\n",
    "        lf_chg_test.iloc[row] = 'none'\r\n",
    "    else:\r\n",
    "        lf_chg_test.iloc[row] = 'others (combination of the negatives, small criticism)'\r\n",
    "\r\n",
    "lf_chg_test.value_counts()\r\n"
   ],
   "outputs": [
    {
     "output_type": "execute_result",
     "data": {
      "text/plain": [
       "made fun of                                               93\n",
       "reduced amount of sleep                                   72\n",
       "none                                                      38\n",
       "reduced time of socialized with friends/family            26\n",
       "others (combination of the negatives, small criticism)    11\n",
       "Name: life_chg, dtype: int64"
      ]
     },
     "metadata": {},
     "execution_count": 70
    }
   ],
   "metadata": {}
  },
  {
   "cell_type": "code",
   "execution_count": 71,
   "source": [
    "df['lf_chg'] = lf_chg_test"
   ],
   "outputs": [],
   "metadata": {}
  },
  {
   "cell_type": "markdown",
   "source": [
    "#### pos_eff"
   ],
   "metadata": {}
  },
  {
   "cell_type": "code",
   "execution_count": 72,
   "source": [
    "df.pos_eff.value_counts()"
   ],
   "outputs": [
    {
     "output_type": "execute_result",
     "data": {
      "text/plain": [
       "Reduced stress/anxiety/depression                                                                                                                                                                                                                                                                                     131\n",
       "Made friends who are like-minded                                                                                                                                                                                                                                                                                       77\n",
       "Both                                                                                                                                                                                                                                                                                                                    7\n",
       "All of the above                                                                                                                                                                                                                                                                                                        3\n",
       "No                                                                                                                                                                                                                                                                                                                      1\n",
       "Both answers above                                                                                                                                                                                                                                                                                                      1\n",
       "Idk if what I'm about to say makes much sense. But, for example, BTS helped me understand that I have to love myself. CLC teaches me, through their music, that it's ok to be different, that the standards that our society create should never be our measuring cup. (I'm sorry if my english is not so correct)      1\n",
       "Being inspired by the lyrics/ messages                                                                                                                                                                                                                                                                                  1\n",
       "both. Iâ€™ve met my best friend thanks to kpop and it makes me happy                                                                                                                                                                                                                                                    1\n",
       "KPop groups have helped me overcome some of the hardest times of my life. It is my strength when I am weak. I feel it is there to comfort me when I feel sad.                                                                                                                                                           1\n",
       "Kpop made me and overall better person to love myself and donâ€™t give a crap about haters (sorry about my French)                                                                                                                                                                                                      1\n",
       "Being exposed to different styles of music                                                                                                                                                                                                                                                                              1\n",
       "Not really, i mean i made a friend that likes the same group as me so thats nice                                                                                                                                                                                                                                        1\n",
       "I don't know                                                                                                                                                                                                                                                                                                            1\n",
       "Both of the above                                                                                                                                                                                                                                                                                                       1\n",
       "Everything about it is positive for me, except people being disrespectful to me for my liking, or the threatening of my wallet.                                                                                                                                                                                         1\n",
       "It makes me super excited to start a new animation project whenever I have an idea.                                                                                                                                                                                                                                     1\n",
       "Not only has it relieves stress but Iâ€™ve made a lot more friends and have become more social. I also travel a lot to go to shows so it creates great experiences. It has positively effected my life to learn more about other cultures and people.                                                                   1\n",
       "Expanded my idea of what good music is overall                                                                                                                                                                                                                                                                          1\n",
       "Reduced stress, made new friends and give me more experiences (like concert and meeting person from internet at real live).                                                                                                                                                                                             1\n",
       "Made me closer with my partner                                                                                                                                                                                                                                                                                          1\n",
       "Learning about something new                                                                                                                                                                                                                                                                                            1\n",
       "Its where I go to unwind and it helps with my anxiety, stress, and depression. Iâ€™ve also made a ton of internet friends and in real life friends from it too !                                                                                                                                                        1\n",
       "made friends on internet and when i went to high school (senior year)                                                                                                                                                                                                                                                   1\n",
       "all the above                                                                                                                                                                                                                                                                                                           1\n",
       "Nothing specific, I just like the music                                                                                                                                                                                                                                                                                 1\n",
       "Name: pos_eff, dtype: int64"
      ]
     },
     "metadata": {},
     "execution_count": 72
    }
   ],
   "metadata": {}
  },
  {
   "cell_type": "code",
   "execution_count": 73,
   "source": [
    "pos_ef = df['pos_eff']\r\n",
    "pos_ef_test = pos_ef"
   ],
   "outputs": [],
   "metadata": {}
  },
  {
   "cell_type": "code",
   "execution_count": 74,
   "source": [
    "pos_ef_test = pos_ef_test.apply(lambda x: x.lower())\r\n",
    "\r\n",
    "for row in range(0, 240):\r\n",
    "    if 'reduced stress' in pos_ef_test.iloc[row]:\r\n",
    "        pos_ef_test.iloc[row] = 'reduced stress/anxiety/depression'\r\n",
    "    elif 'like-minded' in pos_ef_test.iloc[row]:\r\n",
    "        pos_ef_test.iloc[row] = 'made friends'\r\n",
    "    elif 'both' in pos_ef_test.iloc[row]:\r\n",
    "        pos_ef_test.iloc[row] = 'both reduced stress and made friends'\r\n",
    "    else:\r\n",
    "        pos_ef_test.iloc[row] = \"others (don't know, no effect, learning new things)\"\r\n",
    "\r\n",
    "pos_ef_test.value_counts()"
   ],
   "outputs": [
    {
     "output_type": "execute_result",
     "data": {
      "text/plain": [
       "reduced stress/anxiety/depression                      132\n",
       "made friends                                            77\n",
       "others (don't know, no effect, learning new things)     21\n",
       "both reduced stress and made friends                    10\n",
       "Name: pos_eff, dtype: int64"
      ]
     },
     "metadata": {},
     "execution_count": 74
    }
   ],
   "metadata": {}
  },
  {
   "cell_type": "markdown",
   "source": [
    "#### money_src"
   ],
   "metadata": {}
  },
  {
   "cell_type": "code",
   "execution_count": 75,
   "source": [
    "df.money_src.value_counts()"
   ],
   "outputs": [
    {
     "output_type": "execute_result",
     "data": {
      "text/plain": [
       "Parents                                                                                                                                              99\n",
       "Working part-time                                                                                                                                    76\n",
       "I have a full - time job                                                                                                                             22\n",
       "Borrow from friends/partner                                                                                                                           3\n",
       "No one                                                                                                                                                2\n",
       "I donâ€™t                                                                                                                                             2\n",
       "Savings                                                                                                                                               2\n",
       "None of the above                                                                                                                                     1\n",
       "Helping parents and grandparents, but also holiday money (chrismas or birthdays)                                                                      1\n",
       "I donâ€™t!                                                                                                                                            1\n",
       ".                                                                                                                                                     1\n",
       "Has I said I don't spend money on merchandise, but if I did I would have use my own money.                                                            1\n",
       "I just have it ðŸ—¿                                                                                                                                   1\n",
       "Money I got as presents and saved over the years                                                                                                      1\n",
       "christmas/birthday                                                                                                                                    1\n",
       "Have never spent money on kpop merchandise                                                                                                            1\n",
       "I babysit but thatâ€™s rare but thatâ€™s what I use to buy things                                                                                     1\n",
       "Well, a little bit of parents paying me 10 dollars to go to work with my dad and also help out around my school.                                      1\n",
       "Again, I've only ever gotten merch as gifts.                                                                                                          1\n",
       "Financial aid                                                                                                                                         1\n",
       "Borrow from parents, and my part time job                                                                                                             1\n",
       "i donâ€™t spend money on kpop merchandise.                                                                                                            1\n",
       "My account                                                                                                                                            1\n",
       "I get money from bets, lending money, and doing people's work. I also get money for special occasions like birthdays, Christmas and New Year etc.     1\n",
       "I dont spend money on merch                                                                                                                           1\n",
       "I'm broke so i cant buy anything.                                                                                                                     1\n",
       "Usually I have my own money                                                                                                                           1\n",
       "I get the money for special days, like my birthday, christmas, etc. or when i make an accomplishment, like keeping my grades up.                      1\n",
       "My parents and me working both                                                                                                                        1\n",
       "My parents and friends or, whever I get paid, I buy the merch.                                                                                        1\n",
       "I save my own money                                                                                                                                   1\n",
       "I don't have money to spare on merchandise. Nu                                                                                                        1\n",
       "Schoolarship                                                                                                                                          1\n",
       "Money I saved up                                                                                                                                      1\n",
       "Pocket money and additional work.                                                                                                                     1\n",
       "Money that I've saved over the past 6 years from presents and other things.                                                                           1\n",
       "Chores                                                                                                                                                1\n",
       "none                                                                                                                                                  1\n",
       "Money Iâ€™ve saved up                                                                                                                                 1\n",
       "Chinese new year money, birthday money, gifts etc..                                                                                                   1\n",
       "Gift Cards                                                                                                                                            1\n",
       "Name: money_src, dtype: int64"
      ]
     },
     "metadata": {},
     "execution_count": 75
    }
   ],
   "metadata": {}
  },
  {
   "cell_type": "code",
   "execution_count": 76,
   "source": [
    "money = df['money_src']\r\n",
    "money_test = money \r\n",
    "\r\n",
    "money_test = money_test.apply(lambda x: x.lower())\r\n",
    "\r\n",
    "for row in range(0, 240):\r\n",
    "    if \"parents\" in money_test.iloc[row]:\r\n",
    "        money_test.iloc[row] = 'from parents'\r\n",
    "    elif 'part-time' in money_test.iloc[row]:\r\n",
    "        money_test.iloc[row] = \"part-time job\"\r\n",
    "    elif 'a full' in pos_ef_test.iloc[row]:\r\n",
    "        pos_ef_test.iloc[row] = 'full-time job'\r\n",
    "    elif 'borrow' in pos_ef_test.iloc[row]:\r\n",
    "        pos_ef_test.iloc[row] = 'borrowed'\r\n",
    "    else:\r\n",
    "        money_test.iloc[row] = 'others (gift, scholarship, etc)'\r\n",
    "\r\n",
    "money_test.value_counts()"
   ],
   "outputs": [
    {
     "output_type": "execute_result",
     "data": {
      "text/plain": [
       "from parents                       104\n",
       "part-time job                       76\n",
       "others (gift, scholarship, etc)     60\n",
       "Name: money_src, dtype: int64"
      ]
     },
     "metadata": {},
     "execution_count": 76
    }
   ],
   "metadata": {}
  },
  {
   "cell_type": "code",
   "execution_count": 77,
   "source": [
    "df['money_src'] = money_test"
   ],
   "outputs": [],
   "metadata": {}
  },
  {
   "cell_type": "markdown",
   "source": [
    "#### crazy_ev"
   ],
   "metadata": {}
  },
  {
   "cell_type": "code",
   "execution_count": 78,
   "source": [
    "df.crazy_ev.value_counts()"
   ],
   "outputs": [
    {
     "output_type": "execute_result",
     "data": {
      "text/plain": [
       "Nothing as such                                                                                                                                                                                   133\n",
       "Listened to K-Pop without studying or working despite having a deadline                                                                                                                            46\n",
       "Missed days of work and school to attend concerts                                                                                                                                                  21\n",
       "Listened to K-Pop without studying or working despite having a deadline;Missed days of work and school to attend concerts                                                                           8\n",
       "Constantly avoid going out with friends/family to watch/listen K-Pop                                                                                                                                5\n",
       "Listened to K-Pop without studying or working despite having a deadline;Constantly avoid going out with friends/family to watch/listen K-Pop                                                        5\n",
       "Listened to K-Pop without studying or working despite having a deadline;Constantly avoid going out with friends/family to watch/listen K-Pop;Missed days of work and school to attend concerts      3\n",
       "Listened to K-Pop without studying or working despite having a deadline;Nothing as such                                                                                                             3\n",
       "Constantly avoid going out with friends/family to watch/listen K-Pop;Missed days of work and school to attend concerts                                                                              2\n",
       "Constantly avoid going out with friends/family to watch/listen K-Pop;Nothing as such                                                                                                                2\n",
       "Listened to K-Pop without studying or working despite having a deadline;I do online school and watching kpop videos keeps me from doing any work at all.                                            1\n",
       "I have anxiety but I danced to exo in a public place. Everyone thought I was crazy.                                                                                                                 1\n",
       "Waking up at like 2am to watch award shows even if I have to do stuff later that day                                                                                                                1\n",
       "The heck kind of questionare is this? Lmao i have a life outside kpop unlike others                                                                                                                 1\n",
       "Nothing as such; I mean, I almost skipped a day of school for Monsta X's comeback showcase that one time but I didn't.                                                                              1\n",
       "Lost hours of sleep staying up for award shows and comebacks                                                                                                                                        1\n",
       "Just giving up on sleep to stream and stuff.                                                                                                                                                        1\n",
       "Slept on the street with my friends to be one of the first few people in at the Line store in Hollywood.                                                                                            1\n",
       "Listened to K-Pop without studying or working despite having a deadline;Again, because of my own personal problems with procrastination, not necessarily because of K-Pop itself.                   1\n",
       "Stayed up really late/ woken up VERY early just for an award show/ comeback!                                                                                                                        1\n",
       "Listened to K-Pop without studying or working despite having a deadline;Missed days of work and school to attend concerts;Traveled to another state for a kpop concert                              1\n",
       "Missed days of work and school to attend concerts;missed school to ticket for bts                                                                                                                   1\n",
       "Name: crazy_ev, dtype: int64"
      ]
     },
     "metadata": {},
     "execution_count": 78
    }
   ],
   "metadata": {}
  },
  {
   "cell_type": "code",
   "execution_count": 79,
   "source": [
    "crazy = df.crazy_ev\r\n",
    "crazy_test = crazy\r\n",
    "\r\n",
    "crazy_test = crazy_test.apply(lambda x: x.lower())\r\n",
    "\r\n",
    "for row in range(0, 240):\r\n",
    "    if \"nothing\" in crazy_test.iloc[row] and ';' not in crazy_test.iloc[row]:\r\n",
    "        crazy_test.iloc[row] = 'nothing'\r\n",
    "    elif 'without studying or working' in crazy_test.iloc[row] and ';' not in crazy_test.iloc[row]:\r\n",
    "        crazy_test.iloc[row] = \"didn't study or work\"\r\n",
    "    elif 'Missed days' in crazy_test.iloc[row] and ';' not in crazy_test.iloc[row]:\r\n",
    "        crazy_test.iloc[row] = \"missed school or work\"\r\n",
    "    else:\r\n",
    "        crazy_test.iloc[row] = \"others\"\r\n",
    "\r\n",
    "crazy_test.value_counts()"
   ],
   "outputs": [
    {
     "output_type": "execute_result",
     "data": {
      "text/plain": [
       "nothing                 133\n",
       "others                   61\n",
       "didn't study or work     46\n",
       "Name: crazy_ev, dtype: int64"
      ]
     },
     "metadata": {},
     "execution_count": 79
    }
   ],
   "metadata": {}
  },
  {
   "cell_type": "code",
   "execution_count": 80,
   "source": [
    "df.crazy_ev = crazy_test"
   ],
   "outputs": [],
   "metadata": {}
  },
  {
   "cell_type": "markdown",
   "source": [
    "#### country"
   ],
   "metadata": {}
  },
  {
   "cell_type": "code",
   "execution_count": 81,
   "source": [
    "df.country.value_counts()"
   ],
   "outputs": [
    {
     "output_type": "execute_result",
     "data": {
      "text/plain": [
       "USA                             140\n",
       "A country in the UK              26\n",
       "Other European countries         18\n",
       "Canada                           15\n",
       "Latin America                     8\n",
       "Australia                         7\n",
       "Germany                           6\n",
       "France                            5\n",
       "Other Asian country               5\n",
       "New Zealand                       2\n",
       "South Africa                      2\n",
       "Sweden                            1\n",
       "Finland                           1\n",
       "CANNNAADAAAA BOIIIIIIS            1\n",
       "A country from the Caribbean      1\n",
       "canada                            1\n",
       "Turkey                            1\n",
       "Name: country, dtype: int64"
      ]
     },
     "metadata": {},
     "execution_count": 81
    }
   ],
   "metadata": {}
  },
  {
   "cell_type": "code",
   "execution_count": 82,
   "source": [
    "con = df['country']\r\n",
    "con_test = con"
   ],
   "outputs": [],
   "metadata": {}
  },
  {
   "cell_type": "code",
   "execution_count": 83,
   "source": [
    "con_test = con_test.apply(lambda x: x.lower())\r\n",
    "\r\n",
    "for row in range(0, 240):\r\n",
    "    if 'usa' in con_test.iloc[row]:\r\n",
    "        con_test.iloc[row] = 'usa'\r\n",
    "    elif 'uk' in con_test.iloc[row]:\r\n",
    "        con_test.iloc[row] = 'uk'\r\n",
    "    elif 'european' in con_test.iloc[row]:\r\n",
    "        con_test.iloc[row] = 'other european countries'\r\n",
    "    elif 'can' in con_test.iloc[row]:\r\n",
    "        con_test.iloc[row] = 'canada'\r\n",
    "    elif 'latin' in con_test.iloc[row]:\r\n",
    "        con_test.iloc[row] = 'latin america'\r\n",
    "    elif 'australia' in con_test.iloc[row]:\r\n",
    "        con_test.iloc[row] = 'australia'\r\n",
    "    elif 'germany' in con_test.iloc[row]:\r\n",
    "        con_test.iloc[row] = 'germany'\r\n",
    "    elif 'asian' in con_test.iloc[row]:\r\n",
    "        con_test.iloc[row] = 'other asian countries'\r\n",
    "    elif 'france' in con_test.iloc[row]:\r\n",
    "        con_test.iloc[row] = 'france'\r\n",
    "    else:\r\n",
    "        con_test.iloc[row] = 'others'\r\n",
    "\r\n",
    "con_test.value_counts()"
   ],
   "outputs": [
    {
     "output_type": "execute_result",
     "data": {
      "text/plain": [
       "usa                         140\n",
       "uk                           26\n",
       "other european countries     18\n",
       "canada                       17\n",
       "latin america                 8\n",
       "others                        8\n",
       "australia                     7\n",
       "germany                       6\n",
       "france                        5\n",
       "other asian countries         5\n",
       "Name: country, dtype: int64"
      ]
     },
     "metadata": {},
     "execution_count": 83
    }
   ],
   "metadata": {}
  },
  {
   "cell_type": "code",
   "execution_count": 84,
   "source": [
    "df['country'] = con_test"
   ],
   "outputs": [],
   "metadata": {}
  },
  {
   "cell_type": "code",
   "execution_count": 85,
   "source": [
    "df = df.apply(lambda x: x.astype(str).str.lower())"
   ],
   "outputs": [],
   "metadata": {}
  },
  {
   "cell_type": "code",
   "execution_count": 86,
   "source": [
    "df.to_csv(\"cleaned_kpop_data.csv\", index=False)"
   ],
   "outputs": [],
   "metadata": {}
  }
 ],
 "metadata": {
  "orig_nbformat": 4,
  "language_info": {
   "name": "python",
   "version": "3.9.6",
   "mimetype": "text/x-python",
   "codemirror_mode": {
    "name": "ipython",
    "version": 3
   },
   "pygments_lexer": "ipython3",
   "nbconvert_exporter": "python",
   "file_extension": ".py"
  },
  "kernelspec": {
   "name": "python3",
   "display_name": "Python 3.9.6 64-bit"
  },
  "interpreter": {
   "hash": "06cb67651ce969e244f20f184e33f4ddb1106793adfe07cf7ddc131c95c4012f"
  }
 },
 "nbformat": 4,
 "nbformat_minor": 2
}