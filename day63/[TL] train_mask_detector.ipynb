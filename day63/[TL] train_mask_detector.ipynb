{
 "cells": [
  {
   "cell_type": "markdown",
   "id": "impressive-surgeon",
   "metadata": {},
   "source": [
    "# Training the Mask Detector\n",
    "\n",
    "Tutorial = [link](https://www.youtube.com/watch?v=Ax6P93r32KU&ab_channel=BalajiSrinivasan)"
   ]
  },
  {
   "cell_type": "markdown",
   "id": "liable-vehicle",
   "metadata": {},
   "source": [
    "## Import Modules"
   ]
  },
  {
   "cell_type": "code",
   "execution_count": 3,
   "id": "available-sugar",
   "metadata": {},
   "outputs": [],
   "source": [
    "from tensorflow.keras.applications.mobilenet_v2 import preprocess_input\n",
    "from tensorflow.keras.applications import MobileNetV2\n",
    "\n",
    "from tensorflow.keras.preprocessing.image import ImageDataGenerator\n",
    "from tensorflow.keras.preprocessing.image import img_to_array\n",
    "from tensorflow.keras.preprocessing.image import load_img\n",
    "\n",
    "from tensorflow.keras.layers import AveragePooling2D\n",
    "from tensorflow.keras.layers import Dropout\n",
    "from tensorflow.keras.layers import Flatten\n",
    "from tensorflow.keras.layers import Dense\n",
    "from tensorflow.keras.layers import Input\n",
    "\n",
    "from tensorflow.keras.models import Model\n",
    "from tensorflow.keras.optimizers import Adam\n",
    "from tensorflow.keras.utils import to_categorical\n",
    "\n",
    "from sklearn.preprocessing import LabelBinarizer\n",
    "from sklearn.model_selection import train_test_split\n",
    "from sklearn.metrics import classification_report\n",
    "\n",
    "from imutils import paths\n",
    "\n",
    "import matplotlib.pyplot as plt\n",
    "import numpy as np\n",
    "import os"
   ]
  },
  {
   "cell_type": "markdown",
   "id": "breathing-breakdown",
   "metadata": {},
   "source": [
    "## Data Preprocessing"
   ]
  },
  {
   "cell_type": "markdown",
   "id": "mysterious-forestry",
   "metadata": {},
   "source": [
    "### Global Variables"
   ]
  },
  {
   "cell_type": "code",
   "execution_count": 9,
   "id": "annoying-suspension",
   "metadata": {},
   "outputs": [],
   "source": [
    "INIT_LR = 1e-4 # Learning rate\n",
    "EPOCHS = 25    # Epochs\n",
    "BS = 32        # Batch size\n",
    "\n",
    "DIR = r\"./dataset/\"\n",
    "CATEGORY = ['Masked', \"Unmasked\"]"
   ]
  },
  {
   "cell_type": "code",
   "execution_count": 6,
   "id": "operating-postcard",
   "metadata": {},
   "outputs": [
    {
     "name": "stdout",
     "output_type": "stream",
     "text": [
      "[INFO] loading images ...\n"
     ]
    }
   ],
   "source": [
    "print(\"[INFO] loading images ...\")\n",
    "\n",
    "data = []\n",
    "labels = []\n",
    "\n",
    "for category in CATEGORY:\n",
    "    path = os.path.join(DIR, category)\n",
    "    for img in os.listdir(path):\n",
    "        img_path = os.path.join(path, img)\n",
    "        image = load_img(img_path, target_size=(224, 224))\n",
    "        image = img_to_array(image)\n",
    "        image = preprocess_input(image)\n",
    "        \n",
    "        data.append(image)\n",
    "        labels.append(category)\n",
    "        \n",
    "print(\"[DONE]\")"
   ]
  },
  {
   "cell_type": "markdown",
   "id": "mature-basis",
   "metadata": {},
   "source": [
    "### Label Encoding"
   ]
  },
  {
   "cell_type": "code",
   "execution_count": 7,
   "id": "negative-connecticut",
   "metadata": {},
   "outputs": [],
   "source": [
    "lb = LabelBinarizer()\n",
    "labels = lb.fit_transform(labels)\n",
    "labels = to_categorical(labels)\n",
    "\n",
    "data = np.array(data, dtype=\"float32\")\n",
    "labels = np.array(labels)"
   ]
  },
  {
   "cell_type": "code",
   "execution_count": 8,
   "id": "certain-variation",
   "metadata": {},
   "outputs": [],
   "source": [
    "train_X, test_X, train_y, test_y = train_test_split(data, labels, \n",
    "                                                    test_size=0.20, \n",
    "                                                    stratify=labels, \n",
    "                                                    random_state=42)"
   ]
  },
  {
   "cell_type": "markdown",
   "id": "imported-cancellation",
   "metadata": {},
   "source": [
    "## Training"
   ]
  },
  {
   "cell_type": "markdown",
   "id": "given-forward",
   "metadata": {},
   "source": [
    "### Construct Training Image Generator for Data Augmentation"
   ]
  },
  {
   "cell_type": "code",
   "execution_count": 10,
   "id": "light-style",
   "metadata": {},
   "outputs": [],
   "source": [
    "aug = ImageDataGenerator(\n",
    "        rotation_range=20,\n",
    "        zoom_range=0.15,\n",
    "        width_shift_range=0.2,\n",
    "        height_shift_range=0.2,\n",
    "        shear_range=0.15,\n",
    "        horizontal_flip=True,\n",
    "        fill_mode=\"nearest\")"
   ]
  },
  {
   "cell_type": "markdown",
   "id": "intensive-recipient",
   "metadata": {},
   "source": [
    "### Load MobileNetV2 Network"
   ]
  },
  {
   "cell_type": "code",
   "execution_count": 11,
   "id": "indian-folder",
   "metadata": {},
   "outputs": [
    {
     "name": "stdout",
     "output_type": "stream",
     "text": [
      "WARNING:tensorflow:`input_shape` is undefined or non-square, or `rows` is not in [96, 128, 160, 192, 224]. Weights for input shape (224, 224) will be loaded as the default.\n",
      "Downloading data from https://storage.googleapis.com/tensorflow/keras-applications/mobilenet_v2/mobilenet_v2_weights_tf_dim_ordering_tf_kernels_1.0_224_no_top.h5\n",
      "9412608/9406464 [==============================] - 16s 2us/step\n"
     ]
    }
   ],
   "source": [
    "base_model = MobileNetV2(weights=\"imagenet\", include_top=False,\n",
    "                         input_tensor=Input(shape=(224, 224, 3)))"
   ]
  },
  {
   "cell_type": "markdown",
   "id": "developed-episode",
   "metadata": {},
   "source": [
    "### Construct Head Model on Top of Base Model"
   ]
  },
  {
   "cell_type": "code",
   "execution_count": 12,
   "id": "primary-removal",
   "metadata": {},
   "outputs": [],
   "source": [
    "head_model = base_model.output\n",
    "head_model = AveragePooling2D(pool_size=(7,7))(head_model)\n",
    "head_model = Flatten(name=\"flatten\")(head_model)\n",
    "head_model = Dense(128, activation=\"relu\")(head_model)\n",
    "head_model = Dropout(0.5)(head_model)\n",
    "head_model = Dense(2, activation='softmax')(head_model)"
   ]
  },
  {
   "cell_type": "markdown",
   "id": "early-prayer",
   "metadata": {},
   "source": [
    "### Place the Head Model on Top of Base Model"
   ]
  },
  {
   "cell_type": "code",
   "execution_count": 13,
   "id": "hairy-canon",
   "metadata": {},
   "outputs": [],
   "source": [
    "model = Model(inputs=base_model.input, outputs=head_model)"
   ]
  },
  {
   "cell_type": "markdown",
   "id": "measured-command",
   "metadata": {},
   "source": [
    "### Loop Through All layers"
   ]
  },
  {
   "cell_type": "code",
   "execution_count": 15,
   "id": "native-japan",
   "metadata": {},
   "outputs": [],
   "source": [
    "for layer in base_model.layers:\n",
    "    layer.trainable = False"
   ]
  },
  {
   "cell_type": "markdown",
   "id": "precise-uruguay",
   "metadata": {},
   "source": [
    "### Compile the model"
   ]
  },
  {
   "cell_type": "code",
   "execution_count": 18,
   "id": "extensive-highway",
   "metadata": {},
   "outputs": [
    {
     "name": "stdout",
     "output_type": "stream",
     "text": [
      "[INFO] compiling model...\n",
      "[DONE]\n"
     ]
    },
    {
     "name": "stderr",
     "output_type": "stream",
     "text": [
      "C:\\Users\\asus\\AppData\\Roaming\\Python\\Python39\\site-packages\\tensorflow\\python\\keras\\optimizer_v2\\optimizer_v2.py:374: UserWarning: The `lr` argument is deprecated, use `learning_rate` instead.\n",
      "  warnings.warn(\n"
     ]
    }
   ],
   "source": [
    "print(\"[INFO] compiling model...\")\n",
    "\n",
    "opt = Adam(lr=INIT_LR, decay=INIT_LR/EPOCHS)\n",
    "model.compile(loss=\"binary_crossentropy\", optimizer=opt, metrics=['accuracy'])\n",
    "\n",
    "print(\"[DONE]\")"
   ]
  },
  {
   "cell_type": "markdown",
   "id": "objective-advertiser",
   "metadata": {},
   "source": [
    "### Training head of the network"
   ]
  },
  {
   "cell_type": "code",
   "execution_count": 19,
   "id": "fifth-today",
   "metadata": {},
   "outputs": [
    {
     "name": "stdout",
     "output_type": "stream",
     "text": [
      "[INFO] training head...\n",
      "Epoch 1/25\n",
      "15/15 [==============================] - 15s 795ms/step - loss: 0.6245 - accuracy: 0.6976 - val_loss: 0.3669 - val_accuracy: 0.9677\n",
      "Epoch 2/25\n",
      "15/15 [==============================] - 11s 751ms/step - loss: 0.3598 - accuracy: 0.8920 - val_loss: 0.1915 - val_accuracy: 0.9839\n",
      "Epoch 3/25\n",
      "15/15 [==============================] - 11s 751ms/step - loss: 0.2294 - accuracy: 0.9503 - val_loss: 0.1114 - val_accuracy: 0.9919\n",
      "Epoch 4/25\n",
      "15/15 [==============================] - 12s 763ms/step - loss: 0.1405 - accuracy: 0.9741 - val_loss: 0.0751 - val_accuracy: 0.9919\n",
      "Epoch 5/25\n",
      "15/15 [==============================] - 11s 751ms/step - loss: 0.1089 - accuracy: 0.9892 - val_loss: 0.0538 - val_accuracy: 0.9919\n",
      "Epoch 6/25\n",
      "15/15 [==============================] - 11s 758ms/step - loss: 0.0869 - accuracy: 0.9827 - val_loss: 0.0420 - val_accuracy: 0.9919\n",
      "Epoch 7/25\n",
      "15/15 [==============================] - 11s 759ms/step - loss: 0.0714 - accuracy: 0.9870 - val_loss: 0.0344 - val_accuracy: 0.9919\n",
      "Epoch 8/25\n",
      "15/15 [==============================] - 11s 754ms/step - loss: 0.0598 - accuracy: 0.9935 - val_loss: 0.0288 - val_accuracy: 0.9919\n",
      "Epoch 9/25\n",
      "15/15 [==============================] - 11s 793ms/step - loss: 0.0461 - accuracy: 0.9978 - val_loss: 0.0245 - val_accuracy: 0.9919\n",
      "Epoch 10/25\n",
      "15/15 [==============================] - 12s 763ms/step - loss: 0.0538 - accuracy: 0.9914 - val_loss: 0.0216 - val_accuracy: 1.0000\n",
      "Epoch 11/25\n",
      "15/15 [==============================] - 12s 765ms/step - loss: 0.0455 - accuracy: 0.9935 - val_loss: 0.0195 - val_accuracy: 1.0000\n",
      "Epoch 12/25\n",
      "15/15 [==============================] - 12s 773ms/step - loss: 0.0412 - accuracy: 0.9914 - val_loss: 0.0170 - val_accuracy: 1.0000\n",
      "Epoch 13/25\n",
      "15/15 [==============================] - 12s 807ms/step - loss: 0.0341 - accuracy: 0.9979 - val_loss: 0.0154 - val_accuracy: 1.0000\n",
      "Epoch 14/25\n",
      "15/15 [==============================] - 12s 807ms/step - loss: 0.0244 - accuracy: 0.9978 - val_loss: 0.0146 - val_accuracy: 0.9919\n",
      "Epoch 15/25\n",
      "15/15 [==============================] - 13s 845ms/step - loss: 0.0314 - accuracy: 0.9917 - val_loss: 0.0132 - val_accuracy: 0.9919\n",
      "Epoch 16/25\n",
      "15/15 [==============================] - 12s 811ms/step - loss: 0.0275 - accuracy: 0.9935 - val_loss: 0.0117 - val_accuracy: 1.0000\n",
      "Epoch 17/25\n",
      "15/15 [==============================] - 13s 835ms/step - loss: 0.0253 - accuracy: 0.9957 - val_loss: 0.0107 - val_accuracy: 1.0000\n",
      "Epoch 18/25\n",
      "15/15 [==============================] - 13s 839ms/step - loss: 0.0197 - accuracy: 0.9978 - val_loss: 0.0100 - val_accuracy: 1.0000\n",
      "Epoch 19/25\n",
      "15/15 [==============================] - 13s 842ms/step - loss: 0.0227 - accuracy: 0.9978 - val_loss: 0.0095 - val_accuracy: 1.0000\n",
      "Epoch 20/25\n",
      "15/15 [==============================] - 13s 856ms/step - loss: 0.0190 - accuracy: 0.9957 - val_loss: 0.0093 - val_accuracy: 1.0000\n",
      "Epoch 21/25\n",
      "15/15 [==============================] - 13s 867ms/step - loss: 0.0215 - accuracy: 0.9957 - val_loss: 0.0083 - val_accuracy: 1.0000\n",
      "Epoch 22/25\n",
      "15/15 [==============================] - 13s 876ms/step - loss: 0.0205 - accuracy: 0.9957 - val_loss: 0.0077 - val_accuracy: 1.0000\n",
      "Epoch 23/25\n",
      "15/15 [==============================] - 13s 896ms/step - loss: 0.0252 - accuracy: 0.9957 - val_loss: 0.0074 - val_accuracy: 1.0000\n",
      "Epoch 24/25\n",
      "15/15 [==============================] - 14s 960ms/step - loss: 0.0241 - accuracy: 0.9935 - val_loss: 0.0072 - val_accuracy: 1.0000\n",
      "Epoch 25/25\n",
      "15/15 [==============================] - 14s 914ms/step - loss: 0.0130 - accuracy: 1.0000 - val_loss: 0.0073 - val_accuracy: 1.0000\n"
     ]
    }
   ],
   "source": [
    "print(\"[INFO] training head...\")\n",
    "H = model.fit(\n",
    "    aug.flow(train_X, train_y, batch_size=BS),\n",
    "    steps_per_epoch=len(train_X) // BS,\n",
    "    validation_data=(test_X, test_y),\n",
    "    validation_steps=len(test_X) // BS,\n",
    "    epochs=EPOCHS\n",
    ")\n",
    "print(\"[DONE]\")"
   ]
  },
  {
   "cell_type": "markdown",
   "id": "celtic-gospel",
   "metadata": {},
   "source": [
    "### Predictions on Testing Set"
   ]
  },
  {
   "cell_type": "code",
   "execution_count": 20,
   "id": "intimate-contributor",
   "metadata": {},
   "outputs": [
    {
     "name": "stdout",
     "output_type": "stream",
     "text": [
      "[INFO] evaluating network...\n"
     ]
    }
   ],
   "source": [
    "print(\"[INFO] evaluating network...\")\n",
    "\n",
    "predIdxs = model.predict(test_X, batch_size=BS)\n",
    "predIdxs = np.argmax(predIdxs, axis=1)\n",
    "\n",
    "print(\"[DONE]\")"
   ]
  },
  {
   "cell_type": "markdown",
   "id": "pressed-recovery",
   "metadata": {},
   "source": [
    "### Show Classification Report"
   ]
  },
  {
   "cell_type": "code",
   "execution_count": 21,
   "id": "split-louisiana",
   "metadata": {},
   "outputs": [
    {
     "name": "stdout",
     "output_type": "stream",
     "text": [
      "              precision    recall  f1-score   support\n",
      "\n",
      "      Masked       1.00      1.00      1.00        60\n",
      "    Unmasked       1.00      1.00      1.00        64\n",
      "\n",
      "    accuracy                           1.00       124\n",
      "   macro avg       1.00      1.00      1.00       124\n",
      "weighted avg       1.00      1.00      1.00       124\n",
      "\n"
     ]
    }
   ],
   "source": [
    "print(classification_report(test_y.argmax(axis=1), predIdxs,\n",
    "                            target_names=lb.classes_))"
   ]
  },
  {
   "cell_type": "markdown",
   "id": "unusual-cosmetic",
   "metadata": {},
   "source": [
    "### Serialize the Model (Saving the Model)"
   ]
  },
  {
   "cell_type": "code",
   "execution_count": 22,
   "id": "royal-punch",
   "metadata": {},
   "outputs": [
    {
     "name": "stdout",
     "output_type": "stream",
     "text": [
      "[INFO] saving the model...\n"
     ]
    },
    {
     "name": "stderr",
     "output_type": "stream",
     "text": [
      "C:\\Users\\asus\\AppData\\Roaming\\Python\\Python39\\site-packages\\tensorflow\\python\\keras\\utils\\generic_utils.py:494: CustomMaskWarning: Custom mask layers require a config and must override get_config. When loading, the custom mask layer must be passed to the custom_objects argument.\n",
      "  warnings.warn('Custom mask layers require a config and must override '\n"
     ]
    }
   ],
   "source": [
    "print(\"[INFO] saving the model...\")\n",
    "model.save(\"mask_detector.model\", save_format=\"h5\")"
   ]
  },
  {
   "cell_type": "markdown",
   "id": "included-beginning",
   "metadata": {},
   "source": [
    "### Plot Training Loss and Accuracy"
   ]
  },
  {
   "cell_type": "code",
   "execution_count": 28,
   "id": "narrow-paradise",
   "metadata": {},
   "outputs": [
    {
     "data": {
      "image/png": "[encoded data removed]",
      "text/plain": [
       "<Figure size 720x576 with 1 Axes>"
      ]
     },
     "metadata": {},
     "output_type": "display_data"
    }
   ],
   "source": [
    "N = EPOCHS\n",
    "plt.style.use(\"ggplot\")\n",
    "plt.figure(figsize=(10,8))\n",
    "plt.plot(np.arange(0, N), H.history['loss'], label=\"train_loss\")\n",
    "plt.plot(np.arange(0, N), H.history['val_loss'], label=\"val_loss\")\n",
    "plt.plot(np.arange(0, N), H.history['accuracy'], label=\"train_acc\")\n",
    "plt.plot(np.arange(0, N), H.history['val_accuracy'], label=\"val_acc\")\n",
    "plt.title(\"Training Loss and Accuracy\")\n",
    "plt.xlabel(\"Epochs\")\n",
    "plt.ylabel(\"Loss/Accuracy\")\n",
    "plt.legend(loc=\"center right\")\n",
    "plt.savefig(\"history_plot.png\")"
   ]
  }
 ],
 "metadata": {
  "kernelspec": {
   "display_name": "Python 3",
   "language": "python",
   "name": "python3"
  },
  "language_info": {
   "codemirror_mode": {
    "name": "ipython",
    "version": 3
   },
   "file_extension": ".py",
   "mimetype": "text/x-python",
   "name": "python",
   "nbconvert_exporter": "python",
   "pygments_lexer": "ipython3",
   "version": "3.9.0"
  }
 },
 "nbformat": 4,
 "nbformat_minor": 5
}
