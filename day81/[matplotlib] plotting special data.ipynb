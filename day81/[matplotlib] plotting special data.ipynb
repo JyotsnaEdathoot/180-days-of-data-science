{
 "cells": [
  {
   "cell_type": "markdown",
   "id": "subtle-freedom",
   "metadata": {},
   "source": [
    "# Setting Different Bar Chart\n",
    "\n",
    "Tutorial: [CodeComponent](https://i.ytimg.com/an_webp/CktxkhkZN28/mqdefault_6s.webp?du=3000&sqp=COKj9IgG&rs=AOn4CLB2GkXhDZVwvMOHGySSr6ObM2Z3lQ)"
   ]
  },
  {
   "cell_type": "markdown",
   "id": "graphic-sherman",
   "metadata": {},
   "source": [
    "## Import module and dataset"
   ]
  },
  {
   "cell_type": "code",
   "execution_count": 1,
   "id": "complex-classroom",
   "metadata": {},
   "outputs": [],
   "source": [
    "import matplotlib.pyplot as plt\n",
    "import pandas as pd"
   ]
  },
  {
   "cell_type": "code",
   "execution_count": 2,
   "id": "engaging-shield",
   "metadata": {},
   "outputs": [
    {
     "data": {
      "text/html": [
       "<div>\n",
       "<style scoped>\n",
       "    .dataframe tbody tr th:only-of-type {\n",
       "        vertical-align: middle;\n",
       "    }\n",
       "\n",
       "    .dataframe tbody tr th {\n",
       "        vertical-align: top;\n",
       "    }\n",
       "\n",
       "    .dataframe thead th {\n",
       "        text-align: right;\n",
       "    }\n",
       "</style>\n",
       "<table border=\"1\" class=\"dataframe\">\n",
       "  <thead>\n",
       "    <tr style=\"text-align: right;\">\n",
       "      <th></th>\n",
       "      <th>category</th>\n",
       "      <th>price</th>\n",
       "    </tr>\n",
       "  </thead>\n",
       "  <tbody>\n",
       "    <tr>\n",
       "      <th>0</th>\n",
       "      <td>KZ21</td>\n",
       "      <td>100</td>\n",
       "    </tr>\n",
       "    <tr>\n",
       "      <th>1</th>\n",
       "      <td>YN91</td>\n",
       "      <td>50</td>\n",
       "    </tr>\n",
       "    <tr>\n",
       "      <th>2</th>\n",
       "      <td>MN88</td>\n",
       "      <td>400</td>\n",
       "    </tr>\n",
       "    <tr>\n",
       "      <th>3</th>\n",
       "      <td>AB12</td>\n",
       "      <td>720</td>\n",
       "    </tr>\n",
       "    <tr>\n",
       "      <th>4</th>\n",
       "      <td>ER83</td>\n",
       "      <td>489</td>\n",
       "    </tr>\n",
       "    <tr>\n",
       "      <th>5</th>\n",
       "      <td>BT18</td>\n",
       "      <td>510</td>\n",
       "    </tr>\n",
       "    <tr>\n",
       "      <th>6</th>\n",
       "      <td>IU80</td>\n",
       "      <td>60</td>\n",
       "    </tr>\n",
       "    <tr>\n",
       "      <th>7</th>\n",
       "      <td>OP45</td>\n",
       "      <td>800</td>\n",
       "    </tr>\n",
       "    <tr>\n",
       "      <th>8</th>\n",
       "      <td>HJ50</td>\n",
       "      <td>54</td>\n",
       "    </tr>\n",
       "    <tr>\n",
       "      <th>9</th>\n",
       "      <td>BC56</td>\n",
       "      <td>78</td>\n",
       "    </tr>\n",
       "    <tr>\n",
       "      <th>10</th>\n",
       "      <td>MZ32</td>\n",
       "      <td>124</td>\n",
       "    </tr>\n",
       "    <tr>\n",
       "      <th>11</th>\n",
       "      <td>TX99</td>\n",
       "      <td>350</td>\n",
       "    </tr>\n",
       "  </tbody>\n",
       "</table>\n",
       "</div>"
      ],
      "text/plain": [
       "   category  price\n",
       "0      KZ21    100\n",
       "1      YN91     50\n",
       "2      MN88    400\n",
       "3      AB12    720\n",
       "4      ER83    489\n",
       "5      BT18    510\n",
       "6      IU80     60\n",
       "7      OP45    800\n",
       "8      HJ50     54\n",
       "9      BC56     78\n",
       "10     MZ32    124\n",
       "11     TX99    350"
      ]
     },
     "execution_count": 2,
     "metadata": {},
     "output_type": "execute_result"
    }
   ],
   "source": [
    "new_data = {'category':['KZ21', 'YN91', 'MN88', 'AB12', 'ER83', 'BT18',\n",
    "                        'IU80', 'OP45', 'HJ50', 'BC56', 'MZ32', 'TX99'],\n",
    "            'price': [100, 50, 400, 720, 489, 510,\n",
    "                      60, 800, 54, 78, 124, 350]\n",
    "            }\n",
    "\n",
    "df = pd.DataFrame.from_dict(new_data)\n",
    "df"
   ]
  },
  {
   "cell_type": "code",
   "execution_count": 3,
   "id": "welsh-chemical",
   "metadata": {},
   "outputs": [
    {
     "data": {
      "image/png": "[encoded data removed]",
      "text/plain": [
       "<Figure size 648x432 with 1 Axes>"
      ]
     },
     "metadata": {
      "needs_background": "light"
     },
     "output_type": "display_data"
    }
   ],
   "source": [
    "fig = plt.figure(figsize=(9,6))\n",
    "ax1 = plt.subplot(111)\n",
    "ax1.barh(df['category'], df['price'])\n",
    "\n",
    "plt.show()"
   ]
  },
  {
   "cell_type": "code",
   "execution_count": 4,
   "id": "identical-appeal",
   "metadata": {},
   "outputs": [],
   "source": [
    "# Call mean value"
   ]
  },
  {
   "cell_type": "code",
   "execution_count": 5,
   "id": "latest-chaos",
   "metadata": {},
   "outputs": [
    {
     "data": {
      "text/plain": [
       "311.25"
      ]
     },
     "execution_count": 5,
     "metadata": {},
     "output_type": "execute_result"
    }
   ],
   "source": [
    "df.price.mean()"
   ]
  },
  {
   "cell_type": "code",
   "execution_count": 6,
   "id": "consecutive-suspect",
   "metadata": {},
   "outputs": [],
   "source": [
    "df = df.append({'category':'mean', 'price': round(df.price.mean())}, ignore_index=True)"
   ]
  },
  {
   "cell_type": "code",
   "execution_count": 7,
   "id": "medium-brass",
   "metadata": {},
   "outputs": [
    {
     "data": {
      "text/html": [
       "<div>\n",
       "<style scoped>\n",
       "    .dataframe tbody tr th:only-of-type {\n",
       "        vertical-align: middle;\n",
       "    }\n",
       "\n",
       "    .dataframe tbody tr th {\n",
       "        vertical-align: top;\n",
       "    }\n",
       "\n",
       "    .dataframe thead th {\n",
       "        text-align: right;\n",
       "    }\n",
       "</style>\n",
       "<table border=\"1\" class=\"dataframe\">\n",
       "  <thead>\n",
       "    <tr style=\"text-align: right;\">\n",
       "      <th></th>\n",
       "      <th>category</th>\n",
       "      <th>price</th>\n",
       "    </tr>\n",
       "  </thead>\n",
       "  <tbody>\n",
       "    <tr>\n",
       "      <th>0</th>\n",
       "      <td>KZ21</td>\n",
       "      <td>100</td>\n",
       "    </tr>\n",
       "    <tr>\n",
       "      <th>1</th>\n",
       "      <td>YN91</td>\n",
       "      <td>50</td>\n",
       "    </tr>\n",
       "    <tr>\n",
       "      <th>2</th>\n",
       "      <td>MN88</td>\n",
       "      <td>400</td>\n",
       "    </tr>\n",
       "    <tr>\n",
       "      <th>3</th>\n",
       "      <td>AB12</td>\n",
       "      <td>720</td>\n",
       "    </tr>\n",
       "    <tr>\n",
       "      <th>4</th>\n",
       "      <td>ER83</td>\n",
       "      <td>489</td>\n",
       "    </tr>\n",
       "    <tr>\n",
       "      <th>5</th>\n",
       "      <td>BT18</td>\n",
       "      <td>510</td>\n",
       "    </tr>\n",
       "    <tr>\n",
       "      <th>6</th>\n",
       "      <td>IU80</td>\n",
       "      <td>60</td>\n",
       "    </tr>\n",
       "    <tr>\n",
       "      <th>7</th>\n",
       "      <td>OP45</td>\n",
       "      <td>800</td>\n",
       "    </tr>\n",
       "    <tr>\n",
       "      <th>8</th>\n",
       "      <td>HJ50</td>\n",
       "      <td>54</td>\n",
       "    </tr>\n",
       "    <tr>\n",
       "      <th>9</th>\n",
       "      <td>BC56</td>\n",
       "      <td>78</td>\n",
       "    </tr>\n",
       "    <tr>\n",
       "      <th>10</th>\n",
       "      <td>MZ32</td>\n",
       "      <td>124</td>\n",
       "    </tr>\n",
       "    <tr>\n",
       "      <th>11</th>\n",
       "      <td>TX99</td>\n",
       "      <td>350</td>\n",
       "    </tr>\n",
       "    <tr>\n",
       "      <th>12</th>\n",
       "      <td>mean</td>\n",
       "      <td>311</td>\n",
       "    </tr>\n",
       "  </tbody>\n",
       "</table>\n",
       "</div>"
      ],
      "text/plain": [
       "   category  price\n",
       "0      KZ21    100\n",
       "1      YN91     50\n",
       "2      MN88    400\n",
       "3      AB12    720\n",
       "4      ER83    489\n",
       "5      BT18    510\n",
       "6      IU80     60\n",
       "7      OP45    800\n",
       "8      HJ50     54\n",
       "9      BC56     78\n",
       "10     MZ32    124\n",
       "11     TX99    350\n",
       "12     mean    311"
      ]
     },
     "execution_count": 7,
     "metadata": {},
     "output_type": "execute_result"
    }
   ],
   "source": [
    "df"
   ]
  },
  {
   "cell_type": "code",
   "execution_count": 8,
   "id": "skilled-departure",
   "metadata": {},
   "outputs": [],
   "source": [
    "# To colorize we know the center from the mean\n",
    "df.sort_values('price', inplace=True) # df.sort_values('price')"
   ]
  },
  {
   "cell_type": "code",
   "execution_count": 9,
   "id": "running-vault",
   "metadata": {
    "scrolled": true
   },
   "outputs": [
    {
     "name": "stdout",
     "output_type": "stream",
     "text": [
      "50 0\n",
      "54 1\n",
      "60 2\n",
      "78 3\n",
      "100 4\n",
      "124 5\n",
      "311 6\n",
      "350 7\n",
      "400 8\n",
      "489 9\n",
      "510 10\n",
      "720 11\n",
      "800 12\n"
     ]
    }
   ],
   "source": [
    "for pY, pX in enumerate(df.price):\n",
    "    print(pX, pY)"
   ]
  },
  {
   "cell_type": "code",
   "execution_count": 10,
   "id": "imported-valentine",
   "metadata": {},
   "outputs": [
    {
     "data": {
      "image/png": "[encoded data removed]",
      "text/plain": [
       "<Figure size 720x432 with 1 Axes>"
      ]
     },
     "metadata": {
      "needs_background": "light"
     },
     "output_type": "display_data"
    }
   ],
   "source": [
    "fig = plt.figure(figsize=(10,6))\n",
    "ax1 = plt.subplot(111)\n",
    "\n",
    "# Setting different bar coir\n",
    "ret = ax1.barh(df['category'], df['price'], color='#2266ff')\n",
    "ret[0].set_color('#222222')\n",
    "ret[6].set_color('#ee1111')\n",
    "ret[12].set_color('#11ff00')\n",
    "\n",
    "ax1.xaxis.grid(linestyle='--', linewidth=0.5)\n",
    "for pY, pX in enumerate(df.price):\n",
    "    if pY == 12:\n",
    "        ax1.annotate(\"{:,}\".format(pX), xy=(pX+8, pY), \n",
    "                     fontstyle='italic', va='center',\n",
    "                     color='#11ff00', fontsize=18)    \n",
    "    elif pY==0:\n",
    "        ax1.annotate(\"{:,}\".format(pX), xy=(pX+8, pY), \n",
    "                     fontstyle='italic', va='center',\n",
    "                     color='#222222', fontsize=18)            \n",
    "    else:\n",
    "        ax1.annotate(\"{:,}\".format(pX), xy=(pX+8, pY), \n",
    "                     fontstyle='italic', va='center')\n",
    "\n",
    "ax1.set_xlim(0, df.price.max() * 1.1)\n",
    "\n",
    "for pos in ['top', 'right', 'bottom', 'left']:\n",
    "    ax1.spines[pos].set_linewidth(5)\n",
    "    ax1.spines[pos].set_color('black')\n",
    "\n",
    "plt.text(600, 2, \"Coloring Specific Columns\",\n",
    "         color='#1f1f1f', bbox={'facecolor':'red',\n",
    "                             'alpha':0.3})\n",
    "\n",
    "plt.show()"
   ]
  }
 ],
 "metadata": {
  "kernelspec": {
   "display_name": "Python 3",
   "language": "python",
   "name": "python3"
  },
  "language_info": {
   "codemirror_mode": {
    "name": "ipython",
    "version": 3
   },
   "file_extension": ".py",
   "mimetype": "text/x-python",
   "name": "python",
   "nbconvert_exporter": "python",
   "pygments_lexer": "ipython3",
   "version": "3.9.0"
  }
 },
 "nbformat": 4,
 "nbformat_minor": 5
}
