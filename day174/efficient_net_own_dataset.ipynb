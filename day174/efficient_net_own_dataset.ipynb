{
  "nbformat": 4,
  "nbformat_minor": 0,
  "metadata": {
    "colab": {
      "name": "efficient_net_own_dataset.ipynb",
      "provenance": [],
      "collapsed_sections": []
    },
    "kernelspec": {
      "name": "python3",
      "display_name": "Python 3"
    },
    "language_info": {
      "name": "python"
    },
    "accelerator": "GPU"
  },
  "cells": [
    {
      "cell_type": "markdown",
      "metadata": {
        "id": "H2-K_zgNEFG5"
      },
      "source": [
        "## Data Pre-Processing"
      ]
    },
    {
      "cell_type": "code",
      "metadata": {
        "colab": {
          "base_uri": "https://localhost:8080/"
        },
        "id": "temXqCeeEUI5",
        "outputId": "3d88e6a0-5b65-4a81-a1da-c5fc8c105284"
      },
      "source": [
        "!unzip dataset.zip"
      ],
      "execution_count": 1,
      "outputs": [
        {
          "output_type": "stream",
          "name": "stdout",
          "text": [
            "Archive:  dataset.zip\n",
            "   creating: dataset/\n",
            "   creating: dataset/car/\n",
            "  inflating: dataset/car/car1.jpg    \n",
            "  inflating: dataset/car/car10.jpg   \n",
            "  inflating: dataset/car/car11.jpg   \n",
            "  inflating: dataset/car/car12.jpg   \n",
            "  inflating: dataset/car/car13.jpg   \n",
            "  inflating: dataset/car/car14.jpg   \n",
            "  inflating: dataset/car/car15.jpg   \n",
            "  inflating: dataset/car/car16.jpg   \n",
            "  inflating: dataset/car/car17.jpg   \n",
            "  inflating: dataset/car/car18.jpg   \n",
            "  inflating: dataset/car/car19.jpg   \n",
            "  inflating: dataset/car/car2.jpg    \n",
            "  inflating: dataset/car/car20.jpg   \n",
            "  inflating: dataset/car/car21.jpg   \n",
            "  inflating: dataset/car/car22.jpg   \n",
            "  inflating: dataset/car/car23.jpg   \n",
            "  inflating: dataset/car/car24.jpg   \n",
            "  inflating: dataset/car/car25.jpg   \n",
            "  inflating: dataset/car/car26.jpg   \n",
            "  inflating: dataset/car/car27.jpg   \n",
            "  inflating: dataset/car/car28.jpg   \n",
            "  inflating: dataset/car/car29.jpg   \n",
            "  inflating: dataset/car/car3.jpg    \n",
            "  inflating: dataset/car/car30.jpg   \n",
            "  inflating: dataset/car/car4.jpg    \n",
            "  inflating: dataset/car/car5.jpg    \n",
            "  inflating: dataset/car/car6.jpg    \n",
            "  inflating: dataset/car/car7.jpg    \n",
            "  inflating: dataset/car/car8.jpg    \n",
            "  inflating: dataset/car/car9.jpg    \n",
            "   creating: dataset/pencil/\n",
            "  inflating: dataset/pencil/pencil1.jpg  \n",
            "  inflating: dataset/pencil/pencil10.jpg  \n",
            "  inflating: dataset/pencil/pencil11.jpg  \n",
            "  inflating: dataset/pencil/pencil12.jpg  \n",
            "  inflating: dataset/pencil/pencil13.jpg  \n",
            "  inflating: dataset/pencil/pencil14.jpg  \n",
            "  inflating: dataset/pencil/pencil15.jpg  \n",
            "  inflating: dataset/pencil/pencil16.jpg  \n",
            "  inflating: dataset/pencil/pencil17.jpg  \n",
            "  inflating: dataset/pencil/pencil18.jpg  \n",
            "  inflating: dataset/pencil/pencil19.jpg  \n",
            "  inflating: dataset/pencil/pencil2.jpg  \n",
            "  inflating: dataset/pencil/pencil20.jpg  \n",
            "  inflating: dataset/pencil/pencil21.jpg  \n",
            "  inflating: dataset/pencil/pencil22.jpg  \n",
            "  inflating: dataset/pencil/pencil23.jpg  \n",
            "  inflating: dataset/pencil/pencil24.jpg  \n",
            "  inflating: dataset/pencil/pencil25.jpg  \n",
            "  inflating: dataset/pencil/pencil26.jpg  \n",
            "  inflating: dataset/pencil/pencil27.jpg  \n",
            "  inflating: dataset/pencil/pencil28.jpg  \n",
            "  inflating: dataset/pencil/pencil29.jpg  \n",
            "  inflating: dataset/pencil/pencil3.jpg  \n",
            "  inflating: dataset/pencil/pencil30.jpg  \n",
            "  inflating: dataset/pencil/pencil4.jpg  \n",
            "  inflating: dataset/pencil/pencil5.jpg  \n",
            "  inflating: dataset/pencil/pencil6.jpg  \n",
            "  inflating: dataset/pencil/pencil7.jpg  \n",
            "  inflating: dataset/pencil/pencil8.jpg  \n",
            "  inflating: dataset/pencil/pencil9.jpg  \n",
            "   creating: dataset/smartphone/\n",
            "  inflating: dataset/smartphone/smartphone1.jpg  \n",
            "  inflating: dataset/smartphone/smartphone10.jpg  \n",
            "  inflating: dataset/smartphone/smartphone11.jpg  \n",
            "  inflating: dataset/smartphone/smartphone12.jpg  \n",
            "  inflating: dataset/smartphone/smartphone13.jpg  \n",
            "  inflating: dataset/smartphone/smartphone14.jpg  \n",
            "  inflating: dataset/smartphone/smartphone15.jpg  \n",
            "  inflating: dataset/smartphone/smartphone16.jpg  \n",
            "  inflating: dataset/smartphone/smartphone17.jpg  \n",
            "  inflating: dataset/smartphone/smartphone18.jpg  \n",
            "  inflating: dataset/smartphone/smartphone19.jpg  \n",
            "  inflating: dataset/smartphone/smartphone2.jpg  \n",
            "  inflating: dataset/smartphone/smartphone20.jpg  \n",
            "  inflating: dataset/smartphone/smartphone21.jpg  \n",
            "  inflating: dataset/smartphone/smartphone22.jpg  \n",
            "  inflating: dataset/smartphone/smartphone23.jpg  \n",
            "  inflating: dataset/smartphone/smartphone24.jpg  \n",
            "  inflating: dataset/smartphone/smartphone25.jpg  \n",
            "  inflating: dataset/smartphone/smartphone26.jpg  \n",
            "  inflating: dataset/smartphone/smartphone27.jpg  \n",
            "  inflating: dataset/smartphone/smartphone28.jpg  \n",
            "  inflating: dataset/smartphone/smartphone29.jpg  \n",
            "  inflating: dataset/smartphone/smartphone3.jpg  \n",
            "  inflating: dataset/smartphone/smartphone30.jpg  \n",
            "  inflating: dataset/smartphone/smartphone4.jpg  \n",
            "  inflating: dataset/smartphone/smartphone5.jpg  \n",
            "  inflating: dataset/smartphone/smartphone6.jpg  \n",
            "  inflating: dataset/smartphone/smartphone7.jpg  \n",
            "  inflating: dataset/smartphone/smartphone8.jpg  \n",
            "  inflating: dataset/smartphone/smartphone9.jpg  \n"
          ]
        }
      ]
    },
    {
      "cell_type": "code",
      "metadata": {
        "id": "OR9jVunLm3_1",
        "colab": {
          "base_uri": "https://localhost:8080/"
        },
        "outputId": "e4d27929-5b7f-4aaa-abca-50c8538cfb54"
      },
      "source": [
        "import matplotlib.pyplot as plt\n",
        "import tensorflow as tf\n",
        "import pandas as pd\n",
        "import numpy as np\n",
        "import os\n",
        "\n",
        "dataset_path = os.listdir('dataset')\n",
        "print(dataset_path)\n",
        "\n",
        "print(\"Types of classes labels found: \", len(dataset_path))"
      ],
      "execution_count": 2,
      "outputs": [
        {
          "output_type": "stream",
          "name": "stdout",
          "text": [
            "['pencil', 'car', 'smartphone']\n",
            "Types of classes labels found:  3\n"
          ]
        }
      ]
    },
    {
      "cell_type": "code",
      "metadata": {
        "id": "EiBoMN9MEdS9"
      },
      "source": [
        "class_labels = []\n",
        "\n",
        "for item in dataset_path:\n",
        "  all_classes = os.listdir('dataset' + '/' + item)\n",
        "\n",
        "  # Add into the list\n",
        "  for room in all_classes:\n",
        "    class_labels.append((item, str('dataset_path' + '/' + item) + '/' + room))"
      ],
      "execution_count": 3,
      "outputs": []
    },
    {
      "cell_type": "code",
      "metadata": {
        "colab": {
          "base_uri": "https://localhost:8080/"
        },
        "id": "qKhW9rQ6E2ES",
        "outputId": "c208ae2c-897c-43ee-9fa3-5b87abea4b53"
      },
      "source": [
        "print(class_labels[:5])"
      ],
      "execution_count": 4,
      "outputs": [
        {
          "output_type": "stream",
          "name": "stdout",
          "text": [
            "[('pencil', 'dataset_path/pencil/pencil11.jpg'), ('pencil', 'dataset_path/pencil/pencil16.jpg'), ('pencil', 'dataset_path/pencil/pencil3.jpg'), ('pencil', 'dataset_path/pencil/pencil5.jpg'), ('pencil', 'dataset_path/pencil/pencil4.jpg')]\n"
          ]
        }
      ]
    },
    {
      "cell_type": "code",
      "metadata": {
        "colab": {
          "base_uri": "https://localhost:8080/"
        },
        "id": "6mTxy8mdE4qw",
        "outputId": "53a9bfcb-1352-41c5-9750-f6177f48be98"
      },
      "source": [
        "# Build dataframe\n",
        "df = pd.DataFrame(data = class_labels, columns = ['labels', 'image'])\n",
        "print(df.head())\n",
        "print(df.tail())"
      ],
      "execution_count": 5,
      "outputs": [
        {
          "output_type": "stream",
          "name": "stdout",
          "text": [
            "   labels                             image\n",
            "0  pencil  dataset_path/pencil/pencil11.jpg\n",
            "1  pencil  dataset_path/pencil/pencil16.jpg\n",
            "2  pencil   dataset_path/pencil/pencil3.jpg\n",
            "3  pencil   dataset_path/pencil/pencil5.jpg\n",
            "4  pencil   dataset_path/pencil/pencil4.jpg\n",
            "        labels                                     image\n",
            "85  smartphone  dataset_path/smartphone/smartphone14.jpg\n",
            "86  smartphone  dataset_path/smartphone/smartphone10.jpg\n",
            "87  smartphone   dataset_path/smartphone/smartphone4.jpg\n",
            "88  smartphone   dataset_path/smartphone/smartphone1.jpg\n",
            "89  smartphone  dataset_path/smartphone/smartphone24.jpg\n"
          ]
        }
      ]
    },
    {
      "cell_type": "code",
      "metadata": {
        "colab": {
          "base_uri": "https://localhost:8080/"
        },
        "id": "ohm4uYeJFFRs",
        "outputId": "cfc12e99-b525-4775-e6b7-41e0a7fc1a6e"
      },
      "source": [
        "df.info()"
      ],
      "execution_count": 6,
      "outputs": [
        {
          "output_type": "stream",
          "name": "stdout",
          "text": [
            "<class 'pandas.core.frame.DataFrame'>\n",
            "RangeIndex: 90 entries, 0 to 89\n",
            "Data columns (total 2 columns):\n",
            " #   Column  Non-Null Count  Dtype \n",
            "---  ------  --------------  ----- \n",
            " 0   labels  90 non-null     object\n",
            " 1   image   90 non-null     object\n",
            "dtypes: object(2)\n",
            "memory usage: 1.5+ KB\n"
          ]
        }
      ]
    },
    {
      "cell_type": "code",
      "metadata": {
        "colab": {
          "base_uri": "https://localhost:8080/"
        },
        "id": "GRcLR7ElFMld",
        "outputId": "58038a93-1aa1-40c2-ab99-7648b8665e79"
      },
      "source": [
        "# Check how many samples for each category present\n",
        "print(\"Total number of images: \", len(df))\n",
        "\n",
        "label_count = df['labels'].value_counts()\n",
        "print(label_count)"
      ],
      "execution_count": 7,
      "outputs": [
        {
          "output_type": "stream",
          "name": "stdout",
          "text": [
            "Total number of images:  90\n",
            "pencil        30\n",
            "car           30\n",
            "smartphone    30\n",
            "Name: labels, dtype: int64\n"
          ]
        }
      ]
    },
    {
      "cell_type": "code",
      "metadata": {
        "id": "1u7NUmadFxx8"
      },
      "source": [
        "import cv2\n",
        "path = 'dataset/'\n",
        "dataset_path = os.listdir('dataset')\n",
        "\n",
        "im_size = 224\n",
        "\n",
        "images = []\n",
        "labels = []\n",
        "\n",
        "for i in dataset_path:\n",
        "  data_path = path + str(i)\n",
        "  filenames = [i for i in os.listdir(data_path)]\n",
        "\n",
        "  for f in filenames:\n",
        "    img = cv2.imread(data_path + '/' + f)\n",
        "    img = cv2.resize(img, (im_size, im_size))\n",
        "    images.append(img)\n",
        "    labels.append(i)"
      ],
      "execution_count": 8,
      "outputs": []
    },
    {
      "cell_type": "code",
      "metadata": {
        "colab": {
          "base_uri": "https://localhost:8080/"
        },
        "id": "YetPqEAMGJgt",
        "outputId": "80b42306-afb3-46bd-dbdb-169988c52d4b"
      },
      "source": [
        "# Model take input (224,224,3) and the input with range [0, 255]\n",
        "\n",
        "images = np.array(images)\n",
        "images = images.astype('float32') / 255.0\n",
        "images.shape"
      ],
      "execution_count": 9,
      "outputs": [
        {
          "output_type": "execute_result",
          "data": {
            "text/plain": [
              "(90, 224, 224, 3)"
            ]
          },
          "metadata": {},
          "execution_count": 9
        }
      ]
    },
    {
      "cell_type": "code",
      "metadata": {
        "colab": {
          "base_uri": "https://localhost:8080/"
        },
        "id": "GQ2jQVFDGV1q",
        "outputId": "2f2b440c-2716-4d63-8582-5f351ec270bb"
      },
      "source": [
        "from sklearn.preprocessing import LabelEncoder, OneHotEncoder\n",
        "y = df['labels'].values\n",
        "print(y)\n",
        "\n",
        "y_labelencoder = LabelEncoder()\n",
        "y = y_labelencoder.fit_transform(y)\n",
        "print(y)"
      ],
      "execution_count": 10,
      "outputs": [
        {
          "output_type": "stream",
          "name": "stdout",
          "text": [
            "['pencil' 'pencil' 'pencil' 'pencil' 'pencil' 'pencil' 'pencil' 'pencil'\n",
            " 'pencil' 'pencil' 'pencil' 'pencil' 'pencil' 'pencil' 'pencil' 'pencil'\n",
            " 'pencil' 'pencil' 'pencil' 'pencil' 'pencil' 'pencil' 'pencil' 'pencil'\n",
            " 'pencil' 'pencil' 'pencil' 'pencil' 'pencil' 'pencil' 'car' 'car' 'car'\n",
            " 'car' 'car' 'car' 'car' 'car' 'car' 'car' 'car' 'car' 'car' 'car' 'car'\n",
            " 'car' 'car' 'car' 'car' 'car' 'car' 'car' 'car' 'car' 'car' 'car' 'car'\n",
            " 'car' 'car' 'car' 'smartphone' 'smartphone' 'smartphone' 'smartphone'\n",
            " 'smartphone' 'smartphone' 'smartphone' 'smartphone' 'smartphone'\n",
            " 'smartphone' 'smartphone' 'smartphone' 'smartphone' 'smartphone'\n",
            " 'smartphone' 'smartphone' 'smartphone' 'smartphone' 'smartphone'\n",
            " 'smartphone' 'smartphone' 'smartphone' 'smartphone' 'smartphone'\n",
            " 'smartphone' 'smartphone' 'smartphone' 'smartphone' 'smartphone'\n",
            " 'smartphone']\n",
            "[1 1 1 1 1 1 1 1 1 1 1 1 1 1 1 1 1 1 1 1 1 1 1 1 1 1 1 1 1 1 0 0 0 0 0 0 0\n",
            " 0 0 0 0 0 0 0 0 0 0 0 0 0 0 0 0 0 0 0 0 0 0 0 2 2 2 2 2 2 2 2 2 2 2 2 2 2\n",
            " 2 2 2 2 2 2 2 2 2 2 2 2 2 2 2 2]\n"
          ]
        }
      ]
    },
    {
      "cell_type": "code",
      "metadata": {
        "colab": {
          "base_uri": "https://localhost:8080/"
        },
        "id": "CM6ogNBhGijs",
        "outputId": "8ae0e6bc-281b-4754-9309-e065b8b133cf"
      },
      "source": [
        "y = y.reshape(-1,1)\n",
        "\n",
        "from sklearn.compose import ColumnTransformer\n",
        "ct = ColumnTransformer([('my_ohe', OneHotEncoder(), [0])], remainder='passthrough')\n",
        "Y = ct.fit_transform(y) # Into array() -> .toarray()\n",
        "print(Y[:5])\n",
        "print(Y[35:])"
      ],
      "execution_count": 11,
      "outputs": [
        {
          "output_type": "stream",
          "name": "stdout",
          "text": [
            "[[0. 1. 0.]\n",
            " [0. 1. 0.]\n",
            " [0. 1. 0.]\n",
            " [0. 1. 0.]\n",
            " [0. 1. 0.]]\n",
            "[[1. 0. 0.]\n",
            " [1. 0. 0.]\n",
            " [1. 0. 0.]\n",
            " [1. 0. 0.]\n",
            " [1. 0. 0.]\n",
            " [1. 0. 0.]\n",
            " [1. 0. 0.]\n",
            " [1. 0. 0.]\n",
            " [1. 0. 0.]\n",
            " [1. 0. 0.]\n",
            " [1. 0. 0.]\n",
            " [1. 0. 0.]\n",
            " [1. 0. 0.]\n",
            " [1. 0. 0.]\n",
            " [1. 0. 0.]\n",
            " [1. 0. 0.]\n",
            " [1. 0. 0.]\n",
            " [1. 0. 0.]\n",
            " [1. 0. 0.]\n",
            " [1. 0. 0.]\n",
            " [1. 0. 0.]\n",
            " [1. 0. 0.]\n",
            " [1. 0. 0.]\n",
            " [1. 0. 0.]\n",
            " [1. 0. 0.]\n",
            " [0. 0. 1.]\n",
            " [0. 0. 1.]\n",
            " [0. 0. 1.]\n",
            " [0. 0. 1.]\n",
            " [0. 0. 1.]\n",
            " [0. 0. 1.]\n",
            " [0. 0. 1.]\n",
            " [0. 0. 1.]\n",
            " [0. 0. 1.]\n",
            " [0. 0. 1.]\n",
            " [0. 0. 1.]\n",
            " [0. 0. 1.]\n",
            " [0. 0. 1.]\n",
            " [0. 0. 1.]\n",
            " [0. 0. 1.]\n",
            " [0. 0. 1.]\n",
            " [0. 0. 1.]\n",
            " [0. 0. 1.]\n",
            " [0. 0. 1.]\n",
            " [0. 0. 1.]\n",
            " [0. 0. 1.]\n",
            " [0. 0. 1.]\n",
            " [0. 0. 1.]\n",
            " [0. 0. 1.]\n",
            " [0. 0. 1.]\n",
            " [0. 0. 1.]\n",
            " [0. 0. 1.]\n",
            " [0. 0. 1.]\n",
            " [0. 0. 1.]\n",
            " [0. 0. 1.]]\n"
          ]
        }
      ]
    },
    {
      "cell_type": "code",
      "metadata": {
        "colab": {
          "base_uri": "https://localhost:8080/"
        },
        "id": "EnhTlFxXG8fb",
        "outputId": "bf42637f-539c-4f0f-f270-bcbaea320d70"
      },
      "source": [
        "from sklearn.utils import shuffle\n",
        "from sklearn.model_selection import train_test_split\n",
        "\n",
        "images, Y = shuffle(images, Y, random_state=21)\n",
        "train_X, test_X, train_y, test_y = train_test_split(images, Y, test_size=0.1, random_state=21)\n",
        "\n",
        "# Inspect the shape of the data\n",
        "print(train_X.shape)\n",
        "print(test_X.shape)\n",
        "print(train_y.shape)\n",
        "print(test_y.shape)"
      ],
      "execution_count": 12,
      "outputs": [
        {
          "output_type": "stream",
          "name": "stdout",
          "text": [
            "(81, 224, 224, 3)\n",
            "(9, 224, 224, 3)\n",
            "(81, 3)\n",
            "(9, 3)\n"
          ]
        }
      ]
    },
    {
      "cell_type": "markdown",
      "metadata": {
        "id": "r5ARGkP1Hbsw"
      },
      "source": [
        "## Efficient Implementation"
      ]
    },
    {
      "cell_type": "code",
      "metadata": {
        "id": "iYtb5mJgHYhb"
      },
      "source": [
        "from tensorflow.keras.applications import EfficientNetB0\n",
        "from tensorflow.keras import layers\n",
        "\n",
        "NUM_CLASSES = 3\n",
        "IMG_SIZE = 224\n",
        "size = (IMG_SIZE, IMG_SIZE)\n",
        "\n",
        "inputs = layers.Input(shape=(IMG_SIZE, IMG_SIZE, 3))\n",
        "\n",
        "# Using model without transfer learning\n",
        "outputs = EfficientNetB0(include_top=True, weights=None, classes=NUM_CLASSES)(inputs)"
      ],
      "execution_count": 27,
      "outputs": []
    },
    {
      "cell_type": "code",
      "metadata": {
        "colab": {
          "base_uri": "https://localhost:8080/"
        },
        "id": "48vfSb9TH5ca",
        "outputId": "5937d67b-d9a3-4c0a-9eb5-adeb4fd210ac"
      },
      "source": [
        "model = tf.keras.Model(inputs, outputs)\n",
        "\n",
        "model.compile(optimizer='adam', loss='categorical_crossentropy', metrics=['accuracy'])\n",
        "model.summary()\n",
        "hist = model.fit(train_X, train_y, epochs=30, verbose=2)"
      ],
      "execution_count": 32,
      "outputs": [
        {
          "output_type": "stream",
          "name": "stdout",
          "text": [
            "Model: \"model_1\"\n",
            "_________________________________________________________________\n",
            " Layer (type)                Output Shape              Param #   \n",
            "=================================================================\n",
            " input_3 (InputLayer)        [(None, 224, 224, 3)]     0         \n",
            "                                                                 \n",
            " efficientnetb0 (Functional)  (None, 3)                4053414   \n",
            "                                                                 \n",
            "=================================================================\n",
            "Total params: 4,053,414\n",
            "Trainable params: 4,011,391\n",
            "Non-trainable params: 42,023\n",
            "_________________________________________________________________\n",
            "Epoch 1/30\n",
            "3/3 - 11s - loss: 3.4159 - accuracy: 0.3333 - 11s/epoch - 4s/step\n",
            "Epoch 2/30\n",
            "3/3 - 1s - loss: 5.0850 - accuracy: 0.4815 - 1s/epoch - 433ms/step\n",
            "Epoch 3/30\n",
            "3/3 - 1s - loss: 3.3323 - accuracy: 0.4691 - 1s/epoch - 430ms/step\n",
            "Epoch 4/30\n",
            "3/3 - 1s - loss: 1.7872 - accuracy: 0.5432 - 1s/epoch - 431ms/step\n",
            "Epoch 5/30\n",
            "3/3 - 1s - loss: 2.4183 - accuracy: 0.5802 - 1s/epoch - 432ms/step\n",
            "Epoch 6/30\n",
            "3/3 - 1s - loss: 2.7139 - accuracy: 0.6543 - 1s/epoch - 430ms/step\n",
            "Epoch 7/30\n",
            "3/3 - 1s - loss: 0.9800 - accuracy: 0.6420 - 1s/epoch - 434ms/step\n",
            "Epoch 8/30\n",
            "3/3 - 1s - loss: 1.2596 - accuracy: 0.7284 - 1s/epoch - 436ms/step\n",
            "Epoch 9/30\n",
            "3/3 - 1s - loss: 2.6133 - accuracy: 0.7037 - 1s/epoch - 432ms/step\n",
            "Epoch 10/30\n",
            "3/3 - 1s - loss: 2.6789 - accuracy: 0.6914 - 1s/epoch - 430ms/step\n",
            "Epoch 11/30\n",
            "3/3 - 1s - loss: 2.3238 - accuracy: 0.7654 - 1s/epoch - 432ms/step\n",
            "Epoch 12/30\n",
            "3/3 - 1s - loss: 2.4056 - accuracy: 0.6543 - 1s/epoch - 438ms/step\n",
            "Epoch 13/30\n",
            "3/3 - 1s - loss: 1.0575 - accuracy: 0.7160 - 1s/epoch - 430ms/step\n",
            "Epoch 14/30\n",
            "3/3 - 1s - loss: 1.5563 - accuracy: 0.7284 - 1s/epoch - 432ms/step\n",
            "Epoch 15/30\n",
            "3/3 - 1s - loss: 2.2657 - accuracy: 0.6420 - 1s/epoch - 434ms/step\n",
            "Epoch 16/30\n",
            "3/3 - 1s - loss: 2.5944 - accuracy: 0.7654 - 1s/epoch - 435ms/step\n",
            "Epoch 17/30\n",
            "3/3 - 1s - loss: 2.8073 - accuracy: 0.8272 - 1s/epoch - 434ms/step\n",
            "Epoch 18/30\n",
            "3/3 - 1s - loss: 1.9335 - accuracy: 0.8025 - 1s/epoch - 431ms/step\n",
            "Epoch 19/30\n",
            "3/3 - 1s - loss: 1.2681 - accuracy: 0.7778 - 1s/epoch - 435ms/step\n",
            "Epoch 20/30\n",
            "3/3 - 1s - loss: 1.2662 - accuracy: 0.8395 - 1s/epoch - 433ms/step\n",
            "Epoch 21/30\n",
            "3/3 - 1s - loss: 1.4020 - accuracy: 0.8272 - 1s/epoch - 429ms/step\n",
            "Epoch 22/30\n",
            "3/3 - 1s - loss: 0.3877 - accuracy: 0.8642 - 1s/epoch - 434ms/step\n",
            "Epoch 23/30\n",
            "3/3 - 1s - loss: 0.4503 - accuracy: 0.9259 - 1s/epoch - 432ms/step\n",
            "Epoch 24/30\n",
            "3/3 - 1s - loss: 1.1836 - accuracy: 0.7284 - 1s/epoch - 433ms/step\n",
            "Epoch 25/30\n",
            "3/3 - 1s - loss: 1.6582 - accuracy: 0.7531 - 1s/epoch - 436ms/step\n",
            "Epoch 26/30\n",
            "3/3 - 1s - loss: 1.7055 - accuracy: 0.8025 - 1s/epoch - 431ms/step\n",
            "Epoch 27/30\n",
            "3/3 - 1s - loss: 0.3775 - accuracy: 0.8642 - 1s/epoch - 434ms/step\n",
            "Epoch 28/30\n",
            "3/3 - 1s - loss: 0.8538 - accuracy: 0.8519 - 1s/epoch - 433ms/step\n",
            "Epoch 29/30\n",
            "3/3 - 1s - loss: 0.5856 - accuracy: 0.8519 - 1s/epoch - 431ms/step\n",
            "Epoch 30/30\n",
            "3/3 - 1s - loss: 3.4226 - accuracy: 0.8642 - 1s/epoch - 428ms/step\n"
          ]
        }
      ]
    },
    {
      "cell_type": "code",
      "metadata": {
        "colab": {
          "base_uri": "https://localhost:8080/",
          "height": 294
        },
        "id": "NhCT5gBiIG1D",
        "outputId": "585d475b-553c-41b2-e531-9692c3c20ae8"
      },
      "source": [
        "def plot_hist(hist):\n",
        "  plt.plot(hist.history['accuracy'])\n",
        "  plt.title('model accuracy')\n",
        "  plt.ylabel('accuracy')\n",
        "  plt.xlabel(\"epoch\")\n",
        "  plt.legend(['train', 'validation'], loc='upper left')\n",
        "  plt.show()\n",
        "\n",
        "plot_hist(hist)"
      ],
      "execution_count": 33,
      "outputs": [
        {
          "output_type": "display_data",
          "data": {
            "image/png": "[encoded data removed]",
            "text/plain": [
              "<Figure size 432x288 with 1 Axes>"
            ]
          },
          "metadata": {
            "needs_background": "light"
          }
        }
      ]
    },
    {
      "cell_type": "code",
      "metadata": {
        "colab": {
          "base_uri": "https://localhost:8080/"
        },
        "id": "UJElE6ypJhBW",
        "outputId": "1d981721-e8d0-4442-f79a-5cf0199af668"
      },
      "source": [
        "preds = model.evaluate(test_X, test_y)\n",
        "print('loss: ' + str(preds[0]))\n",
        "print(\"Test Accuracy: \" + str(preds[1]))"
      ],
      "execution_count": 34,
      "outputs": [
        {
          "output_type": "stream",
          "name": "stdout",
          "text": [
            "1/1 [==============================] - 2s 2s/step - loss: 2.1882 - accuracy: 0.4444\n",
            "loss: 2.1881816387176514\n",
            "Test Accuracy: 0.4444444477558136\n"
          ]
        }
      ]
    },
    {
      "cell_type": "markdown",
      "metadata": {
        "id": "SpVDQz5aJtc-"
      },
      "source": [
        "## Testing data into new data"
      ]
    },
    {
      "cell_type": "code",
      "metadata": {
        "id": "8OeMG9ELJrPO"
      },
      "source": [
        "from tensorflow.keras.applications.imagenet_utils import preprocess_input, decode_predictions\n",
        "from tensorflow.keras.preprocessing import image\n",
        "from matplotlib.pyplot import imread, imshow"
      ],
      "execution_count": 17,
      "outputs": []
    },
    {
      "cell_type": "code",
      "metadata": {
        "colab": {
          "base_uri": "https://localhost:8080/",
          "height": 305
        },
        "id": "4F7UVY7-J6u5",
        "outputId": "3b4392fa-4c27-414b-e363-9060103b2e97"
      },
      "source": [
        "img_path = 'apple.jpg'\n",
        "\n",
        "# img = image.load_img(img_path, target_size=(224, 224))\n",
        "# x = img.img_to_array(img)\n",
        "\n",
        "img = cv2.imread(img_path)\n",
        "img = cv2.resize(img, (224, 224))\n",
        "\n",
        "x = np.expand_dims(img, axis=0)\n",
        "x = preprocess_input(x)\n",
        "\n",
        "print(\"Image shape: \", x.shape)\n",
        "\n",
        "my_img = imread(img_path)\n",
        "imshow(my_img)"
      ],
      "execution_count": 18,
      "outputs": [
        {
          "output_type": "stream",
          "name": "stdout",
          "text": [
            "Image shape:  (1, 224, 224, 3)\n"
          ]
        },
        {
          "output_type": "execute_result",
          "data": {
            "text/plain": [
              "<matplotlib.image.AxesImage at 0x7f50e0d5a950>"
            ]
          },
          "metadata": {},
          "execution_count": 18
        },
        {
          "output_type": "display_data",
          "data": {
            "image/png": "[encoded data removed]",
            "text/plain": [
              "<Figure size 432x288 with 1 Axes>"
            ]
          },
          "metadata": {
            "needs_background": "light"
          }
        }
      ]
    },
    {
      "cell_type": "code",
      "metadata": {
        "colab": {
          "base_uri": "https://localhost:8080/"
        },
        "id": "wXZbgBJEKdK4",
        "outputId": "28d358f1-0363-4ed1-abf5-e1c0b24452a7"
      },
      "source": [
        "preds = model.predict(x)\n",
        "preds.round(3)"
      ],
      "execution_count": 19,
      "outputs": [
        {
          "output_type": "execute_result",
          "data": {
            "text/plain": [
              "array([[0.052, 0.077, 0.872]], dtype=float32)"
            ]
          },
          "metadata": {},
          "execution_count": 19
        }
      ]
    },
    {
      "cell_type": "code",
      "metadata": {
        "colab": {
          "base_uri": "https://localhost:8080/"
        },
        "id": "MJX5CEACKiUj",
        "outputId": "42063e50-e047-4cc3-ef5a-3735781d296f"
      },
      "source": [
        "# CUDA and CUDNN is installed for this tensorflow version. So we can see GPU is enabled\n",
        "tf.config.experimental.list_physical_devices()"
      ],
      "execution_count": 20,
      "outputs": [
        {
          "output_type": "execute_result",
          "data": {
            "text/plain": [
              "[PhysicalDevice(name='/physical_device:CPU:0', device_type='CPU'),\n",
              " PhysicalDevice(name='/physical_device:GPU:0', device_type='GPU')]"
            ]
          },
          "metadata": {},
          "execution_count": 20
        }
      ]
    },
    {
      "cell_type": "code",
      "metadata": {
        "colab": {
          "base_uri": "https://localhost:8080/"
        },
        "id": "DcOnYFjBK3AS",
        "outputId": "249054b3-ad21-490a-f298-948a6440d812"
      },
      "source": [
        "%%timeit -n1 -r1\n",
        "with tf.device('/CPU:0'):\n",
        "  cpu_performance = model.fit(train_X, train_y, epochs=30, verbose=2)\n",
        "  cpu_performance"
      ],
      "execution_count": 21,
      "outputs": [
        {
          "output_type": "stream",
          "name": "stdout",
          "text": [
            "Epoch 1/30\n",
            "3/3 - 23s - loss: 0.1938 - accuracy: 0.9012 - 23s/epoch - 8s/step\n",
            "Epoch 2/30\n",
            "3/3 - 20s - loss: 0.8700 - accuracy: 0.9753 - 20s/epoch - 7s/step\n",
            "Epoch 3/30\n",
            "3/3 - 20s - loss: 0.3896 - accuracy: 0.9259 - 20s/epoch - 7s/step\n",
            "Epoch 4/30\n",
            "3/3 - 20s - loss: 0.6172 - accuracy: 0.9506 - 20s/epoch - 7s/step\n",
            "Epoch 5/30\n",
            "3/3 - 20s - loss: 0.5930 - accuracy: 0.9506 - 20s/epoch - 7s/step\n",
            "Epoch 6/30\n",
            "3/3 - 20s - loss: 0.9649 - accuracy: 0.9506 - 20s/epoch - 7s/step\n",
            "Epoch 7/30\n",
            "3/3 - 20s - loss: 1.0967 - accuracy: 0.9259 - 20s/epoch - 7s/step\n",
            "Epoch 8/30\n",
            "3/3 - 20s - loss: 0.6208 - accuracy: 0.9383 - 20s/epoch - 7s/step\n",
            "Epoch 9/30\n",
            "3/3 - 20s - loss: 1.0899 - accuracy: 0.9136 - 20s/epoch - 7s/step\n",
            "Epoch 10/30\n",
            "3/3 - 20s - loss: 1.5734 - accuracy: 0.8395 - 20s/epoch - 7s/step\n",
            "Epoch 11/30\n",
            "3/3 - 20s - loss: 1.2376 - accuracy: 0.9012 - 20s/epoch - 7s/step\n",
            "Epoch 12/30\n",
            "3/3 - 20s - loss: 0.2940 - accuracy: 0.9506 - 20s/epoch - 7s/step\n",
            "Epoch 13/30\n",
            "3/3 - 20s - loss: 0.4682 - accuracy: 0.9136 - 20s/epoch - 7s/step\n",
            "Epoch 14/30\n",
            "3/3 - 20s - loss: 0.7912 - accuracy: 0.8889 - 20s/epoch - 7s/step\n",
            "Epoch 15/30\n",
            "3/3 - 20s - loss: 0.9610 - accuracy: 0.8395 - 20s/epoch - 7s/step\n",
            "Epoch 16/30\n",
            "3/3 - 20s - loss: 0.3755 - accuracy: 0.9259 - 20s/epoch - 7s/step\n",
            "Epoch 17/30\n",
            "3/3 - 20s - loss: 0.3080 - accuracy: 0.9383 - 20s/epoch - 7s/step\n",
            "Epoch 18/30\n",
            "3/3 - 20s - loss: 0.2179 - accuracy: 0.9383 - 20s/epoch - 7s/step\n",
            "Epoch 19/30\n",
            "3/3 - 20s - loss: 0.3173 - accuracy: 0.9259 - 20s/epoch - 7s/step\n",
            "Epoch 20/30\n",
            "3/3 - 20s - loss: 0.4776 - accuracy: 0.9630 - 20s/epoch - 7s/step\n",
            "Epoch 21/30\n",
            "3/3 - 20s - loss: 0.1646 - accuracy: 0.9630 - 20s/epoch - 7s/step\n",
            "Epoch 22/30\n",
            "3/3 - 20s - loss: 0.2984 - accuracy: 0.9012 - 20s/epoch - 7s/step\n",
            "Epoch 23/30\n",
            "3/3 - 20s - loss: 0.5667 - accuracy: 0.9383 - 20s/epoch - 7s/step\n",
            "Epoch 24/30\n",
            "3/3 - 20s - loss: 0.2484 - accuracy: 0.9506 - 20s/epoch - 7s/step\n",
            "Epoch 25/30\n",
            "3/3 - 20s - loss: 0.1305 - accuracy: 0.9383 - 20s/epoch - 7s/step\n",
            "Epoch 26/30\n",
            "3/3 - 20s - loss: 0.7179 - accuracy: 0.9136 - 20s/epoch - 7s/step\n",
            "Epoch 27/30\n",
            "3/3 - 20s - loss: 0.2637 - accuracy: 0.9136 - 20s/epoch - 7s/step\n",
            "Epoch 28/30\n",
            "3/3 - 20s - loss: 0.1051 - accuracy: 0.9630 - 20s/epoch - 7s/step\n",
            "Epoch 29/30\n",
            "3/3 - 20s - loss: 0.1273 - accuracy: 0.9753 - 20s/epoch - 7s/step\n",
            "Epoch 30/30\n",
            "3/3 - 20s - loss: 0.2358 - accuracy: 0.9259 - 20s/epoch - 7s/step\n",
            "1 loop, best of 1: 10min 3s per loop\n"
          ]
        }
      ]
    },
    {
      "cell_type": "code",
      "metadata": {
        "colab": {
          "base_uri": "https://localhost:8080/"
        },
        "id": "zoHzaocpLE3H",
        "outputId": "0fa1e4db-fe0c-49e6-be3b-cf51cbaaec64"
      },
      "source": [
        "%%timeit -n1 -r1\n",
        "with tf.device('/GPU:0'):\n",
        "  gpu_performance = model.fit(train_X, train_y, epochs=30, verbose=2)\n",
        "  gpu_performance"
      ],
      "execution_count": 22,
      "outputs": [
        {
          "output_type": "stream",
          "name": "stdout",
          "text": [
            "Epoch 1/30\n",
            "3/3 - 1s - loss: 0.3041 - accuracy: 0.9383 - 1s/epoch - 486ms/step\n",
            "Epoch 2/30\n",
            "3/3 - 1s - loss: 0.5833 - accuracy: 0.8519 - 1s/epoch - 436ms/step\n",
            "Epoch 3/30\n",
            "3/3 - 1s - loss: 1.3821 - accuracy: 0.8642 - 1s/epoch - 433ms/step\n",
            "Epoch 4/30\n",
            "3/3 - 1s - loss: 0.6316 - accuracy: 0.8519 - 1s/epoch - 437ms/step\n",
            "Epoch 5/30\n",
            "3/3 - 1s - loss: 1.7180 - accuracy: 0.9259 - 1s/epoch - 429ms/step\n",
            "Epoch 6/30\n",
            "3/3 - 1s - loss: 0.6729 - accuracy: 0.8395 - 1s/epoch - 435ms/step\n",
            "Epoch 7/30\n",
            "3/3 - 1s - loss: 0.3783 - accuracy: 0.9012 - 1s/epoch - 432ms/step\n",
            "Epoch 8/30\n",
            "3/3 - 1s - loss: 0.1780 - accuracy: 0.9259 - 1s/epoch - 431ms/step\n",
            "Epoch 9/30\n",
            "3/3 - 1s - loss: 0.6284 - accuracy: 0.9630 - 1s/epoch - 435ms/step\n",
            "Epoch 10/30\n",
            "3/3 - 1s - loss: 0.1541 - accuracy: 0.9383 - 1s/epoch - 429ms/step\n",
            "Epoch 11/30\n",
            "3/3 - 1s - loss: 0.1599 - accuracy: 0.9383 - 1s/epoch - 436ms/step\n",
            "Epoch 12/30\n",
            "3/3 - 1s - loss: 0.1191 - accuracy: 0.9630 - 1s/epoch - 440ms/step\n",
            "Epoch 13/30\n",
            "3/3 - 1s - loss: 0.0474 - accuracy: 1.0000 - 1s/epoch - 434ms/step\n",
            "Epoch 14/30\n",
            "3/3 - 1s - loss: 0.1981 - accuracy: 0.9753 - 1s/epoch - 434ms/step\n",
            "Epoch 15/30\n",
            "3/3 - 1s - loss: 0.1576 - accuracy: 0.9506 - 1s/epoch - 432ms/step\n",
            "Epoch 16/30\n",
            "3/3 - 1s - loss: 0.2411 - accuracy: 0.9506 - 1s/epoch - 426ms/step\n",
            "Epoch 17/30\n",
            "3/3 - 1s - loss: 0.0487 - accuracy: 0.9630 - 1s/epoch - 433ms/step\n",
            "Epoch 18/30\n",
            "3/3 - 1s - loss: 0.0591 - accuracy: 0.9877 - 1s/epoch - 431ms/step\n",
            "Epoch 19/30\n",
            "3/3 - 1s - loss: 0.0380 - accuracy: 0.9877 - 1s/epoch - 429ms/step\n",
            "Epoch 20/30\n",
            "3/3 - 1s - loss: 0.1020 - accuracy: 0.9753 - 1s/epoch - 435ms/step\n",
            "Epoch 21/30\n",
            "3/3 - 1s - loss: 0.0354 - accuracy: 0.9753 - 1s/epoch - 433ms/step\n",
            "Epoch 22/30\n",
            "3/3 - 1s - loss: 0.0024 - accuracy: 1.0000 - 1s/epoch - 433ms/step\n",
            "Epoch 23/30\n",
            "3/3 - 1s - loss: 0.0863 - accuracy: 0.9753 - 1s/epoch - 436ms/step\n",
            "Epoch 24/30\n",
            "3/3 - 1s - loss: 0.0479 - accuracy: 0.9753 - 1s/epoch - 437ms/step\n",
            "Epoch 25/30\n",
            "3/3 - 1s - loss: 0.0198 - accuracy: 0.9877 - 1s/epoch - 434ms/step\n",
            "Epoch 26/30\n",
            "3/3 - 1s - loss: 0.0301 - accuracy: 0.9753 - 1s/epoch - 430ms/step\n",
            "Epoch 27/30\n",
            "3/3 - 1s - loss: 0.0310 - accuracy: 0.9753 - 1s/epoch - 432ms/step\n",
            "Epoch 28/30\n",
            "3/3 - 1s - loss: 0.0256 - accuracy: 0.9877 - 1s/epoch - 431ms/step\n",
            "Epoch 29/30\n",
            "3/3 - 1s - loss: 0.0508 - accuracy: 0.9877 - 1s/epoch - 433ms/step\n",
            "Epoch 30/30\n",
            "3/3 - 1s - loss: 0.0628 - accuracy: 0.9877 - 1s/epoch - 426ms/step\n",
            "1 loop, best of 1: 39.5 s per loop\n"
          ]
        }
      ]
    }
  ]
}